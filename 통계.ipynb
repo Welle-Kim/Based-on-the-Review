{
  "nbformat": 4,
  "nbformat_minor": 0,
  "metadata": {
    "colab": {
      "provenance": [],
      "authorship_tag": "ABX9TyNXDDZWA0s5yJ9qZIM8kYUH",
      "include_colab_link": true
    },
    "kernelspec": {
      "name": "python3",
      "display_name": "Python 3"
    },
    "language_info": {
      "name": "python"
    }
  },
  "cells": [
    {
      "cell_type": "markdown",
      "metadata": {
        "id": "view-in-github",
        "colab_type": "text"
      },
      "source": [
        "<a href=\"https://colab.research.google.com/github/Welle-Kim/Based-on-the-Review/blob/master/%ED%86%B5%EA%B3%84.ipynb\" target=\"_parent\"><img src=\"https://colab.research.google.com/assets/colab-badge.svg\" alt=\"Open In Colab\"/></a>"
      ]
    },
    {
      "cell_type": "code",
      "execution_count": null,
      "metadata": {
        "colab": {
          "base_uri": "https://localhost:8080/"
        },
        "id": "JkY_neUXbsOM",
        "outputId": "eda64f5d-3538-47fc-ddd6-3f2095025885"
      },
      "outputs": [
        {
          "output_type": "stream",
          "name": "stdout",
          "text": [
            "      weight\n",
            "0  14.350632\n",
            "1  14.323534\n",
            "2  14.955139\n",
            "15.03196778256587\n",
            "Ttest_1sampResult(statistic=0.6461573171531722, pvalue=0.5192908627711725)\n",
            "   pos_date  pos_hour   date_hour shop_nm  sales_amt prom_yn\n",
            "0  20170601        10  2017060110       B      330.0       N\n",
            "1  20170602        13  2017060213       A      992.0       N\n",
            "2  20170602        22  2017060222       A     1213.0       N\n",
            "N    317\n",
            "Y     79\n",
            "Name: prom_yn, dtype: int64\n",
            "BartlettResult(statistic=0.3505843659785136, pvalue=0.5537825209464317)\n",
            "Ttest_indResult(statistic=2.0298638294827196, pvalue=0.04304185346100201)\n"
          ]
        }
      ],
      "source": [
        "import pandas as pd\n",
        "import warnings\n",
        "warnings.filterwarnings(\"ignore\")\n",
        "\n",
        "\n",
        "#######one sample t-test########\n",
        "src_path = 'https://codepresso-online-platform-public.s3.ap-northeast-2.amazonaws.com/learning-resourse/python_da/mobile_weight.csv'\n",
        "df = pd.read_csv(src_path, sep=',')\n",
        "\n",
        "print(df.head(3))\n",
        "\n",
        "\n",
        "\n",
        "from scipy import stats\n",
        "import numpy as np\n",
        "\n",
        "#A모델의 중량 평균\n",
        "print(df['weight'].mean())\n",
        "\n",
        "#일표본 t-검정\n",
        "E_H0 = 15 #귀무가설 기대값\n",
        "print(stats.ttest_1samp(df['weight'], E_H0))\n",
        "\n",
        "\n",
        "\n",
        "#######two sample t-test########\n",
        "src_path = 'https://codepresso-online-platform-public.s3.ap-northeast-2.amazonaws.com/learning-resourse/python_da/shop_ab_sales.csv'\n",
        "df = pd.read_csv(src_path, sep=',')\n",
        "\n",
        "print(df.head(3))\n",
        "\n",
        "sample_df = df.loc[df['shop_nm']=='A']\n",
        "print(sample_df['prom_yn'].value_counts())\n",
        "\n",
        "#프로모션진행 전과 후 데이터셋으로 분할하기\n",
        "prom_Y = sample_df.loc[df['prom_yn']=='Y']\n",
        "prom_N = sample_df.loc[df['prom_yn']=='N']\n",
        "\n",
        "\n",
        "#등분산 검정을 수행하는 함수가 array type의 param을 가지기 때문에 type casting\n",
        "#프로모션을 진행 전과 후에 대한 평균매출액(sales_amt)에 대한 타입변환을 수행합니다.\n",
        "np_arr_prom_Y = np.array(prom_Y['sales_amt'])\n",
        "np_arr_prom_N = np.array(prom_N['sales_amt'])\n",
        "\n",
        "\n",
        "#등분산 검정 ==> statistic : F-value\n",
        "print(stats.bartlett(np_arr_prom_Y, np_arr_prom_N))\n",
        "\n",
        "'''\n",
        "등분산 검정 결과를 통해 독립표본 t-검정 실행\n",
        "eqaul_var : True(분산이 같을 때), False(분산이 틀릴 때)\n",
        "'''\n",
        "print(stats.ttest_ind(np_arr_prom_Y, np_arr_prom_N, equal_var=True))"
      ]
    },
    {
      "cell_type": "code",
      "source": [
        "import pandas as pd\n",
        "import matplotlib.pyplot as plt\n",
        "import seaborn as sns\n",
        "\n",
        "import warnings\n",
        "warnings.filterwarnings(\"ignore\")\n",
        "\n",
        "src_path = 'https://codepresso-online-platform-public.s3.ap-northeast-2.amazonaws.com/learning-resourse/python_da/energy_weather.csv'\n",
        "df = pd.read_csv(src_path, sep=',')\n",
        "\n",
        "print(df.head(3))\n",
        "\n",
        "\n",
        "fig = plt.figure(figsize=(6,6))\n",
        "ax = fig.gca()\n",
        "sns.scatterplot('temperature', 'supply', data=df, ax=ax)\n",
        "plt.show()\n"
      ],
      "metadata": {
        "id": "mgkYdVyYdcPv"
      },
      "execution_count": null,
      "outputs": []
    }
  ]
}