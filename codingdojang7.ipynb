{
  "nbformat": 4,
  "nbformat_minor": 0,
  "metadata": {
    "colab": {
      "provenance": [],
      "authorship_tag": "ABX9TyP5yvUx/ulUAW3tcC+lW9x+",
      "include_colab_link": true
    },
    "kernelspec": {
      "name": "python3",
      "display_name": "Python 3"
    },
    "language_info": {
      "name": "python"
    }
  },
  "cells": [
    {
      "cell_type": "markdown",
      "metadata": {
        "id": "view-in-github",
        "colab_type": "text"
      },
      "source": [
        "<a href=\"https://colab.research.google.com/github/Welle-Kim/Based-on-the-Review/blob/master/codingdojang7.ipynb\" target=\"_parent\"><img src=\"https://colab.research.google.com/assets/colab-badge.svg\" alt=\"Open In Colab\"/></a>"
      ]
    },
    {
      "cell_type": "code",
      "execution_count": null,
      "metadata": {
        "colab": {
          "base_uri": "https://localhost:8080/"
        },
        "id": "h5YNImh-FekH",
        "outputId": "afa5e05f-1c1e-4c21-df09-8eb4f678dd7b"
      },
      "outputs": [
        {
          "output_type": "stream",
          "name": "stdout",
          "text": [
            "55\n",
            "5050\n"
          ]
        }
      ],
      "source": [
        "def accumulate():\n",
        "    total = 0\n",
        "    while True:\n",
        "        x = (yield)         # 코루틴 바깥에서 값을 받아옴\n",
        "        if x is None:       # 받아온 값이 None이면\n",
        "            return total    # 합계 total을 반환\n",
        "        total += x\n",
        " \n",
        "def sum_coroutine():\n",
        "    while True:\n",
        "        total = yield from accumulate()    # accumulate의 반환값을 가져옴\n",
        "        print(total)\n",
        " \n",
        "co = sum_coroutine()\n",
        "next(co)\n",
        " \n",
        "for i in range(1, 11):    # 1부터 10까지 반복\n",
        "    co.send(i)            # 코루틴 accumulate에 숫자를 보냄\n",
        "co.send(None)             # 코루틴 accumulate에 None을 보내서 숫자 누적을 끝냄\n",
        " \n",
        "for i in range(1, 101):   # 1부터 100까지 반복\n",
        "    co.send(i)            # 코루틴 accumulate에 숫자를 보냄\n",
        "co.send(None)             # 코루틴 accumulate에 None을 보내서 숫자 누적을 끝냄"
      ]
    },
    {
      "cell_type": "code",
      "source": [
        "def accumulate():\n",
        "    total = 0\n",
        "    while True:\n",
        "        x = (yield)         # 코루틴 바깥에서 값을 받아옴\n",
        "        if x is None:       # 받아온 값이 None이면\n",
        "            return total    # 합계 total을 반환\n",
        "        total += x\n",
        " \n",
        "def sum_coroutine():\n",
        "    while True:\n",
        "        total = yield from accumulate()    # accumulate의 반환값을 가져옴\n",
        "        print(total)\n",
        " \n",
        "co = sum_coroutine()\n",
        "next(co)\n",
        " \n",
        "for i in range(1, 11):    # 1부터 10까지 반복\n",
        "    co.send(i)            # 코루틴 accumulate에 숫자를 보냄\n",
        "co.send(None)             # 코루틴 accumulate에 None을 보내서 숫자 누적을 끝냄\n",
        " \n",
        "for i in range(1, 101):   # 1부터 100까지 반복\n",
        "    co.send(i)            # 코루틴 accumulate에 숫자를 보냄\n",
        "co.send(None)             # 코루틴 accumulate에 None을 보내서 숫자 누적을 끝냄"
      ],
      "metadata": {
        "id": "eU9w17RGQd4S"
      },
      "execution_count": null,
      "outputs": []
    },
    {
      "cell_type": "markdown",
      "source": [
        "\n",
        "```\n",
        "class Calc:\n",
        "    @staticmethod    # 데코레이터\n",
        "    def add(a, b):\n",
        "        print(a + b)\n",
        "```\n",
        "\n"
      ],
      "metadata": {
        "id": "AK4dFFtZUEy9"
      }
    }
  ]
}