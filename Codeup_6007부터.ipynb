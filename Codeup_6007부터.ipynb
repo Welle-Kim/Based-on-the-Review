{
  "nbformat": 4,
  "nbformat_minor": 0,
  "metadata": {
    "colab": {
      "provenance": [],
      "authorship_tag": "ABX9TyOoE8Df/gYYi+cMNfCnK1c5",
      "include_colab_link": true
    },
    "kernelspec": {
      "name": "python3",
      "display_name": "Python 3"
    },
    "language_info": {
      "name": "python"
    }
  },
  "cells": [
    {
      "cell_type": "markdown",
      "metadata": {
        "id": "view-in-github",
        "colab_type": "text"
      },
      "source": [
        "<a href=\"https://colab.research.google.com/github/Welle-Kim/Based-on-the-Review/blob/master/Codeup_6007%EB%B6%80%ED%84%B0.ipynb\" target=\"_parent\"><img src=\"https://colab.research.google.com/assets/colab-badge.svg\" alt=\"Open In Colab\"/></a>"
      ]
    },
    {
      "cell_type": "markdown",
      "source": [
        "본 문제는 python 의 빠른 기초 학습을 위해 설계된 문제로서 python 코드 제출을 기준으로 설명되어 있습니다. \n",
        "\n",
        "------\n",
        "\n",
        "윈도우 운영체제의 파일 경로를 출력하는 연습을 해보자.\n",
        " \n",
        "파일 경로에는 특수문자들이 포함된다.\n",
        "\n",
        "다음 경로를 출력하시오.\n",
        "\n",
        "\"C:\\Download\\'hello'.py\"\n",
        "(단, 따옴표도 함께 출력한다.)\n",
        "\n",
        " \n",
        "\n",
        "\\도 안전하게 출력하려면 \\\\를 사용하는 것이 좋다.\n",
        "\n",
        "\n",
        "** 주의 : 본 화면에서 복사하여 붙여넣기하면 제대로 되지 않을 수 있으니 직접 작성해야한다."
      ],
      "metadata": {
        "id": "eKF9ZalRyjCi"
      }
    },
    {
      "cell_type": "code",
      "execution_count": 2,
      "metadata": {
        "colab": {
          "base_uri": "https://localhost:8080/"
        },
        "id": "ZI_n4bjcyd8i",
        "outputId": "0eb93e44-291e-45bc-9266-bbcc61dcf180"
      },
      "outputs": [
        {
          "output_type": "stream",
          "name": "stdout",
          "text": [
            "\"C:\\Download\\'hello'.py\"\n"
          ]
        }
      ],
      "source": [
        "print('\"C:\\\\Download\\\\\\'hello\\'.py\"')\n",
        "# print() 안을 ''로 묶어주고 코드 안에 (작은따옴표)와 \\(백슬레쉬)가 나오는 부분 앞에서만 \\를 한번씩 더 추가해준다."
      ]
    }
  ]
}