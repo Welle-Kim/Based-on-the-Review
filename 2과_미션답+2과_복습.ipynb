{
  "nbformat": 4,
  "nbformat_minor": 0,
  "metadata": {
    "colab": {
      "name": "2과 미션답+2과 복습.ipynb",
      "provenance": [],
      "authorship_tag": "ABX9TyNlO+17gl1KOon4M+UYcmJ1",
      "include_colab_link": true
    },
    "kernelspec": {
      "name": "python3",
      "display_name": "Python 3"
    },
    "language_info": {
      "name": "python"
    }
  },
  "cells": [
    {
      "cell_type": "markdown",
      "metadata": {
        "id": "view-in-github",
        "colab_type": "text"
      },
      "source": [
        "<a href=\"https://colab.research.google.com/github/Welle-Kim/Based-on-the-Review/blob/master/2%EA%B3%BC_%EB%AF%B8%EC%85%98%EB%8B%B5%2B2%EA%B3%BC_%EB%B3%B5%EC%8A%B5.ipynb\" target=\"_parent\"><img src=\"https://colab.research.google.com/assets/colab-badge.svg\" alt=\"Open In Colab\"/></a>"
      ]
    },
    {
      "cell_type": "code",
      "execution_count": null,
      "metadata": {
        "colab": {
          "base_uri": "https://localhost:8080/"
        },
        "id": "aA04Hk4ILJzs",
        "outputId": "bbd38c70-7062-48f0-c010-cf2a3e7627e3"
      },
      "outputs": [
        {
          "output_type": "stream",
          "name": "stdout",
          "text": [
            "노\n",
            "노트\n",
            "노트북\n",
            "모\n",
            "모니\n",
            "모니터\n",
            "키\n",
            "키보\n",
            "키보드\n",
            "['노트북', '모니터', '키보드']\n"
          ]
        }
      ],
      "source": [
        "pumMok='노트북/모니터/키보드'\n",
        "\n",
        "txt=[];tmp=\"\"\n",
        "\n",
        "for t in pumMok:\n",
        "    if t == \"/\":\n",
        "        txt.append(tmp)\n",
        "        tmp=\"\"\n",
        "    else:\n",
        "        tmp = tmp + t\n",
        "        print(tmp)\n",
        "        \n",
        "if t != \"/\": \n",
        "    txt.append(tmp)\n",
        "\n",
        "print(txt)"
      ]
    },
    {
      "cell_type": "code",
      "source": [
        "txt=pumMok.split(\"/\")\n",
        "print(txt)"
      ],
      "metadata": {
        "colab": {
          "base_uri": "https://localhost:8080/"
        },
        "id": "PsdnLHqRLctQ",
        "outputId": "46a8b785-7c7a-406f-80ba-72613b06a5eb"
      },
      "execution_count": null,
      "outputs": [
        {
          "output_type": "stream",
          "name": "stdout",
          "text": [
            "['노트북', '모니터', '키보드']\n"
          ]
        }
      ]
    },
    {
      "cell_type": "code",
      "source": [
        "pumMok=['노트북/모니터/키보드',\n",
        "        '키보드/볼펜',\n",
        "        '사인펜/노트/usb/형광펜']\n",
        "\n",
        "txt=[]\n",
        "\n",
        "for pm in pumMok:\n",
        "    tmp=\"\"\n",
        "    for t in pm:\n",
        "        if t == \"/\":\n",
        "            txt.append(tmp)\n",
        "            tmp=\"\"\n",
        "        else:\n",
        "            tmp += t\n",
        "\n",
        "    if t != \"/\": \n",
        "        txt.append(tmp)\n",
        "\n",
        "print(txt)\n",
        "\n",
        "   "
      ],
      "metadata": {
        "colab": {
          "base_uri": "https://localhost:8080/"
        },
        "id": "wfyv9dZMNFlY",
        "outputId": "fb5ec1fc-1fd8-4e6d-c579-920e6c598cfe"
      },
      "execution_count": null,
      "outputs": [
        {
          "output_type": "stream",
          "name": "stdout",
          "text": [
            "['노트북', '모니터', '키보드', '키보드', '볼펜', '사인펜', '노트', 'usb', '형광펜']\n"
          ]
        }
      ]
    },
    {
      "cell_type": "code",
      "source": [
        "txt=[]\n",
        "\n",
        "for pm in pumMok:\n",
        "    txt += pm.split(\"/\")\n",
        "\n",
        "print(txt)"
      ],
      "metadata": {
        "colab": {
          "base_uri": "https://localhost:8080/"
        },
        "id": "XT3mYtlrNI9c",
        "outputId": "64907a4e-27e3-4c3b-c5a5-43b824ff5365"
      },
      "execution_count": null,
      "outputs": [
        {
          "output_type": "stream",
          "name": "stdout",
          "text": [
            "['노트북', '모니터', '키보드', '키보드', '볼펜', '사인펜', '노트', 'usb', '형광펜']\n"
          ]
        }
      ]
    },
    {
      "cell_type": "code",
      "source": [
        "####### 미션\n",
        "######  for를 이용하여 문자열을 나누고 txt에 append\n",
        "#########################################\n",
        "\n",
        "# 아래내용은 이중 for로 작업해야함.\n",
        "# 최종결과물은\n",
        "# txt=['노트북,모니터,키보드,키보드,볼펜,사인펜,노트',\n",
        "#      '키보드,전자칠판,스케치북,노트북']\n",
        "\n",
        "pumMok=[['노트북/모니터/키보드','키보드/볼펜','사인펜/노트'],\n",
        "        ['키보드/전자칠판','스케치북/노트북']]\n",
        "\n",
        "txt=[]\n",
        "\n",
        "for pmlst in pumMok:\n",
        "    for pmtxt in pmlst:\n",
        "        tmp=\"\"\n",
        "        for t in pmtxt:\n",
        "            if t == \"/\":\n",
        "                txt.append(tmp)\n",
        "                tmp=\"\"\n",
        "            else:\n",
        "                tmp += t\n",
        "        if t != \"/\": \n",
        "            txt.append(tmp)\n",
        "\n",
        "print(txt)\n"
      ],
      "metadata": {
        "colab": {
          "base_uri": "https://localhost:8080/"
        },
        "id": "pHt4eKJDNUf2",
        "outputId": "a2841257-b187-4e8e-8348-015554285207"
      },
      "execution_count": null,
      "outputs": [
        {
          "output_type": "stream",
          "name": "stdout",
          "text": [
            "['노트북', '모니터', '키보드', '키보드', '볼펜', '사인펜', '노트', '키보드', '전자칠판', '스케치북', '노트북']\n"
          ]
        }
      ]
    },
    {
      "cell_type": "code",
      "source": [
        "txt=[]\n",
        "for pmlst in pumMok:\n",
        "    for pmtxt in pmlst:\n",
        "        txt += pmtxt.split(\"/\")\n",
        "\n",
        "print(txt)"
      ],
      "metadata": {
        "colab": {
          "base_uri": "https://localhost:8080/"
        },
        "id": "lmcAUPlyN2r3",
        "outputId": "07323dab-be04-4c7f-db1c-e670f25271bc"
      },
      "execution_count": null,
      "outputs": [
        {
          "output_type": "stream",
          "name": "stdout",
          "text": [
            "['노트북', '모니터', '키보드', '키보드', '볼펜', '사인펜', '노트', '키보드', '전자칠판', '스케치북', '노트북']\n"
          ]
        }
      ]
    },
    {
      "cell_type": "code",
      "source": [
        "# os 모듈 연결\n",
        "from unicodedata import normalize  # 한글 자음/모음 나누어지는 현상 처리 모듈\n",
        "import os\n",
        "\n",
        "fnames=os.listdir(\"./\")\n",
        "fnames"
      ],
      "metadata": {
        "colab": {
          "base_uri": "https://localhost:8080/"
        },
        "id": "5ed59W8_N3O1",
        "outputId": "f8706020-503e-4d7f-aac1-69b05a75d6f4"
      },
      "execution_count": 94,
      "outputs": [
        {
          "output_type": "execute_result",
          "data": {
            "text/plain": [
              "['dog1.jpg',\n",
              " 'dog9.jpg',\n",
              " 'dog4.jpg',\n",
              " 'dog2.jpg',\n",
              " 'dog10.jpg',\n",
              " 'dog7.jpg',\n",
              " 'dog6.jpg',\n",
              " 'dog5.jpg',\n",
              " 'dog3.jpg',\n",
              " 'dog8.jpg']"
            ]
          },
          "metadata": {},
          "execution_count": 94
        }
      ]
    },
    {
      "cell_type": "code",
      "source": [
        "print(fnames[0][:3])\n",
        "print(normalize('NFC', fnames[0])[:3])"
      ],
      "metadata": {
        "colab": {
          "base_uri": "https://localhost:8080/"
        },
        "id": "OmM8dPbnPLsh",
        "outputId": "c7e5c06f-7d55-46ea-e97c-8007fba0e18a"
      },
      "execution_count": 95,
      "outputs": [
        {
          "output_type": "stream",
          "name": "stdout",
          "text": [
            "dog\n",
            "dog\n"
          ]
        }
      ]
    },
    {
      "cell_type": "code",
      "source": [
        "from unicodedata import normalize\n",
        "import os\n",
        "\n",
        "fnames=os.listdir(\"./\")\n",
        "new_fnames=[]\n",
        "\n",
        "for fname in fnames:\n",
        "    new_fnames.append(normalize('NFC', fname))\n",
        "\n",
        "print(new_fnames)"
      ],
      "metadata": {
        "colab": {
          "base_uri": "https://localhost:8080/"
        },
        "id": "OLSbSCoJPNzs",
        "outputId": "bc928373-592d-45a3-b3b7-968e1876c722"
      },
      "execution_count": 96,
      "outputs": [
        {
          "output_type": "stream",
          "name": "stdout",
          "text": [
            "['dog1.jpg', 'dog9.jpg', 'dog4.jpg', 'dog2.jpg', 'dog10.jpg', 'dog7.jpg', 'dog6.jpg', 'dog5.jpg', 'dog3.jpg', 'dog8.jpg']\n"
          ]
        }
      ]
    },
    {
      "cell_type": "code",
      "source": [
        "print(new_fnames[0][:3])"
      ],
      "metadata": {
        "colab": {
          "base_uri": "https://localhost:8080/"
        },
        "id": "0RmZektdPPOM",
        "outputId": "b364f612-3640-4e3c-a217-323258efc98e"
      },
      "execution_count": 97,
      "outputs": [
        {
          "output_type": "stream",
          "name": "stdout",
          "text": [
            "dog\n"
          ]
        }
      ]
    },
    {
      "cell_type": "code",
      "source": [
        "pwd!"
      ],
      "metadata": {
        "colab": {
          "base_uri": "https://localhost:8080/",
          "height": 36
        },
        "id": "AT2LbcsOcPZj",
        "outputId": "524e3fb5-9a6c-4d5e-c450-82a671cf559d"
      },
      "execution_count": 98,
      "outputs": [
        {
          "output_type": "execute_result",
          "data": {
            "text/plain": [
              "'/content/dog1'"
            ],
            "application/vnd.google.colaboratory.intrinsic+json": {
              "type": "string"
            }
          },
          "metadata": {},
          "execution_count": 98
        }
      ]
    },
    {
      "cell_type": "code",
      "source": [
        "cd /content/dog1"
      ],
      "metadata": {
        "colab": {
          "base_uri": "https://localhost:8080/"
        },
        "id": "o1xHjDp0gHYL",
        "outputId": "0d736132-13e7-4de3-ef12-c5033305108e"
      },
      "execution_count": 99,
      "outputs": [
        {
          "output_type": "stream",
          "name": "stdout",
          "text": [
            "/content/dog1\n"
          ]
        }
      ]
    },
    {
      "cell_type": "code",
      "source": [
        "# 데이터 읽어와 정보 저장하기\n",
        "from PIL import Image\n",
        "import pandas as pd\n",
        "\n",
        "imgInfo=[]  # 파일 정보 저장 리스트 변수 생성\n",
        "\n",
        "for fname in new_fnames:\n",
        "    print(\"./\"+fname)\n",
        "    tmp=Image.open(\"./\"+'dog1.jpg')\n",
        "    tmpsize=tmp.size   # 이미지 사이즈 튜플 형식으로 저장\n",
        "    # 파일정보 변수에 저장\n",
        "    imgInfo.append([fname, tmpsize[0], tmpsize[1]])\n",
        "\n",
        "    # 강아지/고양이 사이즈 변경(강아지_300*300, 고양이_250*250)\n",
        "    if fname[:3] == \"dog\":\n",
        "        tmpResize=tmp.resize((300,300))\n",
        "    else:\n",
        "        tmpResize=tmp.resize((250,250))\n",
        "\n",
        "    # 변경 이미지 저장\n",
        "    tmpResize.save(\"./a\"+fname) \n",
        "\n",
        "# print(imgInfo)\n",
        "# print()\n",
        "# print(\"=== END ===\")\n",
        "\n",
        "# df1=pd.DataFrame(imgInfo, columns=[\"파일명\", \"가로\", \"세로\"])\n",
        "# df1"
      ],
      "metadata": {
        "colab": {
          "base_uri": "https://localhost:8080/"
        },
        "id": "130c1FrhPRsN",
        "outputId": "db72c7dd-38be-439b-aa91-41d79d69b9c5"
      },
      "execution_count": 104,
      "outputs": [
        {
          "output_type": "stream",
          "name": "stdout",
          "text": [
            "./dog1.jpg\n",
            "./dog9.jpg\n",
            "./dog4.jpg\n",
            "./dog2.jpg\n",
            "./dog10.jpg\n",
            "./dog7.jpg\n",
            "./dog6.jpg\n",
            "./dog5.jpg\n",
            "./dog3.jpg\n",
            "./dog8.jpg\n"
          ]
        }
      ]
    },
    {
      "cell_type": "code",
      "source": [
        ""
      ],
      "metadata": {
        "id": "_2tm0yjhbUGn"
      },
      "execution_count": null,
      "outputs": []
    }
  ]
}