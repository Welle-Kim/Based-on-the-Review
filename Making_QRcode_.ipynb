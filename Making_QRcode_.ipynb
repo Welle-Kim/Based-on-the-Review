{
  "nbformat": 4,
  "nbformat_minor": 0,
  "metadata": {
    "colab": {
      "name": "Making QRcode .ipynb",
      "provenance": [],
      "collapsed_sections": [],
      "authorship_tag": "ABX9TyMfrLkgQb3wwQESaDoGhei5",
      "include_colab_link": true
    },
    "kernelspec": {
      "name": "python3",
      "display_name": "Python 3"
    },
    "language_info": {
      "name": "python"
    }
  },
  "cells": [
    {
      "cell_type": "markdown",
      "metadata": {
        "id": "view-in-github",
        "colab_type": "text"
      },
      "source": [
        "<a href=\"https://colab.research.google.com/github/Welle-Kim/Based-on-the-Review/blob/master/Making_QRcode_.ipynb\" target=\"_parent\"><img src=\"https://colab.research.google.com/assets/colab-badge.svg\" alt=\"Open In Colab\"/></a>"
      ]
    },
    {
      "cell_type": "code",
      "execution_count": 1,
      "metadata": {
        "colab": {
          "base_uri": "https://localhost:8080/"
        },
        "id": "OYrWeUXy98bn",
        "outputId": "4ba0bc61-4494-4159-d2f3-602566977a9a"
      },
      "outputs": [
        {
          "output_type": "stream",
          "name": "stdout",
          "text": [
            "Looking in indexes: https://pypi.org/simple, https://us-python.pkg.dev/colab-wheels/public/simple/\n",
            "Collecting qrcode\n",
            "  Downloading qrcode-7.3.1.tar.gz (43 kB)\n",
            "\u001b[K     |████████████████████████████████| 43 kB 783 kB/s \n",
            "\u001b[?25hBuilding wheels for collected packages: qrcode\n",
            "  Building wheel for qrcode (setup.py) ... \u001b[?25l\u001b[?25hdone\n",
            "  Created wheel for qrcode: filename=qrcode-7.3.1-py3-none-any.whl size=40402 sha256=7da33f1d1031f27e1daeee3f6b8fa5612417e843ab5d6f5e9547391ca700cb88\n",
            "  Stored in directory: /root/.cache/pip/wheels/93/d7/39/a4111be2cfb8e679938aa671a37888b6afb1f9e7d748e94492\n",
            "Successfully built qrcode\n",
            "Installing collected packages: qrcode\n",
            "Successfully installed qrcode-7.3.1\n"
          ]
        }
      ],
      "source": [
        "!pip install qrcode"
      ]
    },
    {
      "cell_type": "code",
      "source": [
        "import qrcode \n",
        "\n",
        "qr_data=\"www.naver.com\"\n",
        "qr_img=qrcode.make(qr_data)\n",
        "\n",
        "qr_img.save(\"./qr_naver.png\")\n",
        "\n",
        "print(type(qr_img))\n",
        "print(qr_img.size)"
      ],
      "metadata": {
        "colab": {
          "base_uri": "https://localhost:8080/"
        },
        "id": "rBBSufif-KDs",
        "outputId": "da423b83-fb88-4aec-a957-fb2b1aa84dc1"
      },
      "execution_count": 2,
      "outputs": [
        {
          "output_type": "stream",
          "name": "stdout",
          "text": [
            "<class 'qrcode.image.pil.PilImage'>\n",
            "(290, 290)\n"
          ]
        }
      ]
    },
    {
      "cell_type": "code",
      "source": [
        "#qr_사이트.txt 파일 읽어오기\n",
        "\n",
        "f=open(\"./QR_사이트.txt\",\"r\")\n",
        "print(f)\n",
        "f.close()"
      ],
      "metadata": {
        "colab": {
          "base_uri": "https://localhost:8080/"
        },
        "id": "nrpgoRFN-z3r",
        "outputId": "82d1fd01-de7c-4000-8621-f44e334b1ccd"
      },
      "execution_count": 3,
      "outputs": [
        {
          "output_type": "stream",
          "name": "stdout",
          "text": [
            "<_io.TextIOWrapper name='./QR_사이트.txt' mode='r' encoding='UTF-8'>\n"
          ]
        }
      ]
    },
    {
      "cell_type": "markdown",
      "source": [
        "### read(): 하나의 문자열로 읽어오기\n",
        "### readline(): 한줄만 읽어오기\n",
        "### readlines(): 전체를 줄단위로 읽어오기"
      ],
      "metadata": {
        "id": "l9dEzx3D_jWA"
      }
    },
    {
      "cell_type": "code",
      "source": [
        "##read()\n",
        "f=open(\"./QR_사이트.txt\",\"r\")\n",
        "\n",
        "txt=f.read()\n",
        "print(txt)\n",
        "print(\"===================\")\n",
        "print(txt[:20])\n",
        "\n",
        "f.close() #파일닫기"
      ],
      "metadata": {
        "colab": {
          "base_uri": "https://localhost:8080/"
        },
        "id": "SVhYnE-e_gre",
        "outputId": "4cac92e6-d92e-4989-c8e2-c41b8d5cffd6"
      },
      "execution_count": 7,
      "outputs": [
        {
          "output_type": "stream",
          "name": "stdout",
          "text": [
            "www.naver.com\n",
            "www.google.com\n",
            "www.daum.net\n",
            "www.nate.com\n",
            "===================\n",
            "www.naver.com\n",
            "www.go\n"
          ]
        }
      ]
    },
    {
      "cell_type": "code",
      "source": [
        "#readline()\n",
        "f=open(\"./QR_사이트.txt\",\"r\")\n",
        "txt=f.readline()\n",
        "print(txt)\n",
        "txt=f.readline()\n",
        "print(txt)\n",
        "\n",
        "f.close() #파일 닫기\n",
        "print(\"=================\")\n",
        "\n",
        "f=open(\"./QR_사이트.txt\",\"r\")\n",
        "\n",
        "while True:\n",
        "  txt=f.readline()\n",
        "  if not txt:\n",
        "    break\n",
        "    print(txt)\n",
        "\n",
        "f.close()"
      ],
      "metadata": {
        "colab": {
          "base_uri": "https://localhost:8080/"
        },
        "id": "JZdi0dlZAWY7",
        "outputId": "ec97a2c7-17e3-46c1-b3bf-58ccba718f9d"
      },
      "execution_count": 12,
      "outputs": [
        {
          "output_type": "stream",
          "name": "stdout",
          "text": [
            "www.naver.com\n",
            "\n",
            "www.google.com\n",
            "\n",
            "=================\n"
          ]
        }
      ]
    },
    {
      "cell_type": "code",
      "source": [
        "## readlines()\n",
        "f=open(\"./QR_사이트.txt\",\"r\")\n",
        "\n",
        "txt=f.readlines()\n",
        "print(txt)\n",
        "\n",
        "f.close()"
      ],
      "metadata": {
        "colab": {
          "base_uri": "https://localhost:8080/"
        },
        "id": "JQtI99BKAvCp",
        "outputId": "29b61256-e9f3-4757-9470-fbe6fe6e79d4"
      },
      "execution_count": 13,
      "outputs": [
        {
          "output_type": "stream",
          "name": "stdout",
          "text": [
            "['www.naver.com\\n', 'www.google.com\\n', 'www.daum.net\\n', 'www.nate.com']\n"
          ]
        }
      ]
    },
    {
      "cell_type": "code",
      "source": [
        "## QR_사이트.txt 파일 읽어와 각 사이트별 QR코드 생성하기\n",
        "import qrcode\n",
        "\n",
        "f=open(\"./QR_사이트.txt\",\"r\",encoding=\"utf-8\")\n",
        "qr_txt=f.readlines()\n",
        "\n",
        "for url in qr_txt:\n",
        "  new_url= url.replace(\"\\n\",\"\")\n",
        "  qr_img= qrcode.make(new_url)\n",
        "  \n",
        "  # qr_img.save(\"./qr_img/qr\"+new_url.split(\".\")[1]+ \".png\")\n",
        "\n",
        "f.close()\n",
        "print(\"작업종료\")"
      ],
      "metadata": {
        "colab": {
          "base_uri": "https://localhost:8080/"
        },
        "id": "y0do0EQ2ByNA",
        "outputId": "faac5a56-8ea1-4be0-84a8-f40393661f03"
      },
      "execution_count": 26,
      "outputs": [
        {
          "output_type": "stream",
          "name": "stdout",
          "text": [
            "작업종료\n"
          ]
        }
      ]
    },
    {
      "cell_type": "code",
      "source": [
        "## txt 파일 생성 및 기록\n",
        "f = open(\"./write_file.txt\", \"w\")\n",
        "\n",
        "f.write(\"안녕하세요.\\n\")\n",
        "f.write(\"파이썬 교육을 받고 있습니다.\\n\")\n",
        "f.write(\"데이터 분석도 교육합니다.\\n\")\n",
        "\n",
        "f.close()\n",
        "\n",
        "## 생성 및 저장한 파일 읽어오기\n",
        "f = open(\"./write_file.txt\", \"r\")\n",
        "txt_lst=f.readlines()\n",
        "print(txt_lst)\n",
        "f.close()"
      ],
      "metadata": {
        "colab": {
          "base_uri": "https://localhost:8080/"
        },
        "id": "SM0vLn2jCUcQ",
        "outputId": "4b84efd6-7de7-478f-aa26-1714103baffc"
      },
      "execution_count": 27,
      "outputs": [
        {
          "output_type": "stream",
          "name": "stdout",
          "text": [
            "['안녕하세요.\\n', '파이썬 교육을 받고 있습니다.\\n', '데이터 분석도 교육합니다.\\n']\n"
          ]
        }
      ]
    },
    {
      "cell_type": "code",
      "source": [
        "## txt 파일 마지막에 새로운 문장 추가하기\n",
        "\n",
        "f = open(\"./write_file.txt\", \"a\")\n",
        "\n",
        "for i in range(5,11):\n",
        "    txt=\"%d번째 입력입니다.(%s)\\n\"%(i,\"추가입력\")\n",
        "    f.write(txt)\n",
        "f.close()\n",
        "\n",
        "f = open(\"./write_file.txt\", \"r\")\n",
        "txt = f.read()\n",
        "print(txt)\n",
        "f.close()"
      ],
      "metadata": {
        "colab": {
          "base_uri": "https://localhost:8080/"
        },
        "id": "BQIleWG3Lzel",
        "outputId": "02fa2e4c-dbe7-4de2-e464-56cd6827319c"
      },
      "execution_count": 28,
      "outputs": [
        {
          "output_type": "stream",
          "name": "stdout",
          "text": [
            "안녕하세요.\n",
            "파이썬 교육을 받고 있습니다.\n",
            "데이터 분석도 교육합니다.\n",
            "5번째 입력입니다.(추가입력)\n",
            "6번째 입력입니다.(추가입력)\n",
            "7번째 입력입니다.(추가입력)\n",
            "8번째 입력입니다.(추가입력)\n",
            "9번째 입력입니다.(추가입력)\n",
            "10번째 입력입니다.(추가입력)\n",
            "\n"
          ]
        }
      ]
    }
  ]
}