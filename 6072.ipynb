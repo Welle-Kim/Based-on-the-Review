{
  "nbformat": 4,
  "nbformat_minor": 0,
  "metadata": {
    "colab": {
      "provenance": [],
      "authorship_tag": "ABX9TyMiHxNh376t3RaHxWheHmEc",
      "include_colab_link": true
    },
    "kernelspec": {
      "name": "python3",
      "display_name": "Python 3"
    },
    "language_info": {
      "name": "python"
    }
  },
  "cells": [
    {
      "cell_type": "markdown",
      "metadata": {
        "id": "view-in-github",
        "colab_type": "text"
      },
      "source": [
        "<a href=\"https://colab.research.google.com/github/Welle-Kim/Based-on-the-Review/blob/master/6072.ipynb\" target=\"_parent\"><img src=\"https://colab.research.google.com/assets/colab-badge.svg\" alt=\"Open In Colab\"/></a>"
      ]
    },
    {
      "cell_type": "code",
      "execution_count": 1,
      "metadata": {
        "colab": {
          "base_uri": "https://localhost:8080/"
        },
        "id": "nZr6h_mfy3U9",
        "outputId": "f7e08d98-fd5c-41a8-9680-4d00518ae932"
      },
      "outputs": [
        {
          "output_type": "stream",
          "name": "stdout",
          "text": [
            "5\n",
            "5\n",
            "4\n",
            "3\n",
            "2\n",
            "1\n"
          ]
        }
      ],
      "source": [
        "n=int(input())\n",
        "if 0<=n<=100:\n",
        "  while n!=0 :\n",
        "    print(n)\n",
        "    n = n-1\n",
        "else:\n",
        "  n=int(input())"
      ]
    },
    {
      "cell_type": "code",
      "source": [
        "n=int(input())\n",
        "if 0<=n<=100:\n",
        "  while n!=0 :\n",
        "    n = n-1\n",
        "    print(n)\n",
        "    if n==0:\n",
        "      break\n",
        "else:\n",
        "  n=int(input())    "
      ],
      "metadata": {
        "colab": {
          "base_uri": "https://localhost:8080/"
        },
        "id": "UPufOPvw0S_S",
        "outputId": "f4b6a0e0-6359-4f91-e9d4-de0b311ae040"
      },
      "execution_count": 13,
      "outputs": [
        {
          "output_type": "stream",
          "name": "stdout",
          "text": [
            "5\n",
            "4\n",
            "3\n",
            "2\n",
            "1\n",
            "0\n"
          ]
        }
      ]
    },
    {
      "cell_type": "code",
      "source": [
        "c = ord(input())\n",
        "t = ord('a')\n",
        "while t<=c :\n",
        "  print(chr(t), end=' ')\n",
        "  t += 1"
      ],
      "metadata": {
        "colab": {
          "base_uri": "https://localhost:8080/"
        },
        "id": "zDCdoGDb1kQD",
        "outputId": "a7dc59ab-9f0c-4cb0-9aa3-c557811dbc95"
      },
      "execution_count": 14,
      "outputs": [
        {
          "output_type": "stream",
          "name": "stdout",
          "text": [
            "f\n",
            "a b c d e f "
          ]
        }
      ]
    },
    {
      "cell_type": "code",
      "source": [
        "n=int(input())\n",
        "if 0<=n<=100:\n",
        "\n",
        "  i=0\n",
        "  while i<=n:\n",
        "    print(i)\n",
        "    i+=1\n",
        "else:\n",
        "  n=int(input()) "
      ],
      "metadata": {
        "colab": {
          "base_uri": "https://localhost:8080/"
        },
        "id": "Fvt2nl_t4Qfb",
        "outputId": "f40db4f2-dbe7-4d69-ac7f-3bbb2ea04c08"
      },
      "execution_count": 23,
      "outputs": [
        {
          "output_type": "stream",
          "name": "stdout",
          "text": [
            "4\n",
            "0\n",
            "1\n",
            "2\n",
            "3\n",
            "4\n"
          ]
        }
      ]
    }
  ]
}