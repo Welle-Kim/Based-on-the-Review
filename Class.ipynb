{
  "nbformat": 4,
  "nbformat_minor": 0,
  "metadata": {
    "colab": {
      "name": "Class.ipynb",
      "provenance": [],
      "authorship_tag": "ABX9TyPIu7cCOHCuhcOQ4qThiBfb",
      "include_colab_link": true
    },
    "kernelspec": {
      "name": "python3",
      "display_name": "Python 3"
    },
    "language_info": {
      "name": "python"
    }
  },
  "cells": [
    {
      "cell_type": "markdown",
      "metadata": {
        "id": "view-in-github",
        "colab_type": "text"
      },
      "source": [
        "<a href=\"https://colab.research.google.com/github/Welle-Kim/Based-on-the-Review/blob/master/Class.ipynb\" target=\"_parent\"><img src=\"https://colab.research.google.com/assets/colab-badge.svg\" alt=\"Open In Colab\"/></a>"
      ]
    },
    {
      "cell_type": "code",
      "execution_count": 1,
      "metadata": {
        "id": "YgcxKh5PG3yX"
      },
      "outputs": [],
      "source": [
        "class myclass():\n",
        "  cnt=0 #클래수 변수\n",
        "\n",
        "  #초기지 \n",
        "  def __init__(self,가로,세로):\n",
        "    self.witdth=가로\n",
        "    self.height=세로\n",
        "    myclass.cnt+=1\n",
        "\n",
        "  #인스턴스 메시지\n",
        "  def calarea(self):\n",
        "    area=self.witdth*self.height\n",
        "    return area\n",
        "\n",
        "  #정적 메서드\n",
        "  @staticmethod\n",
        "  def isSquare(recwidth,recheight):\n",
        "    return recwidth==recheight\n",
        "  \n",
        "  #클래스 메서드\n",
        "  @classmethod\n",
        "  def printcnt(cls):\n",
        "    print(cls.cnt)\n"
      ]
    },
    {
      "cell_type": "code",
      "source": [
        "cls=myclass(10,20)\n",
        "print(cls.cnt)\n",
        "print(cls.witdth)\n",
        "print(cls.height)"
      ],
      "metadata": {
        "colab": {
          "base_uri": "https://localhost:8080/"
        },
        "id": "qPYBbMbtIgwS",
        "outputId": "dc07a4ee-de72-458b-fb73-05f3eadc2850"
      },
      "execution_count": 12,
      "outputs": [
        {
          "output_type": "stream",
          "name": "stdout",
          "text": [
            "5\n",
            "10\n",
            "20\n"
          ]
        }
      ]
    },
    {
      "cell_type": "code",
      "source": [
        "square = myclass.isSquare(10, 20)\n",
        "print(square)"
      ],
      "metadata": {
        "colab": {
          "base_uri": "https://localhost:8080/"
        },
        "id": "0LzY2gWvI5IV",
        "outputId": "7accc9de-1a62-40b2-a736-d078bfeaeb73"
      },
      "execution_count": 8,
      "outputs": [
        {
          "output_type": "stream",
          "name": "stdout",
          "text": [
            "False\n"
          ]
        }
      ]
    },
    {
      "cell_type": "code",
      "source": [
        "cls1=myclass(10, 10)\n",
        "cls2=myclass(10, 20)\n",
        "\n",
        "cls1.printcnt()\n",
        "print(cls1.isSquare(10, 10))\n",
        "cls2.printcnt()\n",
        "\n",
        "area=cls1.calarea()\n",
        "print(area)"
      ],
      "metadata": {
        "colab": {
          "base_uri": "https://localhost:8080/"
        },
        "id": "icfpGa-QO73G",
        "outputId": "fa4d45ad-bc5d-422c-f2b8-95532e7a3a6d"
      },
      "execution_count": 12,
      "outputs": [
        {
          "output_type": "stream",
          "name": "stdout",
          "text": [
            "22\n",
            "True\n",
            "22\n",
            "100\n"
          ]
        }
      ]
    },
    {
      "cell_type": "code",
      "source": [
        "print(cls1.height)\n",
        "cls1.height = 25\n",
        "print(cls1.height)"
      ],
      "metadata": {
        "colab": {
          "base_uri": "https://localhost:8080/"
        },
        "id": "A2YE4xAcO95h",
        "outputId": "67ea5ec5-1ea7-463a-f025-7a872e99aebc"
      },
      "execution_count": 15,
      "outputs": [
        {
          "output_type": "stream",
          "name": "stdout",
          "text": [
            "10\n",
            "25\n"
          ]
        }
      ]
    },
    {
      "cell_type": "code",
      "source": [
        "cls2 = myclass(20, 30)\n",
        "print(myclass.cnt)\n",
        "print(cls1.cnt)\n",
        "print(cls2.cnt)"
      ],
      "metadata": {
        "colab": {
          "base_uri": "https://localhost:8080/"
        },
        "id": "I2uveTvhWUvt",
        "outputId": "f3ebdd3e-acef-41c5-ddf3-e41a6bb88ae1"
      },
      "execution_count": 18,
      "outputs": [
        {
          "output_type": "stream",
          "name": "stdout",
          "text": [
            "27\n",
            "27\n",
            "27\n"
          ]
        }
      ]
    },
    {
      "cell_type": "code",
      "source": [
        "### class \n",
        "class Student():\n",
        "    # super class\n",
        "    def __init__(self, name, age, like):\n",
        "        self.name = name\n",
        "        self.age = age\n",
        "        self.like = like\n",
        "\n",
        "    def stuinfo(self):\n",
        "        print(f\"이름:{self.name}, 나이:{self.age}, 좋아하는것:{self.like}\")"
      ],
      "metadata": {
        "id": "_ZOK5LVZW3TZ"
      },
      "execution_count": 19,
      "outputs": []
    },
    {
      "cell_type": "code",
      "source": [
        "class Student_up(Student):\n",
        "    # sub class\n",
        "    def stuinfo(self):\n",
        "        super().stuinfo()\n",
        "        print(f\"{self.name}님 행복한 하루 되세요.\")"
      ],
      "metadata": {
        "id": "6n4wPg6CWmLK"
      },
      "execution_count": 21,
      "outputs": []
    },
    {
      "cell_type": "code",
      "source": [
        "홍길동 = Student(\"홍길동\", 35, \"축구\")\n",
        "김다은 = Student(\"김다은\", 55, \"여행\")\n",
        "\n",
        "홍길동.stuinfo()\n",
        "김다은.stuinfo()"
      ],
      "metadata": {
        "colab": {
          "base_uri": "https://localhost:8080/"
        },
        "id": "B66HOiIbXJjH",
        "outputId": "ca97063a-8245-4a7e-b535-b9b80bf74204"
      },
      "execution_count": 24,
      "outputs": [
        {
          "output_type": "stream",
          "name": "stdout",
          "text": [
            "이름:홍길동, 나이:35, 좋아하는것:축구\n",
            "이름:김다은, 나이:55, 좋아하는것:여행\n"
          ]
        }
      ]
    },
    {
      "cell_type": "code",
      "source": [
        "홍길동.stuinfo()\n",
        "김다은.stuinfo()"
      ],
      "metadata": {
        "colab": {
          "base_uri": "https://localhost:8080/"
        },
        "id": "guEVPCLvXrER",
        "outputId": "43958e0b-5171-49f5-dd22-ced9ad695c6e"
      },
      "execution_count": 25,
      "outputs": [
        {
          "output_type": "stream",
          "name": "stdout",
          "text": [
            "이름:홍길동, 나이:35, 좋아하는것:축구\n",
            "이름:김다은, 나이:55, 좋아하는것:여행\n"
          ]
        }
      ]
    },
    {
      "cell_type": "code",
      "source": [
        "홍길동 = Student(\"홍길동\", 35, \"축구\")      # 부모 클래스 => Student\n",
        "이지은 = Student_up(\"이지은\", 55, \"여행\")   # Student에 의해 새로 만들어진 자식 클래스(Student_up)\n",
        "\n",
        "홍길동.stuinfo()\n",
        "이지은.stuinfo()"
      ],
      "metadata": {
        "colab": {
          "base_uri": "https://localhost:8080/"
        },
        "id": "dFQyAUDsXOFM",
        "outputId": "4d2d7016-f7e4-4320-d169-cfa4452758a7"
      },
      "execution_count": 26,
      "outputs": [
        {
          "output_type": "stream",
          "name": "stdout",
          "text": [
            "이름:홍길동, 나이:35, 좋아하는것:축구\n",
            "이름:이지은, 나이:55, 좋아하는것:여행\n",
            "이지은님 행복한 하루 되세요.\n"
          ]
        }
      ]
    }
  ]
}