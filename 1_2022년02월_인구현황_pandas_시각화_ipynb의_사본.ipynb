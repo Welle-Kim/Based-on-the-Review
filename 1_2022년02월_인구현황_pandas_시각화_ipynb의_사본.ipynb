{
  "nbformat": 4,
  "nbformat_minor": 0,
  "metadata": {
    "colab": {
      "name": "1. 2022년02월 인구현황_pandas_시각화.ipynb의 사본",
      "private_outputs": true,
      "provenance": [],
      "collapsed_sections": [],
      "include_colab_link": true
    },
    "kernelspec": {
      "name": "python3",
      "display_name": "Python 3"
    },
    "language_info": {
      "name": "python"
    }
  },
  "cells": [
    {
      "cell_type": "markdown",
      "metadata": {
        "id": "view-in-github",
        "colab_type": "text"
      },
      "source": [
        "<a href=\"https://colab.research.google.com/github/Welle-Kim/Based-on-the-Review/blob/master/1_2022%EB%85%8402%EC%9B%94_%EC%9D%B8%EA%B5%AC%ED%98%84%ED%99%A9_pandas_%EC%8B%9C%EA%B0%81%ED%99%94_ipynb%EC%9D%98_%EC%82%AC%EB%B3%B8.ipynb\" target=\"_parent\"><img src=\"https://colab.research.google.com/assets/colab-badge.svg\" alt=\"Open In Colab\"/></a>"
      ]
    },
    {
      "cell_type": "markdown",
      "source": [
        "# 2022년 02월 기준 서울시 인구현환 분석\n",
        " - 모두의 데이터 분석(교재) 96page ~ 156page 참조 \n",
        "### 1. pandas 모듈을 이용한 데이터 처리\n",
        "### 2. matplotlib 모듈을 이용한 시각화\n"
      ],
      "metadata": {
        "id": "QxqWqKJoLQ-a"
      }
    },
    {
      "cell_type": "markdown",
      "source": [
        "#### 1. 코랩 한글 지원을 위한 글꼴 설치\n",
        "- 글꼴 설치후 [런타임]-[런타입 다시 시작] 클릭"
      ],
      "metadata": {
        "id": "j91kU6q_Mn0Z"
      }
    },
    {
      "cell_type": "code",
      "source": [
        "!sudo apt-get install -y fonts-nanum\n",
        "!sudo fc-cache -fv\n",
        "!rm ~/.cache/matplotlib -rf"
      ],
      "metadata": {
        "id": "6Ck7Ts-KM2Cp"
      },
      "execution_count": null,
      "outputs": []
    },
    {
      "cell_type": "markdown",
      "source": [
        "#### 2. 데이터 읽어오기 및 확인\n",
        "- 파일 업로드"
      ],
      "metadata": {
        "id": "1y-I2NRSMOGB"
      }
    },
    {
      "cell_type": "code",
      "execution_count": null,
      "metadata": {
        "id": "atBbSfvrKL76"
      },
      "outputs": [],
      "source": [
        "from google.colab import files\n",
        "\n",
        "files.upload()"
      ]
    },
    {
      "cell_type": "markdown",
      "source": [
        "- 파일 읽어와 내용 확인하기\n",
        " * 1000단위 콤마를 제거하기 위해 thousands=\",\" 옵션 추가"
      ],
      "metadata": {
        "id": "0DNM4i5OPg-J"
      }
    },
    {
      "cell_type": "code",
      "source": [
        "import pandas as pd\n",
        "\n",
        "# 나이별 데이터\n",
        "age_df = pd.read_csv(\"202202_age.csv\", encoding=\"cp949\", header=3, thousands=\",\")\n",
        "display(age_df.head(2))    # 데이터 확인"
      ],
      "metadata": {
        "id": "GvxZuXycMNlC"
      },
      "execution_count": null,
      "outputs": []
    },
    {
      "cell_type": "markdown",
      "source": [
        "불러온 데이터의 전체 정보 확인합니다.   \n",
        "thousands=\",\" 적용했을때와 적용하지 않았을때 \n",
        " * 적용시: 오브젝트 1, int 310\n",
        " * 미적용: 오브젝트 303, int 8     \n",
        "\n",
        "오브젝트(적용)는 \"행정기관\"을 의미"
      ],
      "metadata": {
        "id": "oWqkgkzJUUow"
      }
    },
    {
      "cell_type": "code",
      "source": [
        "print(age_df.info())      # 전체 정보확인"
      ],
      "metadata": {
        "id": "TGJa-VbkRPYp"
      },
      "execution_count": null,
      "outputs": []
    },
    {
      "cell_type": "markdown",
      "source": [
        "- 행정기관의 데이터 타입, 내용을 출력"
      ],
      "metadata": {
        "id": "N1BJy8JFVlzw"
      }
    },
    {
      "cell_type": "code",
      "source": [
        "print(type(age_df[\"행정기관\"]))\n",
        "print()\n",
        "print(age_df.행정기관)"
      ],
      "metadata": {
        "id": "9oVe_ombUThP"
      },
      "execution_count": null,
      "outputs": []
    },
    {
      "cell_type": "code",
      "source": [
        "print(type(age_df[[\"행정기관\"]]))\n",
        "print()\n",
        "age_df[[\"행정기관\"]]"
      ],
      "metadata": {
        "id": "f1HWm_4kV9Gp"
      },
      "execution_count": null,
      "outputs": []
    },
    {
      "cell_type": "markdown",
      "source": [
        "#### 데이터 검색\n",
        "- 행정기관을 기준으로 검색\n",
        "- 정확한 데이터 검색: \"서울특별시\"\n",
        "- 글자에 포함된 데이터 검색: df['텍스트필드'].str.contains(\"포함문자\")"
      ],
      "metadata": {
        "id": "V7Aq_xJcWrwo"
      }
    },
    {
      "cell_type": "code",
      "source": [
        "# 서울특별시와 일치하는 데이터 검색\n",
        "age_df[age_df[\"행정기관\"] == \"서울특별시  \"]"
      ],
      "metadata": {
        "id": "jJrUdyDBWbww"
      },
      "execution_count": null,
      "outputs": []
    },
    {
      "cell_type": "code",
      "source": [
        "# 행정기관에서 \"공릉2동\"이 포함되어 있는 데이터 전체\n",
        "age_df[age_df['행정기관'].str.contains(\"공릉2동\")]"
      ],
      "metadata": {
        "id": "HdRAGAMSYAV3"
      },
      "execution_count": null,
      "outputs": []
    },
    {
      "cell_type": "code",
      "source": [
        "# 행정기관에서 \"공릉2동\"이 포함되어 있는 데이터 전체를 조회후 df1에 저장\n",
        "df1=age_df[age_df['행정기관'].str.contains(\"계룡시\")]  # if \"공릉2동\" in row[1]: \n",
        "df1"
      ],
      "metadata": {
        "id": "2qFocjhiYhG6"
      },
      "execution_count": null,
      "outputs": []
    },
    {
      "cell_type": "markdown",
      "source": [
        "##### df1에 데이터에서 행정기관을 index 값으로 지정"
      ],
      "metadata": {
        "id": "IALq7NlCaKTZ"
      }
    },
    {
      "cell_type": "code",
      "source": [
        "# df1.set_index(지정필드, drop=True, inplace=False)\n",
        "df1=df1.set_index(\"행정기관\")\n",
        "df1"
      ],
      "metadata": {
        "id": "ZOiuIg5oZpVf"
      },
      "execution_count": null,
      "outputs": []
    },
    {
      "cell_type": "markdown",
      "source": [
        "##### 원하는 필드만 출력하기\n",
        "- 선택하는 방법: 데이터를 출력하는 방법과 동일, 필요한 필드를 나열한다.\n",
        "- 제외하는 방법: columns.difference([제외시킬 필드명])"
      ],
      "metadata": {
        "id": "Tn2QcoynblLR"
      }
    },
    {
      "cell_type": "code",
      "source": [
        "# 원하는 데이터 추출\n",
        "# df1[[필드명, 필드명, .. ]]\n",
        "df1.iloc[:, [1, 3, 5, 6,7,8]]"
      ],
      "metadata": {
        "id": "APt87b4kaYwn"
      },
      "execution_count": null,
      "outputs": []
    },
    {
      "cell_type": "code",
      "source": [
        "# 불필요한 데이터 제거\n",
        "df1[df1.columns.difference([\"행정기관코드\", '총 거주자수', '연령구간인구수'])]"
      ],
      "metadata": {
        "id": "r1FXuEERcrY9"
      },
      "execution_count": null,
      "outputs": []
    },
    {
      "cell_type": "code",
      "source": [
        "df1.columns"
      ],
      "metadata": {
        "id": "GxMkP8O6dIRB"
      },
      "execution_count": null,
      "outputs": []
    },
    {
      "cell_type": "code",
      "source": [
        "# 0세부터 100세이상 데이터만 출력(남여 공통)\n",
        "df1_mf = df1.iloc[:, 3:104]\n",
        "df1_mf"
      ],
      "metadata": {
        "id": "zPEATOyadITh"
      },
      "execution_count": null,
      "outputs": []
    },
    {
      "cell_type": "markdown",
      "source": [
        "##### df1_mf 데이터를 이용해 차트 작성"
      ],
      "metadata": {
        "id": "Td6x1ihGekNB"
      }
    },
    {
      "cell_type": "code",
      "source": [
        "import matplotlib.pyplot as plt\n",
        "plt.rc('font', family=\"NanumBarunGothic\") # 차트에 한글 글꼴 지정\n",
        "\n",
        "plt.style.use(\"ggplot\")\n",
        "plt.figure(figsize=(10, 5))\n",
        "plt.plot(df1_mf)\n",
        "\n",
        "plt.show()\n"
      ],
      "metadata": {
        "id": "Jk8X5EnTdIWC"
      },
      "execution_count": null,
      "outputs": []
    },
    {
      "cell_type": "markdown",
      "source": [
        "기본출력: 행정기관 => x 축, 0세 ~ 100이상 필드 1개가 데이터 1개   \n",
        "x축에 열이름, 출력값에 행정기관 1개의 데이터   \n",
        "모두의 데이터 분석 교재(109 ~ 114 page) 참조"
      ],
      "metadata": {
        "id": "KIMNVUXtgmIZ"
      }
    },
    {
      "cell_type": "code",
      "source": [
        "# x축\n",
        "df1_mf.columns"
      ],
      "metadata": {
        "id": "uS-R9WFbgMyY"
      },
      "execution_count": null,
      "outputs": []
    },
    {
      "cell_type": "code",
      "source": [
        "# 값축\n",
        "df1_mf.iloc[0]"
      ],
      "metadata": {
        "id": "sdimjY0ohd9f"
      },
      "execution_count": null,
      "outputs": []
    },
    {
      "cell_type": "code",
      "source": [
        "# index 값\n",
        "df1_mf.index"
      ],
      "metadata": {
        "id": "Bu-XufuAjMHw"
      },
      "execution_count": null,
      "outputs": []
    },
    {
      "cell_type": "code",
      "source": [
        "# 차트 작성\n",
        "\n",
        "plt.figure(figsize=(10, 5))\n",
        "\n",
        "plt.plot(df1_mf.columns, df1_mf.iloc[0], label=\"계룡시\")\n",
        "plt.plot(df1_mf.columns, df1_mf.iloc[1], label=\"두마면\")\n",
        "plt.plot(df1_mf.columns, df1_mf.iloc[2], label=\"엄사면\")\n",
        "plt.plot(df1_mf.columns, df1_mf.iloc[3], label=\"신도안면\")\n",
        "plt.plot(df1_mf.columns, df1_mf.iloc[4], label=\"금암동\")\n",
        "\n",
        "plt.legend()   # 범례표시\n",
        "\n",
        "plt.show()\n"
      ],
      "metadata": {
        "id": "hl3w8_EAht7v"
      },
      "execution_count": null,
      "outputs": []
    },
    {
      "cell_type": "code",
      "source": [
        "# 차트 작성\n",
        "\n",
        "plt.figure(figsize=(10, 5))\n",
        "\n",
        "for i in range(len(df1_mf)):\n",
        "    \n",
        "    plt.plot(df1_mf.columns, df1_mf.iloc[i], label=df1_mf.index[i].split(\" \")[-1] )\n",
        "\n",
        "plt.legend()\n",
        "\n",
        "plt.show()"
      ],
      "metadata": {
        "id": "ySDcTuweiZZP"
      },
      "execution_count": null,
      "outputs": []
    },
    {
      "cell_type": "markdown",
      "source": [
        "##### bar 차트"
      ],
      "metadata": {
        "id": "OJF44NthmiyB"
      }
    },
    {
      "cell_type": "code",
      "source": [
        "# 차트 작성\n",
        "\n",
        "plt.figure(figsize=(10, 5))\n",
        "\n",
        "for i in df1_mf.index:\n",
        "    # index에서 범례 출력값 추출하기\n",
        "    if i.split(\" \")[-1] == \"\":\n",
        "        lab=i.split(\" \")[-2]\n",
        "    else:\n",
        "        lab=i.split(\" \")[-1]\n",
        "\n",
        "    # 차트에 index 값을 이용해 차트 출력\n",
        "    plt.bar(df1_mf.columns, df1_mf.loc[i], label=lab )\n",
        "\n",
        "plt.legend()\n",
        "\n",
        "plt.show()\n"
      ],
      "metadata": {
        "id": "bwxeRiWEiyD_"
      },
      "execution_count": null,
      "outputs": []
    },
    {
      "cell_type": "markdown",
      "source": [
        "##### barh 차트"
      ],
      "metadata": {
        "id": "tj4W8omMoSyo"
      }
    },
    {
      "cell_type": "code",
      "source": [
        "# 차트 작성\n",
        "\n",
        "plt.figure(figsize=(7, 10))\n",
        "\n",
        "for i in df1_mf.index:\n",
        "    # index에서 범례 출력값 추출하기\n",
        "    if i.split(\" \")[-1] == \"\":\n",
        "        lab=i.split(\" \")[-2]\n",
        "    else:\n",
        "        lab=i.split(\" \")[-1]\n",
        "\n",
        "    # 차트에 index 값을 이용해 차트 출력\n",
        "    plt.barh(df1_mf.columns, df1_mf.loc[i], label=lab )\n",
        "\n",
        "plt.legend()\n",
        "\n",
        "plt.show()"
      ],
      "metadata": {
        "id": "xNO3XeSbnfCd"
      },
      "execution_count": null,
      "outputs": []
    },
    {
      "cell_type": "markdown",
      "source": [
        "##### [미션] 남자/여자 데이터 가져오기\n",
        "- df1에서 남자 데이터(df_m)/여자 데이터(df_f) 추출해 저장하기"
      ],
      "metadata": {
        "id": "iFzFan_r6hMR"
      }
    },
    {
      "cell_type": "code",
      "source": [
        "a=list(df1.columns).index(\"0세.1\")   # 리스트에서 특정 값의 위치 반환\n",
        "b=list(df1.columns).index(\"100세 이상.1\")+1\n",
        "\n",
        "df1_m=df1.iloc[:, a:b]\n",
        "df1_m.columns"
      ],
      "metadata": {
        "id": "22Ml-XqS5iKO"
      },
      "execution_count": null,
      "outputs": []
    },
    {
      "cell_type": "code",
      "source": [
        "df1_m=df1.iloc[:,a:b]\n",
        "df1_m"
      ],
      "metadata": {
        "id": "MEynmnN2qqoP"
      },
      "execution_count": null,
      "outputs": []
    },
    {
      "cell_type": "code",
      "source": [
        "a=list(df1.columns).index(\"0세.2\")   # 리스트에서 특정 값의 위치 반환\n",
        "b=list(df1.columns).index(\"100세 이상.2\")+1 \n",
        "\n",
        "df1_f=df1.iloc[:, a:b]\n",
        "df1_f.columns"
      ],
      "metadata": {
        "id": "FCDfGqe79k_H"
      },
      "execution_count": null,
      "outputs": []
    },
    {
      "cell_type": "markdown",
      "source": [
        "- 남/여 인원수를 하나의 그래프에 출력하시오\n",
        "- 특정 지역의 1개의 그래프(가로막대)\n",
        "- 전체 세대별 인원에 대한 그래프(가로막대)"
      ],
      "metadata": {
        "id": "6JH0rh86-GDA"
      }
    },
    {
      "cell_type": "code",
      "source": [
        "plt.figure(figsize=(5, 5))\n",
        "\n",
        "plt.barh(df1_m.columns, df1_m.iloc[0], label=\"남\" )\n",
        "plt.barh(df1_m.columns, df1_f.iloc[0], label=\"여\" )\n",
        "plt.title(df1_m.index[0], size=15)\n",
        "plt.legend()\n",
        "plt.show()\n",
        "\n",
        "plt.figure(figsize=(5, 5))\n",
        "plt.barh(df1_m.columns, df1_m.iloc[1], label=\"남\" )\n",
        "plt.barh(df1_m.columns, df1_f.iloc[1], label=\"여\" )\n",
        "plt.title(df1_m.index[1], size=15)\n",
        "plt.legend()\n",
        "\n",
        "plt.show()"
      ],
      "metadata": {
        "id": "GBvTh7Iy8OSX"
      },
      "execution_count": null,
      "outputs": []
    },
    {
      "cell_type": "code",
      "source": [
        "# 5개 동시에 출력\n",
        "\n",
        "for i in range(len(df1_m)):\n",
        "    plt.figure(figsize=(5, 5))\n",
        "\n",
        "    plt.barh(df1_mf.columns, df1_m.iloc[i], label=\"남\" )\n",
        "    plt.barh(df1_mf.columns, df1_f.iloc[i], label=\"여\" )\n",
        "    plt.title(df1_m.index[i], size=15)\n",
        "    plt.legend()\n",
        "    plt.show()"
      ],
      "metadata": {
        "id": "Mr0Q3QrD-Xvl"
      },
      "execution_count": null,
      "outputs": []
    },
    {
      "cell_type": "markdown",
      "source": [
        "- 남은 왼쪽, 여는 오른쪽으로 출력되는 차트   \n",
        "남자 데이터를 음수로 변경\n"
      ],
      "metadata": {
        "id": "enS8GePUDJJo"
      }
    },
    {
      "cell_type": "code",
      "source": [
        "val=[]\n",
        "for i in df1_m.iloc[0]:\n",
        "    val.append(-i)\n",
        "\n",
        "print(val[:10])\n",
        "\n",
        "plt.figure(figsize=(5, 5))\n",
        "\n",
        "plt.barh(df1_mf.columns, val, label=\"남\" )\n",
        "plt.barh(df1_mf.columns, df1_f.iloc[0], label=\"여\" )\n",
        "plt.title(df1_m.index[0], size=15)\n",
        "plt.legend()\n",
        "plt.show()"
      ],
      "metadata": {
        "id": "9fDsANiDB64F"
      },
      "execution_count": null,
      "outputs": []
    },
    {
      "cell_type": "code",
      "source": [
        "def colval(df_data):\n",
        "    val=[-i  for i in df_data]\n",
        "    return val\n",
        "\n",
        "for i in range(len(df1_m)):\n",
        "    plt.figure(figsize=(5, 5))\n",
        "\n",
        "    plt.barh(df1_mf.columns, colval(df1_m.iloc[i]), label=\"남\" )\n",
        "    plt.barh(df1_mf.columns, df1_f.iloc[i], label=\"여\" )\n",
        "    plt.title(df1_m.index[i], size=15)\n",
        "    plt.legend()\n",
        "    plt.show()"
      ],
      "metadata": {
        "id": "L1CQw0BqEAwe"
      },
      "execution_count": null,
      "outputs": []
    },
    {
      "cell_type": "markdown",
      "source": [
        "- lambda: 간단한 함수식을 정의할때 사용\n",
        " * lambda 매개변수 : 표현식\n",
        "\n"
      ],
      "metadata": {
        "id": "bVUoub6kGqX3"
      }
    },
    {
      "cell_type": "code",
      "source": [
        "def aa(x, y):\n",
        "    return x + y\n",
        "\n",
        "aa(10,12)"
      ],
      "metadata": {
        "id": "LDdlp1QOGY81"
      },
      "execution_count": null,
      "outputs": []
    },
    {
      "cell_type": "code",
      "source": [
        "(lambda x, y: x + y)(10, 12)"
      ],
      "metadata": {
        "id": "MjPrvRqHHWck"
      },
      "execution_count": null,
      "outputs": []
    },
    {
      "cell_type": "code",
      "source": [
        "(lambda x : -x)(10)"
      ],
      "metadata": {
        "id": "aV1s1MsaHon1"
      },
      "execution_count": null,
      "outputs": []
    },
    {
      "cell_type": "code",
      "source": [
        "for i in range(len(df1_m)):\n",
        "    plt.figure(figsize=(5, 5))\n",
        "\n",
        "    plt.barh(df1_mf.columns, df1_m.apply(lambda x: -x).iloc[i], label=\"남\" )\n",
        "    plt.barh(df1_mf.columns, df1_f.iloc[i], label=\"여\" )\n",
        "    plt.title(df1_m.index[i], size=15)\n",
        "    plt.legend()\n",
        "    plt.show()"
      ],
      "metadata": {
        "id": "JNER-85eH7lr"
      },
      "execution_count": null,
      "outputs": []
    },
    {
      "cell_type": "code",
      "source": [
        "plt.figure(figsize=(5, 5))\n",
        "\n",
        "plt.barh(df1_mf.columns, df1_m.apply(lambda x: -x).iloc[0], label=\"남\" )\n",
        "plt.barh(df1_mf.columns, df1_f.iloc[0], label=\"여\" )\n",
        "plt.title(df1_m.index[0], size=15)\n",
        "plt.legend()\n",
        "plt.show()\n"
      ],
      "metadata": {
        "id": "1gLuKjN7IoxN"
      },
      "execution_count": null,
      "outputs": []
    },
    {
      "cell_type": "code",
      "source": [
        "df1_m.columns\n",
        "df1_f.columns"
      ],
      "metadata": {
        "id": "EnSsIAd2JRbE"
      },
      "execution_count": null,
      "outputs": []
    },
    {
      "cell_type": "code",
      "source": [
        "# columns 값을 0 ~ 데이터 갯수 만큼의 숫자로 변경\n",
        "df1_m.columns=range(len(df1_m.columns))\n",
        "df1_f.columns=range(len(df1_f.columns))\n",
        "\n",
        "df1_m.columns\n",
        "list(df1_f.columns)"
      ],
      "metadata": {
        "id": "8nfJ-alAKn_3"
      },
      "execution_count": null,
      "outputs": []
    },
    {
      "cell_type": "code",
      "source": [
        "# 위에서 변경한 columns를 이용해 차트 작성\n",
        "plt.figure(figsize=(5, 5))\n",
        "\n",
        "plt.barh(df1_m.columns, df1_m.apply(lambda x: -x).iloc[0], label=\"남\" )\n",
        "plt.barh(df1_m.columns, df1_f.iloc[0], label=\"여\" )\n",
        "plt.title(df1_m.index[0], size=15)\n",
        "plt.legend()\n",
        "plt.show()"
      ],
      "metadata": {
        "id": "S5pkpnx0Kqy-"
      },
      "execution_count": null,
      "outputs": []
    },
    {
      "cell_type": "markdown",
      "source": [
        "- 전체 세대별 인원에 대한 그래프(가로막대)"
      ],
      "metadata": {
        "id": "Z57dxTflKBY-"
      }
    },
    {
      "cell_type": "code",
      "source": [
        "print(df1_m.sum())  # 열 기준 합계, 계료시의 남자 데이터의 세대별 합계\n",
        "df1_m[[0]]"
      ],
      "metadata": {
        "id": "nXbRpCe0JmlL"
      },
      "execution_count": null,
      "outputs": []
    },
    {
      "cell_type": "code",
      "source": [
        "# df1_m[[0]]"
      ],
      "metadata": {
        "id": "emAFGAJ6siEn"
      },
      "execution_count": null,
      "outputs": []
    },
    {
      "cell_type": "code",
      "source": [
        "df1_m.sum(axis=1)   # 행단위 합계 계산"
      ],
      "metadata": {
        "id": "1DMvTHxKTRye"
      },
      "execution_count": null,
      "outputs": []
    },
    {
      "cell_type": "markdown",
      "source": [
        "##### 인구 구조를 나타내는 파이 차트 작성(146 page~)"
      ],
      "metadata": {
        "id": "Rns66GCwRdnO"
      }
    },
    {
      "cell_type": "code",
      "source": [
        "mf_size=[df1_m.iloc[0].sum(), df1_f.iloc[0].sum()]\n",
        "mf_size"
      ],
      "metadata": {
        "id": "BghceLw4SWBF"
      },
      "execution_count": null,
      "outputs": []
    },
    {
      "cell_type": "code",
      "source": [
        "import matplotlib.pyplot as plt\n",
        "\n",
        "plt.rc(\"font\", family=\"NanumBarunGothic\")\n",
        "\n",
        "plt.figure()\n",
        "plt.pie(mf_size, \n",
        "        labels=[\"남\", \"여\"], \n",
        "        autopct=\"%.1f%%\",\n",
        "        startangle = 90\n",
        "        )\n",
        "plt.title(\"계룡시 남여 비율\")\n",
        "plt.show()"
      ],
      "metadata": {
        "id": "8K1GbxODUYuL"
      },
      "execution_count": null,
      "outputs": []
    },
    {
      "cell_type": "code",
      "source": [
        "plt.figure()\n",
        "\n",
        "plt.plot(df1_m.columns, df1_m.iloc[0], label=\"남자\")\n",
        "plt.plot(df1_f.columns, df1_f.iloc[0], label=\"여자\")\n",
        "plt.legend()\n",
        "plt.show()"
      ],
      "metadata": {
        "id": "8MtHE3WkV7NS"
      },
      "execution_count": null,
      "outputs": []
    },
    {
      "cell_type": "markdown",
      "source": [
        "##### 세대별 차이"
      ],
      "metadata": {
        "id": "3hzMzb4iYW9c"
      }
    },
    {
      "cell_type": "code",
      "source": [
        "mf_sub=df1_m - df1_f\n",
        "mf_sub"
      ],
      "metadata": {
        "id": "bTDljFTkXEm0"
      },
      "execution_count": null,
      "outputs": []
    },
    {
      "cell_type": "code",
      "source": [
        "plt.figure()\n",
        "plt.bar(mf_sub.columns, mf_sub.iloc[0])\n",
        "plt.show()"
      ],
      "metadata": {
        "id": "LJXwNfDNYvC6"
      },
      "execution_count": null,
      "outputs": []
    },
    {
      "cell_type": "markdown",
      "source": [
        "##### 산점도 차트"
      ],
      "metadata": {
        "id": "4zBz_0XpZ1KI"
      }
    },
    {
      "cell_type": "code",
      "source": [
        "import matplotlib.pyplot as plt\n",
        "\n",
        "plt.rc(\"font\", family=\"NanumBarunGothic\")\n",
        "plt.style.use('ggplot')\n",
        "plt.figure(figsize=(10, 5), dpi=300)\n",
        "\n",
        "plt.title(\"충남 계룡시 남/여 인구 분포 그래프\")\n",
        "plt.scatter(df1_m.iloc[0], df1_f.iloc[0], c=df1_f.columns, alpha=0.5, cmap=\"rainbow\")\n",
        "plt.colorbar()\n",
        "plt.plot(range(df1_m.iloc[0].max()), range(df1_m.iloc[0].max()), 'g')\n",
        "plt.xlabel(\"남성인구수\")\n",
        "plt.ylabel(\"여성인구수\")\n",
        "plt.show()"
      ],
      "metadata": {
        "id": "U3EgtxLOZH4C"
      },
      "execution_count": null,
      "outputs": []
    },
    {
      "cell_type": "markdown",
      "source": [
        "##### 여러개의 차트 출력하기"
      ],
      "metadata": {
        "id": "c3YipEe1eimN"
      }
    },
    {
      "cell_type": "code",
      "source": [
        "import matplotlib.pyplot as plt\n",
        "plt.rc(\"font\", family=\"NanumBarunGothic\")\n",
        "\n",
        "f, axes = plt.subplots(3, 3)\n",
        "# 격자 크기 설정\n",
        "f.set_size_inches((10, 7))\n",
        "\n",
        "# 격자 여백 설정\n",
        "plt.subplots_adjust(wspace=0.3, hspace=0.3)\n",
        "\n",
        "# [0, 0] 위치에 막대그래프 출력\n",
        "axes[0, 0].bar([\"x\", \"y\", \"z\"], [15, 25, 20], color=['r', 'g', 'y'], alpha=0.5)\n",
        "\n",
        "# [1, 2] 위치에 선 그래프 출력\n",
        "axes[1][2].plot(range(5), [2,8,6,10,16], color=\"blue\", marker=\"o\")\n",
        "\n",
        "# [2, 1] 위치에 scatter 그래프 출력(색상이 다르게 해서 2개 출력)\n",
        "axes[2, 1].scatter(range(5), [2,8,6,10,16], color=\"red\", s=10)\n",
        "axes[2, 1].scatter([0.5, 1.5, 2.5, 3.5, 4.5], [4, 5, 6, 4, 2], color=\"purple\", s=10)\n",
        "\n",
        "plt.show()"
      ],
      "metadata": {
        "id": "gRfpqduuemkr"
      },
      "execution_count": null,
      "outputs": []
    },
    {
      "cell_type": "code",
      "source": [
        "import matplotlib.pyplot as plt\n",
        "plt.rc(\"font\", family=\"NanumBarunGothic\")\n",
        "\n",
        "f, axes = plt.subplots(2, 3)\n",
        "f.set_size_inches((10, 10))\n",
        "plt.subplots_adjust(wspace=0.3, hspace=0.3)\n",
        "\n",
        "axes[0,0].scatter(df1_m.iloc[0], df1_f.iloc[0], c=df1_f.columns, alpha=0.5, cmap=\"rainbow\")\n",
        "        \n",
        "\n",
        "axes[0,1].plot(df1_m.columns, df1_m.iloc[0], label=\"남자\")\n",
        "axes[0,1].plot(df1_f.columns, df1_f.iloc[0], label=\"여자\")\n",
        "\n",
        "axes[0,2].bar(mf_sub.columns, mf_sub.iloc[0])\n",
        "\n",
        "plt.show()"
      ],
      "metadata": {
        "id": "0zMvomrmfeqq"
      },
      "execution_count": null,
      "outputs": []
    },
    {
      "cell_type": "code",
      "source": [
        "import matplotlib.pyplot as plt\n",
        "plt.rc(\"font\", family=\"NanumBarunGothic\")\n",
        "\n",
        "plt.subplot(1, 3, 1)\n",
        "plt.scatter(df1_m.iloc[0], df1_f.iloc[0], c=df1_f.columns, alpha=0.5, cmap=\"rainbow\")\n",
        "        \n",
        "plt.subplot(1, 3, 2)\n",
        "plt.plot(df1_m.columns, df1_m.iloc[0], label=\"남자\")\n",
        "plt.plot(df1_f.columns, df1_f.iloc[0], label=\"여자\")\n",
        "\n",
        "plt.subplot(1, 3, 3)\n",
        "plt.bar(mf_sub.columns, mf_sub.iloc[0])\n",
        "\n",
        "plt.show()"
      ],
      "metadata": {
        "id": "K4BKG2ufjUdK"
      },
      "execution_count": null,
      "outputs": []
    }
  ]
}