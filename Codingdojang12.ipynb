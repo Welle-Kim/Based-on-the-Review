{
  "nbformat": 4,
  "nbformat_minor": 0,
  "metadata": {
    "colab": {
      "provenance": [],
      "collapsed_sections": [],
      "authorship_tag": "ABX9TyOKaP4tw0YuYHqGs02AuqNH",
      "include_colab_link": true
    },
    "kernelspec": {
      "name": "python3",
      "display_name": "Python 3"
    },
    "language_info": {
      "name": "python"
    }
  },
  "cells": [
    {
      "cell_type": "markdown",
      "metadata": {
        "id": "view-in-github",
        "colab_type": "text"
      },
      "source": [
        "<a href=\"https://colab.research.google.com/github/Welle-Kim/Based-on-the-Review/blob/master/Codingdojang12.ipynb\" target=\"_parent\"><img src=\"https://colab.research.google.com/assets/colab-badge.svg\" alt=\"Open In Colab\"/></a>"
      ]
    },
    {
      "cell_type": "code",
      "execution_count": null,
      "metadata": {
        "colab": {
          "base_uri": "https://localhost:8080/"
        },
        "id": "3NtK8hQC58s8",
        "outputId": "2fd57649-cbb1-4cce-8942-b77b8a99ac2d"
      },
      "outputs": [
        {
          "output_type": "execute_result",
          "data": {
            "text/plain": [
              "<re.Match object; span=(0, 5), match='Hello'>"
            ]
          },
          "metadata": {},
          "execution_count": 1
        }
      ],
      "source": [
        "import re\n",
        "re.match('Hello', 'Hello, world!')  "
      ]
    },
    {
      "cell_type": "code",
      "source": [
        "re.match('Python', 'Hello, world!')   "
      ],
      "metadata": {
        "id": "kmaiX96F6NCo"
      },
      "execution_count": null,
      "outputs": []
    },
    {
      "cell_type": "code",
      "source": [
        "re.match('hello|world', 'hello')"
      ],
      "metadata": {
        "colab": {
          "base_uri": "https://localhost:8080/"
        },
        "id": "D0jQ9Nsc6c9s",
        "outputId": "b44a558b-84ff-4e51-e7b3-9a10d7b3ec9f"
      },
      "execution_count": null,
      "outputs": [
        {
          "output_type": "execute_result",
          "data": {
            "text/plain": [
              "<re.Match object; span=(0, 5), match='hello'>"
            ]
          },
          "metadata": {},
          "execution_count": 3
        }
      ]
    },
    {
      "cell_type": "code",
      "source": [
        "re.match('[0-9]*', '1234')   # 1234는 0부터 9까지 숫자가 0개 이상 있으므로 패턴에 매칭됨"
      ],
      "metadata": {
        "colab": {
          "base_uri": "https://localhost:8080/"
        },
        "id": "m35UkozM6gsv",
        "outputId": "bca5e603-284c-4f27-edb9-38382503db4f"
      },
      "execution_count": null,
      "outputs": [
        {
          "output_type": "execute_result",
          "data": {
            "text/plain": [
              "<re.Match object; span=(0, 4), match='1234'>"
            ]
          },
          "metadata": {},
          "execution_count": 4
        }
      ]
    },
    {
      "cell_type": "code",
      "source": [
        "re.match('[0-9]+', '1234') # 1234는 0부터 9까지 숫자가 1개 이상 있으므로 패턴에 매칭됨"
      ],
      "metadata": {
        "colab": {
          "base_uri": "https://localhost:8080/"
        },
        "id": "8USRAuSr6klq",
        "outputId": "71e1b53f-d43e-4df4-ae3e-01fd702a3085"
      },
      "execution_count": null,
      "outputs": [
        {
          "output_type": "execute_result",
          "data": {
            "text/plain": [
              "<re.Match object; span=(0, 4), match='1234'>"
            ]
          },
          "metadata": {},
          "execution_count": 5
        }
      ]
    },
    {
      "cell_type": "code",
      "source": [
        "re.match('[0-9]+', 'abcd')  # abcd는 0부터 9까지 숫자가 1개 이상 없으므로 패턴에 매칭되지 않음"
      ],
      "metadata": {
        "id": "tUeTd36l6oPU"
      },
      "execution_count": null,
      "outputs": []
    },
    {
      "cell_type": "code",
      "source": [
        "import re"
      ],
      "metadata": {
        "id": "7zuZg0wDyuPj"
      },
      "execution_count": null,
      "outputs": []
    },
    {
      "cell_type": "code",
      "source": [
        "re.match('a*b', 'b')      # b에는 a가 0개 이상 있으므로 패턴에 매칭됨\n",
        "re.match('a+b', 'b')      # b에는 a가 1개 이상 없으므로 패턴에 매칭되지 않음\n",
        "re.match('a*b', 'aab')    # aab에는 a가 0개 이상 있으므로 패턴에 매칭됨\n",
        "re.match('a+b', 'aab')    # aab에는 a가 1개 이상 있으므로 패턴에 매칭됨"
      ],
      "metadata": {
        "colab": {
          "base_uri": "https://localhost:8080/"
        },
        "id": "fNZHdCzKxWvN",
        "outputId": "56cc52e1-1cbe-4d72-f908-9883ac6b1c35"
      },
      "execution_count": null,
      "outputs": [
        {
          "output_type": "execute_result",
          "data": {
            "text/plain": [
              "<re.Match object; span=(0, 3), match='aab'>"
            ]
          },
          "metadata": {},
          "execution_count": 8
        }
      ]
    },
    {
      "cell_type": "markdown",
      "source": [
        "## 43.2.0"
      ],
      "metadata": {
        "id": "abSACXj162Mw"
      }
    },
    {
      "cell_type": "code",
      "source": [
        "import re"
      ],
      "metadata": {
        "id": "aJ7vcN4uxDi-"
      },
      "execution_count": null,
      "outputs": []
    },
    {
      "cell_type": "code",
      "source": [
        "re.match('abc?d', 'abd')         # abd에서 c 위치에 c가 0개 있으므로 패턴에 매칭됨\n",
        "re.match('ab[0-9]?c', 'ab3c')    # [0-9] 위치에 숫자가 1개 있으므로 패턴에 매칭됨\n",
        "re.match('ab.d', 'abxd')         # .이 있는 위치에 문자가 1개 있으므로 패턴에 매칭됨"
      ],
      "metadata": {
        "colab": {
          "base_uri": "https://localhost:8080/"
        },
        "id": "MSJuoLcQwt5S",
        "outputId": "55389737-82ba-4628-e926-87849443afc7"
      },
      "execution_count": null,
      "outputs": [
        {
          "output_type": "execute_result",
          "data": {
            "text/plain": [
              "<re.Match object; span=(0, 4), match='abxd'>"
            ]
          },
          "metadata": {},
          "execution_count": 10
        }
      ]
    },
    {
      "cell_type": "code",
      "source": [
        "re.match('h{3}', 'hhhello')"
      ],
      "metadata": {
        "id": "ANTZb5n5xK3T",
        "colab": {
          "base_uri": "https://localhost:8080/"
        },
        "outputId": "d391bdbe-cd1e-435a-8425-ce4e34d7e3a9"
      },
      "execution_count": null,
      "outputs": [
        {
          "output_type": "execute_result",
          "data": {
            "text/plain": [
              "<re.Match object; span=(0, 3), match='hhh'>"
            ]
          },
          "metadata": {},
          "execution_count": 11
        }
      ]
    },
    {
      "cell_type": "code",
      "source": [
        "re.match('(hello){3}', 'hellohellohelloworld')"
      ],
      "metadata": {
        "colab": {
          "base_uri": "https://localhost:8080/"
        },
        "id": "amdW9rBcxO97",
        "outputId": "2e45f4b6-db40-40d2-cdf1-65b922ef4b67"
      },
      "execution_count": null,
      "outputs": [
        {
          "output_type": "execute_result",
          "data": {
            "text/plain": [
              "<re.Match object; span=(0, 15), match='hellohellohello'>"
            ]
          },
          "metadata": {},
          "execution_count": 12
        }
      ]
    },
    {
      "cell_type": "code",
      "source": [
        "re.match('[0-9]{3}-[0-9]{4}-[0-9]{4}', '010-1000-1000')    # 숫자 3개-4개-4개 패턴에 매칭됨\n",
        "re.match('[0-9]{3}-[0-9]{4}-[0-9]{4}', '010-1000-100')   # 숫자 3개-4개-4개 패턴에 매칭되지 않음"
      ],
      "metadata": {
        "id": "hX9mQXu1xgm1"
      },
      "execution_count": null,
      "outputs": []
    },
    {
      "cell_type": "code",
      "source": [
        "re.match('[0-9]{2,3}-[0-9]{3,4}-[0-9]{4}', '02-100-1000')    # 2~3개-3~4개-4개 패턴에 매칭됨\n",
        "re.match('[0-9]{2,3}-[0-9]{3,4}-[0-9]{4}', '02-10-1000')  # 2~3개-3~4개-4개 패턴에 매칭되지 않음"
      ],
      "metadata": {
        "id": "irHM2IR7xmDy"
      },
      "execution_count": null,
      "outputs": []
    },
    {
      "cell_type": "markdown",
      "source": [
        "### unit 43.2.3 숫자와 영문 문자를 조합해서 판단하기"
      ],
      "metadata": {
        "id": "LqbJyhyWyExA"
      }
    },
    {
      "cell_type": "code",
      "source": [
        "import re"
      ],
      "metadata": {
        "id": "RxHjrKoJH2bs"
      },
      "execution_count": null,
      "outputs": []
    },
    {
      "cell_type": "code",
      "source": [
        "re.match('[a-zA-Z0-9]+', 'Hello1234')    # a부터 z, A부터 Z, 0부터 9까지 1개 이상 있으므로\n",
        "re.match('[A-Z0-9]+', 'hello')    # 대문자, 숫자는 없고 소문자만 있으므로 패턴에 매칭되지 않음"
      ],
      "metadata": {
        "id": "ls059TgkHwfU"
      },
      "execution_count": null,
      "outputs": []
    },
    {
      "cell_type": "code",
      "source": [
        " re.match('[가-힣]+', '홍길동')    # 가부터 힣까지 1개 이상 있으므로 패턴에 매칭됨"
      ],
      "metadata": {
        "id": "kLNs4yILHzFq",
        "outputId": "0c79983e-7d46-48ac-dd82-38d54ec5eafd",
        "colab": {
          "base_uri": "https://localhost:8080/"
        }
      },
      "execution_count": null,
      "outputs": [
        {
          "output_type": "execute_result",
          "data": {
            "text/plain": [
              "<re.Match object; span=(0, 3), match='홍길동'>"
            ]
          },
          "metadata": {},
          "execution_count": 17
        }
      ]
    },
    {
      "cell_type": "code",
      "source": [
        "import re"
      ],
      "metadata": {
        "id": "aTQ3w3GQgZ1W"
      },
      "execution_count": null,
      "outputs": []
    },
    {
      "cell_type": "code",
      "source": [
        "\n",
        "re.match('[^A-Z]+', 'Hello')    # 대문자를 제외. 대문자가 있으므로 패턴에 매칭되지 않음\n",
        "re.match('[^A-Z]+', 'hello')    # 대문자를 제외. 대문자가 없으므로 패턴에 매칭됨"
      ],
      "metadata": {
        "id": "uvZJj4mWH3h2",
        "colab": {
          "base_uri": "https://localhost:8080/"
        },
        "outputId": "55a7f48d-f010-40fb-b2b5-d3c179950916"
      },
      "execution_count": null,
      "outputs": [
        {
          "output_type": "execute_result",
          "data": {
            "text/plain": [
              "<re.Match object; span=(0, 5), match='hello'>"
            ]
          },
          "metadata": {},
          "execution_count": 19
        }
      ]
    },
    {
      "cell_type": "code",
      "source": [
        "re.search('^[A-Z]+', 'Hello')        # 대문자로 시작하므로 패턴에 매칭됨"
      ],
      "metadata": {
        "colab": {
          "base_uri": "https://localhost:8080/"
        },
        "id": "74TLZGnugduB",
        "outputId": "02e1ab2a-e120-441a-dc62-d7a2878d71dc"
      },
      "execution_count": null,
      "outputs": [
        {
          "output_type": "execute_result",
          "data": {
            "text/plain": [
              "<re.Match object; span=(0, 1), match='H'>"
            ]
          },
          "metadata": {},
          "execution_count": 20
        }
      ]
    },
    {
      "cell_type": "code",
      "source": [
        "re.search('[0-9]+$', 'Hello1234')    # 숫자로 끝나므로 패턴에 매칭됨"
      ],
      "metadata": {
        "colab": {
          "base_uri": "https://localhost:8080/"
        },
        "id": "HXONsPPNgeC5",
        "outputId": "19a60e12-9314-4a78-fbde-d44297aaa353"
      },
      "execution_count": null,
      "outputs": [
        {
          "output_type": "execute_result",
          "data": {
            "text/plain": [
              "<re.Match object; span=(5, 9), match='1234'>"
            ]
          },
          "metadata": {},
          "execution_count": 21
        }
      ]
    },
    {
      "cell_type": "markdown",
      "source": [
        "## 43.2.5 특수문자 판단하기"
      ],
      "metadata": {
        "id": "hDixW_Rifucl"
      }
    },
    {
      "cell_type": "code",
      "source": [
        "re.search('\\*+', '1 ** 2') # *이 들어있는지 판단     "
      ],
      "metadata": {
        "id": "wJPSl61zgglH",
        "colab": {
          "base_uri": "https://localhost:8080/"
        },
        "outputId": "0d9c105d-1e96-4413-c509-f471a2866269"
      },
      "execution_count": null,
      "outputs": [
        {
          "output_type": "execute_result",
          "data": {
            "text/plain": [
              "<re.Match object; span=(2, 4), match='**'>"
            ]
          },
          "metadata": {},
          "execution_count": 22
        }
      ]
    },
    {
      "cell_type": "code",
      "source": [
        "re.match('[$()a-zA-Z0-9]+', '$(document)')    # $, (, )와 문자, 숫자가 들어있는지 판단"
      ],
      "metadata": {
        "colab": {
          "base_uri": "https://localhost:8080/"
        },
        "id": "jjtNcbyXfzvc",
        "outputId": "17be6e4a-ffde-45c5-9fce-9246eab85f7f"
      },
      "execution_count": null,
      "outputs": [
        {
          "output_type": "execute_result",
          "data": {
            "text/plain": [
              "<re.Match object; span=(0, 11), match='$(document)'>"
            ]
          },
          "metadata": {},
          "execution_count": 23
        }
      ]
    },
    {
      "cell_type": "markdown",
      "source": [
        "- \\d: [0-9]와 같음. 모든 숫자\n",
        "- \\D: [^0-9]와 같음. 숫자를 제외한 모든 문자\n",
        "- \\w: [a-zA-Z0-9_]와 같음. 영문 대소문자, 숫자, 밑줄 문자\n",
        "- \\W: [^a-zA-Z0-9_]와 같음. 영문 대소문자, 숫자, 밑줄 문자를 제외한 모든 문자"
      ],
      "metadata": {
        "id": "356eWISwf9S7"
      }
    },
    {
      "cell_type": "code",
      "source": [
        "re.match('\\d+', '1234')          # 모든 숫자이므로 패턴에 매칭됨"
      ],
      "metadata": {
        "colab": {
          "base_uri": "https://localhost:8080/"
        },
        "id": "QY38kCb9f9u3",
        "outputId": "658a1e31-5dc2-49f6-bae5-5fab2ce65fe8"
      },
      "execution_count": null,
      "outputs": [
        {
          "output_type": "execute_result",
          "data": {
            "text/plain": [
              "<re.Match object; span=(0, 4), match='1234'>"
            ]
          },
          "metadata": {},
          "execution_count": 24
        }
      ]
    },
    {
      "cell_type": "code",
      "source": [
        "re.match('\\D+', 'Hello')         # 숫자를 제외한 모든 문자이므로 패턴에 매칭됨"
      ],
      "metadata": {
        "colab": {
          "base_uri": "https://localhost:8080/"
        },
        "id": "24hEN6jEgFLY",
        "outputId": "7be6d060-df42-4f24-e9f7-a3e21221b21e"
      },
      "execution_count": null,
      "outputs": [
        {
          "output_type": "execute_result",
          "data": {
            "text/plain": [
              "<re.Match object; span=(0, 5), match='Hello'>"
            ]
          },
          "metadata": {},
          "execution_count": 25
        }
      ]
    },
    {
      "cell_type": "code",
      "source": [
        "re.match('\\w+', 'Hello_1234')    # 영문 대소문자, 숫자, 밑줄 문자이므로 패턴에 매칭됨"
      ],
      "metadata": {
        "colab": {
          "base_uri": "https://localhost:8080/"
        },
        "id": "jj9R5d_YgFwG",
        "outputId": "f89e8527-e980-4f24-b2ee-985694500fc0"
      },
      "execution_count": null,
      "outputs": [
        {
          "output_type": "execute_result",
          "data": {
            "text/plain": [
              "<re.Match object; span=(0, 10), match='Hello_1234'>"
            ]
          },
          "metadata": {},
          "execution_count": 26
        }
      ]
    },
    {
      "cell_type": "code",
      "source": [
        "re.match('\\W+', '(:)')    # 영문 대소문자, 숫자, 밑줄문자를 제외한 모든 문자이므로 패턴에 매칭됨"
      ],
      "metadata": {
        "colab": {
          "base_uri": "https://localhost:8080/"
        },
        "id": "Ya20RJa8gSLp",
        "outputId": "955b853d-0b47-47a6-e97e-8e2412533e69"
      },
      "execution_count": null,
      "outputs": [
        {
          "output_type": "execute_result",
          "data": {
            "text/plain": [
              "<re.Match object; span=(0, 3), match='(:)'>"
            ]
          },
          "metadata": {},
          "execution_count": 27
        }
      ]
    },
    {
      "cell_type": "code",
      "source": [
        "import re"
      ],
      "metadata": {
        "id": "heXSnJnMgU1c"
      },
      "execution_count": null,
      "outputs": []
    },
    {
      "cell_type": "code",
      "source": [
        "re.match('[a-zA-Z0-9 ]+', 'Hello 1234')     # ' '로 공백 표현"
      ],
      "metadata": {
        "colab": {
          "base_uri": "https://localhost:8080/"
        },
        "id": "JsWO9lUQy5fu",
        "outputId": "a466e09e-06e6-4c20-ccbc-b6e8a6f63cb1"
      },
      "execution_count": null,
      "outputs": [
        {
          "output_type": "execute_result",
          "data": {
            "text/plain": [
              "<re.Match object; span=(0, 10), match='Hello 1234'>"
            ]
          },
          "metadata": {},
          "execution_count": 29
        }
      ]
    },
    {
      "cell_type": "code",
      "source": [
        "re.match('[a-zA-Z0-9\\s]+', 'Hello 1234')    # \\s로 공백 표현"
      ],
      "metadata": {
        "colab": {
          "base_uri": "https://localhost:8080/"
        },
        "id": "kryN1_SozHpW",
        "outputId": "41d4c109-0303-46b9-b090-203d3d519e79"
      },
      "execution_count": null,
      "outputs": [
        {
          "output_type": "execute_result",
          "data": {
            "text/plain": [
              "<re.Match object; span=(0, 10), match='Hello 1234'>"
            ]
          },
          "metadata": {},
          "execution_count": 30
        }
      ]
    },
    {
      "cell_type": "code",
      "source": [
        "p = re.compile('[0-9]+')    # 정규표현식 패턴을 객체로 만듦"
      ],
      "metadata": {
        "id": "OtwcBmKUzJka"
      },
      "execution_count": null,
      "outputs": []
    },
    {
      "cell_type": "code",
      "source": [
        "p.match(\"1234\")"
      ],
      "metadata": {
        "colab": {
          "base_uri": "https://localhost:8080/"
        },
        "id": "GDXQA5gqzPLV",
        "outputId": "d94fe5c6-657c-41ac-e953-cdcd592b6438"
      },
      "execution_count": null,
      "outputs": [
        {
          "output_type": "execute_result",
          "data": {
            "text/plain": [
              "<re.Match object; span=(0, 4), match='1234'>"
            ]
          },
          "metadata": {},
          "execution_count": 32
        }
      ]
    },
    {
      "cell_type": "code",
      "source": [
        "p.search(\"hello\")"
      ],
      "metadata": {
        "id": "AsMGvuyDzSkY"
      },
      "execution_count": null,
      "outputs": []
    },
    {
      "cell_type": "code",
      "source": [
        "m = re.match('([0-9]+) ([0-9]+)', '10 295')"
      ],
      "metadata": {
        "id": "hFya0uatzYL8"
      },
      "execution_count": null,
      "outputs": []
    },
    {
      "cell_type": "code",
      "source": [
        "m.group(1)    # 첫 번째 그룹(그룹 1)에 매칭된 문자열을 반환"
      ],
      "metadata": {
        "colab": {
          "base_uri": "https://localhost:8080/",
          "height": 36
        },
        "id": "qDjSSJKat8uz",
        "outputId": "2db9b5c4-de23-4b0a-de72-4cf7dc67f108"
      },
      "execution_count": null,
      "outputs": [
        {
          "output_type": "execute_result",
          "data": {
            "text/plain": [
              "'10'"
            ],
            "application/vnd.google.colaboratory.intrinsic+json": {
              "type": "string"
            }
          },
          "metadata": {},
          "execution_count": 35
        }
      ]
    },
    {
      "cell_type": "code",
      "source": [
        "m.group(2)    # 두 번째 그룹(그룹 2)에 매칭된 문자열을 반환"
      ],
      "metadata": {
        "colab": {
          "base_uri": "https://localhost:8080/",
          "height": 36
        },
        "id": "jHXBEXVkuHvR",
        "outputId": "1d38166b-cf5a-4aff-af73-23e0743f0553"
      },
      "execution_count": null,
      "outputs": [
        {
          "output_type": "execute_result",
          "data": {
            "text/plain": [
              "'295'"
            ],
            "application/vnd.google.colaboratory.intrinsic+json": {
              "type": "string"
            }
          },
          "metadata": {},
          "execution_count": 36
        }
      ]
    },
    {
      "cell_type": "code",
      "source": [
        "m.group()     # 매칭된 문자열을 한꺼번에 반환"
      ],
      "metadata": {
        "colab": {
          "base_uri": "https://localhost:8080/",
          "height": 36
        },
        "id": "EFy1njWSuJ0K",
        "outputId": "202b1fe7-18f1-4abb-b9db-04f72d8ee243"
      },
      "execution_count": null,
      "outputs": [
        {
          "output_type": "execute_result",
          "data": {
            "text/plain": [
              "'10 295'"
            ],
            "application/vnd.google.colaboratory.intrinsic+json": {
              "type": "string"
            }
          },
          "metadata": {},
          "execution_count": 37
        }
      ]
    },
    {
      "cell_type": "code",
      "source": [
        "m.group()     # 매칭된 문자열을 한꺼번에 반환"
      ],
      "metadata": {
        "colab": {
          "base_uri": "https://localhost:8080/",
          "height": 36
        },
        "id": "rqAORs_CuKnf",
        "outputId": "01412513-8d7d-467e-e9d7-42e38fa80172"
      },
      "execution_count": null,
      "outputs": [
        {
          "output_type": "execute_result",
          "data": {
            "text/plain": [
              "'10 295'"
            ],
            "application/vnd.google.colaboratory.intrinsic+json": {
              "type": "string"
            }
          },
          "metadata": {},
          "execution_count": 38
        }
      ]
    },
    {
      "cell_type": "code",
      "source": [
        "import re\n",
        " \n",
        "p = re.compile('^[a-zA-Z0-9+-_.]+@[a-zA-Z0-9-]+\\.[a-zA-Z0-9-.]+$')\n",
        "emails = ['python@mail.example.com', 'python+kr@example.com',              # 올바른 형식\n",
        "          'python-dojang@example.co.kr', 'python_10@example.info',         # 올바른 형식\n",
        "          'python.dojang@e-xample.com',                                    # 올바른 형식\n",
        "          '@example.com', 'python@example', 'python@example-com']          # 잘못된 형식\n",
        " \n",
        "for email in emails:\n",
        "    print(p.match(email) != None, end=' ')"
      ],
      "metadata": {
        "colab": {
          "base_uri": "https://localhost:8080/"
        },
        "id": "pfIrJI9OHynr",
        "outputId": "4a468955-0dfd-47d7-aa27-05357910d547"
      },
      "execution_count": null,
      "outputs": [
        {
          "output_type": "stream",
          "name": "stdout",
          "text": [
            "True True True True True False False False "
          ]
        }
      ]
    },
    {
      "cell_type": "markdown",
      "source": [
        "## 43.6 URL 검사하기 차례"
      ],
      "metadata": {
        "id": "cYhsRCltH6EW"
      }
    },
    {
      "cell_type": "code",
      "source": [
        "import re\n",
        "p = re.compile('^(https?://)[a-zA-Z0-9-]+\\.[a-zA-Z0-9-.]+/[a-zA-Z0-9-_/.?=]*')\n",
        "print(p.match(input()) != None)"
      ],
      "metadata": {
        "id": "RIJtA2rXT-b4",
        "outputId": "6b443989-09be-48ad-bff7-257c330dfe16",
        "colab": {
          "base_uri": "https://localhost:8080/"
        }
      },
      "execution_count": null,
      "outputs": [
        {
          "output_type": "stream",
          "name": "stdout",
          "text": [
            "dde\n",
            "False\n"
          ]
        }
      ]
    },
    {
      "cell_type": "code",
      "source": [
        "import math\n",
        "math.pi"
      ],
      "metadata": {
        "colab": {
          "base_uri": "https://localhost:8080/"
        },
        "id": "olYv8aI7vP0f",
        "outputId": "c2dd6750-751c-4edb-e58c-d0f411fa3ace"
      },
      "execution_count": null,
      "outputs": [
        {
          "output_type": "execute_result",
          "data": {
            "text/plain": [
              "3.141592653589793"
            ]
          },
          "metadata": {},
          "execution_count": 1
        }
      ]
    },
    {
      "cell_type": "code",
      "source": [
        "import math\n",
        "math.sqrt(4.0)"
      ],
      "metadata": {
        "id": "mHbhs3t6vR_x",
        "outputId": "495b97d6-b1d1-4adb-9f21-fd3d7d0c5878",
        "colab": {
          "base_uri": "https://localhost:8080/"
        }
      },
      "execution_count": null,
      "outputs": [
        {
          "output_type": "execute_result",
          "data": {
            "text/plain": [
              "2.0"
            ]
          },
          "metadata": {},
          "execution_count": 1
        }
      ]
    },
    {
      "cell_type": "markdown",
      "source": [
        "###44.1.1"
      ],
      "metadata": {
        "id": "b4O3D4xTcfOq"
      }
    },
    {
      "cell_type": "code",
      "source": [
        "import math as m\n",
        "m.sqrt(4.0)"
      ],
      "metadata": {
        "id": "PNv9ekkIcd_X",
        "colab": {
          "base_uri": "https://localhost:8080/"
        },
        "outputId": "449d6043-c08f-4039-ec0c-5a9d74a55abe"
      },
      "execution_count": null,
      "outputs": [
        {
          "output_type": "execute_result",
          "data": {
            "text/plain": [
              "2.0"
            ]
          },
          "metadata": {},
          "execution_count": 1
        }
      ]
    },
    {
      "cell_type": "code",
      "source": [
        "m.sqrt(2.0)"
      ],
      "metadata": {
        "colab": {
          "base_uri": "https://localhost:8080/"
        },
        "id": "LMU0KbX9Fpjc",
        "outputId": "a61d57bd-db67-4f23-af2f-2f8313be90d9"
      },
      "execution_count": null,
      "outputs": [
        {
          "output_type": "execute_result",
          "data": {
            "text/plain": [
              "1.4142135623730951"
            ]
          },
          "metadata": {},
          "execution_count": 2
        }
      ]
    },
    {
      "cell_type": "code",
      "source": [
        "from math import pi"
      ],
      "metadata": {
        "id": "qOLrj-J-FyWk"
      },
      "execution_count": null,
      "outputs": []
    },
    {
      "cell_type": "code",
      "source": [
        "pi"
      ],
      "metadata": {
        "colab": {
          "base_uri": "https://localhost:8080/"
        },
        "id": "tICC_Z2BF8pE",
        "outputId": "38caad7a-009c-4c29-91fd-84c313be349c"
      },
      "execution_count": null,
      "outputs": [
        {
          "output_type": "execute_result",
          "data": {
            "text/plain": [
              "3.141592653589793"
            ]
          },
          "metadata": {},
          "execution_count": 4
        }
      ]
    },
    {
      "cell_type": "code",
      "source": [
        "from math import sqrt\n",
        "sqrt(4.0)"
      ],
      "metadata": {
        "colab": {
          "base_uri": "https://localhost:8080/"
        },
        "id": "rHtO7c6rF9lh",
        "outputId": "44a8271c-81ac-459f-d7ed-9df04c800556"
      },
      "execution_count": null,
      "outputs": [
        {
          "output_type": "execute_result",
          "data": {
            "text/plain": [
              "2.0"
            ]
          },
          "metadata": {},
          "execution_count": 5
        }
      ]
    },
    {
      "cell_type": "code",
      "source": [
        "sqrt(2.0)"
      ],
      "metadata": {
        "colab": {
          "base_uri": "https://localhost:8080/"
        },
        "id": "DesDmKHrGD7l",
        "outputId": "0112f5de-a0cc-40e5-fe33-ad70e28476a6"
      },
      "execution_count": null,
      "outputs": [
        {
          "output_type": "execute_result",
          "data": {
            "text/plain": [
              "1.4142135623730951"
            ]
          },
          "metadata": {},
          "execution_count": 6
        }
      ]
    },
    {
      "cell_type": "code",
      "source": [
        "from math import pi, sqrt    # math 모듈에서 pi, sqrt를 가져옴\n",
        "pi"
      ],
      "metadata": {
        "colab": {
          "base_uri": "https://localhost:8080/"
        },
        "id": "stcMvO4OGGH1",
        "outputId": "287d2657-1404-49ad-a838-6541bf96e9fc"
      },
      "execution_count": null,
      "outputs": [
        {
          "output_type": "execute_result",
          "data": {
            "text/plain": [
              "3.141592653589793"
            ]
          },
          "metadata": {},
          "execution_count": 7
        }
      ]
    },
    {
      "cell_type": "code",
      "source": [
        "sqrt(4.0)"
      ],
      "metadata": {
        "colab": {
          "base_uri": "https://localhost:8080/"
        },
        "id": "JJBToZbHIlkN",
        "outputId": "e6b80139-3794-47cf-dd93-111ba0dc9378"
      },
      "execution_count": null,
      "outputs": [
        {
          "output_type": "execute_result",
          "data": {
            "text/plain": [
              "2.0"
            ]
          },
          "metadata": {},
          "execution_count": 8
        }
      ]
    },
    {
      "cell_type": "code",
      "source": [
        "sqrt(2.0)"
      ],
      "metadata": {
        "colab": {
          "base_uri": "https://localhost:8080/"
        },
        "id": "draay-x9In1v",
        "outputId": "61f8f1fa-3b77-4810-b1a2-b5befa022765"
      },
      "execution_count": null,
      "outputs": [
        {
          "output_type": "execute_result",
          "data": {
            "text/plain": [
              "1.4142135623730951"
            ]
          },
          "metadata": {},
          "execution_count": 9
        }
      ]
    },
    {
      "cell_type": "code",
      "source": [
        "from math import *    # math 모듈의 모든 변수, 함수, 클래스를 가져옴\n",
        "pi\n",
        "sqrt(4.0)\n",
        "sqrt(2.0)"
      ],
      "metadata": {
        "colab": {
          "base_uri": "https://localhost:8080/"
        },
        "id": "SWpCZWdiIpRf",
        "outputId": "fd5114c2-6507-487b-8eea-5f6f5440c475"
      },
      "execution_count": null,
      "outputs": [
        {
          "output_type": "execute_result",
          "data": {
            "text/plain": [
              "1.4142135623730951"
            ]
          },
          "metadata": {},
          "execution_count": 10
        }
      ]
    },
    {
      "cell_type": "code",
      "source": [
        "from math import sqrt as s    # math 모듈에서 sqrt 함수를 가져오면서 이름을 s로 지정\n",
        "s(4.0)\n",
        "s(2.0)"
      ],
      "metadata": {
        "colab": {
          "base_uri": "https://localhost:8080/"
        },
        "id": "gj-OeXquJIG5",
        "outputId": "82051d22-5616-4667-81e5-540b6f462d72"
      },
      "execution_count": null,
      "outputs": [
        {
          "output_type": "execute_result",
          "data": {
            "text/plain": [
              "1.4142135623730951"
            ]
          },
          "metadata": {},
          "execution_count": 11
        }
      ]
    },
    {
      "cell_type": "code",
      "source": [
        "from math import pi as p, sqrt as s\n",
        "p\n",
        "s(4.0)\n",
        "s(2.0)"
      ],
      "metadata": {
        "colab": {
          "base_uri": "https://localhost:8080/"
        },
        "id": "3XSutsg8JMlf",
        "outputId": "f0664eb9-3184-423d-c519-8e0511fb04f5"
      },
      "execution_count": null,
      "outputs": [
        {
          "output_type": "execute_result",
          "data": {
            "text/plain": [
              "1.4142135623730951"
            ]
          },
          "metadata": {},
          "execution_count": 13
        }
      ]
    },
    {
      "cell_type": "code",
      "source": [
        "import math\n",
        "del math\n",
        "\n",
        "import importlib\n",
        "import math\n",
        "importlib.reload(math)\n"
      ],
      "metadata": {
        "colab": {
          "base_uri": "https://localhost:8080/"
        },
        "id": "qSn93AoOJRCf",
        "outputId": "a64efc76-e3a4-4a6f-9b30-d7006ab465aa"
      },
      "execution_count": null,
      "outputs": [
        {
          "output_type": "execute_result",
          "data": {
            "text/plain": [
              "<module 'math' (built-in)>"
            ]
          },
          "metadata": {},
          "execution_count": 14
        }
      ]
    },
    {
      "cell_type": "code",
      "source": [
        "import requests  \n",
        "r = requests.get('http://www.google.co.kr')\n",
        "r.status_code"
      ],
      "metadata": {
        "id": "2izmz7r4ItJx",
        "outputId": "bc0c66ac-4d55-4de5-9162-ce70b0428468",
        "colab": {
          "base_uri": "https://localhost:8080/"
        }
      },
      "execution_count": null,
      "outputs": [
        {
          "output_type": "execute_result",
          "data": {
            "text/plain": [
              "200"
            ]
          },
          "metadata": {},
          "execution_count": 1
        }
      ]
    },
    {
      "cell_type": "code",
      "source": [
        "import urllib.request\n",
        "response = urllib.request.urlopen('http://www.google.co.kr')\n",
        "response.status"
      ],
      "metadata": {
        "id": "3jPcgZ2NIx-u",
        "colab": {
          "base_uri": "https://localhost:8080/"
        },
        "outputId": "907e99b1-c2cd-469e-86c3-da74ad73dd27"
      },
      "execution_count": null,
      "outputs": [
        {
          "output_type": "execute_result",
          "data": {
            "text/plain": [
              "200"
            ]
          },
          "metadata": {},
          "execution_count": 2
        }
      ]
    },
    {
      "cell_type": "code",
      "source": [
        "import urllib.request as r    # urllib 패키지의 request 모듈을 가져오면서 이름을 r로 지정\n",
        "response = r.urlopen('http://www.google.co.kr')    # r로 urlopen 함수 사용\n",
        "response.status"
      ],
      "metadata": {
        "colab": {
          "base_uri": "https://localhost:8080/"
        },
        "id": "ejaLxy_ZSmNA",
        "outputId": "b7369c3c-86f2-4364-9cb4-195f7e17a4ca"
      },
      "execution_count": null,
      "outputs": [
        {
          "output_type": "execute_result",
          "data": {
            "text/plain": [
              "200"
            ]
          },
          "metadata": {},
          "execution_count": 3
        }
      ]
    },
    {
      "cell_type": "code",
      "source": [
        "from math import ceil,floor\n",
        "x=1.5\n",
        "\n",
        "print(ceil(x),floor(x))"
      ],
      "metadata": {
        "colab": {
          "base_uri": "https://localhost:8080/"
        },
        "id": "rZIIyo8yTGeX",
        "outputId": "f7ba05ac-bc3a-4c00-9d48-be3a0ef90c29"
      },
      "execution_count": null,
      "outputs": [
        {
          "output_type": "stream",
          "name": "stdout",
          "text": [
            "2 1\n"
          ]
        }
      ]
    },
    {
      "cell_type": "code",
      "source": [
        "import math \n",
        "#원의 넓이 : r*r*3.14\n",
        "#원의 둘레 : 2*r*3.14\n",
        "\n",
        "r=float(input(\"반지름을 일력해주세요. \\n\"))\n",
        "print(f\"원의 넓이: {r*r*3.14}\")\n",
        "print(f\"원의 둘레: {2*r*3.14}\")\n"
      ],
      "metadata": {
        "colab": {
          "base_uri": "https://localhost:8080/"
        },
        "id": "GYDdYEvqTOlw",
        "outputId": "f5cb571c-bebb-4288-99d1-e26061fcc1f6"
      },
      "execution_count": null,
      "outputs": [
        {
          "output_type": "stream",
          "name": "stdout",
          "text": [
            "반지름을 일력해주세요. \n",
            "5\n",
            "원의 넓이: 78.5\n",
            "원의 둘레: 31.400000000000002\n"
          ]
        }
      ]
    },
    {
      "cell_type": "markdown",
      "source": [
        "\n",
        "\n",
        "```\n",
        "def 데코레이터이름(func):    # 데코레이터는 호출할 함수를 매개변수로 받음\n",
        "    def wrapper():           # 호출할 함수를 감싸는 함수\n",
        "        func()               # 매개변수로 받은 함수를 호출\n",
        "    return wrapper           # wrapper 함수 반환\n",
        " \n",
        "@데코레이터                  # 데코레이터 지정\n",
        "def 함수이름():\n",
        "    코드\n",
        "```\n",
        "\n"
      ],
      "metadata": {
        "id": "Z_Sk9wNK3We6"
      }
    },
    {
      "cell_type": "code",
      "source": [
        "for i in range(6):\n",
        "  print(i+1,\"내일시험\")"
      ],
      "metadata": {
        "id": "w9PHttLf3TPc"
      },
      "execution_count": null,
      "outputs": []
    },
    {
      "cell_type": "markdown",
      "source": [
        "#### 함수의 매개변수와 반환값을 처리할 때는 wrpper함수의 매개변수를 호출할 함수의 매개변수와 똑같이 지정하고,func에 매개변수를 넣어서 호출하고 반환하면 됩니다. \n",
        "\n",
        "```\n",
        "def 데코레이터이름(func):\n",
        "  def wrapper(매개변수1,매개변수2):\n",
        "    return func(매개변수1,매개변수2)\n",
        "\n",
        "@데코레이터\n",
        "def 함수이름(매개변수1,매개변수2):\n",
        "  코드\n",
        "```\n",
        "\n"
      ],
      "metadata": {
        "id": "sdKr_QYmkbi4"
      }
    },
    {
      "cell_type": "markdown",
      "source": [
        "매개변수가 있는 데코레이터\n",
        "\n",
        "매개변수가 있는 데코레이터는 값을 지정해서 동작을 바꿀 수 있습니다. 이때는 데코레이터가 사용할 매개변수를 지정하고, 실제 데코레이터 역할을 하는 real_decorator 함수를 만듭니다. 그다음에 real_decorator 함수 안에서 wrapper 함수를 만들어줍니다.\n",
        "\n",
        "```\n",
        "def 데코레이터이름(매개변수):                    # 데코레이터가 사용할 매개변수를 지정\n",
        "    def real_decorator(func):                    # 호출할 함수를 매개변수로 받음\n",
        "        def wrapper(매개변수1, 매개변수2):       # 호출할 함수의 매개변수와 똑같이 지정\n",
        "            return func(매개변수1, 매개변수2)    # func를 호출하고 반환값을 반환\n",
        "        return wrapper                           # wrapper 함수 반환\n",
        "    return real_decorator                        # real_decorator 함수 반환\n",
        " \n",
        "@데코레이터(인수)                                # 데코레이터를 지정하면서 인수를 넣음\n",
        "def 함수이름(매개변수1, 매개변수2):\n",
        "    코드\n",
        "```\n",
        "\n"
      ],
      "metadata": {
        "id": "9JxfDjYM5kbX"
      }
    },
    {
      "cell_type": "markdown",
      "source": [
        "\n",
        "클래스로 데코레이터 만들기\n",
        "\n",
        "클래스로 데코레이터를 만들 때는 인스턴스를 함수처럼 호출하게 해주는 __call__ 메서드를 구현하고, __call__ 메서드에서 호출할 함수의 매개변수를 처리해줍니다.\n",
        "```\n",
        "class 데코레이터이름:\n",
        "    def __init__(self, func):    # 호출할 함수를 인스턴스의 초깃값으로 받음\n",
        "        self.func = func         # 호출할 함수를 속성 func에 저장\n",
        " \n",
        "    def __call__(self, 매개변수1, 매개변수2):     # __call__에서 호출할 함수의 매개변수 처리\n",
        "        return self.func(매개변수1, 매개변수2)    # self.func에 매개변수를 넣어서 호출하고\n",
        "                                                  # 반환값을 반환\n",
        "@데코레이터                      # 데코레이터 지정\n",
        "def 함수이름(매개변수1, 매개변수2):\n",
        "    코드\n",
        "```\n",
        "\n"
      ],
      "metadata": {
        "id": "3KlNY4G_OlBX"
      }
    },
    {
      "cell_type": "code",
      "source": [
        "bin(0b1101 & 0b1001)"
      ],
      "metadata": {
        "id": "1etTrQam5mwf",
        "colab": {
          "base_uri": "https://localhost:8080/",
          "height": 36
        },
        "outputId": "8361a6d1-9a57-4278-8ded-3d334e0b1462"
      },
      "execution_count": null,
      "outputs": [
        {
          "output_type": "execute_result",
          "data": {
            "text/plain": [
              "'0b1001'"
            ],
            "application/vnd.google.colaboratory.intrinsic+json": {
              "type": "string"
            }
          },
          "metadata": {},
          "execution_count": 3
        }
      ]
    },
    {
      "cell_type": "code",
      "source": [
        "13 & 9"
      ],
      "metadata": {
        "colab": {
          "base_uri": "https://localhost:8080/"
        },
        "id": "94RAERrXPNNv",
        "outputId": "b1256471-b8ce-4b31-fb5c-90a72e3b9465"
      },
      "execution_count": null,
      "outputs": [
        {
          "output_type": "execute_result",
          "data": {
            "text/plain": [
              "9"
            ]
          },
          "metadata": {},
          "execution_count": 4
        }
      ]
    },
    {
      "cell_type": "code",
      "source": [
        "bin(0b1101 & 0b1001)    # 비트 AND"
      ],
      "metadata": {
        "colab": {
          "base_uri": "https://localhost:8080/",
          "height": 36
        },
        "id": "5RrHNIgsZuyE",
        "outputId": "423604ed-b110-46cc-a5e0-189d74dd911c"
      },
      "execution_count": 1,
      "outputs": [
        {
          "output_type": "execute_result",
          "data": {
            "text/plain": [
              "'0b1001'"
            ],
            "application/vnd.google.colaboratory.intrinsic+json": {
              "type": "string"
            }
          },
          "metadata": {},
          "execution_count": 1
        }
      ]
    },
    {
      "cell_type": "code",
      "source": [
        "0b0011 << 2    # 비트를 왼쪽으로 2번 이동"
      ],
      "metadata": {
        "colab": {
          "base_uri": "https://localhost:8080/"
        },
        "id": "cj1cCF4uZ27i",
        "outputId": "5095b5ed-53d3-4a2e-e37d-681f28a74748"
      },
      "execution_count": 2,
      "outputs": [
        {
          "output_type": "execute_result",
          "data": {
            "text/plain": [
              "12"
            ]
          },
          "metadata": {},
          "execution_count": 2
        }
      ]
    }
  ]
}