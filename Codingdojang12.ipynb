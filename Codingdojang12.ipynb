{
  "nbformat": 4,
  "nbformat_minor": 0,
  "metadata": {
    "colab": {
      "provenance": [],
      "authorship_tag": "ABX9TyP2i4YPsgUn3OwMrXOtMCbB",
      "include_colab_link": true
    },
    "kernelspec": {
      "name": "python3",
      "display_name": "Python 3"
    },
    "language_info": {
      "name": "python"
    }
  },
  "cells": [
    {
      "cell_type": "markdown",
      "metadata": {
        "id": "view-in-github",
        "colab_type": "text"
      },
      "source": [
        "<a href=\"https://colab.research.google.com/github/Welle-Kim/Based-on-the-Review/blob/master/Codingdojang12.ipynb\" target=\"_parent\"><img src=\"https://colab.research.google.com/assets/colab-badge.svg\" alt=\"Open In Colab\"/></a>"
      ]
    },
    {
      "cell_type": "code",
      "execution_count": null,
      "metadata": {
        "colab": {
          "base_uri": "https://localhost:8080/"
        },
        "id": "3NtK8hQC58s8",
        "outputId": "dda32ee2-1c5a-414b-aa69-18b43dcc320a"
      },
      "outputs": [
        {
          "output_type": "execute_result",
          "data": {
            "text/plain": [
              "<re.Match object; span=(0, 5), match='Hello'>"
            ]
          },
          "metadata": {},
          "execution_count": 1
        }
      ],
      "source": [
        "import re\n",
        "re.match('Hello', 'Hello, world!')  "
      ]
    },
    {
      "cell_type": "code",
      "source": [
        "re.match('Python', 'Hello, world!')   "
      ],
      "metadata": {
        "id": "kmaiX96F6NCo"
      },
      "execution_count": null,
      "outputs": []
    },
    {
      "cell_type": "code",
      "source": [
        "re.match('hello|world', 'hello')"
      ],
      "metadata": {
        "colab": {
          "base_uri": "https://localhost:8080/"
        },
        "id": "D0jQ9Nsc6c9s",
        "outputId": "b00e01e3-bf5d-4b86-8a59-6a3d1a374ef2"
      },
      "execution_count": null,
      "outputs": [
        {
          "output_type": "execute_result",
          "data": {
            "text/plain": [
              "<re.Match object; span=(0, 5), match='hello'>"
            ]
          },
          "metadata": {},
          "execution_count": 3
        }
      ]
    },
    {
      "cell_type": "code",
      "source": [
        "re.match('[0-9]*', '1234')   # 1234는 0부터 9까지 숫자가 0개 이상 있으므로 패턴에 매칭됨"
      ],
      "metadata": {
        "colab": {
          "base_uri": "https://localhost:8080/"
        },
        "id": "m35UkozM6gsv",
        "outputId": "1bbbe3d2-68fc-439a-8de0-8cd00a64cdde"
      },
      "execution_count": null,
      "outputs": [
        {
          "output_type": "execute_result",
          "data": {
            "text/plain": [
              "<re.Match object; span=(0, 4), match='1234'>"
            ]
          },
          "metadata": {},
          "execution_count": 4
        }
      ]
    },
    {
      "cell_type": "code",
      "source": [
        "re.match('[0-9]+', '1234') # 1234는 0부터 9까지 숫자가 1개 이상 있으므로 패턴에 매칭됨"
      ],
      "metadata": {
        "colab": {
          "base_uri": "https://localhost:8080/"
        },
        "id": "8USRAuSr6klq",
        "outputId": "919b298c-ee36-4614-cb3d-535e94d5e28f"
      },
      "execution_count": null,
      "outputs": [
        {
          "output_type": "execute_result",
          "data": {
            "text/plain": [
              "<re.Match object; span=(0, 4), match='1234'>"
            ]
          },
          "metadata": {},
          "execution_count": 5
        }
      ]
    },
    {
      "cell_type": "code",
      "source": [
        "re.match('[0-9]+', 'abcd')  # abcd는 0부터 9까지 숫자가 1개 이상 없으므로 패턴에 매칭되지 않음"
      ],
      "metadata": {
        "id": "tUeTd36l6oPU"
      },
      "execution_count": null,
      "outputs": []
    },
    {
      "cell_type": "code",
      "source": [
        "import re"
      ],
      "metadata": {
        "id": "7zuZg0wDyuPj"
      },
      "execution_count": 3,
      "outputs": []
    },
    {
      "cell_type": "code",
      "source": [
        "re.match('a*b', 'b')      # b에는 a가 0개 이상 있으므로 패턴에 매칭됨\n",
        "re.match('a+b', 'b')      # b에는 a가 1개 이상 없으므로 패턴에 매칭되지 않음\n",
        "re.match('a*b', 'aab')    # aab에는 a가 0개 이상 있으므로 패턴에 매칭됨\n",
        "re.match('a+b', 'aab')    # aab에는 a가 1개 이상 있으므로 패턴에 매칭됨"
      ],
      "metadata": {
        "colab": {
          "base_uri": "https://localhost:8080/"
        },
        "id": "fNZHdCzKxWvN",
        "outputId": "65b7d88c-ec3e-47df-e191-6a9ec80123d1"
      },
      "execution_count": 4,
      "outputs": [
        {
          "output_type": "execute_result",
          "data": {
            "text/plain": [
              "<re.Match object; span=(0, 3), match='aab'>"
            ]
          },
          "metadata": {},
          "execution_count": 4
        }
      ]
    },
    {
      "cell_type": "markdown",
      "source": [
        "## 43.2.0"
      ],
      "metadata": {
        "id": "abSACXj162Mw"
      }
    }
  ]
}