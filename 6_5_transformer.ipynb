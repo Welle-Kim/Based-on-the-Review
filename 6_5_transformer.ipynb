{
  "cells": [
    {
      "cell_type": "markdown",
      "metadata": {
        "id": "view-in-github",
        "colab_type": "text"
      },
      "source": [
        "<a href=\"https://colab.research.google.com/github/Welle-Kim/Based-on-the-Review/blob/master/6_5_transformer.ipynb\" target=\"_parent\"><img src=\"https://colab.research.google.com/assets/colab-badge.svg\" alt=\"Open In Colab\"/></a>"
      ]
    },
    {
      "cell_type": "markdown",
      "metadata": {
        "id": "M-jJjUj5UX7Y"
      },
      "source": [
        "# 모듈 불러오기"
      ]
    },
    {
      "cell_type": "code",
      "source": [
        "from google.colab import drive\n",
        "drive.mount('/content/drive')"
      ],
      "metadata": {
        "colab": {
          "base_uri": "https://localhost:8080/"
        },
        "id": "uNsz55oPUZya",
        "outputId": "c8b61dfd-b00c-498f-93ae-6b5104759cd4"
      },
      "execution_count": null,
      "outputs": [
        {
          "output_type": "stream",
          "name": "stdout",
          "text": [
            "Mounted at /content/drive\n"
          ]
        }
      ]
    },
    {
      "cell_type": "code",
      "source": [
        "pip install konlpy"
      ],
      "metadata": {
        "colab": {
          "base_uri": "https://localhost:8080/"
        },
        "id": "f0cbQ-D4UjCL",
        "outputId": "f15e4c12-f0f7-4bed-e211-6de5c1d27c18"
      },
      "execution_count": null,
      "outputs": [
        {
          "output_type": "stream",
          "name": "stdout",
          "text": [
            "Looking in indexes: https://pypi.org/simple, https://us-python.pkg.dev/colab-wheels/public/simple/\n",
            "Collecting konlpy\n",
            "  Downloading konlpy-0.6.0-py2.py3-none-any.whl (19.4 MB)\n",
            "\u001b[K     |████████████████████████████████| 19.4 MB 70.2 MB/s \n",
            "\u001b[?25hRequirement already satisfied: lxml>=4.1.0 in /usr/local/lib/python3.8/dist-packages (from konlpy) (4.9.2)\n",
            "Requirement already satisfied: numpy>=1.6 in /usr/local/lib/python3.8/dist-packages (from konlpy) (1.21.6)\n",
            "Collecting JPype1>=0.7.0\n",
            "  Downloading JPype1-1.4.1-cp38-cp38-manylinux_2_12_x86_64.manylinux2010_x86_64.whl (465 kB)\n",
            "\u001b[K     |████████████████████████████████| 465 kB 50.3 MB/s \n",
            "\u001b[?25hRequirement already satisfied: packaging in /usr/local/lib/python3.8/dist-packages (from JPype1>=0.7.0->konlpy) (21.3)\n",
            "Requirement already satisfied: pyparsing!=3.0.5,>=2.0.2 in /usr/local/lib/python3.8/dist-packages (from packaging->JPype1>=0.7.0->konlpy) (3.0.9)\n",
            "Installing collected packages: JPype1, konlpy\n",
            "Successfully installed JPype1-1.4.1 konlpy-0.6.0\n"
          ]
        }
      ]
    },
    {
      "cell_type": "code",
      "source": [
        "cd /content/drive/MyDrive/6.CHATBOT"
      ],
      "metadata": {
        "colab": {
          "base_uri": "https://localhost:8080/"
        },
        "id": "lCJN797mVVKH",
        "outputId": "4b8ea76b-7177-48d1-eef1-d48ddff668c0"
      },
      "execution_count": null,
      "outputs": [
        {
          "output_type": "stream",
          "name": "stdout",
          "text": [
            "/content/drive/MyDrive/6.CHATBOT\n"
          ]
        }
      ]
    },
    {
      "cell_type": "code",
      "execution_count": null,
      "metadata": {
        "id": "RaP4W8jIUX7b"
      },
      "outputs": [],
      "source": [
        "import tensorflow as tf\n",
        "import numpy as np\n",
        "\n",
        "from konlpy.tag import Twitter\n",
        "import pandas as pd\n",
        "import tensorflow as tf\n",
        "import enum\n",
        "import os\n",
        "import re\n",
        "import json\n",
        "from sklearn.model_selection import train_test_split\n",
        "\n",
        "from tensorflow.keras.callbacks import EarlyStopping, ModelCheckpoint\n",
        "import matplotlib.pyplot as plt\n",
        "\n",
        "from preprocess import *"
      ]
    },
    {
      "cell_type": "markdown",
      "metadata": {
        "id": "1_r8SGuvUX7c"
      },
      "source": [
        "# 시각화 함수"
      ]
    },
    {
      "cell_type": "code",
      "execution_count": null,
      "metadata": {
        "id": "Zoko0jC2UX7c"
      },
      "outputs": [],
      "source": [
        "def plot_graphs(history, string):\n",
        "    plt.plot(history.history[string])\n",
        "    plt.plot(history.history['val_'+string], '')\n",
        "    plt.xlabel(\"Epochs\")\n",
        "    plt.ylabel(string)\n",
        "    plt.legend([string, 'val_'+string])\n",
        "    plt.show()"
      ]
    },
    {
      "cell_type": "markdown",
      "metadata": {
        "id": "E0W1Uco7UX7c"
      },
      "source": [
        "# 학습 데이터 경로 정의"
      ]
    },
    {
      "cell_type": "code",
      "execution_count": null,
      "metadata": {
        "id": "3SkZNU6CUX7c"
      },
      "outputs": [],
      "source": [
        "DATA_IN_PATH = './data_in/'\n",
        "DATA_OUT_PATH = './data_out/'\n",
        "TRAIN_INPUTS = 'train_inputs.npy'\n",
        "TRAIN_OUTPUTS = 'train_outputs.npy'\n",
        "TRAIN_TARGETS = 'train_targets.npy'\n",
        "DATA_CONFIGS = 'data_configs.json'"
      ]
    },
    {
      "cell_type": "markdown",
      "metadata": {
        "id": "vGzuGWf2UX7d"
      },
      "source": [
        "# 랜덤 시드 고정"
      ]
    },
    {
      "cell_type": "code",
      "execution_count": null,
      "metadata": {
        "id": "L9xUGY67UX7d"
      },
      "outputs": [],
      "source": [
        "SEED_NUM = 1234\n",
        "tf.random.set_seed(SEED_NUM)"
      ]
    },
    {
      "cell_type": "markdown",
      "metadata": {
        "id": "E9t0qWr1UX7d"
      },
      "source": [
        "# 파일 로드"
      ]
    },
    {
      "cell_type": "code",
      "execution_count": null,
      "metadata": {
        "id": "wThZ4qGQUX7d"
      },
      "outputs": [],
      "source": [
        "index_inputs = np.load(open(DATA_IN_PATH + TRAIN_INPUTS, 'rb'))\n",
        "index_outputs = np.load(open(DATA_IN_PATH + TRAIN_OUTPUTS , 'rb'))\n",
        "index_targets = np.load(open(DATA_IN_PATH + TRAIN_TARGETS , 'rb'))\n",
        "prepro_configs = json.load(open(DATA_IN_PATH + DATA_CONFIGS, 'r'))"
      ]
    },
    {
      "cell_type": "markdown",
      "metadata": {
        "id": "lD8zKfUsUX7e"
      },
      "source": [
        "# 모델 하이퍼파라메터 정의"
      ]
    },
    {
      "cell_type": "code",
      "execution_count": null,
      "metadata": {
        "id": "dKBkBJcMUX7e"
      },
      "outputs": [],
      "source": [
        "char2idx = prepro_configs['char2idx']\n",
        "end_index = prepro_configs['end_symbol']\n",
        "model_name = 'transformer'\n",
        "vocab_size = prepro_configs['vocab_size']\n",
        "BATCH_SIZE = 2\n",
        "MAX_SEQUENCE = 25\n",
        "EPOCHS = 30\n",
        "VALID_SPLIT = 0.1\n",
        "\n",
        "kargs = {'model_name': model_name,\n",
        "         'num_layers': 2,\n",
        "         'd_model': 512,\n",
        "         'num_heads': 8,\n",
        "         'dff': 2048,\n",
        "         'input_vocab_size': vocab_size,\n",
        "         'target_vocab_size': vocab_size,\n",
        "         'maximum_position_encoding': MAX_SEQUENCE,\n",
        "         'end_token_idx': char2idx[end_index],\n",
        "         'rate': 0.1\n",
        "        }"
      ]
    },
    {
      "cell_type": "markdown",
      "metadata": {
        "id": "ybPperB0UX7e"
      },
      "source": [
        "# 모델 선언 및 컴파일"
      ]
    },
    {
      "cell_type": "markdown",
      "metadata": {
        "id": "GC_ZP-wwUX7e"
      },
      "source": [
        "## 패딩 및 포워드 마스킹 "
      ]
    },
    {
      "cell_type": "code",
      "execution_count": null,
      "metadata": {
        "id": "vByH7v1dUX7e"
      },
      "outputs": [],
      "source": [
        "def create_padding_mask(seq):\n",
        "    seq = tf.cast(tf.math.equal(seq, 0), tf.float32)\n",
        "\n",
        "    # add extra dimensions to add the padding\n",
        "    # to the attention logits.\n",
        "    return seq[:, tf.newaxis, tf.newaxis, :]  # (batch_size, 1, 1, seq_len)"
      ]
    },
    {
      "cell_type": "code",
      "execution_count": null,
      "metadata": {
        "id": "qw_BG1uQUX7f"
      },
      "outputs": [],
      "source": [
        "def create_look_ahead_mask(size):\n",
        "    mask = 1 - tf.linalg.band_part(tf.ones((size, size)), -1, 0)\n",
        "    return mask  # (seq_len, seq_len)"
      ]
    },
    {
      "cell_type": "code",
      "execution_count": null,
      "metadata": {
        "id": "RW5ZDWY8UX7f"
      },
      "outputs": [],
      "source": [
        "def create_masks(inp, tar):\n",
        "    # Encoder padding mask\n",
        "    enc_padding_mask = create_padding_mask(inp)\n",
        "\n",
        "    # Used in the 2nd attention block in the decoder.\n",
        "    # This padding mask is used to mask the encoder outputs.\n",
        "    dec_padding_mask = create_padding_mask(inp)\n",
        "\n",
        "    # Used in the 1st attention block in the decoder.\n",
        "    # It is used to pad and mask future tokens in the input received by \n",
        "    # the decoder.\n",
        "    look_ahead_mask = create_look_ahead_mask(tf.shape(tar)[1])\n",
        "    dec_target_padding_mask = create_padding_mask(tar)\n",
        "    combined_mask = tf.maximum(dec_target_padding_mask, look_ahead_mask)\n",
        "\n",
        "    return enc_padding_mask, combined_mask, dec_padding_mask"
      ]
    },
    {
      "cell_type": "code",
      "execution_count": null,
      "metadata": {
        "id": "9URBQYaiUX7f"
      },
      "outputs": [],
      "source": [
        "enc_padding_mask, look_ahead_mask, dec_padding_mask = create_masks(index_inputs, index_outputs)"
      ]
    },
    {
      "cell_type": "markdown",
      "metadata": {
        "id": "qnG1nB8gUX7f"
      },
      "source": [
        "## 포지셔널 인코딩"
      ]
    },
    {
      "cell_type": "code",
      "execution_count": null,
      "metadata": {
        "id": "oFSNdu2zUX7f"
      },
      "outputs": [],
      "source": [
        "def get_angles(pos, i, d_model):\n",
        "    angle_rates = 1 / np.power(10000, (2 * i//2) / np.float32(d_model))\n",
        "    return pos * angle_rates"
      ]
    },
    {
      "cell_type": "code",
      "execution_count": null,
      "metadata": {
        "id": "MZ2qmWOgUX7f"
      },
      "outputs": [],
      "source": [
        "def positional_encoding(position, d_model):\n",
        "    angle_rads = get_angles(np.arange(position)[:, np.newaxis],\n",
        "                          np.arange(d_model)[np.newaxis, :],\n",
        "                          d_model)\n",
        "\n",
        "    # apply sin to even indices in the array; 2i\n",
        "    angle_rads[:, 0::2] = np.sin(angle_rads[:, 0::2])\n",
        "\n",
        "    # apply cos to odd indices in the array; 2i+1\n",
        "    angle_rads[:, 1::2] = np.cos(angle_rads[:, 1::2])\n",
        "\n",
        "    pos_encoding = angle_rads[np.newaxis, ...]\n",
        "\n",
        "    return tf.cast(pos_encoding, dtype=tf.float32)"
      ]
    },
    {
      "cell_type": "code",
      "execution_count": null,
      "metadata": {
        "colab": {
          "base_uri": "https://localhost:8080/",
          "height": 301
        },
        "id": "AsSSw86HUX7g",
        "outputId": "e12f8366-941a-46fe-cf8f-c1cab5a602c5"
      },
      "outputs": [
        {
          "output_type": "stream",
          "name": "stdout",
          "text": [
            "(1, 50, 512)\n"
          ]
        },
        {
          "output_type": "display_data",
          "data": {
            "text/plain": [
              "<Figure size 432x288 with 2 Axes>"
            ],
            "image/png": "[encoded data removed]"
          },
          "metadata": {
            "needs_background": "light"
          }
        }
      ],
      "source": [
        "pos_encoding = positional_encoding(50, 512)\n",
        "print (pos_encoding.shape)\n",
        "\n",
        "plt.pcolormesh(pos_encoding[0], cmap='RdBu')\n",
        "plt.xlabel('Depth')\n",
        "plt.xlim((0, 512))\n",
        "plt.ylabel('Position')\n",
        "plt.colorbar()\n",
        "plt.show()"
      ]
    },
    {
      "cell_type": "markdown",
      "metadata": {
        "id": "Ztc2c8f0UX7g"
      },
      "source": [
        "## 어텐션"
      ]
    },
    {
      "cell_type": "code",
      "execution_count": null,
      "metadata": {
        "id": "0vTjiTpgUX7g"
      },
      "outputs": [],
      "source": [
        "def scaled_dot_product_attention(q, k, v, mask):\n",
        "    \"\"\"Calculate the attention weights.\n",
        "    q, k, v must have matching leading dimensions.\n",
        "    k, v must have matching penultimate dimension, i.e.: seq_len_k = seq_len_v.\n",
        "    The mask has different shapes depending on its type(padding or look ahead) \n",
        "    but it must be broadcastable for addition.\n",
        "\n",
        "    Args:\n",
        "    q: query shape == (..., seq_len_q, depth)\n",
        "    k: key shape == (..., seq_len_k, depth)\n",
        "    v: value shape == (..., seq_len_v, depth_v)\n",
        "    mask: Float tensor with shape broadcastable \n",
        "          to (..., seq_len_q, seq_len_k). Defaults to None.\n",
        "\n",
        "    Returns:\n",
        "    output, attention_weights\n",
        "    \"\"\"\n",
        "\n",
        "    matmul_qk = tf.matmul(q, k, transpose_b=True)  # (..., seq_len_q, seq_len_k)\n",
        "\n",
        "    # scale matmul_qk\n",
        "    dk = tf.cast(tf.shape(k)[-1], tf.float32)\n",
        "    scaled_attention_logits = matmul_qk / tf.math.sqrt(dk)\n",
        "\n",
        "    # add the mask to the scaled tensor.\n",
        "    if mask is not None:\n",
        "        scaled_attention_logits += (mask * -1e9)  \n",
        "\n",
        "    # softmax is normalized on the last axis (seq_len_k) so that the scores\n",
        "    # add up to 1.\n",
        "    attention_weights = tf.nn.softmax(scaled_attention_logits, axis=-1)  # (..., seq_len_q, seq_len_k)\n",
        "\n",
        "    output = tf.matmul(attention_weights, v)  # (..., seq_len_q, depth_v)\n",
        "\n",
        "    return output, attention_weights"
      ]
    },
    {
      "cell_type": "markdown",
      "metadata": {
        "id": "UaWP4JkFUX7g"
      },
      "source": [
        "## 멀티헤드 어텐션"
      ]
    },
    {
      "cell_type": "code",
      "execution_count": null,
      "metadata": {
        "id": "yGUWdrC7UX7g"
      },
      "outputs": [],
      "source": [
        "class MultiHeadAttention(tf.keras.layers.Layer):\n",
        "    def __init__(self, **kargs):\n",
        "        super(MultiHeadAttention, self).__init__()\n",
        "        self.num_heads = kargs['num_heads']\n",
        "        self.d_model = kargs['d_model']\n",
        "\n",
        "        assert self.d_model % self.num_heads == 0\n",
        "\n",
        "        self.depth = self.d_model // self.num_heads\n",
        "\n",
        "        self.wq = tf.keras.layers.Dense(kargs['d_model'])\n",
        "        self.wk = tf.keras.layers.Dense(kargs['d_model'])\n",
        "        self.wv = tf.keras.layers.Dense(kargs['d_model'])\n",
        "\n",
        "        self.dense = tf.keras.layers.Dense(kargs['d_model'])\n",
        "\n",
        "    def split_heads(self, x, batch_size):\n",
        "        \"\"\"Split the last dimension into (num_heads, depth).\n",
        "        Transpose the result such that the shape is (batch_size, num_heads, seq_len, depth)\n",
        "        \"\"\"\n",
        "        x = tf.reshape(x, (batch_size, -1, self.num_heads, self.depth))\n",
        "        return tf.transpose(x, perm=[0, 2, 1, 3])\n",
        "\n",
        "    def call(self, v, k, q, mask):\n",
        "        batch_size = tf.shape(q)[0]\n",
        "\n",
        "        q = self.wq(q)  # (batch_size, seq_len, d_model)\n",
        "        k = self.wk(k)  # (batch_size, seq_len, d_model)\n",
        "        v = self.wv(v)  # (batch_size, seq_len, d_model)\n",
        "\n",
        "        q = self.split_heads(q, batch_size)  # (batch_size, num_heads, seq_len_q, depth)\n",
        "        k = self.split_heads(k, batch_size)  # (batch_size, num_heads, seq_len_k, depth)\n",
        "        v = self.split_heads(v, batch_size)  # (batch_size, num_heads, seq_len_v, depth)\n",
        "\n",
        "        # scaled_attention.shape == (batch_size, num_heads, seq_len_q, depth)\n",
        "        # attention_weights.shape == (batch_size, num_heads, seq_len_q, seq_len_k)\n",
        "        scaled_attention, attention_weights = scaled_dot_product_attention(\n",
        "            q, k, v, mask)\n",
        "\n",
        "        scaled_attention = tf.transpose(scaled_attention, perm=[0, 2, 1, 3])  # (batch_size, seq_len_q, num_heads, depth)\n",
        "\n",
        "        concat_attention = tf.reshape(scaled_attention, \n",
        "                                      (batch_size, -1, self.d_model))  # (batch_size, seq_len_q, d_model)\n",
        "\n",
        "        output = self.dense(concat_attention)  # (batch_size, seq_len_q, d_model)\n",
        "\n",
        "        return output, attention_weights"
      ]
    },
    {
      "cell_type": "markdown",
      "metadata": {
        "id": "9QCyVAvPUX7h"
      },
      "source": [
        "## 포인트 와이즈 피드포워드 네트워크 "
      ]
    },
    {
      "cell_type": "code",
      "execution_count": null,
      "metadata": {
        "id": "l94bBvaPUX7h"
      },
      "outputs": [],
      "source": [
        "def point_wise_feed_forward_network(**kargs):\n",
        "    return tf.keras.Sequential([\n",
        "      tf.keras.layers.Dense(kargs['dff'], activation='relu'),  # (batch_size, seq_len, dff)\n",
        "      tf.keras.layers.Dense(kargs['d_model'])  # (batch_size, seq_len, d_model)\n",
        "    ])\n"
      ]
    },
    {
      "cell_type": "markdown",
      "metadata": {
        "id": "Zy1yBHQZUX7h"
      },
      "source": [
        "## 인코더 레이어"
      ]
    },
    {
      "cell_type": "code",
      "execution_count": null,
      "metadata": {
        "id": "SMiNMcPdUX7h"
      },
      "outputs": [],
      "source": [
        "class EncoderLayer(tf.keras.layers.Layer):\n",
        "    def __init__(self, **kargs):\n",
        "        super(EncoderLayer, self).__init__()\n",
        "\n",
        "        self.mha = MultiHeadAttention(**kargs)\n",
        "        self.ffn = point_wise_feed_forward_network(**kargs)\n",
        "\n",
        "        self.layernorm1 = tf.keras.layers.LayerNormalization(epsilon=1e-6)\n",
        "        self.layernorm2 = tf.keras.layers.LayerNormalization(epsilon=1e-6)\n",
        "\n",
        "        self.dropout1 = tf.keras.layers.Dropout(kargs['rate'])\n",
        "        self.dropout2 = tf.keras.layers.Dropout(kargs['rate'])\n",
        "\n",
        "    def call(self, x, mask):\n",
        "        attn_output, _ = self.mha(x, x, x, mask)  # (batch_size, input_seq_len, d_model)\n",
        "        attn_output = self.dropout1(attn_output)\n",
        "        out1 = self.layernorm1(x + attn_output)  # (batch_size, input_seq_len, d_model)\n",
        "\n",
        "        ffn_output = self.ffn(out1)  # (batch_size, input_seq_len, d_model)\n",
        "        ffn_output = self.dropout2(ffn_output)\n",
        "        out2 = self.layernorm2(out1 + ffn_output)  # (batch_size, input_seq_len, d_model)\n",
        "\n",
        "        return out2"
      ]
    },
    {
      "cell_type": "markdown",
      "metadata": {
        "id": "eMPMhoMVUX7h"
      },
      "source": [
        "## 디코더 레이어"
      ]
    },
    {
      "cell_type": "code",
      "execution_count": null,
      "metadata": {
        "id": "XNhs1vnBUX7h"
      },
      "outputs": [],
      "source": [
        "class DecoderLayer(tf.keras.layers.Layer):\n",
        "    def __init__(self, **kargs):\n",
        "        super(DecoderLayer, self).__init__()\n",
        "\n",
        "        self.mha1 = MultiHeadAttention(**kargs)\n",
        "        self.mha2 = MultiHeadAttention(**kargs)\n",
        "\n",
        "        self.ffn = point_wise_feed_forward_network(**kargs)\n",
        "\n",
        "        self.layernorm1 = tf.keras.layers.LayerNormalization(epsilon=1e-6)\n",
        "        self.layernorm2 = tf.keras.layers.LayerNormalization(epsilon=1e-6)\n",
        "        self.layernorm3 = tf.keras.layers.LayerNormalization(epsilon=1e-6)\n",
        "\n",
        "        self.dropout1 = tf.keras.layers.Dropout(kargs['rate'])\n",
        "        self.dropout2 = tf.keras.layers.Dropout(kargs['rate'])\n",
        "        self.dropout3 = tf.keras.layers.Dropout(kargs['rate'])\n",
        "    \n",
        "    \n",
        "    def call(self, x, enc_output, look_ahead_mask, padding_mask):\n",
        "        # enc_output.shape == (batch_size, input_seq_len, d_model)\n",
        "        attn1, attn_weights_block1 = self.mha1(x, x, x, look_ahead_mask)  # (batch_size, target_seq_len, d_model)\n",
        "        attn1 = self.dropout1(attn1)\n",
        "        out1 = self.layernorm1(attn1 + x)\n",
        "\n",
        "        attn2, attn_weights_block2 = self.mha2(\n",
        "            enc_output, enc_output, out1, padding_mask)  # (batch_size, target_seq_len, d_model)\n",
        "        attn2 = self.dropout2(attn2)\n",
        "        out2 = self.layernorm2(attn2 + out1)  # (batch_size, target_seq_len, d_model)\n",
        "\n",
        "        ffn_output = self.ffn(out2)  # (batch_size, target_seq_len, d_model)\n",
        "        ffn_output = self.dropout3(ffn_output)\n",
        "        out3 = self.layernorm3(ffn_output + out2)  # (batch_size, target_seq_len, d_model)\n",
        "\n",
        "        return out3, attn_weights_block1, attn_weights_block2"
      ]
    },
    {
      "cell_type": "markdown",
      "metadata": {
        "id": "f-k5tJNpUX7h"
      },
      "source": [
        "## 인코더"
      ]
    },
    {
      "cell_type": "code",
      "execution_count": null,
      "metadata": {
        "id": "H4khJ_FJUX7h"
      },
      "outputs": [],
      "source": [
        "class Encoder(tf.keras.layers.Layer):\n",
        "    def __init__(self, **kargs):\n",
        "        super(Encoder, self).__init__()\n",
        "\n",
        "        self.d_model = kargs['d_model']\n",
        "        self.num_layers = kargs['num_layers']\n",
        "\n",
        "        self.embedding = tf.keras.layers.Embedding(kargs['input_vocab_size'], self.d_model)\n",
        "        self.pos_encoding = positional_encoding(kargs['maximum_position_encoding'], \n",
        "                                                self.d_model)\n",
        "\n",
        "\n",
        "        self.enc_layers = [EncoderLayer(**kargs) \n",
        "                           for _ in range(self.num_layers)]\n",
        "\n",
        "        self.dropout = tf.keras.layers.Dropout(kargs['rate'])\n",
        "\n",
        "    def call(self, x, mask):\n",
        "\n",
        "        seq_len = tf.shape(x)[1]\n",
        "\n",
        "        # adding embedding and position encoding.\n",
        "        x = self.embedding(x)  # (batch_size, input_seq_len, d_model)\n",
        "        x *= tf.math.sqrt(tf.cast(self.d_model, tf.float32))\n",
        "        x += self.pos_encoding[:, :seq_len, :]\n",
        "\n",
        "        x = self.dropout(x)\n",
        "\n",
        "        for i in range(self.num_layers):\n",
        "            x = self.enc_layers[i](x, mask)\n",
        "\n",
        "        return x  # (batch_size, input_seq_len, d_model)"
      ]
    },
    {
      "cell_type": "markdown",
      "metadata": {
        "id": "hWiH90t2UX7h"
      },
      "source": [
        "## 디코더"
      ]
    },
    {
      "cell_type": "code",
      "execution_count": null,
      "metadata": {
        "id": "PW7gv3dxUX7i"
      },
      "outputs": [],
      "source": [
        "class Decoder(tf.keras.layers.Layer):\n",
        "    def __init__(self, **kargs):\n",
        "        super(Decoder, self).__init__()\n",
        "\n",
        "        self.d_model = kargs['d_model']\n",
        "        self.num_layers = kargs['num_layers']\n",
        "\n",
        "        self.embedding = tf.keras.layers.Embedding(kargs['target_vocab_size'], self.d_model)\n",
        "        self.pos_encoding = positional_encoding(kargs['maximum_position_encoding'], self.d_model)\n",
        "\n",
        "        self.dec_layers = [DecoderLayer(**kargs) \n",
        "                           for _ in range(self.num_layers)]\n",
        "        self.dropout = tf.keras.layers.Dropout(kargs['rate'])\n",
        "\n",
        "    def call(self, x, enc_output, look_ahead_mask, padding_mask):\n",
        "        seq_len = tf.shape(x)[1]\n",
        "        attention_weights = {}\n",
        "\n",
        "        x = self.embedding(x)  # (batch_size, target_seq_len, d_model)\n",
        "        x *= tf.math.sqrt(tf.cast(self.d_model, tf.float32))\n",
        "        x += self.pos_encoding[:, :seq_len, :]\n",
        "\n",
        "        x = self.dropout(x)\n",
        "\n",
        "        for i in range(self.num_layers):\n",
        "            x, block1, block2 = self.dec_layers[i](x, enc_output, look_ahead_mask, padding_mask)\n",
        "\n",
        "            attention_weights['decoder_layer{}_block1'.format(i+1)] = block1\n",
        "            attention_weights['decoder_layer{}_block2'.format(i+1)] = block2\n",
        "\n",
        "        # x.shape == (batch_size, target_seq_len, d_model)\n",
        "        return x, attention_weights"
      ]
    },
    {
      "cell_type": "markdown",
      "metadata": {
        "id": "RxKMi89MUX7i"
      },
      "source": [
        "## 트렌스포머 모델"
      ]
    },
    {
      "cell_type": "code",
      "execution_count": null,
      "metadata": {
        "id": "JWhKaL7zUX7i"
      },
      "outputs": [],
      "source": [
        "class Transformer(tf.keras.Model):\n",
        "    def __init__(self, **kargs):\n",
        "        super(Transformer, self).__init__(name=kargs['model_name'])\n",
        "        self.end_token_idx = kargs['end_token_idx']\n",
        "        \n",
        "        self.encoder = Encoder(**kargs)\n",
        "        self.decoder = Decoder(**kargs)\n",
        "\n",
        "        self.final_layer = tf.keras.layers.Dense(kargs['target_vocab_size'])\n",
        "\n",
        "    def call(self, x):\n",
        "        inp, tar = x\n",
        "\n",
        "        enc_padding_mask, look_ahead_mask, dec_padding_mask = create_masks(inp, tar)\n",
        "        enc_output = self.encoder(inp, enc_padding_mask)  # (batch_size, inp_seq_len, d_model)\n",
        "\n",
        "        # dec_output.shape == (batch_size, tar_seq_len, d_model)\n",
        "        dec_output, _ = self.decoder(\n",
        "            tar, enc_output, look_ahead_mask, dec_padding_mask)\n",
        "\n",
        "        final_output = self.final_layer(dec_output)  # (batch_size, tar_seq_len, target_vocab_size)\n",
        "\n",
        "        return final_output\n",
        "    \n",
        "    def inference(self, x):\n",
        "        inp = x\n",
        "        tar = tf.expand_dims([STD_INDEX], 0)\n",
        "\n",
        "        enc_padding_mask, look_ahead_mask, dec_padding_mask = create_masks(inp, tar)        \n",
        "        enc_output = self.encoder(inp, enc_padding_mask)\n",
        "        \n",
        "        predict_tokens = list()\n",
        "        for t in range(0, MAX_SEQUENCE):\n",
        "            dec_output, _ = self.decoder(tar, enc_output, look_ahead_mask, dec_padding_mask)\n",
        "            final_output = self.final_layer(dec_output)\n",
        "            outputs = tf.argmax(final_output, -1).numpy()\n",
        "            pred_token = outputs[0][-1]\n",
        "            if pred_token == self.end_token_idx:\n",
        "                break\n",
        "            predict_tokens.append(pred_token)\n",
        "            tar = tf.expand_dims([STD_INDEX] + predict_tokens, 0)\n",
        "            _, look_ahead_mask, dec_padding_mask = create_masks(inp, tar)\n",
        "            \n",
        "        return predict_tokens"
      ]
    },
    {
      "cell_type": "markdown",
      "metadata": {
        "id": "Ke7tOzJVUX7i"
      },
      "source": [
        "## 모델 로스 정의"
      ]
    },
    {
      "cell_type": "code",
      "execution_count": null,
      "metadata": {
        "id": "XeLoivKQUX7i"
      },
      "outputs": [],
      "source": [
        "loss_object = tf.keras.losses.SparseCategoricalCrossentropy(\n",
        "    from_logits=True, reduction='none')\n",
        "\n",
        "train_accuracy = tf.keras.metrics.SparseCategoricalAccuracy(name='accuracy')\n",
        "\n",
        "def loss(real, pred):\n",
        "    mask = tf.math.logical_not(tf.math.equal(real, 0))\n",
        "    loss_ = loss_object(real, pred)\n",
        "\n",
        "    mask = tf.cast(mask, dtype=loss_.dtype)\n",
        "    loss_ *= mask\n",
        "\n",
        "    return tf.reduce_mean(loss_)\n",
        "\n",
        "def accuracy(real, pred):\n",
        "    mask = tf.math.logical_not(tf.math.equal(real, 0))\n",
        "    mask = tf.expand_dims(tf.cast(mask, dtype=pred.dtype), axis=-1)\n",
        "    pred *= mask    \n",
        "    acc = train_accuracy(real, pred)\n",
        "\n",
        "    return tf.reduce_mean(acc)"
      ]
    },
    {
      "cell_type": "code",
      "execution_count": null,
      "metadata": {
        "id": "154oURLAUX7i"
      },
      "outputs": [],
      "source": [
        "model = Transformer(**kargs)\n",
        "model.compile(optimizer=tf.keras.optimizers.Adam(1e-4),\n",
        "              loss=loss,\n",
        "              metrics=[accuracy])"
      ]
    },
    {
      "cell_type": "markdown",
      "metadata": {
        "id": "oO7_7VhXUX7i"
      },
      "source": [
        "# Callback 선언"
      ]
    },
    {
      "cell_type": "code",
      "execution_count": null,
      "metadata": {
        "scrolled": false,
        "colab": {
          "base_uri": "https://localhost:8080/"
        },
        "id": "0ptrd1hWUX7i",
        "outputId": "7379a9a6-0992-4bc4-dddf-be69a80de839"
      },
      "outputs": [
        {
          "output_type": "stream",
          "name": "stdout",
          "text": [
            "./data_out/transformer -- Folder create complete \n",
            "\n"
          ]
        }
      ],
      "source": [
        "# overfitting을 막기 위한 ealrystop 추가\n",
        "earlystop_callback = EarlyStopping(monitor='val_accuracy', min_delta=0.0001, patience=10)\n",
        "# min_delta: the threshold that triggers the termination (acc should at least improve 0.0001)\n",
        "# patience: no improvment epochs (patience = 1, 1번 이상 상승이 없으면 종료)\n",
        "\n",
        "checkpoint_path = DATA_OUT_PATH + model_name + '/weights.h5'\n",
        "checkpoint_dir = os.path.dirname(checkpoint_path)\n",
        "\n",
        "# Create path if exists\n",
        "if os.path.exists(checkpoint_dir):\n",
        "    print(\"{} -- Folder already exists \\n\".format(checkpoint_dir))\n",
        "else:\n",
        "    os.makedirs(checkpoint_dir, exist_ok=True)\n",
        "    print(\"{} -- Folder create complete \\n\".format(checkpoint_dir))\n",
        "    \n",
        "\n",
        "cp_callback = ModelCheckpoint(\n",
        "    checkpoint_path, monitor='val_accuracy', verbose=1, save_best_only=True, save_weights_only=True)"
      ]
    },
    {
      "cell_type": "markdown",
      "metadata": {
        "id": "peJPp1MCUX7i"
      },
      "source": [
        "# 모델 학습"
      ]
    },
    {
      "cell_type": "code",
      "execution_count": null,
      "metadata": {
        "colab": {
          "base_uri": "https://localhost:8080/"
        },
        "id": "levP8pYwUX7i",
        "outputId": "1048cc89-1ef0-415f-a0fc-3b161e427ee9"
      },
      "outputs": [
        {
          "output_type": "stream",
          "name": "stdout",
          "text": [
            "Epoch 1/30\n",
            "9/9 [==============================] - ETA: 0s - loss: 0.9308 - accuracy: 0.8319\n",
            "Epoch 1: val_accuracy improved from -inf to 0.85200, saving model to ./data_out/transformer/weights.h5\n",
            "9/9 [==============================] - 10s 387ms/step - loss: 0.9308 - accuracy: 0.8319 - val_loss: 0.5053 - val_accuracy: 0.8520\n",
            "Epoch 2/30\n",
            "9/9 [==============================] - ETA: 0s - loss: 0.6564 - accuracy: 0.8510\n",
            "Epoch 2: val_accuracy improved from 0.85200 to 0.85400, saving model to ./data_out/transformer/weights.h5\n",
            "9/9 [==============================] - 2s 242ms/step - loss: 0.6564 - accuracy: 0.8510 - val_loss: 0.6424 - val_accuracy: 0.8540\n",
            "Epoch 3/30\n",
            "9/9 [==============================] - ETA: 0s - loss: 0.5148 - accuracy: 0.8567\n",
            "Epoch 3: val_accuracy improved from 0.85400 to 0.86000, saving model to ./data_out/transformer/weights.h5\n",
            "9/9 [==============================] - 2s 242ms/step - loss: 0.5148 - accuracy: 0.8567 - val_loss: 0.5411 - val_accuracy: 0.8600\n",
            "Epoch 4/30\n",
            "9/9 [==============================] - ETA: 0s - loss: 0.3423 - accuracy: 0.8664\n",
            "Epoch 4: val_accuracy improved from 0.86000 to 0.87050, saving model to ./data_out/transformer/weights.h5\n",
            "9/9 [==============================] - 2s 244ms/step - loss: 0.3423 - accuracy: 0.8664 - val_loss: 0.5579 - val_accuracy: 0.8705\n",
            "Epoch 5/30\n",
            "9/9 [==============================] - ETA: 0s - loss: 0.1927 - accuracy: 0.8798\n",
            "Epoch 5: val_accuracy improved from 0.87050 to 0.88400, saving model to ./data_out/transformer/weights.h5\n",
            "9/9 [==============================] - 2s 250ms/step - loss: 0.1927 - accuracy: 0.8798 - val_loss: 0.5957 - val_accuracy: 0.8840\n",
            "Epoch 6/30\n",
            "9/9 [==============================] - ETA: 0s - loss: 0.1920 - accuracy: 0.8883\n",
            "Epoch 6: val_accuracy improved from 0.88400 to 0.89167, saving model to ./data_out/transformer/weights.h5\n",
            "9/9 [==============================] - 2s 244ms/step - loss: 0.1920 - accuracy: 0.8883 - val_loss: 0.5788 - val_accuracy: 0.8917\n",
            "Epoch 7/30\n",
            "9/9 [==============================] - ETA: 0s - loss: 0.1267 - accuracy: 0.8978\n",
            "Epoch 7: val_accuracy improved from 0.89167 to 0.90086, saving model to ./data_out/transformer/weights.h5\n",
            "9/9 [==============================] - 2s 244ms/step - loss: 0.1267 - accuracy: 0.8978 - val_loss: 0.4965 - val_accuracy: 0.9009\n",
            "Epoch 8/30\n",
            "9/9 [==============================] - ETA: 0s - loss: 0.1123 - accuracy: 0.9056\n",
            "Epoch 8: val_accuracy improved from 0.90086 to 0.90800, saving model to ./data_out/transformer/weights.h5\n",
            "9/9 [==============================] - 2s 244ms/step - loss: 0.1123 - accuracy: 0.9056 - val_loss: 0.4842 - val_accuracy: 0.9080\n",
            "Epoch 9/30\n",
            "9/9 [==============================] - ETA: 0s - loss: 0.1490 - accuracy: 0.9100\n",
            "Epoch 9: val_accuracy improved from 0.90800 to 0.91156, saving model to ./data_out/transformer/weights.h5\n",
            "9/9 [==============================] - 2s 239ms/step - loss: 0.1490 - accuracy: 0.9100 - val_loss: 0.4221 - val_accuracy: 0.9116\n",
            "Epoch 10/30\n",
            "9/9 [==============================] - ETA: 0s - loss: 0.0912 - accuracy: 0.9148\n",
            "Epoch 10: val_accuracy improved from 0.91156 to 0.91720, saving model to ./data_out/transformer/weights.h5\n",
            "9/9 [==============================] - 2s 248ms/step - loss: 0.0912 - accuracy: 0.9148 - val_loss: 0.2937 - val_accuracy: 0.9172\n",
            "Epoch 11/30\n",
            "9/9 [==============================] - ETA: 0s - loss: 0.0642 - accuracy: 0.9203\n",
            "Epoch 11: val_accuracy improved from 0.91720 to 0.92255, saving model to ./data_out/transformer/weights.h5\n",
            "9/9 [==============================] - 2s 241ms/step - loss: 0.0642 - accuracy: 0.9203 - val_loss: 0.3590 - val_accuracy: 0.9225\n",
            "Epoch 12/30\n",
            "9/9 [==============================] - ETA: 0s - loss: 0.0591 - accuracy: 0.9251\n",
            "Epoch 12: val_accuracy improved from 0.92255 to 0.92700, saving model to ./data_out/transformer/weights.h5\n",
            "9/9 [==============================] - 2s 242ms/step - loss: 0.0591 - accuracy: 0.9251 - val_loss: 0.3220 - val_accuracy: 0.9270\n",
            "Epoch 13/30\n",
            "9/9 [==============================] - ETA: 0s - loss: 0.0187 - accuracy: 0.9298\n",
            "Epoch 13: val_accuracy improved from 0.92700 to 0.93200, saving model to ./data_out/transformer/weights.h5\n",
            "9/9 [==============================] - 2s 244ms/step - loss: 0.0187 - accuracy: 0.9298 - val_loss: 0.3017 - val_accuracy: 0.9320\n",
            "Epoch 14/30\n",
            "9/9 [==============================] - ETA: 0s - loss: 0.0146 - accuracy: 0.9345\n",
            "Epoch 14: val_accuracy improved from 0.93200 to 0.93643, saving model to ./data_out/transformer/weights.h5\n",
            "9/9 [==============================] - 2s 242ms/step - loss: 0.0146 - accuracy: 0.9345 - val_loss: 0.3110 - val_accuracy: 0.9364\n",
            "Epoch 15/30\n",
            "9/9 [==============================] - ETA: 0s - loss: 0.0083 - accuracy: 0.9386\n",
            "Epoch 15: val_accuracy improved from 0.93643 to 0.94027, saving model to ./data_out/transformer/weights.h5\n",
            "9/9 [==============================] - 2s 241ms/step - loss: 0.0083 - accuracy: 0.9386 - val_loss: 0.3350 - val_accuracy: 0.9403\n",
            "Epoch 16/30\n",
            "9/9 [==============================] - ETA: 0s - loss: 0.0066 - accuracy: 0.9422\n",
            "Epoch 16: val_accuracy improved from 0.94027 to 0.94375, saving model to ./data_out/transformer/weights.h5\n",
            "9/9 [==============================] - 2s 239ms/step - loss: 0.0066 - accuracy: 0.9422 - val_loss: 0.2805 - val_accuracy: 0.9438\n",
            "Epoch 17/30\n",
            "9/9 [==============================] - ETA: 0s - loss: 0.0047 - accuracy: 0.9454\n",
            "Epoch 17: val_accuracy improved from 0.94375 to 0.94682, saving model to ./data_out/transformer/weights.h5\n",
            "9/9 [==============================] - 2s 242ms/step - loss: 0.0047 - accuracy: 0.9454 - val_loss: 0.2463 - val_accuracy: 0.9468\n",
            "Epoch 18/30\n",
            "9/9 [==============================] - ETA: 0s - loss: 0.0038 - accuracy: 0.9483\n",
            "Epoch 18: val_accuracy improved from 0.94682 to 0.94956, saving model to ./data_out/transformer/weights.h5\n",
            "9/9 [==============================] - 2s 239ms/step - loss: 0.0038 - accuracy: 0.9483 - val_loss: 0.2282 - val_accuracy: 0.9496\n",
            "Epoch 19/30\n",
            "9/9 [==============================] - ETA: 0s - loss: 0.0028 - accuracy: 0.9509\n",
            "Epoch 19: val_accuracy improved from 0.94956 to 0.95200, saving model to ./data_out/transformer/weights.h5\n",
            "9/9 [==============================] - 2s 241ms/step - loss: 0.0028 - accuracy: 0.9509 - val_loss: 0.2321 - val_accuracy: 0.9520\n",
            "Epoch 20/30\n",
            "9/9 [==============================] - ETA: 0s - loss: 0.0027 - accuracy: 0.9532\n",
            "Epoch 20: val_accuracy improved from 0.95200 to 0.95420, saving model to ./data_out/transformer/weights.h5\n",
            "9/9 [==============================] - 2s 237ms/step - loss: 0.0027 - accuracy: 0.9532 - val_loss: 0.2325 - val_accuracy: 0.9542\n",
            "Epoch 21/30\n",
            "9/9 [==============================] - ETA: 0s - loss: 0.0023 - accuracy: 0.9553\n",
            "Epoch 21: val_accuracy improved from 0.95420 to 0.95619, saving model to ./data_out/transformer/weights.h5\n",
            "9/9 [==============================] - 2s 237ms/step - loss: 0.0023 - accuracy: 0.9553 - val_loss: 0.2345 - val_accuracy: 0.9562\n",
            "Epoch 22/30\n",
            "9/9 [==============================] - ETA: 0s - loss: 0.0020 - accuracy: 0.9572\n",
            "Epoch 22: val_accuracy improved from 0.95619 to 0.95800, saving model to ./data_out/transformer/weights.h5\n",
            "9/9 [==============================] - 2s 237ms/step - loss: 0.0020 - accuracy: 0.9572 - val_loss: 0.2290 - val_accuracy: 0.9580\n",
            "Epoch 23/30\n",
            "9/9 [==============================] - ETA: 0s - loss: 0.0023 - accuracy: 0.9589\n",
            "Epoch 23: val_accuracy improved from 0.95800 to 0.95965, saving model to ./data_out/transformer/weights.h5\n",
            "9/9 [==============================] - 2s 242ms/step - loss: 0.0023 - accuracy: 0.9589 - val_loss: 0.2388 - val_accuracy: 0.9597\n",
            "Epoch 24/30\n",
            "9/9 [==============================] - ETA: 0s - loss: 0.0017 - accuracy: 0.9605\n",
            "Epoch 24: val_accuracy improved from 0.95965 to 0.96117, saving model to ./data_out/transformer/weights.h5\n",
            "9/9 [==============================] - 2s 241ms/step - loss: 0.0017 - accuracy: 0.9605 - val_loss: 0.2451 - val_accuracy: 0.9612\n",
            "Epoch 25/30\n",
            "9/9 [==============================] - ETA: 0s - loss: 0.0015 - accuracy: 0.9620\n",
            "Epoch 25: val_accuracy improved from 0.96117 to 0.96256, saving model to ./data_out/transformer/weights.h5\n",
            "9/9 [==============================] - 2s 239ms/step - loss: 0.0015 - accuracy: 0.9620 - val_loss: 0.2429 - val_accuracy: 0.9626\n",
            "Epoch 26/30\n",
            "9/9 [==============================] - ETA: 0s - loss: 0.0013 - accuracy: 0.9633\n",
            "Epoch 26: val_accuracy improved from 0.96256 to 0.96385, saving model to ./data_out/transformer/weights.h5\n",
            "9/9 [==============================] - 2s 266ms/step - loss: 0.0013 - accuracy: 0.9633 - val_loss: 0.2465 - val_accuracy: 0.9638\n",
            "Epoch 27/30\n",
            "9/9 [==============================] - ETA: 0s - loss: 0.0010 - accuracy: 0.9645\n",
            "Epoch 27: val_accuracy improved from 0.96385 to 0.96504, saving model to ./data_out/transformer/weights.h5\n",
            "9/9 [==============================] - 3s 286ms/step - loss: 0.0010 - accuracy: 0.9645 - val_loss: 0.2496 - val_accuracy: 0.9650\n",
            "Epoch 28/30\n",
            "9/9 [==============================] - ETA: 0s - loss: 0.0010 - accuracy: 0.9657\n",
            "Epoch 28: val_accuracy improved from 0.96504 to 0.96614, saving model to ./data_out/transformer/weights.h5\n",
            "9/9 [==============================] - 3s 287ms/step - loss: 0.0010 - accuracy: 0.9657 - val_loss: 0.2532 - val_accuracy: 0.9661\n",
            "Epoch 29/30\n",
            "9/9 [==============================] - ETA: 0s - loss: 9.3381e-04 - accuracy: 0.9667\n",
            "Epoch 29: val_accuracy improved from 0.96614 to 0.96717, saving model to ./data_out/transformer/weights.h5\n",
            "9/9 [==============================] - 3s 284ms/step - loss: 9.3381e-04 - accuracy: 0.9667 - val_loss: 0.2583 - val_accuracy: 0.9672\n",
            "Epoch 30/30\n",
            "9/9 [==============================] - ETA: 0s - loss: 0.0011 - accuracy: 0.9677\n",
            "Epoch 30: val_accuracy improved from 0.96717 to 0.96813, saving model to ./data_out/transformer/weights.h5\n",
            "9/9 [==============================] - 3s 285ms/step - loss: 0.0011 - accuracy: 0.9677 - val_loss: 0.2605 - val_accuracy: 0.9681\n"
          ]
        }
      ],
      "source": [
        "history = model.fit([index_inputs, index_outputs], index_targets, \n",
        "                    batch_size=BATCH_SIZE, epochs=EPOCHS,\n",
        "                    validation_split=VALID_SPLIT, callbacks=[earlystop_callback, cp_callback])"
      ]
    },
    {
      "cell_type": "markdown",
      "metadata": {
        "id": "DYExqZftUX7j"
      },
      "source": [
        "# 결과 플롯"
      ]
    },
    {
      "cell_type": "code",
      "execution_count": null,
      "metadata": {
        "colab": {
          "base_uri": "https://localhost:8080/",
          "height": 279
        },
        "id": "PRJtyLGgUX7j",
        "outputId": "bc079807-ba0c-46cf-f5b5-26f38e402af4"
      },
      "outputs": [
        {
          "output_type": "display_data",
          "data": {
            "text/plain": [
              "<Figure size 432x288 with 1 Axes>"
            ],
            "image/png": "[encoded data removed]"
          },
          "metadata": {
            "needs_background": "light"
          }
        }
      ],
      "source": [
        "plot_graphs(history, 'accuracy')"
      ]
    },
    {
      "cell_type": "code",
      "execution_count": null,
      "metadata": {
        "colab": {
          "base_uri": "https://localhost:8080/",
          "height": 279
        },
        "id": "LulfDBMiUX7j",
        "outputId": "d6b87f8a-df1d-410f-a141-b3e201888ca1"
      },
      "outputs": [
        {
          "output_type": "display_data",
          "data": {
            "text/plain": [
              "<Figure size 432x288 with 1 Axes>"
            ],
            "image/png": "[encoded data removed]"
          },
          "metadata": {
            "needs_background": "light"
          }
        }
      ],
      "source": [
        "plot_graphs(history, 'loss')"
      ]
    },
    {
      "cell_type": "markdown",
      "metadata": {
        "id": "cNEQOyzDUX7j"
      },
      "source": [
        "# 베스트 모델 불러오기"
      ]
    },
    {
      "cell_type": "code",
      "execution_count": null,
      "metadata": {
        "id": "MESk-VxdUX7j"
      },
      "outputs": [],
      "source": [
        "DATA_OUT_PATH = './data_out/'\n",
        "SAVE_FILE_NM = 'weights.h5'\n",
        "\n",
        "model.load_weights(os.path.join(DATA_OUT_PATH, model_name, SAVE_FILE_NM))"
      ]
    },
    {
      "cell_type": "markdown",
      "metadata": {
        "id": "UALRMXdTUX7j"
      },
      "source": [
        "# 모델 결과 출력하기"
      ]
    },
    {
      "cell_type": "code",
      "execution_count": null,
      "metadata": {
        "id": "oSiTVjooUX7j"
      },
      "outputs": [],
      "source": [
        "char2idx = prepro_configs['char2idx']\n",
        "idx2char = prepro_configs['idx2char']"
      ]
    },
    {
      "cell_type": "code",
      "execution_count": null,
      "metadata": {
        "colab": {
          "base_uri": "https://localhost:8080/"
        },
        "id": "NbU-T5nYUX7j",
        "outputId": "28709226-2f2d-4011-cf11-f10d05a3b473"
      },
      "outputs": [
        {
          "output_type": "stream",
          "name": "stdout",
          "text": [
            "평소에 필요했던 게 좋을 것 같아요\n"
          ]
        }
      ],
      "source": [
        "text = \"남자친구 승진 선물로 뭐가 좋을까?\"\n",
        "test_index_inputs, _ = enc_processing([text], char2idx)\n",
        "outputs = model.inference(test_index_inputs)\n",
        "\n",
        "print(' '.join([idx2char[str(o)] for o in outputs]))"
      ]
    },
    {
      "cell_type": "code",
      "source": [
        "text = \"너는 누구니?\"\n",
        "test_index_inputs, _ = enc_processing([text], char2idx)\n",
        "outputs = model.inference(test_index_inputs)\n",
        "\n",
        "print(' '.join([idx2char[str(o)] for o in outputs]))"
      ],
      "metadata": {
        "colab": {
          "base_uri": "https://localhost:8080/"
        },
        "id": "hldWWrNPZycl",
        "outputId": "e0012f3f-39de-4436-8e18-80e8050ce5df"
      },
      "execution_count": null,
      "outputs": [
        {
          "output_type": "stream",
          "name": "stdout",
          "text": [
            "빨리 집에 돌아가서 끄고 나오세요\n"
          ]
        }
      ]
    }
  ],
  "metadata": {
    "kernelspec": {
      "display_name": "Python 3",
      "language": "python",
      "name": "python3"
    },
    "language_info": {
      "codemirror_mode": {
        "name": "ipython",
        "version": 3
      },
      "file_extension": ".py",
      "mimetype": "text/x-python",
      "name": "python",
      "nbconvert_exporter": "python",
      "pygments_lexer": "ipython3",
      "version": "3.7.6"
    },
    "colab": {
      "provenance": [],
      "include_colab_link": true
    }
  },
  "nbformat": 4,
  "nbformat_minor": 0
}