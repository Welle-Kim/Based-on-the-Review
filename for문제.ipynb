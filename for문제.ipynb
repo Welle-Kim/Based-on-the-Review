{
  "nbformat": 4,
  "nbformat_minor": 0,
  "metadata": {
    "colab": {
      "name": "for문제.ipynb",
      "provenance": [],
      "collapsed_sections": [],
      "authorship_tag": "ABX9TyNgFzjDfUtirLTPAXtEI4S1",
      "include_colab_link": true
    },
    "kernelspec": {
      "name": "python3",
      "display_name": "Python 3"
    },
    "language_info": {
      "name": "python"
    }
  },
  "cells": [
    {
      "cell_type": "markdown",
      "metadata": {
        "id": "view-in-github",
        "colab_type": "text"
      },
      "source": [
        "<a href=\"https://colab.research.google.com/github/Welle-Kim/Based-on-the-Review/blob/master/for%EB%AC%B8%EC%A0%9C.ipynb\" target=\"_parent\"><img src=\"https://colab.research.google.com/assets/colab-badge.svg\" alt=\"Open In Colab\"/></a>"
      ]
    },
    {
      "cell_type": "code",
      "execution_count": null,
      "metadata": {
        "colab": {
          "base_uri": "https://localhost:8080/"
        },
        "id": "JLYEW32_xYcD",
        "outputId": "b769027b-2c4e-41e1-afd5-9cbcd1e34283"
      },
      "outputs": [
        {
          "output_type": "stream",
          "name": "stdout",
          "text": [
            "연습\n",
            "연습\n",
            "연습\n",
            "연습\n",
            "연습\n"
          ]
        },
        {
          "output_type": "execute_result",
          "data": {
            "text/plain": [
              "['연습', '연습', '연습', '연습', '연습']"
            ]
          },
          "metadata": {},
          "execution_count": 1
        }
      ],
      "source": [
        "for i in range(5):\n",
        "  print(\"연습\")\n",
        "\n",
        "\n",
        "[\"연습\" for i in range(5)]"
      ]
    },
    {
      "cell_type": "code",
      "source": [
        "tmp1=[]\n",
        "tmp2=[\"연습\" for i in range(5)]\n",
        "\n",
        "print(tmp1)\n",
        "print(tmp2)"
      ],
      "metadata": {
        "colab": {
          "base_uri": "https://localhost:8080/"
        },
        "id": "qGtx9DTeyFAY",
        "outputId": "5c77b3c4-8fc1-4803-c125-443696965de2"
      },
      "execution_count": null,
      "outputs": [
        {
          "output_type": "stream",
          "name": "stdout",
          "text": [
            "[]\n",
            "['연습', '연습', '연습', '연습', '연습']\n"
          ]
        }
      ]
    },
    {
      "cell_type": "code",
      "source": [
        "val=list(range(1,11))\n",
        "print(val)\n",
        "\n",
        "## 홀수 데이터만 추출하여 리스트로 출력하기\n",
        "\n",
        "odd1=[]\n",
        "for i in val:\n",
        "  if i%2==1:\n",
        "    odd1.append(i)\n",
        "\n",
        "print(f\"홀수 데이터(기본):{odd1}\")\n",
        "\n",
        "##한줄쓰기로 표현\n",
        "\n",
        "odd2=[i for i in val if 1%2==1]\n",
        "print(f\"홀수 데이터(한줄쓰기):{odd1}\")"
      ],
      "metadata": {
        "colab": {
          "base_uri": "https://localhost:8080/"
        },
        "id": "EhnphAssylfE",
        "outputId": "139d914d-0f2a-417e-ec20-58a0a0b0a554"
      },
      "execution_count": null,
      "outputs": [
        {
          "output_type": "stream",
          "name": "stdout",
          "text": [
            "[1, 2, 3, 4, 5, 6, 7, 8, 9, 10]\n",
            "홀수 데이터(기본):[1, 3, 5, 7, 9]\n",
            "홀수 데이터(한줄쓰기):[1, 3, 5, 7, 9]\n"
          ]
        }
      ]
    },
    {
      "cell_type": "code",
      "source": [
        "val_tmp1=range(1,50)"
      ],
      "metadata": {
        "id": "5olLvjac66lj"
      },
      "execution_count": null,
      "outputs": []
    },
    {
      "cell_type": "code",
      "source": [
        "tmp1=[]\n",
        "\n",
        "for i in val_tmp1:\n",
        "  if i%2==1:\n",
        "    tmp1.append(\"홀수\")\n",
        "  else:\n",
        "    tmp1.append(\"짝수\")\n",
        "\n",
        "print(tmp1)\n",
        "\n",
        "tmp2=[\"홀수\" if i%2==1 else \"짝수\" for i in val_tmp1]\n",
        "print(tmp2)"
      ],
      "metadata": {
        "colab": {
          "base_uri": "https://localhost:8080/"
        },
        "id": "cVQFPDbO3Ks1",
        "outputId": "12492252-9241-49f9-9787-4778ca4a72ca"
      },
      "execution_count": null,
      "outputs": [
        {
          "output_type": "stream",
          "name": "stdout",
          "text": [
            "['홀수', '짝수', '홀수', '짝수', '홀수', '짝수', '홀수', '짝수', '홀수', '짝수', '홀수', '짝수', '홀수', '짝수', '홀수', '짝수', '홀수', '짝수', '홀수', '짝수', '홀수', '짝수', '홀수', '짝수', '홀수', '짝수', '홀수', '짝수', '홀수', '짝수', '홀수', '짝수', '홀수', '짝수', '홀수', '짝수', '홀수', '짝수', '홀수', '짝수', '홀수', '짝수', '홀수', '짝수', '홀수', '짝수', '홀수', '짝수', '홀수']\n",
            "['홀수', '짝수', '홀수', '짝수', '홀수', '짝수', '홀수', '짝수', '홀수', '짝수', '홀수', '짝수', '홀수', '짝수', '홀수', '짝수', '홀수', '짝수', '홀수', '짝수', '홀수', '짝수', '홀수', '짝수', '홀수', '짝수', '홀수', '짝수', '홀수', '짝수', '홀수', '짝수', '홀수', '짝수', '홀수', '짝수', '홀수', '짝수', '홀수', '짝수', '홀수', '짝수', '홀수', '짝수', '홀수', '짝수', '홀수', '짝수', '홀수']\n"
          ]
        }
      ]
    },
    {
      "cell_type": "code",
      "source": [
        "val1=[list(range(1,11))]\n",
        "val2=[list(range(11,20,2))]"
      ],
      "metadata": {
        "id": "egntXrk46sGQ"
      },
      "execution_count": null,
      "outputs": []
    },
    {
      "cell_type": "code",
      "source": [
        "val1"
      ],
      "metadata": {
        "colab": {
          "base_uri": "https://localhost:8080/"
        },
        "id": "17qI7BMI83ER",
        "outputId": "95023fcc-2b82-4670-9b98-61309b6d48c0"
      },
      "execution_count": null,
      "outputs": [
        {
          "output_type": "execute_result",
          "data": {
            "text/plain": [
              "[[1, 2, 3, 4, 5, 6, 7, 8, 9, 10]]"
            ]
          },
          "metadata": {},
          "execution_count": 16
        }
      ]
    },
    {
      "cell_type": "code",
      "source": [
        "val2"
      ],
      "metadata": {
        "colab": {
          "base_uri": "https://localhost:8080/"
        },
        "id": "YGjMgWGU84Dg",
        "outputId": "9387fca0-0f18-41c3-fa1b-4250f6d48240"
      },
      "execution_count": null,
      "outputs": [
        {
          "output_type": "execute_result",
          "data": {
            "text/plain": [
              "[[11, 13, 15, 17, 19]]"
            ]
          },
          "metadata": {},
          "execution_count": 17
        }
      ]
    },
    {
      "cell_type": "code",
      "source": [
        "val=[list(range(1, 11)), list(range(11, 20, 2))]\n",
        "print(val)"
      ],
      "metadata": {
        "colab": {
          "base_uri": "https://localhost:8080/"
        },
        "id": "f3xtEvAOdM_V",
        "outputId": "37c05e71-ef7e-4c46-b097-8871369364fb"
      },
      "execution_count": null,
      "outputs": [
        {
          "output_type": "stream",
          "name": "stdout",
          "text": [
            "[[1, 2, 3, 4, 5, 6, 7, 8, 9, 10], [11, 13, 15, 17, 19]]\n"
          ]
        }
      ]
    },
    {
      "cell_type": "code",
      "source": [
        "val"
      ],
      "metadata": {
        "colab": {
          "base_uri": "https://localhost:8080/"
        },
        "id": "plSgR6Z6f2Q1",
        "outputId": "58c2760a-51f7-4858-b0d4-dda980189cb3"
      },
      "execution_count": null,
      "outputs": [
        {
          "output_type": "execute_result",
          "data": {
            "text/plain": [
              "[[1, 2, 3, 4, 5, 6, 7, 8, 9, 10], [11, 13, 15, 17, 19]]"
            ]
          },
          "metadata": {},
          "execution_count": 33
        }
      ]
    },
    {
      "cell_type": "code",
      "source": [
        "tmp2=[\"홀수\" if j%2==1 else \"짝수\" for i in val for j in i]\n",
        "print(tmp2)"
      ],
      "metadata": {
        "colab": {
          "base_uri": "https://localhost:8080/"
        },
        "id": "n-JU9RZ485A_",
        "outputId": "c4d73e1b-b574-4847-e0fb-af96bafe449f"
      },
      "execution_count": null,
      "outputs": [
        {
          "output_type": "stream",
          "name": "stdout",
          "text": [
            "['홀수', '짝수', '홀수', '짝수', '홀수', '짝수', '홀수', '짝수', '홀수', '짝수', '홀수', '홀수', '홀수', '홀수', '홀수']\n"
          ]
        }
      ]
    },
    {
      "cell_type": "code",
      "source": [
        "# print(aaa)  # aaa 변수가 없기 때문에 에러 발생"
      ],
      "metadata": {
        "id": "yZlASXG3-GFV"
      },
      "execution_count": 1,
      "outputs": []
    },
    {
      "cell_type": "code",
      "source": [
        "## 기본적인 형식\n",
        "try:\n",
        "    print(aaa)\n",
        "except:\n",
        "    print(\"에러발생\")"
      ],
      "metadata": {
        "colab": {
          "base_uri": "https://localhost:8080/"
        },
        "id": "NN-EOExbf9sA",
        "outputId": "c1ba0658-2c06-4549-e95b-d153448bf5cc"
      },
      "execution_count": null,
      "outputs": [
        {
          "output_type": "stream",
          "name": "stdout",
          "text": [
            "에러발생\n"
          ]
        }
      ]
    },
    {
      "cell_type": "code",
      "source": [
        "## try: ~ except: ~ 주의점\n",
        "try:\n",
        "    print(\"안녕하세요.\")  # 정상 코드\n",
        "    print(aaa)            # 에러 발생 코드\n",
        "    print(\"반갑습니다.\")  # 정상 코드\n",
        "except:\n",
        "    print(\"에러발생\")"
      ],
      "metadata": {
        "colab": {
          "base_uri": "https://localhost:8080/"
        },
        "id": "JoBDLRhfgBAV",
        "outputId": "91c77b5d-3ed2-4cce-a630-b120cf5f35da"
      },
      "execution_count": null,
      "outputs": [
        {
          "output_type": "stream",
          "name": "stdout",
          "text": [
            "안녕하세요.\n",
            "에러발생\n"
          ]
        }
      ]
    },
    {
      "cell_type": "code",
      "source": [
        "## 기본적인 형식/pass\n",
        "try:\n",
        "    print(aaa)\n",
        "except:\n",
        "    pass   # 넘어가시오\n",
        "\n",
        "print(\"에러 무시\")"
      ],
      "metadata": {
        "colab": {
          "base_uri": "https://localhost:8080/"
        },
        "id": "HqM4aUI6gC4J",
        "outputId": "04c2c2e1-acb8-46a6-dcc3-35d688b35a9e"
      },
      "execution_count": null,
      "outputs": [
        {
          "output_type": "stream",
          "name": "stdout",
          "text": [
            "에러 무시\n"
          ]
        }
      ]
    },
    {
      "cell_type": "code",
      "source": [
        "## 에러 발생에 대한 원인을 메세지로 전달(즉, 코드 실행시 멈추지 않고 계속 실행)\n",
        "try:\n",
        "    print(aaa)\n",
        "except Exception as e:\n",
        "    print(f\"에러발생원인:{e}\") \n",
        "\n",
        "print(\"=== END ===\")"
      ],
      "metadata": {
        "colab": {
          "base_uri": "https://localhost:8080/"
        },
        "id": "FbehFvg7gIoW",
        "outputId": "1d613de9-148e-4ceb-8d3e-689ce0210e75"
      },
      "execution_count": null,
      "outputs": [
        {
          "output_type": "stream",
          "name": "stdout",
          "text": [
            "에러발생원인:name 'aaa' is not defined\n",
            "=== END ===\n"
          ]
        }
      ]
    },
    {
      "cell_type": "code",
      "source": [
        "import random\n",
        "\n",
        "random.random()  # 0 ~ 1 사이의 숫자를 임의로 출력"
      ],
      "metadata": {
        "colab": {
          "base_uri": "https://localhost:8080/"
        },
        "id": "ctjDTlS8gM_a",
        "outputId": "c7b2efa6-ba1b-4d4f-8234-823552c09fe4"
      },
      "execution_count": null,
      "outputs": [
        {
          "output_type": "execute_result",
          "data": {
            "text/plain": [
              "0.8372684454835781"
            ]
          },
          "metadata": {},
          "execution_count": 39
        }
      ]
    },
    {
      "cell_type": "code",
      "source": [
        "# a에서 b 사이의 임의값 출력\n",
        "print(random.randint(1, 46))\n",
        "print(random.randrange(1, 101, 2))  # step 값 지정 가능"
      ],
      "metadata": {
        "colab": {
          "base_uri": "https://localhost:8080/"
        },
        "id": "6j004R2FgiU4",
        "outputId": "44944b18-ff78-4162-8d00-1414c4e776be"
      },
      "execution_count": null,
      "outputs": [
        {
          "output_type": "stream",
          "name": "stdout",
          "text": [
            "19\n",
            "7\n"
          ]
        }
      ]
    },
    {
      "cell_type": "code",
      "source": [
        "## 스퀀스 데이터 처리\n",
        "tmp=[\"a\", \"b\", \"c\", \"d\", \"e\"]\n",
        "\n",
        "random.shuffle(tmp)  # 순서 변경하기\n",
        "print(tmp)\n",
        "print(random.choice(tmp))"
      ],
      "metadata": {
        "colab": {
          "base_uri": "https://localhost:8080/"
        },
        "id": "y-8fhNbKgllw",
        "outputId": "c6c1a730-8da2-4b9b-ae4c-80cec75f3103"
      },
      "execution_count": null,
      "outputs": [
        {
          "output_type": "stream",
          "name": "stdout",
          "text": [
            "['b', 'd', 'a', 'e', 'c']\n",
            "d\n"
          ]
        }
      ]
    },
    {
      "cell_type": "code",
      "source": [
        "메뉴=[\"라면\", \"김밥\", \"자장면\", \"짬뽕\"]\n",
        "random.choice(메뉴)"
      ],
      "metadata": {
        "colab": {
          "base_uri": "https://localhost:8080/",
          "height": 36
        },
        "id": "NhrLmjVogqoI",
        "outputId": "5d3485c5-0eca-4f0f-df22-9fe48085842c"
      },
      "execution_count": null,
      "outputs": [
        {
          "output_type": "execute_result",
          "data": {
            "text/plain": [
              "'자장면'"
            ],
            "application/vnd.google.colaboratory.intrinsic+json": {
              "type": "string"
            }
          },
          "metadata": {},
          "execution_count": 42
        }
      ]
    },
    {
      "cell_type": "code",
      "source": [
        "num=list(range(1, 46))\n",
        "# print(num)\n",
        "random.sample(num, k=7)"
      ],
      "metadata": {
        "id": "LCOE7k1SgwX5",
        "outputId": "0f60d5f3-7244-46bb-b0cd-2a395dd6be97",
        "colab": {
          "base_uri": "https://localhost:8080/"
        }
      },
      "execution_count": null,
      "outputs": [
        {
          "output_type": "execute_result",
          "data": {
            "text/plain": [
              "[6, 20, 23, 28, 31, 32, 24]"
            ]
          },
          "metadata": {},
          "execution_count": 43
        }
      ]
    },
    {
      "cell_type": "code",
      "source": [
        "import random \n",
        "number=random.randint(1,100)\n",
        "#print(number)\n",
        "game_count=1\n",
        "\n",
        "while True:\n",
        "  try: \n",
        "    my_number=int(input(\"1~100사이의 숫자를 입력하세요\"))\n",
        "    \n",
        "    if my_number > number:\n",
        "      print(\"다운\")\n",
        "    elif my_number < number:\n",
        "      print(\"업\")\n",
        "    elif my_number==number:\n",
        "      print(f\"축하합니다.{game_count}만에 맞췄습니다\")\n",
        "\n",
        "    game_count+=1\n",
        "\n",
        "  except:\n",
        "    print(\"에러가 발생했습니다. 숫자를 입력하세요\")\n",
        "    \n"
      ],
      "metadata": {
        "id": "GqA_uO61gySi",
        "colab": {
          "base_uri": "https://localhost:8080/"
        },
        "outputId": "6e58bd07-759c-4acd-b123-f464c15e4ed3"
      },
      "execution_count": null,
      "outputs": [
        {
          "output_type": "stream",
          "name": "stdout",
          "text": [
            "1~100사이의 숫자를 입력하세요5\n",
            "업\n",
            "1~100사이의 숫자를 입력하세요5\n",
            "업\n",
            "1~100사이의 숫자를 입력하세요9\n",
            "업\n",
            "1~100사이의 숫자를 입력하세요10\n",
            "업\n",
            "1~100사이의 숫자를 입력하세요98\n",
            "다운\n",
            "1~100사이의 숫자를 입력하세요85\n",
            "다운\n",
            "1~100사이의 숫자를 입력하세요70\n",
            "다운\n",
            "1~100사이의 숫자를 입력하세요60\n",
            "다운\n",
            "1~100사이의 숫자를 입력하세요50\n",
            "업\n",
            "1~100사이의 숫자를 입력하세요51\n",
            "축하합니다.10만에 맞췄습니다\n",
            "에러가 발생했습니다. 숫자를 입력하세요\n",
            "에러가 발생했습니다. 숫자를 입력하세요\n",
            "에러가 발생했습니다. 숫자를 입력하세요\n"
          ]
        }
      ]
    },
    {
      "cell_type": "code",
      "source": [
        "## 반복문(while)/break/continue\n",
        "import random\n",
        "number=random.randint(1,100)\n",
        "\n",
        "game_count=1\n",
        "\n",
        "while True:\n",
        "  try:\n",
        "    my_number=int(input(\"1~100사이의 숫자를 입력하세요\"))\n",
        "  except:\n",
        "    print(\"에러가 발생하였습니다. 숫자를 입력하세요\")\n",
        "    continue #반복문의 시작위치로 돌아간다.\n",
        "\n",
        "  if my_number > number:\n",
        "    print(\"다운\")\n",
        "  elif my_number < number:\n",
        "    print(\"업\")\n",
        "  elif my_number == number:\n",
        "    print(f\"축하합니다.{game_count}회만에 맞췄습니다.\")\n",
        "    break #반복문을 종료한다\n",
        "\n",
        "  game_count+=1\n",
        "\n"
      ],
      "metadata": {
        "colab": {
          "base_uri": "https://localhost:8080/"
        },
        "id": "vdLPN7mQ6Ipc",
        "outputId": "8a1b6bd5-265b-4422-d59e-7b31a8e62889"
      },
      "execution_count": 1,
      "outputs": [
        {
          "output_type": "stream",
          "name": "stdout",
          "text": [
            "1~100사이의 숫자를 입력하세요50\n",
            "다운\n",
            "1~100사이의 숫자를 입력하세요45\n",
            "다운\n",
            "1~100사이의 숫자를 입력하세요30\n",
            "다운\n",
            "1~100사이의 숫자를 입력하세요20\n",
            "다운\n",
            "1~100사이의 숫자를 입력하세요1\n",
            "업\n",
            "1~100사이의 숫자를 입력하세요25\n",
            "다운\n",
            "1~100사이의 숫자를 입력하세요24\n",
            "다운\n",
            "1~100사이의 숫자를 입력하세요23\n",
            "다운\n",
            "1~100사이의 숫자를 입력하세요22\n",
            "다운\n",
            "1~100사이의 숫자를 입력하세요21\n",
            "다운\n",
            "1~100사이의 숫자를 입력하세요20\n",
            "다운\n",
            "1~100사이의 숫자를 입력하세요19\n",
            "다운\n",
            "1~100사이의 숫자를 입력하세요18\n",
            "다운\n",
            "1~100사이의 숫자를 입력하세요17\n",
            "다운\n",
            "1~100사이의 숫자를 입력하세요16\n",
            "다운\n",
            "1~100사이의 숫자를 입력하세요15\n",
            "다운\n",
            "1~100사이의 숫자를 입력하세요14\n",
            "다운\n",
            "1~100사이의 숫자를 입력하세요13\n",
            "다운\n",
            "1~100사이의 숫자를 입력하세요12\n",
            "다운\n",
            "1~100사이의 숫자를 입력하세요11\n",
            "축하합니다.20회만에 맞췄습니다.\n"
          ]
        }
      ]
    }
  ]
}