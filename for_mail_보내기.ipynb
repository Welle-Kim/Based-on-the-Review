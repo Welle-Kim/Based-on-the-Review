{
  "nbformat": 4,
  "nbformat_minor": 0,
  "metadata": {
    "colab": {
      "name": "\bfor_mail 보내기.ipynb",
      "provenance": [],
      "collapsed_sections": [],
      "authorship_tag": "ABX9TyOMW881AWReJFWRexotXFo2",
      "include_colab_link": true
    },
    "kernelspec": {
      "name": "python3",
      "display_name": "Python 3"
    },
    "language_info": {
      "name": "python"
    }
  },
  "cells": [
    {
      "cell_type": "markdown",
      "metadata": {
        "id": "view-in-github",
        "colab_type": "text"
      },
      "source": [
        "<a href=\"https://colab.research.google.com/github/Welle-Kim/Based-on-the-Review/blob/master/%08for_mail_%EB%B3%B4%EB%82%B4%EA%B8%B0.ipynb\" target=\"_parent\"><img src=\"https://colab.research.google.com/assets/colab-badge.svg\" alt=\"Open In Colab\"/></a>"
      ]
    },
    {
      "cell_type": "markdown",
      "source": [
        "### ▶메일송수신 이해 \n",
        "- 구글 검색 '메일 송수신' \n",
        "- smtp 프로토콜은 각 이메일 주소 마다 다름\n",
        "    - 구글검색 '네이버 smtp'\n",
        "    - https://help.naver.com/support/contents/contents.help?serviceNo=2342&categoryNo=2288\n",
        "    - 구글검색 '네이트 smtp'\n",
        "    - http://mail3.nate.com/app/mng/noticeview_unauth/?num=345 "
      ],
      "metadata": {
        "id": "uwzNZZg1MgN9"
      }
    },
    {
      "cell_type": "code",
      "execution_count": 1,
      "metadata": {
        "id": "tK2N7AmRMXcA"
      },
      "outputs": [],
      "source": [
        "## smtplib 모듈 / MIMEText 모듈 연결\n",
        "import smtplib\n",
        "from email.mime.text import MIMEText"
      ]
    },
    {
      "cell_type": "code",
      "source": [
        "## 메일 내용 입력 ##\n",
        "txt='''\n",
        "연습용 메일입니다.\n",
        "메일 보내기\n",
        "'''\n",
        "\n",
        "# 받는 이메일 정보(메일주소)\n",
        "recv_email = \"\" # 보내고자 하는 대상자 메일주소\n",
        "\n",
        "# 보내는 이메일 정보(메일주소, 패스워드)\n",
        "send_email = \"\"   # 개인 네이버 메일주소\n",
        "send_pwd = \"\"     # 개인 네이버 패스워드"
      ],
      "metadata": {
        "id": "cHBv2jNDMjqb"
      },
      "execution_count": 2,
      "outputs": []
    },
    {
      "cell_type": "code",
      "source": [
        "# smtp_name = \"smtp.naver.com\"    # 메일 보내는 주소의 smtp, 이건 각 사이트에서 검색해야함. 또는 구글 검색\n",
        "# smtp_port = 587   #네이버 587인데 네이트에도 가능함, 포트번호도 각 메일 사이트에서 찾아야함.\n",
        "\n",
        "# msg = MIMEText(txt)\n",
        "# msg['Subject'] =\"연습1\"\n",
        "# msg['From'] = send_email\n",
        "# msg['To'] = recv_email\n",
        "# print(msg.as_string())\n",
        "\n",
        "\n",
        "# ## 메일 보내기\n",
        "# s=smtplib.SMTP(smtp_name , smtp_port )\n",
        "# s.starttls()\n",
        "\n",
        "# s.login(send_email,send_pwd)\n",
        "# s.sendmail( send_email, recv_email, msg.as_string() )\n",
        "# s.quit()\n",
        "# print(\"메일발송 완료\")"
      ],
      "metadata": {
        "colab": {
          "base_uri": "https://localhost:8080/",
          "height": 549
        },
        "id": "el7LLVVIMxYe",
        "outputId": "9d6aae63-4d59-4b94-aa39-2b35d2aeb3f9"
      },
      "execution_count": 5,
      "outputs": [
        {
          "output_type": "stream",
          "name": "stdout",
          "text": [
            "Content-Type: text/plain; charset=\"utf-8\"\n",
            "MIME-Version: 1.0\n",
            "Content-Transfer-Encoding: base64\n",
            "Subject: =?utf-8?b?7Jew7Iq1MQ==?=\n",
            "From: \n",
            "To: \n",
            "\n",
            "CuyXsOyKteyaqSDrqZTsnbzsnoXri4jri6QuCuuplOydvCDrs7TrgrTquLAK\n",
            "\n"
          ]
        },
        {
          "output_type": "error",
          "ename": "SMTPConnectError",
          "evalue": "ignored",
          "traceback": [
            "\u001b[0;31m---------------------------------------------------------------------------\u001b[0m",
            "\u001b[0;31mSMTPConnectError\u001b[0m                          Traceback (most recent call last)",
            "\u001b[0;32m<ipython-input-5-7732914c8d6f>\u001b[0m in \u001b[0;36m<module>\u001b[0;34m()\u001b[0m\n\u001b[1;32m     10\u001b[0m \u001b[0;34m\u001b[0m\u001b[0m\n\u001b[1;32m     11\u001b[0m \u001b[0;31m## 메일 보내기\u001b[0m\u001b[0;34m\u001b[0m\u001b[0;34m\u001b[0m\u001b[0;34m\u001b[0m\u001b[0m\n\u001b[0;32m---> 12\u001b[0;31m \u001b[0ms\u001b[0m\u001b[0;34m=\u001b[0m\u001b[0msmtplib\u001b[0m\u001b[0;34m.\u001b[0m\u001b[0mSMTP\u001b[0m\u001b[0;34m(\u001b[0m\u001b[0msmtp_name\u001b[0m \u001b[0;34m,\u001b[0m \u001b[0msmtp_port\u001b[0m \u001b[0;34m)\u001b[0m\u001b[0;34m\u001b[0m\u001b[0;34m\u001b[0m\u001b[0m\n\u001b[0m\u001b[1;32m     13\u001b[0m \u001b[0ms\u001b[0m\u001b[0;34m.\u001b[0m\u001b[0mstarttls\u001b[0m\u001b[0;34m(\u001b[0m\u001b[0;34m)\u001b[0m\u001b[0;34m\u001b[0m\u001b[0;34m\u001b[0m\u001b[0m\n\u001b[1;32m     14\u001b[0m \u001b[0;34m\u001b[0m\u001b[0m\n",
            "\u001b[0;32m/usr/lib/python3.7/smtplib.py\u001b[0m in \u001b[0;36m__init__\u001b[0;34m(self, host, port, local_hostname, timeout, source_address)\u001b[0m\n\u001b[1;32m    252\u001b[0m             \u001b[0;32mif\u001b[0m \u001b[0mcode\u001b[0m \u001b[0;34m!=\u001b[0m \u001b[0;36m220\u001b[0m\u001b[0;34m:\u001b[0m\u001b[0;34m\u001b[0m\u001b[0;34m\u001b[0m\u001b[0m\n\u001b[1;32m    253\u001b[0m                 \u001b[0mself\u001b[0m\u001b[0;34m.\u001b[0m\u001b[0mclose\u001b[0m\u001b[0;34m(\u001b[0m\u001b[0;34m)\u001b[0m\u001b[0;34m\u001b[0m\u001b[0;34m\u001b[0m\u001b[0m\n\u001b[0;32m--> 254\u001b[0;31m                 \u001b[0;32mraise\u001b[0m \u001b[0mSMTPConnectError\u001b[0m\u001b[0;34m(\u001b[0m\u001b[0mcode\u001b[0m\u001b[0;34m,\u001b[0m \u001b[0mmsg\u001b[0m\u001b[0;34m)\u001b[0m\u001b[0;34m\u001b[0m\u001b[0;34m\u001b[0m\u001b[0m\n\u001b[0m\u001b[1;32m    255\u001b[0m         \u001b[0;32mif\u001b[0m \u001b[0mlocal_hostname\u001b[0m \u001b[0;32mis\u001b[0m \u001b[0;32mnot\u001b[0m \u001b[0;32mNone\u001b[0m\u001b[0;34m:\u001b[0m\u001b[0;34m\u001b[0m\u001b[0;34m\u001b[0m\u001b[0m\n\u001b[1;32m    256\u001b[0m             \u001b[0mself\u001b[0m\u001b[0;34m.\u001b[0m\u001b[0mlocal_hostname\u001b[0m \u001b[0;34m=\u001b[0m \u001b[0mlocal_hostname\u001b[0m\u001b[0;34m\u001b[0m\u001b[0;34m\u001b[0m\u001b[0m\n",
            "\u001b[0;31mSMTPConnectError\u001b[0m: (421, b'4.3.2 Too many concurrent connection. This connection will be closed p5CCDf1QQBSSCgVl-c6y0g - nsmtp')"
          ]
        }
      ]
    },
    {
      "cell_type": "code",
      "source": [
        ""
      ],
      "metadata": {
        "id": "9HpiDRxLNEvG"
      },
      "execution_count": null,
      "outputs": []
    }
  ]
}