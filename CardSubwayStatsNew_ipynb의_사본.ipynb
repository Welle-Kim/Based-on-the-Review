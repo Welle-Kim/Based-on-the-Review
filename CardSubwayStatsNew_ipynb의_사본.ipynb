{
  "cells": [
    {
      "cell_type": "markdown",
      "metadata": {
        "id": "view-in-github",
        "colab_type": "text"
      },
      "source": [
        "<a href=\"https://colab.research.google.com/github/Welle-Kim/Based-on-the-Review/blob/master/CardSubwayStatsNew_ipynb%EC%9D%98_%EC%82%AC%EB%B3%B8.ipynb\" target=\"_parent\"><img src=\"https://colab.research.google.com/assets/colab-badge.svg\" alt=\"Open In Colab\"/></a>"
      ]
    },
    {
      "cell_type": "code",
      "execution_count": 2,
      "id": "bea9cf3d",
      "metadata": {
        "id": "bea9cf3d",
        "colab": {
          "base_uri": "https://localhost:8080/"
        },
        "outputId": "8d871e6c-1bc6-4dcf-e59e-021d52bbfe3f"
      },
      "outputs": [
        {
          "name": "stdout",
          "output_type": "stream",
          "text": [
            "조회일을 입력하세요.(예:20220101):20220101\n"
          ]
        }
      ],
      "source": [
        "import requests  \n",
        "from bs4 import BeautifulSoup as bs  \n",
        "import pandas as pd\n",
        "\n",
        "def request_url(urldate, endpage=5):   # url 생성 함수\n",
        "    user_key=\"554476647a736a6433367672586d51\"\n",
        "    url=\"http://openapi.seoul.go.kr:8088/\" + user_key\n",
        "    url=url + \"/xml/CardSubwayStatsNew/1/\"+ str(endpage) # 출력 데이터 개수\n",
        "    url=url + \"/\" + str(urldate)    # 조회 날짜\n",
        "\n",
        "    subway_html=requests.get(url)  # 생성된 url을 기준으로 요청\n",
        "\n",
        "    if subway_html.status_code != 200: # 데이터를 받아오지 못했다면 종료\n",
        "        exit(\"데이터를 받지 못함\")\n",
        "    \n",
        "    return subway_html\n",
        "\n",
        "\n",
        "def swdataframe(schdate):   # 요청데이터를 이용해 DataFrame으로 제공 함수\n",
        "    subway_html=request_url(schdate)\n",
        "    #print(subway_html.text)\n",
        "    soup=bs(subway_html.text, \"html.parser\")\n",
        "\n",
        "    endpage=soup.find('list_total_count').get_text()\n",
        "\n",
        "    subway_html=request_url(schdate, endpage)\n",
        "    soup=bs(subway_html.text, \"html.parser\")\n",
        "\n",
        "    rows=soup.find_all(\"row\")\n",
        "\n",
        "    sw=[]\n",
        "    for row in rows:\n",
        "        use_dt=row.find('use_dt').get_text()\n",
        "        line_num=row.find('line_num').get_text()\n",
        "        sub_sta_nm=row.find('sub_sta_nm').get_text()\n",
        "        ride_pasgr=row.find('ride_pasgr_num').get_text()\n",
        "        alight_pasgr=row.find('alight_pasgr_num').get_text()\n",
        "\n",
        "        sw.append([use_dt, line_num, sub_sta_nm, ride_pasgr, alight_pasgr])\n",
        "\n",
        "    swdf=pd.DataFrame(sw, columns=[\"사용일자\", \"호선명\", \"역명\", \"승차인원\", \"하차인원\"])\n",
        "    \n",
        "    return swdf\n",
        "\n",
        "# 현재 위치에서 실행시에만 아래 코드가 실행\n",
        "# 즉 다른 파일에서 호출하면 실행 안됨\n",
        "\n",
        "if __name__ == \"__main__\":  \n",
        "    schdate=input(\"조회일을 입력하세요.(예:20220101):\")\n",
        "    df1=swdataframe(schdate)\n",
        "    df1.head()"
      ]
    }
  ],
  "metadata": {
    "kernelspec": {
      "display_name": "Python 3 (ipykernel)",
      "language": "python",
      "name": "python3"
    },
    "language_info": {
      "codemirror_mode": {
        "name": "ipython",
        "version": 3
      },
      "file_extension": ".py",
      "mimetype": "text/x-python",
      "name": "python",
      "nbconvert_exporter": "python",
      "pygments_lexer": "ipython3",
      "version": "3.9.7"
    },
    "colab": {
      "name": "CardSubwayStatsNew.ipynb의 사본",
      "provenance": [],
      "include_colab_link": true
    }
  },
  "nbformat": 4,
  "nbformat_minor": 5
}