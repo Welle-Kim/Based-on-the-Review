{
  "cells": [
    {
      "cell_type": "markdown",
      "metadata": {
        "id": "view-in-github",
        "colab_type": "text"
      },
      "source": [
        "<a href=\"https://colab.research.google.com/github/Welle-Kim/Based-on-the-Review/blob/master/1_%EB%8D%B0%EC%9D%B4%ED%84%B0_%ED%83%80%EC%9E%85_%EB%B3%B5%EC%8A%B5_ipynb%EC%9D%98_%EC%82%AC%EB%B3%B8.ipynb\" target=\"_parent\"><img src=\"https://colab.research.google.com/assets/colab-badge.svg\" alt=\"Open In Colab\"/></a>"
      ]
    },
    {
      "cell_type": "markdown",
      "id": "0e1f4613",
      "metadata": {
        "id": "0e1f4613"
      },
      "source": [
        "### 점프투 파이썬의 딕셔너리 구조를 공부합니다.\n",
        "https://wikidocs.net/16"
      ]
    },
    {
      "cell_type": "code",
      "source": [
        "a=[1,2,3,4,5]\n",
        "if isinstance(a,list)==True:\n",
        "  print('list')"
      ],
      "metadata": {
        "colab": {
          "base_uri": "https://localhost:8080/"
        },
        "id": "kI_hXp1BJG19",
        "outputId": "fd24aa91-6295-471c-ac8a-2b4f8a7a225c"
      },
      "id": "kI_hXp1BJG19",
      "execution_count": 1,
      "outputs": [
        {
          "output_type": "stream",
          "name": "stdout",
          "text": [
            "list\n"
          ]
        }
      ]
    },
    {
      "cell_type": "markdown",
      "id": "1da396a7",
      "metadata": {
        "id": "1da396a7"
      },
      "source": [
        "### [미션1] 딕셔너리 구조의 인덱싱\n",
        "- 딕셔너리 구조는 json 파일 형식으로 작성할수 있음.\n",
        "- 외부데이터 셋으로 많이 보는 형식임"
      ]
    },
    {
      "cell_type": "code",
      "execution_count": 2,
      "id": "bba02b53",
      "metadata": {
        "id": "bba02b53",
        "outputId": "38e71896-a5b6-4b13-f57a-91f07c31df45",
        "colab": {
          "base_uri": "https://localhost:8080/"
        }
      },
      "outputs": [
        {
          "output_type": "stream",
          "name": "stdout",
          "text": [
            "<class 'list'>\n"
          ]
        }
      ],
      "source": [
        "data={'여행지':['서울시내','경기','전주','부산','제주'],\n",
        "  '예상경비1일':['50000','100000','200000'],\n",
        "  '예상일정': ['3일','2일']\n",
        "  }\n",
        "print(type(a))"
      ]
    },
    {
      "cell_type": "code",
      "execution_count": 3,
      "id": "e5bc9b07",
      "metadata": {
        "id": "e5bc9b07",
        "outputId": "01db3d1d-a3df-4463-fff8-ee0f83aeab03",
        "colab": {
          "base_uri": "https://localhost:8080/"
        }
      },
      "outputs": [
        {
          "output_type": "execute_result",
          "data": {
            "text/plain": [
              "{'여행지': ['서울시내', '경기', '전주', '부산', '제주'],\n",
              " '예상경비1일': ['50000', '100000', '200000'],\n",
              " '예상일정': ['3일', '2일']}"
            ]
          },
          "metadata": {},
          "execution_count": 3
        }
      ],
      "source": [
        "data"
      ]
    },
    {
      "cell_type": "code",
      "execution_count": 4,
      "id": "3db31e40",
      "metadata": {
        "id": "3db31e40",
        "outputId": "4e183791-cc8d-400d-f152-b830497169af",
        "colab": {
          "base_uri": "https://localhost:8080/"
        }
      },
      "outputs": [
        {
          "output_type": "execute_result",
          "data": {
            "text/plain": [
              "['서울시내', '경기', '전주', '부산', '제주']"
            ]
          },
          "metadata": {},
          "execution_count": 4
        }
      ],
      "source": [
        "data['여행지']"
      ]
    },
    {
      "cell_type": "code",
      "execution_count": 5,
      "id": "ca17217e",
      "metadata": {
        "id": "ca17217e",
        "colab": {
          "base_uri": "https://localhost:8080/"
        },
        "outputId": "38710df0-2b31-4334-cc3c-bb641bfdbcce"
      },
      "outputs": [
        {
          "output_type": "execute_result",
          "data": {
            "text/plain": [
              "['3일', '2일']"
            ]
          },
          "metadata": {},
          "execution_count": 5
        }
      ],
      "source": [
        "# 미션: data의 '예상일정'을 출력합니다.\n",
        "data[\"예상일정\"]"
      ]
    },
    {
      "cell_type": "code",
      "execution_count": 6,
      "id": "be6a03a9",
      "metadata": {
        "id": "be6a03a9",
        "colab": {
          "base_uri": "https://localhost:8080/",
          "height": 36
        },
        "outputId": "6a8e3361-9e49-48ef-cc88-bf57785b8b9c"
      },
      "outputs": [
        {
          "output_type": "execute_result",
          "data": {
            "text/plain": [
              "'서울시내'"
            ],
            "application/vnd.google.colaboratory.intrinsic+json": {
              "type": "string"
            }
          },
          "metadata": {},
          "execution_count": 6
        }
      ],
      "source": [
        "# 미션: data의 '여행지'의 첫번째 '서울시내'를 출력합니다.\n",
        "data[\"여행지\"][0]"
      ]
    },
    {
      "cell_type": "code",
      "execution_count": 7,
      "id": "4417b8f3",
      "metadata": {
        "id": "4417b8f3",
        "colab": {
          "base_uri": "https://localhost:8080/"
        },
        "outputId": "715ddec9-82af-482f-8037-7872b5a9d348"
      },
      "outputs": [
        {
          "output_type": "execute_result",
          "data": {
            "text/plain": [
              "['경기', '전주']"
            ]
          },
          "metadata": {},
          "execution_count": 7
        }
      ],
      "source": [
        "# 미션: data의 '여행지'의  두번째,세번째 '경기','전주'를 출력합니다.\n",
        "data[\"여행지\"][1:3]"
      ]
    },
    {
      "cell_type": "code",
      "execution_count": 8,
      "id": "c368c664",
      "metadata": {
        "id": "c368c664",
        "colab": {
          "base_uri": "https://localhost:8080/",
          "height": 36
        },
        "outputId": "c57d4b35-4d16-4583-aa17-de120748b925"
      },
      "outputs": [
        {
          "output_type": "execute_result",
          "data": {
            "text/plain": [
              "'부산'"
            ],
            "application/vnd.google.colaboratory.intrinsic+json": {
              "type": "string"
            }
          },
          "metadata": {},
          "execution_count": 8
        }
      ],
      "source": [
        "# 미션: data의 '여행지'의 끝에서 두번째 '부산'을 출력합니다. (- 값으로 인덱싱) \n",
        "data[\"여행지\"][-2]"
      ]
    },
    {
      "cell_type": "markdown",
      "id": "ffbbf079",
      "metadata": {
        "id": "ffbbf079"
      },
      "source": [
        "### [미션2] 데이터 원소갯수 구하기 (len함수)"
      ]
    },
    {
      "cell_type": "code",
      "execution_count": 9,
      "id": "479c4f8f",
      "metadata": {
        "id": "479c4f8f",
        "outputId": "8a96efb6-26d8-4c58-9a69-1dae7f206b62",
        "colab": {
          "base_uri": "https://localhost:8080/"
        }
      },
      "outputs": [
        {
          "output_type": "execute_result",
          "data": {
            "text/plain": [
              "3"
            ]
          },
          "metadata": {},
          "execution_count": 9
        }
      ],
      "source": [
        "len(data)"
      ]
    },
    {
      "cell_type": "code",
      "execution_count": 10,
      "id": "60ed436c",
      "metadata": {
        "id": "60ed436c",
        "colab": {
          "base_uri": "https://localhost:8080/"
        },
        "outputId": "23745f54-507f-40c6-adc6-83d3a17eabb2"
      },
      "outputs": [
        {
          "output_type": "stream",
          "name": "stdout",
          "text": [
            "5\n",
            "3\n",
            "2\n"
          ]
        }
      ],
      "source": [
        "# 미션2-1: 여행지, 예상경비1일, 예상일정의 항목갯수(원소갯수)를 print문으로 출력합니다.\n",
        "print(len(data[\"여행지\"]))\n",
        "print(len(data[\"예상경비1일\"]))\n",
        "print(len(data[\"예상일정\"]))"
      ]
    },
    {
      "cell_type": "code",
      "execution_count": 11,
      "id": "ad71bf77",
      "metadata": {
        "id": "ad71bf77",
        "colab": {
          "base_uri": "https://localhost:8080/"
        },
        "outputId": "d79a4bdd-0121-45d3-c713-794153e6b52d"
      },
      "outputs": [
        {
          "output_type": "stream",
          "name": "stdout",
          "text": [
            "5\n",
            "3\n",
            "2\n"
          ]
        }
      ],
      "source": [
        "# 미션2-2 : for를 이용하여서 미션 2-1 구문을 변경합니다. \n",
        "itemList=['여행지','예상경비1일','예상일정']\n",
        "for i in itemList:\n",
        "  print(len(data[i]))"
      ]
    },
    {
      "cell_type": "code",
      "execution_count": 12,
      "id": "f7e15f82",
      "metadata": {
        "id": "f7e15f82",
        "outputId": "15c737fd-3660-4006-8614-9adcfab44a70",
        "colab": {
          "base_uri": "https://localhost:8080/"
        }
      },
      "outputs": [
        {
          "output_type": "stream",
          "name": "stdout",
          "text": [
            "5\n",
            "3\n",
            "항목갯수가 작음. 추가바람\n"
          ]
        }
      ],
      "source": [
        "# 미션2-3 : 미션 2-2의 for구문에 if문을 추가합니다.\n",
        "# 항목갯수가  3미만(<3)일때는 print문으로 '항목갯수가 작음. 추가바람'\n",
        "itemList=['여행지','예상경비1일','예상일정']\n",
        "for i in itemList:\n",
        "  if (len(data[i]))<3:\n",
        "    print('항목갯수가 작음. 추가바람')\n",
        "  else:\n",
        "    print(len(data[i]))"
      ]
    },
    {
      "cell_type": "markdown",
      "id": "d2d5e62b",
      "metadata": {
        "id": "d2d5e62b"
      },
      "source": [
        "### [미션3] 랜덤값으로 여행일정 짜기"
      ]
    },
    {
      "cell_type": "code",
      "execution_count": 13,
      "id": "023e14b3",
      "metadata": {
        "id": "023e14b3",
        "outputId": "f3af1f18-4ee4-4fb8-ebc1-df5554fa77de",
        "colab": {
          "base_uri": "https://localhost:8080/"
        }
      },
      "outputs": [
        {
          "output_type": "execute_result",
          "data": {
            "text/plain": [
              "1"
            ]
          },
          "metadata": {},
          "execution_count": 13
        }
      ],
      "source": [
        "import random\n",
        "randomNum=random.randrange(0,4)   # 0,1,2,3의 random값 나옴 ctrl+enter 여러번 수행하면서 확인\n",
        "randomNum"
      ]
    },
    {
      "cell_type": "code",
      "execution_count": 14,
      "id": "151d5112",
      "metadata": {
        "id": "151d5112",
        "colab": {
          "base_uri": "https://localhost:8080/"
        },
        "outputId": "c185edf1-92cb-413f-a6a4-9383d7d96042"
      },
      "outputs": [
        {
          "output_type": "execute_result",
          "data": {
            "text/plain": [
              "4"
            ]
          },
          "metadata": {},
          "execution_count": 14
        }
      ],
      "source": [
        "## 미션 3-1: 여행지의 갯수가 0,1,2,3,4번 5게임, 0~5개의 숫자가 나올수 있도록 작성합니다.\n",
        "##  여행지에서 random하게 지역을 출력합니다.\n",
        "import random\n",
        "a=len(data[\"여행지\"])\n",
        "randomNum=random.randrange(0,a)\n",
        "randomNum\n"
      ]
    },
    {
      "cell_type": "code",
      "execution_count": 15,
      "id": "90bfb852",
      "metadata": {
        "id": "90bfb852",
        "colab": {
          "base_uri": "https://localhost:8080/"
        },
        "outputId": "a74a158f-6d27-4c5d-d947-aed897c585bb"
      },
      "outputs": [
        {
          "output_type": "execute_result",
          "data": {
            "text/plain": [
              "1"
            ]
          },
          "metadata": {},
          "execution_count": 15
        }
      ],
      "source": [
        "## 미션 3-2: random으로 나올수 있는 마지막 값을 여행지의 갯수 len함수로 지정함.\n",
        "import random\n",
        "a=len(data[\"여행지\"])\n",
        "randomNum=random.randrange(0,a)\n",
        "randomNum"
      ]
    },
    {
      "cell_type": "code",
      "source": [
        "itemList"
      ],
      "metadata": {
        "colab": {
          "base_uri": "https://localhost:8080/"
        },
        "id": "o0Mt7yeYz-f8",
        "outputId": "1bb47d74-cbea-4be8-ef40-133d3300e253"
      },
      "id": "o0Mt7yeYz-f8",
      "execution_count": 16,
      "outputs": [
        {
          "output_type": "execute_result",
          "data": {
            "text/plain": [
              "['여행지', '예상경비1일', '예상일정']"
            ]
          },
          "metadata": {},
          "execution_count": 16
        }
      ]
    },
    {
      "cell_type": "code",
      "execution_count": 17,
      "id": "864fbf1a",
      "metadata": {
        "id": "864fbf1a",
        "colab": {
          "base_uri": "https://localhost:8080/"
        },
        "outputId": "9c1c3fc3-fa0c-4e69-ce19-4f6acbf8fda1"
      },
      "outputs": [
        {
          "output_type": "execute_result",
          "data": {
            "text/plain": [
              "['여행지', '예상일정', '예상경비1일']"
            ]
          },
          "metadata": {},
          "execution_count": 17
        }
      ],
      "source": [
        "## 미션 3-3: random으로 여행지, 예상경비1일,예상일정을 출력하세요\n",
        "import random\n",
        "\n",
        "random.shuffle(itemList)\n",
        "itemList"
      ]
    },
    {
      "cell_type": "code",
      "execution_count": 18,
      "id": "5f704037",
      "metadata": {
        "id": "5f704037",
        "colab": {
          "base_uri": "https://localhost:8080/"
        },
        "outputId": "6069686b-fae5-4f69-bb17-3c94504ee542"
      },
      "outputs": [
        {
          "output_type": "execute_result",
          "data": {
            "text/plain": [
              "['여행지', '예상일정', '예상경비1일']"
            ]
          },
          "metadata": {},
          "execution_count": 18
        }
      ],
      "source": [
        "## 미션 3-4: 미션3-3을 for 로 작성하지 않았다면 for로 변경\n",
        "import random\n",
        "space=[]\n",
        "for i in itemList:\n",
        "  space.append(i)\n",
        "\n",
        "random.shuffle(space)\n",
        "space"
      ]
    },
    {
      "cell_type": "code",
      "source": [
        "itemList"
      ],
      "metadata": {
        "colab": {
          "base_uri": "https://localhost:8080/"
        },
        "id": "35Jfvng58PVi",
        "outputId": "9777af85-dbc6-4b1d-d066-982d8d9f140e"
      },
      "id": "35Jfvng58PVi",
      "execution_count": 19,
      "outputs": [
        {
          "output_type": "execute_result",
          "data": {
            "text/plain": [
              "['여행지', '예상일정', '예상경비1일']"
            ]
          },
          "metadata": {},
          "execution_count": 19
        }
      ]
    },
    {
      "cell_type": "code",
      "source": [
        "space"
      ],
      "metadata": {
        "colab": {
          "base_uri": "https://localhost:8080/"
        },
        "id": "VP0ni8wg8rI8",
        "outputId": "16994cad-521a-4eeb-c612-5013e99ade53"
      },
      "id": "VP0ni8wg8rI8",
      "execution_count": 20,
      "outputs": [
        {
          "output_type": "execute_result",
          "data": {
            "text/plain": [
              "['여행지', '예상일정', '예상경비1일']"
            ]
          },
          "metadata": {},
          "execution_count": 20
        }
      ]
    },
    {
      "cell_type": "code",
      "execution_count": 21,
      "id": "4763a11e",
      "metadata": {
        "id": "4763a11e",
        "colab": {
          "base_uri": "https://localhost:8080/"
        },
        "outputId": "6a73f16c-138d-4903-e457-25baea0ad5de"
      },
      "outputs": [
        {
          "output_type": "stream",
          "name": "stdout",
          "text": [
            "랜덤여행일정= ['경기', '3일', '50000']\n"
          ]
        }
      ],
      "source": [
        "## 미션 3-5: for로 변경된 구문울 이용하여서  랜덤여행일정 리스트를 제작\n",
        "# 출력예 ==> 랜덤여행일정=['경기','3일','50000']\n",
        "\n",
        "import random\n",
        "new=[]\n",
        "for i in space:\n",
        "  i=i.replace(\"여행지\",'경기')\n",
        "  i=i.replace(\"예상일정\",\"3일\")\n",
        "  i=i.replace('예상경비1일',\"50000\")\n",
        "  new.append(i)\n",
        "\n",
        "print(\"랜덤여행일정=\",new)"
      ]
    },
    {
      "cell_type": "code",
      "execution_count": 22,
      "id": "785063e5",
      "metadata": {
        "id": "785063e5",
        "colab": {
          "base_uri": "https://localhost:8080/"
        },
        "outputId": "e221ab41-41c7-418c-c5c6-8841ee8c3293"
      },
      "outputs": [
        {
          "output_type": "stream",
          "name": "stdout",
          "text": [
            "랜덤여행일정= ['경기', '3', '150000']\n"
          ]
        }
      ],
      "source": [
        "# 미션3-6: 랜덤여행일정의 자료의 2번 인덱스의 '50000'을 숫자형으로 변경\n",
        "#          랜덤여행일정 자료의 1번 인덱스의 '3일'의 '일'을 제거하고 숫자형으로 변경 (구글검색  '파이썬 replace')\n",
        "#          최종결과는?\n",
        "# 랜덤여행일지=['경기',50000,3,150000]    #마지막은 1일경비*예상일정\n",
        "\n",
        "import random\n",
        "new=[]\n",
        "for i in space:\n",
        "  i=i.replace(\"여행지\",'경기')\n",
        "  i=i.replace(\"예상일정\",\"3\")\n",
        "  i=i.replace('예상경비1일',\"150000\")\n",
        "  new.append(i)\n",
        "\n",
        "print(\"랜덤여행일정=\",new)"
      ]
    },
    {
      "cell_type": "markdown",
      "id": "2f4bd210",
      "metadata": {
        "id": "2f4bd210"
      },
      "source": [
        "### [미션4] 정규표현식에 대하여 공부하여 봅니다.\n",
        "- 구글검색: 파이썬 re.sub\n",
        "- https://wikidocs.net/1642    (점프투파이썬)"
      ]
    },
    {
      "cell_type": "code",
      "execution_count": 23,
      "id": "fe0f7a5f",
      "metadata": {
        "id": "fe0f7a5f",
        "colab": {
          "base_uri": "https://localhost:8080/"
        },
        "outputId": "dcde0dc4-f76f-4f92-cddb-5f0e27e8d519"
      },
      "outputs": [
        {
          "output_type": "stream",
          "name": "stdout",
          "text": [
            "<class 'int'>\n"
          ]
        }
      ],
      "source": [
        "data={'여행지':['서울시내','경기','전주','부산','제주'],\n",
        "  '예상경비1일':['50000','100000','200000'],\n",
        "  '예상일정': ['!3일정도','2일^^^']\n",
        "  }\n",
        "print(type(a))"
      ]
    },
    {
      "cell_type": "code",
      "source": [
        "# [미션] 위와같은 구문에서 data['예상일정']에서 숫자만 남기고 나머지 글자는 모두 제거\n",
        "import re\n",
        "\n",
        "new=[]\n",
        "for i in data['예상일정']:\n",
        "  a=re.sub(\"[^0-9]\",\"\",i).strip()\n",
        "  new.append(a)\n",
        "\n",
        "print(new)"
      ],
      "metadata": {
        "colab": {
          "base_uri": "https://localhost:8080/"
        },
        "id": "pe5axqUZFVlC",
        "outputId": "23b99b89-97b3-42cb-a1fc-acbe80505d32"
      },
      "id": "pe5axqUZFVlC",
      "execution_count": 24,
      "outputs": [
        {
          "output_type": "stream",
          "name": "stdout",
          "text": [
            "['3', '2']\n"
          ]
        }
      ]
    },
    {
      "cell_type": "markdown",
      "id": "af51aded",
      "metadata": {
        "id": "af51aded"
      },
      "source": [
        "### [미션5]:\n",
        "- 아래와 같은 여행 일정의, 국내여행과 해외여행에 관한 정보가 있는 딕셔너리 구조에서의 인덱싱"
      ]
    },
    {
      "cell_type": "code",
      "execution_count": 25,
      "id": "0e4cb615",
      "metadata": {
        "id": "0e4cb615",
        "outputId": "88d529c7-6d51-42f4-87f6-255684578132",
        "colab": {
          "base_uri": "https://localhost:8080/"
        }
      },
      "outputs": [
        {
          "output_type": "execute_result",
          "data": {
            "text/plain": [
              "{'여행': [{'여행지': ['서울시내', '경기', '전주', '부산', '제주'],\n",
              "   '예상경비1일': ['50000', '100000', '200000'],\n",
              "   '예상일정': ['!3일정도', '2일^^^']},\n",
              "  {'여행지': ['유럽', '아시아'],\n",
              "   '예상경비1일': ['100000', '400000', '300000', '150000'],\n",
              "   '예상일정': ['4일갈까?', '~7일도좋아', '20일##']}]}"
            ]
          },
          "metadata": {},
          "execution_count": 25
        }
      ],
      "source": [
        "data={'여행': [\n",
        "{'여행지':['서울시내','경기','전주','부산','제주'],\n",
        "  '예상경비1일':['50000','100000','200000'],\n",
        "  '예상일정': ['!3일정도','2일^^^']\n",
        "  }\n",
        ",\n",
        "{'여행지':['유럽','아시아'],\n",
        "  '예상경비1일':['100000','400000','300000','150000'],\n",
        "  '예상일정': ['4일갈까?','~7일도좋아','20일##']\n",
        "  }]\n",
        "}\n",
        "data"
      ]
    },
    {
      "cell_type": "code",
      "execution_count": 26,
      "id": "947d2814",
      "metadata": {
        "id": "947d2814",
        "colab": {
          "base_uri": "https://localhost:8080/"
        },
        "outputId": "c2ed19ca-521c-4753-9479-8af8df63c4b6"
      },
      "outputs": [
        {
          "output_type": "execute_result",
          "data": {
            "text/plain": [
              "['서울시내', '경기', '전주', '부산', '제주']"
            ]
          },
          "metadata": {},
          "execution_count": 26
        }
      ],
      "source": [
        "# 미션 : 국내여행만 출력\n",
        "data[\"여행\"][0][\"여행지\"]"
      ]
    },
    {
      "cell_type": "code",
      "execution_count": 27,
      "id": "b730bfc9",
      "metadata": {
        "id": "b730bfc9",
        "colab": {
          "base_uri": "https://localhost:8080/"
        },
        "outputId": "5101fcfe-2e29-4585-fe1c-1bcd3765cbfe"
      },
      "outputs": [
        {
          "output_type": "execute_result",
          "data": {
            "text/plain": [
              "['유럽', '아시아']"
            ]
          },
          "metadata": {},
          "execution_count": 27
        }
      ],
      "source": [
        "# 미션: 해외여행만 출력\n",
        "data[\"여행\"][1][\"여행지\"]"
      ]
    },
    {
      "cell_type": "code",
      "execution_count": 28,
      "id": "19db2845",
      "metadata": {
        "id": "19db2845",
        "colab": {
          "base_uri": "https://localhost:8080/"
        },
        "outputId": "197fd829-c6c1-414a-81fb-0c6b74150a19"
      },
      "outputs": [
        {
          "output_type": "stream",
          "name": "stdout",
          "text": [
            "['서울시내', '경기', '전주', '부산', '제주']\n"
          ]
        }
      ],
      "source": [
        "# 미션: 국내,해외여행중 random으로 출력\n",
        "s=data[\"여행\"][0][\"여행지\"],data[\"여행\"][1][\"여행지\"]\n",
        "\n",
        "a=random.choice(s)\n",
        "print(a)"
      ]
    },
    {
      "cell_type": "code",
      "source": [
        "data"
      ],
      "metadata": {
        "colab": {
          "base_uri": "https://localhost:8080/"
        },
        "id": "myzBAAX3PDzo",
        "outputId": "37c8d0af-b31e-4afc-e408-f8c790eb7b14"
      },
      "id": "myzBAAX3PDzo",
      "execution_count": 29,
      "outputs": [
        {
          "output_type": "execute_result",
          "data": {
            "text/plain": [
              "{'여행': [{'여행지': ['서울시내', '경기', '전주', '부산', '제주'],\n",
              "   '예상경비1일': ['50000', '100000', '200000'],\n",
              "   '예상일정': ['!3일정도', '2일^^^']},\n",
              "  {'여행지': ['유럽', '아시아'],\n",
              "   '예상경비1일': ['100000', '400000', '300000', '150000'],\n",
              "   '예상일정': ['4일갈까?', '~7일도좋아', '20일##']}]}"
            ]
          },
          "metadata": {},
          "execution_count": 29
        }
      ]
    },
    {
      "cell_type": "code",
      "execution_count": 30,
      "id": "303441d3",
      "metadata": {
        "id": "303441d3",
        "colab": {
          "base_uri": "https://localhost:8080/"
        },
        "outputId": "40a29c96-069d-4792-a74b-71e8bdd04582"
      },
      "outputs": [
        {
          "output_type": "stream",
          "name": "stdout",
          "text": [
            "랜덤여행일정:유럽,100000,3,300000\n"
          ]
        }
      ],
      "source": [
        "# 최종: 국내,해외여행지 random하게 나오며, 국내, 해외여행지에서 다시 random하게 여행지, 예상경비1일,예상일정을\n",
        "# 랜덤여행일정에 제작\n",
        "# 예상경비1일*예상일정이 들어간 최종 경비까지 출력되게함\n",
        "# 최종출력물=> 랜덤여행일정=[여행지,예상경비1일숫자로,예상일정숫자로, 예상경비1일*예상일정]\n",
        "\n",
        "import re\n",
        "s=data[\"여행\"][0][\"여행지\"],data[\"여행\"][1][\"여행지\"]\n",
        "a=random.choice(s)\n",
        "place=random.choice(a)  \n",
        "\n",
        "t=data[\"여행\"][0][\"예상경비1일\"],data[\"여행\"][1][\"예상경비1일\"]\n",
        "b=random.choice(t)\n",
        "date=random.choice(b)\n",
        "\n",
        "d=data[\"여행\"][0][\"예상일정\"],data[\"여행\"][1][\"예상일정\"]\n",
        "new=[]\n",
        "for i in d:\n",
        "  i=str(i)\n",
        "  text=re.sub(\"[^0-9]\",\"\",i).strip()\n",
        "  new.append(text)\n",
        "c=random.choice(new)\n",
        "expected=random.choice(c)\n",
        "\n",
        "date=int(date)\n",
        "expected=int(expected)\n",
        "print(f\"랜덤여행일정:{place},{date},{expected},{date*expected}\")"
      ]
    }
  ],
  "metadata": {
    "kernelspec": {
      "display_name": "Python 3 (ipykernel)",
      "language": "python",
      "name": "python3"
    },
    "language_info": {
      "codemirror_mode": {
        "name": "ipython",
        "version": 3
      },
      "file_extension": ".py",
      "mimetype": "text/x-python",
      "name": "python",
      "nbconvert_exporter": "python",
      "pygments_lexer": "ipython3",
      "version": "3.9.7"
    },
    "colab": {
      "name": "1. 데이터 타입_복습 .ipynb의 사본",
      "provenance": [],
      "collapsed_sections": [],
      "include_colab_link": true
    }
  },
  "nbformat": 4,
  "nbformat_minor": 5
}