{
  "cells": [
    {
      "cell_type": "markdown",
      "metadata": {
        "id": "view-in-github",
        "colab_type": "text"
      },
      "source": [
        "<a href=\"https://colab.research.google.com/github/Welle-Kim/Based-on-the-Review/blob/master/1_4%EC%9E%A5_%EB%8C%80%EC%A4%91%EA%B5%90%ED%86%B5_%EB%8D%B0%EC%9D%B4%ED%84%B0_%EB%B6%84%EC%84%9D(%EC%A7%80%ED%95%98%EC%B2%A0)_ipynb%EC%9D%98_%EC%82%AC%EB%B3%B8.ipynb\" target=\"_parent\"><img src=\"https://colab.research.google.com/assets/colab-badge.svg\" alt=\"Open In Colab\"/></a>"
      ]
    },
    {
      "cell_type": "markdown",
      "id": "42425b03",
      "metadata": {
        "id": "42425b03"
      },
      "source": [
        "## 대중교통(서울지하철) 데이터 처리 및 시각화\n",
        "- csv 모듈을 이용한 데이터 처리\n",
        "- 데이터: 서울시 공공데이터 검색 => 지하철 유무임 검색 => csv 형식 파일 다운로드"
      ]
    },
    {
      "cell_type": "markdown",
      "id": "4dbd0dfe",
      "metadata": {
        "id": "4dbd0dfe"
      },
      "source": [
        "#### 1. 데이터 읽어오기 및 데이터 형식 변경\n",
        "- 첫번째행(제목)은 title 변수에 저장\n",
        "- 나머지 데이터는 리스트형으로 변경해 사용"
      ]
    },
    {
      "cell_type": "code",
      "execution_count": 2,
      "id": "cbcfb5df",
      "metadata": {
        "id": "cbcfb5df",
        "outputId": "8e7f22df-891b-41b7-be11-92519dcf303d",
        "colab": {
          "base_uri": "https://localhost:8080/"
        }
      },
      "outputs": [
        {
          "output_type": "stream",
          "name": "stdout",
          "text": [
            "['사용월', '호선명', '지하철역', '유임승차인원', '무임승차인원', '유임하차인원', '무임하차인원', '작업일자']\n",
            "[['202202', '1호선', '종로3가', '335905', '211468', '308127', '197301', '20220303'], ['202202', '1호선', '동대문', '164652', '85659', '152193', '83921', '20220303'], ['202202', '1호선', '서울역', '783814', '129597', '734548', '121859', '20220303'], ['202202', '1호선', '신설동', '209871', '88550', '207172', '85219', '20220303'], ['202202', '1호선', '종각', '583790', '93238', '565882', '87907', '20220303']]\n"
          ]
        }
      ],
      "source": [
        "import csv\n",
        "\n",
        "# 절대경로\n",
        "# f=open(\"c:/pydata/subwayfree.csv\", encoding='cp949')\n",
        "\n",
        "# 상대경로에서 파일 읽어오기\n",
        "f = open(\"subwayfree.csv\",encoding=\"cp949\")\n",
        "data = csv.reader(f)\n",
        "\n",
        "# 첫행 title에 저장\n",
        "title = next(data)\n",
        "# 나머지 데이터는 리스형으로 변경\n",
        "data = list(data)\n",
        "f.close()\n",
        "\n",
        "print(title)\n",
        "print(data[:5])"
      ]
    },
    {
      "cell_type": "markdown",
      "id": "03751fc1",
      "metadata": {
        "id": "03751fc1"
      },
      "source": [
        "data의 4번~ 7번까지 ''로 묶인 데이터 => 정수형 데이터로 변경"
      ]
    },
    {
      "cell_type": "code",
      "execution_count": 3,
      "id": "484e5dc6",
      "metadata": {
        "id": "484e5dc6",
        "colab": {
          "base_uri": "https://localhost:8080/"
        },
        "outputId": "0f5b312f-8766-4983-d285-8cce63de6759"
      },
      "outputs": [
        {
          "output_type": "stream",
          "name": "stdout",
          "text": [
            "Looking in indexes: https://pypi.org/simple, https://us-python.pkg.dev/colab-wheels/public/simple/\n",
            "Requirement already satisfied: numpy in /usr/local/lib/python3.7/dist-packages (1.21.6)\n"
          ]
        }
      ],
      "source": [
        "# !pip install numpy"
      ]
    },
    {
      "cell_type": "code",
      "execution_count": 4,
      "id": "ffd78a4b",
      "metadata": {
        "id": "ffd78a4b",
        "outputId": "c1913c83-3925-4e9e-f676-11bc54e2c6c8",
        "colab": {
          "base_uri": "https://localhost:8080/"
        }
      },
      "outputs": [
        {
          "output_type": "stream",
          "name": "stdout",
          "text": [
            "(56998, 8)\n",
            "2\n"
          ]
        }
      ],
      "source": [
        "# 차원 확인\n",
        "import numpy as np\n",
        "\n",
        "print(np.array(data).shape)   # (행, 열)\n",
        "print(np.array(data).ndim)    # 차원 확인"
      ]
    },
    {
      "cell_type": "code",
      "execution_count": 5,
      "id": "3db0e93b",
      "metadata": {
        "id": "3db0e93b",
        "outputId": "e9ca7ed1-b593-48db-f717-410d57b12a6e",
        "colab": {
          "base_uri": "https://localhost:8080/"
        }
      },
      "outputs": [
        {
          "output_type": "stream",
          "name": "stdout",
          "text": [
            "[['202202', '1호선', '종로3가', 335905, 211468, 308127, 197301, '20220303'], ['202202', '1호선', '동대문', 164652, 85659, 152193, 83921, '20220303'], ['202202', '1호선', '서울역', 783814, 129597, 734548, 121859, '20220303'], ['202202', '1호선', '신설동', 209871, 88550, 207172, 85219, '20220303'], ['202202', '1호선', '종각', 583790, 93238, 565882, 87907, '20220303']]\n"
          ]
        }
      ],
      "source": [
        "# 정수형 데이터 변경하기\n",
        "\n",
        "for row in data:\n",
        "    for i in range(3, 7):\n",
        "        row[i] = int(row[i])\n",
        "        \n",
        "print(data[:5]) "
      ]
    },
    {
      "cell_type": "markdown",
      "id": "ba724ada",
      "metadata": {
        "id": "ba724ada"
      },
      "source": [
        "#### 2. 데이터 분석"
      ]
    },
    {
      "cell_type": "markdown",
      "id": "be8b86a5",
      "metadata": {
        "id": "be8b86a5"
      },
      "source": [
        "유임 승차 비율이 가능 높은 역정보 출력\n",
        "- 비율 = 유임승차인원 / 무인승차인원\n",
        "- 비율 = 유임승차인원 / (유임+무인)승차인원\n",
        "- 비율이 가장 높은 라인/역이름/비율"
      ]
    },
    {
      "cell_type": "code",
      "execution_count": 6,
      "id": "c8c115c3",
      "metadata": {
        "id": "c8c115c3",
        "outputId": "1490f8ba-5d26-484a-92d5-eec4dc585fc3",
        "colab": {
          "base_uri": "https://localhost:8080/"
        }
      },
      "outputs": [
        {
          "output_type": "stream",
          "name": "stdout",
          "text": [
            "['202202', '1호선', '종로3가', 335905, 211468, 308127, 197301, '20220303'] 0.61\n",
            "['202202', '1호선', '동대문', 164652, 85659, 152193, 83921, '20220303'] 0.66\n",
            "['202202', '1호선', '서울역', 783814, 129597, 734548, 121859, '20220303'] 0.86\n",
            "['202202', '1호선', '종각', 583790, 93238, 565882, 87907, '20220303'] 0.86\n",
            "['202202', '1호선', '시청', 377162, 54426, 384421, 53390, '20220303'] 0.87\n",
            "['202202', '2호선', '잠실(송파구청)', 1383281, 126825, 1351970, 120786, '20220303'] 0.92\n",
            "['202202', '2호선', '삼성(무역센터)', 981108, 81755, 981775, 75105, '20220303'] 0.92\n",
            "['202202', '2호선', '합정', 643930, 48341, 674433, 47883, '20220303'] 0.93\n",
            "['202202', '2호선', '홍대입구', 1235312, 68030, 1265503, 65322, '20220303'] 0.95\n",
            "['202202', '7호선', '상동', 19, 1, 0, 0, '20220303'] 0.95\n",
            "['202202', '경부선', '서울역', 148368, 7191, 44210, 1823, '20220303'] 0.95\n",
            "['202111', '3호선', '충무로', 33, 1, 0, 0, '20211203'] 0.97\n",
            "['202110', '6호선', '연신내', 47, 1, 0, 0, '20211103'] 0.98\n",
            "['201809', '3호선', '충무로', 55, 1, 0, 0, '20181003'] 0.98\n",
            "['201806', '3호선', '충무로', 60, 1, 0, 0, '20180703'] 0.98\n",
            "['201806', '3호선', '충무로', 60, 1, 0, 0, '20180703'] ,  0.98\n"
          ]
        }
      ],
      "source": [
        "# 비율 = 유임승차인원 / 무인승차인원\n",
        "maxs=0\n",
        "rate=0\n",
        "maxlst=[]\n",
        "\n",
        "for row in data:\n",
        "    if row[4] == 0:  # 무인승차 0이면 다음 값으로 이동\n",
        "        continue\n",
        "    rate= row[3] / (row[3] + row[4])\n",
        "    if rate > maxs:\n",
        "        maxs=rate\n",
        "        maxlst=row\n",
        "        print(row, round(maxs, 2))   \n",
        "\n",
        "print(maxlst,\", \" ,round(maxs, 2)) # round(값, 반올림 위치): 값을 입력한 위치에서 반올림"
      ]
    },
    {
      "cell_type": "code",
      "execution_count": 7,
      "id": "7fbcec61",
      "metadata": {
        "id": "7fbcec61",
        "outputId": "855d95e8-b8cf-4c3e-98ce-9d15ce1923ee",
        "colab": {
          "base_uri": "https://localhost:8080/"
        }
      },
      "outputs": [
        {
          "output_type": "stream",
          "name": "stdout",
          "text": [
            "역이름:종로3가, 라인:1호선, 비율: 0.61\n",
            "역이름:동대문, 라인:1호선, 비율: 0.66\n",
            "역이름:서울역, 라인:1호선, 비율: 0.86\n",
            "역이름:종각, 라인:1호선, 비율: 0.86\n",
            "역이름:시청, 라인:1호선, 비율: 0.87\n",
            "역이름:잠실(송파구청), 라인:2호선, 비율: 0.92\n",
            "역이름:삼성(무역센터), 라인:2호선, 비율: 0.92\n",
            "역이름:합정, 라인:2호선, 비율: 0.93\n",
            "역이름:홍대입구, 라인:2호선, 비율: 0.95\n",
            "역이름:서울역, 라인:경부선, 비율: 0.95\n",
            "역이름:마곡나루(서울식물원), 라인:공항철도 1호선, 비율: 0.95\n",
            "역이름:마곡나루(서울식물원), 라인:공항철도 1호선, 비율: 0.96\n",
            "역이름:마곡나루, 라인:공항철도 1호선, 비율: 0.96\n",
            "역이름:한양대, 라인:2호선, 비율: 0.96\n",
            "역이름:한양대, 라인:2호선, 비율: 0.96\n",
            "역이름:한양대, 라인:2호선, 비율: 0.96\n",
            "역이름:한양대, 라인:2호선, 비율: 0.96\n",
            "역이름:한양대, 라인:2호선, 비율: 0.96\n"
          ]
        }
      ],
      "source": [
        "## (유임+무임) 값이 10만명 이상인 데이터들 중에서 선택\n",
        "maxs=0\n",
        "rate=0\n",
        "maxlst=[]\n",
        "\n",
        "for row in data:\n",
        "    if row[4] != 0 and (row[3] + row[4]) >= 100000:  \n",
        "        \n",
        "        rate= row[3] / (row[3] + row[4])\n",
        "        \n",
        "        if rate > maxs:\n",
        "            maxs=rate\n",
        "            maxlst=row\n",
        "            print(f\"역이름:{row[2]}, 라인:{row[1]}, 비율: {round(maxs, 2)}\")   \n",
        "\n",
        "print(f\"역이름:{maxlst[2]}, 라인:{maxlst[1]}, 비율: {round(maxs, 2)}\")"
      ]
    },
    {
      "cell_type": "code",
      "execution_count": 9,
      "id": "ab245535",
      "metadata": {
        "id": "ab245535",
        "colab": {
          "base_uri": "https://localhost:8080/"
        },
        "outputId": "5de7a990-bcaf-4478-a3c2-68cfbdcd7ba6"
      },
      "outputs": [
        {
          "output_type": "stream",
          "name": "stdout",
          "text": [
            "역이름:종로3가, 라인:1호선, 비율: 211468\n",
            "역이름:청량리(서울시립대입구), 라인:1호선, 비율: 240394\n",
            "역이름:제기동, 라인:1호선, 비율: 265993\n",
            "역이름:종로3가, 라인:1호선, 비율: 272242\n",
            "역이름:종로3가, 라인:1호선, 비율: 274237\n",
            "역이름:종로3가, 라인:1호선, 비율: 283227\n",
            "역이름:종로3가, 라인:1호선, 비율: 364104\n",
            "역이름:종로3가, 라인:1호선, 비율: 412567\n",
            "역이름:종로3가, 라인:1호선, 비율: 419215\n",
            "역이름:종로5가, 라인:1호선, 비율: 599186\n",
            "역이름:서울역, 라인:1호선, 비율: 1520608\n",
            "역이름:삼성, 라인:2호선, 비율: 1720151\n",
            "역이름:강남, 라인:2호선, 비율: 2834361\n",
            "역이름:강남, 라인:2호선, 비율: 2935195\n",
            "역이름:강남, 라인:2호선, 비율: 3196576\n",
            "역이름:강남, 라인:2호선, 비율: 3353256\n",
            "역이름:강남, 라인:2호선, 비율: 3353256\n"
          ]
        }
      ],
      "source": [
        "# 무료 비율이 높은 역/호선/비율 출력(각자 해보세요.)\n",
        "maxs=0\n",
        "rate=0\n",
        "maxlst=[]\n",
        "\n",
        "for row in data:\n",
        "    if row[4] != 0 and row[4] >= 100000:  \n",
        "        \n",
        "        rate= row[4]\n",
        "        \n",
        "        if rate > maxs:\n",
        "            maxs=rate\n",
        "            maxlst=row\n",
        "            print(f\"역이름:{row[2]}, 라인:{row[1]}, 비율: {round(maxs, 2)}\")   \n",
        "\n",
        "print(f\"역이름:{maxlst[2]}, 라인:{maxlst[1]}, 비율: {round(maxs, 2)}\")\n"
      ]
    },
    {
      "cell_type": "markdown",
      "id": "b766a22f",
      "metadata": {
        "id": "b766a22f"
      },
      "source": [
        "모든 역을 기준으로 유임승자/유임하차/무임승차/무임하차 인원이 가장 많은 역 찾기"
      ]
    },
    {
      "cell_type": "code",
      "execution_count": 8,
      "id": "3b0829e4",
      "metadata": {
        "id": "3b0829e4",
        "outputId": "e95767c8-03e7-4e83-c073-f94b57018a09",
        "colab": {
          "base_uri": "https://localhost:8080/"
        }
      },
      "outputs": [
        {
          "output_type": "stream",
          "name": "stdout",
          "text": [
            "유임승차 : 사용년월:201501/라인:2호선/역:강남/3266271\n",
            "무임승차 : 사용년월:201501/라인:2호선/역:강남/3353256\n",
            "유임하차 : 사용년월:201607/라인:2호선/역:강남/3265282\n",
            "무임하차 : 사용년월:201901/라인:1호선/역:제기동/400607\n"
          ]
        }
      ],
      "source": [
        "label = [\"유임승차\", \"무임승차\", \"유임하차\", \"무임하차\"]\n",
        "mxstation = [\"\"] * 4  # 빈 데이터 4개 생성 후 리스트로 저장\n",
        "mx=[0] * 4            # 0 으로 채워진 데이터 4개 생성후 리스트로 저장\n",
        "\n",
        "for row in data:\n",
        "    for i in range(3, 7):\n",
        "        if row[i] > mx[i-3]:\n",
        "            mx[i-3] = row[i]\n",
        "            mxstation[i-3] = f\"사용년월:{row[0]}/라인:{row[1]}/역:{row[2]}\"\n",
        "            \n",
        "for i in range(4):\n",
        "    print(f\"{label[i]} : {mxstation[i]}/{mx[i]}\")"
      ]
    },
    {
      "cell_type": "markdown",
      "id": "bd270221",
      "metadata": {
        "id": "bd270221"
      },
      "source": [
        "선택한 호선명에  포함된 역에 대해서만 유무임 승하차 비율 계산"
      ]
    },
    {
      "cell_type": "code",
      "source": [
        "import pandas as pd"
      ],
      "metadata": {
        "id": "zt5l_MJzys4j"
      },
      "id": "zt5l_MJzys4j",
      "execution_count": 11,
      "outputs": []
    },
    {
      "cell_type": "code",
      "execution_count": 18,
      "id": "a2c98077",
      "metadata": {
        "id": "a2c98077",
        "colab": {
          "base_uri": "https://localhost:8080/"
        },
        "outputId": "8a74aadd-7bc0-4e40-c764-19a303232ea1"
      },
      "outputs": [
        {
          "output_type": "execute_result",
          "data": {
            "text/plain": [
              "array(['1호선', '2호선', '3호선', '4호선', '5호선', '6호선', '7호선', '8호선', '9호선',\n",
              "       '9호선2~3단계', '경강선', '경부선', '경원선', '경의선', '경인선', '경춘선', '공항철도 1호선',\n",
              "       '과천선', '분당선', '수인선', '안산선', '우이신설선', '일산선', '장항선', '중앙선', '9호선2단계'],\n",
              "      dtype=object)"
            ]
          },
          "metadata": {},
          "execution_count": 18
        }
      ],
      "source": [
        "# 호선명 고유값을 찾아주세요(개별)\n",
        "df=pd.read_csv(\"subwayfree.csv\",encoding=\"cp949\")\n",
        "df[\"호선명\"].unique()"
      ]
    },
    {
      "cell_type": "code",
      "execution_count": 19,
      "id": "843c61bc",
      "metadata": {
        "id": "843c61bc",
        "outputId": "59ea410d-4f69-42b3-bda4-1cde6d7ce410",
        "colab": {
          "base_uri": "https://localhost:8080/"
        }
      },
      "outputs": [
        {
          "output_type": "stream",
          "name": "stdout",
          "text": [
            "호선명을 입력하세요.:한양대\n",
            "\n",
            "호선명: 한양대\n",
            "유임승차 : /0\n",
            "무임승차 : /0\n",
            "유임하차 : /0\n",
            "무임하차 : /0\n"
          ]
        }
      ],
      "source": [
        "label = [\"유임승차\", \"무임승차\", \"유임하차\", \"무임하차\"]\n",
        "mxstation = [\"\"] * 4  # 빈 데이터 4개 생성 후 리스트로 저장\n",
        "mx=[0] * 4            # 0 으로 채워진 데이터 4개 생성후 리스트로 저장\n",
        "staname=input(\"호선명을 입력하세요.:\")\n",
        "\n",
        "for row in data:\n",
        "    for i in range(3, 7):\n",
        "        if row[i] > mx[i-3] and row[1] == staname:\n",
        "            mx[i-3] = row[i]\n",
        "            mxstation[i-3] = f\"사용년월:{row[0]}/라인:{row[1]}/역:{row[2]}\"\n",
        "            \n",
        "print(\"\\n호선명:\", staname)\n",
        "for i in range(4):\n",
        "    print(f\"{label[i]} : {mxstation[i]}/{mx[i]}\")"
      ]
    },
    {
      "cell_type": "code",
      "execution_count": 20,
      "id": "77f9b0dd",
      "metadata": {
        "id": "77f9b0dd"
      },
      "outputs": [],
      "source": [
        "# 에러 처리\n",
        "# 호선명 입력시 오류가 발생하면 \"호선명을 잘못 입력하셨습니다.\" \n",
        "# 라는 메세지 전달 후 다시 입력 받기\n",
        "# 개별적으로 작성하세요."
      ]
    },
    {
      "cell_type": "code",
      "execution_count": 21,
      "id": "e5ea2d8b",
      "metadata": {
        "id": "e5ea2d8b",
        "outputId": "08e9dd3e-3671-4b27-fc98-dc1d5adfe075",
        "colab": {
          "base_uri": "https://localhost:8080/"
        }
      },
      "outputs": [
        {
          "output_type": "execute_result",
          "data": {
            "text/plain": [
              "['사용월', '호선명', '지하철역', '유임승차인원', '무임승차인원', '유임하차인원', '무임하차인원', '작업일자']"
            ]
          },
          "metadata": {},
          "execution_count": 21
        }
      ],
      "source": [
        "title"
      ]
    },
    {
      "cell_type": "code",
      "execution_count": 22,
      "id": "d123c083",
      "metadata": {
        "id": "d123c083",
        "outputId": "c7c0091c-8088-41ec-ea0c-ecbf29fb1ac3",
        "colab": {
          "base_uri": "https://localhost:8080/"
        }
      },
      "outputs": [
        {
          "output_type": "stream",
          "name": "stdout",
          "text": [
            "호선명을 입력하세요.:한양대\n",
            "\n",
            "호선명: 한양대\n",
            "유임승차 : /0\n",
            "무임승차 : /0\n",
            "유임하차 : /0\n",
            "무임하차 : /0\n"
          ]
        }
      ],
      "source": [
        "# 호선명의 일부만 입력해서 관련 정보 출력\n",
        "label = [\"유임승차\", \"무임승차\", \"유임하차\", \"무임하차\"]\n",
        "mxstation = [\"\"] * 4  # 빈 데이터 4개 생성 후 리스트로 저장\n",
        "mx=[0] * 4            # 0 으로 채워진 데이터 4개 생성후 리스트로 저장\n",
        "staname=input(\"호선명을 입력하세요.:\")\n",
        "\n",
        "for row in data:\n",
        "    for i in range(3, 7):\n",
        "        if row[i] > mx[i-3] and staname in row[1]:\n",
        "            mx[i-3] = row[i]\n",
        "            mxstation[i-3] = f\"사용년월:{row[0]}/라인:{row[1]}/역:{row[2]}\"\n",
        "            \n",
        "print(\"\\n호선명:\", staname)\n",
        "for i in range(4):\n",
        "    print(f\"{label[i]} : {mxstation[i]}/{mx[i]}\")"
      ]
    },
    {
      "cell_type": "markdown",
      "id": "f31b007c",
      "metadata": {
        "id": "f31b007c"
      },
      "source": [
        "각 유/무임승차, 유/무임하차가 각각 가장 많은 날짜의 데이터를 이용해 차트 작성(막대)"
      ]
    },
    {
      "cell_type": "code",
      "execution_count": 23,
      "id": "e7d65b73",
      "metadata": {
        "id": "e7d65b73",
        "outputId": "4a670c96-fcb2-48ac-b74e-fd0459f06fee",
        "colab": {
          "base_uri": "https://localhost:8080/"
        }
      },
      "outputs": [
        {
          "output_type": "stream",
          "name": "stdout",
          "text": [
            "호선명을 입력하세요.:한양대\n",
            "\n",
            "호선명: 한양대\n",
            "유임승차 : /0\n",
            "무임승차 : /0\n",
            "유임하차 : /0\n",
            "무임하차 : /0\n"
          ]
        }
      ],
      "source": [
        "label = [\"유임승차\", \"무임승차\", \"유임하차\", \"무임하차\"]\n",
        "mxstation = [\"\"] * 4  # 빈 데이터 4개 생성 후 리스트로 저장\n",
        "mx=[0] * 4            # 0 으로 채워진 데이터 4개 생성후 리스트로 저장\n",
        "staname=input(\"호선명을 입력하세요.:\")\n",
        "\n",
        "for row in data:\n",
        "    for i in range(3, 7):\n",
        "        if row[i] > mx[i-3] and staname in row[1]:\n",
        "            mx[i-3] = row[i]\n",
        "            mxstation[i-3] = row[:-1] \n",
        "            \n",
        "print(\"\\n호선명:\", staname)\n",
        "for i in range(4):\n",
        "    print(f\"{label[i]} : {mxstation[i]}/{mx[i]}\")"
      ]
    },
    {
      "cell_type": "code",
      "execution_count": 24,
      "id": "b3fa7210",
      "metadata": {
        "id": "b3fa7210",
        "outputId": "ed47aca9-06fd-4bbc-c16e-a463b6941844",
        "colab": {
          "base_uri": "https://localhost:8080/"
        }
      },
      "outputs": [
        {
          "output_type": "execute_result",
          "data": {
            "text/plain": [
              "['202202', '1호선', '동묘앞', 91790, 112019, 99031, 112969, '20220303']"
            ]
          },
          "metadata": {},
          "execution_count": 24
        }
      ],
      "source": [
        "data[8]"
      ]
    }
  ],
  "metadata": {
    "kernelspec": {
      "display_name": "Python 3 (ipykernel)",
      "language": "python",
      "name": "python3"
    },
    "language_info": {
      "codemirror_mode": {
        "name": "ipython",
        "version": 3
      },
      "file_extension": ".py",
      "mimetype": "text/x-python",
      "name": "python",
      "nbconvert_exporter": "python",
      "pygments_lexer": "ipython3",
      "version": "3.9.7"
    },
    "colab": {
      "name": "1. 4장 대중교통 데이터 분석(지하철).ipynb의 사본",
      "provenance": [],
      "include_colab_link": true
    }
  },
  "nbformat": 4,
  "nbformat_minor": 5
}