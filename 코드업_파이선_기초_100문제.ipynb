{
  "nbformat": 4,
  "nbformat_minor": 0,
  "metadata": {
    "colab": {
      "provenance": [],
      "collapsed_sections": [],
      "authorship_tag": "ABX9TyOTVagDM405wVELoAOwleq5",
      "include_colab_link": true
    },
    "kernelspec": {
      "name": "python3",
      "display_name": "Python 3"
    },
    "language_info": {
      "name": "python"
    }
  },
  "cells": [
    {
      "cell_type": "markdown",
      "metadata": {
        "id": "view-in-github",
        "colab_type": "text"
      },
      "source": [
        "<a href=\"https://colab.research.google.com/github/Welle-Kim/Based-on-the-Review/blob/master/%EC%BD%94%EB%93%9C%EC%97%85_%ED%8C%8C%EC%9D%B4%EC%84%A0_%EA%B8%B0%EC%B4%88_100%EB%AC%B8%EC%A0%9C.ipynb\" target=\"_parent\"><img src=\"https://colab.research.google.com/assets/colab-badge.svg\" alt=\"Open In Colab\"/></a>"
      ]
    },
    {
      "cell_type": "code",
      "execution_count": null,
      "metadata": {
        "id": "YaJhMw99aCLy"
      },
      "outputs": [],
      "source": [
        "a,b=map(int,input().split())\n",
        "if a==b:\n",
        "    print(\"True\")\n",
        "else:\n",
        "    print(\"False\")"
      ]
    }
  ]
}