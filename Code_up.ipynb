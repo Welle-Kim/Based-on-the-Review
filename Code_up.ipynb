{
  "nbformat": 4,
  "nbformat_minor": 0,
  "metadata": {
    "colab": {
      "provenance": [],
      "collapsed_sections": [],
      "authorship_tag": "ABX9TyN0gz00Sl/5/oDlr6SzM/M1",
      "include_colab_link": true
    },
    "kernelspec": {
      "name": "python3",
      "display_name": "Python 3"
    },
    "language_info": {
      "name": "python"
    }
  },
  "cells": [
    {
      "cell_type": "markdown",
      "metadata": {
        "id": "view-in-github",
        "colab_type": "text"
      },
      "source": [
        "<a href=\"https://colab.research.google.com/github/Welle-Kim/Based-on-the-Review/blob/master/Code_up.ipynb\" target=\"_parent\"><img src=\"https://colab.research.google.com/assets/colab-badge.svg\" alt=\"Open In Colab\"/></a>"
      ]
    },
    {
      "cell_type": "code",
      "source": [
        "a,b=input().split()\n",
        "a=int(a)\n",
        "b=int(b)\n",
        "\n",
        "print(a)\n",
        "print(b)\n"
      ],
      "metadata": {
        "colab": {
          "base_uri": "https://localhost:8080/"
        },
        "id": "qno04fpxRdFn",
        "outputId": "d8e4a875-3c1e-42c4-a3b2-39d1b9ab31ed"
      },
      "execution_count": null,
      "outputs": [
        {
          "output_type": "stream",
          "name": "stdout",
          "text": [
            "4 5\n",
            "4\n",
            "5\n"
          ]
        }
      ]
    },
    {
      "cell_type": "code",
      "source": [
        "a = input() \n",
        "b = input()\n",
        "a=int(a)\n",
        "b=int(b)\n",
        "print(a)\n",
        "print(b)"
      ],
      "metadata": {
        "colab": {
          "base_uri": "https://localhost:8080/"
        },
        "id": "8CBqsI9aRtHj",
        "outputId": "32435a40-4b10-4707-9861-bed79400fd5a"
      },
      "execution_count": null,
      "outputs": [
        {
          "output_type": "stream",
          "name": "stdout",
          "text": [
            "4\n",
            "5\n",
            "4\n",
            "5\n"
          ]
        }
      ]
    },
    {
      "cell_type": "code",
      "source": [
        "a=input()\n",
        "b=input()\n",
        "print(b)\n",
        "print(a)"
      ],
      "metadata": {
        "colab": {
          "base_uri": "https://localhost:8080/"
        },
        "id": "VZqiLdGcR7nt",
        "outputId": "2937b07c-9e6f-4756-cf3d-47222ca03e9b"
      },
      "execution_count": null,
      "outputs": [
        {
          "output_type": "stream",
          "name": "stdout",
          "text": [
            "5\n",
            "\n",
            "\n",
            "5\n"
          ]
        }
      ]
    },
    {
      "cell_type": "code",
      "source": [
        "a=input()\n",
        "for i in range(0,3):\n",
        "  print(a)"
      ],
      "metadata": {
        "colab": {
          "base_uri": "https://localhost:8080/"
        },
        "id": "HQV5evnnSVqL",
        "outputId": "8fec146e-1329-400d-9f7e-08b648861a43"
      },
      "execution_count": null,
      "outputs": [
        {
          "output_type": "stream",
          "name": "stdout",
          "text": [
            "5\n",
            "5\n",
            "5\n",
            "5\n"
          ]
        }
      ]
    },
    {
      "cell_type": "code",
      "execution_count": null,
      "metadata": {
        "colab": {
          "base_uri": "https://localhost:8080/"
        },
        "id": "4GRQAWETRKc4",
        "outputId": "cd75f51e-be72-458d-aaaf-bc739b021638"
      },
      "outputs": [
        {
          "output_type": "stream",
          "name": "stdout",
          "text": [
            "5\n",
            "5.0\n"
          ]
        }
      ],
      "source": [
        "f=input()\n",
        "f=float(f)\n",
        "print(f)"
      ]
    },
    {
      "cell_type": "code",
      "source": [],
      "metadata": {
        "id": "WqeHt6-BTKWF"
      },
      "execution_count": null,
      "outputs": []
    },
    {
      "cell_type": "markdown",
      "source": [
        "##code up 파이선 100제 \n",
        "##6011~6014"
      ],
      "metadata": {
        "id": "JSObgAGvRWqi"
      }
    },
    {
      "cell_type": "markdown",
      "source": [
        "## 6015~"
      ],
      "metadata": {
        "id": "aD4Nta07PfTH"
      }
    },
    {
      "cell_type": "code",
      "source": [
        "a, b = input().split()\n",
        "a=int(a)\n",
        "b=int(b)\n",
        "print(a)\n",
        "print(b)"
      ],
      "metadata": {
        "colab": {
          "base_uri": "https://localhost:8080/"
        },
        "id": "6gtSjIZ8Pdz5",
        "outputId": "3ad1920a-2d3a-40a5-ba2c-6a6ce42688a8"
      },
      "execution_count": null,
      "outputs": [
        {
          "output_type": "stream",
          "name": "stdout",
          "text": [
            "5 4\n",
            "5\n",
            "4\n"
          ]
        }
      ]
    },
    {
      "cell_type": "code",
      "source": [
        "a, b = input().split()\n",
        "a=str(a)\n",
        "b=str(b)\n",
        "print(b,a)"
      ],
      "metadata": {
        "colab": {
          "base_uri": "https://localhost:8080/"
        },
        "id": "8f9Q-fMgP2tO",
        "outputId": "171a0722-1988-41f0-d5df-5b9f717d2fa5"
      },
      "execution_count": null,
      "outputs": [
        {
          "output_type": "stream",
          "name": "stdout",
          "text": [
            "r k\n",
            "k r\n"
          ]
        }
      ]
    },
    {
      "cell_type": "code",
      "source": [
        "s = input()\n",
        "print(s, s, s)"
      ],
      "metadata": {
        "colab": {
          "base_uri": "https://localhost:8080/"
        },
        "id": "fpEGUrD0QhW-",
        "outputId": "fd1b9980-19e2-460b-b276-880242527dbe"
      },
      "execution_count": null,
      "outputs": [
        {
          "output_type": "stream",
          "name": "stdout",
          "text": [
            "computer science\n",
            "computer science computer science computer science\n"
          ]
        }
      ]
    },
    {
      "cell_type": "code",
      "source": [
        "a, b = input().split(':')\n",
        "print(a, b, sep=':')"
      ],
      "metadata": {
        "colab": {
          "base_uri": "https://localhost:8080/"
        },
        "id": "o1VidFw8R4Bu",
        "outputId": "4958e7a0-9575-49e5-8a9c-8df2f4a8ed90"
      },
      "execution_count": null,
      "outputs": [
        {
          "output_type": "stream",
          "name": "stdout",
          "text": [
            "6:7\n",
            "6:7\n"
          ]
        }
      ]
    },
    {
      "cell_type": "code",
      "source": [
        "y, m, d = input().split('.')\n",
        "print(d, m, y, sep='-')"
      ],
      "metadata": {
        "colab": {
          "base_uri": "https://localhost:8080/"
        },
        "id": "Yynn3rXoSCQX",
        "outputId": "d1253cac-60fa-4c16-cf7b-8fba1ecb2053"
      },
      "execution_count": null,
      "outputs": [
        {
          "output_type": "stream",
          "name": "stdout",
          "text": [
            "6.7.8\n",
            "8-7-6\n"
          ]
        }
      ]
    },
    {
      "cell_type": "code",
      "source": [
        "a,b = input().split('-')\n",
        "print(a,b,sep=\"\")"
      ],
      "metadata": {
        "colab": {
          "base_uri": "https://localhost:8080/"
        },
        "id": "jniVB4_KSCJ1",
        "outputId": "e2580beb-4bee-4ec1-d0b9-ea6bd3d9641e"
      },
      "execution_count": null,
      "outputs": [
        {
          "output_type": "stream",
          "name": "stdout",
          "text": [
            "000907-1121112\n",
            "0009071121112\n"
          ]
        }
      ]
    },
    {
      "cell_type": "markdown",
      "source": [
        "### 6020까지"
      ],
      "metadata": {
        "id": "nGB6IkR_TCWF"
      }
    },
    {
      "cell_type": "code",
      "source": [
        "s = input()\n",
        "print(\"\\n\".join(s))"
      ],
      "metadata": {
        "colab": {
          "base_uri": "https://localhost:8080/"
        },
        "id": "q_ae-pJdFJFo",
        "outputId": "d0a88e05-155a-4330-9e5d-17a6caff0109"
      },
      "execution_count": 1,
      "outputs": [
        {
          "output_type": "stream",
          "name": "stdout",
          "text": [
            "ㅇㅎㄹ\n",
            "ㅇ\n",
            "ㅎ\n",
            "ㄹ\n"
          ]
        }
      ]
    }
  ]
}