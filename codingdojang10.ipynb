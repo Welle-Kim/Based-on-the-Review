{
  "nbformat": 4,
  "nbformat_minor": 0,
  "metadata": {
    "colab": {
      "provenance": [],
      "authorship_tag": "ABX9TyMC0sFUL+l16NyzzvcJc0Wc",
      "include_colab_link": true
    },
    "kernelspec": {
      "name": "python3",
      "display_name": "Python 3"
    },
    "language_info": {
      "name": "python"
    }
  },
  "cells": [
    {
      "cell_type": "markdown",
      "metadata": {
        "id": "view-in-github",
        "colab_type": "text"
      },
      "source": [
        "<a href=\"https://colab.research.google.com/github/Welle-Kim/Based-on-the-Review/blob/master/codingdojang10.ipynb\" target=\"_parent\"><img src=\"https://colab.research.google.com/assets/colab-badge.svg\" alt=\"Open In Colab\"/></a>"
      ]
    },
    {
      "cell_type": "code",
      "execution_count": null,
      "metadata": {
        "colab": {
          "base_uri": "https://localhost:8080/"
        },
        "id": "h5YNImh-FekH",
        "outputId": "afa5e05f-1c1e-4c21-df09-8eb4f678dd7b"
      },
      "outputs": [
        {
          "output_type": "stream",
          "name": "stdout",
          "text": [
            "55\n",
            "5050\n"
          ]
        }
      ],
      "source": [
        "def accumulate():\n",
        "    total = 0\n",
        "    while True:\n",
        "        x = (yield)         # 코루틴 바깥에서 값을 받아옴\n",
        "        if x is None:       # 받아온 값이 None이면\n",
        "            return total    # 합계 total을 반환\n",
        "        total += x\n",
        " \n",
        "def sum_coroutine():\n",
        "    while True:\n",
        "        total = yield from accumulate()    # accumulate의 반환값을 가져옴\n",
        "        print(total)\n",
        " \n",
        "co = sum_coroutine()\n",
        "next(co)\n",
        " \n",
        "for i in range(1, 11):    # 1부터 10까지 반복\n",
        "    co.send(i)            # 코루틴 accumulate에 숫자를 보냄\n",
        "co.send(None)             # 코루틴 accumulate에 None을 보내서 숫자 누적을 끝냄\n",
        " \n",
        "for i in range(1, 101):   # 1부터 100까지 반복\n",
        "    co.send(i)            # 코루틴 accumulate에 숫자를 보냄\n",
        "co.send(None)             # 코루틴 accumulate에 None을 보내서 숫자 누적을 끝냄"
      ]
    },
    {
      "cell_type": "markdown",
      "source": [
        "\n",
        "```\n",
        "class Calc:\n",
        "    @staticmethod    # 데코레이터\n",
        "    def add(a, b):\n",
        "        print(a + b)\n",
        "```\n",
        "\n"
      ],
      "metadata": {
        "id": "AK4dFFtZUEy9"
      }
    },
    {
      "cell_type": "code",
      "source": [
        "#데코레이터 함수를 수정하지 않은 상태에서 추가 기능을 구현할 때 사용\n",
        "\n",
        "def hello():\n",
        "    print('hello 함수 시작')\n",
        "    print('hello')\n",
        "    print('hello 함수 끝')\n",
        " \n",
        "def world():\n",
        "    print('world 함수 시작')\n",
        "    print('world')\n",
        "    print('world 함수 끝')\n",
        " \n",
        "hello()\n",
        "world()"
      ],
      "metadata": {
        "colab": {
          "base_uri": "https://localhost:8080/"
        },
        "id": "xG-sBlY1jnKO",
        "outputId": "bdf76bb4-929a-4835-ceee-56e17518705b"
      },
      "execution_count": null,
      "outputs": [
        {
          "output_type": "stream",
          "name": "stdout",
          "text": [
            "hello 함수 시작\n",
            "hello\n",
            "hello 함수 끝\n",
            "world 함수 시작\n",
            "world\n",
            "world 함수 끝\n"
          ]
        }
      ]
    },
    {
      "cell_type": "code",
      "source": [
        "def trace(func):                             # 호출할 함수를 매개변수로 받음\n",
        "    def wrapper():                           # 호출할 함수를 감싸는 함수\n",
        "        print(func.__name__, '함수 시작')    # __name__으로 함수 이름 출력\n",
        "        func()                               # 매개변수로 받은 함수를 호출\n",
        "        print(func.__name__, '함수 끝')\n",
        "    return wrapper                           # wrapper 함수 반환\n",
        " \n",
        "def hello():\n",
        "    print('hello')\n",
        " \n",
        "def world():\n",
        "    print('world')\n",
        " \n",
        "trace_hello = trace(hello)    # 데코레이터에 호출할 함수를 넣음\n",
        "trace_hello()                 # 반환된 함수를 호출\n",
        "trace_world = trace(world)    # 데코레이터에 호출할 함수를 넣음\n",
        "trace_world()                 # 반환된 함수를 호출"
      ],
      "metadata": {
        "colab": {
          "base_uri": "https://localhost:8080/"
        },
        "id": "S24kqt4WkK0o",
        "outputId": "36fd2250-cdd7-451e-a45a-e1514a933e3f"
      },
      "execution_count": null,
      "outputs": [
        {
          "output_type": "stream",
          "name": "stdout",
          "text": [
            "hello 함수 시작\n",
            "hello\n",
            "hello 함수 끝\n",
            "world 함수 시작\n",
            "world\n",
            "world 함수 끝\n"
          ]
        }
      ]
    },
    {
      "cell_type": "markdown",
      "source": [
        "**#@로 데코레이터 사용**\n",
        "\n",
        "\n",
        "```\n",
        "@데코레이터\n",
        "def 함수이름():\n",
        "    코드\n",
        "```\n",
        "\n"
      ],
      "metadata": {
        "id": "PbXVsXyZlgRA"
      }
    },
    {
      "cell_type": "code",
      "source": [
        "#@로 데코레이터 사용\n",
        "\n",
        "def trace(func):                             # 호출할 함수를 매개변수로 받음\n",
        "    def wrapper():\n",
        "        print(func.__name__, '함수 시작')    # __name__으로 함수 이름 출력\n",
        "        func()                               # 매개변수로 받은 함수를 호출\n",
        "        print(func.__name__, '함수 끝')\n",
        "    return wrapper                           # wrapper 함수 반환\n",
        " \n",
        "@trace    # @데코레이터\n",
        "def hello():\n",
        "    print('hello')\n",
        " \n",
        "@trace    # @데코레이터\n",
        "def world():\n",
        "    print('world')\n",
        " \n",
        "hello()    # 함수를 그대로 호출\n",
        "world()    # 함수를 그대로 호출"
      ],
      "metadata": {
        "colab": {
          "base_uri": "https://localhost:8080/"
        },
        "id": "QwV63PTwlTjJ",
        "outputId": "3d77fc7c-60ab-4a34-efb9-124b83ee777f"
      },
      "execution_count": null,
      "outputs": [
        {
          "output_type": "stream",
          "name": "stdout",
          "text": [
            "hello 함수 시작\n",
            "hello\n",
            "hello 함수 끝\n",
            "world 함수 시작\n",
            "world\n",
            "world 함수 끝\n"
          ]
        }
      ]
    },
    {
      "cell_type": "markdown",
      "source": [
        "#####데코레이터를 여러 개 지정\n",
        "#####함수 위에 데코레이터를 여러 줄로 지정해줍니다. 이때 데코레이터가 실행되는 순서는 위에서 아래 순\n",
        "\n",
        "```\n",
        "@데코레이터1\n",
        "@데코레이터2\n",
        "def 함수이름():\n",
        "    코드\n",
        "```\n",
        "\n",
        "\n"
      ],
      "metadata": {
        "id": "OiFbx7Nyl0Po"
      }
    },
    {
      "cell_type": "code",
      "source": [
        "def decorator1(func):\n",
        "    def wrapper():\n",
        "        print('decorator1')\n",
        "        func()\n",
        "    return wrapper\n",
        " \n",
        "def decorator2(func):\n",
        "    def wrapper():\n",
        "        print('decorator2')\n",
        "        func()\n",
        "    return wrapper\n",
        " \n",
        "# 데코레이터를 여러 개 지정\n",
        "@decorator1\n",
        "@decorator2\n",
        "def hello():\n",
        "    print('hello')\n",
        " \n",
        "hello()"
      ],
      "metadata": {
        "colab": {
          "base_uri": "https://localhost:8080/"
        },
        "id": "EJaKCfINmAa8",
        "outputId": "963a208a-0ee6-4089-97e1-ac485d996f7e"
      },
      "execution_count": null,
      "outputs": [
        {
          "output_type": "stream",
          "name": "stdout",
          "text": [
            "decorator1\n",
            "decorator2\n",
            "hello\n"
          ]
        }
      ]
    },
    {
      "cell_type": "code",
      "source": [
        "decorated_hello = decorator1(decorator2(hello))\n",
        "decorated_hello()"
      ],
      "metadata": {
        "colab": {
          "base_uri": "https://localhost:8080/"
        },
        "id": "1LmuTDCGmKMy",
        "outputId": "f35b6c8b-1142-42f6-ba0d-d04dbce956e2"
      },
      "execution_count": null,
      "outputs": [
        {
          "output_type": "stream",
          "name": "stdout",
          "text": [
            "decorator1\n",
            "decorator2\n",
            "decorator1\n",
            "decorator2\n",
            "hello\n"
          ]
        }
      ]
    },
    {
      "cell_type": "markdown",
      "source": [
        "## Unit42.2 부터"
      ],
      "metadata": {
        "id": "e65fA1QmnI1r"
      }
    },
    {
      "cell_type": "code",
      "source": [
        "#매개변수와 반환값을 처리하는 데코레이터\n",
        "def trace(func):          # 호출할 함수를 매개변수로 받음\n",
        "    def wrapper(a, b):    # 호출할 함수 add(a, b)의 매개변수와 똑같이 지정\n",
        "        r = func(a, b)    # func에 매개변수 a, b를 넣어서 호출하고 반환값을 변수에 저장\n",
        "        print('{0}(a={1}, b={2}) -> {3}'.format(func.__name__, a, b, r))  # 매개변수와 반환값 출력\n",
        "        return r          # func의 반환값을 반환\n",
        "    return wrapper        # wrapper 함수 반환\n",
        " \n",
        "@trace              # @데코레이터\n",
        "def add(a, b):      # 매개변수는 두 개\n",
        "    return a + b    # 매개변수 두 개를 더해서 반환\n",
        " \n",
        "print(add(10, 20))"
      ],
      "metadata": {
        "id": "FWlAeHa5mK6r",
        "colab": {
          "base_uri": "https://localhost:8080/"
        },
        "outputId": "a6180c79-94e9-4ae4-8004-86324702551a"
      },
      "execution_count": 1,
      "outputs": [
        {
          "output_type": "stream",
          "name": "stdout",
          "text": [
            "add(a=10, b=20) -> 30\n",
            "30\n"
          ]
        }
      ]
    },
    {
      "cell_type": "code",
      "source": [
        "#메서드에 데코레이터 사용\n",
        "def trace(func):\n",
        "    def wrapper(self, a, b):   # 호출할 함수가 인스턴스 메서드이므로 첫 번째 매개변수는 self로 지정\n",
        "        r = func(self, a, b)   # self와 매개변수를 그대로 넣어줌\n",
        "        print('{0}(a={1}, b={2}) -> {3}'.format(func.__name__, a, b, r))   # 매개변수와 반환값 출력\n",
        "        return r               # func의 반환값을 반환\n",
        "    return wrapper\n",
        " \n",
        "class Calc:\n",
        "    @trace\n",
        "    def add(self, a, b):    # add는 인스턴스 메서드\n",
        "        return a + b\n",
        " \n",
        "c = Calc()\n",
        "print(c.add(10, 20))"
      ],
      "metadata": {
        "colab": {
          "base_uri": "https://localhost:8080/"
        },
        "id": "wF_UpaLN6pT5",
        "outputId": "3642f7b0-0c59-4a65-909c-c3a7bce8c5bc"
      },
      "execution_count": 2,
      "outputs": [
        {
          "output_type": "stream",
          "name": "stdout",
          "text": [
            "add(a=10, b=20) -> 30\n",
            "30\n"
          ]
        }
      ]
    },
    {
      "cell_type": "code",
      "source": [
        "#매개변수가 있는 데코레이터를 만들어봄\n",
        "#데코레이터는 값을 지정해서 동작을 바꿀수 있음\n",
        "\n",
        "def is_multiple(x):              # 데코레이터가 사용할 매개변수를 지정\n",
        "    def real_decorator(func):    # 호출할 함수를 매개변수로 받음\n",
        "        def wrapper(a, b):       # 호출할 함수의 매개변수와 똑같이 지정\n",
        "            r = func(a, b)       # func를 호출하고 반환값을 변수에 저장\n",
        "            if r % x == 0:       # func의 반환값이 x의 배수인지 확인\n",
        "                print('{0}의 반환값은 {1}의 배수입니다.'.format(func.__name__, x))\n",
        "            else:\n",
        "                print('{0}의 반환값은 {1}의 배수가 아닙니다.'.format(func.__name__, x))\n",
        "            return r             # func의 반환값을 반환\n",
        "        return wrapper           # wrapper 함수 반환\n",
        "    return real_decorator        # real_decorator 함수 반환\n",
        " \n",
        "@is_multiple(3)     # @데코레이터(인수)\n",
        "def add(a, b):\n",
        "    return a + b\n",
        " \n",
        "print(add(10, 20))\n",
        "print(add(2, 5))\n"
      ],
      "metadata": {
        "colab": {
          "base_uri": "https://localhost:8080/"
        },
        "id": "DPb_fbzQ7eKF",
        "outputId": "18c566ec-0269-4150-fddf-24bd3a9b4db8"
      },
      "execution_count": 3,
      "outputs": [
        {
          "output_type": "stream",
          "name": "stdout",
          "text": [
            "add의 반환값은 3의 배수입니다.\n",
            "30\n",
            "add의 반환값은 3의 배수가 아닙니다.\n",
            "7\n"
          ]
        }
      ]
    },
    {
      "cell_type": "markdown",
      "source": [
        "##### 매개변수가 있는 데코레이터를 여러 개 지정하기\n",
        "##### 데코레이터를 여러 개 지정할 때는 다음과 같이 인수를 넣은 데코레이터를 여러 줄로 지정\n",
        "\n",
        "```\n",
        "@데코레이터1(인수)\n",
        "@데코레이터2(인수)\n",
        "def 함수이름():\n",
        "    코드\n",
        "```\n",
        "\n",
        "```\n",
        "@is_multiple(3)\n",
        "@is_multiple(7)\n",
        "def add(a, b):\n",
        "    return a + b\n",
        "\n",
        "add(10, 20)\n",
        "```\n",
        "\n",
        "\n"
      ],
      "metadata": {
        "id": "JXwUJFEh8BUo"
      }
    },
    {
      "cell_type": "code",
      "source": [
        "#원래 함수 이름이 안나온다면?\n",
        "#데코레이터에서 반환된 wrapper 함수가 다른 데코레이터로 들어감\n",
        "import functools\n",
        " \n",
        "def is_multiple(x):\n",
        "    def real_decorator(func):\n",
        "        @functools.wraps(func)    # @functools.wraps에 func를 넣은 뒤 wrapper 함수 위에 지정\n",
        "        def wrapper(a, b):\n",
        "            r = func(a, b)\n",
        "            if r % x == 0:\n",
        "                print('{0}의 반환값은 {1}의 배수입니다.'.format(func.__name__, x))\n",
        "            else:\n",
        "                print('{0}의 반환값은 {1}의 배수가 아닙니다.'.format(func.__name__, x))\n",
        "            return r\n",
        "        return wrapper\n",
        "    return real_decorator\n",
        " \n",
        "@is_multiple(3)\n",
        "@is_multiple(7)\n",
        "def add(a, b):\n",
        "    return a + b\n",
        " \n",
        "add(10, 20)"
      ],
      "metadata": {
        "colab": {
          "base_uri": "https://localhost:8080/"
        },
        "id": "GSpKON-s78gd",
        "outputId": "769e2fa7-0b4a-45e6-df29-8485b4f091f9"
      },
      "execution_count": 4,
      "outputs": [
        {
          "output_type": "stream",
          "name": "stdout",
          "text": [
            "add의 반환값은 7의 배수가 아닙니다.\n",
            "add의 반환값은 3의 배수입니다.\n"
          ]
        },
        {
          "output_type": "execute_result",
          "data": {
            "text/plain": [
              "30"
            ]
          },
          "metadata": {},
          "execution_count": 4
        }
      ]
    },
    {
      "cell_type": "code",
      "source": [
        "class Trace:\n",
        "    def __init__(self, func):    # 호출할 함수를 인스턴스의 초깃값으로 받음\n",
        "        self.func = func         # 호출할 함수를 속성 func에 저장\n",
        " \n",
        "    def __call__(self):\n",
        "        print(self.func.__name__, '함수 시작')    # __name__으로 함수 이름 출력\n",
        "        self.func()                               # 속성 func에 저장된 함수를 호출\n",
        "        print(self.func.__name__, '함수 끝')\n",
        " \n",
        "@Trace    # @데코레이터\n",
        "def hello():\n",
        "    print('hello')\n",
        " \n",
        "hello()    # 함수를 그대로 호출"
      ],
      "metadata": {
        "colab": {
          "base_uri": "https://localhost:8080/"
        },
        "id": "xOY8JEAB8fZa",
        "outputId": "068d6e80-86dd-4155-a845-a0ccbb204532"
      },
      "execution_count": 5,
      "outputs": [
        {
          "output_type": "stream",
          "name": "stdout",
          "text": [
            "hello 함수 시작\n",
            "hello\n",
            "hello 함수 끝\n"
          ]
        }
      ]
    },
    {
      "cell_type": "code",
      "source": [
        "class IsMultiple:\n",
        "    def __init__(self, x):         # 데코레이터가 사용할 매개변수를 초깃값으로 받음\n",
        "        self.x = x                 # 매개변수를 속성 x에 저장\n",
        " \n",
        "    def __call__(self, func):      # 호출할 함수를 매개변수로 받음\n",
        "        def wrapper(a, b):         # 호출할 함수의 매개변수와 똑같이 지정(가변 인수로 작성해도 됨)\n",
        "            r = func(a, b)         # func를 호출하고 반환값을 변수에 저장\n",
        "            if r % self.x == 0:    # func의 반환값이 self.x의 배수인지 확인\n",
        "                print('{0}의 반환값은 {1}의 배수입니다.'.format(func.__name__, self.x))\n",
        "            else:\n",
        "                print('{0}의 반환값은 {1}의 배수가 아닙니다.'.format(func.__name__, self.x))\n",
        "            return r               # func의 반환값을 반환\n",
        "        return wrapper             # wrapper 함수 반환\n",
        " \n",
        "@IsMultiple(3)    # 데코레이터(인수)\n",
        "def add(a, b):\n",
        "    return a + b\n",
        " \n",
        "print(add(10, 20))\n",
        "print(add(2, 5))"
      ],
      "metadata": {
        "colab": {
          "base_uri": "https://localhost:8080/"
        },
        "id": "sjzQUIO-8fR3",
        "outputId": "0bb68a93-311a-48a9-de97-27d4a1c5c71e"
      },
      "execution_count": 6,
      "outputs": [
        {
          "output_type": "stream",
          "name": "stdout",
          "text": [
            "add의 반환값은 3의 배수입니다.\n",
            "30\n",
            "add의 반환값은 3의 배수가 아닙니다.\n",
            "7\n"
          ]
        }
      ]
    },
    {
      "cell_type": "code",
      "source": [
        "def html_tag(tag_name):\n",
        "  def real_decorator(func):\n",
        "    def wrapper():\n",
        "      return '<{0}>{1}</{0}>'.format(tag_name,func())\n",
        "    return wrapper\n",
        "  return real_decorator"
      ],
      "metadata": {
        "id": "ufy-FrJeItpG"
      },
      "execution_count": 7,
      "outputs": []
    },
    {
      "cell_type": "markdown",
      "source": [
        "## 함수 끝 \n",
        "## 복습요함"
      ],
      "metadata": {
        "id": "NVTIvMVCIvSk"
      }
    }
  ]
}