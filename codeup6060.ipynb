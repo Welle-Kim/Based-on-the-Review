{
  "nbformat": 4,
  "nbformat_minor": 0,
  "metadata": {
    "colab": {
      "provenance": [],
      "authorship_tag": "ABX9TyPNmv81DOHQzhTTTs6mTDK0",
      "include_colab_link": true
    },
    "kernelspec": {
      "name": "python3",
      "display_name": "Python 3"
    },
    "language_info": {
      "name": "python"
    }
  },
  "cells": [
    {
      "cell_type": "markdown",
      "metadata": {
        "id": "view-in-github",
        "colab_type": "text"
      },
      "source": [
        "<a href=\"https://colab.research.google.com/github/Welle-Kim/Based-on-the-Review/blob/master/codeup6060.ipynb\" target=\"_parent\"><img src=\"https://colab.research.google.com/assets/colab-badge.svg\" alt=\"Open In Colab\"/></a>"
      ]
    },
    {
      "cell_type": "code",
      "execution_count": 1,
      "metadata": {
        "colab": {
          "base_uri": "https://localhost:8080/"
        },
        "id": "iIvh21PUgxDg",
        "outputId": "e5542c71-29dc-43c3-968f-e8fed416dc16"
      },
      "outputs": [
        {
          "output_type": "stream",
          "name": "stdout",
          "text": [
            "3 5\n",
            "1\n"
          ]
        }
      ],
      "source": [
        "a,b=map(int,input().split())\n",
        "print(a&b)"
      ]
    },
    {
      "cell_type": "code",
      "source": [
        "a,b=map(int,input().split())\n",
        "print(a|b)"
      ],
      "metadata": {
        "colab": {
          "base_uri": "https://localhost:8080/"
        },
        "id": "W8pMi7o7mPR1",
        "outputId": "196fc9fe-579c-4e86-8575-2062c9789251"
      },
      "execution_count": 4,
      "outputs": [
        {
          "output_type": "stream",
          "name": "stdout",
          "text": [
            "3 5\n",
            "7\n"
          ]
        }
      ]
    },
    {
      "cell_type": "code",
      "source": [
        "a,b=map(int,input().split())\n",
        "print(a^b)"
      ],
      "metadata": {
        "colab": {
          "base_uri": "https://localhost:8080/"
        },
        "id": "1-GNT1y6m-On",
        "outputId": "f7725bbc-909d-43ce-aeea-e082b0bc6722"
      },
      "execution_count": 5,
      "outputs": [
        {
          "output_type": "stream",
          "name": "stdout",
          "text": [
            "3 5\n",
            "6\n"
          ]
        }
      ]
    },
    {
      "cell_type": "code",
      "source": [
        "a, b = input().split()\n",
        "a = int(a)  #변수 a에 저장되어있는 값을 정수로 바꾸어 다시 변수 a에 저장\n",
        "b = int(b)\n",
        "c = (a if (a>=b) else b)\n",
        "print(int(c))"
      ],
      "metadata": {
        "colab": {
          "base_uri": "https://localhost:8080/"
        },
        "id": "Nhn31jppnSsv",
        "outputId": "0e8ff215-406e-45ea-f1a1-36a3a061ecae"
      },
      "execution_count": 6,
      "outputs": [
        {
          "output_type": "stream",
          "name": "stdout",
          "text": [
            "123 456\n",
            "456\n"
          ]
        }
      ]
    },
    {
      "cell_type": "code",
      "source": [
        "a, b ,c = input().split()\n",
        "a = int(a)  #변수 a에 저장되어있는 값을 정수로 바꾸어 다시 변수 a에 저장\n",
        "b = int(b)\n",
        "c = int(c)\n",
        "d = (a if (a<b) else b)\n",
        "e = (d if (d<c) else c)\n",
        "\n",
        "print(int(e))"
      ],
      "metadata": {
        "colab": {
          "base_uri": "https://localhost:8080/"
        },
        "id": "vm6CmEsQoKDA",
        "outputId": "9c5c3dea-1dcc-4af4-ef96-61053dd98d42"
      },
      "execution_count": 9,
      "outputs": [
        {
          "output_type": "stream",
          "name": "stdout",
          "text": [
            "3 -1 5\n",
            "-1\n"
          ]
        }
      ]
    },
    {
      "cell_type": "code",
      "source": [
        "a, b, c = map(int, input().split())\n",
        "\n",
        "print(min(a,b,c))"
      ],
      "metadata": {
        "colab": {
          "base_uri": "https://localhost:8080/"
        },
        "id": "LV7efFk_oq2R",
        "outputId": "fc323417-9e75-4adf-9976-11ed2e0c97d6"
      },
      "execution_count": 10,
      "outputs": [
        {
          "output_type": "stream",
          "name": "stdout",
          "text": [
            "3 -1 5\n",
            "-1\n"
          ]
        }
      ]
    },
    {
      "cell_type": "code",
      "source": [
        "a, b, c = input().split()\n",
        "\n",
        "a = int(a)\n",
        "b = int(b)\n",
        "c = int(c)\n",
        "\n",
        "if a%2==0 :  #논리적으로 한 단위로 처리해야하는 경우 콜론(:)을 찍고, 들여쓰기로 작성 한다.\n",
        "  print(a)\n",
        "\n",
        "if b%2==0 :\n",
        "  print(b) \n",
        "\n",
        "if c%2==0 :\n",
        "  print(c) \n",
        "\n",
        "else:\n",
        "  pass"
      ],
      "metadata": {
        "colab": {
          "base_uri": "https://localhost:8080/"
        },
        "id": "kOvAngxIo9b_",
        "outputId": "880c74f9-71bd-4899-b2b0-af790155de50"
      },
      "execution_count": 11,
      "outputs": [
        {
          "output_type": "stream",
          "name": "stdout",
          "text": [
            "1 2 4\n",
            "2\n",
            "4\n"
          ]
        }
      ]
    },
    {
      "cell_type": "code",
      "source": [
        "a, b, c = map(int,input().split())\n",
        "\n",
        "if a%2==0 :\n",
        "  print(\"even\")\n",
        "elif a%2==1 :\n",
        "  print(\"odd\") \n",
        "\n",
        "if b%2==0 :\n",
        "  print(\"even\")\n",
        "\n",
        "elif b%2==1 :\n",
        "  print(\"odd\")\n",
        "\n",
        "if c%2==0 :\n",
        "  print(\"even\")\n",
        "\n",
        "elif c%2==1 :\n",
        "  print(\"odd\") "
      ],
      "metadata": {
        "colab": {
          "base_uri": "https://localhost:8080/"
        },
        "id": "7l49JDw1pyVs",
        "outputId": "ce604398-7bb7-47cf-a329-63da5a68bda4"
      },
      "execution_count": 13,
      "outputs": [
        {
          "output_type": "stream",
          "name": "stdout",
          "text": [
            "1 2 8\n",
            "odd\n",
            "even\n",
            "even\n"
          ]
        }
      ]
    },
    {
      "cell_type": "code",
      "source": [
        "n= int(input())\n",
        "\n",
        "if n<0 :\n",
        "  if n%2==0 :\n",
        "    print('A')      #주의 : 변수 A와 문자열 'A' / \"A\" 는 의미가 완전히 다르다. \n",
        "  else :\n",
        "    print('B')\n",
        "else :\n",
        "  if n%2==0 :\n",
        "    print('C')\n",
        "  else :\n",
        "    print('D')\n"
      ],
      "metadata": {
        "colab": {
          "base_uri": "https://localhost:8080/"
        },
        "id": "Er2c-e4rqTJA",
        "outputId": "75c0378f-afb3-4e3b-b88a-4dc0f87a438a"
      },
      "execution_count": 18,
      "outputs": [
        {
          "output_type": "stream",
          "name": "stdout",
          "text": [
            "-2147483648\n",
            "A\n"
          ]
        }
      ]
    },
    {
      "cell_type": "code",
      "source": [
        "n= int(input())\n",
        "if -1<n<101:\n",
        "  \n",
        "\n",
        "  if n>=90 :\n",
        "    print('A')\n",
        "  else :\n",
        "    if n>=70 :\n",
        "      print('B')\n",
        "    else :\n",
        "      if n>=40 :\n",
        "        print('C')\n",
        "      else :\n",
        "        print('D') \n",
        "\n",
        "else:\n",
        "  n= int(input())"
      ],
      "metadata": {
        "colab": {
          "base_uri": "https://localhost:8080/"
        },
        "id": "lr3iJ8Y3rAqq",
        "outputId": "84460b26-050e-40b2-d929-d86e5e4f4b6b"
      },
      "execution_count": 20,
      "outputs": [
        {
          "name": "stdout",
          "output_type": "stream",
          "text": [
            "101\n",
            "100\n"
          ]
        }
      ]
    },
    {
      "cell_type": "code",
      "source": [
        "s= input()\n",
        "\n",
        "  \n",
        "\n",
        "if s==\"A\" :\n",
        "  print('best!!!')\n",
        "else :\n",
        "  if s==\"B\" :\n",
        "    print('good!!')\n",
        "  else :\n",
        "    if s==\"C\" :\n",
        "      print('run!')\n",
        "    else :\n",
        "      if s==\"D\" :\n",
        "        print('slowly~')\n",
        "      else :\n",
        "        print('what?') \n"
      ],
      "metadata": {
        "colab": {
          "base_uri": "https://localhost:8080/"
        },
        "id": "EFQQHyt5tGyb",
        "outputId": "2c824e70-0124-43ba-8adf-cd26ca9616f5"
      },
      "execution_count": 23,
      "outputs": [
        {
          "output_type": "stream",
          "name": "stdout",
          "text": [
            "F\n",
            "what?\n"
          ]
        }
      ]
    },
    {
      "cell_type": "code",
      "source": [
        "n= int(input())\n",
        "\n",
        "\n",
        "if n//3==2:\n",
        "  print(\"summer\")\n",
        "elif n//3==1 :\n",
        "  print(\"spring\")\n",
        "elif n//3==3 :\n",
        "  print(\"fall\")\n",
        "else:\n",
        "  print(\"winter\")\n"
      ],
      "metadata": {
        "colab": {
          "base_uri": "https://localhost:8080/"
        },
        "id": "5259ifw1uEcl",
        "outputId": "29469ecc-289b-4e4b-e1ac-8bc0983e7651"
      },
      "execution_count": 27,
      "outputs": [
        {
          "output_type": "stream",
          "name": "stdout",
          "text": [
            "12\n",
            "winter\n"
          ]
        }
      ]
    }
  ]
}