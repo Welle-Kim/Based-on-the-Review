{
  "nbformat": 4,
  "nbformat_minor": 0,
  "metadata": {
    "colab": {
      "provenance": [],
      "authorship_tag": "ABX9TyO3+Yqt+HA1EDeu5fwtbLF0",
      "include_colab_link": true
    },
    "kernelspec": {
      "name": "python3",
      "display_name": "Python 3"
    },
    "language_info": {
      "name": "python"
    }
  },
  "cells": [
    {
      "cell_type": "markdown",
      "metadata": {
        "id": "view-in-github",
        "colab_type": "text"
      },
      "source": [
        "<a href=\"https://colab.research.google.com/github/Welle-Kim/Based-on-the-Review/blob/master/codingdojang8.ipynb\" target=\"_parent\"><img src=\"https://colab.research.google.com/assets/colab-badge.svg\" alt=\"Open In Colab\"/></a>"
      ]
    },
    {
      "cell_type": "code",
      "execution_count": null,
      "metadata": {
        "colab": {
          "base_uri": "https://localhost:8080/"
        },
        "id": "h5YNImh-FekH",
        "outputId": "afa5e05f-1c1e-4c21-df09-8eb4f678dd7b"
      },
      "outputs": [
        {
          "output_type": "stream",
          "name": "stdout",
          "text": [
            "55\n",
            "5050\n"
          ]
        }
      ],
      "source": [
        "def accumulate():\n",
        "    total = 0\n",
        "    while True:\n",
        "        x = (yield)         # 코루틴 바깥에서 값을 받아옴\n",
        "        if x is None:       # 받아온 값이 None이면\n",
        "            return total    # 합계 total을 반환\n",
        "        total += x\n",
        " \n",
        "def sum_coroutine():\n",
        "    while True:\n",
        "        total = yield from accumulate()    # accumulate의 반환값을 가져옴\n",
        "        print(total)\n",
        " \n",
        "co = sum_coroutine()\n",
        "next(co)\n",
        " \n",
        "for i in range(1, 11):    # 1부터 10까지 반복\n",
        "    co.send(i)            # 코루틴 accumulate에 숫자를 보냄\n",
        "co.send(None)             # 코루틴 accumulate에 None을 보내서 숫자 누적을 끝냄\n",
        " \n",
        "for i in range(1, 101):   # 1부터 100까지 반복\n",
        "    co.send(i)            # 코루틴 accumulate에 숫자를 보냄\n",
        "co.send(None)             # 코루틴 accumulate에 None을 보내서 숫자 누적을 끝냄"
      ]
    },
    {
      "cell_type": "markdown",
      "source": [
        "\n",
        "```\n",
        "class Calc:\n",
        "    @staticmethod    # 데코레이터\n",
        "    def add(a, b):\n",
        "        print(a + b)\n",
        "```\n",
        "\n"
      ],
      "metadata": {
        "id": "AK4dFFtZUEy9"
      }
    },
    {
      "cell_type": "code",
      "source": [
        "#데코레이터 함수를 수정하지 않은 상태에서 추가 기능을 구현할 때 사용\n",
        "\n",
        "def hello():\n",
        "    print('hello 함수 시작')\n",
        "    print('hello')\n",
        "    print('hello 함수 끝')\n",
        " \n",
        "def world():\n",
        "    print('world 함수 시작')\n",
        "    print('world')\n",
        "    print('world 함수 끝')\n",
        " \n",
        "hello()\n",
        "world()"
      ],
      "metadata": {
        "colab": {
          "base_uri": "https://localhost:8080/"
        },
        "id": "xG-sBlY1jnKO",
        "outputId": "bdf76bb4-929a-4835-ceee-56e17518705b"
      },
      "execution_count": 1,
      "outputs": [
        {
          "output_type": "stream",
          "name": "stdout",
          "text": [
            "hello 함수 시작\n",
            "hello\n",
            "hello 함수 끝\n",
            "world 함수 시작\n",
            "world\n",
            "world 함수 끝\n"
          ]
        }
      ]
    },
    {
      "cell_type": "code",
      "source": [
        "def trace(func):                             # 호출할 함수를 매개변수로 받음\n",
        "    def wrapper():                           # 호출할 함수를 감싸는 함수\n",
        "        print(func.__name__, '함수 시작')    # __name__으로 함수 이름 출력\n",
        "        func()                               # 매개변수로 받은 함수를 호출\n",
        "        print(func.__name__, '함수 끝')\n",
        "    return wrapper                           # wrapper 함수 반환\n",
        " \n",
        "def hello():\n",
        "    print('hello')\n",
        " \n",
        "def world():\n",
        "    print('world')\n",
        " \n",
        "trace_hello = trace(hello)    # 데코레이터에 호출할 함수를 넣음\n",
        "trace_hello()                 # 반환된 함수를 호출\n",
        "trace_world = trace(world)    # 데코레이터에 호출할 함수를 넣음\n",
        "trace_world()                 # 반환된 함수를 호출"
      ],
      "metadata": {
        "colab": {
          "base_uri": "https://localhost:8080/"
        },
        "id": "S24kqt4WkK0o",
        "outputId": "36fd2250-cdd7-451e-a45a-e1514a933e3f"
      },
      "execution_count": 2,
      "outputs": [
        {
          "output_type": "stream",
          "name": "stdout",
          "text": [
            "hello 함수 시작\n",
            "hello\n",
            "hello 함수 끝\n",
            "world 함수 시작\n",
            "world\n",
            "world 함수 끝\n"
          ]
        }
      ]
    },
    {
      "cell_type": "markdown",
      "source": [
        "**#@로 데코레이터 사용**\n",
        "\n",
        "\n",
        "```\n",
        "@데코레이터\n",
        "def 함수이름():\n",
        "    코드\n",
        "```\n",
        "\n"
      ],
      "metadata": {
        "id": "PbXVsXyZlgRA"
      }
    },
    {
      "cell_type": "code",
      "source": [
        "#@로 데코레이터 사용\n",
        "\n",
        "def trace(func):                             # 호출할 함수를 매개변수로 받음\n",
        "    def wrapper():\n",
        "        print(func.__name__, '함수 시작')    # __name__으로 함수 이름 출력\n",
        "        func()                               # 매개변수로 받은 함수를 호출\n",
        "        print(func.__name__, '함수 끝')\n",
        "    return wrapper                           # wrapper 함수 반환\n",
        " \n",
        "@trace    # @데코레이터\n",
        "def hello():\n",
        "    print('hello')\n",
        " \n",
        "@trace    # @데코레이터\n",
        "def world():\n",
        "    print('world')\n",
        " \n",
        "hello()    # 함수를 그대로 호출\n",
        "world()    # 함수를 그대로 호출"
      ],
      "metadata": {
        "colab": {
          "base_uri": "https://localhost:8080/"
        },
        "id": "QwV63PTwlTjJ",
        "outputId": "3d77fc7c-60ab-4a34-efb9-124b83ee777f"
      },
      "execution_count": 3,
      "outputs": [
        {
          "output_type": "stream",
          "name": "stdout",
          "text": [
            "hello 함수 시작\n",
            "hello\n",
            "hello 함수 끝\n",
            "world 함수 시작\n",
            "world\n",
            "world 함수 끝\n"
          ]
        }
      ]
    },
    {
      "cell_type": "markdown",
      "source": [
        "#####데코레이터를 여러 개 지정\n",
        "#####함수 위에 데코레이터를 여러 줄로 지정해줍니다. 이때 데코레이터가 실행되는 순서는 위에서 아래 순\n",
        "\n",
        "```\n",
        "@데코레이터1\n",
        "@데코레이터2\n",
        "def 함수이름():\n",
        "    코드\n",
        "```\n",
        "\n",
        "\n"
      ],
      "metadata": {
        "id": "OiFbx7Nyl0Po"
      }
    },
    {
      "cell_type": "code",
      "source": [
        "def decorator1(func):\n",
        "    def wrapper():\n",
        "        print('decorator1')\n",
        "        func()\n",
        "    return wrapper\n",
        " \n",
        "def decorator2(func):\n",
        "    def wrapper():\n",
        "        print('decorator2')\n",
        "        func()\n",
        "    return wrapper\n",
        " \n",
        "# 데코레이터를 여러 개 지정\n",
        "@decorator1\n",
        "@decorator2\n",
        "def hello():\n",
        "    print('hello')\n",
        " \n",
        "hello()"
      ],
      "metadata": {
        "colab": {
          "base_uri": "https://localhost:8080/"
        },
        "id": "EJaKCfINmAa8",
        "outputId": "963a208a-0ee6-4089-97e1-ac485d996f7e"
      },
      "execution_count": 4,
      "outputs": [
        {
          "output_type": "stream",
          "name": "stdout",
          "text": [
            "decorator1\n",
            "decorator2\n",
            "hello\n"
          ]
        }
      ]
    },
    {
      "cell_type": "code",
      "source": [
        "decorated_hello = decorator1(decorator2(hello))\n",
        "decorated_hello()"
      ],
      "metadata": {
        "colab": {
          "base_uri": "https://localhost:8080/"
        },
        "id": "1LmuTDCGmKMy",
        "outputId": "f35b6c8b-1142-42f6-ba0d-d04dbce956e2"
      },
      "execution_count": 5,
      "outputs": [
        {
          "output_type": "stream",
          "name": "stdout",
          "text": [
            "decorator1\n",
            "decorator2\n",
            "decorator1\n",
            "decorator2\n",
            "hello\n"
          ]
        }
      ]
    },
    {
      "cell_type": "markdown",
      "source": [
        "## Unit42.2 부터"
      ],
      "metadata": {
        "id": "e65fA1QmnI1r"
      }
    },
    {
      "cell_type": "code",
      "source": [],
      "metadata": {
        "id": "FWlAeHa5mK6r"
      },
      "execution_count": null,
      "outputs": []
    }
  ]
}