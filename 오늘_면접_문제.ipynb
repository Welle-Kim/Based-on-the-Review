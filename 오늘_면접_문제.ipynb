{
  "nbformat": 4,
  "nbformat_minor": 0,
  "metadata": {
    "colab": {
      "provenance": [],
      "authorship_tag": "ABX9TyNgam+3fWnVAL/OSINGL+xx",
      "include_colab_link": true
    },
    "kernelspec": {
      "name": "python3",
      "display_name": "Python 3"
    },
    "language_info": {
      "name": "python"
    }
  },
  "cells": [
    {
      "cell_type": "markdown",
      "metadata": {
        "id": "view-in-github",
        "colab_type": "text"
      },
      "source": [
        "<a href=\"https://colab.research.google.com/github/Welle-Kim/Based-on-the-Review/blob/master/%EC%98%A4%EB%8A%98_%EB%A9%B4%EC%A0%91_%EB%AC%B8%EC%A0%9C.ipynb\" target=\"_parent\"><img src=\"https://colab.research.google.com/assets/colab-badge.svg\" alt=\"Open In Colab\"/></a>"
      ]
    },
    {
      "cell_type": "code",
      "execution_count": 17,
      "metadata": {
        "colab": {
          "base_uri": "https://localhost:8080/"
        },
        "id": "JCNwT5Z5WI-1",
        "outputId": "c605774a-ffae-4d32-9d5a-92b6f70743a5"
      },
      "outputs": [
        {
          "output_type": "stream",
          "name": "stdout",
          "text": [
            "사과 1개 ,오렌지 2개, 키위 3개\n"
          ]
        }
      ],
      "source": [
        "p=[\"사과\",\"오렌지\",\"오렌지\",\"키위\",\"키위\",\"키위\"]\n",
        "\n",
        "k=0\n",
        "s=0\n",
        "t=0\n",
        "\n",
        "for i in p:\n",
        "  # print(i)\n",
        "  if i==\"사과\":\n",
        "    k+=1\n",
        "    \n",
        "\n",
        "  if i==\"오렌지\":\n",
        "    s+=1\n",
        "    \n",
        "\n",
        "  if i==\"키위\":\n",
        "    t+=1\n",
        "    \n",
        "    \n",
        "print(f\"사과 {k}개 ,오렌지 {s}개, 키위 {t}개\")\n"
      ]
    },
    {
      "cell_type": "code",
      "source": [],
      "metadata": {
        "id": "y7AVKpn8WoNg"
      },
      "execution_count": null,
      "outputs": []
    }
  ]
}