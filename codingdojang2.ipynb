{
  "nbformat": 4,
  "nbformat_minor": 0,
  "metadata": {
    "colab": {
      "provenance": [],
      "authorship_tag": "ABX9TyN2Tc9/F0yRlrMFbu557GPO",
      "include_colab_link": true
    },
    "kernelspec": {
      "name": "python3",
      "display_name": "Python 3"
    },
    "language_info": {
      "name": "python"
    }
  },
  "cells": [
    {
      "cell_type": "markdown",
      "metadata": {
        "id": "view-in-github",
        "colab_type": "text"
      },
      "source": [
        "<a href=\"https://colab.research.google.com/github/Welle-Kim/Based-on-the-Review/blob/master/codingdojang2.ipynb\" target=\"_parent\"><img src=\"https://colab.research.google.com/assets/colab-badge.svg\" alt=\"Open In Colab\"/></a>"
      ]
    },
    {
      "cell_type": "markdown",
      "source": [
        "###Unit14부터"
      ],
      "metadata": {
        "id": "BcqYrdt4zPUb"
      }
    },
    {
      "cell_type": "code",
      "execution_count": null,
      "metadata": {
        "colab": {
          "base_uri": "https://localhost:8080/"
        },
        "id": "zUm9p8Tdygp1",
        "outputId": "a8244b3b-eca6-44e7-f82f-63e1e916258a"
      },
      "outputs": [
        {
          "output_type": "stream",
          "name": "stdout",
          "text": [
            "10이 아닙니다\n"
          ]
        }
      ],
      "source": [
        "x=5\n",
        "if x==10:\n",
        "  print(\"10입니다.\")\n",
        "else:\n",
        "  print(\"10이 아닙니다\")"
      ]
    },
    {
      "cell_type": "code",
      "source": [
        "x=5\n",
        "if x==10:\n",
        "  y=x\n",
        "else:\n",
        "  y=0"
      ],
      "metadata": {
        "id": "Jl_5DR_4zNyv"
      },
      "execution_count": null,
      "outputs": []
    },
    {
      "cell_type": "code",
      "source": [
        "y"
      ],
      "metadata": {
        "colab": {
          "base_uri": "https://localhost:8080/"
        },
        "id": "lM3aL2Qnze4b",
        "outputId": "955f7ee6-b8fd-499d-c254-39f121ba8e07"
      },
      "execution_count": null,
      "outputs": [
        {
          "output_type": "execute_result",
          "data": {
            "text/plain": [
              "0"
            ]
          },
          "metadata": {},
          "execution_count": 14
        }
      ]
    },
    {
      "cell_type": "code",
      "source": [
        "x=5\n",
        "y=x if x==10 else 0"
      ],
      "metadata": {
        "id": "pjLlDDdQzfw2"
      },
      "execution_count": null,
      "outputs": []
    },
    {
      "cell_type": "code",
      "source": [
        "y"
      ],
      "metadata": {
        "colab": {
          "base_uri": "https://localhost:8080/"
        },
        "id": "f5SYDm4pzmzQ",
        "outputId": "bac5ca2e-6c9a-4e10-9434-8e95a5b852e0"
      },
      "execution_count": null,
      "outputs": [
        {
          "output_type": "execute_result",
          "data": {
            "text/plain": [
              "0"
            ]
          },
          "metadata": {},
          "execution_count": 16
        }
      ]
    },
    {
      "cell_type": "code",
      "source": [
        "x=5\n",
        "if x ==10:\n",
        "  print(\"10입니다\")\n",
        "else:\n",
        "  print(\"x에 들어있는 숫자는\")\n",
        "  print(\"10이 아닙니다.\")\n"
      ],
      "metadata": {
        "colab": {
          "base_uri": "https://localhost:8080/"
        },
        "id": "HcthKAkLznOq",
        "outputId": "945676db-2aae-46d6-fc8e-9b96be0f54eb"
      },
      "execution_count": null,
      "outputs": [
        {
          "output_type": "stream",
          "name": "stdout",
          "text": [
            "x에 들어있는 숫자는\n",
            "10이 아닙니다.\n"
          ]
        }
      ]
    },
    {
      "cell_type": "code",
      "source": [
        "x=10\n",
        "\n",
        "if x ==10:\n",
        "  print(\"10입니다.\")\n",
        "else:\n",
        "  print(\"x에 들어있는 숫자는\")\n",
        "print(\"10이 아닙니다\")"
      ],
      "metadata": {
        "colab": {
          "base_uri": "https://localhost:8080/"
        },
        "id": "iCMQnfUbz6Yt",
        "outputId": "2e658cca-827c-449d-c067-de815b0b062f"
      },
      "execution_count": null,
      "outputs": [
        {
          "output_type": "stream",
          "name": "stdout",
          "text": [
            "10입니다.\n",
            "10이 아닙니다\n"
          ]
        }
      ]
    },
    {
      "cell_type": "code",
      "source": [
        "if True:\n",
        "  print(\"참\")\n",
        "else:\n",
        "  print(\"거짓\")\n",
        "\n",
        "if False:\n",
        "  print(\"참\")\n",
        "\n",
        "else:\n",
        "  print(\"거짓\")\n",
        "\n",
        "if None: #None은 \n",
        "  print(\"참\")\n",
        "else:\n",
        "  print(\"거짓\")"
      ],
      "metadata": {
        "colab": {
          "base_uri": "https://localhost:8080/"
        },
        "id": "TxTE3QcP0ID_",
        "outputId": "60451b4c-1a01-4817-9a44-3e3db158f586"
      },
      "execution_count": null,
      "outputs": [
        {
          "output_type": "stream",
          "name": "stdout",
          "text": [
            "참\n",
            "거짓\n",
            "거짓\n"
          ]
        }
      ]
    },
    {
      "cell_type": "code",
      "source": [
        "if 0:\n",
        "  print(\"참\")\n",
        "else:\n",
        "  print(\"거짓\") #0은 거짓\n",
        "\n",
        "if 1:\n",
        "  print(\"참\") #1은 참\n",
        "else:\n",
        "  print(\"거짓\")\n",
        "\n",
        "if 0x1F: #16진수\n",
        "  print(\"참\")\n",
        "else:\n",
        "  print(\"거짓\")\n",
        "\n",
        "if 0b1000: #2진수\n",
        "  print(\"참\")\n",
        "else:\n",
        "  print(\"거짓\")\n",
        "\n",
        "if 13.5: #실수\n",
        "  print(\"참\")\n",
        "else:\n",
        "  print(\"거짓\")"
      ],
      "metadata": {
        "colab": {
          "base_uri": "https://localhost:8080/"
        },
        "id": "n02z_-j8_4Q_",
        "outputId": "209b7e48-b680-4537-9e1c-5f09bdb080fa"
      },
      "execution_count": null,
      "outputs": [
        {
          "output_type": "stream",
          "name": "stdout",
          "text": [
            "거짓\n",
            "참\n",
            "참\n",
            "참\n",
            "참\n"
          ]
        }
      ]
    },
    {
      "cell_type": "code",
      "source": [
        "if \"Hello\": #문자열\n",
        "  print(\"참\")\n",
        "else:\n",
        "  print(\"거짓\")\n",
        "\n",
        "if \"\":\n",
        "  print(\"참\")\n",
        "else:\n",
        "  print(\"거짓\")"
      ],
      "metadata": {
        "colab": {
          "base_uri": "https://localhost:8080/"
        },
        "id": "LTCHY4soBuyh",
        "outputId": "7b729198-b353-4fbe-d3de-823c7a9d06f6"
      },
      "execution_count": null,
      "outputs": [
        {
          "output_type": "stream",
          "name": "stdout",
          "text": [
            "참\n",
            "거짓\n"
          ]
        }
      ]
    },
    {
      "cell_type": "code",
      "source": [
        "if not 0:\n",
        "  print(\"참\")\n",
        "\n",
        "if not None:\n",
        "  print(\"참\")\n",
        "\n",
        "if not \"\":\n",
        "  print(\"참\")"
      ],
      "metadata": {
        "colab": {
          "base_uri": "https://localhost:8080/"
        },
        "id": "zkOZoZ8-FemI",
        "outputId": "dda07d9b-f455-4d1e-eaed-174d69d88a59"
      },
      "execution_count": null,
      "outputs": [
        {
          "output_type": "stream",
          "name": "stdout",
          "text": [
            "참\n",
            "참\n",
            "참\n"
          ]
        }
      ]
    },
    {
      "cell_type": "code",
      "source": [
        "x=10\n",
        "y=20\n",
        "\n",
        "if x == 10 and y ==20:\n",
        "  print(\"참\")\n",
        "else:\n",
        "  print(\"거짓\")"
      ],
      "metadata": {
        "colab": {
          "base_uri": "https://localhost:8080/"
        },
        "id": "Twf22BeiJHaO",
        "outputId": "5a989357-da0f-4067-b432-f12c03a52372"
      },
      "execution_count": null,
      "outputs": [
        {
          "output_type": "stream",
          "name": "stdout",
          "text": [
            "참\n"
          ]
        }
      ]
    },
    {
      "cell_type": "code",
      "source": [
        "if x>0:\n",
        "  if x<20:\n",
        "    print(\"20보다 작은 양수입니다.\")"
      ],
      "metadata": {
        "colab": {
          "base_uri": "https://localhost:8080/"
        },
        "id": "Yt991wiOJYYn",
        "outputId": "9bbd434e-203e-4573-d36d-13316e1a6453"
      },
      "execution_count": null,
      "outputs": [
        {
          "output_type": "stream",
          "name": "stdout",
          "text": [
            "20보다 작은 양수입니다.\n"
          ]
        }
      ]
    },
    {
      "cell_type": "code",
      "source": [
        "if x>0 and x<20:\n",
        "  print(\"20보다 작은 양수입니다\")"
      ],
      "metadata": {
        "colab": {
          "base_uri": "https://localhost:8080/"
        },
        "id": "8tt9R13gJhPB",
        "outputId": "98937dcc-6bbd-49b0-e607-06c7b2d866e3"
      },
      "execution_count": null,
      "outputs": [
        {
          "output_type": "stream",
          "name": "stdout",
          "text": [
            "20보다 작은 양수입니다\n"
          ]
        }
      ]
    },
    {
      "cell_type": "code",
      "source": [
        "if 0< x< 20:\n",
        "  print(\"20보다 작은 양수입니다.\")"
      ],
      "metadata": {
        "colab": {
          "base_uri": "https://localhost:8080/"
        },
        "id": "t5t_cxcvKAa8",
        "outputId": "3d2aa03a-bb98-454c-b402-0c74d9a9cc0f"
      },
      "execution_count": null,
      "outputs": [
        {
          "output_type": "stream",
          "name": "stdout",
          "text": [
            "20보다 작은 양수입니다.\n"
          ]
        }
      ]
    },
    {
      "cell_type": "code",
      "source": [
        "written_test=75\n",
        "coding_test=True\n",
        "\n",
        "if written_test>=80 & coding_test==True:\n",
        "  print(\"합격\")\n",
        "\n",
        "else:\n",
        "  print(\"불합격\")"
      ],
      "metadata": {
        "colab": {
          "base_uri": "https://localhost:8080/"
        },
        "id": "dbXiYbn2KHVX",
        "outputId": "82230430-5735-4ca6-faea-e281be70c87c"
      },
      "execution_count": null,
      "outputs": [
        {
          "output_type": "stream",
          "name": "stdout",
          "text": [
            "불합격\n"
          ]
        }
      ]
    },
    {
      "cell_type": "code",
      "source": [
        "a,b,c,d=map(int,input().split())\n",
        "\n",
        "if a<0 or b<0 or c<0 or d<0 or a>100 or b>100 or c>100 or d>100:\n",
        "    print(\"잘못된 점수\")\n",
        "    \n",
        "else:\n",
        "    if (a+b+c+d)/4>=80:\n",
        "        print(\"합격\")\n",
        "    else: print(\"불합격\")"
      ],
      "metadata": {
        "colab": {
          "base_uri": "https://localhost:8080/"
        },
        "id": "KDH8qSYwMAP7",
        "outputId": "a992a6f0-36fa-4596-c3fe-5b24cf95b826"
      },
      "execution_count": null,
      "outputs": [
        {
          "output_type": "stream",
          "name": "stdout",
          "text": [
            "-1 10 20 30\n",
            "잘못된 점수\n"
          ]
        }
      ]
    },
    {
      "cell_type": "code",
      "source": [
        "button=int(input())\n",
        "\n",
        "if button==1:\n",
        "  print(\"coke\")\n",
        "if button==2:\n",
        "  print(\"hwanta\")\n",
        "else:\n",
        "  print(\"해당되는 음료가 없습니다\")"
      ],
      "metadata": {
        "colab": {
          "base_uri": "https://localhost:8080/"
        },
        "id": "xkLZs5vXNRMw",
        "outputId": "c01870b8-af91-4d9c-b94c-4441d0fff8eb"
      },
      "execution_count": null,
      "outputs": [
        {
          "output_type": "stream",
          "name": "stdout",
          "text": [
            "0\n",
            "해당되는 음료가 없습니다\n"
          ]
        }
      ]
    },
    {
      "cell_type": "code",
      "source": [
        "x = int(input())\n",
        "if 11<=x<=20:\n",
        "  print(\"11~20\")\n",
        "elif 21<=x<=30:\n",
        "  print(\"21~30\")\n",
        "else: \n",
        "  print(\"아무것도 해당하지 않음\")"
      ],
      "metadata": {
        "colab": {
          "base_uri": "https://localhost:8080/"
        },
        "id": "IdH-zfLyl5X8",
        "outputId": "d38c67e0-7c81-4704-cbff-a118db1140d7"
      },
      "execution_count": null,
      "outputs": [
        {
          "output_type": "stream",
          "name": "stdout",
          "text": [
            "11\n",
            "11~20\n"
          ]
        }
      ]
    },
    {
      "cell_type": "code",
      "source": [
        "# 표준 입력으로 나이(만 나이)가 입력됩니다(입력 값은 7 이상 입력됨). 교통카드 시스템에서 시내버스 요금은 다음과 같으며 각 나이에 맞게 요금을 차감한 뒤 잔액이 출력되게 만드세요(if, elif 사용). 현재 교통카드에는 9,000원이 들어있습니다.\n",
        "\n",
        "#어린이(초등학생, 만 7세 이상 12세 이하): 650원\n",
        "#청소년(중∙고등학생, 만 13세 이상 18세 이하): 1,050원\n",
        "#어른(일반, 만 19세 이상): 1,250원\n",
        "\n",
        "age = int(input())\n",
        "balance = 9000    \n",
        "if 7<= age <=12:\n",
        "  balance-=650\n",
        "elif 13<= age <=18:\n",
        "  balance-=1050\n",
        "elif 19 <= age:\n",
        "  balance-=1250\n",
        "\n",
        "print(balance)"
      ],
      "metadata": {
        "colab": {
          "base_uri": "https://localhost:8080/"
        },
        "id": "dOZvZ4lZoCvV",
        "outputId": "490e53d4-ec96-4148-e48d-bba0412f48a2"
      },
      "execution_count": null,
      "outputs": [
        {
          "output_type": "stream",
          "name": "stdout",
          "text": [
            "17\n",
            "7950\n"
          ]
        }
      ]
    },
    {
      "cell_type": "code",
      "source": [
        "for i in range(1, 10, 1):\n",
        "  print(i)"
      ],
      "metadata": {
        "id": "fUxO-I44qsdh",
        "outputId": "47c4579f-1536-43cf-96e5-f8a6aacc404a",
        "colab": {
          "base_uri": "https://localhost:8080/"
        }
      },
      "execution_count": null,
      "outputs": [
        {
          "output_type": "stream",
          "name": "stdout",
          "text": [
            "1\n",
            "2\n",
            "3\n",
            "4\n",
            "5\n",
            "6\n",
            "7\n",
            "8\n",
            "9\n"
          ]
        }
      ]
    },
    {
      "cell_type": "code",
      "source": [
        "x = [49, -17, 25, 102, 8, 62, 21]\n",
        "\n",
        "for i in x:\n",
        "  print(i*10,end=\" \")"
      ],
      "metadata": {
        "id": "GNOfRqfDoRBx",
        "colab": {
          "base_uri": "https://localhost:8080/"
        },
        "outputId": "5be7e7da-bc17-47d8-e884-f84ec5fecc1c"
      },
      "execution_count": 3,
      "outputs": [
        {
          "output_type": "stream",
          "name": "stdout",
          "text": [
            "490 -170 250 1020 80 620 210 "
          ]
        }
      ]
    },
    {
      "cell_type": "code",
      "source": [
        "count=int(input())\n",
        "\n",
        "for i in range(1,10):\n",
        "  print(count,\"*\",i,\"=\",count*i)\n"
      ],
      "metadata": {
        "colab": {
          "base_uri": "https://localhost:8080/"
        },
        "id": "YeSN6gDF9vqc",
        "outputId": "e098ee3a-78be-4d3d-ec2a-ffde0a8a0f5e"
      },
      "execution_count": 6,
      "outputs": [
        {
          "output_type": "stream",
          "name": "stdout",
          "text": [
            "2\n",
            "2 * 1 = 2\n",
            "2 * 2 = 4\n",
            "2 * 3 = 6\n",
            "2 * 4 = 8\n",
            "2 * 5 = 10\n",
            "2 * 6 = 12\n",
            "2 * 7 = 14\n",
            "2 * 8 = 16\n",
            "2 * 9 = 18\n"
          ]
        }
      ]
    },
    {
      "cell_type": "code",
      "source": [
        "i=0\n",
        "while i < 100:\n",
        "  print(\"Hello,world!\")\n",
        "  i+=1\n"
      ],
      "metadata": {
        "colab": {
          "base_uri": "https://localhost:8080/"
        },
        "id": "aDF4YR7c-8oN",
        "outputId": "407e4c8d-0151-44d9-ad2a-07b51a1c0564"
      },
      "execution_count": 7,
      "outputs": [
        {
          "output_type": "stream",
          "name": "stdout",
          "text": [
            "Hello,world!\n",
            "Hello,world!\n",
            "Hello,world!\n",
            "Hello,world!\n",
            "Hello,world!\n",
            "Hello,world!\n",
            "Hello,world!\n",
            "Hello,world!\n",
            "Hello,world!\n",
            "Hello,world!\n",
            "Hello,world!\n",
            "Hello,world!\n",
            "Hello,world!\n",
            "Hello,world!\n",
            "Hello,world!\n",
            "Hello,world!\n",
            "Hello,world!\n",
            "Hello,world!\n",
            "Hello,world!\n",
            "Hello,world!\n",
            "Hello,world!\n",
            "Hello,world!\n",
            "Hello,world!\n",
            "Hello,world!\n",
            "Hello,world!\n",
            "Hello,world!\n",
            "Hello,world!\n",
            "Hello,world!\n",
            "Hello,world!\n",
            "Hello,world!\n",
            "Hello,world!\n",
            "Hello,world!\n",
            "Hello,world!\n",
            "Hello,world!\n",
            "Hello,world!\n",
            "Hello,world!\n",
            "Hello,world!\n",
            "Hello,world!\n",
            "Hello,world!\n",
            "Hello,world!\n",
            "Hello,world!\n",
            "Hello,world!\n",
            "Hello,world!\n",
            "Hello,world!\n",
            "Hello,world!\n",
            "Hello,world!\n",
            "Hello,world!\n",
            "Hello,world!\n",
            "Hello,world!\n",
            "Hello,world!\n",
            "Hello,world!\n",
            "Hello,world!\n",
            "Hello,world!\n",
            "Hello,world!\n",
            "Hello,world!\n",
            "Hello,world!\n",
            "Hello,world!\n",
            "Hello,world!\n",
            "Hello,world!\n",
            "Hello,world!\n",
            "Hello,world!\n",
            "Hello,world!\n",
            "Hello,world!\n",
            "Hello,world!\n",
            "Hello,world!\n",
            "Hello,world!\n",
            "Hello,world!\n",
            "Hello,world!\n",
            "Hello,world!\n",
            "Hello,world!\n",
            "Hello,world!\n",
            "Hello,world!\n",
            "Hello,world!\n",
            "Hello,world!\n",
            "Hello,world!\n",
            "Hello,world!\n",
            "Hello,world!\n",
            "Hello,world!\n",
            "Hello,world!\n",
            "Hello,world!\n",
            "Hello,world!\n",
            "Hello,world!\n",
            "Hello,world!\n",
            "Hello,world!\n",
            "Hello,world!\n",
            "Hello,world!\n",
            "Hello,world!\n",
            "Hello,world!\n",
            "Hello,world!\n",
            "Hello,world!\n",
            "Hello,world!\n",
            "Hello,world!\n",
            "Hello,world!\n",
            "Hello,world!\n",
            "Hello,world!\n",
            "Hello,world!\n",
            "Hello,world!\n",
            "Hello,world!\n",
            "Hello,world!\n",
            "Hello,world!\n"
          ]
        }
      ]
    },
    {
      "cell_type": "code",
      "source": [
        "import random"
      ],
      "metadata": {
        "id": "mt8N3Fam_lMX"
      },
      "execution_count": 8,
      "outputs": []
    },
    {
      "cell_type": "code",
      "source": [
        "random.random()"
      ],
      "metadata": {
        "colab": {
          "base_uri": "https://localhost:8080/"
        },
        "id": "EbJXES5qCZsC",
        "outputId": "d1ecb473-9ae1-4177-e591-68915a986f19"
      },
      "execution_count": 12,
      "outputs": [
        {
          "output_type": "execute_result",
          "data": {
            "text/plain": [
              "0.6362875208858522"
            ]
          },
          "metadata": {},
          "execution_count": 12
        }
      ]
    },
    {
      "cell_type": "code",
      "source": [
        "random.randint(1,6)"
      ],
      "metadata": {
        "colab": {
          "base_uri": "https://localhost:8080/"
        },
        "id": "nB8uz9f0CdR8",
        "outputId": "71b876ce-3bf6-4c01-84a3-1d567831f89d"
      },
      "execution_count": 28,
      "outputs": [
        {
          "output_type": "execute_result",
          "data": {
            "text/plain": [
              "1"
            ]
          },
          "metadata": {},
          "execution_count": 28
        }
      ]
    },
    {
      "cell_type": "code",
      "source": [
        "import random   # random 모듈을 가져옴\n",
        "\n",
        "i=0\n",
        "while i !=3:   #3이 아닐때 계속 반복\n",
        "  i= random.randint(1,6) #radint를 사용하여 1과 6사이의 난수를 생성\n",
        "  print(i)"
      ],
      "metadata": {
        "colab": {
          "base_uri": "https://localhost:8080/"
        },
        "id": "J8Lz9cNNDgz8",
        "outputId": "5a6803e1-3743-4ca9-804a-915a37637a95"
      },
      "execution_count": 41,
      "outputs": [
        {
          "output_type": "stream",
          "name": "stdout",
          "text": [
            "6\n",
            "4\n",
            "1\n",
            "4\n",
            "3\n"
          ]
        }
      ]
    },
    {
      "cell_type": "code",
      "source": [
        "dice=[1,2,3,4,5,6]\n",
        "random.choice(dice)"
      ],
      "metadata": {
        "colab": {
          "base_uri": "https://localhost:8080/"
        },
        "id": "-R6NSgMvDvcX",
        "outputId": "e90acd99-25e5-4ea0-dd34-d369a28161d6"
      },
      "execution_count": 44,
      "outputs": [
        {
          "output_type": "execute_result",
          "data": {
            "text/plain": [
              "5"
            ]
          },
          "metadata": {},
          "execution_count": 44
        }
      ]
    },
    {
      "cell_type": "code",
      "source": [
        "# while True:\n",
        "#   print(\"Hello,world!\")"
      ],
      "metadata": {
        "id": "kzFvJIoAE-6Q"
      },
      "execution_count": 46,
      "outputs": []
    },
    {
      "cell_type": "code",
      "source": [
        "# while 1: #0이 아닌 숫자는 True로 취급하여 무한 루프로 동작\n",
        "#   print(\"Hello,world\")"
      ],
      "metadata": {
        "id": "ZooeHWJaFKMY"
      },
      "execution_count": 48,
      "outputs": []
    },
    {
      "cell_type": "code",
      "source": [
        "# while 'Hello':    # 내용이 있는 문자열은 True로 취급하여 무한 루프로 동작\n",
        "#     print('Hello, world!')"
      ],
      "metadata": {
        "id": "22HiaDnMFa2h"
      },
      "execution_count": 49,
      "outputs": []
    },
    {
      "cell_type": "code",
      "source": [
        "i = 2\n",
        "j = 5\n",
        "\n",
        "while i<=32 or j >=1:   \n",
        "    print(i, j)    \n",
        "    i*=2\n",
        "    j-=1\n",
        "\n",
        "         \n",
        "         "
      ],
      "metadata": {
        "colab": {
          "base_uri": "https://localhost:8080/"
        },
        "id": "kolE0ifnF0Wn",
        "outputId": "3d6b5bc5-2559-4501-f742-5bc545329af4"
      },
      "execution_count": 55,
      "outputs": [
        {
          "output_type": "stream",
          "name": "stdout",
          "text": [
            "2 5\n",
            "4 4\n",
            "8 3\n",
            "16 2\n",
            "32 1\n"
          ]
        }
      ]
    },
    {
      "cell_type": "code",
      "source": [
        "count=int(input())\n",
        "\n",
        "while count>=1350:\n",
        "  count-=1350\n",
        "  print(count)\n",
        "  "
      ],
      "metadata": {
        "colab": {
          "base_uri": "https://localhost:8080/"
        },
        "id": "s2pOKK8FJ-0E",
        "outputId": "01945812-f2b9-490b-aa1d-1eb39533e8e7"
      },
      "execution_count": 67,
      "outputs": [
        {
          "output_type": "stream",
          "name": "stdout",
          "text": [
            "10000\n",
            "8650\n",
            "7300\n",
            "5950\n",
            "4600\n",
            "3250\n",
            "1900\n",
            "550\n"
          ]
        }
      ]
    },
    {
      "cell_type": "code",
      "source": [
        "i=0\n",
        "while True:\n",
        "  print(i)\n",
        "  i+=1\n",
        "  if i ==100:\n",
        "    break"
      ],
      "metadata": {
        "colab": {
          "base_uri": "https://localhost:8080/"
        },
        "id": "0W9TVBlUMxub",
        "outputId": "f4776498-949f-4372-e8a4-6eb1f7256bd4"
      },
      "execution_count": 68,
      "outputs": [
        {
          "output_type": "stream",
          "name": "stdout",
          "text": [
            "0\n",
            "1\n",
            "2\n",
            "3\n",
            "4\n",
            "5\n",
            "6\n",
            "7\n",
            "8\n",
            "9\n",
            "10\n",
            "11\n",
            "12\n",
            "13\n",
            "14\n",
            "15\n",
            "16\n",
            "17\n",
            "18\n",
            "19\n",
            "20\n",
            "21\n",
            "22\n",
            "23\n",
            "24\n",
            "25\n",
            "26\n",
            "27\n",
            "28\n",
            "29\n",
            "30\n",
            "31\n",
            "32\n",
            "33\n",
            "34\n",
            "35\n",
            "36\n",
            "37\n",
            "38\n",
            "39\n",
            "40\n",
            "41\n",
            "42\n",
            "43\n",
            "44\n",
            "45\n",
            "46\n",
            "47\n",
            "48\n",
            "49\n",
            "50\n",
            "51\n",
            "52\n",
            "53\n",
            "54\n",
            "55\n",
            "56\n",
            "57\n",
            "58\n",
            "59\n",
            "60\n",
            "61\n",
            "62\n",
            "63\n",
            "64\n",
            "65\n",
            "66\n",
            "67\n",
            "68\n",
            "69\n",
            "70\n",
            "71\n",
            "72\n",
            "73\n",
            "74\n",
            "75\n",
            "76\n",
            "77\n",
            "78\n",
            "79\n",
            "80\n",
            "81\n",
            "82\n",
            "83\n",
            "84\n",
            "85\n",
            "86\n",
            "87\n",
            "88\n",
            "89\n",
            "90\n",
            "91\n",
            "92\n",
            "93\n",
            "94\n",
            "95\n",
            "96\n",
            "97\n",
            "98\n",
            "99\n"
          ]
        }
      ]
    },
    {
      "cell_type": "code",
      "source": [
        "for i in range(10000):\n",
        "  print(i)\n",
        "  if i == 100:\n",
        "    break"
      ],
      "metadata": {
        "colab": {
          "base_uri": "https://localhost:8080/"
        },
        "id": "hlgnEOVaOVOX",
        "outputId": "fd0509e9-3a66-462c-c42c-10294c707cf7"
      },
      "execution_count": 69,
      "outputs": [
        {
          "output_type": "stream",
          "name": "stdout",
          "text": [
            "0\n",
            "1\n",
            "2\n",
            "3\n",
            "4\n",
            "5\n",
            "6\n",
            "7\n",
            "8\n",
            "9\n",
            "10\n",
            "11\n",
            "12\n",
            "13\n",
            "14\n",
            "15\n",
            "16\n",
            "17\n",
            "18\n",
            "19\n",
            "20\n",
            "21\n",
            "22\n",
            "23\n",
            "24\n",
            "25\n",
            "26\n",
            "27\n",
            "28\n",
            "29\n",
            "30\n",
            "31\n",
            "32\n",
            "33\n",
            "34\n",
            "35\n",
            "36\n",
            "37\n",
            "38\n",
            "39\n",
            "40\n",
            "41\n",
            "42\n",
            "43\n",
            "44\n",
            "45\n",
            "46\n",
            "47\n",
            "48\n",
            "49\n",
            "50\n",
            "51\n",
            "52\n",
            "53\n",
            "54\n",
            "55\n",
            "56\n",
            "57\n",
            "58\n",
            "59\n",
            "60\n",
            "61\n",
            "62\n",
            "63\n",
            "64\n",
            "65\n",
            "66\n",
            "67\n",
            "68\n",
            "69\n",
            "70\n",
            "71\n",
            "72\n",
            "73\n",
            "74\n",
            "75\n",
            "76\n",
            "77\n",
            "78\n",
            "79\n",
            "80\n",
            "81\n",
            "82\n",
            "83\n",
            "84\n",
            "85\n",
            "86\n",
            "87\n",
            "88\n",
            "89\n",
            "90\n",
            "91\n",
            "92\n",
            "93\n",
            "94\n",
            "95\n",
            "96\n",
            "97\n",
            "98\n",
            "99\n",
            "100\n"
          ]
        }
      ]
    },
    {
      "cell_type": "code",
      "source": [
        "for i in range(100):\n",
        "  if i%2==0:\n",
        "    continue  # 아래 코드를 실행하지 않고 건너뜀\n",
        "  print(i)"
      ],
      "metadata": {
        "colab": {
          "base_uri": "https://localhost:8080/"
        },
        "id": "8hL-u1byOiRe",
        "outputId": "a07918df-d658-47e8-8c2d-e1e4b5e15937"
      },
      "execution_count": 72,
      "outputs": [
        {
          "output_type": "stream",
          "name": "stdout",
          "text": [
            "1\n",
            "3\n",
            "5\n",
            "7\n",
            "9\n",
            "11\n",
            "13\n",
            "15\n",
            "17\n",
            "19\n",
            "21\n",
            "23\n",
            "25\n",
            "27\n",
            "29\n",
            "31\n",
            "33\n",
            "35\n",
            "37\n",
            "39\n",
            "41\n",
            "43\n",
            "45\n",
            "47\n",
            "49\n",
            "51\n",
            "53\n",
            "55\n",
            "57\n",
            "59\n",
            "61\n",
            "63\n",
            "65\n",
            "67\n",
            "69\n",
            "71\n",
            "73\n",
            "75\n",
            "77\n",
            "79\n",
            "81\n",
            "83\n",
            "85\n",
            "87\n",
            "89\n",
            "91\n",
            "93\n",
            "95\n",
            "97\n",
            "99\n"
          ]
        }
      ]
    },
    {
      "cell_type": "code",
      "source": [
        "i=0\n",
        "while i <100:\n",
        "  i+=1\n",
        "  if i %2==0:\n",
        "    continue\n",
        "  print(i)"
      ],
      "metadata": {
        "colab": {
          "base_uri": "https://localhost:8080/"
        },
        "id": "K4gb7bd_Ou2_",
        "outputId": "05041a70-be20-4a67-e647-a1a43690c5b8"
      },
      "execution_count": 73,
      "outputs": [
        {
          "output_type": "stream",
          "name": "stdout",
          "text": [
            "1\n",
            "3\n",
            "5\n",
            "7\n",
            "9\n",
            "11\n",
            "13\n",
            "15\n",
            "17\n",
            "19\n",
            "21\n",
            "23\n",
            "25\n",
            "27\n",
            "29\n",
            "31\n",
            "33\n",
            "35\n",
            "37\n",
            "39\n",
            "41\n",
            "43\n",
            "45\n",
            "47\n",
            "49\n",
            "51\n",
            "53\n",
            "55\n",
            "57\n",
            "59\n",
            "61\n",
            "63\n",
            "65\n",
            "67\n",
            "69\n",
            "71\n",
            "73\n",
            "75\n",
            "77\n",
            "79\n",
            "81\n",
            "83\n",
            "85\n",
            "87\n",
            "89\n",
            "91\n",
            "93\n",
            "95\n",
            "97\n",
            "99\n"
          ]
        }
      ]
    },
    {
      "cell_type": "code",
      "source": [
        "for i in range(10):\n",
        "  pass # 아무 일도 하지 않음"
      ],
      "metadata": {
        "id": "6H8VTR-dPCns"
      },
      "execution_count": 75,
      "outputs": []
    },
    {
      "cell_type": "code",
      "source": [
        "# while True:\n",
        "#   pass # 아무 일도 하지 않음"
      ],
      "metadata": {
        "id": "9WVjYbIQPS1B"
      },
      "execution_count": 79,
      "outputs": []
    },
    {
      "cell_type": "code",
      "source": [
        "count=int(input(\"반복할 횟수를 입력하세요: \"))\n",
        "\n",
        "i=0\n",
        "while True:\n",
        "  print(i)\n",
        "  i+=1\n",
        "  if i ==count:\n",
        "    break"
      ],
      "metadata": {
        "colab": {
          "base_uri": "https://localhost:8080/"
        },
        "id": "-QhY76alPbC1",
        "outputId": "85e28e83-55f0-41b2-c5f8-03d2d9ce6ed7"
      },
      "execution_count": 82,
      "outputs": [
        {
          "output_type": "stream",
          "name": "stdout",
          "text": [
            "반복할 횟수를 입력하세요: 3\n",
            "0\n",
            "1\n",
            "2\n"
          ]
        }
      ]
    },
    {
      "cell_type": "code",
      "source": [
        "count=int(input(\"반복할 횟수를 입력하세요: \"))\n",
        "for i in range(count+1):\n",
        "  if i %2==0:\n",
        "    continue\n",
        "  print(i)"
      ],
      "metadata": {
        "colab": {
          "base_uri": "https://localhost:8080/"
        },
        "id": "w9zlWJX-PwW0",
        "outputId": "6203b884-afae-44fa-dd9c-9660332b5e37"
      },
      "execution_count": 83,
      "outputs": [
        {
          "output_type": "stream",
          "name": "stdout",
          "text": [
            "반복할 횟수를 입력하세요: 30\n",
            "1\n",
            "3\n",
            "5\n",
            "7\n",
            "9\n",
            "11\n",
            "13\n",
            "15\n",
            "17\n",
            "19\n",
            "21\n",
            "23\n",
            "25\n",
            "27\n",
            "29\n"
          ]
        }
      ]
    },
    {
      "cell_type": "code",
      "source": [
        "i = 30\n",
        " \n",
        "while True:\n",
        "    print(i)\n",
        "    if i == 10:\n",
        "      break                         \n",
        "    i -= 1"
      ],
      "metadata": {
        "colab": {
          "base_uri": "https://localhost:8080/"
        },
        "id": "_wzW0oQ1S7Ti",
        "outputId": "1d9a2330-1152-434a-ccf0-f920652a929e"
      },
      "execution_count": 85,
      "outputs": [
        {
          "output_type": "stream",
          "name": "stdout",
          "text": [
            "30\n",
            "29\n",
            "28\n",
            "27\n",
            "26\n",
            "25\n",
            "24\n",
            "23\n",
            "22\n",
            "21\n",
            "20\n",
            "19\n",
            "18\n",
            "17\n",
            "16\n",
            "15\n",
            "14\n",
            "13\n",
            "12\n",
            "11\n",
            "10\n"
          ]
        }
      ]
    },
    {
      "cell_type": "code",
      "source": [
        "i =0 \n",
        "while True:\n",
        "  if i%10 !=3:\n",
        "    i+=1\n",
        "    continue\n",
        "  if i >73:\n",
        "    break\n",
        "  print(i,end=\" \")\n",
        "  i+=1"
      ],
      "metadata": {
        "colab": {
          "base_uri": "https://localhost:8080/"
        },
        "id": "B5I4IhxzVKfD",
        "outputId": "4ccc552b-2d5b-40e6-8758-953d7deee798"
      },
      "execution_count": 88,
      "outputs": [
        {
          "output_type": "stream",
          "name": "stdout",
          "text": [
            "3 13 23 33 43 53 63 73 "
          ]
        }
      ]
    },
    {
      "cell_type": "code",
      "source": [
        "start,stop=map(int,input().split())\n",
        "i=start\n",
        "\n",
        "while True:\n",
        "  if i % 10 ==3:\n",
        "    i+=1\n",
        "    continue\n",
        "  if i> stop:\n",
        "    break \n",
        "\n",
        "  print(i,end=\" \")\n",
        "  i+=1\n"
      ],
      "metadata": {
        "colab": {
          "base_uri": "https://localhost:8080/"
        },
        "id": "yVgF-1Bemza4",
        "outputId": "fbcf42cd-22b4-44cd-c3f8-60fa16aa494b"
      },
      "execution_count": 18,
      "outputs": [
        {
          "output_type": "stream",
          "name": "stdout",
          "text": [
            "1 30\n",
            "1 2 4 5 6 7 8 9 10 11 12 14 15 16 17 18 19 20 21 22 24 25 26 27 28 29 30 "
          ]
        }
      ]
    },
    {
      "cell_type": "code",
      "source": [
        "for i in range(5): #세로방향\n",
        "  for j in range(5): #가로방향\n",
        "    # print(i*j)\n",
        "    print(\"j:\",j,sep=\"\",end=\" \")\n",
        "  print(\"i:\",i,\"\\\\n\",sep=\"\")"
      ],
      "metadata": {
        "colab": {
          "base_uri": "https://localhost:8080/"
        },
        "id": "n_zQSxPDpxSs",
        "outputId": "3bdebf49-e91b-4dbd-dd1b-0129ef85f3a8"
      },
      "execution_count": 31,
      "outputs": [
        {
          "output_type": "stream",
          "name": "stdout",
          "text": [
            "j:0 j:1 j:2 j:3 j:4 i:0\\n\n",
            "j:0 j:1 j:2 j:3 j:4 i:1\\n\n",
            "j:0 j:1 j:2 j:3 j:4 i:2\\n\n",
            "j:0 j:1 j:2 j:3 j:4 i:3\\n\n",
            "j:0 j:1 j:2 j:3 j:4 i:4\\n\n"
          ]
        }
      ]
    },
    {
      "cell_type": "code",
      "source": [
        "for i in range(5):\n",
        "  for j in range(5):\n",
        "    print(\"*\",end=\"\")\n",
        "  print()"
      ],
      "metadata": {
        "colab": {
          "base_uri": "https://localhost:8080/"
        },
        "id": "3upKOUAXp1iE",
        "outputId": "74ee24b7-328a-40f1-9d98-d852fdbfb3ed"
      },
      "execution_count": 34,
      "outputs": [
        {
          "output_type": "stream",
          "name": "stdout",
          "text": [
            "*****\n",
            "*****\n",
            "*****\n",
            "*****\n",
            "*****\n"
          ]
        }
      ]
    },
    {
      "cell_type": "code",
      "source": [
        "for i in range(5):\n",
        "  print(i)"
      ],
      "metadata": {
        "colab": {
          "base_uri": "https://localhost:8080/"
        },
        "id": "R3mN_QgkwA48",
        "outputId": "d620450f-7e70-43a6-87f0-b64f4583ec43"
      },
      "execution_count": 41,
      "outputs": [
        {
          "output_type": "stream",
          "name": "stdout",
          "text": [
            "0\n",
            "1\n",
            "2\n",
            "3\n",
            "4\n"
          ]
        }
      ]
    },
    {
      "cell_type": "code",
      "source": [
        "for i in range(5):\n",
        "  for j in range(5):\n",
        "    print(\"i*j\",sep=\"\\n\",end=\"\")\n",
        "  print()"
      ],
      "metadata": {
        "colab": {
          "base_uri": "https://localhost:8080/"
        },
        "id": "a1X2KuLXvAjt",
        "outputId": "1992a228-291b-4c30-ba76-c4db35c16583"
      },
      "execution_count": 42,
      "outputs": [
        {
          "output_type": "stream",
          "name": "stdout",
          "text": [
            "i*ji*ji*ji*ji*j\n",
            "i*ji*ji*ji*ji*j\n",
            "i*ji*ji*ji*ji*j\n",
            "i*ji*ji*ji*ji*j\n",
            "i*ji*ji*ji*ji*j\n"
          ]
        }
      ]
    },
    {
      "cell_type": "code",
      "source": [
        "for j in range(5):\n",
        "  print(\"*\",end=\"\")"
      ],
      "metadata": {
        "colab": {
          "base_uri": "https://localhost:8080/"
        },
        "id": "rPci5erfvbpJ",
        "outputId": "4852a0a5-8f7f-48a2-c68d-e24eb58b9181"
      },
      "execution_count": 48,
      "outputs": [
        {
          "output_type": "stream",
          "name": "stdout",
          "text": [
            "*****"
          ]
        }
      ]
    },
    {
      "cell_type": "code",
      "source": [
        "for j in range(5):\n",
        "  print(\"*\",sep=\"\")"
      ],
      "metadata": {
        "colab": {
          "base_uri": "https://localhost:8080/"
        },
        "id": "3bx8UkX7wTwu",
        "outputId": "a7db3552-86d6-4694-8459-51bf8ead9432"
      },
      "execution_count": 49,
      "outputs": [
        {
          "output_type": "stream",
          "name": "stdout",
          "text": [
            "*\n",
            "*\n",
            "*\n",
            "*\n",
            "*\n"
          ]
        }
      ]
    },
    {
      "cell_type": "code",
      "source": [
        "for i in range(3):            # 3번 반복. 세로 방향\n",
        "    for j in range(7):        # 7번 반복. 가로 방향\n",
        "        print('*', end='')    # 별 출력. end에 ''를 지정하여 줄바꿈을 하지 않음\n",
        "    print()    # 가로 방향으로 별을 다 그린 뒤 다음 줄로 넘어감\n",
        "               # (print는 출력 후 기본적으로 다음 줄로 넘어감)"
      ],
      "metadata": {
        "colab": {
          "base_uri": "https://localhost:8080/"
        },
        "id": "2O0pw35Kwh9E",
        "outputId": "a3b5befc-b7a7-4711-e3d7-66cf0060a88b"
      },
      "execution_count": 50,
      "outputs": [
        {
          "output_type": "stream",
          "name": "stdout",
          "text": [
            "*******\n",
            "*******\n",
            "*******\n"
          ]
        }
      ]
    },
    {
      "cell_type": "code",
      "source": [
        "for i in range(5):\n",
        "  for j in range(5):\n",
        "    if j <= i: # 세로 방향 변수 i만큼\n",
        "      print(\"*\",end=\"\")\n",
        "  print()"
      ],
      "metadata": {
        "colab": {
          "base_uri": "https://localhost:8080/"
        },
        "id": "BUrM3158w5CP",
        "outputId": "fa5223df-b0df-4658-face-4172c19acba7"
      },
      "execution_count": 59,
      "outputs": [
        {
          "output_type": "stream",
          "name": "stdout",
          "text": [
            "*\n",
            "**\n",
            "***\n",
            "****\n",
            "*****\n"
          ]
        }
      ]
    },
    {
      "cell_type": "code",
      "source": [
        "for i in range(5):        # 0부터 4까지 5번 반복. 세로 방향\n",
        "    for j in range(5):    # 0부터 4까지 5번 반복. 가로 방향\n",
        "        if j == i:                # 세로 방향 변수와 같을 때\n",
        "            print('*', end='')    # 별 출력. end에 ''를 지정하여 줄바꿈을 하지 않음\n",
        "    print()    # 가로 방향으로 별을 다 그린 뒤 다음 줄로 넘어감\n",
        "               # (print는 출력 후 기본적으로 다음 줄로 넘어감)"
      ],
      "metadata": {
        "colab": {
          "base_uri": "https://localhost:8080/"
        },
        "id": "fxYaSLJ1zH73",
        "outputId": "75bc49af-3496-4fbd-8e66-e3aeef25dba6"
      },
      "execution_count": 4,
      "outputs": [
        {
          "output_type": "stream",
          "name": "stdout",
          "text": [
            "*\n",
            "*\n",
            "*\n",
            "*\n",
            "*\n"
          ]
        }
      ]
    },
    {
      "cell_type": "code",
      "source": [
        "for i in range(5):        # 0부터 4까지 5번 반복. 세로 방향\n",
        "    for j in range(5):    # 0부터 4까지 5번 반복. 가로 방향\n",
        "\n",
        "      print(i,j)"
      ],
      "metadata": {
        "colab": {
          "base_uri": "https://localhost:8080/"
        },
        "id": "pUU8Gpnp2IfV",
        "outputId": "fe03edd9-e9e7-4736-e429-71a37f645294"
      },
      "execution_count": 17,
      "outputs": [
        {
          "output_type": "stream",
          "name": "stdout",
          "text": [
            "0 0\n",
            "0 1\n",
            "0 2\n",
            "0 3\n",
            "0 4\n",
            "1 0\n",
            "1 1\n",
            "1 2\n",
            "1 3\n",
            "1 4\n",
            "2 0\n",
            "2 1\n",
            "2 2\n",
            "2 3\n",
            "2 4\n",
            "3 0\n",
            "3 1\n",
            "3 2\n",
            "3 3\n",
            "3 4\n",
            "4 0\n",
            "4 1\n",
            "4 2\n",
            "4 3\n",
            "4 4\n"
          ]
        }
      ]
    },
    {
      "cell_type": "code",
      "source": [
        "for i in range(5):        # 0부터 4까지 5번 반복. 세로 방향\n",
        "    for j in range(5):    # 0부터 4까지 5번 반복. 가로 방향\n",
        "        if j == i:                # 세로 방향 변수와 같을 때\n",
        "            print('*', end='')    # 별 출력. end에 ''를 지정하여 줄바꿈을 하지 않음\n",
        "      "
      ],
      "metadata": {
        "colab": {
          "base_uri": "https://localhost:8080/"
        },
        "id": "GYCPFWFz0Wvs",
        "outputId": "86f90b25-3602-44dc-b87d-4e6696b9f82c"
      },
      "execution_count": 11,
      "outputs": [
        {
          "output_type": "stream",
          "name": "stdout",
          "text": [
            "*****"
          ]
        }
      ]
    },
    {
      "cell_type": "code",
      "source": [
        "for i in range(5):        # 0부터 4까지 5번 반복. 세로 방향\n",
        "    for j in range(5):    # 0부터 4까지 5번 반복. 가로 방향\n",
        "        if j == i:                # 세로 방향 변수와 같을 때\n",
        "            print('*')"
      ],
      "metadata": {
        "colab": {
          "base_uri": "https://localhost:8080/"
        },
        "id": "bMTnCheq5CZ2",
        "outputId": "5c8d896f-843d-4e67-e7fb-ffed7e10af57"
      },
      "execution_count": 19,
      "outputs": [
        {
          "output_type": "stream",
          "name": "stdout",
          "text": [
            "*\n",
            "*\n",
            "*\n",
            "*\n",
            "*\n"
          ]
        }
      ]
    },
    {
      "cell_type": "code",
      "source": [
        "for i in range(5):        # 0부터 4까지 5번 반복. 세로 방향\n",
        "    for j in range(5):    # 0부터 4까지 5번 반복. 가로 방향\n",
        "        if j == i():                # 세로 방향 변수와 같을 때\n",
        "            print('*', end='') \n",
        "               # 별 출력. end에 ''를 지정하여 줄바꿈을 하지 않음\n",
        "        else:                     # 세로 방향 변수와 다를 때\n",
        "            print(' ', end='')    # 공백 출력. end에 ''를 지정하여 줄바꿈을 하지 않음\n",
        "    print()    # 가로 방향으로 별을 다 그린 뒤 다음 줄로 넘어감\n",
        "               # (print는 출력 후 기본적으로 다음 줄로 넘어감)"
      ],
      "metadata": {
        "colab": {
          "base_uri": "https://localhost:8080/"
        },
        "id": "psDHYR15zucu",
        "outputId": "a7488ced-b34e-4be2-95a7-70d5d4e6ee61"
      },
      "execution_count": 24,
      "outputs": [
        {
          "output_type": "stream",
          "name": "stdout",
          "text": [
            "*    \n",
            " *   \n",
            "  *  \n",
            "   * \n",
            "    *\n"
          ]
        }
      ]
    },
    {
      "cell_type": "code",
      "source": [
        "for i in range(5):        # 0부터 4까지 5번 반복. 세로 방향\n",
        "    for j in range(5):    # 0부터 4까지 5번 반복. 가로 방향\n",
        "        if j < i:    \n",
        "          print(' ', end='')            # 세로 방향 변수와 같을 때\n",
        "        else:                     # 세로 방향 변수와 다를 때\n",
        "            print('*', end='')     # 별 출력. end에 ''를 지정하여 줄바꿈을 하지 않음\n",
        "        # 공백 출력. end에 ''를 지정하여 줄바꿈을 하지 않음\n",
        "    print()    # 가로 방향으로 별을 다 그린 뒤 다음 줄로 넘어감\n",
        "               # (print는 출력 후 기본적으로 다음 줄로 넘어감)"
      ],
      "metadata": {
        "colab": {
          "base_uri": "https://localhost:8080/"
        },
        "id": "fGuwuUVOC5S4",
        "outputId": "1d9bc861-933c-4e14-9e35-8bad7a4df267"
      },
      "execution_count": 26,
      "outputs": [
        {
          "output_type": "stream",
          "name": "stdout",
          "text": [
            "*****\n",
            " ****\n",
            "  ***\n",
            "   **\n",
            "    *\n"
          ]
        }
      ]
    },
    {
      "cell_type": "code",
      "source": [
        "count=int(input())\n",
        "for i in range():        # 0부터 4까지 5번 반복. 세로 방향\n",
        "    for j in range(5): \n",
        "      if i+j==i*j:\n",
        "        t=count*'*'\n",
        "        print(t)\n"
      ],
      "metadata": {
        "colab": {
          "base_uri": "https://localhost:8080/"
        },
        "id": "0EhpqAzEC6_h",
        "outputId": "142f2215-1739-4aee-9942-fbb95af8dfef"
      },
      "execution_count": 29,
      "outputs": [
        {
          "output_type": "stream",
          "name": "stdout",
          "text": [
            "2\n",
            "**\n",
            "**\n"
          ]
        }
      ]
    },
    {
      "cell_type": "code",
      "source": [
        "#변수 height에 수를 입력받아 int형으로 변환하여 저장 \n",
        "height=int(input())\n",
        "#행은  0 ~ height-1까지\n",
        "for i in range(height):\n",
        "    #열은  height-1 ~ 0까지(reversed를 사용함)\n",
        "    for j in reversed(range(height)):\n",
        "        #만약 열의 값이 행보다 크면 공백을 출력\n",
        "        if j > i:\n",
        "            print(' ', end='')\n",
        "        #위 조건과 다르면 별을 출력\n",
        "        else:\n",
        "            print('*', end='')\n",
        "    #열은  0 ~ height-1까지\n",
        "    for j in range(height):\n",
        "            #만약 열의 값이 행보다 작으면 별을 출력\n",
        "            if j < i:\n",
        "                print('*', end='')\n",
        "    #개행\n",
        "    print()"
      ],
      "metadata": {
        "colab": {
          "base_uri": "https://localhost:8080/"
        },
        "id": "wyLoWRVmFLzI",
        "outputId": "825c879c-7374-4345-ebbb-2b94f52a159d"
      },
      "execution_count": 30,
      "outputs": [
        {
          "output_type": "stream",
          "name": "stdout",
          "text": [
            "9\n",
            "        *\n",
            "       ***\n",
            "      *****\n",
            "     *******\n",
            "    *********\n",
            "   ***********\n",
            "  *************\n",
            " ***************\n",
            "*****************\n"
          ]
        }
      ]
    },
    {
      "cell_type": "markdown",
      "source": [
        "### unit 19까지\n"
      ],
      "metadata": {
        "id": "mUYGfkNuKZv8"
      }
    }
  ]
}