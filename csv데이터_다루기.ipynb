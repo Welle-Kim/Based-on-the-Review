{
  "nbformat": 4,
  "nbformat_minor": 0,
  "metadata": {
    "colab": {
      "name": "csv데이터 다루기.ipynb",
      "provenance": [],
      "toc_visible": true,
      "authorship_tag": "ABX9TyP4j+4WMMozF0VtPoOooMfG",
      "include_colab_link": true
    },
    "kernelspec": {
      "name": "python3",
      "display_name": "Python 3"
    },
    "language_info": {
      "name": "python"
    }
  },
  "cells": [
    {
      "cell_type": "markdown",
      "metadata": {
        "id": "view-in-github",
        "colab_type": "text"
      },
      "source": [
        "<a href=\"https://colab.research.google.com/github/Welle-Kim/Based-on-the-Review/blob/master/csv%EB%8D%B0%EC%9D%B4%ED%84%B0_%EB%8B%A4%EB%A3%A8%EA%B8%B0.ipynb\" target=\"_parent\"><img src=\"https://colab.research.google.com/assets/colab-badge.svg\" alt=\"Open In Colab\"/></a>"
      ]
    },
    {
      "cell_type": "code",
      "execution_count": 17,
      "metadata": {
        "colab": {
          "base_uri": "https://localhost:8080/"
        },
        "id": "yuUadhFfT2qi",
        "outputId": "315301dd-027f-4a66-dc41-c02f4b3a6c89"
      },
      "outputs": [
        {
          "output_type": "stream",
          "name": "stdout",
          "text": [
            "Reading package lists... Done\n",
            "Building dependency tree       \n",
            "Reading state information... Done\n",
            "fonts-nanum is already the newest version (20170925-1).\n",
            "The following package was automatically installed and is no longer required:\n",
            "  libnvidia-common-460\n",
            "Use 'sudo apt autoremove' to remove it.\n",
            "0 upgraded, 0 newly installed, 0 to remove and 49 not upgraded.\n",
            "/usr/share/fonts: caching, new cache contents: 0 fonts, 1 dirs\n",
            "/usr/share/fonts/truetype: caching, new cache contents: 0 fonts, 3 dirs\n",
            "/usr/share/fonts/truetype/humor-sans: caching, new cache contents: 1 fonts, 0 dirs\n",
            "/usr/share/fonts/truetype/liberation: caching, new cache contents: 16 fonts, 0 dirs\n",
            "/usr/share/fonts/truetype/nanum: caching, new cache contents: 10 fonts, 0 dirs\n",
            "/usr/local/share/fonts: caching, new cache contents: 0 fonts, 0 dirs\n",
            "/root/.local/share/fonts: skipping, no such directory\n",
            "/root/.fonts: skipping, no such directory\n",
            "/var/cache/fontconfig: cleaning cache directory\n",
            "/root/.cache/fontconfig: not cleaning non-existent cache directory\n",
            "/root/.fontconfig: not cleaning non-existent cache directory\n",
            "fc-cache: succeeded\n"
          ]
        }
      ],
      "source": [
        "#코랩에서 한글사용하기\n",
        "!sudo apt-get install -y fonts-nanum\n",
        "!sudo fc-cache -fv\n",
        "!rm ~/.cache/matplotlib -rf"
      ]
    },
    {
      "cell_type": "code",
      "source": [
        "# 런타임 재시작\n",
        "import os\n",
        "os.kill(os.getpid(), 9)"
      ],
      "metadata": {
        "id": "CjFRx_LNT8LQ"
      },
      "execution_count": null,
      "outputs": []
    },
    {
      "cell_type": "code",
      "source": [
        "from google.colab import files\n",
        "files.upload()"
      ],
      "metadata": {
        "id": "GJhZHYnMUIAQ"
      },
      "execution_count": null,
      "outputs": []
    },
    {
      "cell_type": "code",
      "source": [
        "import csv\n",
        "import time"
      ],
      "metadata": {
        "id": "X04ZWT_mUQUO"
      },
      "execution_count": 1,
      "outputs": []
    },
    {
      "cell_type": "code",
      "source": [
        "strt=time.time()\n",
        "\n",
        "f=open(\"seoul_weather.csv\",encoding=\"cp949\")\n",
        "data=csv.reader(f)\n",
        "header=next(data)\n",
        "print(header,\"\\n\")\n",
        "\n",
        "\n",
        "# \"최고기온\" 중 가장 높은 온도값/해당 온도의 \"일시\"를 출력\n",
        "# 일자별 최고 온도 찾기 = > 이 온도의 날짜 가져오기\n",
        "\n",
        "max_temp=-999 # 최고 온도를 계산하기 위한 변수(최초 -999 부여)\n",
        "max_date=\"\" # 최고 온도를 찾았을때 날짜를 저장할 변수\n",
        "\n",
        "for row in data:\n",
        "  # row 값 => ['서울', '1907-10-01', '13.5', '7.9', '20.7']\n",
        "  try:\n",
        "    row[-1]=float(row[-1]) # row의 마지막 데이터(최고기온)의 dtype => 실수형으로 변경\n",
        "    if max_temp<row[-1]:  # 현재 최고온도가 기본 최고온도보다 높다면 기본온도 변경\n",
        "      max_temp=row[-1]\n",
        "      max_date = row[1]\n",
        "  except:\n",
        "    continue\n",
        "    # row[-1] = -999\n",
        "    #print(f\"row[-1]에 입력된 값:{row[-1]}입니다.\")\n",
        "\n",
        "f.close()\n",
        "\n",
        "print(f\"기상관측을 시작한 이래 서울의 최고기온은 {max_temp}이고,날짜는 {max_date}입니다.\")\n",
        "\n",
        "endt=time.time()\n",
        "print(endt-strt)"
      ],
      "metadata": {
        "colab": {
          "base_uri": "https://localhost:8080/"
        },
        "id": "arKlEHvQVswl",
        "outputId": "bd095bb5-34d3-47c0-9369-46cbd414988d"
      },
      "execution_count": 2,
      "outputs": [
        {
          "output_type": "stream",
          "name": "stdout",
          "text": [
            "['지점명', '일시', '평균기온(℃)', '최저기온(℃)', '최고기온(℃)'] \n",
            "\n",
            "기상관측을 시작한 이래 서울의 최고기온은 39.6이고,날짜는 2018-08-01입니다.\n",
            "0.31340885162353516\n"
          ]
        }
      ]
    },
    {
      "cell_type": "markdown",
      "source": [
        "###pandas 모듈 이용하기"
      ],
      "metadata": {
        "id": "5zw0A6kadlLc"
      }
    },
    {
      "cell_type": "code",
      "source": [
        "# 모듈 연결 및 파일 읽기\n",
        "import pandas as pd\n",
        "df=pd.read_csv(\"seoul_weather.csv\",encoding=\"cp949\")\n",
        "df.info()"
      ],
      "metadata": {
        "colab": {
          "base_uri": "https://localhost:8080/"
        },
        "id": "VL51Kh4XdoZk",
        "outputId": "28a0c3af-149a-471b-f5ee-35ac31392a04"
      },
      "execution_count": 3,
      "outputs": [
        {
          "output_type": "stream",
          "name": "stdout",
          "text": [
            "<class 'pandas.core.frame.DataFrame'>\n",
            "RangeIndex: 41382 entries, 0 to 41381\n",
            "Data columns (total 5 columns):\n",
            " #   Column   Non-Null Count  Dtype  \n",
            "---  ------   --------------  -----  \n",
            " 0   지점명      41382 non-null  object \n",
            " 1   일시       41382 non-null  object \n",
            " 2   평균기온(℃)  40626 non-null  float64\n",
            " 3   최저기온(℃)  40625 non-null  float64\n",
            " 4   최고기온(℃)  40624 non-null  float64\n",
            "dtypes: float64(3), object(2)\n",
            "memory usage: 1.6+ MB\n"
          ]
        }
      ]
    },
    {
      "cell_type": "code",
      "source": [
        "# 결측지(NaN) 처리 => 한행에 3개이상 존재하면 해당 행 삭제\n",
        "print(df.isna().sum()) # 각 필드(열)별 NaN 갯수 확인(삭제전)\n",
        "\n",
        "df=df.dropna(thresh=3)\n",
        "print(df.isna().sum()) #삭제후"
      ],
      "metadata": {
        "colab": {
          "base_uri": "https://localhost:8080/"
        },
        "id": "xw-Z4w7gdyHQ",
        "outputId": "51263eb5-dc0c-4feb-ec0b-1422d0f49dae"
      },
      "execution_count": 4,
      "outputs": [
        {
          "output_type": "stream",
          "name": "stdout",
          "text": [
            "지점명          0\n",
            "일시           0\n",
            "평균기온(℃)    756\n",
            "최저기온(℃)    757\n",
            "최고기온(℃)    758\n",
            "dtype: int64\n",
            "지점명        0\n",
            "일시         0\n",
            "평균기온(℃)    0\n",
            "최저기온(℃)    1\n",
            "최고기온(℃)    2\n",
            "dtype: int64\n"
          ]
        }
      ]
    },
    {
      "cell_type": "code",
      "source": [
        "# NaN이 2개 이하인 데이터는 아래와 같이 바로 앞 또는 뒤 행의 값으로 채우기\n",
        "\n",
        "# 결측값의 앞 행의 값으로 채우기 : df.fillna(method='ffill') *\n",
        "# 결측값의 뒷 행의 값으로 채우기 : df.fillna(method='bfill')\n",
        "# 각 열의 평균 값으로 채우기 : df.fillna(df.mean())\n",
        "\n",
        "df=df.fillna(method=\"ffill\")\n",
        "print(df.isna().sum())"
      ],
      "metadata": {
        "id": "vdfXHRPWeTW8",
        "colab": {
          "base_uri": "https://localhost:8080/"
        },
        "outputId": "4441318c-bd8e-4ea1-b0a8-aaa02514fdff"
      },
      "execution_count": 6,
      "outputs": [
        {
          "output_type": "stream",
          "name": "stdout",
          "text": [
            "지점명        0\n",
            "일시         0\n",
            "평균기온(℃)    0\n",
            "최저기온(℃)    0\n",
            "최고기온(℃)    0\n",
            "dtype: int64\n"
          ]
        }
      ]
    },
    {
      "cell_type": "code",
      "source": [
        "df"
      ],
      "metadata": {
        "colab": {
          "base_uri": "https://localhost:8080/",
          "height": 424
        },
        "id": "8KKLac0bj9m4",
        "outputId": "09b60f14-55bb-41f5-ae38-75d3ad6c98aa"
      },
      "execution_count": 8,
      "outputs": [
        {
          "output_type": "execute_result",
          "data": {
            "text/plain": [
              "      지점명          일시  평균기온(℃)  최저기온(℃)  최고기온(℃)\n",
              "0      서울  1907-10-01     13.5      7.9     20.7\n",
              "1      서울  1907-10-02     16.2      7.9     22.0\n",
              "2      서울  1907-10-03     16.2     13.1     21.3\n",
              "3      서울  1907-10-04     16.5     11.2     22.0\n",
              "4      서울  1907-10-05     17.6     10.9     25.4\n",
              "...    ..         ...      ...      ...      ...\n",
              "41377  서울  2022-03-09      7.1      1.7     14.8\n",
              "41378  서울  2022-03-10      9.3      4.2     15.8\n",
              "41379  서울  2022-03-11     11.2      5.1     18.4\n",
              "41380  서울  2022-03-12     12.8      6.3     19.5\n",
              "41381  서울  2022-03-13     11.7     10.7     12.6\n",
              "\n",
              "[40626 rows x 5 columns]"
            ],
            "text/html": [
              "\n",
              "  <div id=\"df-62fdc1a4-6af6-4412-b16f-060f0f47a5c2\">\n",
              "    <div class=\"colab-df-container\">\n",
              "      <div>\n",
              "<style scoped>\n",
              "    .dataframe tbody tr th:only-of-type {\n",
              "        vertical-align: middle;\n",
              "    }\n",
              "\n",
              "    .dataframe tbody tr th {\n",
              "        vertical-align: top;\n",
              "    }\n",
              "\n",
              "    .dataframe thead th {\n",
              "        text-align: right;\n",
              "    }\n",
              "</style>\n",
              "<table border=\"1\" class=\"dataframe\">\n",
              "  <thead>\n",
              "    <tr style=\"text-align: right;\">\n",
              "      <th></th>\n",
              "      <th>지점명</th>\n",
              "      <th>일시</th>\n",
              "      <th>평균기온(℃)</th>\n",
              "      <th>최저기온(℃)</th>\n",
              "      <th>최고기온(℃)</th>\n",
              "    </tr>\n",
              "  </thead>\n",
              "  <tbody>\n",
              "    <tr>\n",
              "      <th>0</th>\n",
              "      <td>서울</td>\n",
              "      <td>1907-10-01</td>\n",
              "      <td>13.5</td>\n",
              "      <td>7.9</td>\n",
              "      <td>20.7</td>\n",
              "    </tr>\n",
              "    <tr>\n",
              "      <th>1</th>\n",
              "      <td>서울</td>\n",
              "      <td>1907-10-02</td>\n",
              "      <td>16.2</td>\n",
              "      <td>7.9</td>\n",
              "      <td>22.0</td>\n",
              "    </tr>\n",
              "    <tr>\n",
              "      <th>2</th>\n",
              "      <td>서울</td>\n",
              "      <td>1907-10-03</td>\n",
              "      <td>16.2</td>\n",
              "      <td>13.1</td>\n",
              "      <td>21.3</td>\n",
              "    </tr>\n",
              "    <tr>\n",
              "      <th>3</th>\n",
              "      <td>서울</td>\n",
              "      <td>1907-10-04</td>\n",
              "      <td>16.5</td>\n",
              "      <td>11.2</td>\n",
              "      <td>22.0</td>\n",
              "    </tr>\n",
              "    <tr>\n",
              "      <th>4</th>\n",
              "      <td>서울</td>\n",
              "      <td>1907-10-05</td>\n",
              "      <td>17.6</td>\n",
              "      <td>10.9</td>\n",
              "      <td>25.4</td>\n",
              "    </tr>\n",
              "    <tr>\n",
              "      <th>...</th>\n",
              "      <td>...</td>\n",
              "      <td>...</td>\n",
              "      <td>...</td>\n",
              "      <td>...</td>\n",
              "      <td>...</td>\n",
              "    </tr>\n",
              "    <tr>\n",
              "      <th>41377</th>\n",
              "      <td>서울</td>\n",
              "      <td>2022-03-09</td>\n",
              "      <td>7.1</td>\n",
              "      <td>1.7</td>\n",
              "      <td>14.8</td>\n",
              "    </tr>\n",
              "    <tr>\n",
              "      <th>41378</th>\n",
              "      <td>서울</td>\n",
              "      <td>2022-03-10</td>\n",
              "      <td>9.3</td>\n",
              "      <td>4.2</td>\n",
              "      <td>15.8</td>\n",
              "    </tr>\n",
              "    <tr>\n",
              "      <th>41379</th>\n",
              "      <td>서울</td>\n",
              "      <td>2022-03-11</td>\n",
              "      <td>11.2</td>\n",
              "      <td>5.1</td>\n",
              "      <td>18.4</td>\n",
              "    </tr>\n",
              "    <tr>\n",
              "      <th>41380</th>\n",
              "      <td>서울</td>\n",
              "      <td>2022-03-12</td>\n",
              "      <td>12.8</td>\n",
              "      <td>6.3</td>\n",
              "      <td>19.5</td>\n",
              "    </tr>\n",
              "    <tr>\n",
              "      <th>41381</th>\n",
              "      <td>서울</td>\n",
              "      <td>2022-03-13</td>\n",
              "      <td>11.7</td>\n",
              "      <td>10.7</td>\n",
              "      <td>12.6</td>\n",
              "    </tr>\n",
              "  </tbody>\n",
              "</table>\n",
              "<p>40626 rows × 5 columns</p>\n",
              "</div>\n",
              "      <button class=\"colab-df-convert\" onclick=\"convertToInteractive('df-62fdc1a4-6af6-4412-b16f-060f0f47a5c2')\"\n",
              "              title=\"Convert this dataframe to an interactive table.\"\n",
              "              style=\"display:none;\">\n",
              "        \n",
              "  <svg xmlns=\"http://www.w3.org/2000/svg\" height=\"24px\"viewBox=\"0 0 24 24\"\n",
              "       width=\"24px\">\n",
              "    <path d=\"M0 0h24v24H0V0z\" fill=\"none\"/>\n",
              "    <path d=\"M18.56 5.44l.94 2.06.94-2.06 2.06-.94-2.06-.94-.94-2.06-.94 2.06-2.06.94zm-11 1L8.5 8.5l.94-2.06 2.06-.94-2.06-.94L8.5 2.5l-.94 2.06-2.06.94zm10 10l.94 2.06.94-2.06 2.06-.94-2.06-.94-.94-2.06-.94 2.06-2.06.94z\"/><path d=\"M17.41 7.96l-1.37-1.37c-.4-.4-.92-.59-1.43-.59-.52 0-1.04.2-1.43.59L10.3 9.45l-7.72 7.72c-.78.78-.78 2.05 0 2.83L4 21.41c.39.39.9.59 1.41.59.51 0 1.02-.2 1.41-.59l7.78-7.78 2.81-2.81c.8-.78.8-2.07 0-2.86zM5.41 20L4 18.59l7.72-7.72 1.47 1.35L5.41 20z\"/>\n",
              "  </svg>\n",
              "      </button>\n",
              "      \n",
              "  <style>\n",
              "    .colab-df-container {\n",
              "      display:flex;\n",
              "      flex-wrap:wrap;\n",
              "      gap: 12px;\n",
              "    }\n",
              "\n",
              "    .colab-df-convert {\n",
              "      background-color: #E8F0FE;\n",
              "      border: none;\n",
              "      border-radius: 50%;\n",
              "      cursor: pointer;\n",
              "      display: none;\n",
              "      fill: #1967D2;\n",
              "      height: 32px;\n",
              "      padding: 0 0 0 0;\n",
              "      width: 32px;\n",
              "    }\n",
              "\n",
              "    .colab-df-convert:hover {\n",
              "      background-color: #E2EBFA;\n",
              "      box-shadow: 0px 1px 2px rgba(60, 64, 67, 0.3), 0px 1px 3px 1px rgba(60, 64, 67, 0.15);\n",
              "      fill: #174EA6;\n",
              "    }\n",
              "\n",
              "    [theme=dark] .colab-df-convert {\n",
              "      background-color: #3B4455;\n",
              "      fill: #D2E3FC;\n",
              "    }\n",
              "\n",
              "    [theme=dark] .colab-df-convert:hover {\n",
              "      background-color: #434B5C;\n",
              "      box-shadow: 0px 1px 3px 1px rgba(0, 0, 0, 0.15);\n",
              "      filter: drop-shadow(0px 1px 2px rgba(0, 0, 0, 0.3));\n",
              "      fill: #FFFFFF;\n",
              "    }\n",
              "  </style>\n",
              "\n",
              "      <script>\n",
              "        const buttonEl =\n",
              "          document.querySelector('#df-62fdc1a4-6af6-4412-b16f-060f0f47a5c2 button.colab-df-convert');\n",
              "        buttonEl.style.display =\n",
              "          google.colab.kernel.accessAllowed ? 'block' : 'none';\n",
              "\n",
              "        async function convertToInteractive(key) {\n",
              "          const element = document.querySelector('#df-62fdc1a4-6af6-4412-b16f-060f0f47a5c2');\n",
              "          const dataTable =\n",
              "            await google.colab.kernel.invokeFunction('convertToInteractive',\n",
              "                                                     [key], {});\n",
              "          if (!dataTable) return;\n",
              "\n",
              "          const docLinkHtml = 'Like what you see? Visit the ' +\n",
              "            '<a target=\"_blank\" href=https://colab.research.google.com/notebooks/data_table.ipynb>data table notebook</a>'\n",
              "            + ' to learn more about interactive tables.';\n",
              "          element.innerHTML = '';\n",
              "          dataTable['output_type'] = 'display_data';\n",
              "          await google.colab.output.renderOutput(dataTable, element);\n",
              "          const docLink = document.createElement('div');\n",
              "          docLink.innerHTML = docLinkHtml;\n",
              "          element.appendChild(docLink);\n",
              "        }\n",
              "      </script>\n",
              "    </div>\n",
              "  </div>\n",
              "  "
            ]
          },
          "metadata": {},
          "execution_count": 8
        }
      ]
    },
    {
      "cell_type": "code",
      "source": [
        "df1"
      ],
      "metadata": {
        "colab": {
          "base_uri": "https://localhost:8080/",
          "height": 81
        },
        "id": "b2Za5ffpkSBV",
        "outputId": "deadcc5e-18bc-4027-f1d5-7eea373ae27b"
      },
      "execution_count": 10,
      "outputs": [
        {
          "output_type": "execute_result",
          "data": {
            "text/plain": [
              "               일시  최고기온(℃)\n",
              "40051  2018-08-01     39.6"
            ],
            "text/html": [
              "\n",
              "  <div id=\"df-f81e4070-4b66-49b3-a4f6-f769a9d4b61a\">\n",
              "    <div class=\"colab-df-container\">\n",
              "      <div>\n",
              "<style scoped>\n",
              "    .dataframe tbody tr th:only-of-type {\n",
              "        vertical-align: middle;\n",
              "    }\n",
              "\n",
              "    .dataframe tbody tr th {\n",
              "        vertical-align: top;\n",
              "    }\n",
              "\n",
              "    .dataframe thead th {\n",
              "        text-align: right;\n",
              "    }\n",
              "</style>\n",
              "<table border=\"1\" class=\"dataframe\">\n",
              "  <thead>\n",
              "    <tr style=\"text-align: right;\">\n",
              "      <th></th>\n",
              "      <th>일시</th>\n",
              "      <th>최고기온(℃)</th>\n",
              "    </tr>\n",
              "  </thead>\n",
              "  <tbody>\n",
              "    <tr>\n",
              "      <th>40051</th>\n",
              "      <td>2018-08-01</td>\n",
              "      <td>39.6</td>\n",
              "    </tr>\n",
              "  </tbody>\n",
              "</table>\n",
              "</div>\n",
              "      <button class=\"colab-df-convert\" onclick=\"convertToInteractive('df-f81e4070-4b66-49b3-a4f6-f769a9d4b61a')\"\n",
              "              title=\"Convert this dataframe to an interactive table.\"\n",
              "              style=\"display:none;\">\n",
              "        \n",
              "  <svg xmlns=\"http://www.w3.org/2000/svg\" height=\"24px\"viewBox=\"0 0 24 24\"\n",
              "       width=\"24px\">\n",
              "    <path d=\"M0 0h24v24H0V0z\" fill=\"none\"/>\n",
              "    <path d=\"M18.56 5.44l.94 2.06.94-2.06 2.06-.94-2.06-.94-.94-2.06-.94 2.06-2.06.94zm-11 1L8.5 8.5l.94-2.06 2.06-.94-2.06-.94L8.5 2.5l-.94 2.06-2.06.94zm10 10l.94 2.06.94-2.06 2.06-.94-2.06-.94-.94-2.06-.94 2.06-2.06.94z\"/><path d=\"M17.41 7.96l-1.37-1.37c-.4-.4-.92-.59-1.43-.59-.52 0-1.04.2-1.43.59L10.3 9.45l-7.72 7.72c-.78.78-.78 2.05 0 2.83L4 21.41c.39.39.9.59 1.41.59.51 0 1.02-.2 1.41-.59l7.78-7.78 2.81-2.81c.8-.78.8-2.07 0-2.86zM5.41 20L4 18.59l7.72-7.72 1.47 1.35L5.41 20z\"/>\n",
              "  </svg>\n",
              "      </button>\n",
              "      \n",
              "  <style>\n",
              "    .colab-df-container {\n",
              "      display:flex;\n",
              "      flex-wrap:wrap;\n",
              "      gap: 12px;\n",
              "    }\n",
              "\n",
              "    .colab-df-convert {\n",
              "      background-color: #E8F0FE;\n",
              "      border: none;\n",
              "      border-radius: 50%;\n",
              "      cursor: pointer;\n",
              "      display: none;\n",
              "      fill: #1967D2;\n",
              "      height: 32px;\n",
              "      padding: 0 0 0 0;\n",
              "      width: 32px;\n",
              "    }\n",
              "\n",
              "    .colab-df-convert:hover {\n",
              "      background-color: #E2EBFA;\n",
              "      box-shadow: 0px 1px 2px rgba(60, 64, 67, 0.3), 0px 1px 3px 1px rgba(60, 64, 67, 0.15);\n",
              "      fill: #174EA6;\n",
              "    }\n",
              "\n",
              "    [theme=dark] .colab-df-convert {\n",
              "      background-color: #3B4455;\n",
              "      fill: #D2E3FC;\n",
              "    }\n",
              "\n",
              "    [theme=dark] .colab-df-convert:hover {\n",
              "      background-color: #434B5C;\n",
              "      box-shadow: 0px 1px 3px 1px rgba(0, 0, 0, 0.15);\n",
              "      filter: drop-shadow(0px 1px 2px rgba(0, 0, 0, 0.3));\n",
              "      fill: #FFFFFF;\n",
              "    }\n",
              "  </style>\n",
              "\n",
              "      <script>\n",
              "        const buttonEl =\n",
              "          document.querySelector('#df-f81e4070-4b66-49b3-a4f6-f769a9d4b61a button.colab-df-convert');\n",
              "        buttonEl.style.display =\n",
              "          google.colab.kernel.accessAllowed ? 'block' : 'none';\n",
              "\n",
              "        async function convertToInteractive(key) {\n",
              "          const element = document.querySelector('#df-f81e4070-4b66-49b3-a4f6-f769a9d4b61a');\n",
              "          const dataTable =\n",
              "            await google.colab.kernel.invokeFunction('convertToInteractive',\n",
              "                                                     [key], {});\n",
              "          if (!dataTable) return;\n",
              "\n",
              "          const docLinkHtml = 'Like what you see? Visit the ' +\n",
              "            '<a target=\"_blank\" href=https://colab.research.google.com/notebooks/data_table.ipynb>data table notebook</a>'\n",
              "            + ' to learn more about interactive tables.';\n",
              "          element.innerHTML = '';\n",
              "          dataTable['output_type'] = 'display_data';\n",
              "          await google.colab.output.renderOutput(dataTable, element);\n",
              "          const docLink = document.createElement('div');\n",
              "          docLink.innerHTML = docLinkHtml;\n",
              "          element.appendChild(docLink);\n",
              "        }\n",
              "      </script>\n",
              "    </div>\n",
              "  </div>\n",
              "  "
            ]
          },
          "metadata": {},
          "execution_count": 10
        }
      ]
    },
    {
      "cell_type": "code",
      "source": [
        "df1=df[df['최고기온(℃)'] == df['최고기온(℃)'].max()][[\"일시\", \"최고기온(℃)\"]]\n",
        "print(f\"기상관측을 시작한 이래 서울의 최고 기온은 {df1.iloc[0, 1]}이고, 날짜는 {df1.iloc[0, 0]} 입니다.\")"
      ],
      "metadata": {
        "colab": {
          "base_uri": "https://localhost:8080/"
        },
        "id": "Pke2MJUwjQib",
        "outputId": "b53aa221-c9b9-4302-c0a4-9dc92ceebd1e"
      },
      "execution_count": 9,
      "outputs": [
        {
          "output_type": "stream",
          "name": "stdout",
          "text": [
            "기상관측을 시작한 이래 서울의 최고 기온은 39.6이고, 날짜는 2018-08-01 입니다.\n"
          ]
        }
      ]
    },
    {
      "cell_type": "code",
      "source": [
        "#전체 마무리\n",
        "\n",
        "strt=time.time()\n",
        "\n",
        "df = pd.read_csv(\"seoul_weather.csv\", encoding=\"cp949\")\n",
        "df.info()\n",
        "\n",
        "# 결측지(NaN) 처리 => 한행에 3개이상 존재하면 해당 행 삭제\n",
        "print(df.isna().sum())   # 각 필드(열)별 NaN 갯수 확인(삭제전)\n",
        "\n",
        "df=df.dropna(thresh=3)\n",
        "print(df.isna().sum())   # 삭제후\n",
        "df=df.fillna(method='ffill')\n",
        "print(df.isna().sum())  \n",
        "\n",
        "df1=df[df['최고기온(℃)'] == df['최고기온(℃)'].max()][[\"일시\", \"최고기온(℃)\"]]\n",
        "print(f\"기상관측을 시작한 이래 서울의 최고 기온은 {df1.iloc[0, 1]}이고, 날짜는 {df1.iloc[0, 0]} 입니다.\")\n",
        "\n",
        "endt=time.time()\n",
        "print(endt-strt)"
      ],
      "metadata": {
        "colab": {
          "base_uri": "https://localhost:8080/"
        },
        "id": "fiW72uyJja3C",
        "outputId": "ce4d28d4-d66b-46f6-c380-937b3d143711"
      },
      "execution_count": 13,
      "outputs": [
        {
          "output_type": "stream",
          "name": "stdout",
          "text": [
            "<class 'pandas.core.frame.DataFrame'>\n",
            "RangeIndex: 41382 entries, 0 to 41381\n",
            "Data columns (total 5 columns):\n",
            " #   Column   Non-Null Count  Dtype  \n",
            "---  ------   --------------  -----  \n",
            " 0   지점명      41382 non-null  object \n",
            " 1   일시       41382 non-null  object \n",
            " 2   평균기온(℃)  40626 non-null  float64\n",
            " 3   최저기온(℃)  40625 non-null  float64\n",
            " 4   최고기온(℃)  40624 non-null  float64\n",
            "dtypes: float64(3), object(2)\n",
            "memory usage: 1.6+ MB\n",
            "지점명          0\n",
            "일시           0\n",
            "평균기온(℃)    756\n",
            "최저기온(℃)    757\n",
            "최고기온(℃)    758\n",
            "dtype: int64\n",
            "지점명        0\n",
            "일시         0\n",
            "평균기온(℃)    0\n",
            "최저기온(℃)    1\n",
            "최고기온(℃)    2\n",
            "dtype: int64\n",
            "지점명        0\n",
            "일시         0\n",
            "평균기온(℃)    0\n",
            "최저기온(℃)    0\n",
            "최고기온(℃)    0\n",
            "dtype: int64\n",
            "기상관측을 시작한 이래 서울의 최고 기온은 39.6이고, 날짜는 2018-08-01 입니다.\n",
            "0.18912243843078613\n"
          ]
        }
      ]
    }
  ]
}