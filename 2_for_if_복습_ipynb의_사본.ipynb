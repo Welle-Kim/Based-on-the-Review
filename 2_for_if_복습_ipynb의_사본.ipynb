{
  "nbformat": 4,
  "nbformat_minor": 0,
  "metadata": {
    "colab": {
      "name": "2. for_if 복습.ipynb의 사본",
      "provenance": [],
      "collapsed_sections": [],
      "include_colab_link": true
    },
    "kernelspec": {
      "name": "python3",
      "display_name": "Python 3"
    },
    "language_info": {
      "name": "python"
    }
  },
  "cells": [
    {
      "cell_type": "markdown",
      "metadata": {
        "id": "view-in-github",
        "colab_type": "text"
      },
      "source": [
        "<a href=\"https://colab.research.google.com/github/Welle-Kim/Based-on-the-Review/blob/master/2_for_if_%EB%B3%B5%EC%8A%B5_ipynb%EC%9D%98_%EC%82%AC%EB%B3%B8.ipynb\" target=\"_parent\"><img src=\"https://colab.research.google.com/assets/colab-badge.svg\" alt=\"Open In Colab\"/></a>"
      ]
    },
    {
      "cell_type": "markdown",
      "source": [
        "## for & range\n",
        "- for 매개변수 in range(숫자):\n",
        "       0에서 숫자-1 의 횟수만큼 for안의 구문을 반복함\n",
        "- for 매개변수 in range(시작숫자,끝숫자):\n",
        "      시작숫자에서 끝숫자-1 번 횟수만큼 for 구문을 반복함\n"
      ],
      "metadata": {
        "id": "SUgG24ReXfzW"
      }
    },
    {
      "cell_type": "code",
      "source": [
        "# '연습' 이라는 단어를 0번,1번,2번,3번,4번 출력함.\n",
        "for i in range(5):\n",
        "  print('연습')\n",
        "\n",
        "# \\n한개는  enter한번임\n",
        "print('\\n--- 위의 구문을 압축기법(comprehension) 으로 표현하는 아래와 같음--')\n",
        "['연습' for i in range(5)]"
      ],
      "metadata": {
        "colab": {
          "base_uri": "https://localhost:8080/"
        },
        "id": "HAPb59bhXkTf",
        "outputId": "2ecbe1ba-2a2c-4578-ed81-6de351798324"
      },
      "execution_count": 53,
      "outputs": [
        {
          "output_type": "stream",
          "name": "stdout",
          "text": [
            "연습\n",
            "연습\n",
            "연습\n",
            "연습\n",
            "연습\n",
            "\n",
            "--- 위의 구문을 압축기법(comprehension) 으로 표현하는 아래와 같음--\n"
          ]
        },
        {
          "output_type": "execute_result",
          "data": {
            "text/plain": [
              "['연습', '연습', '연습', '연습', '연습']"
            ]
          },
          "metadata": {},
          "execution_count": 53
        }
      ]
    },
    {
      "cell_type": "code",
      "source": [
        "# range(5)의 0,1,2,3,4를 i에 할당함\n",
        "for i in range(5):\n",
        "  print(i)\n",
        "\n",
        "print('\\n--- 위의 구문을 압축기법(comprehension) 으로 표현하는 아래와 같음--')\n",
        "[i for i in range(5)]\n",
        "\n"
      ],
      "metadata": {
        "colab": {
          "base_uri": "https://localhost:8080/"
        },
        "id": "yFDek6lDZARn",
        "outputId": "184fcba8-4046-4de6-f882-e89760caf2eb"
      },
      "execution_count": 54,
      "outputs": [
        {
          "output_type": "stream",
          "name": "stdout",
          "text": [
            "0\n",
            "1\n",
            "2\n",
            "3\n",
            "4\n",
            "\n",
            "--- 위의 구문을 압축기법(comprehension) 으로 표현하는 아래와 같음--\n"
          ]
        },
        {
          "output_type": "execute_result",
          "data": {
            "text/plain": [
              "[0, 1, 2, 3, 4]"
            ]
          },
          "metadata": {},
          "execution_count": 54
        }
      ]
    },
    {
      "cell_type": "code",
      "source": [
        "from typing import Counter\n",
        "#########################\n",
        "##### [미션]\n",
        "##### 2~3번의 for를 압축기법으로 한줄로 작성\n",
        "########################\n",
        "\n",
        "\n",
        "[\"연습\"*i for i in range(5)]\n"
      ],
      "metadata": {
        "id": "YvdR3SXULLSy",
        "colab": {
          "base_uri": "https://localhost:8080/"
        },
        "outputId": "acc4a35d-edc7-441f-a933-f6c97f348e02"
      },
      "execution_count": 100,
      "outputs": [
        {
          "output_type": "execute_result",
          "data": {
            "text/plain": [
              "['', '연습', '연습연습', '연습연습연습', '연습연습연습연습']"
            ]
          },
          "metadata": {},
          "execution_count": 100
        }
      ]
    },
    {
      "cell_type": "code",
      "source": [
        "## range구문을 이용하여서 로또번호 6개 숫자를 고름\n",
        "##  0번index에 로또번호1, 1번index에 로또번호2, 2번index에 로또번호3.......5번index에 로또번호 6\n",
        "## range는 반복횟수임.\n",
        "import random\n",
        "lotto=[]\n",
        "for i in range(6):\n",
        "  lotto.append(random.randrange(1,45))\n",
        "\n",
        "print(lotto)    # 중복값이 있을수 있음.\n",
        "print(set(lotto))  # 중복제거해서 보여주기"
      ],
      "metadata": {
        "colab": {
          "base_uri": "https://localhost:8080/"
        },
        "id": "4z30oaw_ZT7S",
        "outputId": "920be0d5-a1e8-4df0-9f9c-77a2c26d0fe7"
      },
      "execution_count": 73,
      "outputs": [
        {
          "output_type": "stream",
          "name": "stdout",
          "text": [
            "[27, 20, 37, 13, 43, 40]\n",
            "{37, 40, 43, 13, 20, 27}\n"
          ]
        }
      ]
    },
    {
      "cell_type": "code",
      "source": [
        "#########################\n",
        "##### [미션]\n",
        "##### 5~8번의 for를 압축기법으로 한줄로 작성\n",
        "########################\n",
        "\n",
        "import random\n",
        "lotto=[]\n",
        "for i in range(6):\n",
        "  lotto.append(random.randrange(1,45))\n",
        "# lotto\n",
        "\n",
        "print(lotto)    # 중복값이 있을수 있음.\n",
        "print(set(lotto))  # 중복제거해서 보여주기\n",
        "\n",
        "[random.randrange(1,45) for i in range(6)]\n"
      ],
      "metadata": {
        "colab": {
          "base_uri": "https://localhost:8080/"
        },
        "id": "ekwNKG0lcBbo",
        "outputId": "b920fcdb-8396-4790-cdd6-84898c7eba21"
      },
      "execution_count": 89,
      "outputs": [
        {
          "output_type": "stream",
          "name": "stdout",
          "text": [
            "[19, 21, 8, 34, 3, 9]\n",
            "{34, 3, 8, 9, 19, 21}\n"
          ]
        },
        {
          "output_type": "execute_result",
          "data": {
            "text/plain": [
              "[15, 44, 6, 33, 42, 31]"
            ]
          },
          "metadata": {},
          "execution_count": 89
        }
      ]
    },
    {
      "cell_type": "code",
      "source": [
        "#####  홀수, 짝수\n",
        "# 홀수, 짝수는 2로 나누었을때 나머지값이 0이면 짝수, 1이면 홀수(또는 0외의값) 으로 계산하면 편리함\n",
        "print('20%2, 22%2, 19%2, 35%2 를 계산한 결과, %는 잉여연산자==>')\n",
        "print(20%2, 22%2, 19%2, 35%2)\n",
        "print('-------------------------------------')\n",
        "\n",
        "# 0~9까지 짝수값만 출력\n",
        "for i in range(1,10):\n",
        "  if i%2==0:\n",
        "    print(i)\n",
        "\n",
        "[i for i in range(1,10) if i%2==0]"
      ],
      "metadata": {
        "colab": {
          "base_uri": "https://localhost:8080/"
        },
        "id": "3PHko4oscb-O",
        "outputId": "03866573-8f3f-4b85-cc10-4519971af0c6"
      },
      "execution_count": 93,
      "outputs": [
        {
          "output_type": "stream",
          "name": "stdout",
          "text": [
            "20%2, 22%2, 19%2, 35%2 를 계산한 결과, %는 잉여연산자==>\n",
            "0 0 1 1\n",
            "-------------------------------------\n",
            "2\n",
            "4\n",
            "6\n",
            "8\n"
          ]
        },
        {
          "output_type": "execute_result",
          "data": {
            "text/plain": [
              "[2, 4, 6, 8]"
            ]
          },
          "metadata": {},
          "execution_count": 93
        }
      ]
    },
    {
      "cell_type": "code",
      "source": [
        "#########################\n",
        "##### [미션]if와 for 컴프리헨션\n",
        "##### 8~13번의 for를 압축기법으로 한줄로 작성\n",
        "########################\n",
        "\n",
        "[random.randrange(1,45) for i in range(6) if random.randrange(1,45)%2==0]"
      ],
      "metadata": {
        "colab": {
          "base_uri": "https://localhost:8080/"
        },
        "id": "QG2WXY24dt20",
        "outputId": "e83f1c7e-8c3c-4c68-b8d2-7ea48a0e92f0"
      },
      "execution_count": 217,
      "outputs": [
        {
          "output_type": "execute_result",
          "data": {
            "text/plain": [
              "[33, 32]"
            ]
          },
          "metadata": {},
          "execution_count": 217
        }
      ]
    },
    {
      "cell_type": "markdown",
      "source": [
        "## for 객체\n",
        "- for 매개변수 in 객체명:\n",
        "      객체명의 자료 0번 index부터 len(객체명) 인덱스까지 차례로 매개변수에 할당  \n",
        "      즉  매개변수=객체명[0],..... 매개변수=객체명[len(객체명)]\n"
      ],
      "metadata": {
        "id": "3Gcm0mTmccyU"
      }
    },
    {
      "cell_type": "code",
      "source": [
        "# A 학급에 총 10명의 학생이 있다. 이 학생들의 중간고사 점수는 다음과 같다.\n",
        "# [70, 60, 55, 75, 95, 90, 80, 80, 85, 100]\n",
        "# 이 학급학생의 총점수를 구함. (numpy가 아닌 for 로)\n",
        "\n",
        "\n",
        "a=[70, 60, 55, 75, 95, 90, 80, 80, 85, 100]\n",
        "total=0\n",
        "\n",
        "for i in a:\n",
        "  total+=i             # total=total+i와 같음\n",
        "\n",
        "# 소숫점은 float로서 %.2f는  float형이며 소수이하 2자리표현하자라는뜻(.2)\n",
        "print(\"총 %d 건의 자료가 있으며 총합은 %d이며, 평균은 %.2f임(총합/len(a))\"%(len(a),total,total/len(a)))"
      ],
      "metadata": {
        "colab": {
          "base_uri": "https://localhost:8080/"
        },
        "id": "bMFj2TMz0iJP",
        "outputId": "439f268e-cd93-426b-a6d4-9a654f74d000"
      },
      "execution_count": 60,
      "outputs": [
        {
          "output_type": "stream",
          "name": "stdout",
          "text": [
            "총 10 건의 자료가 있으며 총합은 790이며, 평균은 79.00임(총합/len(a))\n"
          ]
        }
      ]
    },
    {
      "cell_type": "code",
      "source": [
        "### len함수가 없을때는 사용자가 직접 count를 해줌\n",
        "a=[70, 60, 55, 75, 95, 90, 80, 80, 85, 100]\n",
        "total=0 ; cnt=0\n",
        "for i in a:\n",
        "  cnt+=1\n",
        "  total+=i\n",
        "print('총건수%d'%cnt)\n",
        "print('총합%d'%total)"
      ],
      "metadata": {
        "colab": {
          "base_uri": "https://localhost:8080/"
        },
        "id": "8zGmaVepAm-k",
        "outputId": "678ac85e-1717-4921-d8aa-ec784a809982"
      },
      "execution_count": 61,
      "outputs": [
        {
          "output_type": "stream",
          "name": "stdout",
          "text": [
            "총건수10\n",
            "총합790\n"
          ]
        }
      ]
    },
    {
      "cell_type": "code",
      "source": [
        "#########################################\n",
        "####### 미션 if함수와 for\n",
        "####### 점수중에 90이상의 자료만 합과 평균을 출력\n",
        "#########################################\n",
        "a=[70, 60, 55, 75, 95, 90, 80, 80, 85, 100]\n",
        "total=0\n",
        "\n",
        "for i in a:\n",
        "  if i>=90:\n",
        "    total+=i\n",
        "\n",
        "print(total)"
      ],
      "metadata": {
        "id": "cWmwURqfAcql",
        "colab": {
          "base_uri": "https://localhost:8080/"
        },
        "outputId": "5947606c-e4b9-472f-a48b-2b37562711fd"
      },
      "execution_count": 221,
      "outputs": [
        {
          "output_type": "stream",
          "name": "stdout",
          "text": [
            "285\n"
          ]
        }
      ]
    },
    {
      "cell_type": "code",
      "source": [
        "#########################################\n",
        "####### 미션: 이중for\n",
        "####### data[0], data[1], data[2]의 총합 출력\n",
        "#########################################\n",
        "data=[[80,40,14,15,45,47,45,45,78,20],\n",
        "[70, 60, 55, 75, 95, 90, 80, 80, 85, 100],\n",
        "[20,28,40,70,70,20,20,70,70,80]]\n",
        "\n",
        "for i in range(3):\n",
        "  print(data[i])\n",
        "  for a in data[i]:\n",
        "    total+=a\n",
        "\n",
        "print(total)"
      ],
      "metadata": {
        "id": "z176Qn8XBBa0",
        "colab": {
          "base_uri": "https://localhost:8080/"
        },
        "outputId": "cc0bf064-f40e-424e-86fe-c10a271265a6"
      },
      "execution_count": 250,
      "outputs": [
        {
          "output_type": "stream",
          "name": "stdout",
          "text": [
            "[80, 40, 14, 15, 45, 47, 45, 45, 78, 20]\n",
            "[70, 60, 55, 75, 95, 90, 80, 80, 85, 100]\n",
            "[20, 28, 40, 70, 70, 20, 20, 70, 70, 80]\n",
            "2985\n"
          ]
        }
      ]
    },
    {
      "cell_type": "code",
      "source": [
        "#########################################\n",
        "####### 미션\n",
        "######  구글검색, 파이썬 문자 split\n",
        "#########################################\n",
        "\n",
        "# 아래의 문자열을 txt append에 '/' 단위로 구별하여서 추가\n",
        "# print해서 확인 txt[0]=> 노트북,  txt[1]=>모니터,  txt[2]=>키보드가 됨\n",
        "pumMok='노트북/모니터/키보드'\n",
        "\n",
        "text=[]\n",
        "for i in pumMok.split(\"/\"):\n",
        "  text.append(i)\n",
        "print(text)"
      ],
      "metadata": {
        "id": "y-hUtEYJLn3y",
        "colab": {
          "base_uri": "https://localhost:8080/",
          "height": 54
        },
        "outputId": "72028362-c9ad-4e33-f224-4ac6deb645be"
      },
      "execution_count": 254,
      "outputs": [
        {
          "output_type": "stream",
          "name": "stdout",
          "text": [
            "['노트북', '모니터', '키보드']\n"
          ]
        },
        {
          "output_type": "execute_result",
          "data": {
            "text/plain": [
              "'노트북'"
            ],
            "application/vnd.google.colaboratory.intrinsic+json": {
              "type": "string"
            }
          },
          "metadata": {},
          "execution_count": 254
        }
      ]
    },
    {
      "cell_type": "code",
      "source": [
        "#########################################\n",
        "####### 미션\n",
        "######  for를 이용하여 문자열을 나누고 txt에 append\n",
        "######  for컴프리헨션도 할수 있으면 해봄\n",
        "#########################################\n",
        "\n",
        "# '/'를 기준으로 나눔\n",
        "# txt 의 최종결과는\n",
        "# 노트북,모니터,키보드,키보드,볼펜,사인펜,노트,usb,형광펜\n",
        "\n",
        "pumMok=['노트북/모니터/키보드',\n",
        "        '키보드/볼펜',\n",
        "        '사인펜/노트/usb/형광펜']\n",
        "txt=[]\n",
        "for i in pumMok:\n",
        "  i=i.split(\"/\")\n",
        "  for s in i:\n",
        "    txt.append(s)\n",
        "txt\n"
      ],
      "metadata": {
        "id": "BihKputlMVOb",
        "colab": {
          "base_uri": "https://localhost:8080/"
        },
        "outputId": "08998950-7da5-4348-c7af-3a3317fec88a"
      },
      "execution_count": 260,
      "outputs": [
        {
          "output_type": "execute_result",
          "data": {
            "text/plain": [
              "['노트북', '모니터', '키보드', '키보드', '볼펜', '사인펜', '노트', 'usb', '형광펜']"
            ]
          },
          "metadata": {},
          "execution_count": 260
        }
      ]
    },
    {
      "cell_type": "code",
      "source": [
        "#########################################\n",
        "####### 미션\n",
        "######  for를 이용하여 문자열을 나누고 txt에 append\n",
        "######  for컴프리헨션도 할수 있으면 해봄\n",
        "#########################################\n",
        "\n",
        "# 아래내용은 이중 for로 작업해야함.\n",
        "# 최종결과물은\n",
        "# txt=['노트북,모니터,키보드,키보드,볼펜,사인펜,노트',\n",
        "#      '키보드,전자칠판,스케치북,노트북']\n",
        "\n",
        "pumMok=[['노트북/모니터/키보드','키보드/볼펜','사인펜/노트'],\n",
        "        ['키보드/전자칠판','스케치북/노트북']]\n",
        "\n",
        "txt=[]\n",
        "for i in pumMok:\n",
        "  for s in i:\n",
        "    s=s.split(\"/\")\n",
        "    for i in s:\n",
        "      txt.append(i)\n",
        "print(txt)   "
      ],
      "metadata": {
        "id": "OouD9AFHMs5y",
        "colab": {
          "base_uri": "https://localhost:8080/"
        },
        "outputId": "4cbe467b-fc02-4eda-8091-303aebc5e6e6"
      },
      "execution_count": 279,
      "outputs": [
        {
          "output_type": "stream",
          "name": "stdout",
          "text": [
            "['노트북', '모니터', '키보드', '키보드', '볼펜', '사인펜', '노트', '키보드', '전자칠판', '스케치북', '노트북']\n"
          ]
        }
      ]
    },
    {
      "cell_type": "markdown",
      "source": [
        "## for 매개변수1,매개변수2 in zip(객체1,객체2):\n",
        "## 미션없음. 확인만 하세요"
      ],
      "metadata": {
        "id": "YfGrrlp60j8G"
      }
    },
    {
      "cell_type": "code",
      "source": [
        "# a객체의 자료와 type을 튜플로 묶기\n",
        "# 작업1: 데이터타입 확인하기\n",
        "a=[1,2.5,'abc']\n",
        "\n",
        "datatype=[]\n",
        "for i in a:\n",
        "  datatype.append(type(i))\n",
        "datatype\n",
        "\n",
        "# 컴프리헨션으로 아래와 같이 작업가능\n",
        "datatype=[type(i) for i in a]\n",
        "datatype"
      ],
      "metadata": {
        "colab": {
          "base_uri": "https://localhost:8080/"
        },
        "id": "7w1fRe5Ucoe9",
        "outputId": "48c94be4-ca18-4adc-9030-c4935b9e62f5"
      },
      "execution_count": 274,
      "outputs": [
        {
          "output_type": "execute_result",
          "data": {
            "text/plain": [
              "[int, float, str]"
            ]
          },
          "metadata": {},
          "execution_count": 274
        }
      ]
    },
    {
      "cell_type": "code",
      "source": [
        "# a객체의 자료와 type을 튜를로 묶기\n",
        "# 작업2: 자료아 데이터타입을 for에 넣기\n",
        "\n",
        "datatypeTuple=[]\n",
        "for (i,j) in zip(a,datatype):\n",
        "  x=(i,j)\n",
        "  datatypeTuple.append(x)\n",
        "print(datatypeTuple)\n",
        "\n",
        "\n",
        "# 컴프리헨션으로 아래와 같이 작업가능\n",
        "print('\\n\\n-------------- 컴프리헨션으로 작업함')\n",
        "datatypeTuple=[(i,j) for i,j in zip(a,datatype)]\n",
        "datatypeTuple\n"
      ],
      "metadata": {
        "colab": {
          "base_uri": "https://localhost:8080/"
        },
        "id": "Yj5PJYlUyLVw",
        "outputId": "a31b3cce-f36f-4ac9-e4be-0e45bf98480d"
      },
      "execution_count": 68,
      "outputs": [
        {
          "output_type": "stream",
          "name": "stdout",
          "text": [
            "[(1, <class 'int'>), (2.5, <class 'float'>), ('abc', <class 'str'>)]\n",
            "\n",
            "\n",
            "-------------- 컴프리헨션으로 작업함\n"
          ]
        },
        {
          "output_type": "execute_result",
          "data": {
            "text/plain": [
              "[(1, int), (2.5, float), ('abc', str)]"
            ]
          },
          "metadata": {},
          "execution_count": 68
        }
      ]
    }
  ]
}