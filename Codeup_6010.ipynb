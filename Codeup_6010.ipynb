{
  "nbformat": 4,
  "nbformat_minor": 0,
  "metadata": {
    "colab": {
      "provenance": [],
      "collapsed_sections": [],
      "authorship_tag": "ABX9TyM+mN3uYnym14jWUGOa2Z/6",
      "include_colab_link": true
    },
    "kernelspec": {
      "name": "python3",
      "display_name": "Python 3"
    },
    "language_info": {
      "name": "python"
    }
  },
  "cells": [
    {
      "cell_type": "markdown",
      "metadata": {
        "id": "view-in-github",
        "colab_type": "text"
      },
      "source": [
        "<a href=\"https://colab.research.google.com/github/Welle-Kim/Based-on-the-Review/blob/master/Codeup_6010.ipynb\" target=\"_parent\"><img src=\"https://colab.research.google.com/assets/colab-badge.svg\" alt=\"Open In Colab\"/></a>"
      ]
    },
    {
      "cell_type": "markdown",
      "source": [
        "본 문제는 python 의 빠른 기초 학습을 위해 설계된 문제로서 python 코드 제출을 기준으로 설명되어 있습니다. \n",
        "\n",
        "------\n",
        "\n",
        "윈도우 운영체제의 파일 경로를 출력하는 연습을 해보자.\n",
        " \n",
        "파일 경로에는 특수문자들이 포함된다.\n",
        "\n",
        "다음 경로를 출력하시오.\n",
        "\n",
        "\"C:\\Download\\'hello'.py\"\n",
        "(단, 따옴표도 함께 출력한다.)\n",
        "\n",
        " \n",
        "\n",
        "\\도 안전하게 출력하려면 \\\\를 사용하는 것이 좋다.\n",
        "\n",
        "\n",
        "** 주의 : 본 화면에서 복사하여 붙여넣기하면 제대로 되지 않을 수 있으니 직접 작성해야한다."
      ],
      "metadata": {
        "id": "eKF9ZalRyjCi"
      }
    },
    {
      "cell_type": "code",
      "execution_count": null,
      "metadata": {
        "colab": {
          "base_uri": "https://localhost:8080/"
        },
        "id": "ZI_n4bjcyd8i",
        "outputId": "0eb93e44-291e-45bc-9266-bbcc61dcf180"
      },
      "outputs": [
        {
          "output_type": "stream",
          "name": "stdout",
          "text": [
            "\"C:\\Download\\'hello'.py\"\n"
          ]
        }
      ],
      "source": [
        "print('\"C:\\\\Download\\\\\\'hello\\'.py\"')\n",
        "# print() 안을 ''로 묶어주고 코드 안에 (작은따옴표)와 \\(백슬레쉬)가 나오는 부분 앞에서만 \\를 한번씩 더 추가해준다."
      ]
    },
    {
      "cell_type": "code",
      "source": [
        "print(\"print(\"'\"Hello\\\\nWorld\"'\")\")"
      ],
      "metadata": {
        "colab": {
          "base_uri": "https://localhost:8080/"
        },
        "id": "0FRTl2Yj9u3i",
        "outputId": "cadaba1e-b723-4e9e-e835-6f1e02c54be6"
      },
      "execution_count": null,
      "outputs": [
        {
          "output_type": "stream",
          "name": "stdout",
          "text": [
            "print(\"Hello\\nWorld\")\n"
          ]
        }
      ]
    },
    {
      "cell_type": "code",
      "source": [
        "# 본 문제는 python 의 빠른 기초 학습을 위해 설계된 문제로서 python 코드 제출을 기준으로 설명되어 있습니다. \n",
        "# ------\n",
        "\n",
        "# 문자(character)는\n",
        "# 0~9, a~z, A~Z, !, @, #, {, [, <, ... 과 같이 \n",
        "# 길이가 1인 기호라고 할 수 있다.\n",
        "\n",
        "# 변수에 문자 1개를 저장한 후\n",
        "# 변수에 저장되어 있는 문자를 그대로 출력해보자.\n",
        "\n",
        "# 예시\n",
        "# c = input()\n",
        "# print(c)\n",
        "\n",
        "# 와 같은 형태로 가능하다.\n",
        "\n",
        "# 참고\n",
        "# input() 을 사용하면 키보드로 입력한 값을 가져온다.\n",
        "# 변수 = input()\n",
        "# 를 실행시키면 키보드로 입력한 값을 왼쪽의 변수에 저장한다.\n",
        "\n",
        "# 변수(variable)는 어떤 값(정수, 실수, 문자, 문자열 등)을 저장할 수 있는 공간의 별명이라고 할 수 있다.\n",
        "# 어떤 값을 저장했다가 다시 사용하기 위해서 변수를 사용한다. 저장할 내용들이 많으면 필요한 만큼 변수를 만들어 사용하면 된다.\n",
        "# 변수는 포스트 잇과 같은 메모지에 필요한 내용을 적어두었다가, 필요할 때 찾아 살펴보는 것과 비슷하다.\n",
        "\n",
        "# 대수학(algebra)에서는 어떤 수나 값을 대신해 문자로 표현하는 방법을 사용한다.\n",
        "# 프로그래밍언어에서도 마찬가지로 자신이 알아보기 쉬운 짧은 단어를 사용하는 것이 좋다. 예시) y = x + 3\n",
        "\n",
        "a=input()\n",
        "print(a)"
      ],
      "metadata": {
        "id": "o3qCk585VS4E"
      },
      "execution_count": null,
      "outputs": []
    },
    {
      "cell_type": "code",
      "source": [
        "a=input()\n",
        "a=int(a)\n",
        "print(a)"
      ],
      "metadata": {
        "id": "Ku_26hAemyGs"
      },
      "execution_count": null,
      "outputs": []
    },
    {
      "cell_type": "markdown",
      "source": [
        "## 출처: https://www.codeup.kr/problem.php?id=6007&rid=0"
      ],
      "metadata": {
        "id": "gdj1UWj7z9gr"
      }
    }
  ]
}