{
  "nbformat": 4,
  "nbformat_minor": 0,
  "metadata": {
    "colab": {
      "name": "def사용자함수.ipynb",
      "provenance": [],
      "collapsed_sections": [],
      "authorship_tag": "ABX9TyOH0Y62CzNT9fRgtpeMo+z1",
      "include_colab_link": true
    },
    "kernelspec": {
      "name": "python3",
      "display_name": "Python 3"
    },
    "language_info": {
      "name": "python"
    }
  },
  "cells": [
    {
      "cell_type": "markdown",
      "metadata": {
        "id": "view-in-github",
        "colab_type": "text"
      },
      "source": [
        "<a href=\"https://colab.research.google.com/github/Welle-Kim/Based-on-the-Review/blob/master/def%EC%82%AC%EC%9A%A9%EC%9E%90%ED%95%A8%EC%88%98.ipynb\" target=\"_parent\"><img src=\"https://colab.research.google.com/assets/colab-badge.svg\" alt=\"Open In Colab\"/></a>"
      ]
    },
    {
      "cell_type": "markdown",
      "source": [
        "### 사용자 함수\n",
        "- 프로그맹에서 반복적으로 사용하는 코드를 함수로 정의\n",
        "- 파이선 함수 구조\n"
      ],
      "metadata": {
        "id": "uQdsEszGNU6a"
      }
    },
    {
      "cell_type": "code",
      "execution_count": 2,
      "metadata": {
        "colab": {
          "base_uri": "https://localhost:8080/"
        },
        "id": "7_ZjTxnGNTCK",
        "outputId": "3fae7d07-ca51-4949-bb0c-d72a0d42f8df"
      },
      "outputs": [
        {
          "output_type": "stream",
          "name": "stdout",
          "text": [
            "파이선님의 나이는 36입니다.\n",
            "함수실행 종료\n"
          ]
        }
      ],
      "source": [
        "#실행문만 있는 함수\n",
        "\n",
        "## 함수 생성\n",
        "def prn_hello(name,age):\n",
        "  print(f\"{name}님의 나이는 {age}입니다.\")\n",
        "  print(\"함수실행 종료\")\n",
        "\n",
        "##함수 호출 \n",
        "prn_hello(\"파이선\",36)"
      ]
    },
    {
      "cell_type": "code",
      "source": [
        "## 두 수를 입력받아 더하기를 실행하고 결과를 돌려주는\n",
        "\n",
        "def add(a,b):\n",
        "  tot=a+b\n",
        "  return tot\n",
        "\n",
        "## 함수 호출\n",
        "ptot=add(10,20)\n",
        "print(f\"함수호출결과:{ptot}\")\n",
        "\n",
        "\n",
        "###함수에서 여러개의 결과값 전달 ###\n",
        "\n",
        "def add1(a,b): #a변수,b변수=>지역변수\n",
        "  tot=a+b\n",
        "  return a,b,tot\n",
        "\n",
        "  pa,pb,ptot=add1(10,20)\n",
        "\n",
        "  print(f\"함수호출결과:{ptot}\")\n",
        "  print(f\"함수a:{pa},함수b:{pb}\")"
      ],
      "metadata": {
        "colab": {
          "base_uri": "https://localhost:8080/"
        },
        "id": "SAPUnVT9ODSZ",
        "outputId": "4cd289a8-9e14-405f-bb13-4723aba2dfbf"
      },
      "execution_count": 5,
      "outputs": [
        {
          "output_type": "stream",
          "name": "stdout",
          "text": [
            "함수호출결과:30\n"
          ]
        }
      ]
    },
    {
      "cell_type": "code",
      "source": [
        "###folium 모듈설치/연결\n",
        "\n",
        "import folium\n",
        "\n",
        "map=folium.Map(location=[36.4804704, 127.289222],zoom_start=10)\n",
        "map.save(\"./map_1.html\")"
      ],
      "metadata": {
        "id": "aXgJM79kPPGC"
      },
      "execution_count": 6,
      "outputs": []
    },
    {
      "cell_type": "code",
      "source": [
        "#map에 위치 표시하기\n",
        "folium.Marker([36.4804704, 127.289222],\n",
        "              popup=\"세종시청\",\n",
        "              icon=folium.Icon(color=\"red\")).add_to(map)\n",
        "\n",
        "map.save(\"./map1_t,html\")\n",
        "map"
      ],
      "metadata": {
        "colab": {
          "base_uri": "https://localhost:8080/",
          "height": 454
        },
        "id": "l_KGHUimV0Hb",
        "outputId": "898fbaca-5338-434c-9c5f-d4f5862c25c6"
      },
      "execution_count": 9,
      "outputs": [
        {
          "output_type": "execute_result",
          "data": {
            "text/plain": [
              "<folium.folium.Map at 0x7f1d648e7b90>"
            ],
            "text/html": [
              "<div style=\"width:100%;\"><div style=\"position:relative;width:100%;height:0;padding-bottom:60%;\"><span style=\"color:#565656\">Make this Notebook Trusted to load map: File -> Trust Notebook</span><iframe srcdoc=\"&lt;!DOCTYPE html&gt;\n",
              "&lt;head&gt;    \n",
              "    &lt;meta http-equiv=&quot;content-type&quot; content=&quot;text/html; charset=UTF-8&quot; /&gt;\n",
              "    &lt;script&gt;L_PREFER_CANVAS=false; L_NO_TOUCH=false; L_DISABLE_3D=false;&lt;/script&gt;\n",
              "    &lt;script src=&quot;https://cdn.jsdelivr.net/npm/leaflet@1.4.0/dist/leaflet.js&quot;&gt;&lt;/script&gt;\n",
              "    &lt;script src=&quot;https://code.jquery.com/jquery-1.12.4.min.js&quot;&gt;&lt;/script&gt;\n",
              "    &lt;script src=&quot;https://maxcdn.bootstrapcdn.com/bootstrap/3.2.0/js/bootstrap.min.js&quot;&gt;&lt;/script&gt;\n",
              "    &lt;script src=&quot;https://cdnjs.cloudflare.com/ajax/libs/Leaflet.awesome-markers/2.0.2/leaflet.awesome-markers.js&quot;&gt;&lt;/script&gt;\n",
              "    &lt;link rel=&quot;stylesheet&quot; href=&quot;https://cdn.jsdelivr.net/npm/leaflet@1.4.0/dist/leaflet.css&quot;/&gt;\n",
              "    &lt;link rel=&quot;stylesheet&quot; href=&quot;https://maxcdn.bootstrapcdn.com/bootstrap/3.2.0/css/bootstrap.min.css&quot;/&gt;\n",
              "    &lt;link rel=&quot;stylesheet&quot; href=&quot;https://maxcdn.bootstrapcdn.com/bootstrap/3.2.0/css/bootstrap-theme.min.css&quot;/&gt;\n",
              "    &lt;link rel=&quot;stylesheet&quot; href=&quot;https://maxcdn.bootstrapcdn.com/font-awesome/4.6.3/css/font-awesome.min.css&quot;/&gt;\n",
              "    &lt;link rel=&quot;stylesheet&quot; href=&quot;https://cdnjs.cloudflare.com/ajax/libs/Leaflet.awesome-markers/2.0.2/leaflet.awesome-markers.css&quot;/&gt;\n",
              "    &lt;link rel=&quot;stylesheet&quot; href=&quot;https://rawcdn.githack.com/python-visualization/folium/master/folium/templates/leaflet.awesome.rotate.css&quot;/&gt;\n",
              "    &lt;style&gt;html, body {width: 100%;height: 100%;margin: 0;padding: 0;}&lt;/style&gt;\n",
              "    &lt;style&gt;#map {position:absolute;top:0;bottom:0;right:0;left:0;}&lt;/style&gt;\n",
              "    \n",
              "    &lt;meta name=&quot;viewport&quot; content=&quot;width=device-width,\n",
              "        initial-scale=1.0, maximum-scale=1.0, user-scalable=no&quot; /&gt;\n",
              "    &lt;style&gt;#map_ae87c36c976c78c2359b00678900c855 {\n",
              "        position: relative;\n",
              "        width: 100.0%;\n",
              "        height: 100.0%;\n",
              "        left: 0.0%;\n",
              "        top: 0.0%;\n",
              "        }\n",
              "    &lt;/style&gt;\n",
              "&lt;/head&gt;\n",
              "&lt;body&gt;    \n",
              "    \n",
              "    &lt;div class=&quot;folium-map&quot; id=&quot;map_ae87c36c976c78c2359b00678900c855&quot; &gt;&lt;/div&gt;\n",
              "&lt;/body&gt;\n",
              "&lt;script&gt;    \n",
              "    \n",
              "    \n",
              "        var bounds = null;\n",
              "    \n",
              "\n",
              "    var map_ae87c36c976c78c2359b00678900c855 = L.map(\n",
              "        &#x27;map_ae87c36c976c78c2359b00678900c855&#x27;, {\n",
              "        center: [36.4804704, 127.289222],\n",
              "        zoom: 10,\n",
              "        maxBounds: bounds,\n",
              "        layers: [],\n",
              "        worldCopyJump: false,\n",
              "        crs: L.CRS.EPSG3857,\n",
              "        zoomControl: true,\n",
              "        });\n",
              "\n",
              "\n",
              "    \n",
              "    var tile_layer_6b9ad1198e7ebf0d87958da27d4546d8 = L.tileLayer(\n",
              "        &#x27;https://{s}.tile.openstreetmap.org/{z}/{x}/{y}.png&#x27;,\n",
              "        {\n",
              "        &quot;attribution&quot;: null,\n",
              "        &quot;detectRetina&quot;: false,\n",
              "        &quot;maxNativeZoom&quot;: 18,\n",
              "        &quot;maxZoom&quot;: 18,\n",
              "        &quot;minZoom&quot;: 0,\n",
              "        &quot;noWrap&quot;: false,\n",
              "        &quot;opacity&quot;: 1,\n",
              "        &quot;subdomains&quot;: &quot;abc&quot;,\n",
              "        &quot;tms&quot;: false\n",
              "}).addTo(map_ae87c36c976c78c2359b00678900c855);\n",
              "    \n",
              "        var marker_31cda74051fba5a5a0b3d8fc5c6f429f = L.marker(\n",
              "            [36.4804704, 127.289222],\n",
              "            {\n",
              "                icon: new L.Icon.Default(),\n",
              "                }\n",
              "            ).addTo(map_ae87c36c976c78c2359b00678900c855);\n",
              "        \n",
              "    \n",
              "\n",
              "                var icon_ca169026ea78bead632370115c300132 = L.AwesomeMarkers.icon({\n",
              "                    icon: &#x27;info-sign&#x27;,\n",
              "                    iconColor: &#x27;white&#x27;,\n",
              "                    markerColor: &#x27;red&#x27;,\n",
              "                    prefix: &#x27;glyphicon&#x27;,\n",
              "                    extraClasses: &#x27;fa-rotate-0&#x27;\n",
              "                    });\n",
              "                marker_31cda74051fba5a5a0b3d8fc5c6f429f.setIcon(icon_ca169026ea78bead632370115c300132);\n",
              "            \n",
              "    \n",
              "            var popup_96500990cc55deead467254c2bdd5999 = L.popup({maxWidth: &#x27;100%&#x27;\n",
              "            \n",
              "            });\n",
              "\n",
              "            \n",
              "                var html_87d8f965e736719820bb3e98a9b6d559 = $(`&lt;div id=&quot;html_87d8f965e736719820bb3e98a9b6d559&quot; style=&quot;width: 100.0%; height: 100.0%;&quot;&gt;세종시청&lt;/div&gt;`)[0];\n",
              "                popup_96500990cc55deead467254c2bdd5999.setContent(html_87d8f965e736719820bb3e98a9b6d559);\n",
              "            \n",
              "\n",
              "            marker_31cda74051fba5a5a0b3d8fc5c6f429f.bindPopup(popup_96500990cc55deead467254c2bdd5999)\n",
              "            ;\n",
              "\n",
              "            \n",
              "        \n",
              "&lt;/script&gt;\" style=\"position:absolute;width:100%;height:100%;left:0;top:0;border:none !important;\" allowfullscreen webkitallowfullscreen mozallowfullscreen></iframe></div></div>"
            ]
          },
          "metadata": {},
          "execution_count": 9
        }
      ]
    },
    {
      "cell_type": "code",
      "source": [
        "folium.Marker([37.50340383788129, 127.04978333798576],          # 표식이 출력될 위치\n",
        "              popup=\"멀티캠퍼스 선릉\",                  # 마우스를 클릭하면 출력할 내용\n",
        "              icon=folium.Icon(color=\"red\")).add_to(map)\n",
        "\n",
        "map.save('./map_1.html')"
      ],
      "metadata": {
        "id": "QhpF1M7cWCKo"
      },
      "execution_count": 10,
      "outputs": []
    },
    {
      "cell_type": "markdown",
      "source": [
        "### 관광정보.csv파일로 맵 그리기"
      ],
      "metadata": {
        "id": "bMH5GjX4Wmwq"
      }
    },
    {
      "cell_type": "code",
      "source": [
        "f=open(\"./관광정보.csv\",\"r\") #관광정보.csv파일 열기\n",
        "data=f.readlines() #전체를 리스트 형식으로 읽어오기(행단위)\n",
        "f.close() #관광정보.csv파일 닫기\n",
        "\n",
        "print(data[1]) #관광정보.csv 데이터에서 위쪽 1개만 출력\n",
        "\n",
        "data_lst=data[1].replace(\"\\n\",\"\").split(\",\") #1번째 데이터에서 \\n 제거 후, \",\"로 나누기\n",
        "print(data_lst)"
      ],
      "metadata": {
        "colab": {
          "base_uri": "https://localhost:8080/"
        },
        "id": "YGRU57HcWihw",
        "outputId": "74ca2ea0-03ee-46e6-8e8b-be7d942baf6b"
      },
      "execution_count": 17,
      "outputs": [
        {
          "output_type": "stream",
          "name": "stdout",
          "text": [
            "0,가락몰 페스티벌 2019,서울특별시 송파구 양재대로 932,02-3435-1000,2019-10-11,2019-10-12,37.4960925880,127.1109831778\n",
            "\n",
            "['0', '가락몰 페스티벌 2019', '서울특별시 송파구 양재대로 932', '02-3435-1000', '2019-10-11', '2019-10-12', '37.4960925880', '127.1109831778']\n"
          ]
        }
      ]
    },
    {
      "cell_type": "code",
      "source": [
        "def map_prn(lat,lng,pop):\n",
        "  folium.Marker([lst,lng],\n",
        "                popup=pop,\n",
        "                icon=folium.Icon(color=\"red\")).add_to(map)"
      ],
      "metadata": {
        "id": "oKeBMPNVXhBs"
      },
      "execution_count": 18,
      "outputs": []
    },
    {
      "cell_type": "code",
      "source": [
        "data_lst"
      ],
      "metadata": {
        "colab": {
          "base_uri": "https://localhost:8080/"
        },
        "id": "69dNCMD9ZFSD",
        "outputId": "48b17d0e-6aa7-42a3-fec2-34c19127c311"
      },
      "execution_count": 19,
      "outputs": [
        {
          "output_type": "execute_result",
          "data": {
            "text/plain": [
              "['0',\n",
              " '가락몰 페스티벌 2019',\n",
              " '서울특별시 송파구 양재대로 932',\n",
              " '02-3435-1000',\n",
              " '2019-10-11',\n",
              " '2019-10-12',\n",
              " '37.4960925880',\n",
              " '127.1109831778']"
            ]
          },
          "metadata": {},
          "execution_count": 19
        }
      ]
    },
    {
      "cell_type": "code",
      "source": [
        "import folium\n",
        "\n",
        "map=folium.Map(location=[36.4804704, 127.289222],zoom_start=10)\n",
        "\n",
        "# map_prn(float(data_lst[-2]),float(data_lst[-1]), data_lst[1])\n",
        "map.save(\"./관광맵.html\")"
      ],
      "metadata": {
        "id": "6yCxB7GGZJZW"
      },
      "execution_count": 28,
      "outputs": []
    },
    {
      "cell_type": "code",
      "source": [
        "#제목 또는 주소에 쉼표(\",\")가 포함되어 있으면 출력하지 않음\n",
        "import folium\n",
        "\n",
        "def map_prn(lat,lng,pop):\n",
        "  folium.Marker([lst,lng],\n",
        "                popup=pop,\n",
        "                icon=folium.Icon(color=\"red\")).add_to(map)\n",
        "\n",
        "##파일 가져오기\n",
        "f=open(\"./관광정보.csv\",\"r\")\n",
        "data=f.readlines() #행단위로 리스트로 불러오기\n",
        "f.close()\n",
        "\n",
        "##데이터 쉼표로 나누기\n",
        "data_lst=[data[i].replace(\"\\n\",\"\").split(\",\") for i in range(1,11)]\n",
        "print(data_lst)\n",
        "\n",
        "##맵 생성\n",
        "map=folium.Map(location=[36.4804704, 127.289222],zoom_start=10)\n",
        "\n",
        "## data의 개수가 8개이면 출력\n",
        "for t in data_lst:\n",
        "  try:\n",
        "    if len(t)==8:\n",
        "      map_prn(float(t[-2]),float(t[-1],t[1]))\n",
        "  except:\n",
        "    pass\n",
        "\n",
        "map.save(\"./관광맵.html\")"
      ],
      "metadata": {
        "colab": {
          "base_uri": "https://localhost:8080/"
        },
        "id": "IirFOwjrb0Mj",
        "outputId": "159c19ad-6419-4165-be19-9304e61e1a2e"
      },
      "execution_count": 12,
      "outputs": [
        {
          "output_type": "stream",
          "name": "stdout",
          "text": [
            "[['0', '가락몰 페스티벌 2019', '서울특별시 송파구 양재대로 932', '02-3435-1000', '2019-10-11', '2019-10-12', '37.4960925880', '127.1109831778'], ['1', '가리왕산 MUSIC FESTIVAL 2020', '강원도 정선군 북평면 중봉길 41-35', '033-560-3016', '2020-08-21', '2020-08-22', '37.4742535268', '128.6097538017'], ['2', '가야문화축제 2020', '경상남도 김해시 가야의길 126', '055-330-3958', '2020-10-29', '2020-11-01', '35.2360687598', '128.8731002475'], ['3', '\"가을 밀양강 오딧세이 \"\"아리랑 환타지! 밀양!\"\" 2019\"', '경상남도 밀양시 중앙로 324 영남루 및 밀양강 야외 공연장 일대', '055-359-4527', '2019-10-18', '2019-10-19', '35.4921350361', '128.7552590901'], ['4', '가을 화담숲 단풍 축제 2019', '경기도 광주시 도척면 도척윗로 278', '031-8026-6666', '2019-10-12', '2019-11-10', '37.3374836915', '127.2922239974'], ['5', '가을맥주페스타 2019', '\"부산광역시 부산진구 서면문화로 32 3', '4층\"', '070-4880-2678', '2019-09-26', '2019-09-29', '35.1599862176', '129.0563669161'], ['6', '가족사랑 걷기대회 2019', '부산광역시 사하구 낙동남로1233번길 1', '\"낙동강문화관 (연락처) 051-292-1042', ' 사하구건강가정지원센터 (연락처) 051-203-4588\"', '2019-09-28', '2019-09-28', '35.1083149990', '128.9474472484'], ['7', '가족사랑 아이스축제 2019', '대구광역시 서구 문화로 122', '053-663-2184', '2019-07-27', '2019-07-27', '35.8736186548', '128.5454780875'], ['8', '가족여행과 함께하는 고성 오션투유 삼포해수욕장 연날리기 축제 2019', '강원도 고성군 죽왕면 삼포리 1-1', '1666-5683', '2019-01-01', '2019-12-31', '38.3128520737', '128.5370623742'], ['9', '\"가좌아트위크 \\'잠시', ' 쉬어가좌\\' 2019\"', '서울특별시 서대문구 증가로10길 28', '02-3140-8028', '2019-10-18', '2019-10-19', '37.5784852121', '126.9238923275']]\n"
          ]
        }
      ]
    },
    {
      "cell_type": "code",
      "source": [
        ""
      ],
      "metadata": {
        "id": "66KCfxtUcRU0"
      },
      "execution_count": null,
      "outputs": []
    }
  ]
}