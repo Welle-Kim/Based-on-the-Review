{
 "cells": [
  {
   "cell_type": "code",
   "execution_count": 1,
   "id": "e2228048",
   "metadata": {},
   "outputs": [],
   "source": [
    "from selenium import webdriver\n",
    "from bs4 import BeautifulSoup as BS\n",
    "import time\n",
    "import pandas as pd"
   ]
  },
  {
   "cell_type": "code",
   "execution_count": 11,
   "id": "7db04a5b",
   "metadata": {},
   "outputs": [
    {
     "name": "stderr",
     "output_type": "stream",
     "text": [
      "/var/folders/kl/c2d2tw392x534796y9h40hw80000gn/T/ipykernel_6817/3582544179.py:3: DeprecationWarning: executable_path has been deprecated, please pass in a Service object\n",
      "  driver = webdriver.Chrome(\"/Users/wellekim/Desktop/venv/bin/chromedriver\")\n"
     ]
    }
   ],
   "source": [
    "from selenium import webdriver\n",
    "\n",
    "driver = webdriver.Chrome(\"/Users/wellekim/Desktop/venv/bin/chromedriver\")\n",
    "\n",
    "url=\"https://section.blog.naver.com/Search/Post.naver?pageNo=1&rangeType=ALL&orderBy=sim&keyword=국내 여행지\"\n",
    "driver.get(url)\n",
    "time.sleep(2)\n",
    "\n",
    "html=driver.page_source\n",
    "soup=BS(html, \"html.parser\")"
   ]
  },
  {
   "cell_type": "code",
   "execution_count": 12,
   "id": "809b0e26",
   "metadata": {},
   "outputs": [
    {
     "name": "stdout",
     "output_type": "stream",
     "text": [
      "\n",
      "국내 여행지 추천 여수 오동도 가는법 동백열차, 자전거 비교\n",
      "\n",
      "https://blog.naver.com/wkwmd81/222674036269\n"
     ]
    }
   ],
   "source": [
    "post_soup=soup.find_all(\"div\", class_=\"list_search_post\")\n",
    "print(post_soup[0].find(\"strong\",class_=\"title_post\").get_text())\n",
    "print(post_soup[0].find(\"a\")[\"href\"])"
   ]
  },
  {
   "cell_type": "code",
   "execution_count": 13,
   "id": "283f4185",
   "metadata": {},
   "outputs": [
    {
     "data": {
      "text/html": [
       "<div>\n",
       "<style scoped>\n",
       "    .dataframe tbody tr th:only-of-type {\n",
       "        vertical-align: middle;\n",
       "    }\n",
       "\n",
       "    .dataframe tbody tr th {\n",
       "        vertical-align: top;\n",
       "    }\n",
       "\n",
       "    .dataframe thead th {\n",
       "        text-align: right;\n",
       "    }\n",
       "</style>\n",
       "<table border=\"1\" class=\"dataframe\">\n",
       "  <thead>\n",
       "    <tr style=\"text-align: right;\">\n",
       "      <th></th>\n",
       "      <th>제목</th>\n",
       "      <th>링크</th>\n",
       "    </tr>\n",
       "  </thead>\n",
       "  <tbody>\n",
       "    <tr>\n",
       "      <th>0</th>\n",
       "      <td>\\n국내 여행지 추천 여수 오동도 가는법 동백열차, 자전거 비교\\n</td>\n",
       "      <td>https://blog.naver.com/wkwmd81/222674036269</td>\n",
       "    </tr>\n",
       "    <tr>\n",
       "      <th>1</th>\n",
       "      <td>\\n6월 국내여행지, 통영 수국 명소 이순신공원 추천\\n</td>\n",
       "      <td>https://blog.naver.com/invu1657/222770039221</td>\n",
       "    </tr>\n",
       "    <tr>\n",
       "      <th>2</th>\n",
       "      <td>\\n국내 여행지 추천 6월 꽃축제 충남 여행 유구 색동수국정원 유구 수국축제\\n</td>\n",
       "      <td>https://blog.naver.com/tcacyc/222781584158</td>\n",
       "    </tr>\n",
       "    <tr>\n",
       "      <th>3</th>\n",
       "      <td>\\n국내 여행지 추천 여수 오동도 볼거리 여수동백꽃\\n</td>\n",
       "      <td>https://blog.naver.com/hloveh01/222661399374</td>\n",
       "    </tr>\n",
       "    <tr>\n",
       "      <th>4</th>\n",
       "      <td>\\n국내 여행지 추천 완주 여행 완주 편백나무숲\\n</td>\n",
       "      <td>https://blog.naver.com/jyleen/222789100296</td>\n",
       "    </tr>\n",
       "    <tr>\n",
       "      <th>5</th>\n",
       "      <td>\\n5월 국내여행지 추천 가볼만한곳 장미, 작약 등 꽃구경 코스\\n</td>\n",
       "      <td>https://blog.naver.com/lsbangel/222725361258</td>\n",
       "    </tr>\n",
       "    <tr>\n",
       "      <th>6</th>\n",
       "      <td>\\n경남 가볼만한곳 산청 남사예담촌 등 7월 국내 여행지 추천\\n</td>\n",
       "      <td>https://blog.naver.com/kkulee/222795640052</td>\n",
       "    </tr>\n",
       "  </tbody>\n",
       "</table>\n",
       "</div>"
      ],
      "text/plain": [
       "                                             제목  \\\n",
       "0         \\n국내 여행지 추천 여수 오동도 가는법 동백열차, 자전거 비교\\n   \n",
       "1               \\n6월 국내여행지, 통영 수국 명소 이순신공원 추천\\n   \n",
       "2  \\n국내 여행지 추천 6월 꽃축제 충남 여행 유구 색동수국정원 유구 수국축제\\n   \n",
       "3                \\n국내 여행지 추천 여수 오동도 볼거리 여수동백꽃\\n   \n",
       "4                  \\n국내 여행지 추천 완주 여행 완주 편백나무숲\\n   \n",
       "5         \\n5월 국내여행지 추천 가볼만한곳 장미, 작약 등 꽃구경 코스\\n   \n",
       "6          \\n경남 가볼만한곳 산청 남사예담촌 등 7월 국내 여행지 추천\\n   \n",
       "\n",
       "                                             링크  \n",
       "0   https://blog.naver.com/wkwmd81/222674036269  \n",
       "1  https://blog.naver.com/invu1657/222770039221  \n",
       "2    https://blog.naver.com/tcacyc/222781584158  \n",
       "3  https://blog.naver.com/hloveh01/222661399374  \n",
       "4    https://blog.naver.com/jyleen/222789100296  \n",
       "5  https://blog.naver.com/lsbangel/222725361258  \n",
       "6    https://blog.naver.com/kkulee/222795640052  "
      ]
     },
     "execution_count": 13,
     "metadata": {},
     "output_type": "execute_result"
    }
   ],
   "source": [
    "post_soup=soup.find_all(\"div\", class_=\"list_search_post\")\n",
    "post_list=[]\n",
    "for post in post_soup:\n",
    "    title=post.find(\"strong\",class_=\"title_post\").get_text()\n",
    "    href=post.find(\"a\")[\"href\"]\n",
    "    post_list.append({\"제목\":title, \"링크\":href})\n",
    "\n",
    "#print(post_list)\n",
    "df=pd.DataFrame(post_list)\n",
    "df"
   ]
  },
  {
   "cell_type": "code",
   "execution_count": 14,
   "id": "86fb1383",
   "metadata": {},
   "outputs": [
    {
     "name": "stdout",
     "output_type": "stream",
     "text": [
      "http://blog.naver.com/PostView.naver?blogId=wkwmd81&logNo=222674036269&redirect=Dlog&widgetTypeCall=true&directAccess=false\n",
      "http://blog.naver.com/PostView.naver?blogId=invu1657&logNo=222770039221&redirect=Dlog&widgetTypeCall=true&directAccess=false\n",
      "http://blog.naver.com/PostView.naver?blogId=tcacyc&logNo=222781584158&redirect=Dlog&widgetTypeCall=true&directAccess=false\n",
      "http://blog.naver.com/PostView.naver?blogId=hloveh01&logNo=222661399374&redirect=Dlog&widgetTypeCall=true&directAccess=false\n",
      "http://blog.naver.com/PostView.naver?blogId=jyleen&logNo=222789100296&redirect=Dlog&widgetTypeCall=true&directAccess=false\n",
      "http://blog.naver.com/PostView.naver?blogId=lsbangel&logNo=222725361258&redirect=Dlog&widgetTypeCall=true&directAccess=false\n",
      "http://blog.naver.com/PostView.naver?blogId=kkulee&logNo=222795640052&redirect=Dlog&widgetTypeCall=true&directAccess=false\n"
     ]
    }
   ],
   "source": [
    "for i in df.index:\n",
    "    \n",
    "    driver.get(df.loc[i, \"링크\"])\n",
    "    time.sleep(2)\n",
    "\n",
    "    html=driver.page_source\n",
    "    soup=BS(html, \"html.parser\")\n",
    "    print(\"http://blog.naver.com\"+ soup.find(\"iframe\", id=\"mainFrame\")['src'])"
   ]
  },
  {
   "cell_type": "code",
   "execution_count": 22,
   "id": "8160a35b",
   "metadata": {},
   "outputs": [
    {
     "data": {
      "text/plain": [
       "'\\n\\n\\n\\n\\n국내 여행지 추천 여수 오동도 가는법 동백열차, 자전거 비교\\n\\n\\n\\n \\n\\n\\n\\n\\n\\n\\n\\n\\n\\n\\n\\n\\n\\n\\n봄에 가면 좋을 국내 여행지 중 한 곳인 여수 오동도에 다녀왔습니다. 저는 2월에 다녀왔는데 지금 시즌에 가시면 동백꽃이 가득 피어 있을 것 같아요. 제가 갔을 때는 오동도 곳곳에 동백꽃이 간혹 몇 송이 피어 있는 나무가 있긴 했거든요. 초록의 나무에 빨간 동백꽃이 포인트로 딱! 있는데 너무 예쁘더라고요. 아무래도 봄에 다시 한번 여수 오동도 가야겠어요\\n\\n\\n\\n \\n\\n\\n\\n\\n\\n\\n\\n\\n\\n\\n\\n\\n\\n\\n오동도는 처음 가봤는데 산책하는 길도 좋고 전망대도 예쁘고 예쁜 포토존들도 많아서 너무 좋았어요. 여수 여행 가신다면 꼭 오동도도 함께 다녀오시길 바라요. 포토 포인트랑 볼거리, 가는 법까지 차분하게 정리해 보겠습니다\\n\\n\\n\\n \\n\\n\\n\\n여수 오동도 가는법\\n\\n\\n\\n\\n\\n\\n\\n\\n\\n\\n\\n\\n\\n\\n\\n\\n\\n\\n\\n\\n\\n \\n\\n\\n\\n오동도는 주차장이 따로 있어서 차로 가기에 어렵지 않은 곳이에요. 저는 케이블카를 탑승해서 갔는데 꼭 케이블카 타지 않으셔도 목적지를 오동도로 정하고 가셔도 된답니다. 저는 케이블카 탑승장에서 내려서 산책길을 따라 오동도로 들어갔습니다. \\n\\n\\n\\n \\n\\n\\n\\n\\n\\n\\n\\n\\n\\n\\n\\n\\n\\n\\n섬이지만 도로로 연결되어 있어서 편하게 도보, 자전거, 동백열차 등을 타고 이동할 수 있어요. 사진에 보이는 도로를 걸어서 가면 10분 정도 걸리고 자전거로도 이동 가능해요. 동백열차도 시간 맞춰서 운행하고 있고요. 저는 걸어가기 멀 것 같은 느낌이 들어서 자전거를 대여했는데 다녀와서 보니 자전거로 안 가고 그냥 걸어서 가는 것 추천해요. 생각보다 안 멀거든요.\\n\\n\\n\\n \\n\\n\\n\\n\\n\\n\\n\\n\\n\\n\\n\\n\\n\\n\\n날씨가 너무 좋았던 날이라 풍경이 너무 예쁘네요. 오동도 들어가는 길에 바다를 배경으로 멋진 사진을 가득 담으실 수 있습니다.\\n\\n\\n\\n \\n\\n\\n\\n\\n\\n\\n\\n\\n\\n\\n\\n\\n\\n\\n오동도에 오신 것을 환영합니다.\\n\\n\\n\\n\\n\\n\\n\\n\\n1. 도보 이용하기!\\n\\n\\n\\n\\n\\n\\n\\n\\n\\n\\n\\n\\n\\n\\n\\n\\n\\n\\n\\n이 길이 바로 도보로 걸어갈 수 있는 길입니다. 사진엔 엄청 멀어 보이는데 생각보다 안 멀어요. 게다가 가는 길에 벽화도 너무 예쁘고 바다 풍경이 예술이라 걷는 것 자체가 관광이라는 느낌이 들었어요. 가볍게 산책하시는 거 추천합니다!\\n\\n\\n\\n \\n\\n\\n\\n2. 동백열차\\n\\n\\n\\n\\n\\n\\n\\n\\n\\n\\n\\n\\n\\n\\n\\n\\n\\n\\n\\n동백열차를 이용하면 보다 빠르게 이동할 수 있어요. 사진에 보이는 귀요미 열차를 타고 칙칙폭폭 들어갈 수 있습니다.\\n\\n\\n\\n \\n\\n\\n\\n\\n\\n\\n\\n\\n\\n\\n\\n\\n\\n\\n동백열차는 운행시간이 정해져 있어요. 요일별로 출발시간도 조금씩 다르고요 점심시간도 있더라고요. 저는 점심시간에 걸려서 그냥 자전거를 빌렸는데 다시 한번 강조하지만 그냥 걸어서 가시는 거 추천합니다! 참고로 동백열차 가격은 성인 1,000원, 학생 500원이었습니다.\\n\\n\\n\\n \\n\\n\\n\\n3. 자전거\\n\\n\\n\\n\\n\\n\\n\\n\\n\\n\\n\\n\\n\\n\\n\\n\\n\\n\\n\\n자전거 도로가 별도로 있어서 자전거 도로를 따라 오동도로 들어갈 수도 있습니다. 입구에 자전거 대여점이 있는데 1시간에 5천 원이었어요. 하지만!!! 혹시 자전거 이용하실 분들은 여수랑이라는 어플 깔고 여수랑 자전거 빌리기는 거 추천해요. 서울의 따릉이처럼 여수의 공용 자전거인데 1일 천 원에 자유롭게 이용 가능하거든요. 제가 자전거 타고 오동도 다녀와본 결과 오동도 전망대랑 구석구석 보다 보면 1시간이 살짝 빠듯하거든요. 자전거 빌리실 분들은 여수랑 잊지 마세요!아~ 그리고 아이용 자전거는 여수랑에 없으니 아이 자전거 빌리실 분들은 자전거 대여점 이용하세요 가격은 똑같이 1시간에 5천 원이었고 2인용 자전거도 있었어요.\\n\\n\\n\\n \\n\\n\\n\\n\\n\\n\\n\\n\\n\\n\\n\\n\\n\\n\\n자전거나 도보를 이용해서 길을 따라 쭉 이동하면 넓은 광장이 보입니다. 거북선도 보이더라고요. 인증 사진 남겨야겠죠?\\n\\n\\n\\n \\n\\n\\n\\n\\n\\n\\n\\n\\n\\n\\n\\n\\n\\n\\n요기서도 찰칵!! 여유롭게 둘러보시려면 대략 1시간 30분 정도 코스를 추천합니다.\\n\\n\\n\\n \\n\\n\\n\\n\\n\\n\\n\\n\\n\\n\\n\\n\\n\\n\\n동백열차는 이 광장에서 타고 내릴 수 있어요. 생각보다 타는 분들이 많이 없으시긴 하더라고요. 봄에는 사람들이 더 많아져셔 동백열차도 대기가 생길 것 같기는 해요\\u200b\\n\\n\\n\\n \\n\\n\\n\\n오동도 한려해상 국립공원\\n\\n\\n\\n\\n\\n\\n\\n\\n\\n\\n\\n\\n\\n\\n\\n\\n\\n\\n\\n산책길 입구에 지도가 자세히 나와 있어요. 길이 좀 복잡해 보이긴 하는데 실제로 가보면 복잡한 거 없이 그냥 길 따라 쭉 산책할 수 있어요. 동네 뒷산 느낌의 언덕길을 올라야 하는데 크게 힘든 건 없었던 것 같아요.  꼭 다녀오면 좋을 추천 스팟은 바람골, 용굴, 해돋이 전망지, 오동도등대, 휴게소 등입니다. 이외에도 갯바위나 분수대도 있는데 분수대는 운영하지 않더라고요.\\n\\n\\n\\n \\n\\n\\n\\n\\n\\n\\n\\n\\n\\n\\n\\n\\n\\n\\n산책길을 따라 올라가다 보니 바닥에 떨어져 있는 동백꽃도 보입니다. 실제로 동백꽃을 본건 처음인 것 같은데 너무 예쁘더라고요 ^^ 아이도 소중하게 두 손에~\\n\\n\\n\\n \\n\\n\\n\\n\\n\\n\\n\\n\\n\\n\\n\\n\\n\\n\\n곳곳에 포토존이 많아요. 요즘엔 국내 여행지 유명한 곳들은 포토존이 필수인가 봅니다. 포토존에서 사진 남기시는 거 추천해요!\\n\\n\\n\\n \\n\\n\\n\\n여수 오동도 바람골\\n\\n\\n\\n\\n\\n\\n\\n\\n\\n\\n\\n\\n\\n\\n\\n\\n\\n\\n\\n\\n\\n \\n\\n\\n\\n오동도에서 가장 유명한 포토존이 바로 이곳입니다. 바람골. 이정표가 있는데 계단 아래로 내려가면 사진 찍는 사람들이 보일 거예요. 바람이 지나는 길이라는 뜻일까요? 암튼 바위 사이로 바다가 보이는데 실루엣샷 담으니 너무 예쁘더라고요 ^^\\n\\n\\n\\n \\n\\n\\n\\n\\n\\n\\n\\n\\n\\n\\n\\n\\n\\n\\n용굴의 전설도 있더라고요. 뭔가 심오한 전설이었다는 ㅋ\\n\\n\\n\\n \\n\\n\\n\\n\\n\\n\\n\\n\\n\\n\\n\\n\\n\\n\\n동백꽃 전망대에도 가보았습니다\\n\\n\\n\\n \\n\\n\\n\\n\\n\\n\\n\\n\\n\\n\\n\\n\\n\\n\\n가슴이 뻥 뚫리는 전망을 보실 수 있어요. 여수가 이렇게 좋은 여행지인지 몰랐어요~ 봄에 가면 더더 좋을 것 같은 국내여행지로 추천해요.\\n\\n\\n\\n \\n\\n\\n\\n\\n\\n\\n\\n\\n\\n\\n\\n\\n\\n\\n오동도 등대는 아쉽게도 지금은 문을 닫았어요. 외부만 사진을 담아보았습니다. 등대 옆쪽으로 동백나무에 동백꽃 핀 거 보이시나요? 요기에 있는 동백은 해를 많이 받아서 그런지 조금 많이 피었더라고요.\\n\\n\\n\\n \\n\\n\\n\\n\\n\\n\\n\\n\\n\\n\\n\\n\\n\\n\\n돌아오는 길에도 포토존이 계속해서 등장하더라고요. 커플들이 삼각대 가지고 와서 사진 남기는데 풋풋하더라는.\\n\\n\\n\\n \\n\\n\\n\\n\\n\\n\\n\\n\\n\\n\\n\\n\\n\\n\\n저는 씽이 와 사진을 담아보았습니다. 사진에 보니 정말 커 보이는데 실제로는 아기예요 아직 ㅋ\\n\\n\\n\\n \\n\\n\\n\\n\\n\\n\\n\\n\\n\\n\\n\\n\\n\\n\\n\\n\\n \\n\\n\\n\\n산책하는 코스도 좋고 포토존도 많아서 좋았던 여수 오동도. 여수 여행 가신다면 꼭 다녀오세요케이블카랑 함께 묶어서 다녀오시면 반나절 코스로도 추천하고요!\\n\\n\\n\\n \\n\\n\\n\\n\\n\\n\\n\\n\\n\\n \\n\\n\\n\\n\\n\\n\\n\\n\\n여수 해상 케이블카 할인 크리스탈 후기 여수 가볼만한곳 강추\\n여수 해상 케이블카 할인 크리스탈 후기 여수 가볼만한곳 강추 환상적인 날씨 덕분에 더 즐거웠던 여수 여...\\nblog.naver.com\\n\\n\\n\\n\\n\\n\\n \\n\\n\\n\\n여수 해상 케이블카 포스팅은 요기 있으니 참고하시고요\\n\\n\\n\\n \\n\\n\\n\\n\\n\\n\\n\\n \\n\\n\\n\\n오동도를 담은 영상도 첨부합니다. 걸어서 가는 길에 영상을 담아보았어요. 맘 같아선 자전거 타면서 영상 담고 싶었는데 소심이라 그것 못했네요 ^^\\n\\n\\n\\n \\n\\n\\n\\n\\n\\n\\n\\n\\n\\n\\n\\n\\n\\n\\n다시 가고 싶은 곳이에요~\\n\\n\\n\\n \\n\\n\\n\\n\\n\\n\\n\\n오동도\\n전라남도 여수시 수정동 산1-11\\n\\n\\n\\n\\n\\n \\n\\n\\n\\n\\n\\n\\n\\n\\n\\n\\n\\n\\n\\n\\n\\u200b\\n\\n\\n\\n '"
      ]
     },
     "execution_count": 22,
     "metadata": {},
     "output_type": "execute_result"
    }
   ],
   "source": [
    "import requests\n",
    "\n",
    "html = requests.get(\"http://blog.naver.com/PostView.naver?blogId=wkwmd81&logNo=222674036269&redirect=Dlog&widgetTypeCall=true&directAccess=false\")\n",
    "soup = BS(html.text, \"html.parser\")\n",
    "soup.find(\"div\", class_=\"se-main-container\").get_text()"
   ]
  }
 ],
 "metadata": {
  "kernelspec": {
   "display_name": "Python 3 (ipykernel)",
   "language": "python",
   "name": "python3"
  },
  "language_info": {
   "codemirror_mode": {
    "name": "ipython",
    "version": 3
   },
   "file_extension": ".py",
   "mimetype": "text/x-python",
   "name": "python",
   "nbconvert_exporter": "python",
   "pygments_lexer": "ipython3",
   "version": "3.9.12"
  }
 },
 "nbformat": 4,
 "nbformat_minor": 5
}
