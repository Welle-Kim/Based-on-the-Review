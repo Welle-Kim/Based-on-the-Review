{
  "nbformat": 4,
  "nbformat_minor": 0,
  "metadata": {
    "colab": {
      "name": "2. [미션] 유가정보_pandas.ipynb의 사본",
      "private_outputs": true,
      "provenance": [],
      "include_colab_link": true
    },
    "kernelspec": {
      "name": "python3",
      "display_name": "Python 3"
    },
    "language_info": {
      "name": "python"
    }
  },
  "cells": [
    {
      "cell_type": "markdown",
      "metadata": {
        "id": "view-in-github",
        "colab_type": "text"
      },
      "source": [
        "<a href=\"https://colab.research.google.com/github/Welle-Kim/Based-on-the-Review/blob/master/2_%5B%EB%AF%B8%EC%85%98%5D_%EC%9C%A0%EA%B0%80%EC%A0%95%EB%B3%B4_pandas_ipynb%EC%9D%98_%EC%82%AC%EB%B3%B8.ipynb\" target=\"_parent\"><img src=\"https://colab.research.google.com/assets/colab-badge.svg\" alt=\"Open In Colab\"/></a>"
      ]
    },
    {
      "cell_type": "markdown",
      "source": [
        "### 코랩에서 한글 사용하기\n",
        "- 한글 글꼴 설치 => [런타임]-[런타임 다시 시작] 클릭\n"
      ],
      "metadata": {
        "id": "xYIeWCv6P7e2"
      }
    },
    {
      "cell_type": "code",
      "execution_count": null,
      "metadata": {
        "id": "tfJJHehuP3cP"
      },
      "outputs": [],
      "source": [
        "# 단계 1: 폰트 설치\n",
        "import matplotlib.font_manager as fm\n",
        "\n",
        "!apt-get -qq -y install fonts-nanum > /dev/null\n",
        "fontpath = '/usr/share/fonts/truetype/nanum/NanumBarunGothic.ttf'\n",
        "font = fm.FontProperties(fname=fontpath, size=9)\n",
        "fm._rebuild()"
      ]
    },
    {
      "cell_type": "code",
      "source": [
        "# 단계 2: 런타임 재시작\n",
        "import os\n",
        "os.kill(os.getpid(), 9)"
      ],
      "metadata": {
        "id": "zHxTprf_O7ij"
      },
      "execution_count": null,
      "outputs": []
    },
    {
      "cell_type": "code",
      "source": [
        "# 단계 3: 한글 폰트 설정\n",
        "import matplotlib.pyplot as plt\n",
        "import matplotlib as mpl\n",
        "import matplotlib.font_manager as fm\n",
        "\n",
        "# 마이너스 표시 문제\n",
        "mpl.rcParams['axes.unicode_minus'] = False\n",
        "\t\n",
        "# 한글 폰트 설정\n",
        "path = '/usr/share/fonts/truetype/nanum/NanumGothicBold.ttf'\n",
        "font_name = fm.FontProperties(fname=path, size=18).get_name()\n",
        "plt.rc('font', family=font_name)\n",
        "fm._rebuild()"
      ],
      "metadata": {
        "id": "dJDIE8JQO9rY"
      },
      "execution_count": null,
      "outputs": []
    },
    {
      "cell_type": "markdown",
      "source": [
        "### 서울시 유가정보(11개 구) 분서"
      ],
      "metadata": {
        "id": "a3ZyazOhRFHj"
      }
    },
    {
      "cell_type": "markdown",
      "source": [
        "#### [미션1] 서울시 유가정보 가져와 1개로 합치기\n",
        "1. \"/content\" 폴더에 \"data\" 폴더 생성후 파일 업로드 \n",
        "2. data 폴더에 있는 데이터 읽어와 oildf에 모두 저장\n",
        "3. 데이터는 concat()을 이용해 데이터의 아래에 추가\n",
        "4. encoding: cp949 또는 utf8이 같이 있어 에러 발생\n",
        "        try: ~ except: ~ 로 해결\n",
        "\n"
      ],
      "metadata": {
        "id": "CrgZ_aagSWbf"
      }
    },
    {
      "cell_type": "markdown",
      "source": [
        "- data 폴더에 있는 파일명/하위폴더명 가져오기: os모듈\n",
        "- for문을 이용 첫번째 파일부터 순차적으로 읽어와 oildf에 concat 진행\n",
        "- 파일을 읽을시 encoding 에러\n",
        "        try: \n",
        "            utf-8 형식 읽어오기\n",
        "        except:\n",
        "            cp949 형식 읽어오기\n",
        "- 빈 DataFrame 변수 생성\n",
        "        oildf=pd.DataFrame()"
      ],
      "metadata": {
        "id": "R_KR6yOrUenq"
      }
    },
    {
      "cell_type": "code",
      "source": [
        "from google.colab import drive\n",
        "drive.mount('/content/drive')"
      ],
      "metadata": {
        "id": "1rFewg9mPrRX"
      },
      "execution_count": null,
      "outputs": []
    },
    {
      "cell_type": "code",
      "source": [
        "import pandas as pd\n",
        "import os\n",
        "\n",
        "fnames=os.listdir(\"/content/data\")\n",
        "\n",
        "oildf = pd.DataFrame()\n",
        "\n",
        "for fname in fnames:\n",
        "    try:\n",
        "        df0=pd.read_csv(\"/content/data/\" + fname, header=2)\n",
        "    except:\n",
        "        df0=pd.read_csv(\"/content/data/\" + fname, header=2, encoding=\"cp949\")\n",
        "\n",
        "    oildf=pd.concat([oildf, df0])  # 옵션: ignore_index=True : index 재설정\n",
        "\n",
        "del df0\n",
        "\n",
        "oildf.reset_index(drop=True, inplace=True)  # \n",
        "\n",
        "display(oildf.head(3))\n",
        "oildf.info()"
      ],
      "metadata": {
        "id": "teWz5QxRRDTQ"
      },
      "execution_count": null,
      "outputs": []
    },
    {
      "cell_type": "markdown",
      "source": [
        "#### [미션2] 데이터 전처리\n",
        "- NaN 값 포함된 데이터 전체 삭제\n",
        "- \"구\" 필드 생성하기\n",
        "- 데이터 출력 필드: 상호, 상표, 구, 세프여부, 휘발유, 경우 만 출력\n",
        "- \"휘발유\", \"경유\": float64로 변경\n",
        "- \"휘발유\", \"경유\" 데이터의 \"-\"를 평균값으로 수정\n"
      ],
      "metadata": {
        "id": "4nTW9_-OVsty"
      }
    },
    {
      "cell_type": "code",
      "source": [
        "#필드별 NAN 개수 확인\n",
        "oildf.isna().sum()"
      ],
      "metadata": {
        "id": "r_IuzQqTcNkF"
      },
      "execution_count": null,
      "outputs": []
    },
    {
      "cell_type": "code",
      "source": [
        "#구필드 생성하기\n",
        "#loc[]함수를 이용해 주소에서 구 추출하기\n",
        "gutext=[]\n",
        "for i in oildf.index:\n",
        "  gutext.append(oildf.loc[i,\"주소\"].split(\" \")[1])\n",
        "  "
      ],
      "metadata": {
        "id": "WCBZWK8VRDbC"
      },
      "execution_count": null,
      "outputs": []
    },
    {
      "cell_type": "code",
      "source": [
        "#한줄쓰기로 표현\n",
        "gutext=[oildf.loc[i,\"주소\"].split(\" \")[1] for i in oildf.index]"
      ],
      "metadata": {
        "id": "gFm8co9URDea"
      },
      "execution_count": null,
      "outputs": []
    },
    {
      "cell_type": "code",
      "source": [
        "# iloc[] 함수를 이용해 주소에서 구 추출하기\n",
        "gutxt=[oildf.iloc[i,2].split(\" \")[1] for i in range(len(oildf))]"
      ],
      "metadata": {
        "id": "qrARn0Q8RDiM"
      },
      "execution_count": null,
      "outputs": []
    },
    {
      "cell_type": "code",
      "source": [
        "print(gutxt)"
      ],
      "metadata": {
        "id": "Q1AqV0IVUBQG"
      },
      "execution_count": null,
      "outputs": []
    },
    {
      "cell_type": "code",
      "source": [
        "# \"구\" 필드 추가\n",
        "oildf[\"구\"]=gutxt"
      ],
      "metadata": {
        "id": "znADWPYgUHYM"
      },
      "execution_count": null,
      "outputs": []
    },
    {
      "cell_type": "code",
      "source": [
        "oildf.shape"
      ],
      "metadata": {
        "id": "qj5_iD7SUisG"
      },
      "execution_count": null,
      "outputs": []
    },
    {
      "cell_type": "code",
      "source": [
        "#상호', '상표', \"구\", '셀프여부', '휘발유', '경유' 필드만 출력\n",
        "# 필드명으로 DataFrame 생성하기\n",
        "oildf1=oildf[[\"상호\",\"상표\",\"구\", '셀프여부', '휘발유', '경유']]"
      ],
      "metadata": {
        "id": "kRRwHGhzUPt3"
      },
      "execution_count": null,
      "outputs": []
    },
    {
      "cell_type": "code",
      "source": [
        "# iloc를 이용한 DataFrame 생성하기\n",
        "oildf2=oildf.iloc[:,[1,3,-1,5,7,8]]\n",
        "oildf2.dtypes"
      ],
      "metadata": {
        "id": "moDKr3P2Ue5t"
      },
      "execution_count": null,
      "outputs": []
    },
    {
      "cell_type": "code",
      "source": [
        "display(oildf1.head(1))\n",
        "display(oildf2.head(1))"
      ],
      "metadata": {
        "id": "aQGGgqQYUmky"
      },
      "execution_count": null,
      "outputs": []
    },
    {
      "cell_type": "code",
      "source": [
        "#NaN / \"-\" 값 0으로 변경하기\n",
        "oildf2=oildf2.fillna(0)"
      ],
      "metadata": {
        "id": "9-V1QGB3Vbjj"
      },
      "execution_count": null,
      "outputs": []
    },
    {
      "cell_type": "code",
      "source": [
        "# 휘발유/경우 데이터에서 \"-\" 값만 찾아 0으로 변경\n",
        "oildf2.loc[oildf2.휘발유==\"-\",'휘발유']=0\n",
        "oildf2.loc[oildf2[\"경유\"]==\"-\",'경유']=0"
      ],
      "metadata": {
        "id": "DBIBg7u-Vntc"
      },
      "execution_count": null,
      "outputs": []
    },
    {
      "cell_type": "code",
      "source": [
        "# 고유값 확인하기\n",
        "oildf2[\"경유\"].unique()"
      ],
      "metadata": {
        "id": "TE9UCf4uWa0B"
      },
      "execution_count": null,
      "outputs": []
    },
    {
      "cell_type": "code",
      "source": [
        "oildf2.head(3)"
      ],
      "metadata": {
        "id": "GboQj3kXW3r5"
      },
      "execution_count": null,
      "outputs": []
    },
    {
      "cell_type": "code",
      "source": [
        "# 휘발유/경우 실수형 자료로 변경하기\n",
        "oildf2=oildf2.astype({\"휘발유\":float,\"경유\":float})\n",
        "oildf2.dtypes "
      ],
      "metadata": {
        "id": "kDaovfA9Wkg1"
      },
      "execution_count": null,
      "outputs": []
    },
    {
      "cell_type": "code",
      "source": [
        "#휘발유/경유가 0인 값 평균으로 변경하기\n",
        "oildf2.loc[oildf2.휘발유==0,\"휘발유\"]=oildf2.loc[oildf2.휘발유!=0,\"휘발유\"].mean()\n",
        "oildf2.loc[oildf2.경유==0,\"경유\"]=oildf2.loc[oildf2[\"경유\"]!=0,\"경유\"].mean()"
      ],
      "metadata": {
        "id": "Tp16S6slXA2B"
      },
      "execution_count": null,
      "outputs": []
    },
    {
      "cell_type": "code",
      "source": [
        "# 0인 값이 인는지 확인\n",
        "oildf2.loc[oildf2[\"경유\"]==\"-\",:]"
      ],
      "metadata": {
        "id": "3FxBAJu2ZR2o"
      },
      "execution_count": null,
      "outputs": []
    },
    {
      "cell_type": "code",
      "source": [
        "# oildf2에서 휘발유 최고가 검색\n",
        "oildf2[oildf2[\"휘발유\"]==oildf2[\"휘발유\"].max()]"
      ],
      "metadata": {
        "id": "G05sHAmJZp5y"
      },
      "execution_count": null,
      "outputs": []
    },
    {
      "cell_type": "code",
      "source": [
        "# \"구\" 필드를 기준으로 평균 값 계산\n",
        "guGroup=oildf2.groupby(by=\"구\").mean()\n",
        "guGroup.head()"
      ],
      "metadata": {
        "id": "0tQaYi8HaLUl"
      },
      "execution_count": null,
      "outputs": []
    },
    {
      "cell_type": "code",
      "source": [
        "# 강북구 데이터만 출력\n",
        "guGroup.loc[[\"강북구\"]]"
      ],
      "metadata": {
        "id": "vm_9FMF-avfI"
      },
      "execution_count": null,
      "outputs": []
    },
    {
      "cell_type": "code",
      "source": [
        "# 강북구 / 양천구 출력\n",
        "guGroup.loc[[\"강북구\",\"양천구\"]]"
      ],
      "metadata": {
        "id": "pp3hl2qFbIQF"
      },
      "execution_count": null,
      "outputs": []
    },
    {
      "cell_type": "code",
      "source": [
        "guGroup.index"
      ],
      "metadata": {
        "id": "B2tCvm5wbOwt"
      },
      "execution_count": null,
      "outputs": []
    },
    {
      "cell_type": "code",
      "source": [
        "# 강북구 ~ 서초구까지 의 휘발유값 출력\n",
        "guGroup.loc[\"강북구\":\"서초구\",\"휘발유\"]"
      ],
      "metadata": {
        "id": "QhnRh54obQUF"
      },
      "execution_count": null,
      "outputs": []
    },
    {
      "cell_type": "code",
      "source": [
        "# 구별 주유소 갯수\n",
        "oildf2.groupby([\"구\"])[\"상표\"].count()"
      ],
      "metadata": {
        "id": "6GqX0u8tbjBK"
      },
      "execution_count": null,
      "outputs": []
    },
    {
      "cell_type": "code",
      "source": [
        "# 구별/상표별 주유소 갯수\n",
        "oildf2.groupby([\"구\",\"상표\"])[[\"휘발유\",\"경유\"]].count()"
      ],
      "metadata": {
        "id": "4oBraxfGbwnT"
      },
      "execution_count": null,
      "outputs": []
    },
    {
      "cell_type": "code",
      "source": [
        "# 구별/상표별 주유소 갯수 계산후 by 값을 데이터로 변경(reset_index() 실행)\n",
        "oildf2.groupby([\"구\",\"상표\"],as_index=False)[\"휘발유\",\"경유\"].count()"
      ],
      "metadata": {
        "id": "E5VPD1VacDna"
      },
      "execution_count": null,
      "outputs": []
    },
    {
      "cell_type": "code",
      "source": [
        "# 그룹 안에서 원한는 데이터 확인\n",
        "oildf2.groupby(\"구\").get_group(\"노원구\")"
      ],
      "metadata": {
        "id": "ARPiu5-xcUu8"
      },
      "execution_count": null,
      "outputs": []
    },
    {
      "cell_type": "markdown",
      "source": [
        "- DataFrame 데이터 저장\n",
        " * df.to_csv(\"경로/파일명.csv\", index=None, encoding=None)\n",
        " * index: True(기본값/index값 저장), False(index 저장 생략)\n",
        " * encoding:\n"
      ],
      "metadata": {
        "id": "17fafI_kctMF"
      }
    },
    {
      "cell_type": "code",
      "source": [
        "# oildf2 csv 파일로 저장하기\n",
        "oildf2.to_csv(\"서울시유류정보_0314.csv\",index=False,encoding=\"cp949\")"
      ],
      "metadata": {
        "id": "6-zsnrejcqPs"
      },
      "execution_count": null,
      "outputs": []
    },
    {
      "cell_type": "code",
      "source": [
        "# 코랩에서 저장한 파일 다운로드\n",
        "from google.colab import files\n",
        "files.download(\"서울시유류정보_0314.csv\")"
      ],
      "metadata": {
        "id": "GVXqd0FvdClu"
      },
      "execution_count": null,
      "outputs": []
    }
  ]
}