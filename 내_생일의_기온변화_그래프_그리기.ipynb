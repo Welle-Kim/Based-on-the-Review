{
  "nbformat": 4,
  "nbformat_minor": 0,
  "metadata": {
    "colab": {
      "name": "내 생일의 기온변화 그래프 그리기.ipynb",
      "provenance": [],
      "authorship_tag": "ABX9TyOMlxFDM1ohB9rZM7a04u7O",
      "include_colab_link": true
    },
    "kernelspec": {
      "name": "python3",
      "display_name": "Python 3"
    },
    "language_info": {
      "name": "python"
    }
  },
  "cells": [
    {
      "cell_type": "markdown",
      "metadata": {
        "id": "view-in-github",
        "colab_type": "text"
      },
      "source": [
        "<a href=\"https://colab.research.google.com/github/Welle-Kim/Based-on-the-Review/blob/master/%EB%82%B4_%EC%83%9D%EC%9D%BC%EC%9D%98_%EA%B8%B0%EC%98%A8%EB%B3%80%ED%99%94_%EA%B7%B8%EB%9E%98%ED%94%84_%EA%B7%B8%EB%A6%AC%EA%B8%B0.ipynb\" target=\"_parent\"><img src=\"https://colab.research.google.com/assets/colab-badge.svg\" alt=\"Open In Colab\"/></a>"
      ]
    },
    {
      "cell_type": "code",
      "source": [
        "#코랩에서 한글사용하기\n",
        "!sudo apt-get install -y fonts-nanum\n",
        "!sudo fc-cache -fv\n",
        "!rm ~/.cache/matplotlib -rf"
      ],
      "metadata": {
        "colab": {
          "base_uri": "https://localhost:8080/"
        },
        "id": "gZ5G4z_mldp6",
        "outputId": "91eda504-b738-40cb-d5e8-3bba8ce06c67"
      },
      "execution_count": 69,
      "outputs": [
        {
          "output_type": "stream",
          "name": "stdout",
          "text": [
            "Reading package lists... Done\n",
            "Building dependency tree       \n",
            "Reading state information... Done\n",
            "fonts-nanum is already the newest version (20170925-1).\n",
            "The following package was automatically installed and is no longer required:\n",
            "  libnvidia-common-460\n",
            "Use 'sudo apt autoremove' to remove it.\n",
            "0 upgraded, 0 newly installed, 0 to remove and 49 not upgraded.\n",
            "/usr/share/fonts: caching, new cache contents: 0 fonts, 1 dirs\n",
            "/usr/share/fonts/truetype: caching, new cache contents: 0 fonts, 3 dirs\n",
            "/usr/share/fonts/truetype/humor-sans: caching, new cache contents: 1 fonts, 0 dirs\n",
            "/usr/share/fonts/truetype/liberation: caching, new cache contents: 16 fonts, 0 dirs\n",
            "/usr/share/fonts/truetype/nanum: caching, new cache contents: 10 fonts, 0 dirs\n",
            "/usr/local/share/fonts: caching, new cache contents: 0 fonts, 0 dirs\n",
            "/root/.local/share/fonts: skipping, no such directory\n",
            "/root/.fonts: skipping, no such directory\n",
            "/var/cache/fontconfig: cleaning cache directory\n",
            "/root/.cache/fontconfig: not cleaning non-existent cache directory\n",
            "/root/.fontconfig: not cleaning non-existent cache directory\n",
            "fc-cache: succeeded\n"
          ]
        }
      ]
    },
    {
      "cell_type": "code",
      "source": [
        "# 런타임 재시작\n",
        "import os\n",
        "os.kill(os.getpid(), 9)"
      ],
      "metadata": {
        "id": "IufuaUUQlhvr"
      },
      "execution_count": null,
      "outputs": []
    },
    {
      "cell_type": "code",
      "source": [
        "import csv\n",
        "import time"
      ],
      "metadata": {
        "id": "VQ5ltuHMljnO"
      },
      "execution_count": 1,
      "outputs": []
    },
    {
      "cell_type": "markdown",
      "source": [
        "- 날씨 데이터 읽어오기\n",
        "- 헤더 부분(제목)을 next() 함수를 사용해 제외\n",
        "- 내 생일의 최고기온/최저기온 저장 변수 생성"
      ],
      "metadata": {
        "id": "VFD_m9rzlJii"
      }
    },
    {
      "cell_type": "code",
      "execution_count": 51,
      "metadata": {
        "colab": {
          "base_uri": "https://localhost:8080/"
        },
        "id": "UBUmFSD6lAHf",
        "outputId": "3ed70520-3858-428f-a465-43883edd1dc9"
      },
      "outputs": [
        {
          "output_type": "stream",
          "name": "stdout",
          "text": [
            "['지점명', '일시', '평균기온(℃)', '최저기온(℃)', '최고기온(℃)'] \n",
            "\n",
            "기상관측을 시작한 이래 서울의 최고기온은 20.7이고,최저기온은 -23.1,날짜는 1907-10-01입니다.\n",
            "0.0704352855682373\n"
          ]
        }
      ],
      "source": [
        "strt=time.time()\n",
        "\n",
        "f=open(\"seoul_weather.csv\",encoding=\"cp949\")\n",
        "data=csv.reader(f)\n",
        "header=next(data)\n",
        "print(header,\"\\n\")\n",
        "\n",
        "# \"최고기온\" 중 가장 높은 온도값/해당 온도의 \"일시\"를 출력\n",
        "# 일자별 최고 온도 찾기 = > 이 온도의 날짜 가져오기\n",
        "\n",
        "low_temp= 999\n",
        "max_temp=-999 # 최고 온도를 계산하기 위한 변수(최초 -999 부여)\n",
        "max_date=\"\" # 최고 온도를 찾았을때 날짜를 저장할 변수\n",
        "\n",
        "for row in data:\n",
        "  # row 값 => ['서울', '1907-10-01', '13.5', '7.9', '20.7']\n",
        "  try:\n",
        "    row[-1]=float(row[-1]) # row의 마지막 데이터(최고기온)의 dtype => 실수형으로 변경\n",
        "    if max_temp<row[-1]:  # 현재 최고온도가 기본 최고온도보다 높다면 기본온도 변경\n",
        "      max_temp=row[-1]\n",
        "      max_date = row[1]\n",
        "  except:\n",
        "    continue\n",
        "    # row[-1] = -999\n",
        "    #print(f\"row[-1]에 입력된 값:{row[-1]}입니다.\")\n",
        "\n",
        "  for row in data:\n",
        "    # row 값 => ['서울', '1907-10-01', '13.5', '7.9', '20.7']\n",
        "    try:\n",
        "      row[-2]=float(row[-2]) # row의 마지막 데이터(최고기온)의 dtype => 실수형으로 변경\n",
        "      if low_temp>row[-2]:  # 현재 최고온도가 기본 최고온도보다 높다면 기본온도 변경\n",
        "        low_temp=row[-2]\n",
        "      if row[-1] == '':\n",
        "        row[-1] = -999\n",
        "        row[-1] = float(row[-1])\n",
        "    except:\n",
        "      continue\n",
        "    # row[-1] = -999\n",
        "    #print(f\"row[-1]에 입력된 값:{row[-1]}입니다.\")\n",
        "\n",
        "\n",
        "f.close()\n",
        "\n",
        "print(f\"기상관측을 시작한 이래 서울의 최고기온은 {max_temp}이고,최저기온은 {low_temp},날짜는 {max_date}입니다.\")\n",
        "\n",
        "endt=time.time()\n",
        "print(endt-strt)\n"
      ]
    },
    {
      "cell_type": "markdown",
      "source": [
        "- 년도별 생일날의 최고기온/최저기온 추출하기\n",
        "- 추출한 데이터 리스트 변수에 저장하기"
      ],
      "metadata": {
        "id": "F-xskYwXmElG"
      }
    },
    {
      "cell_type": "code",
      "source": [
        "# 모듈 연결 및 파일 읽기\n",
        "import pandas as pd\n",
        "df=pd.read_csv(\"seoul_weather.csv\",encoding=\"cp949\")\n",
        "df.info()"
      ],
      "metadata": {
        "id": "oTeAJ99mmAhy",
        "colab": {
          "base_uri": "https://localhost:8080/"
        },
        "outputId": "fead8592-55b3-456c-f712-cf641c1d9189"
      },
      "execution_count": 3,
      "outputs": [
        {
          "output_type": "stream",
          "name": "stdout",
          "text": [
            "<class 'pandas.core.frame.DataFrame'>\n",
            "RangeIndex: 41382 entries, 0 to 41381\n",
            "Data columns (total 5 columns):\n",
            " #   Column   Non-Null Count  Dtype  \n",
            "---  ------   --------------  -----  \n",
            " 0   지점명      41382 non-null  object \n",
            " 1   일시       41382 non-null  object \n",
            " 2   평균기온(℃)  40626 non-null  float64\n",
            " 3   최저기온(℃)  40625 non-null  float64\n",
            " 4   최고기온(℃)  40624 non-null  float64\n",
            "dtypes: float64(3), object(2)\n",
            "memory usage: 1.6+ MB\n"
          ]
        }
      ]
    },
    {
      "cell_type": "code",
      "source": [
        "# 결측지(NaN) 처리 => 한행에 3개이상 존재하면 해당 행 삭제\n",
        "print(df.isna().sum()) # 각 필드(열)별 NaN 갯수 확인(삭제전)\n",
        "\n",
        "df=df.dropna(thresh=3)\n",
        "print(df.isna().sum()) #삭제후"
      ],
      "metadata": {
        "colab": {
          "base_uri": "https://localhost:8080/"
        },
        "id": "c9v-MswHS79k",
        "outputId": "ac468eae-62f8-4e32-861a-ac60044150c4"
      },
      "execution_count": 4,
      "outputs": [
        {
          "output_type": "stream",
          "name": "stdout",
          "text": [
            "지점명          0\n",
            "일시           0\n",
            "평균기온(℃)    756\n",
            "최저기온(℃)    757\n",
            "최고기온(℃)    758\n",
            "dtype: int64\n",
            "지점명        0\n",
            "일시         0\n",
            "평균기온(℃)    0\n",
            "최저기온(℃)    1\n",
            "최고기온(℃)    2\n",
            "dtype: int64\n"
          ]
        }
      ]
    },
    {
      "cell_type": "code",
      "source": [
        "df=df.fillna(method=\"bfill\")\n",
        "print(df.isna().sum())"
      ],
      "metadata": {
        "colab": {
          "base_uri": "https://localhost:8080/"
        },
        "id": "NwOZbZ8ETJdv",
        "outputId": "aa2f0dca-b045-4f4b-9d89-83e60b44d43e"
      },
      "execution_count": 5,
      "outputs": [
        {
          "output_type": "stream",
          "name": "stdout",
          "text": [
            "지점명        0\n",
            "일시         0\n",
            "평균기온(℃)    0\n",
            "최저기온(℃)    0\n",
            "최고기온(℃)    0\n",
            "dtype: int64\n"
          ]
        }
      ]
    },
    {
      "cell_type": "code",
      "source": [
        "df.iloc[:,1]"
      ],
      "metadata": {
        "colab": {
          "base_uri": "https://localhost:8080/"
        },
        "id": "nLF7amWUkd41",
        "outputId": "31c05a22-fc17-49b1-d9ae-a237200557f9"
      },
      "execution_count": 53,
      "outputs": [
        {
          "output_type": "execute_result",
          "data": {
            "text/plain": [
              "0        1907-10-01\n",
              "1        1907-10-02\n",
              "2        1907-10-03\n",
              "3        1907-10-04\n",
              "4        1907-10-05\n",
              "            ...    \n",
              "41377    2022-03-09\n",
              "41378    2022-03-10\n",
              "41379    2022-03-11\n",
              "41380    2022-03-12\n",
              "41381    2022-03-13\n",
              "Name: 일시, Length: 40626, dtype: object"
            ]
          },
          "metadata": {},
          "execution_count": 53
        }
      ]
    },
    {
      "cell_type": "code",
      "source": [
        "# 모든 생일날의 최고/최저 온도와 날짜 받아오기\n",
        "import csv\n",
        "\n",
        "f=open(\"seoul_weather.csv\",encoding=\"cp949\")\n",
        "data=csv.reader(f)\n",
        "next(data)\n",
        "\n",
        "max_temp=[]\n",
        "min_temp=[]\n",
        "date_tmp=[]\n",
        "\n",
        "for row in data: # csv.reader에서 1개씩 읽어오기\n",
        "  # NaN 확인(최고/최저 기온 모두 값이 있다면/NaN이 아니라면)\n",
        "  if row[-2]!=\"\" and row[-1]!=\"\":\n",
        "    if int(row[1].split(\"-\")[0])>=1997:\n",
        "      if row[1][5:7]==\"07\"and row[1][-2:]==\"13\":\n",
        "        max_temp.append(float(row[-1])) #최고기온 리스트 추가\n",
        "        min_temp.append(float(row[-2])) #최저기온리스트 추가\n",
        "        date_tmp.append(row[1][:4])\n",
        "\n",
        "print(max_temp)"
      ],
      "metadata": {
        "colab": {
          "base_uri": "https://localhost:8080/"
        },
        "id": "-SUGUjWxk0Nz",
        "outputId": "557bd842-2297-401b-d338-e661120ec0df"
      },
      "execution_count": 2,
      "outputs": [
        {
          "output_type": "stream",
          "name": "stdout",
          "text": [
            "[30.6, 29.4, 30.9, 31.0, 31.4, 29.3, 29.9, 22.8, 26.1, 27.2, 30.7, 29.7, 27.7, 31.3, 26.2, 29.3, 25.6, 29.4, 24.9, 29.5, 32.1, 30.9, 29.7, 21.7, 31.5]\n"
          ]
        }
      ]
    },
    {
      "cell_type": "code",
      "source": [
        "!sudo apt-get install -y fonts-nanum\n",
        "!sudo fc-cache -fv\n",
        "!rm ~/.cache/matplotlib -rf"
      ],
      "metadata": {
        "colab": {
          "base_uri": "https://localhost:8080/"
        },
        "id": "ywPWF1Xgp5L1",
        "outputId": "4c4b3bad-2feb-4a6e-a5bf-1aa65435c1ec"
      },
      "execution_count": 5,
      "outputs": [
        {
          "output_type": "stream",
          "name": "stdout",
          "text": [
            "Reading package lists... Done\n",
            "Building dependency tree       \n",
            "Reading state information... Done\n",
            "fonts-nanum is already the newest version (20170925-1).\n",
            "The following package was automatically installed and is no longer required:\n",
            "  libnvidia-common-460\n",
            "Use 'sudo apt autoremove' to remove it.\n",
            "0 upgraded, 0 newly installed, 0 to remove and 49 not upgraded.\n",
            "/usr/share/fonts: caching, new cache contents: 0 fonts, 1 dirs\n",
            "/usr/share/fonts/truetype: caching, new cache contents: 0 fonts, 3 dirs\n",
            "/usr/share/fonts/truetype/humor-sans: caching, new cache contents: 1 fonts, 0 dirs\n",
            "/usr/share/fonts/truetype/liberation: caching, new cache contents: 16 fonts, 0 dirs\n",
            "/usr/share/fonts/truetype/nanum: caching, new cache contents: 10 fonts, 0 dirs\n",
            "/usr/local/share/fonts: caching, new cache contents: 0 fonts, 0 dirs\n",
            "/root/.local/share/fonts: skipping, no such directory\n",
            "/root/.fonts: skipping, no such directory\n",
            "/var/cache/fontconfig: cleaning cache directory\n",
            "/root/.cache/fontconfig: not cleaning non-existent cache directory\n",
            "/root/.fontconfig: not cleaning non-existent cache directory\n",
            "fc-cache: succeeded\n"
          ]
        }
      ]
    },
    {
      "cell_type": "markdown",
      "source": [
        "###그래프 그리기\n",
        "\n",
        "-최고/최저 온도를 출력하는 차트 그리기"
      ],
      "metadata": {
        "id": "3WLFxYy7oJhf"
      }
    },
    {
      "cell_type": "code",
      "source": [
        "import matplotlib.pyplot as plt\n",
        "\n",
        "plt.rc(\"font\",family=\"NanumBarunGothic\")\n",
        "\n",
        "plt.figure(figsize=(12,5))\n",
        "plt.plot(max_temp,label=\"최고기온\")\n",
        "plt.plot(min_temp,label=\"최저기온\")\n",
        "\n",
        "plt.title(\"생일별 최고/최저 기온_기준: 7월 10일\", size = 15)\n",
        "plt.legend()\n",
        "plt.xticks(list(range(len(date_tmp))), labels=date_tmp, rotation=90, size=9)\n",
        "\n",
        "plt.show()"
      ],
      "metadata": {
        "colab": {
          "base_uri": "https://localhost:8080/",
          "height": 349
        },
        "id": "rwi47niamvUQ",
        "outputId": "9dedf9b0-e399-41de-9b50-3eb77856e9bd"
      },
      "execution_count": 3,
      "outputs": [
        {
          "output_type": "display_data",
          "data": {
            "text/plain": [
              "<Figure size 864x360 with 1 Axes>"
            ],
            "image/png": "[encoded data removed]"
          },
          "metadata": {
            "needs_background": "light"
          }
        }
      ]
    },
    {
      "cell_type": "markdown",
      "source": [
        "##pandas 모듈 이용"
      ],
      "metadata": {
        "id": "dQ77D4k7qGw4"
      }
    },
    {
      "cell_type": "code",
      "source": [
        "import pandas as pd\n",
        "\n",
        "#pandas 모듈로 파일 읽어오기\n",
        "df=pd.read_csv(\"seoul_weather.csv\",encoding=\"cp949\")\n",
        "#print(df.info())\n",
        "\n",
        "# df에서 \"일시\" 날짜형 데이터로 변경하기\n",
        "df[\"일시\"]=pd.to_datetime(df[\"일시\"])\n",
        "# print(df.dtypes)\n",
        "\n",
        "df=df.dropna(thresh=3)\n",
        "df=df.fillna(method=\"ffill\")\n",
        "# print(df.isna().sum())\n",
        "\n",
        "# 생일을 기준으로 오늘날짜까지 생일날의 최고/최저 온도 추출하기\n",
        "bir_df=df[(df[\"일시\"]>=\"1997-07-10\")&(df[\"일시\"].dt.month==7)&(df[\"일시\"].dt.day==13)]\n",
        "bir_df"
      ],
      "metadata": {
        "colab": {
          "base_uri": "https://localhost:8080/",
          "height": 833
        },
        "id": "nVuVCmasqE4b",
        "outputId": "9a702e6b-ca1c-4b32-b76f-bc62c00dbf19"
      },
      "execution_count": 8,
      "outputs": [
        {
          "output_type": "execute_result",
          "data": {
            "text/plain": [
              "      지점명         일시  평균기온(℃)  최저기온(℃)  최고기온(℃)\n",
              "32362  서울 1997-07-13     25.2     19.6     30.6\n",
              "32727  서울 1998-07-13     25.8     22.0     29.4\n",
              "33092  서울 1999-07-13     26.1     20.4     30.9\n",
              "33458  서울 2000-07-13     25.9     23.1     31.0\n",
              "33823  서울 2001-07-13     26.7     22.3     31.4\n",
              "34188  서울 2002-07-13     25.1     22.3     29.3\n",
              "34553  서울 2003-07-13     24.5     20.4     29.9\n",
              "34919  서울 2004-07-13     21.0     19.7     22.8\n",
              "35284  서울 2005-07-13     23.3     21.8     26.1\n",
              "35649  서울 2006-07-13     25.2     23.7     27.2\n",
              "36014  서울 2007-07-13     25.7     21.6     30.7\n",
              "36380  서울 2008-07-13     25.8     22.9     29.7\n",
              "36745  서울 2009-07-13     23.2     19.9     27.7\n",
              "37110  서울 2010-07-13     26.1     22.0     31.3\n",
              "37475  서울 2011-07-13     24.3     22.5     26.2\n",
              "37841  서울 2012-07-13     26.1     21.8     29.3\n",
              "38206  서울 2013-07-13     24.2     22.2     25.6\n",
              "38571  서울 2014-07-13     25.4     23.0     29.4\n",
              "38936  서울 2015-07-13     23.1     21.4     24.9\n",
              "39302  서울 2016-07-13     26.3     23.2     29.5\n",
              "39667  서울 2017-07-13     27.6     23.1     32.1\n",
              "40032  서울 2018-07-13     27.3     24.7     30.9\n",
              "40397  서울 2019-07-13     24.9     22.1     29.7\n",
              "40763  서울 2020-07-13     18.7     17.7     21.7\n",
              "41138  서울 2021-07-13     28.8     26.3     31.5"
            ],
            "text/html": [
              "\n",
              "  <div id=\"df-32086078-5590-490b-a3c8-9c7585e04ea7\">\n",
              "    <div class=\"colab-df-container\">\n",
              "      <div>\n",
              "<style scoped>\n",
              "    .dataframe tbody tr th:only-of-type {\n",
              "        vertical-align: middle;\n",
              "    }\n",
              "\n",
              "    .dataframe tbody tr th {\n",
              "        vertical-align: top;\n",
              "    }\n",
              "\n",
              "    .dataframe thead th {\n",
              "        text-align: right;\n",
              "    }\n",
              "</style>\n",
              "<table border=\"1\" class=\"dataframe\">\n",
              "  <thead>\n",
              "    <tr style=\"text-align: right;\">\n",
              "      <th></th>\n",
              "      <th>지점명</th>\n",
              "      <th>일시</th>\n",
              "      <th>평균기온(℃)</th>\n",
              "      <th>최저기온(℃)</th>\n",
              "      <th>최고기온(℃)</th>\n",
              "    </tr>\n",
              "  </thead>\n",
              "  <tbody>\n",
              "    <tr>\n",
              "      <th>32362</th>\n",
              "      <td>서울</td>\n",
              "      <td>1997-07-13</td>\n",
              "      <td>25.2</td>\n",
              "      <td>19.6</td>\n",
              "      <td>30.6</td>\n",
              "    </tr>\n",
              "    <tr>\n",
              "      <th>32727</th>\n",
              "      <td>서울</td>\n",
              "      <td>1998-07-13</td>\n",
              "      <td>25.8</td>\n",
              "      <td>22.0</td>\n",
              "      <td>29.4</td>\n",
              "    </tr>\n",
              "    <tr>\n",
              "      <th>33092</th>\n",
              "      <td>서울</td>\n",
              "      <td>1999-07-13</td>\n",
              "      <td>26.1</td>\n",
              "      <td>20.4</td>\n",
              "      <td>30.9</td>\n",
              "    </tr>\n",
              "    <tr>\n",
              "      <th>33458</th>\n",
              "      <td>서울</td>\n",
              "      <td>2000-07-13</td>\n",
              "      <td>25.9</td>\n",
              "      <td>23.1</td>\n",
              "      <td>31.0</td>\n",
              "    </tr>\n",
              "    <tr>\n",
              "      <th>33823</th>\n",
              "      <td>서울</td>\n",
              "      <td>2001-07-13</td>\n",
              "      <td>26.7</td>\n",
              "      <td>22.3</td>\n",
              "      <td>31.4</td>\n",
              "    </tr>\n",
              "    <tr>\n",
              "      <th>34188</th>\n",
              "      <td>서울</td>\n",
              "      <td>2002-07-13</td>\n",
              "      <td>25.1</td>\n",
              "      <td>22.3</td>\n",
              "      <td>29.3</td>\n",
              "    </tr>\n",
              "    <tr>\n",
              "      <th>34553</th>\n",
              "      <td>서울</td>\n",
              "      <td>2003-07-13</td>\n",
              "      <td>24.5</td>\n",
              "      <td>20.4</td>\n",
              "      <td>29.9</td>\n",
              "    </tr>\n",
              "    <tr>\n",
              "      <th>34919</th>\n",
              "      <td>서울</td>\n",
              "      <td>2004-07-13</td>\n",
              "      <td>21.0</td>\n",
              "      <td>19.7</td>\n",
              "      <td>22.8</td>\n",
              "    </tr>\n",
              "    <tr>\n",
              "      <th>35284</th>\n",
              "      <td>서울</td>\n",
              "      <td>2005-07-13</td>\n",
              "      <td>23.3</td>\n",
              "      <td>21.8</td>\n",
              "      <td>26.1</td>\n",
              "    </tr>\n",
              "    <tr>\n",
              "      <th>35649</th>\n",
              "      <td>서울</td>\n",
              "      <td>2006-07-13</td>\n",
              "      <td>25.2</td>\n",
              "      <td>23.7</td>\n",
              "      <td>27.2</td>\n",
              "    </tr>\n",
              "    <tr>\n",
              "      <th>36014</th>\n",
              "      <td>서울</td>\n",
              "      <td>2007-07-13</td>\n",
              "      <td>25.7</td>\n",
              "      <td>21.6</td>\n",
              "      <td>30.7</td>\n",
              "    </tr>\n",
              "    <tr>\n",
              "      <th>36380</th>\n",
              "      <td>서울</td>\n",
              "      <td>2008-07-13</td>\n",
              "      <td>25.8</td>\n",
              "      <td>22.9</td>\n",
              "      <td>29.7</td>\n",
              "    </tr>\n",
              "    <tr>\n",
              "      <th>36745</th>\n",
              "      <td>서울</td>\n",
              "      <td>2009-07-13</td>\n",
              "      <td>23.2</td>\n",
              "      <td>19.9</td>\n",
              "      <td>27.7</td>\n",
              "    </tr>\n",
              "    <tr>\n",
              "      <th>37110</th>\n",
              "      <td>서울</td>\n",
              "      <td>2010-07-13</td>\n",
              "      <td>26.1</td>\n",
              "      <td>22.0</td>\n",
              "      <td>31.3</td>\n",
              "    </tr>\n",
              "    <tr>\n",
              "      <th>37475</th>\n",
              "      <td>서울</td>\n",
              "      <td>2011-07-13</td>\n",
              "      <td>24.3</td>\n",
              "      <td>22.5</td>\n",
              "      <td>26.2</td>\n",
              "    </tr>\n",
              "    <tr>\n",
              "      <th>37841</th>\n",
              "      <td>서울</td>\n",
              "      <td>2012-07-13</td>\n",
              "      <td>26.1</td>\n",
              "      <td>21.8</td>\n",
              "      <td>29.3</td>\n",
              "    </tr>\n",
              "    <tr>\n",
              "      <th>38206</th>\n",
              "      <td>서울</td>\n",
              "      <td>2013-07-13</td>\n",
              "      <td>24.2</td>\n",
              "      <td>22.2</td>\n",
              "      <td>25.6</td>\n",
              "    </tr>\n",
              "    <tr>\n",
              "      <th>38571</th>\n",
              "      <td>서울</td>\n",
              "      <td>2014-07-13</td>\n",
              "      <td>25.4</td>\n",
              "      <td>23.0</td>\n",
              "      <td>29.4</td>\n",
              "    </tr>\n",
              "    <tr>\n",
              "      <th>38936</th>\n",
              "      <td>서울</td>\n",
              "      <td>2015-07-13</td>\n",
              "      <td>23.1</td>\n",
              "      <td>21.4</td>\n",
              "      <td>24.9</td>\n",
              "    </tr>\n",
              "    <tr>\n",
              "      <th>39302</th>\n",
              "      <td>서울</td>\n",
              "      <td>2016-07-13</td>\n",
              "      <td>26.3</td>\n",
              "      <td>23.2</td>\n",
              "      <td>29.5</td>\n",
              "    </tr>\n",
              "    <tr>\n",
              "      <th>39667</th>\n",
              "      <td>서울</td>\n",
              "      <td>2017-07-13</td>\n",
              "      <td>27.6</td>\n",
              "      <td>23.1</td>\n",
              "      <td>32.1</td>\n",
              "    </tr>\n",
              "    <tr>\n",
              "      <th>40032</th>\n",
              "      <td>서울</td>\n",
              "      <td>2018-07-13</td>\n",
              "      <td>27.3</td>\n",
              "      <td>24.7</td>\n",
              "      <td>30.9</td>\n",
              "    </tr>\n",
              "    <tr>\n",
              "      <th>40397</th>\n",
              "      <td>서울</td>\n",
              "      <td>2019-07-13</td>\n",
              "      <td>24.9</td>\n",
              "      <td>22.1</td>\n",
              "      <td>29.7</td>\n",
              "    </tr>\n",
              "    <tr>\n",
              "      <th>40763</th>\n",
              "      <td>서울</td>\n",
              "      <td>2020-07-13</td>\n",
              "      <td>18.7</td>\n",
              "      <td>17.7</td>\n",
              "      <td>21.7</td>\n",
              "    </tr>\n",
              "    <tr>\n",
              "      <th>41138</th>\n",
              "      <td>서울</td>\n",
              "      <td>2021-07-13</td>\n",
              "      <td>28.8</td>\n",
              "      <td>26.3</td>\n",
              "      <td>31.5</td>\n",
              "    </tr>\n",
              "  </tbody>\n",
              "</table>\n",
              "</div>\n",
              "      <button class=\"colab-df-convert\" onclick=\"convertToInteractive('df-32086078-5590-490b-a3c8-9c7585e04ea7')\"\n",
              "              title=\"Convert this dataframe to an interactive table.\"\n",
              "              style=\"display:none;\">\n",
              "        \n",
              "  <svg xmlns=\"http://www.w3.org/2000/svg\" height=\"24px\"viewBox=\"0 0 24 24\"\n",
              "       width=\"24px\">\n",
              "    <path d=\"M0 0h24v24H0V0z\" fill=\"none\"/>\n",
              "    <path d=\"M18.56 5.44l.94 2.06.94-2.06 2.06-.94-2.06-.94-.94-2.06-.94 2.06-2.06.94zm-11 1L8.5 8.5l.94-2.06 2.06-.94-2.06-.94L8.5 2.5l-.94 2.06-2.06.94zm10 10l.94 2.06.94-2.06 2.06-.94-2.06-.94-.94-2.06-.94 2.06-2.06.94z\"/><path d=\"M17.41 7.96l-1.37-1.37c-.4-.4-.92-.59-1.43-.59-.52 0-1.04.2-1.43.59L10.3 9.45l-7.72 7.72c-.78.78-.78 2.05 0 2.83L4 21.41c.39.39.9.59 1.41.59.51 0 1.02-.2 1.41-.59l7.78-7.78 2.81-2.81c.8-.78.8-2.07 0-2.86zM5.41 20L4 18.59l7.72-7.72 1.47 1.35L5.41 20z\"/>\n",
              "  </svg>\n",
              "      </button>\n",
              "      \n",
              "  <style>\n",
              "    .colab-df-container {\n",
              "      display:flex;\n",
              "      flex-wrap:wrap;\n",
              "      gap: 12px;\n",
              "    }\n",
              "\n",
              "    .colab-df-convert {\n",
              "      background-color: #E8F0FE;\n",
              "      border: none;\n",
              "      border-radius: 50%;\n",
              "      cursor: pointer;\n",
              "      display: none;\n",
              "      fill: #1967D2;\n",
              "      height: 32px;\n",
              "      padding: 0 0 0 0;\n",
              "      width: 32px;\n",
              "    }\n",
              "\n",
              "    .colab-df-convert:hover {\n",
              "      background-color: #E2EBFA;\n",
              "      box-shadow: 0px 1px 2px rgba(60, 64, 67, 0.3), 0px 1px 3px 1px rgba(60, 64, 67, 0.15);\n",
              "      fill: #174EA6;\n",
              "    }\n",
              "\n",
              "    [theme=dark] .colab-df-convert {\n",
              "      background-color: #3B4455;\n",
              "      fill: #D2E3FC;\n",
              "    }\n",
              "\n",
              "    [theme=dark] .colab-df-convert:hover {\n",
              "      background-color: #434B5C;\n",
              "      box-shadow: 0px 1px 3px 1px rgba(0, 0, 0, 0.15);\n",
              "      filter: drop-shadow(0px 1px 2px rgba(0, 0, 0, 0.3));\n",
              "      fill: #FFFFFF;\n",
              "    }\n",
              "  </style>\n",
              "\n",
              "      <script>\n",
              "        const buttonEl =\n",
              "          document.querySelector('#df-32086078-5590-490b-a3c8-9c7585e04ea7 button.colab-df-convert');\n",
              "        buttonEl.style.display =\n",
              "          google.colab.kernel.accessAllowed ? 'block' : 'none';\n",
              "\n",
              "        async function convertToInteractive(key) {\n",
              "          const element = document.querySelector('#df-32086078-5590-490b-a3c8-9c7585e04ea7');\n",
              "          const dataTable =\n",
              "            await google.colab.kernel.invokeFunction('convertToInteractive',\n",
              "                                                     [key], {});\n",
              "          if (!dataTable) return;\n",
              "\n",
              "          const docLinkHtml = 'Like what you see? Visit the ' +\n",
              "            '<a target=\"_blank\" href=https://colab.research.google.com/notebooks/data_table.ipynb>data table notebook</a>'\n",
              "            + ' to learn more about interactive tables.';\n",
              "          element.innerHTML = '';\n",
              "          dataTable['output_type'] = 'display_data';\n",
              "          await google.colab.output.renderOutput(dataTable, element);\n",
              "          const docLink = document.createElement('div');\n",
              "          docLink.innerHTML = docLinkHtml;\n",
              "          element.appendChild(docLink);\n",
              "        }\n",
              "      </script>\n",
              "    </div>\n",
              "  </div>\n",
              "  "
            ]
          },
          "metadata": {},
          "execution_count": 8
        }
      ]
    },
    {
      "cell_type": "code",
      "source": [
        "# 차트에 출력하기\n",
        "import matplotlib.pyplot as plt\n",
        "\n",
        "plt.rc(\"font\",family=\"NanumBarunGothic\")\n",
        "\n",
        "plt.figure( figsize = (12, 5))\n",
        "plt.plot(bir_df['최고기온(℃)'], label=\"최고기온\")\n",
        "plt.plot(bir_df['최저기온(℃)'], label=\"최저기온\")\n",
        "\n",
        "date_lst=bir_df[\"일시\"].dt.year\n",
        "\n",
        "plt.title(\"생일별 최고/최저 기온_기준:7월 10일\",size=15)\n",
        "plt.legend()\n",
        "\n",
        "plt.show()"
      ],
      "metadata": {
        "colab": {
          "base_uri": "https://localhost:8080/",
          "height": 338
        },
        "id": "oJE0KWSlrCC2",
        "outputId": "2a9ad032-0114-469d-fdb6-506645e1e804"
      },
      "execution_count": 9,
      "outputs": [
        {
          "output_type": "display_data",
          "data": {
            "text/plain": [
              "<Figure size 864x360 with 1 Axes>"
            ],
            "image/png": "[encoded data removed]"
          },
          "metadata": {
            "needs_background": "light"
          }
        }
      ]
    }
  ]
}