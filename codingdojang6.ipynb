{
  "nbformat": 4,
  "nbformat_minor": 0,
  "metadata": {
    "colab": {
      "provenance": [],
      "authorship_tag": "ABX9TyN9F1FT0MkHpEOscAF3l5xS",
      "include_colab_link": true
    },
    "kernelspec": {
      "name": "python3",
      "display_name": "Python 3"
    },
    "language_info": {
      "name": "python"
    }
  },
  "cells": [
    {
      "cell_type": "markdown",
      "metadata": {
        "id": "view-in-github",
        "colab_type": "text"
      },
      "source": [
        "<a href=\"https://colab.research.google.com/github/Welle-Kim/Based-on-the-Review/blob/master/codingdojang6.ipynb\" target=\"_parent\"><img src=\"https://colab.research.google.com/assets/colab-badge.svg\" alt=\"Open In Colab\"/></a>"
      ]
    },
    {
      "cell_type": "code",
      "execution_count": null,
      "metadata": {
        "colab": {
          "base_uri": "https://localhost:8080/"
        },
        "id": "N2P-6H_jAv35",
        "outputId": "6f21124d-1ac5-4d7e-cea8-107f2effa753"
      },
      "outputs": [
        {
          "output_type": "execute_result",
          "data": {
            "text/plain": [
              "11"
            ]
          },
          "metadata": {},
          "execution_count": 2
        }
      ],
      "source": [
        "def plus_ten(x):\n",
        "  return x+10\n",
        "\n",
        "plus_ten(1)"
      ]
    },
    {
      "cell_type": "code",
      "source": [
        "lambda x: x+10"
      ],
      "metadata": {
        "colab": {
          "base_uri": "https://localhost:8080/"
        },
        "id": "YbTyMR3aBArT",
        "outputId": "6d7df04c-92cb-4568-f90e-40ea68e3d74e"
      },
      "execution_count": null,
      "outputs": [
        {
          "output_type": "execute_result",
          "data": {
            "text/plain": [
              "<function __main__.<lambda>(x)>"
            ]
          },
          "metadata": {},
          "execution_count": 3
        }
      ]
    },
    {
      "cell_type": "code",
      "source": [
        "plus_ten=lambda x:x+10"
      ],
      "metadata": {
        "id": "cbf3GLU3BEMf"
      },
      "execution_count": null,
      "outputs": []
    },
    {
      "cell_type": "code",
      "source": [
        "plus_ten(1)"
      ],
      "metadata": {
        "colab": {
          "base_uri": "https://localhost:8080/"
        },
        "id": "8X7XtlQnBNiZ",
        "outputId": "cb8b7f91-5556-4d2e-9fd8-d06ce2fa307e"
      },
      "execution_count": null,
      "outputs": [
        {
          "output_type": "execute_result",
          "data": {
            "text/plain": [
              "11"
            ]
          },
          "metadata": {},
          "execution_count": 5
        }
      ]
    },
    {
      "cell_type": "code",
      "source": [
        "(lambda x: x + 10)(1) #(lambda 매개변수들: 식)(인수들)"
      ],
      "metadata": {
        "colab": {
          "base_uri": "https://localhost:8080/"
        },
        "id": "R3qgrTZGBO0a",
        "outputId": "af924ef9-57fe-4a93-ae37-dcfc3f8bf425"
      },
      "execution_count": null,
      "outputs": [
        {
          "output_type": "execute_result",
          "data": {
            "text/plain": [
              "11"
            ]
          },
          "metadata": {},
          "execution_count": 6
        }
      ]
    },
    {
      "cell_type": "code",
      "source": [
        "y = 10\n",
        "(lambda x: x + y)(1)"
      ],
      "metadata": {
        "colab": {
          "base_uri": "https://localhost:8080/"
        },
        "id": "lRgmdsALBU61",
        "outputId": "0b7dd460-d353-4401-fd21-9b3981e24699"
      },
      "execution_count": null,
      "outputs": [
        {
          "output_type": "execute_result",
          "data": {
            "text/plain": [
              "11"
            ]
          },
          "metadata": {},
          "execution_count": 7
        }
      ]
    },
    {
      "cell_type": "code",
      "source": [
        "def plus_ten(x):\n",
        "  return x+10\n",
        "\n",
        "list(map(plus_ten, [1, 2, 3]))"
      ],
      "metadata": {
        "colab": {
          "base_uri": "https://localhost:8080/"
        },
        "id": "KWJjj-ZHBe6u",
        "outputId": "ce4e3c5b-c147-4218-fd4d-6d8cae6ff756"
      },
      "execution_count": null,
      "outputs": [
        {
          "output_type": "execute_result",
          "data": {
            "text/plain": [
              "[11, 12, 13]"
            ]
          },
          "metadata": {},
          "execution_count": 8
        }
      ]
    },
    {
      "cell_type": "code",
      "source": [
        "list(map(lambda x: x + 10, [1, 2, 3]))"
      ],
      "metadata": {
        "colab": {
          "base_uri": "https://localhost:8080/"
        },
        "id": "W1uSJC1-Bn8o",
        "outputId": "135105e2-f136-4088-8624-e1d15f0ad1be"
      },
      "execution_count": null,
      "outputs": [
        {
          "output_type": "execute_result",
          "data": {
            "text/plain": [
              "[11, 12, 13]"
            ]
          },
          "metadata": {},
          "execution_count": 9
        }
      ]
    },
    {
      "cell_type": "code",
      "source": [
        "(lambda : 1)()"
      ],
      "metadata": {
        "colab": {
          "base_uri": "https://localhost:8080/"
        },
        "id": "2MasYoMDBoMJ",
        "outputId": "a7d8c058-b9f9-40b2-81cf-dfc26f8f9385"
      },
      "execution_count": null,
      "outputs": [
        {
          "output_type": "execute_result",
          "data": {
            "text/plain": [
              "1"
            ]
          },
          "metadata": {},
          "execution_count": 10
        }
      ]
    },
    {
      "cell_type": "code",
      "source": [
        "x = 10"
      ],
      "metadata": {
        "id": "t5QE75zcBrOt"
      },
      "execution_count": null,
      "outputs": []
    },
    {
      "cell_type": "code",
      "source": [
        "(lambda : x)()"
      ],
      "metadata": {
        "colab": {
          "base_uri": "https://localhost:8080/"
        },
        "id": "UVoIss1QBtTl",
        "outputId": "be3f51d3-d595-4d89-c20e-28f30269b49b"
      },
      "execution_count": null,
      "outputs": [
        {
          "output_type": "execute_result",
          "data": {
            "text/plain": [
              "10"
            ]
          },
          "metadata": {},
          "execution_count": 12
        }
      ]
    },
    {
      "cell_type": "code",
      "source": [
        "#람다 표현식에서 조건부 표현식\n",
        "\n",
        "##lambda 매개변수들: 식1 if 조건식 else 식2\n",
        "a = [1, 2, 3, 4, 5, 6, 7, 8, 9, 10]\n",
        "list(map(lambda x: str(x) if x % 3 == 0 else x, a))\n",
        "\n",
        "#람다 표현식에서 if를 사용했다면 반드시 else를 사용해야 합니다"
      ],
      "metadata": {
        "colab": {
          "base_uri": "https://localhost:8080/"
        },
        "id": "c51GzQjtBvBB",
        "outputId": "2c105971-6cf6-411b-aaee-336e3946c5f7"
      },
      "execution_count": null,
      "outputs": [
        {
          "output_type": "execute_result",
          "data": {
            "text/plain": [
              "[1, 2, '3', 4, 5, '6', 7, 8, '9', 10]"
            ]
          },
          "metadata": {},
          "execution_count": 14
        }
      ]
    },
    {
      "cell_type": "code",
      "source": [
        "def f(x):\n",
        "  if x==1:\n",
        "    return str(x)\n",
        "  elif x==2:\n",
        "    return float(x)\n",
        "  else:\n",
        "    return x+10"
      ],
      "metadata": {
        "id": "VLtDvxmpCrP9"
      },
      "execution_count": null,
      "outputs": []
    },
    {
      "cell_type": "code",
      "source": [
        "a = [1, 2, 3, 4, 5, 6, 7, 8, 9, 10]"
      ],
      "metadata": {
        "id": "2raO6th6D9fe"
      },
      "execution_count": null,
      "outputs": []
    },
    {
      "cell_type": "code",
      "source": [
        "list(map(f,a))"
      ],
      "metadata": {
        "colab": {
          "base_uri": "https://localhost:8080/"
        },
        "id": "XS_Ls6V9EAmG",
        "outputId": "d4e74bf7-9ede-4512-97cf-e9cdf4f413f1"
      },
      "execution_count": null,
      "outputs": [
        {
          "output_type": "execute_result",
          "data": {
            "text/plain": [
              "['1', 2.0, 13, 14, 15, 16, 17, 18, 19, 20]"
            ]
          },
          "metadata": {},
          "execution_count": 17
        }
      ]
    },
    {
      "cell_type": "code",
      "source": [
        "a = [1, 2, 3, 4, 5]\n",
        "b = [2, 4, 6, 8, 10]\n",
        "list(map(lambda x, y: x * y, a, b))"
      ],
      "metadata": {
        "colab": {
          "base_uri": "https://localhost:8080/"
        },
        "id": "CQrNivi0ECbm",
        "outputId": "97cc0624-4811-47a6-ab7f-b7358718307e"
      },
      "execution_count": null,
      "outputs": [
        {
          "output_type": "execute_result",
          "data": {
            "text/plain": [
              "[2, 8, 18, 32, 50]"
            ]
          },
          "metadata": {},
          "execution_count": 18
        }
      ]
    },
    {
      "cell_type": "code",
      "source": [
        "def f(x):\n",
        "  return x>5 and x<10"
      ],
      "metadata": {
        "id": "HEwsCEb0EUih"
      },
      "execution_count": null,
      "outputs": []
    },
    {
      "cell_type": "code",
      "source": [
        "list(map(lambda x, y: x * y, a, b))"
      ],
      "metadata": {
        "colab": {
          "base_uri": "https://localhost:8080/"
        },
        "id": "ZXsydaMdFGYU",
        "outputId": "3208896a-4e9a-40df-e122-c847f825f907"
      },
      "execution_count": null,
      "outputs": [
        {
          "output_type": "execute_result",
          "data": {
            "text/plain": [
              "[2, 8, 18, 32, 50]"
            ]
          },
          "metadata": {},
          "execution_count": 25
        }
      ]
    },
    {
      "cell_type": "code",
      "source": [
        "a = [8, 3, 2, 10, 15, 7, 1, 9, 0, 11]"
      ],
      "metadata": {
        "id": "WHM1ukFuFsCo"
      },
      "execution_count": null,
      "outputs": []
    },
    {
      "cell_type": "code",
      "source": [
        "list(filter(f, a))"
      ],
      "metadata": {
        "colab": {
          "base_uri": "https://localhost:8080/"
        },
        "id": "q0JQ4V2tFjZ-",
        "outputId": "14920ed5-9523-41a6-fac1-7d0f600f330f"
      },
      "execution_count": null,
      "outputs": [
        {
          "output_type": "execute_result",
          "data": {
            "text/plain": [
              "[8, 7, 9]"
            ]
          },
          "metadata": {},
          "execution_count": 28
        }
      ]
    },
    {
      "cell_type": "code",
      "source": [
        "list(filter(lambda x: x > 5 and x < 10, a))"
      ],
      "metadata": {
        "colab": {
          "base_uri": "https://localhost:8080/"
        },
        "id": "BzbF_HlEFj2W",
        "outputId": "cbfa7ab4-3b8e-4736-ee9e-8498fc82109b"
      },
      "execution_count": null,
      "outputs": [
        {
          "output_type": "execute_result",
          "data": {
            "text/plain": [
              "[8, 7, 9]"
            ]
          },
          "metadata": {},
          "execution_count": 29
        }
      ]
    },
    {
      "cell_type": "code",
      "source": [
        "def f(x,y):\n",
        "  return x+y"
      ],
      "metadata": {
        "id": "8dyW23xZFxZE"
      },
      "execution_count": null,
      "outputs": []
    },
    {
      "cell_type": "code",
      "source": [
        "a = [1, 2, 3, 4, 5]"
      ],
      "metadata": {
        "id": "VMWf_oH0F4K5"
      },
      "execution_count": null,
      "outputs": []
    },
    {
      "cell_type": "code",
      "source": [
        "from functools import reduce"
      ],
      "metadata": {
        "id": "VZadkvH7F7Si"
      },
      "execution_count": null,
      "outputs": []
    },
    {
      "cell_type": "code",
      "source": [
        "reduce(f, a) #리스트에 저장된 요소를 순서대로 더한 뒤 누적된 결과를 반환합니다."
      ],
      "metadata": {
        "colab": {
          "base_uri": "https://localhost:8080/"
        },
        "id": "fvLOkj4tF8PT",
        "outputId": "1a47a52b-8358-416b-8e9c-2e99e07d0428"
      },
      "execution_count": null,
      "outputs": [
        {
          "output_type": "execute_result",
          "data": {
            "text/plain": [
              "15"
            ]
          },
          "metadata": {},
          "execution_count": 34
        }
      ]
    },
    {
      "cell_type": "code",
      "source": [
        "reduce(lambda x, y: x + y, a)"
      ],
      "metadata": {
        "colab": {
          "base_uri": "https://localhost:8080/"
        },
        "id": "x7mrcJMXGKnq",
        "outputId": "e8041400-b732-435f-a66a-9146d1d08be9"
      },
      "execution_count": null,
      "outputs": [
        {
          "output_type": "execute_result",
          "data": {
            "text/plain": [
              "15"
            ]
          },
          "metadata": {},
          "execution_count": 35
        }
      ]
    },
    {
      "cell_type": "code",
      "source": [
        "#map, filter, reduce와 리스트 표현식\n",
        "a = [8, 3, 2, 10, 15, 7, 1, 9, 0, 11]\n",
        "[i for i in a if i > 5 and i < 10]"
      ],
      "metadata": {
        "colab": {
          "base_uri": "https://localhost:8080/"
        },
        "id": "PGnSWmhCG7Nz",
        "outputId": "2cb38fd7-fc20-4fa1-f0da-43551d55332d"
      },
      "execution_count": null,
      "outputs": [
        {
          "output_type": "execute_result",
          "data": {
            "text/plain": [
              "[8, 7, 9]"
            ]
          },
          "metadata": {},
          "execution_count": 36
        }
      ]
    },
    {
      "cell_type": "code",
      "source": [
        "a = [1, 2, 3, 4, 5]\n",
        "x = a[0]\n",
        "for i in range(len(a) - 1):\n",
        "  x=x+a[i+1]\n",
        "\n",
        "x"
      ],
      "metadata": {
        "colab": {
          "base_uri": "https://localhost:8080/"
        },
        "id": "mO7AUR8vNEVP",
        "outputId": "851da49e-c600-435f-d5d0-bdeb390dcd32"
      },
      "execution_count": null,
      "outputs": [
        {
          "output_type": "execute_result",
          "data": {
            "text/plain": [
              "15"
            ]
          },
          "metadata": {},
          "execution_count": 37
        }
      ]
    },
    {
      "cell_type": "code",
      "source": [
        "###문자열에서 find 메서드를 사용하면 찾을 문자열이 있을 때 인덱스를 반환하고 없을 때는 -1을 반환합니다                                                                       \n",
        "files = ['font', '1.png', '10.jpg', '11.gif', '2.jpg', '3.png', 'table.xslx', 'spec.docx']\n",
        " \n",
        "print(list(filter(lambda x: x.find(\".jpg\")!=-1 or x.find(\".png\")!=-1,files)))"
      ],
      "metadata": {
        "colab": {
          "base_uri": "https://localhost:8080/"
        },
        "id": "lukxlibUPqq8",
        "outputId": "a9c56711-4dd0-4c6b-ebd8-1b22e544aae4"
      },
      "execution_count": null,
      "outputs": [
        {
          "output_type": "stream",
          "name": "stdout",
          "text": [
            "['1.png', '10.jpg', '2.jpg', '3.png']\n"
          ]
        }
      ]
    },
    {
      "cell_type": "code",
      "source": [
        "files = input().split()\n",
        " \n",
        "list(map(lambda x: '{0:03d}.{1}'.format(int(x.split('.')[0]), x.split('.')[1]), files))\n"
      ],
      "metadata": {
        "id": "rzq_R2-5PZqJ",
        "colab": {
          "base_uri": "https://localhost:8080/"
        },
        "outputId": "b4c5d7f5-f69c-4b0f-d418-a00954b3f4d3"
      },
      "execution_count": null,
      "outputs": [
        {
          "name": "stdout",
          "output_type": "stream",
          "text": [
            "1.jpg 10.png 11.png 2.jpg 3.png\n"
          ]
        },
        {
          "output_type": "execute_result",
          "data": {
            "text/plain": [
              "['001.jpg', '010.png', '011.png', '002.jpg', '003.png']"
            ]
          },
          "metadata": {},
          "execution_count": 2
        }
      ]
    },
    {
      "cell_type": "code",
      "source": [
        "x = 10          # 전역 변수\n",
        "def foo():\n",
        "    print(x)    # 전역 변수 출력\n",
        " \n",
        "foo()\n",
        "print(x)        # 전역 변수 출력"
      ],
      "metadata": {
        "colab": {
          "base_uri": "https://localhost:8080/"
        },
        "id": "3muDQOUu6-y7",
        "outputId": "5dfbf581-d051-4720-b7d9-fc990f41e4f6"
      },
      "execution_count": null,
      "outputs": [
        {
          "output_type": "stream",
          "name": "stdout",
          "text": [
            "10\n",
            "10\n"
          ]
        }
      ]
    },
    {
      "cell_type": "code",
      "source": [
        "x = 10          # 전역 변수\n",
        "def foo():\n",
        "    x = 20      # x는 foo의 지역 변수\n",
        "    print(x)    # foo의 지역 변수 출력\n",
        " \n",
        "foo()\n",
        "print(x)        # 전역 변수 출력"
      ],
      "metadata": {
        "colab": {
          "base_uri": "https://localhost:8080/"
        },
        "id": "hLfnbjb571J9",
        "outputId": "b3f081c4-7489-4909-a6a6-0cfc8ba0f0af"
      },
      "execution_count": null,
      "outputs": [
        {
          "output_type": "stream",
          "name": "stdout",
          "text": [
            "20\n",
            "10\n"
          ]
        }
      ]
    },
    {
      "cell_type": "code",
      "source": [
        "x = 10          # 전역 변수\n",
        "def foo():\n",
        "    global x    # 전역 변수 x를 사용하겠다고 설정\n",
        "    x = 20      # x는 전역 변수\n",
        "    print(x)    # 전역 변수 출력\n",
        " \n",
        "foo()\n",
        "print(x)        # 전역 변수 출력"
      ],
      "metadata": {
        "colab": {
          "base_uri": "https://localhost:8080/"
        },
        "id": "zeTJpgPo71tq",
        "outputId": "40d05e5d-4199-401f-fa12-bf65e345f6d5"
      },
      "execution_count": null,
      "outputs": [
        {
          "output_type": "stream",
          "name": "stdout",
          "text": [
            "20\n",
            "20\n"
          ]
        }
      ]
    },
    {
      "cell_type": "code",
      "source": [
        "# 전역 변수 x가 없는 상태\n",
        "def foo():\n",
        "    global x    # x를 전역 변수로 만듦\n",
        "    x = 20      # x는 전역 변수\n",
        "    print(x)    # 전역 변수 출력\n",
        " \n",
        "foo()\n",
        "print(x)        # 전역 변수 출력"
      ],
      "metadata": {
        "colab": {
          "base_uri": "https://localhost:8080/"
        },
        "id": "BLOvqhfh8FO0",
        "outputId": "51da5075-9d6c-4432-c4ce-b73e9d9609b2"
      },
      "execution_count": null,
      "outputs": [
        {
          "output_type": "stream",
          "name": "stdout",
          "text": [
            "20\n",
            "20\n"
          ]
        }
      ]
    },
    {
      "cell_type": "code",
      "source": [
        " x = 10\n",
        " locals()"
      ],
      "metadata": {
        "colab": {
          "base_uri": "https://localhost:8080/"
        },
        "id": "Jv5x3Hrb8NUU",
        "outputId": "38cb8501-7962-4c72-a6fd-418412de37a7"
      },
      "execution_count": null,
      "outputs": [
        {
          "output_type": "execute_result",
          "data": {
            "text/plain": [
              "{'__name__': '__main__',\n",
              " '__doc__': 'Automatically created module for IPython interactive environment',\n",
              " '__package__': None,\n",
              " '__loader__': None,\n",
              " '__spec__': None,\n",
              " '__builtin__': <module 'builtins' (built-in)>,\n",
              " '__builtins__': <module 'builtins' (built-in)>,\n",
              " '_ih': ['',\n",
              "  \"files = input().split()\\n \\nlist(map(lambda x: '{0:03d}.{1}'.format(int(x.split('.')[0]), x.split('.')[1]), files))\\nprint(list(filter(lambda x:)))\",\n",
              "  \"files = input().split()\\n \\nlist(map(lambda x: '{0:03d}.{1}'.format(int(x.split('.')[0]), x.split('.')[1]), files))\",\n",
              "  'x = 10          # 전역 변수\\ndef foo():\\n    print(x)    # 전역 변수 출력\\n \\nfoo()\\nprint(x)        # 전역 변수 출력',\n",
              "  'x = 10          # 전역 변수\\ndef foo():\\n    x = 20      # x는 foo의 지역 변수\\n    print(x)    # foo의 지역 변수 출력\\n \\nfoo()\\nprint(x)        # 전역 변수 출력',\n",
              "  'x = 10          # 전역 변수\\ndef foo():\\n    global x    # 전역 변수 x를 사용하겠다고 설정\\n    x = 20      # x는 전역 변수\\n    print(x)    # 전역 변수 출력\\n \\nfoo()\\nprint(x)        # 전역 변수 출력',\n",
              "  '# 전역 변수 x가 없는 상태\\ndef foo():\\n    global x    # x를 전역 변수로 만듦\\n    x = 20      # x는 전역 변수\\n    print(x)    # 전역 변수 출력\\n \\nfoo()\\nprint(x)        # 전역 변수 출력',\n",
              "  'x = 10\\nlocals()'],\n",
              " '_oh': {2: ['001.jpg', '010.png', '011.png', '002.jpg', '003.png']},\n",
              " '_dh': ['/content'],\n",
              " 'In': ['',\n",
              "  \"files = input().split()\\n \\nlist(map(lambda x: '{0:03d}.{1}'.format(int(x.split('.')[0]), x.split('.')[1]), files))\\nprint(list(filter(lambda x:)))\",\n",
              "  \"files = input().split()\\n \\nlist(map(lambda x: '{0:03d}.{1}'.format(int(x.split('.')[0]), x.split('.')[1]), files))\",\n",
              "  'x = 10          # 전역 변수\\ndef foo():\\n    print(x)    # 전역 변수 출력\\n \\nfoo()\\nprint(x)        # 전역 변수 출력',\n",
              "  'x = 10          # 전역 변수\\ndef foo():\\n    x = 20      # x는 foo의 지역 변수\\n    print(x)    # foo의 지역 변수 출력\\n \\nfoo()\\nprint(x)        # 전역 변수 출력',\n",
              "  'x = 10          # 전역 변수\\ndef foo():\\n    global x    # 전역 변수 x를 사용하겠다고 설정\\n    x = 20      # x는 전역 변수\\n    print(x)    # 전역 변수 출력\\n \\nfoo()\\nprint(x)        # 전역 변수 출력',\n",
              "  '# 전역 변수 x가 없는 상태\\ndef foo():\\n    global x    # x를 전역 변수로 만듦\\n    x = 20      # x는 전역 변수\\n    print(x)    # 전역 변수 출력\\n \\nfoo()\\nprint(x)        # 전역 변수 출력',\n",
              "  'x = 10\\nlocals()'],\n",
              " 'Out': {2: ['001.jpg', '010.png', '011.png', '002.jpg', '003.png']},\n",
              " 'get_ipython': <bound method InteractiveShell.get_ipython of <google.colab._shell.Shell object at 0x7f7f6cab8390>>,\n",
              " 'exit': <IPython.core.autocall.ZMQExitAutocall at 0x7f7f6606cb10>,\n",
              " 'quit': <IPython.core.autocall.ZMQExitAutocall at 0x7f7f6606cb10>,\n",
              " '_': ['001.jpg', '010.png', '011.png', '002.jpg', '003.png'],\n",
              " '__': '',\n",
              " '___': '',\n",
              " '_i': '# 전역 변수 x가 없는 상태\\ndef foo():\\n    global x    # x를 전역 변수로 만듦\\n    x = 20      # x는 전역 변수\\n    print(x)    # 전역 변수 출력\\n \\nfoo()\\nprint(x)        # 전역 변수 출력',\n",
              " '_ii': 'x = 10          # 전역 변수\\ndef foo():\\n    global x    # 전역 변수 x를 사용하겠다고 설정\\n    x = 20      # x는 전역 변수\\n    print(x)    # 전역 변수 출력\\n \\nfoo()\\nprint(x)        # 전역 변수 출력',\n",
              " '_iii': 'x = 10          # 전역 변수\\ndef foo():\\n    x = 20      # x는 foo의 지역 변수\\n    print(x)    # foo의 지역 변수 출력\\n \\nfoo()\\nprint(x)        # 전역 변수 출력',\n",
              " '_i1': \"files = input().split()\\n \\nlist(map(lambda x: '{0:03d}.{1}'.format(int(x.split('.')[0]), x.split('.')[1]), files))\\nprint(list(filter(lambda x:)))\",\n",
              " '_i2': \"files = input().split()\\n \\nlist(map(lambda x: '{0:03d}.{1}'.format(int(x.split('.')[0]), x.split('.')[1]), files))\",\n",
              " 'files': ['1.jpg', '10.png', '11.png', '2.jpg', '3.png'],\n",
              " '_2': ['001.jpg', '010.png', '011.png', '002.jpg', '003.png'],\n",
              " '_i3': 'x = 10          # 전역 변수\\ndef foo():\\n    print(x)    # 전역 변수 출력\\n \\nfoo()\\nprint(x)        # 전역 변수 출력',\n",
              " 'x': 10,\n",
              " 'foo': <function __main__.foo()>,\n",
              " '_i4': 'x = 10          # 전역 변수\\ndef foo():\\n    x = 20      # x는 foo의 지역 변수\\n    print(x)    # foo의 지역 변수 출력\\n \\nfoo()\\nprint(x)        # 전역 변수 출력',\n",
              " '_i5': 'x = 10          # 전역 변수\\ndef foo():\\n    global x    # 전역 변수 x를 사용하겠다고 설정\\n    x = 20      # x는 전역 변수\\n    print(x)    # 전역 변수 출력\\n \\nfoo()\\nprint(x)        # 전역 변수 출력',\n",
              " '_i6': '# 전역 변수 x가 없는 상태\\ndef foo():\\n    global x    # x를 전역 변수로 만듦\\n    x = 20      # x는 전역 변수\\n    print(x)    # 전역 변수 출력\\n \\nfoo()\\nprint(x)        # 전역 변수 출력',\n",
              " '_i7': ' x = 10\\n locals()'}"
            ]
          },
          "metadata": {},
          "execution_count": 7
        }
      ]
    },
    {
      "cell_type": "code",
      "source": [
        "def foo():\n",
        "  x=10\n",
        "  print(locals)\n",
        "\n",
        "foo()"
      ],
      "metadata": {
        "colab": {
          "base_uri": "https://localhost:8080/"
        },
        "id": "xnUHKFU-8OYl",
        "outputId": "948e0083-44a9-48e8-bed1-f7397eecece1"
      },
      "execution_count": null,
      "outputs": [
        {
          "output_type": "stream",
          "name": "stdout",
          "text": [
            "<built-in function locals>\n"
          ]
        }
      ]
    },
    {
      "cell_type": "code",
      "source": [
        "def print_hello():\n",
        "    hello = 'Hello, world!'\n",
        "    def print_message():\n",
        "        print(hello) # 바깥쪽 함수의 지역 변수를 사용\n",
        "    print_message()\n",
        " \n",
        "print_hello()"
      ],
      "metadata": {
        "colab": {
          "base_uri": "https://localhost:8080/"
        },
        "id": "tae-RTSW8YrY",
        "outputId": "146b1393-b959-45e4-bad1-68d633a03461"
      },
      "execution_count": null,
      "outputs": [
        {
          "output_type": "stream",
          "name": "stdout",
          "text": [
            "Hello, world!\n"
          ]
        }
      ]
    },
    {
      "cell_type": "code",
      "source": [
        "def A():\n",
        "    x = 10        # A의 지역 변수 x\n",
        "    def B():\n",
        "        x = 20    # x에 20 할당\n",
        " \n",
        "    B()\n",
        "    print(x)      # A의 지역 변수 x 출력\n",
        " \n",
        "A()"
      ],
      "metadata": {
        "colab": {
          "base_uri": "https://localhost:8080/"
        },
        "id": "J9fPAQCz9QjA",
        "outputId": "f31f6034-97ff-439e-fb46-82cb87dfb1b3"
      },
      "execution_count": null,
      "outputs": [
        {
          "output_type": "stream",
          "name": "stdout",
          "text": [
            "10\n"
          ]
        }
      ]
    },
    {
      "cell_type": "code",
      "source": [
        "#바깥쪽에 있는 지역 변수의 값을 변경하려면 nonlocal 키워드를 사용\n",
        "\n",
        "def A():\n",
        "    x = 10        # A의 지역 변수 x\n",
        "    def B():\n",
        "        nonlocal x    # 현재 함수의 바깥쪽에 있는 지역 변수 사용\n",
        "        x = 20        # A의 지역 변수 x에 20 할당\n",
        " \n",
        "    B()\n",
        "    print(x)      # A의 지역 변수 x 출력\n",
        " \n",
        "A()"
      ],
      "metadata": {
        "colab": {
          "base_uri": "https://localhost:8080/"
        },
        "id": "EadWiv8g91PL",
        "outputId": "181af2b1-6db5-43bc-9a9d-e239a9cca231"
      },
      "execution_count": null,
      "outputs": [
        {
          "output_type": "stream",
          "name": "stdout",
          "text": [
            "20\n"
          ]
        }
      ]
    },
    {
      "cell_type": "code",
      "source": [
        "def A():\n",
        "    x = 10\n",
        "    y = 100\n",
        "    def B():\n",
        "        x = 20\n",
        "        def C():\n",
        "            nonlocal x\n",
        "            nonlocal y\n",
        "            x = x + 30\n",
        "            y = y + 300\n",
        "            print(x)\n",
        "            print(y)\n",
        "        C()\n",
        "    B()\n",
        " \n",
        "A()"
      ],
      "metadata": {
        "colab": {
          "base_uri": "https://localhost:8080/"
        },
        "id": "N1sgJ-HY93kZ",
        "outputId": "f4aa0904-fe42-46b8-ab06-4166773e3ae5"
      },
      "execution_count": null,
      "outputs": [
        {
          "output_type": "stream",
          "name": "stdout",
          "text": [
            "50\n",
            "400\n"
          ]
        }
      ]
    },
    {
      "cell_type": "code",
      "source": [
        "x = 1\n",
        "def A():\n",
        "    x = 10\n",
        "    def B():\n",
        "        x = 20\n",
        "        def C():\n",
        "            global x #글로벌은 무조건 전역변수\n",
        "            x = x + 30\n",
        "            print(x)\n",
        "        C()\n",
        "    B()\n",
        " \n",
        "A()"
      ],
      "metadata": {
        "colab": {
          "base_uri": "https://localhost:8080/"
        },
        "id": "isadGi_S-_Lm",
        "outputId": "4a894f16-bc5d-4d19-8b63-08014bdf1fe5"
      },
      "execution_count": null,
      "outputs": [
        {
          "output_type": "stream",
          "name": "stdout",
          "text": [
            "31\n"
          ]
        }
      ]
    },
    {
      "cell_type": "code",
      "source": [
        "##클로저 만들기\n",
        "\n",
        "def calc():\n",
        "    a = 3\n",
        "    b = 5\n",
        "    def mul_add(x):\n",
        "        return a * x + b    # 함수 바깥쪽에 있는 지역 변수 a, b를 사용하여 계산\n",
        "    return mul_add          # mul_add 함수를 반환 #함수를 반환할 때는 함수 이름만 반환해야 하며 ( )(괄호)를 붙이면 안 됩니다\n",
        " \n",
        "c = calc()\n",
        "print(c(1), c(2), c(3), c(4), c(5))"
      ],
      "metadata": {
        "colab": {
          "base_uri": "https://localhost:8080/"
        },
        "id": "_EJzP5g6_GIN",
        "outputId": "1de2e63b-18a7-4a25-db4c-53658e57f636"
      },
      "execution_count": null,
      "outputs": [
        {
          "output_type": "stream",
          "name": "stdout",
          "text": [
            "8 11 14 17 20\n"
          ]
        }
      ]
    },
    {
      "cell_type": "code",
      "source": [
        "#클로저에 속한 지역 변수는 바깥에서 직접 접근할 수 없으므로 데이터를 숨기고 싶을 때 활용합니다.\n",
        "#lambda로 클로저 만들기\n",
        "\n",
        "def calc():\n",
        "    a = 3\n",
        "    b = 5\n",
        "    return lambda x: a * x + b    # 람다 표현식을 반환\n",
        " \n",
        "c = calc()\n",
        "print(c(1), c(2), c(3), c(4), c(5))"
      ],
      "metadata": {
        "colab": {
          "base_uri": "https://localhost:8080/"
        },
        "id": "_twulXcs_tJx",
        "outputId": "6cc7917b-d8d0-4b4b-e5ca-329bd942fdf9"
      },
      "execution_count": null,
      "outputs": [
        {
          "output_type": "stream",
          "name": "stdout",
          "text": [
            "8 11 14 17 20\n"
          ]
        }
      ]
    },
    {
      "cell_type": "code",
      "source": [
        "def calc():\n",
        "    a = 3\n",
        "    b = 5\n",
        "    total = 0\n",
        "    def mul_add(x):\n",
        "        nonlocal total\n",
        "        total = total + a * x + b\n",
        "        print(total)\n",
        "    return mul_add\n",
        " \n",
        "c = calc()\n",
        "c(1)\n",
        "c(2)\n",
        "c(3)"
      ],
      "metadata": {
        "colab": {
          "base_uri": "https://localhost:8080/"
        },
        "id": "NSoaVPOCBCNK",
        "outputId": "17713e1e-9b99-41a0-dbaf-c0f9780e6df1"
      },
      "execution_count": null,
      "outputs": [
        {
          "output_type": "stream",
          "name": "stdout",
          "text": [
            "8\n",
            "19\n",
            "33\n"
          ]
        }
      ]
    },
    {
      "cell_type": "code",
      "source": [
        "def counter():\n",
        "    i = 0\n",
        "    def count():\n",
        "      nonlocal i\n",
        "      i+=1\n",
        "      return i               \n",
        "    return count #(함수를 반환할 때는 함수 이름만 반환해야 하며 ( )(괄호)를 붙이면 안 됩니다).\n",
        "                       \n",
        " \n",
        "c = counter()\n",
        "for i in range(10):\n",
        "    print(c(), end=' ')"
      ],
      "metadata": {
        "colab": {
          "base_uri": "https://localhost:8080/"
        },
        "id": "cBwfUJ7PBUom",
        "outputId": "7fb69e07-9016-42b8-ffcc-65b81def6bf8"
      },
      "execution_count": null,
      "outputs": [
        {
          "output_type": "stream",
          "name": "stdout",
          "text": [
            "1 2 3 4 5 6 7 8 9 10 "
          ]
        }
      ]
    },
    {
      "cell_type": "code",
      "source": [
        "def countdown(n):\n",
        "  n=n+1\n",
        "  def count():\n",
        "      nonlocal n\n",
        "      n-=1\n",
        "      return n               \n",
        "  return count\n",
        "\n",
        "n = int(input())\n",
        " \n",
        "c = countdown(n)\n",
        "for i in range(n):\n",
        "    print(c(), end=' ')"
      ],
      "metadata": {
        "colab": {
          "base_uri": "https://localhost:8080/"
        },
        "id": "qYiJQ5uyClfo",
        "outputId": "ed9a972f-49fb-4ea5-dff8-b0727a9f0470"
      },
      "execution_count": null,
      "outputs": [
        {
          "output_type": "stream",
          "name": "stdout",
          "text": [
            "10\n",
            "10 9 8 7 6 5 4 3 2 1 "
          ]
        }
      ]
    },
    {
      "cell_type": "code",
      "source": [
        "switch = {\n",
        "    '+': lambda x, y: x + y,    # 람다 표현식으로 실행할 코드를 작성\n",
        "    '*': lambda x, y: x * y\n",
        "    }\n",
        " \n",
        "x = '+'\n",
        "try:\n",
        "    print(switch[x](10, 20))    # 딕셔너리에 키를 지정하는 방식\n",
        "except KeyError:\n",
        "    print('default')            # 딕셔너리에 키가 없을 때는 기본값"
      ],
      "metadata": {
        "colab": {
          "base_uri": "https://localhost:8080/"
        },
        "id": "5Bh1E3knDcg9",
        "outputId": "36d252a2-7da4-4147-c67a-43edc21ef5ab"
      },
      "execution_count": null,
      "outputs": [
        {
          "output_type": "stream",
          "name": "stdout",
          "text": [
            "30\n"
          ]
        }
      ]
    },
    {
      "cell_type": "code",
      "source": [
        "class Person: #클래스이름\n",
        "  def greeting(self): #메서드(self)\n",
        "    print(\"Hello\") #코드\n"
      ],
      "metadata": {
        "id": "WM_3mZViGtLs"
      },
      "execution_count": null,
      "outputs": []
    },
    {
      "cell_type": "code",
      "source": [
        "james = Person() #인스턴스 = 클래스()"
      ],
      "metadata": {
        "id": "Iyb5AtNxHwsG"
      },
      "execution_count": null,
      "outputs": []
    },
    {
      "cell_type": "code",
      "source": [
        "james.greeting() #메서드  호출하기 #인스턴스.메서드()"
      ],
      "metadata": {
        "colab": {
          "base_uri": "https://localhost:8080/"
        },
        "id": "tDO6tAHcH0KT",
        "outputId": "83b41920-b4bd-47d5-f93e-908780adda4c"
      },
      "execution_count": null,
      "outputs": [
        {
          "output_type": "stream",
          "name": "stdout",
          "text": [
            "Hello\n"
          ]
        }
      ]
    },
    {
      "cell_type": "markdown",
      "source": [
        "- 클래스는 객체를 표현하는 문법\n",
        "- 클래스로 인스턴스를 만든다고 하니\n",
        "- 사실 인스턴스와 객체는 같은 것을 뜻\n",
        "- 보통 객체만 지칭할 때는 그냥 객체(object)\n",
        "- 클래스와 연관지어서 말할 때는 인스턴스(instance)\n",
        "- 리스트 변수 a, b가 있으면 a, b는 객체\n",
        "- a와 b는 list 클래스의 인스턴스\n"
      ],
      "metadata": {
        "id": "bvJjkhWpIMtP"
      }
    },
    {
      "cell_type": "code",
      "source": [
        "a = list(range(10))\n",
        "b = list(range(10))"
      ],
      "metadata": {
        "id": "kO3EcUm2H5X8"
      },
      "execution_count": null,
      "outputs": []
    },
    {
      "cell_type": "markdown",
      "source": [
        "##메서드 안에서 메서드 호출하기\n",
        "- self.메서드() 형식으로 호출"
      ],
      "metadata": {
        "id": "Qa6p5_8SIy_1"
      }
    },
    {
      "cell_type": "code",
      "source": [
        "class Person:\n",
        "    def greeting(self):\n",
        "        print('Hello')\n",
        " \n",
        "    def hello(self):\n",
        "        self.greeting()    # self.메서드() 형식으로 클래스 안의 메서드를 호출\n",
        " \n",
        "james = Person()\n",
        "james.hello()    # Hello"
      ],
      "metadata": {
        "colab": {
          "base_uri": "https://localhost:8080/"
        },
        "id": "Bn6FxCNAI92X",
        "outputId": "02c5b889-d02b-4237-9419-d4184340da41"
      },
      "execution_count": null,
      "outputs": [
        {
          "output_type": "stream",
          "name": "stdout",
          "text": [
            "Hello\n"
          ]
        }
      ]
    },
    {
      "cell_type": "markdown",
      "source": [
        "### 특정 클래스의 인스턴스인지 확인하기\n",
        "- 현재 인스턴스가 특정 클래스의 인스턴스인지 확인할 때는 isinstance 함수를 사용\n",
        "- 특정 클래스의 인스턴스가 맞으면 True, 아니면 False를 반환"
      ],
      "metadata": {
        "id": "6mXoKbTPI_7m"
      }
    },
    {
      "cell_type": "code",
      "source": [
        "##isinstance(인스턴스, 클래스)\n",
        "\n",
        "class Person:\n",
        "  pass\n",
        "\n",
        "james=Person()\n",
        "isinstance(james,Person)"
      ],
      "metadata": {
        "colab": {
          "base_uri": "https://localhost:8080/"
        },
        "id": "3bYRWwEZMTap",
        "outputId": "12b13dc9-23da-4223-bd23-9dde1ec10c1b"
      },
      "execution_count": null,
      "outputs": [
        {
          "output_type": "execute_result",
          "data": {
            "text/plain": [
              "True"
            ]
          },
          "metadata": {},
          "execution_count": 42
        }
      ]
    },
    {
      "cell_type": "code",
      "source": [
        "def factorial(n):\n",
        "    if not isinstance(n, int) or n < 0:    # n이 정수가 아니거나 음수이면 함수를 끝냄\n",
        "        return None\n",
        "    if n == 1:\n",
        "        return 1\n",
        "    return n * factorial(n - 1)"
      ],
      "metadata": {
        "id": "SDQYooloMeYK"
      },
      "execution_count": null,
      "outputs": []
    },
    {
      "cell_type": "markdown",
      "source": [
        "##속성 사용하기\n",
        "\n",
        "```\n",
        "class 클래스이름:\n",
        "  def __init__(self):\n",
        "    self.속성=값\n",
        "```\n",
        "\n"
      ],
      "metadata": {
        "id": "5peyKATaMtVm"
      }
    },
    {
      "cell_type": "code",
      "source": [
        "class Person:\n",
        "  def __init__(self): #__init__ 메서드는 james = Person()처럼 클래스에 ( )(괄호)를 붙여서 인스턴스를 만들 때 호출되는 특별한 메서드\n",
        "    self.hello=\"안녕하세요\" # __init__(initialize)이라는 이름 그대로 인스턴스(객체)를 초기화\n",
        "\n",
        "  def greeting(self):\n",
        "    print(self.hello)\n",
        "\n",
        "james=Person()\n",
        "james.greeting()"
      ],
      "metadata": {
        "colab": {
          "base_uri": "https://localhost:8080/"
        },
        "id": "kyhAuZp2M3SP",
        "outputId": "f2cb05a8-92a6-4f18-dbaa-faf121dbcf70"
      },
      "execution_count": null,
      "outputs": [
        {
          "output_type": "stream",
          "name": "stdout",
          "text": [
            "안녕하세요\n"
          ]
        }
      ]
    },
    {
      "cell_type": "code",
      "source": [
        "james = Person()\n",
        "james.greeting()    # 안녕하세요."
      ],
      "metadata": {
        "colab": {
          "base_uri": "https://localhost:8080/"
        },
        "id": "r_Ktux9kODxK",
        "outputId": "eb90b541-d993-4b47-e06c-910c7c6fb63f"
      },
      "execution_count": null,
      "outputs": [
        {
          "output_type": "stream",
          "name": "stdout",
          "text": [
            "안녕하세요\n"
          ]
        }
      ]
    },
    {
      "cell_type": "markdown",
      "source": [
        "## 인스턴스를 만들 때 값 받기\n",
        "\n",
        "\n",
        "```\n",
        "class 클래스이름:\n",
        "    def __init__(self, 매개변수1, 매개변수2):\n",
        "        self.속성1 = 매개변수1\n",
        "        self.속성2 = 매개변수2\n",
        "```\n",
        "\n"
      ],
      "metadata": {
        "id": "BWR_JNn9Q6Lx"
      }
    },
    {
      "cell_type": "code",
      "source": [
        "class Person:\n",
        "    def __init__(self, name, age, address):\n",
        "        self.hello = '안녕하세요.'\n",
        "        self.name = name\n",
        "        self.age = age\n",
        "        self.address = address\n",
        " \n",
        "    def greeting(self):\n",
        "        print('{0} 저는 {1}입니다.'.format(self.hello, self.name))\n",
        " \n",
        "maria = Person('마리아', 20, '서울시 서초구 반포동')\n",
        "maria.greeting()    # 안녕하세요. 저는 마리아입니다.\n",
        " \n",
        "print('이름:', maria.name)       # 마리아\n",
        "print('나이:', maria.age)        # 20\n",
        "print('주소:', maria.address)    # 서울시 서초구 반포동\n",
        "\n",
        "# 인스턴스 속성: 인스턴스를 통해 접근하는 속성"
      ],
      "metadata": {
        "colab": {
          "base_uri": "https://localhost:8080/"
        },
        "id": "MDRR166XO90w",
        "outputId": "ef0479ed-1e2f-48da-db77-89a0a6e22d7e"
      },
      "execution_count": null,
      "outputs": [
        {
          "output_type": "stream",
          "name": "stdout",
          "text": [
            "안녕하세요. 저는 마리아입니다.\n",
            "이름: 마리아\n",
            "나이: 20\n",
            "주소: 서울시 서초구 반포동\n"
          ]
        }
      ]
    },
    {
      "cell_type": "code",
      "source": [
        "#클래스의 위치 인수, 키워드 인수\n",
        "#클래스로 인스턴스를 만들 때 위치 인수와 키워드 인수를 사용\n",
        "#인수와 리스트 언패킹을 사용하려면 다음과 같이 *args를 사용\n",
        "\n",
        "#매개변수에서 값을 가져오려면 args[0]처럼 사용\n",
        "\n",
        "class Person:\n",
        "    def __init__(self, *args):\n",
        "        self.name = args[0]\n",
        "        self.age = args[1]\n",
        "        self.address = args[2]\n",
        " \n",
        "maria = Person(*['마리아', 20, '서울시 서초구 반포동'])"
      ],
      "metadata": {
        "id": "Tllc4lvCRr5J"
      },
      "execution_count": null,
      "outputs": []
    },
    {
      "cell_type": "code",
      "source": [
        "#키워드 인수와 딕셔너리 언패킹을 사용-> **kwargs를 사용\n",
        "#이때 매개변수에서 값을 가져오려면 kwargs['name']처럼 사용해야 합니다.\n",
        "\n",
        "class Person:\n",
        "    def __init__(self, **kwargs):    # 키워드 인수\n",
        "        self.name = kwargs['name']\n",
        "        self.age = kwargs['age']\n",
        "        self.address = kwargs['address']\n",
        " \n",
        "maria1 = Person(name='마리아', age=20, address='서울시 서초구 반포동')\n",
        "maria2 = Person(**{'name': '마리아', 'age': 20, 'address': '서울시 서초구 반포동'})"
      ],
      "metadata": {
        "id": "3mOrWr6xSZy2"
      },
      "execution_count": null,
      "outputs": []
    },
    {
      "cell_type": "code",
      "source": [
        "# 인스턴스를 생성한 뒤에 속성 추가하기, 특정 속성만 허용하기\n",
        "# 지금까지 클래스의 인스턴스 속성은 __init__ 메서드에서 추가한 뒤 사용\n",
        "# 인스턴스.속성 = 값 형식으로 속성을 계속 추가"
      ],
      "metadata": {
        "id": "WmyfDke9SvZh"
      },
      "execution_count": null,
      "outputs": []
    },
    {
      "cell_type": "code",
      "source": [
        "class Person:\n",
        "  pass\n",
        "\n",
        "maria=Person()\n",
        "maria.name=\"마리아\"\n",
        "maria.name\n"
      ],
      "metadata": {
        "colab": {
          "base_uri": "https://localhost:8080/",
          "height": 36
        },
        "id": "y78Nlx-CTFmK",
        "outputId": "219a81f3-22b2-43df-d35f-a354cccc50ee"
      },
      "execution_count": null,
      "outputs": [
        {
          "output_type": "execute_result",
          "data": {
            "text/plain": [
              "'마리아'"
            ],
            "application/vnd.google.colaboratory.intrinsic+json": {
              "type": "string"
            }
          },
          "metadata": {},
          "execution_count": 55
        }
      ]
    },
    {
      "cell_type": "markdown",
      "source": [
        "\n",
        "- 인스턴스는 생성한 뒤에 속성을 추가\n",
        "```\n",
        ">>> class Person:\n",
        "...     def greeting(self):\n",
        "...         self.hello = '안녕하세요'    # greeting 메서드에서 hello 속성 추가\n",
        "...\n",
        ">>> maria = Person()\n",
        ">>> maria.hello    # 아직 hello 속성이 없음\n",
        "Traceback (most recent call last):\n",
        "  File \"<pyshell#22>\", line 1, in <module>\n",
        "    maria.hello\n",
        "AttributeError: 'Person' object has no attribute 'hello'\n",
        ">>> maria.greeting()    # greeting 메서드를 호출해야\n",
        ">>> maria.hello         # hello 속성이 생성됨\n",
        "'안녕하세요'\n",
        "```\n",
        "\n"
      ],
      "metadata": {
        "id": "EG6fMOrLUsjH"
      }
    },
    {
      "cell_type": "markdown",
      "source": [
        "- 인스턴스는 자유롭게 속성을 추가할 수 있지만 특정 속성만 허용하고 다른 속성은 제한하고 싶을 수도 있습니다.\n",
        "- __slots__에 허용할 속성 이름을 리스트로 넣어주면 됩니다. \n",
        "\n",
        "\n",
        "```\n",
        ">>> class Person:\n",
        "...     __slots__ = ['name', 'age']    # name, age만 허용(다른 속성은 생성 제한)\n",
        "...\n",
        ">>> maria = Person()\n",
        ">>> maria.name = '마리아'                     # 허용된 속성\n",
        ">>> maria.age = 20                            # 허용된 속성\n",
        ">>> maria.address = '서울시 서초구 반포동'    # 허용되지 않은 속성은 추가할 때 에러가 발생함\n",
        "Traceback (most recent call last):\n",
        "  File \"<pyshell#32>\", line 1, in <module>\n",
        "    maria.address = '서울시 서초구 반포동'\n",
        "AttributeError: 'Person' object has no attribute 'address'\n",
        "```\n",
        "\n"
      ],
      "metadata": {
        "id": "Q6n0mqY5Uzrn"
      }
    },
    {
      "cell_type": "code",
      "source": [
        "class Person:\n",
        "    def __init__(self, name, age, address):\n",
        "        self.hello = '안녕하세요.'\n",
        "        self.name = name\n",
        "        self.age = age\n",
        "        self.address = address"
      ],
      "metadata": {
        "id": "vMzD6PxWUsYO"
      },
      "execution_count": null,
      "outputs": []
    },
    {
      "cell_type": "code",
      "source": [
        "maria = Person('마리아', 20, '서울시 서초구 반포동')\n",
        "maria.name"
      ],
      "metadata": {
        "colab": {
          "base_uri": "https://localhost:8080/",
          "height": 36
        },
        "id": "cdjgZ75FU8lj",
        "outputId": "64edf12f-0bc9-4c75-9029-c0e9bcb83b9a"
      },
      "execution_count": null,
      "outputs": [
        {
          "output_type": "execute_result",
          "data": {
            "text/plain": [
              "'마리아'"
            ],
            "application/vnd.google.colaboratory.intrinsic+json": {
              "type": "string"
            }
          },
          "metadata": {},
          "execution_count": 57
        }
      ]
    },
    {
      "cell_type": "markdown",
      "source": [
        "- 클래스 바깥에서는 접근할 수 없고 클래스 안에서만 사용할 수 있는 비공개 속성(private attribute)\n",
        "\n",
        "- 비공개 속성은 __속성과 같이 이름이 __(밑줄 두 개)로 시작"
      ],
      "metadata": {
        "id": "4W_5ic2vVIKz"
      }
    },
    {
      "cell_type": "code",
      "source": [
        "class Person:\n",
        "    def __init__(self, name, age, address, wallet):\n",
        "        self.name = name\n",
        "        self.age = age\n",
        "        self.address = address\n",
        "        self.__wallet = wallet    # 변수 앞에 __를 붙여서 비공개 속성으로 만듦\n",
        " \n",
        "maria = Person('마리아', 20, '서울시 서초구 반포동', 10000)\n",
        "# maria.__wallet -= 10000    # 클래스 바깥에서 비공개 속성에 접근하면 에러가 발생함"
      ],
      "metadata": {
        "id": "lucsbD0HVAe1"
      },
      "execution_count": null,
      "outputs": []
    },
    {
      "cell_type": "code",
      "source": [
        "class Person:\n",
        "    def __init__(self, name, age, address, wallet):\n",
        "        self.name = name\n",
        "        self.age = age\n",
        "        self.address = address\n",
        "        self.__wallet = wallet    # 변수 앞에 __를 붙여서 비공개 속성으로 만듦\n",
        " \n",
        "    def pay(self, amount):\n",
        "        self.__wallet -= amount   # 비공개 속성은 클래스 안의 메서드에서만 접근할 수 있음\n",
        "        print('이제 {0}원 남았네요.'.format(self.__wallet))\n",
        " \n",
        "maria = Person('마리아', 20, '서울시 서초구 반포동', 10000)\n",
        "maria.pay(3000)"
      ],
      "metadata": {
        "colab": {
          "base_uri": "https://localhost:8080/"
        },
        "id": "3441RILkVStw",
        "outputId": "d611e152-2b55-4c65-a7d2-18100eb7393f"
      },
      "execution_count": null,
      "outputs": [
        {
          "output_type": "stream",
          "name": "stdout",
          "text": [
            "이제 7000원 남았네요.\n"
          ]
        }
      ]
    },
    {
      "cell_type": "code",
      "source": [
        "def pay(self, amount):\n",
        "    if amount > self.__wallet:    # 사용하려고 하는 금액보다 지갑에 든 돈이 적을 때\n",
        "        print('돈이 모자라네...')\n",
        "        return\n",
        "    self.__wallet -= amount # 즉, 중요한 값인데 바깥에서 함부로 바꾸면 안될 때 비공개 속성을 주로 사용\n",
        "\n",
        "# 클래스는 특정 개념을 표현(정의)만 할 뿐 사용을 하려면 인스턴스로 만들어야 한다는 점이 중요\n",
        "# 속성, 메서드를 사용할 때는 self와 인스턴스를 통해 사용해야 한다는 점"
      ],
      "metadata": {
        "id": "A5rWo9gfVcEv"
      },
      "execution_count": null,
      "outputs": []
    },
    {
      "cell_type": "markdown",
      "source": [
        "##### 공개 속성과 비공개 속성\n",
        "- 클래스 바깥에서 접근할 수 있는 속성을 공개 속성(public attribute)이라 부르고, 클래스 안에서만 접근할 수 있는 속성을 비공개 속성(private attribute)\n"
      ],
      "metadata": {
        "id": "SN7dUq_qYmuy"
      }
    },
    {
      "cell_type": "code",
      "source": [
        "# __(밑줄 두 개)로 시작하면 클래스 안에서만 호출할 수 있는 비공개 메서드 사용하기\n",
        "\n",
        "class Person:\n",
        "    def __greeting(self):\n",
        "        print('Hello')\n",
        " \n",
        "    def hello(self):\n",
        "        self.__greeting()    # 클래스 안에서는 비공개 메서드를 호출할 수 있음\n",
        " \n",
        "james = Person()\n",
        "# james.__greeting()    # 에러: 클래스 바깥에서는 비공개 메서드를 호출할 수 없음"
      ],
      "metadata": {
        "id": "xFsZ9g6XYFDG"
      },
      "execution_count": null,
      "outputs": []
    },
    {
      "cell_type": "code",
      "source": [
        "class Knight:\n",
        "  def __init__(self,health,mana,armor):\n",
        "    self.health=health\n",
        "    self.mana=mana\n",
        "    self.armor=armor\n",
        "  \n",
        "  def slash(self):\n",
        "    print(\"베기\")\n",
        "    \n",
        " \n",
        "x = Knight(health=542.4, mana=210.3, armor=38)\n",
        "print(x.health, x.mana, x.armor)\n",
        "x.slash()"
      ],
      "metadata": {
        "colab": {
          "base_uri": "https://localhost:8080/"
        },
        "id": "4RhkqAdmY5bY",
        "outputId": "b96f18ce-0502-497b-aa91-76afae34b896"
      },
      "execution_count": null,
      "outputs": [
        {
          "output_type": "stream",
          "name": "stdout",
          "text": [
            "542.4 210.3 38\n",
            "베기\n"
          ]
        }
      ]
    },
    {
      "cell_type": "code",
      "source": [
        "class Annie:\n",
        "  def __init__(self,health,mana,ability_power):\n",
        "    self.health=health\n",
        "    self.mana=mana\n",
        "    self.ability_power=ability_power\n",
        "  \n",
        "  def tibbers(self):\n",
        "    print(\"티버: 피해량 \",self.ability_power * 0.65 + 400)\n",
        "    \n",
        "\n",
        "health, mana, ability_power = map(float, input().split())\n",
        " \n",
        "x = Annie(health=health, mana=mana, ability_power=ability_power)\n",
        "x.tibbers()"
      ],
      "metadata": {
        "colab": {
          "base_uri": "https://localhost:8080/"
        },
        "id": "YGeEuhuqafEG",
        "outputId": "806a4aa6-9830-4987-e363-e2c623259055"
      },
      "execution_count": null,
      "outputs": [
        {
          "output_type": "stream",
          "name": "stdout",
          "text": [
            "511.68 334.0 298\n",
            "티버: 피해량  593.7\n"
          ]
        }
      ]
    },
    {
      "cell_type": "markdown",
      "source": [
        "### 클래스 속성 사용하기\n",
        "\n",
        "\n",
        "\n",
        "```\n",
        "class 클래스이름:\n",
        "    속성 = 값\n",
        "```\n",
        "\n",
        "\n"
      ],
      "metadata": {
        "id": "npFA9fOQccR6"
      }
    },
    {
      "cell_type": "code",
      "source": [
        "class Person:\n",
        "    bag = []\n",
        " \n",
        "    def put_bag(self, stuff):\n",
        "        self.bag.append(stuff)\n",
        " \n",
        "james = Person()\n",
        "james.put_bag('책')\n",
        " \n",
        "maria = Person()\n",
        "maria.put_bag('열쇠')\n",
        " \n",
        "print(james.bag)\n",
        "print(maria.bag)\n",
        "\n",
        "\n",
        "#즉, 클래스 속성은 클래스에 속해 있으며 모든 인스턴스에서 공유합니다."
      ],
      "metadata": {
        "colab": {
          "base_uri": "https://localhost:8080/"
        },
        "id": "U8StdHcScjjA",
        "outputId": "390d8622-fc12-4fda-80f8-295e8658ca30"
      },
      "execution_count": null,
      "outputs": [
        {
          "output_type": "stream",
          "name": "stdout",
          "text": [
            "['책', '열쇠']\n",
            "['책', '열쇠']\n"
          ]
        }
      ]
    },
    {
      "cell_type": "code",
      "source": [
        "#클래스.속성\n",
        "\n",
        "class Person:\n",
        "    bag = []\n",
        " \n",
        "    def put_bag(self, stuff):\n",
        "        Person.bag.append(stuff)    # 클래스 이름으로 클래스 속성에 접근"
      ],
      "metadata": {
        "id": "jRLaYr89drHt"
      },
      "execution_count": null,
      "outputs": []
    },
    {
      "cell_type": "code",
      "source": [
        "print(Person.bag)\n",
        "#파이썬에서는 속성, 메서드 이름을 찾을 때 인스턴스, 클래스 순으로 찾습니다.\n",
        "#인스턴스와 클래스에서 __dict__ 속성을 출력해보면 현재 인스턴스와 클래스의 속성을 딕셔너리로 확인"
      ],
      "metadata": {
        "colab": {
          "base_uri": "https://localhost:8080/"
        },
        "id": "g_xvozJXebSD",
        "outputId": "1a077084-6642-4dc0-cd8e-85c283f4d927"
      },
      "execution_count": null,
      "outputs": [
        {
          "output_type": "stream",
          "name": "stdout",
          "text": [
            "[]\n"
          ]
        }
      ]
    },
    {
      "cell_type": "code",
      "source": [
        "james.__dict__"
      ],
      "metadata": {
        "colab": {
          "base_uri": "https://localhost:8080/"
        },
        "id": "WeecIVgaed5k",
        "outputId": "209aaa7c-d6b8-4866-99b0-e4b00e9732c7"
      },
      "execution_count": null,
      "outputs": [
        {
          "output_type": "execute_result",
          "data": {
            "text/plain": [
              "{}"
            ]
          },
          "metadata": {},
          "execution_count": 78
        }
      ]
    },
    {
      "cell_type": "code",
      "source": [
        "Person.__dict__"
      ],
      "metadata": {
        "colab": {
          "base_uri": "https://localhost:8080/"
        },
        "id": "xA0mvUiCeuDr",
        "outputId": "93bbb30e-735e-4ffd-85c5-c0473525972b"
      },
      "execution_count": null,
      "outputs": [
        {
          "output_type": "execute_result",
          "data": {
            "text/plain": [
              "mappingproxy({'__module__': '__main__',\n",
              "              'bag': [],\n",
              "              'put_bag': <function __main__.Person.put_bag(self, stuff)>,\n",
              "              '__dict__': <attribute '__dict__' of 'Person' objects>,\n",
              "              '__weakref__': <attribute '__weakref__' of 'Person' objects>,\n",
              "              '__doc__': None})"
            ]
          },
          "metadata": {},
          "execution_count": 79
        }
      ]
    },
    {
      "cell_type": "code",
      "source": [
        "#bag을 인스턴스 속성\n",
        "\n",
        "class Person:\n",
        "    def __init__(self): #인스턴스 속성\n",
        "        self.bag = []\n",
        " \n",
        "    def put_bag(self, stuff):\n",
        "        self.bag.append(stuff)\n",
        " \n",
        "james = Person()\n",
        "james.put_bag('책')\n",
        " \n",
        "maria = Person()\n",
        "maria.put_bag('열쇠')\n",
        " \n",
        "print(james.bag)\n",
        "print(maria.bag)\n",
        "\n",
        "#인스턴스 속성은 인스턴스별로 독립되어 있으며 서로 영향을 주지 않습니다."
      ],
      "metadata": {
        "colab": {
          "base_uri": "https://localhost:8080/"
        },
        "id": "v4JcOIc_ev7o",
        "outputId": "b0187563-4be9-4ac8-db97-0b0fdd7d844c"
      },
      "execution_count": null,
      "outputs": [
        {
          "output_type": "stream",
          "name": "stdout",
          "text": [
            "['책']\n",
            "['열쇠']\n"
          ]
        }
      ]
    },
    {
      "cell_type": "markdown",
      "source": [
        "- 클래스 속성: 모든 인스턴스가 공유. 인스턴스 전체가 사용해야 하는 값을 저장할 때 사용\n",
        "- 인스턴스 속성: 인스턴스별로 독립되어 있음. 각 인스턴스가 값을 따로 저장해야 할 때 사용"
      ],
      "metadata": {
        "id": "RCHaMrWXf1pL"
      }
    },
    {
      "cell_type": "markdown",
      "source": [
        "\n",
        "\n",
        "```\n",
        "class 클래스이름:\n",
        "    __속성 = 값    # 비공개 클래스 속성\n",
        "```\n",
        "\n"
      ],
      "metadata": {
        "id": "vaVAXKBHgTvA"
      }
    },
    {
      "cell_type": "code",
      "source": [
        "class Knight:\n",
        "    __item_limit = 10    # 비공개 클래스 속성\n",
        " \n",
        "    def print_item_limit(self):\n",
        "        print(Knight.__item_limit)    # 클래스 안에서만 접근할 수 있음\n",
        " \n",
        " \n",
        "x = Knight()\n",
        "x.print_item_limit()    # 10\n",
        " \n",
        "# print(Knight.__item_limit)    # 클래스 바깥에서는 접근할 수 없음\n",
        "###공개 클래스 속성은 클래스 바깥으로 드러내고 싶지 않은 값에 사용"
      ],
      "metadata": {
        "colab": {
          "base_uri": "https://localhost:8080/"
        },
        "id": "HUr_qCKIfp9x",
        "outputId": "2afa3fec-992d-4081-b293-0e582f26cbfa"
      },
      "execution_count": null,
      "outputs": [
        {
          "output_type": "stream",
          "name": "stdout",
          "text": [
            "10\n"
          ]
        }
      ]
    },
    {
      "cell_type": "code",
      "source": [
        "#클래스와 메서드의 독스트링 사용\n",
        "\n",
        "class Person:\n",
        "    '''사람 클래스입니다.'''\n",
        "    \n",
        "    def greeting(self):\n",
        "        '''인사 메서드입니다.'''\n",
        "        print('Hello')\n",
        " \n",
        "print(Person.__doc__)             # 사람 클래스입니다.\n",
        "print(Person.greeting.__doc__)    # 인사 메서드입니다.\n",
        " \n",
        "maria = Person()\n",
        "print(maria.greeting.__doc__)     # 인사 메서드입니다."
      ],
      "metadata": {
        "colab": {
          "base_uri": "https://localhost:8080/"
        },
        "id": "T_sdM962ghUw",
        "outputId": "5f01c986-70ff-431a-fa38-90b8445cf836"
      },
      "execution_count": null,
      "outputs": [
        {
          "output_type": "stream",
          "name": "stdout",
          "text": [
            "사람 클래스입니다.\n",
            "인사 메서드입니다.\n",
            "인사 메서드입니다.\n"
          ]
        }
      ]
    },
    {
      "cell_type": "markdown",
      "source": [
        "####인스턴스를 통하지 않고 클래스에서 바로 호출할 수 있는 정적 메서드와 클래스 메서드\n",
        "\n",
        "###정적 메서드\n",
        "\n",
        "```\n",
        "class 클래스이름:\n",
        "    @staticmethod\n",
        "    def 메서드(매개변수1, 매개변수2):\n",
        "        코드\n",
        "```\n",
        "\n",
        "@staticmethod처럼 앞에 @이 붙은 것을 데코레이터라고 하며 메서드(함수)에 추가 기능을 구현할 때 사용"
      ],
      "metadata": {
        "id": "x-5Z8_FdhA6g"
      }
    },
    {
      "cell_type": "code",
      "source": [
        "class Calc:\n",
        "    @staticmethod\n",
        "    def add(a, b):\n",
        "        print(a + b)\n",
        " \n",
        "    @staticmethod\n",
        "    def mul(a, b):\n",
        "        print(a * b)\n",
        " \n",
        "Calc.add(10, 20)    # 클래스에서 바로 메서드 호출\n",
        "Calc.mul(10, 20)    # 클래스에서 바로 메서드 호출"
      ],
      "metadata": {
        "colab": {
          "base_uri": "https://localhost:8080/"
        },
        "id": "nf0liZ9nhPI2",
        "outputId": "08d2329d-18d0-4309-9d0a-b386765fde26"
      },
      "execution_count": null,
      "outputs": [
        {
          "output_type": "stream",
          "name": "stdout",
          "text": [
            "30\n",
            "200\n"
          ]
        }
      ]
    },
    {
      "cell_type": "markdown",
      "source": [
        "###Calc 클래스에서 @staticmethod를 붙여서 add 메서드와 mul 메서드를 만듬\n",
        "\n",
        "### 클래스.메서드()\n",
        "\n",
        "\n",
        "```\n",
        "Calc.add(10, 20)    # 클래스에서 바로 메서드 호출\n",
        "Calc.mul(10, 20)    # 클래스에서 바로 메서드 호출\n",
        "```\n",
        "\n",
        "\n",
        "###정적 메서드는 self를 받지 않으므로 인스턴스 속성에는 접근할 수 없음\n",
        "###그래서 보통 정적 메서드는 인스턴스 속성, 인스턴스 메서드가 필요 없을 때 사용\n",
        "###정적 메서드는 인스턴스의 상태를 변화시키지 않는 메서드를 만들 때 사용"
      ],
      "metadata": {
        "id": "9F6qPr61hzDC"
      }
    },
    {
      "cell_type": "code",
      "source": [
        "# 파이썬 자료형의 인스턴스 메서드와 정적 메서드\n",
        "\n",
        "#세트에 요소를 더할 때는 인스턴스 메서드를 사용하고, 합집합을 구할 때는 정적 메서드를 사용하도록 만들어져 있음\n",
        "a = {1, 2, 3, 4}\n",
        "a.update({5})    # 인스턴스 메서드\n",
        "a\n",
        "\n",
        "set.union({1, 2, 3, 4}, {5})    # 정적(클래스) 메서드\n",
        "\n",
        "##인스턴스의 내용을 변경해야 할 때는 update와 같이 인스턴스 메서드로 작성하면 되고, 인스턴스 내용과는 상관없이 결과만 구하면 될 때는 set.union과 같이 정적 메서드로 작성하면 됩니다."
      ],
      "metadata": {
        "colab": {
          "base_uri": "https://localhost:8080/"
        },
        "id": "B6sQXMqMhksd",
        "outputId": "d814ce84-b22c-45ab-d909-c581b1a05472"
      },
      "execution_count": null,
      "outputs": [
        {
          "output_type": "execute_result",
          "data": {
            "text/plain": [
              "{1, 2, 3, 4, 5}"
            ]
          },
          "metadata": {},
          "execution_count": 92
        }
      ]
    },
    {
      "cell_type": "markdown",
      "source": [
        "######클래스 메서드\n",
        "######  @classmethod\n",
        "###### 클래스 메서드는 첫 번째 매개변수에 cls를 지정해야 합니다(cls는 class에서 따왔습니다).\n",
        "\n",
        "\n",
        "\n",
        "```\n",
        "lass 클래스이름:\n",
        "    @classmethod\n",
        "    def 메서드(cls, 매개변수1, 매개변수2):\n",
        "        코드\n",
        "```\n",
        "\n"
      ],
      "metadata": {
        "id": "SPZu6LMCiiCC"
      }
    },
    {
      "cell_type": "code",
      "source": [
        "class Person:\n",
        "    count = 0    # 클래스 속성\n",
        " \n",
        "    def __init__(self):\n",
        "        Person.count += 1    # 인스턴스가 만들어질 때\n",
        "                             # 클래스 속성 count에 1을 더함\n",
        " \n",
        "    @classmethod\n",
        "    def print_count(cls):\n",
        "        print('{0}명 생성되었습니다.'.format(cls.count))    # cls로 클래스 속성에 접근\n",
        " \n",
        "james = Person()\n",
        "maria = Person()\n",
        " \n",
        "Person.print_count()    # 2명 생성되었습니다."
      ],
      "metadata": {
        "colab": {
          "base_uri": "https://localhost:8080/"
        },
        "id": "KRBgcRu6iffG",
        "outputId": "8f603db9-cb26-497f-e2ef-a86dfc02f4e8"
      },
      "execution_count": null,
      "outputs": [
        {
          "output_type": "stream",
          "name": "stdout",
          "text": [
            "2명 생성되었습니다.\n"
          ]
        }
      ]
    },
    {
      "cell_type": "markdown",
      "source": [
        "######클래스 메서드는 정적 메서드처럼 인스턴스 없이 호출할 수 있음\n",
        "######하지만 클래스 메서드는 메서드 안에서 클래스 속성,\n",
        "###### 클래스 메서드에 접근해야 할 때 사용\n",
        "\n",
        "\n",
        "\n",
        "```\n",
        "@classmethod\n",
        "    def create(cls):\n",
        "        p = cls()    # cls()로 인스턴스 생성\n",
        "        return p\n",
        "```\n",
        "\n"
      ],
      "metadata": {
        "id": "qIB2dfWxjH6N"
      }
    },
    {
      "cell_type": "code",
      "source": [
        "class Date:\n",
        "                                                                \n",
        "  @staticmethod\n",
        "  def is_date_valid(date_string):\n",
        "    year,month,day=map(int,date_string.split(\"-\"))\n",
        "    return month <=12 and day <=31                                                                \n",
        " \n",
        "if Date.is_date_valid('2000-10-31'):\n",
        "    print('올바른 날짜 형식입니다.')\n",
        "else:\n",
        "    print('잘못된 날짜 형식입니다.')"
      ],
      "metadata": {
        "colab": {
          "base_uri": "https://localhost:8080/"
        },
        "id": "9u_TUeZVjUa4",
        "outputId": "05a27840-49d4-4974-d476-0e81a8ebc2f9"
      },
      "execution_count": null,
      "outputs": [
        {
          "output_type": "stream",
          "name": "stdout",
          "text": [
            "올바른 날짜 형식입니다.\n"
          ]
        }
      ]
    },
    {
      "cell_type": "code",
      "source": [
        "class Time:\n",
        "    def __init__(self, hour, minute, second):\n",
        "        self.hour = hour\n",
        "        self.minute = minute\n",
        "        self.second = second\n",
        " \n",
        "    @staticmethod\n",
        "    def is_time_valid(time_string):\n",
        "      return int(time_string.split(\":\")[0])<=24 and int(time_string.split(\":\")[1])<=59 and int(time_string.split(':')[2])<=60\n",
        "\n",
        "\n",
        "    @classmethod\n",
        "    def from_string(cls,time_string):\n",
        "      hour,minute,second=map(int,time_string.split(\":\"))\n",
        "      time=cls(hour,minute,second)\n",
        "      return time\n",
        "\n",
        "time_string = input()\n",
        " \n",
        "if Time.is_time_valid(time_string):\n",
        "    t = Time.from_string(time_string)\n",
        "    print(t.hour, t.minute, t.second)\n",
        "else:\n",
        "    print('잘못된 시간 형식입니다.')"
      ],
      "metadata": {
        "colab": {
          "base_uri": "https://localhost:8080/"
        },
        "id": "GkmzxHaYmDUI",
        "outputId": "4b8f42dc-a575-43ba-f0a0-e3c088fb6f9c"
      },
      "execution_count": null,
      "outputs": [
        {
          "output_type": "stream",
          "name": "stdout",
          "text": [
            "12:52:45\n",
            "12 52 45\n"
          ]
        }
      ]
    },
    {
      "cell_type": "markdown",
      "source": [
        "#######클래스 상속 사용하기\n",
        "######클래스 상속(inheritance)을 사용 \n",
        "\n",
        "#####클래스 상속은 다음과 같이 클래스를 만들 때 ( )(괄호)를 붙이고 안에 기반 클래스 이름을 넣습니다\n",
        "\n",
        "\n",
        "\n",
        "```\n",
        "class 기반클래스이름:\n",
        "    코드\n",
        " \n",
        "class 파생클래스이름(기반클래스이름):\n",
        "    코드\n",
        "```\n",
        "\n"
      ],
      "metadata": {
        "id": "xQhQMcNvwuby"
      }
    },
    {
      "cell_type": "code",
      "source": [
        "class Person:\n",
        "    def greeting(self):\n",
        "        print('안녕하세요.')\n",
        " \n",
        "class Student(Person):  #파생 클래스\n",
        "    def study(self):\n",
        "        print('공부하기')\n",
        " \n",
        "james = Student()\n",
        "james.greeting()    # 안녕하세요.: 기반 클래스 Person의 메서드 호출\n",
        "james.study()       # 공부하기: 파생 클래스 Student에 추가한 study 메서드\n",
        "\n"
      ],
      "metadata": {
        "colab": {
          "base_uri": "https://localhost:8080/"
        },
        "id": "mEXyJWT6ulai",
        "outputId": "0d9d9aae-a978-4032-8e38-177df24ff2ba"
      },
      "execution_count": null,
      "outputs": [
        {
          "output_type": "stream",
          "name": "stdout",
          "text": [
            "안녕하세요.\n",
            "공부하기\n"
          ]
        }
      ]
    },
    {
      "cell_type": "markdown",
      "source": [
        "#상속 관계 확인하기\n",
        "- 클래스의 상속 관계를 확인하고 싶을 때는 issubclass 함수를 사용\n",
        "- 클래스가 기반 클래스의 파생 클래스인지 확인\n",
        "- 기반 클래스의 파생 클래스가 맞으면 True, 아니면 False를 반환\n",
        "\n",
        "\n",
        "\n",
        "```\n",
        "issubclass(파생클래스, 기반클래스)\n",
        "```\n",
        "\n"
      ],
      "metadata": {
        "id": "XIH_X258xk12"
      }
    },
    {
      "cell_type": "code",
      "source": [
        "issubclass(Student,Person)"
      ],
      "metadata": {
        "colab": {
          "base_uri": "https://localhost:8080/"
        },
        "id": "72syx8Dbx3Zb",
        "outputId": "7b8b041a-0849-412f-d5dd-5a8896d2aee3"
      },
      "execution_count": null,
      "outputs": [
        {
          "output_type": "execute_result",
          "data": {
            "text/plain": [
              "True"
            ]
          },
          "metadata": {},
          "execution_count": 104
        }
      ]
    },
    {
      "cell_type": "code",
      "source": [
        "class Person:\n",
        "    def greeting(self):\n",
        "        print('안녕하세요.')\n",
        " \n",
        "class Student(Person):\n",
        "    def study(self):\n",
        "        print('공부하기')"
      ],
      "metadata": {
        "id": "7XnakkPQxV64"
      },
      "execution_count": null,
      "outputs": []
    },
    {
      "cell_type": "code",
      "source": [
        "#포함관계\n",
        "##학생 클래스가 아니라 사람목록을 관리하는 클래스를 만든다는데, 같이 리스트 속성에 Person 인스턴스를 넣어서 관리\n",
        "\n",
        "class Person:\n",
        "    def greeting(self):\n",
        "        print('안녕하세요.')\n",
        " \n",
        "class PersonList:\n",
        "    def __init__(self):\n",
        "        self.person_list = []    # 리스트 속성에 Person 인스턴스를 넣어서 관리\n",
        " \n",
        "    def append_person(self, person):    # 리스트 속성에 Person 인스턴스를 추가하는 함수\n",
        "        self.person_list.append(person)"
      ],
      "metadata": {
        "id": "SypRcrrdyFGg"
      },
      "execution_count": null,
      "outputs": []
    },
    {
      "cell_type": "code",
      "source": [
        "class Person:\n",
        "    def __init__(self):\n",
        "        print('Person __init__')\n",
        "        self.hello = '안녕하세요.'\n",
        " \n",
        "class Student(Person):\n",
        "    def __init__(self):\n",
        "        print('Student __init__')\n",
        "        self.school = '파이썬 코딩 도장'\n",
        " \n",
        "james = Student()\n",
        "print(james.school)\n",
        "# print(james.hello)    # 기반 클래스의 속성을 출력하려고 하면 에러가 발생함"
      ],
      "metadata": {
        "colab": {
          "base_uri": "https://localhost:8080/"
        },
        "id": "lvAch1hV0QJo",
        "outputId": "3650cd61-4bad-4dff-f19e-1258eae90a3e"
      },
      "execution_count": null,
      "outputs": [
        {
          "output_type": "stream",
          "name": "stdout",
          "text": [
            "Student __init__\n",
            "파이썬 코딩 도장\n"
          ]
        }
      ]
    },
    {
      "cell_type": "code",
      "source": [
        "#super()로 기반 클래스 초기화 하기\n",
        "# super().메서드\n",
        "\n",
        "class Person:\n",
        "  def __init__(self):\n",
        "    print(\"Person__init__\")\n",
        "    self.hello=\"안녕하세요\"\n",
        "\n",
        "class Student(Person):\n",
        "    def __init__(self):\n",
        "        print('Student __init__')\n",
        "        super().__init__()                # super()로 기반 클래스의 __init__ 메서드 호출\n",
        "        self.school = '파이썬 코딩 도장'\n",
        " \n",
        "james = Student()\n",
        "print(james.school)\n",
        "print(james.hello)"
      ],
      "metadata": {
        "colab": {
          "base_uri": "https://localhost:8080/"
        },
        "id": "VDCIADeM1GDe",
        "outputId": "a06bda02-d964-46e9-d1ce-2090919f5f3d"
      },
      "execution_count": null,
      "outputs": [
        {
          "output_type": "stream",
          "name": "stdout",
          "text": [
            "Student __init__\n",
            "Person__init__\n",
            "파이썬 코딩 도장\n",
            "안녕하세요\n"
          ]
        }
      ]
    },
    {
      "cell_type": "code",
      "source": [
        "#기반 클래스를 초기화하지 않아도 되는 경우\n",
        "### 만약 파생 클래스에서 __init__ 메서드를 생략한다면 기반 클래스의 __init__이 자동으로 호출되므로 super()는 사용하지 않음\n",
        "\n",
        "class Person:\n",
        "    def __init__(self):\n",
        "        print('Person __init__')\n",
        "        self.hello = '안녕하세요.'\n",
        " \n",
        "class Student(Person):\n",
        "    pass\n",
        " \n",
        "james = Student()\n",
        "print(james.hello)"
      ],
      "metadata": {
        "colab": {
          "base_uri": "https://localhost:8080/"
        },
        "id": "IW_vlYFI3dU1",
        "outputId": "f3fb4ccb-3f6e-42ba-f12c-785a3d01b6da"
      },
      "execution_count": null,
      "outputs": [
        {
          "output_type": "stream",
          "name": "stdout",
          "text": [
            "Person __init__\n",
            "안녕하세요.\n"
          ]
        }
      ]
    },
    {
      "cell_type": "code",
      "source": [
        "#명확하게 super 사용하기\n",
        "#super는 다음과 같이 파생 클래스와 self를 넣어서 현재 클래스가 어떤 클래스인지 명확하게 표시하는 방법도 있습니다. \n",
        "#물론 super()와 기능은 같음\n",
        "\n",
        "##super(파생클래스, self).메서드##\n",
        "\n",
        "class Student(Person):\n",
        "    def __init__(self):\n",
        "        print('Student __init__')\n",
        "        super(Student, self).__init__()     # super(파생클래스, self)로 기반 클래스의 메서드 호출\n",
        "        self.school = '파이썬 코딩 도장'"
      ],
      "metadata": {
        "id": "j1sS6fBQ3h1t"
      },
      "execution_count": null,
      "outputs": []
    },
    {
      "cell_type": "markdown",
      "source": [
        "##이어서"
      ],
      "metadata": {
        "id": "plW07u4H4Zil"
      }
    },
    {
      "cell_type": "code",
      "source": [
        "#파생 클래스에서 기반 클래스의 메서드를 새로 정의하는 메서드 오버라이딩\n",
        "#오버라이딩(overriding)은 무시하다, 우선하다라는 뜻을 가지고 있는데 말 그대로 기반 클래스의 메서드를 무시하고 새로운 메서드를 만든다는 뜻\n",
        "class Person:\n",
        "    def greeting(self):\n",
        "        print('안녕하세요.')\n",
        " \n",
        "class Student(Person):\n",
        "    def greeting(self):\n",
        "        print('안녕하세요. 저는 파이썬 코딩 도장 학생입니다.')\n",
        " \n",
        "james = Student()\n",
        "james.greeting()"
      ],
      "metadata": {
        "colab": {
          "base_uri": "https://localhost:8080/"
        },
        "id": "GRVfYXjT4aub",
        "outputId": "be56a34d-ec85-42ba-f7c6-c8c5e3200f11"
      },
      "execution_count": null,
      "outputs": [
        {
          "output_type": "stream",
          "name": "stdout",
          "text": [
            "안녕하세요. 저는 파이썬 코딩 도장 학생입니다.\n"
          ]
        }
      ]
    },
    {
      "cell_type": "code",
      "source": [
        "#기반 클래스의 메서드를 재활용하면 중복을 줄일 수 있습니다\n",
        "\n",
        "def greeting(self):\n",
        "    print('안녕하세요.')\n",
        " \n",
        "class Student(Person):\n",
        "    def greeting(self):\n",
        "        super().greeting()    # 기반 클래스의 메서드 호출하여 중복을 줄임\n",
        "        print('저는 파이썬 코딩 도장 학생입니다.')\n",
        " \n",
        "james = Student()\n",
        "james.greeting()"
      ],
      "metadata": {
        "colab": {
          "base_uri": "https://localhost:8080/"
        },
        "id": "8iLwhim343ar",
        "outputId": "58a4722e-4e71-4e47-85d7-6e1a2516c9db"
      },
      "execution_count": null,
      "outputs": [
        {
          "output_type": "stream",
          "name": "stdout",
          "text": [
            "안녕하세요.\n",
            "저는 파이썬 코딩 도장 학생입니다.\n"
          ]
        }
      ]
    },
    {
      "cell_type": "markdown",
      "source": [
        "다중 상속은 여러 기반 클래스로부터 상속을 받아서 파생 클래스를 만드는 방법\n",
        "\n",
        "\n",
        "\n",
        "```\n",
        "class 기반클래스이름1:\n",
        "    코드\n",
        " \n",
        "class 기반클래스이름2:\n",
        "    코드\n",
        " \n",
        "class 파생클래스이름(기반클래스이름1, 기반클래스이름2):\n",
        "    코드\n",
        "```\n",
        "\n"
      ],
      "metadata": {
        "id": "o-DIvgUJ5wUj"
      }
    },
    {
      "cell_type": "code",
      "source": [
        "class Person:\n",
        "    def greeting(self):\n",
        "        print('안녕하세요.')\n",
        " \n",
        "class University:\n",
        "    def manage_credit(self):\n",
        "        print('학점 관리')\n",
        " \n",
        "class Undergraduate(Person, University):\n",
        "    def study(self):\n",
        "        print('공부하기')\n",
        " \n",
        "james = Undergraduate()\n",
        "james.greeting()         # 안녕하세요.: 기반 클래스 Person의 메서드 호출\n",
        "james.manage_credit()    # 학점 관리: 기반 클래스 University의 메서드 호출\n",
        "james.study()            # 공부하기: 파생 클래스 Undergraduate에 추가한 study 메서드"
      ],
      "metadata": {
        "colab": {
          "base_uri": "https://localhost:8080/"
        },
        "id": "viCcbqo35y8N",
        "outputId": "4062ca4a-9108-48d0-e6aa-8b98d9acc0b5"
      },
      "execution_count": null,
      "outputs": [
        {
          "output_type": "stream",
          "name": "stdout",
          "text": [
            "안녕하세요.\n",
            "학점 관리\n",
            "공부하기\n"
          ]
        }
      ]
    },
    {
      "cell_type": "code",
      "source": [
        "##다이아몬드 상속\n",
        "class A:\n",
        "    def greeting(self):\n",
        "        print('안녕하세요. A입니다.')\n",
        " \n",
        "class B(A):\n",
        "    def greeting(self):\n",
        "        print('안녕하세요. B입니다.')\n",
        " \n",
        "class C(A):\n",
        "    def greeting(self):\n",
        "        print('안녕하세요. C입니다.')\n",
        " \n",
        "class D(B, C):\n",
        "    pass\n",
        " \n",
        "x = D()\n",
        "x.greeting()    # 안녕하세요. B입니다."
      ],
      "metadata": {
        "colab": {
          "base_uri": "https://localhost:8080/"
        },
        "id": "NW3iiFwR6JCl",
        "outputId": "4eb02ac1-1044-41ea-b703-72a402cf9c2a"
      },
      "execution_count": null,
      "outputs": [
        {
          "output_type": "stream",
          "name": "stdout",
          "text": [
            "안녕하세요. B입니다.\n"
          ]
        }
      ]
    },
    {
      "cell_type": "code",
      "source": [
        "##파이썬에서는 메서드 탐색 순서(Method Resolution Order, MRO)를 따름\n",
        "#클래스 D에 메서드 mro를 사용해보면 메서드 탐색 순서가 나옵니다(클래스.__mro__ 형식도 같은 내용)\n",
        "## 클래스.mro()\n",
        "\n",
        "D.mro()"
      ],
      "metadata": {
        "colab": {
          "base_uri": "https://localhost:8080/"
        },
        "id": "vWLSEiYf6-gP",
        "outputId": "ea0c3040-9477-4963-89cc-a59f5cd6e810"
      },
      "execution_count": null,
      "outputs": [
        {
          "output_type": "execute_result",
          "data": {
            "text/plain": [
              "[__main__.D, __main__.B, __main__.C, __main__.A, object]"
            ]
          },
          "metadata": {},
          "execution_count": 120
        }
      ]
    },
    {
      "cell_type": "code",
      "source": [
        "x = D()\n",
        "x.greeting()    # 안녕하세요. B입니다."
      ],
      "metadata": {
        "colab": {
          "base_uri": "https://localhost:8080/"
        },
        "id": "NWWsspMV7JkB",
        "outputId": "9094f2f2-4e18-431e-98c0-6395e9798802"
      },
      "execution_count": null,
      "outputs": [
        {
          "output_type": "stream",
          "name": "stdout",
          "text": [
            "안녕하세요. B입니다.\n"
          ]
        }
      ]
    },
    {
      "cell_type": "code",
      "source": [
        "int.mro()"
      ],
      "metadata": {
        "colab": {
          "base_uri": "https://localhost:8080/"
        },
        "id": "3loxYhZP7eWo",
        "outputId": "75cd7b5e-afdd-4911-eec1-a67580fbb71a"
      },
      "execution_count": null,
      "outputs": [
        {
          "output_type": "execute_result",
          "data": {
            "text/plain": [
              "[int, object]"
            ]
          },
          "metadata": {},
          "execution_count": 122
        }
      ]
    },
    {
      "cell_type": "markdown",
      "source": [
        "### 추상 클래스(abstract class)\n",
        "- 메서드의 목록만 가진 클래스이며 상속받는 클래스에서 메서드 구현을 강제하기 위해 사용\n",
        "\n",
        "- import로 abc 모듈을 가져와야 합니다( abc는 abstract base class의 약자입니다).\n",
        "\n",
        "- 클래스의 ( )(괄호) 안에 metaclass=ABCMeta를 지정하고, 메서드를 만들 때 위에 @abstractmethod를 붙여서 추상 메서드로 지정\n",
        "\n",
        "\n",
        "\n",
        "```\n",
        "from abc import *\n",
        " \n",
        "class 추상클래스이름(metaclass=ABCMeta):\n",
        "    @abstractmethod\n",
        "    def 메서드이름(self):\n",
        "        코드\n",
        "```\n",
        "####import abc로 모듈을 가져왔다면 abc.ABCMeta, @abc.abstractmethod로 사용\n",
        "\n"
      ],
      "metadata": {
        "id": "3x2hoNkz74AM"
      }
    },
    {
      "cell_type": "code",
      "source": [
        "from abc import *\n",
        " \n",
        "class StudentBase(metaclass=ABCMeta):\n",
        "    @abstractmethod\n",
        "    def study(self):\n",
        "        pass\n",
        " \n",
        "    @abstractmethod\n",
        "    def go_to_school(self):\n",
        "        pass\n",
        " \n",
        "class Student(StudentBase):\n",
        "    def study(self):\n",
        "        print('공부하기')\n",
        " \n",
        "    def go_to_school(self):\n",
        "        print('학교가기')\n",
        " \n",
        "james = Student()\n",
        "james.study()\n",
        "james.go_to_school()"
      ],
      "metadata": {
        "colab": {
          "base_uri": "https://localhost:8080/"
        },
        "id": "34yLUxNZ7mix",
        "outputId": "3cab5864-a1c1-47d0-ba25-9103aa619683"
      },
      "execution_count": null,
      "outputs": [
        {
          "output_type": "stream",
          "name": "stdout",
          "text": [
            "공부하기\n",
            "학교가기\n"
          ]
        }
      ]
    },
    {
      "cell_type": "markdown",
      "source": [
        "###추상 메서드를 빈 메서드로 만드는 이유\n",
        "###추상 클래스는 인스턴스로 만들 수가 없다는 점##\n",
        "\n",
        "```\n",
        "    @abstractmethod\n",
        "    def study(self):\n",
        "        pass    # 추상 메서드는 호출할 일이 없으므로 빈 메서드로 만듦\n",
        " \n",
        "    @abstractmethod\n",
        "    def go_to_school(self):\n",
        "        pass    # 추상 메서드는 호출할 일이 없으므로 빈 메서드로 만듦\n",
        "```\n",
        "\n"
      ],
      "metadata": {
        "id": "MyYD7ISW9PPR"
      }
    },
    {
      "cell_type": "code",
      "source": [
        "class AdvancedList(list):\n",
        "    def replace(self, old, new):\n",
        "        while old in self:\n",
        "            self[self.index(old)] = new\n",
        "                         \n",
        "x = AdvancedList([1, 2, 3, 1, 2, 3, 1, 2, 3])\n",
        "x.replace(1, 100)\n",
        "print(x)"
      ],
      "metadata": {
        "colab": {
          "base_uri": "https://localhost:8080/"
        },
        "id": "2qFohcqB9WYR",
        "outputId": "65111a2d-3565-437a-cd67-e8abac0b1931"
      },
      "execution_count": null,
      "outputs": [
        {
          "output_type": "stream",
          "name": "stdout",
          "text": [
            "[100, 2, 3, 100, 2, 3, 100, 2, 3]\n"
          ]
        }
      ]
    },
    {
      "cell_type": "code",
      "source": [
        "class Animal:\n",
        "    def eat(self):\n",
        "        print('먹다')\n",
        " \n",
        "class Wing:\n",
        "    def flap(self):\n",
        "        print('파닥거리다')\n",
        "\n",
        "class Bird(Animal,Wing):\n",
        "    def fly(self):\n",
        "        print(\"날다\")\n",
        "\n",
        "b = Bird()\n",
        "b.eat()\n",
        "b.flap()\n",
        "b.fly()\n",
        "print(issubclass(Bird, Animal))\n",
        "print(issubclass(Bird, Wing))"
      ],
      "metadata": {
        "colab": {
          "base_uri": "https://localhost:8080/"
        },
        "id": "N6EeaK3b_yR4",
        "outputId": "6eb28e0f-d636-4a59-ef54-9aa2472b9bca"
      },
      "execution_count": null,
      "outputs": [
        {
          "output_type": "stream",
          "name": "stdout",
          "text": [
            "먹다\n",
            "파닥거리다\n",
            "날다\n",
            "True\n",
            "True\n"
          ]
        }
      ]
    },
    {
      "cell_type": "markdown",
      "source": [
        "### 두 점 사이의 거리 구하기\n",
        "- 2차원 평면에서 위치를 표현 한 뒤 두 점 사이의 거리를 구한다\n",
        "\n",
        "- 먼저 클래스로 점을 구현 해본다\n",
        "\n",
        "\n",
        "```\n",
        "class Point2D:\n",
        "    def __init__(self, x, y):\n",
        "        self.x = x\n",
        "        self.y = y\n",
        "```\n",
        "\n"
      ],
      "metadata": {
        "id": "oGbNd1VcBs2d"
      }
    },
    {
      "cell_type": "code",
      "source": [
        "class Point2D:\n",
        "    def __init__(self, x, y):\n",
        "        self.x = x\n",
        "        self.y = y\n",
        " \n",
        "p1 = Point2D(x=30, y=20)    # 점1\n",
        "p2 = Point2D(x=60, y=50)    # 점2\n",
        " \n",
        "print('p1: {} {}'.format(p1.x, p1.y))    # 30 20\n",
        "print('p2: {} {}'.format(p2.x, p2.y))    # 60 50"
      ],
      "metadata": {
        "colab": {
          "base_uri": "https://localhost:8080/"
        },
        "id": "fD_Y6kOSA4i9",
        "outputId": "c5560f63-40b4-4aca-806a-744c8665a8cf"
      },
      "execution_count": null,
      "outputs": [
        {
          "output_type": "stream",
          "name": "stdout",
          "text": [
            "p1: 30 20\n",
            "p2: 60 50\n"
          ]
        }
      ]
    },
    {
      "cell_type": "markdown",
      "source": [
        "####피타고라스의 정리 두 점의 거리 구하기\n",
        "- a2 + b2 = c2"
      ],
      "metadata": {
        "id": "t60qXUoXC9Vl"
      }
    },
    {
      "cell_type": "code",
      "source": [
        "a = p2.x - p1.x    # 선 a의 길이\n",
        "b = p2.y - p1.y    # 선 b의 길이"
      ],
      "metadata": {
        "id": "vrdqTAZkDewB"
      },
      "execution_count": null,
      "outputs": []
    },
    {
      "cell_type": "code",
      "source": [
        "import math\n",
        " \n",
        "class Point2D:\n",
        "    def __init__(self, x, y):\n",
        "        self.x = x\n",
        "        self.y = y\n",
        " \n",
        "p1 = Point2D(x=30, y=20)    # 점1\n",
        "p2 = Point2D(x=60, y=50)    # 점2\n",
        " \n",
        "a = p2.x - p1.x    # 선 a의 길이\n",
        "b = p2.y - p1.y    # 선 b의 길이\n",
        " \n",
        "c = math.sqrt((a * a) + (b * b))    # (a * a) + (b * b)의 제곱근을 구함\n",
        "print(c)    # 42.42640687119285\n"
      ],
      "metadata": {
        "colab": {
          "base_uri": "https://localhost:8080/"
        },
        "id": "IbPMInk2C2LX",
        "outputId": "dbd87f1b-c489-4cb1-db48-0c8e1bf65c03"
      },
      "execution_count": null,
      "outputs": [
        {
          "output_type": "stream",
          "name": "stdout",
          "text": [
            "42.42640687119285\n"
          ]
        }
      ]
    },
    {
      "cell_type": "code",
      "source": [
        "c = math.sqrt(math.pow(a, 2) + math.pow(b, 2))"
      ],
      "metadata": {
        "id": "-NBZjAZvDygb"
      },
      "execution_count": null,
      "outputs": []
    },
    {
      "cell_type": "code",
      "source": [
        "c = math.sqrt((a ** 2) + (b ** 2))"
      ],
      "metadata": {
        "id": "OHgS4m3sDz-c"
      },
      "execution_count": null,
      "outputs": []
    },
    {
      "cell_type": "code",
      "source": [
        "a = p1.x - p2.x    # 선 a의 길이\n",
        "b = p1.y - p2.y    # 선 b의 길이"
      ],
      "metadata": {
        "id": "Oe5oyLy2D1VI"
      },
      "execution_count": null,
      "outputs": []
    },
    {
      "cell_type": "code",
      "source": [
        "#절댓값 함수\n",
        "#내장 함수 abs 또는 math 모듈의 fabs 함수를 사용하면 양수 또는 음수를 절댓값(absolute value)으로 만들 수 있음\n",
        "##abs(값)\n",
        "##정수는 절댓값을 정수로 반환, 실수는 절댓값을 실수로 반환\n",
        "##math.fabs(값)\n",
        "##절댓값을 실수로 반환"
      ],
      "metadata": {
        "id": "dKjtkCvUEPEs"
      },
      "execution_count": null,
      "outputs": []
    },
    {
      "cell_type": "markdown",
      "source": [
        "##namedtuple 사용하기\n",
        "\n",
        " 요소에 이름을 지정해 줄 수 있는 튜플인 namedtuple을 제공합니다( collections 모듈). namedtuple은 자료형 이름과 요소의 이름을 지정하면 클래스를 생성해줍니다. 여기서 자료형 이름은 문자열, 요소의 이름은 문자열 리스트로 넣어줍니다.\n",
        "\n",
        "클래스 = collections.namedtuple('자료형이름', ['요소이름1', '요소이름2'])\n",
        "\n",
        "- namedtuple로 생성한 클래스는 값을 넣어서 인스턴스를 만들 수 있으며 인스턴스.요소이름 또는 인스턴스[인덱스] 형식으로 요소에 접근할 수 있습니다.\n",
        "\n",
        "\n",
        "인스턴스 = 클래스(값1, 값2)\n",
        "\n",
        "인스턴스 = 클래스(요소이름1=값1, 요소이름2=값2)\n",
        "\n",
        "인스턴스.요소이름1\n",
        "\n",
        "인스턴스[인덱스]"
      ],
      "metadata": {
        "id": "cRRAOIqEG4we"
      }
    },
    {
      "cell_type": "code",
      "source": [
        "import math\n",
        "import collections\n",
        " \n",
        "Point2D = collections.namedtuple('Point2D', ['x', 'y'])    # namedtuple로 점 표현\n",
        " \n",
        "p1 = Point2D(x=30, y=20)    # 점1\n",
        "p2 = Point2D(x=60, y=50)    # 점2\n",
        " \n",
        "a = p1.x - p2.x    # 선 a의 길이\n",
        "b = p1.y - p2.y    # 선 b의 길이\n",
        " \n",
        "c = math.sqrt((a * a) + (b * b))\n",
        "print(c)    # 42.42640687119285"
      ],
      "metadata": {
        "colab": {
          "base_uri": "https://localhost:8080/"
        },
        "id": "Nalvdzi4HByx",
        "outputId": "bd209614-1987-4e75-b346-9a654429e449"
      },
      "execution_count": null,
      "outputs": [
        {
          "output_type": "stream",
          "name": "stdout",
          "text": [
            "42.42640687119285\n"
          ]
        }
      ]
    },
    {
      "cell_type": "markdown",
      "source": [
        "- sqrt 함수에 값을 넣으면 해당 값의 제곱근을 구해줍니다. \n",
        "- 여기서는 a의 제곱과 b의 제곱의 합을 (a * a) + (b * b)처럼 표현했는데 거듭제곱(power)을 구하는 pow 함수를 사용\n",
        "\n",
        "- math.pow(값, 지수)\n"
      ],
      "metadata": {
        "id": "cUGmww_WHinI"
      }
    },
    {
      "cell_type": "code",
      "source": [
        "class Rectangle:\n",
        "    def __init__(self, x1, y1, x2, y2):\n",
        "        self.x1 = x1\n",
        "        self.y1 = y1\n",
        "        self.x2 = x2\n",
        "        self.y2 = y2\n",
        " \n",
        "rect = Rectangle(x1=20, y1=20, x2=40, y2=30)\n",
        " \n",
        "width=abs(rect.x2-rect.x1)\n",
        "height=abs(rect.y2-rect.y1)\n",
        "area=width*height                             \n",
        "print(area)"
      ],
      "metadata": {
        "colab": {
          "base_uri": "https://localhost:8080/"
        },
        "id": "J8m_VFwmHIEf",
        "outputId": "ce02d654-fe8f-41b4-c880-4f501d3e7cf3"
      },
      "execution_count": null,
      "outputs": [
        {
          "output_type": "stream",
          "name": "stdout",
          "text": [
            "200\n"
          ]
        }
      ]
    },
    {
      "cell_type": "code",
      "source": [
        "import math\n",
        "\n",
        "class Point2D:\n",
        "  def __init__(self,x=0,y=0):\n",
        "    self.x=x\n",
        "    self.y=y\n",
        "\n",
        "length=0.0\n",
        "p=[Point2D(),Point2D(),Point2D(),Point2D]\n",
        "p[0].x, p[0].y, p[1].x, p[1].y, p[2].x, p[2].y, p[3].x, p[3].y = map(int, input().split())\n",
        "\n",
        "for i in range(3):\n",
        "  length+=math.sqrt((p[i+1].x-p[i].x)**2+(p[i+1].y - p[i].y)**2)\n",
        "  \n",
        "\n",
        "print(length)"
      ],
      "metadata": {
        "colab": {
          "base_uri": "https://localhost:8080/"
        },
        "id": "Dq2yn1ONIpYC",
        "outputId": "473f0732-da4b-4eb9-bfbf-93504e52e434"
      },
      "execution_count": null,
      "outputs": [
        {
          "output_type": "stream",
          "name": "stdout",
          "text": [
            " 100 100 200 200 300 300 400 400 \n",
            "424.26406871192853\n"
          ]
        }
      ]
    },
    {
      "cell_type": "code",
      "source": [
        "#예외 처리 사용하기\n",
        "def ten_div(x):\n",
        "  return 10/x"
      ],
      "metadata": {
        "id": "g4yj-5Hcni2Z"
      },
      "execution_count": null,
      "outputs": []
    },
    {
      "cell_type": "code",
      "source": [
        "ten_div(2)"
      ],
      "metadata": {
        "colab": {
          "base_uri": "https://localhost:8080/"
        },
        "id": "RxVMVIHTnpiV",
        "outputId": "5b43ef5e-9ead-4108-8b48-7c5468f187ac"
      },
      "execution_count": null,
      "outputs": [
        {
          "output_type": "execute_result",
          "data": {
            "text/plain": [
              "5.0"
            ]
          },
          "metadata": {},
          "execution_count": 14
        }
      ]
    },
    {
      "cell_type": "code",
      "source": [
        "#ten_div(0)"
      ],
      "metadata": {
        "id": "h0AbxeU-nrk1"
      },
      "execution_count": null,
      "outputs": []
    },
    {
      "cell_type": "markdown",
      "source": [
        "\n",
        "\n",
        "```\n",
        "try:\n",
        "    실행할 코드\n",
        "except:\n",
        "    예외가 발생했을 때 처리하는 코드\n",
        "```\n",
        "\n"
      ],
      "metadata": {
        "id": "RVk2bS1Joaej"
      }
    },
    {
      "cell_type": "code",
      "source": [
        "try:\n",
        "    x = int(input('나눌 숫자를 입력하세요: '))\n",
        "    y = 10 / x\n",
        "    print(y)\n",
        "except:    # 예외가 발생했을 때 실행됨\n",
        "    print('예외가 발생했습니다.')"
      ],
      "metadata": {
        "colab": {
          "base_uri": "https://localhost:8080/"
        },
        "id": "paJqDeNtntme",
        "outputId": "6434406a-08c3-4c73-8594-9ef1a5963912"
      },
      "execution_count": null,
      "outputs": [
        {
          "output_type": "stream",
          "name": "stdout",
          "text": [
            "나눌 숫자를 입력하세요: 0\n",
            "예외가 발생했습니다.\n"
          ]
        }
      ]
    },
    {
      "cell_type": "markdown",
      "source": [
        "- 예외의 에러 메시지 받아오기\n",
        "\n",
        "\n",
        "```\n",
        "try:\n",
        "    실행할 코드\n",
        "except 예외 as 변수:\n",
        "    예외가 발생했을 때 처리하는 코드\n",
        "\n",
        "```\n",
        "\n"
      ],
      "metadata": {
        "id": "Sog_a-jKokf0"
      }
    },
    {
      "cell_type": "code",
      "source": [
        "y = [10, 20, 30]\n",
        " \n",
        "try:\n",
        "    index, x = map(int, input('인덱스와 나눌 숫자를 입력하세요: ').split())\n",
        "    print(y[index] / x)\n",
        "except ZeroDivisionError as e:                    # as 뒤에 변수를 지정하면 에러를 받아옴\n",
        "    print('숫자를 0으로 나눌 수 없습니다.', e)    # e에 저장된 에러 메시지 출력\n",
        "except IndexError as e:\n",
        "    print('잘못된 인덱스입니다.', e)"
      ],
      "metadata": {
        "colab": {
          "base_uri": "https://localhost:8080/"
        },
        "id": "LcvNaAPyooKQ",
        "outputId": "ff446671-49c1-4503-fae4-28575269ac3a"
      },
      "execution_count": null,
      "outputs": [
        {
          "output_type": "stream",
          "name": "stdout",
          "text": [
            "인덱스와 나눌 숫자를 입력하세요: 2 0\n",
            "숫자를 0으로 나눌 수 없습니다. division by zero\n"
          ]
        }
      ]
    },
    {
      "cell_type": "markdown",
      "source": [
        "\n",
        "\n",
        "```\n",
        "except Exception as e:    # 모든 예외의 에러 메시지를 출력할 때는 Exception을 사용\n",
        "    print('예외가 발생했습니다.', e)\n",
        "```\n",
        "\n"
      ],
      "metadata": {
        "id": "imcW8L4oo5-c"
      }
    },
    {
      "cell_type": "markdown",
      "source": [
        "- 이번에는 예외가 발생하지 않았을 때 코드를 실행하는 else를 사용해보겠습니다. 다음과 같이 else는 except 바로 다음에 와야 하며 except를 생략할 수 없습니다.\n",
        "\n",
        "\n",
        "\n",
        "```\n",
        "try:\n",
        "    실행할 코드\n",
        "except:\n",
        "    예외가 발생했을 때 처리하는 코드\n",
        "else:\n",
        "    예외가 발생하지 않았을 때 실행할 코드\n",
        "finally:\n",
        "    예외 발생 여부와 상관없이 항상 실행할 코드\n",
        "```\n",
        "\n"
      ],
      "metadata": {
        "id": "hyN5DBQEpWg5"
      }
    },
    {
      "cell_type": "code",
      "source": [
        "\n",
        "try:\n",
        "    x = int(input('나눌 숫자를 입력하세요: '))\n",
        "    y = 10 / x\n",
        "except ZeroDivisionError:    # 숫자를 0으로 나눠서 에러가 발생했을 때 실행됨\n",
        "    print('숫자를 0으로 나눌 수 없습니다.')\n",
        "else:                        # try의 코드에서 예외가 발생하지 않았을 때 실행됨\n",
        "    print(y)\n",
        "finally:                     # 예외 발생 여부와 상관없이 항상 실행됨\n",
        "    print('코드 실행이 끝났습니다.')"
      ],
      "metadata": {
        "colab": {
          "base_uri": "https://localhost:8080/"
        },
        "id": "gwREd2w9op3W",
        "outputId": "79ce9534-f2ea-40cf-fb73-e709cd6b9ca8"
      },
      "execution_count": null,
      "outputs": [
        {
          "output_type": "stream",
          "name": "stdout",
          "text": [
            "나눌 숫자를 입력하세요: 3\n",
            "3.3333333333333335\n",
            "코드 실행이 끝났습니다.\n"
          ]
        }
      ]
    },
    {
      "cell_type": "code",
      "source": [
        "try:\n",
        "    x = int(input('3의 배수를 입력하세요: '))\n",
        "    if x % 3 != 0:                                 # x가 3의 배수가 아니면\n",
        "        raise Exception('3의 배수가 아닙니다.')    # 예외를 발생시킴\n",
        "    print(x)\n",
        "except Exception as e:                             # 예외가 발생했을 때 실행됨\n",
        "    print('예외가 발생했습니다.', e)\n",
        "\n",
        "\n",
        "# raise 예외('에러메시지')\n"
      ],
      "metadata": {
        "colab": {
          "base_uri": "https://localhost:8080/"
        },
        "id": "L5_ZDCZGp9ni",
        "outputId": "e5ff8982-45c9-4d04-8c17-c178b23e9d35"
      },
      "execution_count": null,
      "outputs": [
        {
          "output_type": "stream",
          "name": "stdout",
          "text": [
            "3의 배수를 입력하세요: 9\n",
            "9\n"
          ]
        }
      ]
    },
    {
      "cell_type": "code",
      "source": [
        "def three_multiple():\n",
        "    x = int(input('3의 배수를 입력하세요: '))\n",
        "    if x % 3 != 0:                                 # x가 3의 배수가 아니면\n",
        "        raise Exception('3의 배수가 아닙니다.')    # 예외를 발생시킴\n",
        "    print(x)                                       # 현재 함수 안에는 except가 없으므로\n",
        "                                                   # 예외를 상위 코드 블록으로 넘김\n",
        " \n",
        "try:\n",
        "    three_multiple()\n",
        "except Exception as e:                             # 하위 코드 블록에서 예외가 발생해도 실행됨\n",
        "    print('예외가 발생했습니다.', e)"
      ],
      "metadata": {
        "colab": {
          "base_uri": "https://localhost:8080/"
        },
        "id": "mGyb96D7q5wr",
        "outputId": "1178708b-eec2-4b04-b938-c2902d0dd042"
      },
      "execution_count": null,
      "outputs": [
        {
          "output_type": "stream",
          "name": "stdout",
          "text": [
            "3의 배수를 입력하세요: 5\n",
            "예외가 발생했습니다. 3의 배수가 아닙니다.\n"
          ]
        }
      ]
    },
    {
      "cell_type": "code",
      "source": [
        "# three_multiple()"
      ],
      "metadata": {
        "id": "djP5RvoWrfMQ"
      },
      "execution_count": null,
      "outputs": []
    },
    {
      "cell_type": "code",
      "source": [
        "#현재 예외를 다시 발생시키기\n",
        "#try except에서 처리한 예외를 다시 발생시키는 방법\n",
        "#except 안에서 raise를 사용하면 현재 예외를 다시 발생시킵니다(re-raise)\n",
        "\n",
        "def three_multiple():\n",
        "    try:\n",
        "        x = int(input('3의 배수를 입력하세요: '))\n",
        "        if x % 3 != 0:                                 # x가 3의 배수가 아니면\n",
        "            raise Exception('3의 배수가 아닙니다.')    # 예외를 발생시킴\n",
        "        print(x)\n",
        "    except Exception as e:                             # 함수 안에서 예외를 처리함\n",
        "        print('three_multiple 함수에서 예외가 발생했습니다.', e)\n",
        "        raise    # raise로 현재 예외를 다시 발생시켜서 상위 코드 블록으로 넘김\n",
        " \n",
        "try:\n",
        "    three_multiple()\n",
        "except Exception as e:                                 # 하위 코드 블록에서 예외가 발생해도 실행됨\n",
        "    print('스크립트 파일에서 예외가 발생했습니다.', e)"
      ],
      "metadata": {
        "colab": {
          "base_uri": "https://localhost:8080/"
        },
        "id": "Uzl4z6KKrfco",
        "outputId": "a52ff7f3-f0d9-406d-a953-9b723f61e9ea"
      },
      "execution_count": null,
      "outputs": [
        {
          "output_type": "stream",
          "name": "stdout",
          "text": [
            "3의 배수를 입력하세요: 5\n",
            "three_multiple 함수에서 예외가 발생했습니다. 3의 배수가 아닙니다.\n",
            "스크립트 파일에서 예외가 발생했습니다. 3의 배수가 아닙니다.\n"
          ]
        }
      ]
    },
    {
      "cell_type": "code",
      "source": [
        "x = int(input('3의 배수를 입력하세요: '))\n",
        "assert x % 3 == 0, '3의 배수가 아닙니다.'    # 3의 배수가 아니면 예외 발생, 3의 배수이면 그냥 넘어감\n",
        "print(x)"
      ],
      "metadata": {
        "colab": {
          "base_uri": "https://localhost:8080/",
          "height": 238
        },
        "id": "EYAczkKpsAqd",
        "outputId": "5031703f-19ce-4bb6-9b16-5ab56a840470"
      },
      "execution_count": null,
      "outputs": [
        {
          "name": "stdout",
          "output_type": "stream",
          "text": [
            "3의 배수를 입력하세요: 5\n"
          ]
        },
        {
          "output_type": "error",
          "ename": "AssertionError",
          "evalue": "ignored",
          "traceback": [
            "\u001b[0;31m---------------------------------------------------------------------------\u001b[0m",
            "\u001b[0;31mAssertionError\u001b[0m                            Traceback (most recent call last)",
            "\u001b[0;32m<ipython-input-28-919a995d7f32>\u001b[0m in \u001b[0;36m<module>\u001b[0;34m\u001b[0m\n\u001b[1;32m      1\u001b[0m \u001b[0mx\u001b[0m \u001b[0;34m=\u001b[0m \u001b[0mint\u001b[0m\u001b[0;34m(\u001b[0m\u001b[0minput\u001b[0m\u001b[0;34m(\u001b[0m\u001b[0;34m'3의 배수를 입력하세요: '\u001b[0m\u001b[0;34m)\u001b[0m\u001b[0;34m)\u001b[0m\u001b[0;34m\u001b[0m\u001b[0;34m\u001b[0m\u001b[0m\n\u001b[0;32m----> 2\u001b[0;31m \u001b[0;32massert\u001b[0m \u001b[0mx\u001b[0m \u001b[0;34m%\u001b[0m \u001b[0;36m3\u001b[0m \u001b[0;34m==\u001b[0m \u001b[0;36m0\u001b[0m\u001b[0;34m,\u001b[0m \u001b[0;34m'3의 배수가 아닙니다.'\u001b[0m    \u001b[0;31m# 3의 배수가 아니면 예외 발생, 3의 배수이면 그냥 넘어감\u001b[0m\u001b[0;34m\u001b[0m\u001b[0;34m\u001b[0m\u001b[0m\n\u001b[0m\u001b[1;32m      3\u001b[0m \u001b[0mprint\u001b[0m\u001b[0;34m(\u001b[0m\u001b[0mx\u001b[0m\u001b[0;34m)\u001b[0m\u001b[0;34m\u001b[0m\u001b[0;34m\u001b[0m\u001b[0m\n",
            "\u001b[0;31mAssertionError\u001b[0m: 3의 배수가 아닙니다."
          ]
        }
      ]
    },
    {
      "cell_type": "markdown",
      "source": [
        "\n",
        "- 예외를 직접 만들어서 발생\n",
        "```\n",
        "class 예외이름(Exception):\n",
        "    def __init__(self):\n",
        "        super().__init__('에러메시지')\n",
        "```\n",
        "\n"
      ],
      "metadata": {
        "id": "2S2ou3AmsfOj"
      }
    },
    {
      "cell_type": "code",
      "source": [
        "class NotThreeMultipleError(Exception):    # Exception을 상속받아서 새로운 예외를 만듦\n",
        "    def __init__(self):\n",
        "        super().__init__('3의 배수가 아닙니다.')\n",
        " \n",
        "def three_multiple():\n",
        "    try:\n",
        "        x = int(input('3의 배수를 입력하세요: '))\n",
        "        if x % 3 != 0:                     # x가 3의 배수가 아니면\n",
        "            raise NotThreeMultipleError    # NotThreeMultipleError 예외를 발생시킴\n",
        "        print(x)\n",
        "    except Exception as e:\n",
        "        print('예외가 발생했습니다.', e)\n",
        " \n",
        "three_multiple()"
      ],
      "metadata": {
        "colab": {
          "base_uri": "https://localhost:8080/"
        },
        "id": "nvhwX20csbxP",
        "outputId": "39a45232-a57e-4d6d-ea88-90c9a13c891f"
      },
      "execution_count": null,
      "outputs": [
        {
          "output_type": "stream",
          "name": "stdout",
          "text": [
            "3의 배수를 입력하세요: 5\n",
            "예외가 발생했습니다. 3의 배수가 아닙니다.\n"
          ]
        }
      ]
    },
    {
      "cell_type": "code",
      "source": [
        "#파일 예외 처리하기\n",
        "try:  \n",
        "    file = open('maria.txt', 'r')\n",
        "except:                          \n",
        "    print('파일이 없습니다.')\n",
        "else:     \n",
        "    s = file.read()\n",
        "    file.close()"
      ],
      "metadata": {
        "colab": {
          "base_uri": "https://localhost:8080/"
        },
        "id": "d8qAXcr1w6DB",
        "outputId": "6aa94242-286a-45a6-e805-e0964299609e"
      },
      "execution_count": null,
      "outputs": [
        {
          "output_type": "stream",
          "name": "stdout",
          "text": [
            "파일이 없습니다.\n"
          ]
        }
      ]
    },
    {
      "cell_type": "code",
      "source": [
        "class NotPalindromeError(Exception):\n",
        "  def __init__(self):\n",
        "    super().__init__(\"회문이 아닙니다.\")\n",
        "\n",
        "def palindrome(word):\n",
        "  if word != word[::-1]:\n",
        "    raise NotPalindromeError\n",
        "  print(word)\n",
        "\n",
        "try:\n",
        "    word = input()\n",
        "    palindrome(word)\n",
        "except NotPalindromeError as e:\n",
        "    print(e)\n"
      ],
      "metadata": {
        "colab": {
          "base_uri": "https://localhost:8080/"
        },
        "id": "rsF_64jaxEcW",
        "outputId": "83ef4583-c5a2-4063-d88b-d7f1eb08d332"
      },
      "execution_count": null,
      "outputs": [
        {
          "output_type": "stream",
          "name": "stdout",
          "text": [
            "rose\n",
            "회문이 아닙니다\n"
          ]
        }
      ]
    },
    {
      "cell_type": "markdown",
      "source": [
        "#### 이터레이터 사용하기\n",
        "이터레이터(iterator)는 값을 차례대로 꺼낼 수 있는 객체 (object)\n"
      ],
      "metadata": {
        "id": "9wUDHlTn0ykD"
      }
    },
    {
      "cell_type": "code",
      "source": [
        "#반복 가능한 객체 알아보기\n",
        "dir([1, 2, 3])"
      ],
      "metadata": {
        "colab": {
          "base_uri": "https://localhost:8080/"
        },
        "id": "m8qtVi9lyHwu",
        "outputId": "f063fc1f-092c-4a59-a97f-7e2eb4a0f6f1"
      },
      "execution_count": null,
      "outputs": [
        {
          "output_type": "execute_result",
          "data": {
            "text/plain": [
              "['__add__',\n",
              " '__class__',\n",
              " '__contains__',\n",
              " '__delattr__',\n",
              " '__delitem__',\n",
              " '__dir__',\n",
              " '__doc__',\n",
              " '__eq__',\n",
              " '__format__',\n",
              " '__ge__',\n",
              " '__getattribute__',\n",
              " '__getitem__',\n",
              " '__gt__',\n",
              " '__hash__',\n",
              " '__iadd__',\n",
              " '__imul__',\n",
              " '__init__',\n",
              " '__init_subclass__',\n",
              " '__iter__',\n",
              " '__le__',\n",
              " '__len__',\n",
              " '__lt__',\n",
              " '__mul__',\n",
              " '__ne__',\n",
              " '__new__',\n",
              " '__reduce__',\n",
              " '__reduce_ex__',\n",
              " '__repr__',\n",
              " '__reversed__',\n",
              " '__rmul__',\n",
              " '__setattr__',\n",
              " '__setitem__',\n",
              " '__sizeof__',\n",
              " '__str__',\n",
              " '__subclasshook__',\n",
              " 'append',\n",
              " 'clear',\n",
              " 'copy',\n",
              " 'count',\n",
              " 'extend',\n",
              " 'index',\n",
              " 'insert',\n",
              " 'pop',\n",
              " 'remove',\n",
              " 'reverse',\n",
              " 'sort']"
            ]
          },
          "metadata": {},
          "execution_count": 39
        }
      ]
    },
    {
      "cell_type": "code",
      "source": [
        "[1, 2, 3].__iter__()"
      ],
      "metadata": {
        "colab": {
          "base_uri": "https://localhost:8080/"
        },
        "id": "OiyOyRE61JML",
        "outputId": "d9b9156f-4119-4282-ff4c-969597216b1a"
      },
      "execution_count": null,
      "outputs": [
        {
          "output_type": "execute_result",
          "data": {
            "text/plain": [
              "<list_iterator at 0x7fc3301e56d0>"
            ]
          },
          "metadata": {},
          "execution_count": 40
        }
      ]
    },
    {
      "cell_type": "code",
      "source": [
        "it = [1, 2, 3].__iter__()"
      ],
      "metadata": {
        "id": "D4e7FCsO1UIh"
      },
      "execution_count": null,
      "outputs": []
    },
    {
      "cell_type": "code",
      "source": [
        "# it.__next__()"
      ],
      "metadata": {
        "id": "HzQUgNKv1WeQ"
      },
      "execution_count": null,
      "outputs": []
    },
    {
      "cell_type": "code",
      "source": [
        "it='Hello, world!'.__iter__()"
      ],
      "metadata": {
        "id": "5i_g8eoD1YJ1"
      },
      "execution_count": null,
      "outputs": []
    },
    {
      "cell_type": "code",
      "source": [
        "it.__next__()"
      ],
      "metadata": {
        "colab": {
          "base_uri": "https://localhost:8080/",
          "height": 36
        },
        "id": "G-y1F3bO1jJs",
        "outputId": "186d8639-081f-4f21-8417-e67d995dfc07"
      },
      "execution_count": null,
      "outputs": [
        {
          "output_type": "execute_result",
          "data": {
            "text/plain": [
              "'o'"
            ],
            "application/vnd.google.colaboratory.intrinsic+json": {
              "type": "string"
            }
          },
          "metadata": {},
          "execution_count": 52
        }
      ]
    },
    {
      "cell_type": "code",
      "source": [
        "it={'a': 1, 'b': 2}.__iter__()\n",
        "it.__next__()"
      ],
      "metadata": {
        "colab": {
          "base_uri": "https://localhost:8080/",
          "height": 36
        },
        "id": "9ZcCfrLP1jdF",
        "outputId": "b8fda362-7918-4950-9dcf-2358971471b8"
      },
      "execution_count": null,
      "outputs": [
        {
          "output_type": "execute_result",
          "data": {
            "text/plain": [
              "'a'"
            ],
            "application/vnd.google.colaboratory.intrinsic+json": {
              "type": "string"
            }
          },
          "metadata": {},
          "execution_count": 55
        }
      ]
    },
    {
      "cell_type": "code",
      "source": [
        "it={1, 2, 3}.__iter__()\n",
        "it.__next__()"
      ],
      "metadata": {
        "colab": {
          "base_uri": "https://localhost:8080/"
        },
        "id": "EJLsgCpX1qck",
        "outputId": "05867b71-bd62-49b9-fe0c-38b2e28501c3"
      },
      "execution_count": null,
      "outputs": [
        {
          "output_type": "execute_result",
          "data": {
            "text/plain": [
              "1"
            ]
          },
          "metadata": {},
          "execution_count": 58
        }
      ]
    },
    {
      "cell_type": "markdown",
      "source": [
        "###시퀀스 객체와 반복 가능한 객체의 차이\n",
        "- 리스트, 튜플, range, 문자열은 반복 가능한 객체이면서 시퀀스 객체\n",
        "-  딕셔너리와 세트는 반복 가능한 객체이지만 시퀀스 객체는 아님\n",
        "- 시퀀스 객체는 요소의 순서가 정해져 있고 연속적(sequence)으로 이어져 있어야 하는데, 딕셔너리와 세트는 요소(키)의 순서가 정해져 있지 않기 때문\n",
        "![Screen Shot 2022-09-11 at 18.24.40 PM.png](data:image/png;base64,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)"
      ],
      "metadata": {
        "id": "2pbUa8X520f4"
      }
    },
    {
      "cell_type": "markdown",
      "source": [
        "####__iter__, __next__ 메서드를 구현해서 직접 이터레이터를 만들어봄\n",
        "####간단하게 range(횟수)처럼 동작하는 이터레이터\n",
        "\n",
        "\n",
        "\n",
        "```\n",
        "class 이터레이터이름:\n",
        "    def __iter__(self):\n",
        "        코드\n",
        " \n",
        "    def __next__(self):\n",
        "        코드\n",
        "\n",
        "```\n",
        "\n"
      ],
      "metadata": {
        "id": "AIozggpX3mhL"
      }
    },
    {
      "cell_type": "code",
      "source": [
        "class Counter:\n",
        "    def __init__(self, stop):\n",
        "        self.current = 0    # 현재 숫자 유지, 0부터 지정된 숫자 직전까지 반복\n",
        "        self.stop = stop    # 반복을 끝낼 숫자\n",
        " \n",
        "    def __iter__(self):\n",
        "        return self         # 현재 인스턴스를 반환\n",
        " \n",
        "    def __next__(self):\n",
        "        if self.current < self.stop:    # 현재 숫자가 반복을 끝낼 숫자보다 작을 때\n",
        "            r = self.current            # 반환할 숫자를 변수에 저장\n",
        "            self.current += 1           # 현재 숫자를 1 증가시킴\n",
        "            return r                    # 숫자를 반환\n",
        "        else:                           # 현재 숫자가 반복을 끝낼 숫자보다 크거나 같을 때\n",
        "            raise StopIteration         # 예외 발생\n",
        " \n",
        "for i in Counter(3):\n",
        "    print(i, end=' ')\n",
        "\n"
      ],
      "metadata": {
        "colab": {
          "base_uri": "https://localhost:8080/"
        },
        "id": "yB_RcnZZ3eJo",
        "outputId": "d5b4bb03-e53e-4b43-c018-cad8093dd213"
      },
      "execution_count": null,
      "outputs": [
        {
          "output_type": "stream",
          "name": "stdout",
          "text": [
            "0 1 2 "
          ]
        }
      ]
    },
    {
      "cell_type": "code",
      "source": [
        "## 이터레이터 언패킹\n",
        "# 이터레이터는 언패킹(unpacking)이 가능\n",
        "# 즉, 다음과 같이 Counter()의 결과를 변수 여러 개에 할당할 수 있음. \n",
        "# 물론 이터레이터가 반복하는 횟수와 변수의 개수는 같아야 함.\n",
        "\n",
        "a, b, c = Counter(3)\n",
        "print(a,b,c)\n",
        "a, b, c, d, e = Counter(5)\n",
        "print(a, b, c, d, e)"
      ],
      "metadata": {
        "colab": {
          "base_uri": "https://localhost:8080/"
        },
        "id": "DWyC19mO3fQM",
        "outputId": "e9522b70-f182-4ff3-91e9-f0ecda863612"
      },
      "execution_count": null,
      "outputs": [
        {
          "output_type": "stream",
          "name": "stdout",
          "text": [
            "0 1 2\n",
            "0 1 2 3 4\n"
          ]
        }
      ]
    },
    {
      "cell_type": "code",
      "source": [
        "### 반환값을 _에 저장하는 이유\n",
        "# map도 이터레이터\n",
        "# a, b, c = map(int, input().split())처럼 언패킹으로 변수 여러 개에 값을 할당할 수 있음\n",
        "_,b=range(2)\n",
        "b"
      ],
      "metadata": {
        "colab": {
          "base_uri": "https://localhost:8080/"
        },
        "id": "j5ElGhBA1r1F",
        "outputId": "1ab8ee8c-e3fe-4023-a2ea-cc0945e42502"
      },
      "execution_count": null,
      "outputs": [
        {
          "output_type": "execute_result",
          "data": {
            "text/plain": [
              "1"
            ]
          },
          "metadata": {},
          "execution_count": 8
        }
      ]
    },
    {
      "cell_type": "code",
      "source": [
        "#언패킹했을 때 _에 할당하는 것은 특정 순서의 반환값 사용하지 않고 무시하겠다는 관례적 표현\n",
        "#다음과 같은 코드는 언패킹 했을 때 두 번째 변수는 사용하지 않겠다는 뜻\n",
        "a, _, c, d =  range(4)\n",
        "a, c, d"
      ],
      "metadata": {
        "colab": {
          "base_uri": "https://localhost:8080/"
        },
        "id": "b7LeIhDd3OlJ",
        "outputId": "dafb2955-a950-4cda-a09c-f6db0ec398ec"
      },
      "execution_count": null,
      "outputs": [
        {
          "output_type": "execute_result",
          "data": {
            "text/plain": [
              "(0, 2, 3)"
            ]
          },
          "metadata": {},
          "execution_count": 11
        }
      ]
    },
    {
      "cell_type": "markdown",
      "source": [
        "##### __getitem__ 메서드를 구현하여 인덱스로 접근할 수 있는 이터레이터를 만들어보겠음\n",
        "##### 앞에서 만든 Counter 이터레이터를 인덱스로 접근할 수 있도록 다시 만듬\n",
        "\n",
        "```\n",
        "class 이터레이터이름:\n",
        "    def __getitem__(self, 인덱스):\n",
        "        코드\n",
        "```\n",
        "\n"
      ],
      "metadata": {
        "id": "JwaahRZs4LC1"
      }
    },
    {
      "cell_type": "code",
      "source": [
        "class Counter:\n",
        "    def __init__(self, stop):\n",
        "        self.stop = stop  #반복을 끝낼 숫자\n",
        " \n",
        "    def __getitem__(self, index): #인덱스로 접근할 수 있는 이터레이터(__getitem 메서드)\n",
        "        if index < self.stop: #인덱스가 반복을 끝낼 숫자보다 작을 때\n",
        "            return index #인덱스를 반환\n",
        "        else:     # 인덱스가 반복을 끝낼 숫자보다 크거나 같을 때\n",
        "            raise IndexError #예외발생\n",
        " \n",
        "print(Counter(3)[0], Counter(3)[1], Counter(3)[2])\n",
        " \n",
        "for i in Counter(3):\n",
        "    print(i, end=' ')\n",
        "\n",
        "\n",
        "#클래스에서 __getitem__만 구현해도 이터레이터가 되며 __iter__, __next__는 생략해도 됩니다(초깃값이 없다면 __init__도 생략 가능)"
      ],
      "metadata": {
        "colab": {
          "base_uri": "https://localhost:8080/"
        },
        "id": "PsJQsSCX3yCc",
        "outputId": "c436cb6b-1ff1-42e4-9f82-e23ba85eb9cd"
      },
      "execution_count": null,
      "outputs": [
        {
          "output_type": "stream",
          "name": "stdout",
          "text": [
            "0 1 2\n",
            "0 1 2 "
          ]
        }
      ]
    },
    {
      "cell_type": "code",
      "source": [
        "#39.4 iter,next 함수 활용하기\n",
        "# iter는 객체의 __iter__ 메서드를 호출해주고, next는 객체의 __next__메서드를 호출\n",
        "\n",
        "it = iter(range(3))\n",
        "next(it)\n"
      ],
      "metadata": {
        "colab": {
          "base_uri": "https://localhost:8080/"
        },
        "id": "NlWHJGuF63VL",
        "outputId": "f0c9e72b-cf76-42dd-ca80-455c72d46f56"
      },
      "execution_count": null,
      "outputs": [
        {
          "output_type": "execute_result",
          "data": {
            "text/plain": [
              "0"
            ]
          },
          "metadata": {},
          "execution_count": 17
        }
      ]
    },
    {
      "cell_type": "code",
      "source": [
        "next(it)"
      ],
      "metadata": {
        "colab": {
          "base_uri": "https://localhost:8080/"
        },
        "id": "ifSxVXTo7fiR",
        "outputId": "489f5d0f-e012-42a4-e56f-c50c2579b983"
      },
      "execution_count": null,
      "outputs": [
        {
          "output_type": "execute_result",
          "data": {
            "text/plain": [
              "2"
            ]
          },
          "metadata": {},
          "execution_count": 19
        }
      ]
    },
    {
      "cell_type": "markdown",
      "source": [
        "##### iter는 반복을 끝낼 값을 지정하면 특정 값이 나올 때 반복을 끝냄\n",
        "##### 반복 가능한 객체 대신 호출 가능한 객체(callable)를 넣어줌\n",
        "##### 반복을 끝낸다고 해서 sentinel\n",
        "##### 반복을 감시하다가 특정 값이 나오면 반복을 끝\n",
        "\n",
        "**iter(호출가능한 객체,반복을끝낼값)**\n",
        "\n",
        "##### random.randint(0,5)와 같이 0부터 5까지 무작위로 숫자를 생성할 때 2가 나오면 반복을 끝내도록 만들 수있습니다. \n",
        "\n",
        "##### 이때 호출 가능한 객체를 넣어야 하므로 매개변수가 없는 함수 또는 람다 표현식으로 만들어줌\n",
        "\n"
      ],
      "metadata": {
        "id": "BE66A6zO8QRd"
      }
    },
    {
      "cell_type": "code",
      "source": [
        "import random\n",
        "it=iter(lambda:random.randint(0,5),2) #next(it)로 숫자를 계속 만들다가 2가 나오면 StopIteration이 발생\n",
        "next(it)"
      ],
      "metadata": {
        "colab": {
          "base_uri": "https://localhost:8080/"
        },
        "id": "BzMTdICL9aYi",
        "outputId": "8244b805-32a8-470e-f9e0-d83143c4bf9a"
      },
      "execution_count": null,
      "outputs": [
        {
          "output_type": "execute_result",
          "data": {
            "text/plain": [
              "3"
            ]
          },
          "metadata": {},
          "execution_count": 22
        }
      ]
    },
    {
      "cell_type": "code",
      "source": [
        "import random\n",
        "for i in iter(lambda:random.randint(0,5),2):\n",
        "  print(i,end=\" \")"
      ],
      "metadata": {
        "colab": {
          "base_uri": "https://localhost:8080/"
        },
        "id": "Wm3MBVJr9pYq",
        "outputId": "f5d38b26-b3d6-466c-f815-af46bdac94d6"
      },
      "execution_count": null,
      "outputs": [
        {
          "output_type": "stream",
          "name": "stdout",
          "text": [
            "1 5 3 4 4 3 3 4 4 1 1 "
          ]
        }
      ]
    },
    {
      "cell_type": "code",
      "source": [
        "import random\n",
        "\n",
        "while True:\n",
        "  i=random.randint(0,5)\n",
        "  if i==2:\n",
        "    break\n",
        "  print(i,end=\" \")\n"
      ],
      "metadata": {
        "colab": {
          "base_uri": "https://localhost:8080/"
        },
        "id": "QTV3zDOq-Rez",
        "outputId": "9406a631-ace7-4ba9-fa99-586d16082aac"
      },
      "execution_count": null,
      "outputs": [
        {
          "output_type": "stream",
          "name": "stdout",
          "text": [
            "4 4 5 1 0 5 "
          ]
        }
      ]
    },
    {
      "cell_type": "code",
      "source": [
        "# next\n",
        "## next는 기본값을 지정할 수 있음\n",
        "## 기본값을 지정하면 반복이 끝나더라도 next(it)로 숫자를 계속 만들다가 2가 나오면 StopIteration이 발생\n",
        "## 반복할 수 있을 때는 해당 값을 출력하고, 반복이 끝났을 때는 기본값을 출력\n",
        "it = iter(range(3))\n",
        "next(it, 10)"
      ],
      "metadata": {
        "colab": {
          "base_uri": "https://localhost:8080/"
        },
        "id": "lJmlPClH-emP",
        "outputId": "b035c4c8-d5ae-44cc-8945-bcc134ad2917"
      },
      "execution_count": null,
      "outputs": [
        {
          "output_type": "execute_result",
          "data": {
            "text/plain": [
              "0"
            ]
          },
          "metadata": {},
          "execution_count": 35
        }
      ]
    },
    {
      "cell_type": "code",
      "source": [
        "next(it, 10)\n",
        "#0, 1, 2까지 나온 뒤에도 next(it, 10)을 호출하면 예외가 발생하지 않고 계속 10이 나옴"
      ],
      "metadata": {
        "colab": {
          "base_uri": "https://localhost:8080/"
        },
        "id": "A_tGWELZ_uQ8",
        "outputId": "398ba3a4-d4b9-4103-ef63-731cb75decd3"
      },
      "execution_count": null,
      "outputs": [
        {
          "output_type": "execute_result",
          "data": {
            "text/plain": [
              "10"
            ]
          },
          "metadata": {},
          "execution_count": 40
        }
      ]
    },
    {
      "cell_type": "code",
      "source": [
        "#이터레이터를 만들 때, __iter__,__next__ 메서드 또는 __getitem__메서드를 구현해야한다는 점"
      ],
      "metadata": {
        "id": "aDjuaTeL_zcS"
      },
      "execution_count": null,
      "outputs": []
    },
    {
      "cell_type": "code",
      "source": [
        "### 배수 이터레이터 만들기\n",
        "\n",
        "class MultipleIterator:\n",
        "    def __init__(self, stop, multiple):\n",
        "        self.stop=stop #반복을 끌낼 숫자\n",
        "        self.multiple=multiple  #배수를 구할 숫자                      \n",
        "        self.current=0 #몇번 반복했는지 저장해야하므로\n",
        "                                 \n",
        "    def __iter__(self): # 현재 인스턴스를 반환\n",
        "        return self\n",
        " \n",
        "    def __next__(self): #배수를 구합니다\n",
        "        self.current+=1                                            \n",
        "        if self.current*self.multiple<self.stop:\n",
        "          return self.current*self.multiple\n",
        "        else:\n",
        "          raise StopIteration\n",
        "                                                     \n",
        " \n",
        "for i in MultipleIterator(20, 3):\n",
        "    print(i, end=' ')\n",
        " \n",
        "print()\n",
        "for i in MultipleIterator(30, 5):\n",
        "    print(i, end=' ')"
      ],
      "metadata": {
        "colab": {
          "base_uri": "https://localhost:8080/"
        },
        "id": "cRtxoxdhATIa",
        "outputId": "b3a47833-4f93-464c-a6ce-be93a5c5a391"
      },
      "execution_count": null,
      "outputs": [
        {
          "output_type": "stream",
          "name": "stdout",
          "text": [
            "3 6 9 12 15 18 \n",
            "5 10 15 20 25 "
          ]
        }
      ]
    },
    {
      "cell_type": "code",
      "source": [
        "##표준입력으로 정수 세 개가 입력\n",
        "\n",
        "class TimeIterator:\n",
        "    def __init__(self, start, stop):\n",
        "        self.start = start\n",
        "        self.stop = stop\n",
        "\n",
        "    def __getitem__(self, index):\n",
        "        if index < self.stop - self.start:\n",
        "            tot_sec = self.start + index\n",
        "            hour = tot_sec // (60*60) # 3600 으로 나누면 시간\n",
        "            tot_sec %= 60*60\n",
        "            minute = tot_sec // 60 # 60으로 나누면 분\n",
        "            tot_sec %= 60\n",
        "            return \"%02d:%02d:%02d\"%(hour % 24, minute, tot_sec)\n",
        "        else:\n",
        "            raise IndexError\n",
        "\n",
        "\n",
        "\n",
        "start, stop, index = map(int, input().split())\n",
        " \n",
        "for i in TimeIterator(start, stop):\n",
        "    print(i)\n",
        " \n",
        "print('\\n', TimeIterator(start, stop)[index], sep='')\n",
        "\n"
      ],
      "metadata": {
        "id": "ipaYyo_UEeJM",
        "colab": {
          "base_uri": "https://localhost:8080/",
          "height": 403
        },
        "outputId": "2b4bb644-058a-42c4-aa97-d12ddcacff85"
      },
      "execution_count": 7,
      "outputs": [
        {
          "output_type": "error",
          "ename": "KeyboardInterrupt",
          "evalue": "ignored",
          "traceback": [
            "\u001b[0;31m---------------------------------------------------------------------------\u001b[0m",
            "\u001b[0;31mKeyboardInterrupt\u001b[0m                         Traceback (most recent call last)",
            "\u001b[0;32m<ipython-input-7-9e458faa2664>\u001b[0m in \u001b[0;36m<module>\u001b[0;34m\u001b[0m\n\u001b[1;32m     19\u001b[0m \u001b[0;34m\u001b[0m\u001b[0m\n\u001b[1;32m     20\u001b[0m \u001b[0;34m\u001b[0m\u001b[0m\n\u001b[0;32m---> 21\u001b[0;31m \u001b[0mstart\u001b[0m\u001b[0;34m,\u001b[0m \u001b[0mstop\u001b[0m\u001b[0;34m,\u001b[0m \u001b[0mindex\u001b[0m \u001b[0;34m=\u001b[0m \u001b[0mmap\u001b[0m\u001b[0;34m(\u001b[0m\u001b[0mint\u001b[0m\u001b[0;34m,\u001b[0m \u001b[0minput\u001b[0m\u001b[0;34m(\u001b[0m\u001b[0;34m)\u001b[0m\u001b[0;34m.\u001b[0m\u001b[0msplit\u001b[0m\u001b[0;34m(\u001b[0m\u001b[0;34m)\u001b[0m\u001b[0;34m)\u001b[0m\u001b[0;34m\u001b[0m\u001b[0;34m\u001b[0m\u001b[0m\n\u001b[0m\u001b[1;32m     22\u001b[0m \u001b[0;34m\u001b[0m\u001b[0m\n\u001b[1;32m     23\u001b[0m \u001b[0;32mfor\u001b[0m \u001b[0mi\u001b[0m \u001b[0;32min\u001b[0m \u001b[0mTimeIterator\u001b[0m\u001b[0;34m(\u001b[0m\u001b[0mstart\u001b[0m\u001b[0;34m,\u001b[0m \u001b[0mstop\u001b[0m\u001b[0;34m)\u001b[0m\u001b[0;34m:\u001b[0m\u001b[0;34m\u001b[0m\u001b[0;34m\u001b[0m\u001b[0m\n",
            "\u001b[0;32m/usr/local/lib/python3.7/dist-packages/ipykernel/kernelbase.py\u001b[0m in \u001b[0;36mraw_input\u001b[0;34m(self, prompt)\u001b[0m\n\u001b[1;32m    861\u001b[0m             \u001b[0mself\u001b[0m\u001b[0;34m.\u001b[0m\u001b[0m_parent_ident\u001b[0m\u001b[0;34m,\u001b[0m\u001b[0;34m\u001b[0m\u001b[0;34m\u001b[0m\u001b[0m\n\u001b[1;32m    862\u001b[0m             \u001b[0mself\u001b[0m\u001b[0;34m.\u001b[0m\u001b[0m_parent_header\u001b[0m\u001b[0;34m,\u001b[0m\u001b[0;34m\u001b[0m\u001b[0;34m\u001b[0m\u001b[0m\n\u001b[0;32m--> 863\u001b[0;31m             \u001b[0mpassword\u001b[0m\u001b[0;34m=\u001b[0m\u001b[0;32mFalse\u001b[0m\u001b[0;34m,\u001b[0m\u001b[0;34m\u001b[0m\u001b[0;34m\u001b[0m\u001b[0m\n\u001b[0m\u001b[1;32m    864\u001b[0m         )\n\u001b[1;32m    865\u001b[0m \u001b[0;34m\u001b[0m\u001b[0m\n",
            "\u001b[0;32m/usr/local/lib/python3.7/dist-packages/ipykernel/kernelbase.py\u001b[0m in \u001b[0;36m_input_request\u001b[0;34m(self, prompt, ident, parent, password)\u001b[0m\n\u001b[1;32m    902\u001b[0m             \u001b[0;32mexcept\u001b[0m \u001b[0mKeyboardInterrupt\u001b[0m\u001b[0;34m:\u001b[0m\u001b[0;34m\u001b[0m\u001b[0;34m\u001b[0m\u001b[0m\n\u001b[1;32m    903\u001b[0m                 \u001b[0;31m# re-raise KeyboardInterrupt, to truncate traceback\u001b[0m\u001b[0;34m\u001b[0m\u001b[0;34m\u001b[0m\u001b[0;34m\u001b[0m\u001b[0m\n\u001b[0;32m--> 904\u001b[0;31m                 \u001b[0;32mraise\u001b[0m \u001b[0mKeyboardInterrupt\u001b[0m\u001b[0;34m(\u001b[0m\u001b[0;34m\"Interrupted by user\"\u001b[0m\u001b[0;34m)\u001b[0m \u001b[0;32mfrom\u001b[0m \u001b[0;32mNone\u001b[0m\u001b[0;34m\u001b[0m\u001b[0;34m\u001b[0m\u001b[0m\n\u001b[0m\u001b[1;32m    905\u001b[0m             \u001b[0;32mexcept\u001b[0m \u001b[0mException\u001b[0m \u001b[0;32mas\u001b[0m \u001b[0me\u001b[0m\u001b[0;34m:\u001b[0m\u001b[0;34m\u001b[0m\u001b[0;34m\u001b[0m\u001b[0m\n\u001b[1;32m    906\u001b[0m                 \u001b[0mself\u001b[0m\u001b[0;34m.\u001b[0m\u001b[0mlog\u001b[0m\u001b[0;34m.\u001b[0m\u001b[0mwarning\u001b[0m\u001b[0;34m(\u001b[0m\u001b[0;34m\"Invalid Message:\"\u001b[0m\u001b[0;34m,\u001b[0m \u001b[0mexc_info\u001b[0m\u001b[0;34m=\u001b[0m\u001b[0;32mTrue\u001b[0m\u001b[0;34m)\u001b[0m\u001b[0;34m\u001b[0m\u001b[0;34m\u001b[0m\u001b[0m\n",
            "\u001b[0;31mKeyboardInterrupt\u001b[0m: Interrupted by user"
          ]
        }
      ]
    },
    {
      "cell_type": "markdown",
      "source": [
        "#### 제너레이터와 yield 알아보기\n",
        "- 함수 안에서 yield를 사용하면 함수는 제너레이터가 되며 yield에는 값(변수)을 지정\n",
        "\n",
        "\n",
        "```\n",
        "def number_generator():\n",
        "    yield 0\n",
        "    yield 1\n",
        "    yield 2\n",
        " \n",
        "for i in number_generator():\n",
        "    print(i)\n",
        "```\n",
        "\n",
        "- yield를 사용하면 값을 함수 바깥으로 전달하면서 코드 실행을 함수 바깥에 양보"
      ],
      "metadata": {
        "id": "cYpwmnpyiSQa"
      }
    },
    {
      "cell_type": "code",
      "source": [
        "def number_generator():\n",
        "    yield 0    # 0을 함수 바깥으로 전달하면서 코드 실행을 함수 바깥에 양보\n",
        "    yield 1    # 1을 함수 바깥으로 전달하면서 코드 실행을 함수 바깥에 양보\n",
        "    yield 2    # 2를 함수 바깥으로 전달하면서 코드 실행을 함수 바깥에 양보\n",
        " \n",
        "g = number_generator()\n",
        " \n",
        "a = next(g)    # yield를 사용하여 함수 바깥으로 전달한 값은 next의 반환값으로 나옴\n",
        "print(a)       # 0\n",
        " \n",
        "b = next(g)\n",
        "print(b)       # 1\n",
        " \n",
        "c = next(g)\n",
        "print(c)       # 2"
      ],
      "metadata": {
        "colab": {
          "base_uri": "https://localhost:8080/"
        },
        "id": "nzcJDKTYgQlm",
        "outputId": "4a98c788-3b93-4463-8df6-120b55c99268"
      },
      "execution_count": 8,
      "outputs": [
        {
          "output_type": "stream",
          "name": "stdout",
          "text": [
            "0\n",
            "1\n",
            "2\n"
          ]
        }
      ]
    },
    {
      "cell_type": "code",
      "source": [
        "def one_generator():\n",
        "    yield 1\n",
        "    return 'return에 지정한 값'\n",
        " \n",
        "try:\n",
        "    g = one_generator()\n",
        "    next(g)\n",
        "    next(g)\n",
        "except StopIteration as e:\n",
        "    print(e)    # return에 지정한 값\n",
        "\n",
        "\n",
        "#제너레이터와 return\n",
        "#제너레이터는 함수 끝까지 도달하면 StopIteration 예외가 발생\n",
        "#마찬가지로 return도 함수를 끝내므로 return을 사용해서 함수 중간에 빠져나오면 StopIteration 예외가 발생합니다.\n",
        "#특히 제너레이터 안에서 return에 반환값을 지정하면 StopIteration 예외의 에러 메시지로 들어갑니다.\n"
      ],
      "metadata": {
        "colab": {
          "base_uri": "https://localhost:8080/"
        },
        "id": "QSlKJBrOi3o_",
        "outputId": "e2fcd304-ad3b-42b4-d280-7d5f4e8759f7"
      },
      "execution_count": 10,
      "outputs": [
        {
          "output_type": "stream",
          "name": "stdout",
          "text": [
            "return에 지정한 값\n"
          ]
        }
      ]
    },
    {
      "cell_type": "code",
      "source": [
        "def number_generator(stop):\n",
        "    n = 0              # 숫자는 0부터 시작\n",
        "    while n < stop:    # 현재 숫자가 반복을 끝낼 숫자보다 작을 때 반복\n",
        "        yield n        # 현재 숫자를 바깥으로 전달\n",
        "        n += 1         # 현재 숫자를 증가시킴\n",
        " \n",
        "for i in number_generator(3):\n",
        "    print(i)"
      ],
      "metadata": {
        "colab": {
          "base_uri": "https://localhost:8080/"
        },
        "id": "cGyw_DRfj3Je",
        "outputId": "d8d1039d-de16-4a34-87d3-5fbb5a0c1d24"
      },
      "execution_count": 11,
      "outputs": [
        {
          "output_type": "stream",
          "name": "stdout",
          "text": [
            "0\n",
            "1\n",
            "2\n"
          ]
        }
      ]
    },
    {
      "cell_type": "code",
      "source": [
        "g = number_generator(3)"
      ],
      "metadata": {
        "id": "R7ViuPnCkPmf"
      },
      "execution_count": 13,
      "outputs": []
    },
    {
      "cell_type": "code",
      "source": [
        "next(g)"
      ],
      "metadata": {
        "colab": {
          "base_uri": "https://localhost:8080/"
        },
        "id": "Bi8k0Pg2kTsB",
        "outputId": "16e1537e-d81a-4833-b08d-30265f3f6642"
      },
      "execution_count": 16,
      "outputs": [
        {
          "output_type": "execute_result",
          "data": {
            "text/plain": [
              "2"
            ]
          },
          "metadata": {},
          "execution_count": 16
        }
      ]
    },
    {
      "cell_type": "code",
      "source": [
        "def upper_generator(x):\n",
        "    for i in x:\n",
        "        yield i.upper()    # 함수의 반환값을 바깥으로 전달\n",
        " \n",
        "fruits = ['apple', 'pear', 'grape', 'pineapple', 'orange']\n",
        "for i in upper_generator(fruits):\n",
        "    print(i)"
      ],
      "metadata": {
        "colab": {
          "base_uri": "https://localhost:8080/"
        },
        "id": "iWNOLR2BkXjh",
        "outputId": "5f177dc4-d8ad-45bb-c937-a1911d7513ec"
      },
      "execution_count": 17,
      "outputs": [
        {
          "output_type": "stream",
          "name": "stdout",
          "text": [
            "APPLE\n",
            "PEAR\n",
            "GRAPE\n",
            "PINEAPPLE\n",
            "ORANGE\n"
          ]
        }
      ]
    },
    {
      "cell_type": "code",
      "source": [
        "def number_generator():\n",
        "    x = [1, 2, 3]\n",
        "    for i in x:\n",
        "        yield i\n",
        " \n",
        "for i in number_generator():\n",
        "    print(i)"
      ],
      "metadata": {
        "colab": {
          "base_uri": "https://localhost:8080/"
        },
        "id": "m8yFFZchknx_",
        "outputId": "f8555b66-e00c-45c8-ce0c-4ae5401d30e1"
      },
      "execution_count": 18,
      "outputs": [
        {
          "output_type": "stream",
          "name": "stdout",
          "text": [
            "1\n",
            "2\n",
            "3\n"
          ]
        }
      ]
    },
    {
      "cell_type": "markdown",
      "source": [
        "- yield from 반복가능한객체\n",
        "- yield from 이터레이터\n",
        "- yield from 제너레이터객체"
      ],
      "metadata": {
        "id": "FwE6SbEWk71Y"
      }
    },
    {
      "cell_type": "code",
      "source": [
        "def number_generator():\n",
        "    x = [1, 2, 3]\n",
        "    yield from x    # 리스트에 들어있는 요소를 한 개씩 바깥으로 전달\n",
        " \n",
        "for i in number_generator():\n",
        "    print(i)"
      ],
      "metadata": {
        "colab": {
          "base_uri": "https://localhost:8080/"
        },
        "id": "crm__DUUkoDl",
        "outputId": "e8d81197-3212-48d3-b012-7e9f34baa7d0"
      },
      "execution_count": 19,
      "outputs": [
        {
          "output_type": "stream",
          "name": "stdout",
          "text": [
            "1\n",
            "2\n",
            "3\n"
          ]
        }
      ]
    },
    {
      "cell_type": "code",
      "source": [
        "def number_generator(stop):\n",
        "    n = 0\n",
        "    while n < stop:\n",
        "        yield n\n",
        "        n += 1\n",
        " \n",
        "def three_generator():\n",
        "    yield from number_generator(3)    # 숫자를 세 번 바깥으로 전달\n",
        " \n",
        "for i in three_generator():\n",
        "    print(i)"
      ],
      "metadata": {
        "colab": {
          "base_uri": "https://localhost:8080/"
        },
        "id": "UeGBk-SYlPrx",
        "outputId": "b2508faf-b12e-4e09-9206-ad0bd2553ce6"
      },
      "execution_count": 20,
      "outputs": [
        {
          "output_type": "stream",
          "name": "stdout",
          "text": [
            "0\n",
            "1\n",
            "2\n"
          ]
        }
      ]
    },
    {
      "cell_type": "markdown",
      "source": [
        "- 제네레이터 표현식\n",
        "**(식 for 변수 in 반복가능한객체)**\n",
        "\n",
        "```\n",
        "(i for i in range(50) if i % 2 == 0)\n",
        "```\n",
        "\n"
      ],
      "metadata": {
        "id": "-7ir2wpJlgGF"
      }
    },
    {
      "cell_type": "code",
      "source": [
        "def file_read():\n",
        "    with open('words.txt') as file:\n",
        "      while True:\n",
        "        line=file.readline()\n",
        "        if line ==\"\":\n",
        "          break\n",
        "        yield line.strip(\"\\n\")\n",
        "                                   \n",
        " \n",
        "for i in file_read():\n",
        "    print(i)"
      ],
      "metadata": {
        "colab": {
          "base_uri": "https://localhost:8080/"
        },
        "id": "TosXE5JClmYE",
        "outputId": "ba8c2941-13f8-499e-8c62-dddc08582b32"
      },
      "execution_count": 22,
      "outputs": [
        {
          "output_type": "stream",
          "name": "stdout",
          "text": [
            "compatibility\n",
            "experience\n",
            "photography\n",
            "spotlight\n"
          ]
        }
      ]
    },
    {
      "cell_type": "code",
      "source": [
        "def prime_number_generator(start, stop):\n",
        "  for n in range(start, stop):\n",
        "    is_prime = True\n",
        "    for i in range(2, int(n)): \n",
        "      if n % i == 0:\n",
        "        is_prime = False\n",
        "        break\n",
        "    if is_prime == True:\n",
        "      yield n\n",
        "\n",
        "\n",
        "\n",
        "start, stop = map(int, input().split())\n",
        " \n",
        "g = prime_number_generator(start, stop)\n",
        "print(type(g))\n",
        "for i in g:\n",
        "    print(i, end=' ')"
      ],
      "metadata": {
        "colab": {
          "base_uri": "https://localhost:8080/"
        },
        "id": "nvPMk1R-nE98",
        "outputId": "527b3833-6116-4b9c-f407-58793e409557"
      },
      "execution_count": 28,
      "outputs": [
        {
          "output_type": "stream",
          "name": "stdout",
          "text": [
            "50 100\n",
            "<class 'generator'>\n",
            "53 59 61 67 71 73 79 83 89 97 "
          ]
        }
      ]
    },
    {
      "cell_type": "code",
      "source": [
        "#코루틴 사용하기\n",
        "\n",
        "def add(a, b):\n",
        "    c = a + b    # add 함수가 끝나면 변수와 계산식은 사라짐\n",
        "    print(c)\n",
        "    print('add 함수')\n",
        " \n",
        "def calc():\n",
        "    add(1, 2)    # add 함수가 끝나면 다시 calc 함수로 돌아옴\n",
        "    print('calc 함수')\n",
        " \n",
        "calc()"
      ],
      "metadata": {
        "colab": {
          "base_uri": "https://localhost:8080/"
        },
        "id": "avfh7P7KpE0v",
        "outputId": "faa84fb2-f94a-495a-bf04-98ab72f8fe7d"
      },
      "execution_count": 30,
      "outputs": [
        {
          "output_type": "stream",
          "name": "stdout",
          "text": [
            "3\n",
            "add 함수\n",
            "calc 함수\n"
          ]
        }
      ]
    },
    {
      "cell_type": "code",
      "source": [
        " #제너레이터는 yield로 값을 발생\n",
        "#코루틴객체.send(값)\n",
        "#변수 = (yield)\n",
        "\n",
        "def number_coroutine():\n",
        "    while True:        # 코루틴을 계속 유지하기 위해 무한 루프 사용\n",
        "        x = (yield)    # 코루틴 바깥에서 값을 받아옴, yield를 괄호로 묶어야 함\n",
        "        print(x)\n",
        " \n",
        "co = number_coroutine()\n",
        "next(co)      # 코루틴 안의 yield까지 코드 실행(최초 실행)\n",
        " \n",
        "co.send(1)    # 코루틴에 숫자 1을 보냄\n",
        "co.send(2)    # 코루틴에 숫자 2을 보냄\n",
        "co.send(3)    # 코루틴에 숫자 3을 보냄"
      ],
      "metadata": {
        "colab": {
          "base_uri": "https://localhost:8080/"
        },
        "id": "5F05BilYuyML",
        "outputId": "d20a58a1-23c8-44c9-ae34-c3e9dfa72c79"
      },
      "execution_count": 31,
      "outputs": [
        {
          "output_type": "stream",
          "name": "stdout",
          "text": [
            "1\n",
            "2\n",
            "3\n"
          ]
        }
      ]
    },
    {
      "cell_type": "markdown",
      "source": [
        "- send로 코루틴의 코드를 최초로 실행하기\n",
        "지금까지 코루틴의 코드를 최초로 실행할 때 next 함수(__next__ 메서드)를 사용했지만, 코루틴객체.send(None)과 같이 send 메서드에 None을 지정해도 코루틴의 코드를 최초로 실행할 수 있습니다."
      ],
      "metadata": {
        "id": "ffPmGK0Mv6Cm"
      }
    },
    {
      "cell_type": "markdown",
      "source": [
        "- 변수 = (yield 변수)\n",
        "- 변수 = next(코루틴객체)\n",
        "- 변수 = 코루틴객체.send(값)"
      ],
      "metadata": {
        "id": "0vjbIdsmwYu5"
      }
    },
    {
      "cell_type": "code",
      "source": [
        "# coroutine_producer_consumer.py\n",
        "def sum_coroutine():\n",
        "    total = 0\n",
        "    while True:\n",
        "        x = (yield total)    # 코루틴 바깥에서 값을 받아오면서 바깥으로 값을 전달\n",
        "        total += x\n",
        " \n",
        "co = sum_coroutine()\n",
        "print(next(co))      # 0: 코루틴 안의 yield까지 코드를 실행하고 코루틴에서 나온 값 출력\n",
        " \n",
        "print(co.send(1))    # 1: 코루틴에 숫자 1을 보내고 코루틴에서 나온 값 출력\n",
        "print(co.send(2))    # 3: 코루틴에 숫자 2를 보내고 코루틴에서 나온 값 출력\n",
        "print(co.send(3))    # 6: 코루틴에 숫자 3을 보내고 코루틴에서 나온 값 출력"
      ],
      "metadata": {
        "colab": {
          "base_uri": "https://localhost:8080/"
        },
        "id": "IS6H25p1wYLR",
        "outputId": "627e30b8-75e7-444f-9abc-00e3ab40df79"
      },
      "execution_count": 33,
      "outputs": [
        {
          "output_type": "stream",
          "name": "stdout",
          "text": [
            "0\n",
            "1\n",
            "3\n",
            "6\n"
          ]
        }
      ]
    },
    {
      "cell_type": "code",
      "source": [
        "def number_coroutine():\n",
        "    while True:\n",
        "        x = (yield)\n",
        "        print(x, end=' ')\n",
        " \n",
        "co = number_coroutine()\n",
        "next(co)\n",
        " \n",
        "for i in range(20):\n",
        "    co.send(i)\n",
        " \n",
        "co.close()    # 코루틴 종료"
      ],
      "metadata": {
        "colab": {
          "base_uri": "https://localhost:8080/"
        },
        "id": "Vc0Gj79Cve2e",
        "outputId": "2437acf9-b11e-4b07-b69b-bd65490b32b3"
      },
      "execution_count": 34,
      "outputs": [
        {
          "output_type": "stream",
          "name": "stdout",
          "text": [
            "0 1 2 3 4 5 6 7 8 9 10 11 12 13 14 15 16 17 18 19 "
          ]
        }
      ]
    },
    {
      "cell_type": "code",
      "source": [
        "def number_coroutine():\n",
        "    try:\n",
        "        while True:\n",
        "            x = (yield)\n",
        "            print(x, end=' ')\n",
        "    except GeneratorExit:    # 코루틴이 종료 될 때 GeneratorExit 예외 발생\n",
        "        print()\n",
        "        print('코루틴 종료')\n",
        " \n",
        "co = number_coroutine()\n",
        "next(co)\n",
        " \n",
        "for i in range(20):\n",
        "    co.send(i)\n",
        " \n",
        "co.close()"
      ],
      "metadata": {
        "colab": {
          "base_uri": "https://localhost:8080/"
        },
        "id": "_12y5Trlxg3G",
        "outputId": "cdf8c4fe-c3a9-4d0a-8413-6da4891f934b"
      },
      "execution_count": 35,
      "outputs": [
        {
          "output_type": "stream",
          "name": "stdout",
          "text": [
            "0 1 2 3 4 5 6 7 8 9 10 11 12 13 14 15 16 17 18 19 \n",
            "코루틴 종료\n"
          ]
        }
      ]
    },
    {
      "cell_type": "code",
      "source": [
        "#코루틴객체.throw(예외이름, 에러메시지)\n",
        "def sum_coroutine():\n",
        "    try:\n",
        "        total = 0\n",
        "        while True:\n",
        "            x = (yield)\n",
        "            total += x\n",
        "    except RuntimeError as e:\n",
        "        print(e)\n",
        "        yield total    # 코루틴 바깥으로 값 전달\n",
        " \n",
        "co = sum_coroutine()\n",
        "next(co)\n",
        " \n",
        "for i in range(20):\n",
        "    co.send(i)\n",
        " \n",
        "print(co.throw(RuntimeError, '예외로 코루틴 끝내기')) # 190\n",
        "                                                      # 코루틴의 except에서 yield로 전달받은 값"
      ],
      "metadata": {
        "colab": {
          "base_uri": "https://localhost:8080/"
        },
        "id": "sDZc9kroxmVD",
        "outputId": "6db85008-a632-4997-93e8-b36c8d000940"
      },
      "execution_count": 36,
      "outputs": [
        {
          "output_type": "stream",
          "name": "stdout",
          "text": [
            "예외로 코루틴 끝내기\n",
            "190\n"
          ]
        }
      ]
    },
    {
      "cell_type": "markdown",
      "source": [
        "Unit 41.3 "
      ],
      "metadata": {
        "id": "OrtoRuaazrQi"
      }
    }
  ]
}