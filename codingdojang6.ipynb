{
  "nbformat": 4,
  "nbformat_minor": 0,
  "metadata": {
    "colab": {
      "provenance": [],
      "authorship_tag": "ABX9TyO/ibPA2gDwJ/eoshWrut8x",
      "include_colab_link": true
    },
    "kernelspec": {
      "name": "python3",
      "display_name": "Python 3"
    },
    "language_info": {
      "name": "python"
    }
  },
  "cells": [
    {
      "cell_type": "markdown",
      "metadata": {
        "id": "view-in-github",
        "colab_type": "text"
      },
      "source": [
        "<a href=\"https://colab.research.google.com/github/Welle-Kim/Based-on-the-Review/blob/master/codingdojang6.ipynb\" target=\"_parent\"><img src=\"https://colab.research.google.com/assets/colab-badge.svg\" alt=\"Open In Colab\"/></a>"
      ]
    },
    {
      "cell_type": "code",
      "execution_count": null,
      "metadata": {
        "colab": {
          "base_uri": "https://localhost:8080/"
        },
        "id": "N2P-6H_jAv35",
        "outputId": "6f21124d-1ac5-4d7e-cea8-107f2effa753"
      },
      "outputs": [
        {
          "output_type": "execute_result",
          "data": {
            "text/plain": [
              "11"
            ]
          },
          "metadata": {},
          "execution_count": 2
        }
      ],
      "source": [
        "def plus_ten(x):\n",
        "  return x+10\n",
        "\n",
        "plus_ten(1)"
      ]
    },
    {
      "cell_type": "code",
      "source": [
        "lambda x: x+10"
      ],
      "metadata": {
        "colab": {
          "base_uri": "https://localhost:8080/"
        },
        "id": "YbTyMR3aBArT",
        "outputId": "6d7df04c-92cb-4568-f90e-40ea68e3d74e"
      },
      "execution_count": null,
      "outputs": [
        {
          "output_type": "execute_result",
          "data": {
            "text/plain": [
              "<function __main__.<lambda>(x)>"
            ]
          },
          "metadata": {},
          "execution_count": 3
        }
      ]
    },
    {
      "cell_type": "code",
      "source": [
        "plus_ten=lambda x:x+10"
      ],
      "metadata": {
        "id": "cbf3GLU3BEMf"
      },
      "execution_count": null,
      "outputs": []
    },
    {
      "cell_type": "code",
      "source": [
        "plus_ten(1)"
      ],
      "metadata": {
        "colab": {
          "base_uri": "https://localhost:8080/"
        },
        "id": "8X7XtlQnBNiZ",
        "outputId": "cb8b7f91-5556-4d2e-9fd8-d06ce2fa307e"
      },
      "execution_count": null,
      "outputs": [
        {
          "output_type": "execute_result",
          "data": {
            "text/plain": [
              "11"
            ]
          },
          "metadata": {},
          "execution_count": 5
        }
      ]
    },
    {
      "cell_type": "code",
      "source": [
        "(lambda x: x + 10)(1) #(lambda 매개변수들: 식)(인수들)"
      ],
      "metadata": {
        "colab": {
          "base_uri": "https://localhost:8080/"
        },
        "id": "R3qgrTZGBO0a",
        "outputId": "af924ef9-57fe-4a93-ae37-dcfc3f8bf425"
      },
      "execution_count": null,
      "outputs": [
        {
          "output_type": "execute_result",
          "data": {
            "text/plain": [
              "11"
            ]
          },
          "metadata": {},
          "execution_count": 6
        }
      ]
    },
    {
      "cell_type": "code",
      "source": [
        "y = 10\n",
        "(lambda x: x + y)(1)"
      ],
      "metadata": {
        "colab": {
          "base_uri": "https://localhost:8080/"
        },
        "id": "lRgmdsALBU61",
        "outputId": "0b7dd460-d353-4401-fd21-9b3981e24699"
      },
      "execution_count": null,
      "outputs": [
        {
          "output_type": "execute_result",
          "data": {
            "text/plain": [
              "11"
            ]
          },
          "metadata": {},
          "execution_count": 7
        }
      ]
    },
    {
      "cell_type": "code",
      "source": [
        "def plus_ten(x):\n",
        "  return x+10\n",
        "\n",
        "list(map(plus_ten, [1, 2, 3]))"
      ],
      "metadata": {
        "colab": {
          "base_uri": "https://localhost:8080/"
        },
        "id": "KWJjj-ZHBe6u",
        "outputId": "ce4e3c5b-c147-4218-fd4d-6d8cae6ff756"
      },
      "execution_count": null,
      "outputs": [
        {
          "output_type": "execute_result",
          "data": {
            "text/plain": [
              "[11, 12, 13]"
            ]
          },
          "metadata": {},
          "execution_count": 8
        }
      ]
    },
    {
      "cell_type": "code",
      "source": [
        "list(map(lambda x: x + 10, [1, 2, 3]))"
      ],
      "metadata": {
        "colab": {
          "base_uri": "https://localhost:8080/"
        },
        "id": "W1uSJC1-Bn8o",
        "outputId": "135105e2-f136-4088-8624-e1d15f0ad1be"
      },
      "execution_count": null,
      "outputs": [
        {
          "output_type": "execute_result",
          "data": {
            "text/plain": [
              "[11, 12, 13]"
            ]
          },
          "metadata": {},
          "execution_count": 9
        }
      ]
    },
    {
      "cell_type": "code",
      "source": [
        "(lambda : 1)()"
      ],
      "metadata": {
        "colab": {
          "base_uri": "https://localhost:8080/"
        },
        "id": "2MasYoMDBoMJ",
        "outputId": "a7d8c058-b9f9-40b2-81cf-dfc26f8f9385"
      },
      "execution_count": null,
      "outputs": [
        {
          "output_type": "execute_result",
          "data": {
            "text/plain": [
              "1"
            ]
          },
          "metadata": {},
          "execution_count": 10
        }
      ]
    },
    {
      "cell_type": "code",
      "source": [
        "x = 10"
      ],
      "metadata": {
        "id": "t5QE75zcBrOt"
      },
      "execution_count": null,
      "outputs": []
    },
    {
      "cell_type": "code",
      "source": [
        "(lambda : x)()"
      ],
      "metadata": {
        "colab": {
          "base_uri": "https://localhost:8080/"
        },
        "id": "UVoIss1QBtTl",
        "outputId": "be3f51d3-d595-4d89-c20e-28f30269b49b"
      },
      "execution_count": null,
      "outputs": [
        {
          "output_type": "execute_result",
          "data": {
            "text/plain": [
              "10"
            ]
          },
          "metadata": {},
          "execution_count": 12
        }
      ]
    },
    {
      "cell_type": "code",
      "source": [
        "#람다 표현식에서 조건부 표현식\n",
        "\n",
        "##lambda 매개변수들: 식1 if 조건식 else 식2\n",
        "a = [1, 2, 3, 4, 5, 6, 7, 8, 9, 10]\n",
        "list(map(lambda x: str(x) if x % 3 == 0 else x, a))\n",
        "\n",
        "#람다 표현식에서 if를 사용했다면 반드시 else를 사용해야 합니다"
      ],
      "metadata": {
        "colab": {
          "base_uri": "https://localhost:8080/"
        },
        "id": "c51GzQjtBvBB",
        "outputId": "2c105971-6cf6-411b-aaee-336e3946c5f7"
      },
      "execution_count": null,
      "outputs": [
        {
          "output_type": "execute_result",
          "data": {
            "text/plain": [
              "[1, 2, '3', 4, 5, '6', 7, 8, '9', 10]"
            ]
          },
          "metadata": {},
          "execution_count": 14
        }
      ]
    },
    {
      "cell_type": "code",
      "source": [
        "def f(x):\n",
        "  if x==1:\n",
        "    return str(x)\n",
        "  elif x==2:\n",
        "    return float(x)\n",
        "  else:\n",
        "    return x+10"
      ],
      "metadata": {
        "id": "VLtDvxmpCrP9"
      },
      "execution_count": null,
      "outputs": []
    },
    {
      "cell_type": "code",
      "source": [
        "a = [1, 2, 3, 4, 5, 6, 7, 8, 9, 10]"
      ],
      "metadata": {
        "id": "2raO6th6D9fe"
      },
      "execution_count": null,
      "outputs": []
    },
    {
      "cell_type": "code",
      "source": [
        "list(map(f,a))"
      ],
      "metadata": {
        "colab": {
          "base_uri": "https://localhost:8080/"
        },
        "id": "XS_Ls6V9EAmG",
        "outputId": "d4e74bf7-9ede-4512-97cf-e9cdf4f413f1"
      },
      "execution_count": null,
      "outputs": [
        {
          "output_type": "execute_result",
          "data": {
            "text/plain": [
              "['1', 2.0, 13, 14, 15, 16, 17, 18, 19, 20]"
            ]
          },
          "metadata": {},
          "execution_count": 17
        }
      ]
    },
    {
      "cell_type": "code",
      "source": [
        "a = [1, 2, 3, 4, 5]\n",
        "b = [2, 4, 6, 8, 10]\n",
        "list(map(lambda x, y: x * y, a, b))"
      ],
      "metadata": {
        "colab": {
          "base_uri": "https://localhost:8080/"
        },
        "id": "CQrNivi0ECbm",
        "outputId": "97cc0624-4811-47a6-ab7f-b7358718307e"
      },
      "execution_count": null,
      "outputs": [
        {
          "output_type": "execute_result",
          "data": {
            "text/plain": [
              "[2, 8, 18, 32, 50]"
            ]
          },
          "metadata": {},
          "execution_count": 18
        }
      ]
    },
    {
      "cell_type": "code",
      "source": [
        "def f(x):\n",
        "  return x>5 and x<10"
      ],
      "metadata": {
        "id": "HEwsCEb0EUih"
      },
      "execution_count": null,
      "outputs": []
    },
    {
      "cell_type": "code",
      "source": [
        "list(map(lambda x, y: x * y, a, b))"
      ],
      "metadata": {
        "colab": {
          "base_uri": "https://localhost:8080/"
        },
        "id": "ZXsydaMdFGYU",
        "outputId": "3208896a-4e9a-40df-e122-c847f825f907"
      },
      "execution_count": null,
      "outputs": [
        {
          "output_type": "execute_result",
          "data": {
            "text/plain": [
              "[2, 8, 18, 32, 50]"
            ]
          },
          "metadata": {},
          "execution_count": 25
        }
      ]
    },
    {
      "cell_type": "code",
      "source": [
        "a = [8, 3, 2, 10, 15, 7, 1, 9, 0, 11]"
      ],
      "metadata": {
        "id": "WHM1ukFuFsCo"
      },
      "execution_count": null,
      "outputs": []
    },
    {
      "cell_type": "code",
      "source": [
        "list(filter(f, a))"
      ],
      "metadata": {
        "colab": {
          "base_uri": "https://localhost:8080/"
        },
        "id": "q0JQ4V2tFjZ-",
        "outputId": "14920ed5-9523-41a6-fac1-7d0f600f330f"
      },
      "execution_count": null,
      "outputs": [
        {
          "output_type": "execute_result",
          "data": {
            "text/plain": [
              "[8, 7, 9]"
            ]
          },
          "metadata": {},
          "execution_count": 28
        }
      ]
    },
    {
      "cell_type": "code",
      "source": [
        "list(filter(lambda x: x > 5 and x < 10, a))"
      ],
      "metadata": {
        "colab": {
          "base_uri": "https://localhost:8080/"
        },
        "id": "BzbF_HlEFj2W",
        "outputId": "cbfa7ab4-3b8e-4736-ee9e-8498fc82109b"
      },
      "execution_count": null,
      "outputs": [
        {
          "output_type": "execute_result",
          "data": {
            "text/plain": [
              "[8, 7, 9]"
            ]
          },
          "metadata": {},
          "execution_count": 29
        }
      ]
    },
    {
      "cell_type": "code",
      "source": [
        "def f(x,y):\n",
        "  return x+y"
      ],
      "metadata": {
        "id": "8dyW23xZFxZE"
      },
      "execution_count": null,
      "outputs": []
    },
    {
      "cell_type": "code",
      "source": [
        "a = [1, 2, 3, 4, 5]"
      ],
      "metadata": {
        "id": "VMWf_oH0F4K5"
      },
      "execution_count": null,
      "outputs": []
    },
    {
      "cell_type": "code",
      "source": [
        "from functools import reduce"
      ],
      "metadata": {
        "id": "VZadkvH7F7Si"
      },
      "execution_count": null,
      "outputs": []
    },
    {
      "cell_type": "code",
      "source": [
        "reduce(f, a) #리스트에 저장된 요소를 순서대로 더한 뒤 누적된 결과를 반환합니다."
      ],
      "metadata": {
        "colab": {
          "base_uri": "https://localhost:8080/"
        },
        "id": "fvLOkj4tF8PT",
        "outputId": "1a47a52b-8358-416b-8e9c-2e99e07d0428"
      },
      "execution_count": null,
      "outputs": [
        {
          "output_type": "execute_result",
          "data": {
            "text/plain": [
              "15"
            ]
          },
          "metadata": {},
          "execution_count": 34
        }
      ]
    },
    {
      "cell_type": "code",
      "source": [
        "reduce(lambda x, y: x + y, a)"
      ],
      "metadata": {
        "colab": {
          "base_uri": "https://localhost:8080/"
        },
        "id": "x7mrcJMXGKnq",
        "outputId": "e8041400-b732-435f-a66a-9146d1d08be9"
      },
      "execution_count": null,
      "outputs": [
        {
          "output_type": "execute_result",
          "data": {
            "text/plain": [
              "15"
            ]
          },
          "metadata": {},
          "execution_count": 35
        }
      ]
    },
    {
      "cell_type": "code",
      "source": [
        "#map, filter, reduce와 리스트 표현식\n",
        "a = [8, 3, 2, 10, 15, 7, 1, 9, 0, 11]\n",
        "[i for i in a if i > 5 and i < 10]"
      ],
      "metadata": {
        "colab": {
          "base_uri": "https://localhost:8080/"
        },
        "id": "PGnSWmhCG7Nz",
        "outputId": "2cb38fd7-fc20-4fa1-f0da-43551d55332d"
      },
      "execution_count": null,
      "outputs": [
        {
          "output_type": "execute_result",
          "data": {
            "text/plain": [
              "[8, 7, 9]"
            ]
          },
          "metadata": {},
          "execution_count": 36
        }
      ]
    },
    {
      "cell_type": "code",
      "source": [
        "a = [1, 2, 3, 4, 5]\n",
        "x = a[0]\n",
        "for i in range(len(a) - 1):\n",
        "  x=x+a[i+1]\n",
        "\n",
        "x"
      ],
      "metadata": {
        "colab": {
          "base_uri": "https://localhost:8080/"
        },
        "id": "mO7AUR8vNEVP",
        "outputId": "851da49e-c600-435f-d5d0-bdeb390dcd32"
      },
      "execution_count": null,
      "outputs": [
        {
          "output_type": "execute_result",
          "data": {
            "text/plain": [
              "15"
            ]
          },
          "metadata": {},
          "execution_count": 37
        }
      ]
    },
    {
      "cell_type": "code",
      "source": [
        "###문자열에서 find 메서드를 사용하면 찾을 문자열이 있을 때 인덱스를 반환하고 없을 때는 -1을 반환합니다                                                                       \n",
        "files = ['font', '1.png', '10.jpg', '11.gif', '2.jpg', '3.png', 'table.xslx', 'spec.docx']\n",
        " \n",
        "print(list(filter(lambda x: x.find(\".jpg\")!=-1 or x.find(\".png\")!=-1,files)))"
      ],
      "metadata": {
        "colab": {
          "base_uri": "https://localhost:8080/"
        },
        "id": "lukxlibUPqq8",
        "outputId": "a9c56711-4dd0-4c6b-ebd8-1b22e544aae4"
      },
      "execution_count": null,
      "outputs": [
        {
          "output_type": "stream",
          "name": "stdout",
          "text": [
            "['1.png', '10.jpg', '2.jpg', '3.png']\n"
          ]
        }
      ]
    },
    {
      "cell_type": "code",
      "source": [
        "files = input().split()\n",
        " \n",
        "list(map(lambda x: '{0:03d}.{1}'.format(int(x.split('.')[0]), x.split('.')[1]), files))\n"
      ],
      "metadata": {
        "id": "rzq_R2-5PZqJ",
        "colab": {
          "base_uri": "https://localhost:8080/"
        },
        "outputId": "b4c5d7f5-f69c-4b0f-d418-a00954b3f4d3"
      },
      "execution_count": 2,
      "outputs": [
        {
          "name": "stdout",
          "output_type": "stream",
          "text": [
            "1.jpg 10.png 11.png 2.jpg 3.png\n"
          ]
        },
        {
          "output_type": "execute_result",
          "data": {
            "text/plain": [
              "['001.jpg', '010.png', '011.png', '002.jpg', '003.png']"
            ]
          },
          "metadata": {},
          "execution_count": 2
        }
      ]
    },
    {
      "cell_type": "code",
      "source": [
        "x = 10          # 전역 변수\n",
        "def foo():\n",
        "    print(x)    # 전역 변수 출력\n",
        " \n",
        "foo()\n",
        "print(x)        # 전역 변수 출력"
      ],
      "metadata": {
        "colab": {
          "base_uri": "https://localhost:8080/"
        },
        "id": "3muDQOUu6-y7",
        "outputId": "5dfbf581-d051-4720-b7d9-fc990f41e4f6"
      },
      "execution_count": 3,
      "outputs": [
        {
          "output_type": "stream",
          "name": "stdout",
          "text": [
            "10\n",
            "10\n"
          ]
        }
      ]
    },
    {
      "cell_type": "code",
      "source": [
        "x = 10          # 전역 변수\n",
        "def foo():\n",
        "    x = 20      # x는 foo의 지역 변수\n",
        "    print(x)    # foo의 지역 변수 출력\n",
        " \n",
        "foo()\n",
        "print(x)        # 전역 변수 출력"
      ],
      "metadata": {
        "colab": {
          "base_uri": "https://localhost:8080/"
        },
        "id": "hLfnbjb571J9",
        "outputId": "b3f081c4-7489-4909-a6a6-0cfc8ba0f0af"
      },
      "execution_count": 4,
      "outputs": [
        {
          "output_type": "stream",
          "name": "stdout",
          "text": [
            "20\n",
            "10\n"
          ]
        }
      ]
    },
    {
      "cell_type": "code",
      "source": [
        "x = 10          # 전역 변수\n",
        "def foo():\n",
        "    global x    # 전역 변수 x를 사용하겠다고 설정\n",
        "    x = 20      # x는 전역 변수\n",
        "    print(x)    # 전역 변수 출력\n",
        " \n",
        "foo()\n",
        "print(x)        # 전역 변수 출력"
      ],
      "metadata": {
        "colab": {
          "base_uri": "https://localhost:8080/"
        },
        "id": "zeTJpgPo71tq",
        "outputId": "40d05e5d-4199-401f-fa12-bf65e345f6d5"
      },
      "execution_count": 5,
      "outputs": [
        {
          "output_type": "stream",
          "name": "stdout",
          "text": [
            "20\n",
            "20\n"
          ]
        }
      ]
    },
    {
      "cell_type": "code",
      "source": [
        "# 전역 변수 x가 없는 상태\n",
        "def foo():\n",
        "    global x    # x를 전역 변수로 만듦\n",
        "    x = 20      # x는 전역 변수\n",
        "    print(x)    # 전역 변수 출력\n",
        " \n",
        "foo()\n",
        "print(x)        # 전역 변수 출력"
      ],
      "metadata": {
        "colab": {
          "base_uri": "https://localhost:8080/"
        },
        "id": "BLOvqhfh8FO0",
        "outputId": "51da5075-9d6c-4432-c4ce-b73e9d9609b2"
      },
      "execution_count": 6,
      "outputs": [
        {
          "output_type": "stream",
          "name": "stdout",
          "text": [
            "20\n",
            "20\n"
          ]
        }
      ]
    },
    {
      "cell_type": "code",
      "source": [
        " x = 10\n",
        " locals()"
      ],
      "metadata": {
        "colab": {
          "base_uri": "https://localhost:8080/"
        },
        "id": "Jv5x3Hrb8NUU",
        "outputId": "38cb8501-7962-4c72-a6fd-418412de37a7"
      },
      "execution_count": 7,
      "outputs": [
        {
          "output_type": "execute_result",
          "data": {
            "text/plain": [
              "{'__name__': '__main__',\n",
              " '__doc__': 'Automatically created module for IPython interactive environment',\n",
              " '__package__': None,\n",
              " '__loader__': None,\n",
              " '__spec__': None,\n",
              " '__builtin__': <module 'builtins' (built-in)>,\n",
              " '__builtins__': <module 'builtins' (built-in)>,\n",
              " '_ih': ['',\n",
              "  \"files = input().split()\\n \\nlist(map(lambda x: '{0:03d}.{1}'.format(int(x.split('.')[0]), x.split('.')[1]), files))\\nprint(list(filter(lambda x:)))\",\n",
              "  \"files = input().split()\\n \\nlist(map(lambda x: '{0:03d}.{1}'.format(int(x.split('.')[0]), x.split('.')[1]), files))\",\n",
              "  'x = 10          # 전역 변수\\ndef foo():\\n    print(x)    # 전역 변수 출력\\n \\nfoo()\\nprint(x)        # 전역 변수 출력',\n",
              "  'x = 10          # 전역 변수\\ndef foo():\\n    x = 20      # x는 foo의 지역 변수\\n    print(x)    # foo의 지역 변수 출력\\n \\nfoo()\\nprint(x)        # 전역 변수 출력',\n",
              "  'x = 10          # 전역 변수\\ndef foo():\\n    global x    # 전역 변수 x를 사용하겠다고 설정\\n    x = 20      # x는 전역 변수\\n    print(x)    # 전역 변수 출력\\n \\nfoo()\\nprint(x)        # 전역 변수 출력',\n",
              "  '# 전역 변수 x가 없는 상태\\ndef foo():\\n    global x    # x를 전역 변수로 만듦\\n    x = 20      # x는 전역 변수\\n    print(x)    # 전역 변수 출력\\n \\nfoo()\\nprint(x)        # 전역 변수 출력',\n",
              "  'x = 10\\nlocals()'],\n",
              " '_oh': {2: ['001.jpg', '010.png', '011.png', '002.jpg', '003.png']},\n",
              " '_dh': ['/content'],\n",
              " 'In': ['',\n",
              "  \"files = input().split()\\n \\nlist(map(lambda x: '{0:03d}.{1}'.format(int(x.split('.')[0]), x.split('.')[1]), files))\\nprint(list(filter(lambda x:)))\",\n",
              "  \"files = input().split()\\n \\nlist(map(lambda x: '{0:03d}.{1}'.format(int(x.split('.')[0]), x.split('.')[1]), files))\",\n",
              "  'x = 10          # 전역 변수\\ndef foo():\\n    print(x)    # 전역 변수 출력\\n \\nfoo()\\nprint(x)        # 전역 변수 출력',\n",
              "  'x = 10          # 전역 변수\\ndef foo():\\n    x = 20      # x는 foo의 지역 변수\\n    print(x)    # foo의 지역 변수 출력\\n \\nfoo()\\nprint(x)        # 전역 변수 출력',\n",
              "  'x = 10          # 전역 변수\\ndef foo():\\n    global x    # 전역 변수 x를 사용하겠다고 설정\\n    x = 20      # x는 전역 변수\\n    print(x)    # 전역 변수 출력\\n \\nfoo()\\nprint(x)        # 전역 변수 출력',\n",
              "  '# 전역 변수 x가 없는 상태\\ndef foo():\\n    global x    # x를 전역 변수로 만듦\\n    x = 20      # x는 전역 변수\\n    print(x)    # 전역 변수 출력\\n \\nfoo()\\nprint(x)        # 전역 변수 출력',\n",
              "  'x = 10\\nlocals()'],\n",
              " 'Out': {2: ['001.jpg', '010.png', '011.png', '002.jpg', '003.png']},\n",
              " 'get_ipython': <bound method InteractiveShell.get_ipython of <google.colab._shell.Shell object at 0x7f7f6cab8390>>,\n",
              " 'exit': <IPython.core.autocall.ZMQExitAutocall at 0x7f7f6606cb10>,\n",
              " 'quit': <IPython.core.autocall.ZMQExitAutocall at 0x7f7f6606cb10>,\n",
              " '_': ['001.jpg', '010.png', '011.png', '002.jpg', '003.png'],\n",
              " '__': '',\n",
              " '___': '',\n",
              " '_i': '# 전역 변수 x가 없는 상태\\ndef foo():\\n    global x    # x를 전역 변수로 만듦\\n    x = 20      # x는 전역 변수\\n    print(x)    # 전역 변수 출력\\n \\nfoo()\\nprint(x)        # 전역 변수 출력',\n",
              " '_ii': 'x = 10          # 전역 변수\\ndef foo():\\n    global x    # 전역 변수 x를 사용하겠다고 설정\\n    x = 20      # x는 전역 변수\\n    print(x)    # 전역 변수 출력\\n \\nfoo()\\nprint(x)        # 전역 변수 출력',\n",
              " '_iii': 'x = 10          # 전역 변수\\ndef foo():\\n    x = 20      # x는 foo의 지역 변수\\n    print(x)    # foo의 지역 변수 출력\\n \\nfoo()\\nprint(x)        # 전역 변수 출력',\n",
              " '_i1': \"files = input().split()\\n \\nlist(map(lambda x: '{0:03d}.{1}'.format(int(x.split('.')[0]), x.split('.')[1]), files))\\nprint(list(filter(lambda x:)))\",\n",
              " '_i2': \"files = input().split()\\n \\nlist(map(lambda x: '{0:03d}.{1}'.format(int(x.split('.')[0]), x.split('.')[1]), files))\",\n",
              " 'files': ['1.jpg', '10.png', '11.png', '2.jpg', '3.png'],\n",
              " '_2': ['001.jpg', '010.png', '011.png', '002.jpg', '003.png'],\n",
              " '_i3': 'x = 10          # 전역 변수\\ndef foo():\\n    print(x)    # 전역 변수 출력\\n \\nfoo()\\nprint(x)        # 전역 변수 출력',\n",
              " 'x': 10,\n",
              " 'foo': <function __main__.foo()>,\n",
              " '_i4': 'x = 10          # 전역 변수\\ndef foo():\\n    x = 20      # x는 foo의 지역 변수\\n    print(x)    # foo의 지역 변수 출력\\n \\nfoo()\\nprint(x)        # 전역 변수 출력',\n",
              " '_i5': 'x = 10          # 전역 변수\\ndef foo():\\n    global x    # 전역 변수 x를 사용하겠다고 설정\\n    x = 20      # x는 전역 변수\\n    print(x)    # 전역 변수 출력\\n \\nfoo()\\nprint(x)        # 전역 변수 출력',\n",
              " '_i6': '# 전역 변수 x가 없는 상태\\ndef foo():\\n    global x    # x를 전역 변수로 만듦\\n    x = 20      # x는 전역 변수\\n    print(x)    # 전역 변수 출력\\n \\nfoo()\\nprint(x)        # 전역 변수 출력',\n",
              " '_i7': ' x = 10\\n locals()'}"
            ]
          },
          "metadata": {},
          "execution_count": 7
        }
      ]
    },
    {
      "cell_type": "code",
      "source": [
        "def foo():\n",
        "  x=10\n",
        "  print(locals)\n",
        "\n",
        "foo()"
      ],
      "metadata": {
        "colab": {
          "base_uri": "https://localhost:8080/"
        },
        "id": "xnUHKFU-8OYl",
        "outputId": "948e0083-44a9-48e8-bed1-f7397eecece1"
      },
      "execution_count": 8,
      "outputs": [
        {
          "output_type": "stream",
          "name": "stdout",
          "text": [
            "<built-in function locals>\n"
          ]
        }
      ]
    },
    {
      "cell_type": "code",
      "source": [
        "def print_hello():\n",
        "    hello = 'Hello, world!'\n",
        "    def print_message():\n",
        "        print(hello) # 바깥쪽 함수의 지역 변수를 사용\n",
        "    print_message()\n",
        " \n",
        "print_hello()"
      ],
      "metadata": {
        "colab": {
          "base_uri": "https://localhost:8080/"
        },
        "id": "tae-RTSW8YrY",
        "outputId": "146b1393-b959-45e4-bad1-68d633a03461"
      },
      "execution_count": 9,
      "outputs": [
        {
          "output_type": "stream",
          "name": "stdout",
          "text": [
            "Hello, world!\n"
          ]
        }
      ]
    },
    {
      "cell_type": "code",
      "source": [
        "def A():\n",
        "    x = 10        # A의 지역 변수 x\n",
        "    def B():\n",
        "        x = 20    # x에 20 할당\n",
        " \n",
        "    B()\n",
        "    print(x)      # A의 지역 변수 x 출력\n",
        " \n",
        "A()"
      ],
      "metadata": {
        "colab": {
          "base_uri": "https://localhost:8080/"
        },
        "id": "J9fPAQCz9QjA",
        "outputId": "f31f6034-97ff-439e-fb46-82cb87dfb1b3"
      },
      "execution_count": 10,
      "outputs": [
        {
          "output_type": "stream",
          "name": "stdout",
          "text": [
            "10\n"
          ]
        }
      ]
    },
    {
      "cell_type": "code",
      "source": [
        "#바깥쪽에 있는 지역 변수의 값을 변경하려면 nonlocal 키워드를 사용\n",
        "\n",
        "def A():\n",
        "    x = 10        # A의 지역 변수 x\n",
        "    def B():\n",
        "        nonlocal x    # 현재 함수의 바깥쪽에 있는 지역 변수 사용\n",
        "        x = 20        # A의 지역 변수 x에 20 할당\n",
        " \n",
        "    B()\n",
        "    print(x)      # A의 지역 변수 x 출력\n",
        " \n",
        "A()"
      ],
      "metadata": {
        "colab": {
          "base_uri": "https://localhost:8080/"
        },
        "id": "EadWiv8g91PL",
        "outputId": "181af2b1-6db5-43bc-9a9d-e239a9cca231"
      },
      "execution_count": 11,
      "outputs": [
        {
          "output_type": "stream",
          "name": "stdout",
          "text": [
            "20\n"
          ]
        }
      ]
    },
    {
      "cell_type": "code",
      "source": [
        "def A():\n",
        "    x = 10\n",
        "    y = 100\n",
        "    def B():\n",
        "        x = 20\n",
        "        def C():\n",
        "            nonlocal x\n",
        "            nonlocal y\n",
        "            x = x + 30\n",
        "            y = y + 300\n",
        "            print(x)\n",
        "            print(y)\n",
        "        C()\n",
        "    B()\n",
        " \n",
        "A()"
      ],
      "metadata": {
        "colab": {
          "base_uri": "https://localhost:8080/"
        },
        "id": "N1sgJ-HY93kZ",
        "outputId": "f4aa0904-fe42-46b8-ab06-4166773e3ae5"
      },
      "execution_count": 12,
      "outputs": [
        {
          "output_type": "stream",
          "name": "stdout",
          "text": [
            "50\n",
            "400\n"
          ]
        }
      ]
    },
    {
      "cell_type": "code",
      "source": [
        "x = 1\n",
        "def A():\n",
        "    x = 10\n",
        "    def B():\n",
        "        x = 20\n",
        "        def C():\n",
        "            global x #글로벌은 무조건 전역변수\n",
        "            x = x + 30\n",
        "            print(x)\n",
        "        C()\n",
        "    B()\n",
        " \n",
        "A()"
      ],
      "metadata": {
        "colab": {
          "base_uri": "https://localhost:8080/"
        },
        "id": "isadGi_S-_Lm",
        "outputId": "4a894f16-bc5d-4d19-8b63-08014bdf1fe5"
      },
      "execution_count": 14,
      "outputs": [
        {
          "output_type": "stream",
          "name": "stdout",
          "text": [
            "31\n"
          ]
        }
      ]
    },
    {
      "cell_type": "code",
      "source": [
        "##클로저 만들기\n",
        "\n",
        "def calc():\n",
        "    a = 3\n",
        "    b = 5\n",
        "    def mul_add(x):\n",
        "        return a * x + b    # 함수 바깥쪽에 있는 지역 변수 a, b를 사용하여 계산\n",
        "    return mul_add          # mul_add 함수를 반환 #함수를 반환할 때는 함수 이름만 반환해야 하며 ( )(괄호)를 붙이면 안 됩니다\n",
        " \n",
        "c = calc()\n",
        "print(c(1), c(2), c(3), c(4), c(5))"
      ],
      "metadata": {
        "colab": {
          "base_uri": "https://localhost:8080/"
        },
        "id": "_EJzP5g6_GIN",
        "outputId": "1de2e63b-18a7-4a25-db4c-53658e57f636"
      },
      "execution_count": 16,
      "outputs": [
        {
          "output_type": "stream",
          "name": "stdout",
          "text": [
            "8 11 14 17 20\n"
          ]
        }
      ]
    },
    {
      "cell_type": "code",
      "source": [
        "#클로저에 속한 지역 변수는 바깥에서 직접 접근할 수 없으므로 데이터를 숨기고 싶을 때 활용합니다.\n",
        "#lambda로 클로저 만들기\n",
        "\n",
        "def calc():\n",
        "    a = 3\n",
        "    b = 5\n",
        "    return lambda x: a * x + b    # 람다 표현식을 반환\n",
        " \n",
        "c = calc()\n",
        "print(c(1), c(2), c(3), c(4), c(5))"
      ],
      "metadata": {
        "colab": {
          "base_uri": "https://localhost:8080/"
        },
        "id": "_twulXcs_tJx",
        "outputId": "6cc7917b-d8d0-4b4b-e5ca-329bd942fdf9"
      },
      "execution_count": 17,
      "outputs": [
        {
          "output_type": "stream",
          "name": "stdout",
          "text": [
            "8 11 14 17 20\n"
          ]
        }
      ]
    },
    {
      "cell_type": "code",
      "source": [
        "def calc():\n",
        "    a = 3\n",
        "    b = 5\n",
        "    total = 0\n",
        "    def mul_add(x):\n",
        "        nonlocal total\n",
        "        total = total + a * x + b\n",
        "        print(total)\n",
        "    return mul_add\n",
        " \n",
        "c = calc()\n",
        "c(1)\n",
        "c(2)\n",
        "c(3)"
      ],
      "metadata": {
        "colab": {
          "base_uri": "https://localhost:8080/"
        },
        "id": "NSoaVPOCBCNK",
        "outputId": "17713e1e-9b99-41a0-dbaf-c0f9780e6df1"
      },
      "execution_count": 18,
      "outputs": [
        {
          "output_type": "stream",
          "name": "stdout",
          "text": [
            "8\n",
            "19\n",
            "33\n"
          ]
        }
      ]
    },
    {
      "cell_type": "code",
      "source": [
        "def counter():\n",
        "    i = 0\n",
        "    def count():\n",
        "      nonlocal i\n",
        "      i+=1\n",
        "      return i               \n",
        "    return count #(함수를 반환할 때는 함수 이름만 반환해야 하며 ( )(괄호)를 붙이면 안 됩니다).\n",
        "                       \n",
        " \n",
        "c = counter()\n",
        "for i in range(10):\n",
        "    print(c(), end=' ')"
      ],
      "metadata": {
        "colab": {
          "base_uri": "https://localhost:8080/"
        },
        "id": "cBwfUJ7PBUom",
        "outputId": "7fb69e07-9016-42b8-ffcc-65b81def6bf8"
      },
      "execution_count": 23,
      "outputs": [
        {
          "output_type": "stream",
          "name": "stdout",
          "text": [
            "1 2 3 4 5 6 7 8 9 10 "
          ]
        }
      ]
    },
    {
      "cell_type": "code",
      "source": [
        "def countdown(n):\n",
        "  n=n+1\n",
        "  def count():\n",
        "      nonlocal n\n",
        "      n-=1\n",
        "      return n               \n",
        "  return count\n",
        "\n",
        "n = int(input())\n",
        " \n",
        "c = countdown(n)\n",
        "for i in range(n):\n",
        "    print(c(), end=' ')"
      ],
      "metadata": {
        "colab": {
          "base_uri": "https://localhost:8080/"
        },
        "id": "qYiJQ5uyClfo",
        "outputId": "ed9a972f-49fb-4ea5-dff8-b0727a9f0470"
      },
      "execution_count": 32,
      "outputs": [
        {
          "output_type": "stream",
          "name": "stdout",
          "text": [
            "10\n",
            "10 9 8 7 6 5 4 3 2 1 "
          ]
        }
      ]
    },
    {
      "cell_type": "code",
      "source": [
        "switch = {\n",
        "    '+': lambda x, y: x + y,    # 람다 표현식으로 실행할 코드를 작성\n",
        "    '*': lambda x, y: x * y\n",
        "    }\n",
        " \n",
        "x = '+'\n",
        "try:\n",
        "    print(switch[x](10, 20))    # 딕셔너리에 키를 지정하는 방식\n",
        "except KeyError:\n",
        "    print('default')            # 딕셔너리에 키가 없을 때는 기본값"
      ],
      "metadata": {
        "colab": {
          "base_uri": "https://localhost:8080/"
        },
        "id": "5Bh1E3knDcg9",
        "outputId": "36d252a2-7da4-4147-c67a-43edc21ef5ab"
      },
      "execution_count": 34,
      "outputs": [
        {
          "output_type": "stream",
          "name": "stdout",
          "text": [
            "30\n"
          ]
        }
      ]
    },
    {
      "cell_type": "code",
      "source": [
        "class Person: #클래스이름\n",
        "  def greeting(self): #메서드(self)\n",
        "    print(\"Hello\") #코드\n"
      ],
      "metadata": {
        "id": "WM_3mZViGtLs"
      },
      "execution_count": 35,
      "outputs": []
    },
    {
      "cell_type": "code",
      "source": [
        "james = Person() #인스턴스 = 클래스()"
      ],
      "metadata": {
        "id": "Iyb5AtNxHwsG"
      },
      "execution_count": 36,
      "outputs": []
    },
    {
      "cell_type": "code",
      "source": [
        "james.greeting() #메서드  호출하기 #인스턴스.메서드()"
      ],
      "metadata": {
        "colab": {
          "base_uri": "https://localhost:8080/"
        },
        "id": "tDO6tAHcH0KT",
        "outputId": "83b41920-b4bd-47d5-f93e-908780adda4c"
      },
      "execution_count": 38,
      "outputs": [
        {
          "output_type": "stream",
          "name": "stdout",
          "text": [
            "Hello\n"
          ]
        }
      ]
    },
    {
      "cell_type": "markdown",
      "source": [
        "- 클래스는 객체를 표현하는 문법\n",
        "- 클래스로 인스턴스를 만든다고 하니\n",
        "- 사실 인스턴스와 객체는 같은 것을 뜻\n",
        "- 보통 객체만 지칭할 때는 그냥 객체(object)\n",
        "- 클래스와 연관지어서 말할 때는 인스턴스(instance)\n",
        "- 리스트 변수 a, b가 있으면 a, b는 객체\n",
        "- a와 b는 list 클래스의 인스턴스\n"
      ],
      "metadata": {
        "id": "bvJjkhWpIMtP"
      }
    },
    {
      "cell_type": "code",
      "source": [
        "a = list(range(10))\n",
        "b = list(range(10))"
      ],
      "metadata": {
        "id": "kO3EcUm2H5X8"
      },
      "execution_count": 39,
      "outputs": []
    },
    {
      "cell_type": "markdown",
      "source": [
        "##메서드 안에서 메서드 호출하기\n",
        "- self.메서드() 형식으로 호출"
      ],
      "metadata": {
        "id": "Qa6p5_8SIy_1"
      }
    },
    {
      "cell_type": "code",
      "source": [
        "class Person:\n",
        "    def greeting(self):\n",
        "        print('Hello')\n",
        " \n",
        "    def hello(self):\n",
        "        self.greeting()    # self.메서드() 형식으로 클래스 안의 메서드를 호출\n",
        " \n",
        "james = Person()\n",
        "james.hello()    # Hello"
      ],
      "metadata": {
        "colab": {
          "base_uri": "https://localhost:8080/"
        },
        "id": "Bn6FxCNAI92X",
        "outputId": "02c5b889-d02b-4237-9419-d4184340da41"
      },
      "execution_count": 41,
      "outputs": [
        {
          "output_type": "stream",
          "name": "stdout",
          "text": [
            "Hello\n"
          ]
        }
      ]
    },
    {
      "cell_type": "markdown",
      "source": [
        "### 특정 클래스의 인스턴스인지 확인하기\n",
        "- 현재 인스턴스가 특정 클래스의 인스턴스인지 확인할 때는 isinstance 함수를 사용\n",
        "- 특정 클래스의 인스턴스가 맞으면 True, 아니면 False를 반환"
      ],
      "metadata": {
        "id": "6mXoKbTPI_7m"
      }
    },
    {
      "cell_type": "code",
      "source": [
        "##isinstance(인스턴스, 클래스)\n",
        "\n",
        "class Person:\n",
        "  pass\n",
        "\n",
        "james=Person()\n",
        "isinstance(james,Person)"
      ],
      "metadata": {
        "colab": {
          "base_uri": "https://localhost:8080/"
        },
        "id": "3bYRWwEZMTap",
        "outputId": "12b13dc9-23da-4223-bd23-9dde1ec10c1b"
      },
      "execution_count": 42,
      "outputs": [
        {
          "output_type": "execute_result",
          "data": {
            "text/plain": [
              "True"
            ]
          },
          "metadata": {},
          "execution_count": 42
        }
      ]
    },
    {
      "cell_type": "code",
      "source": [
        "def factorial(n):\n",
        "    if not isinstance(n, int) or n < 0:    # n이 정수가 아니거나 음수이면 함수를 끝냄\n",
        "        return None\n",
        "    if n == 1:\n",
        "        return 1\n",
        "    return n * factorial(n - 1)"
      ],
      "metadata": {
        "id": "SDQYooloMeYK"
      },
      "execution_count": 43,
      "outputs": []
    },
    {
      "cell_type": "markdown",
      "source": [
        "##속성 사용하기\n",
        "\n",
        "```\n",
        "class 클래스이름:\n",
        "  def __init__(self):\n",
        "    self.속성=값\n",
        "```\n",
        "\n"
      ],
      "metadata": {
        "id": "5peyKATaMtVm"
      }
    },
    {
      "cell_type": "code",
      "source": [
        "class Person:\n",
        "  def __init__(self): #__init__ 메서드는 james = Person()처럼 클래스에 ( )(괄호)를 붙여서 인스턴스를 만들 때 호출되는 특별한 메서드\n",
        "    self.hello=\"안녕하세요\" # __init__(initialize)이라는 이름 그대로 인스턴스(객체)를 초기화\n",
        "\n",
        "  def greeting(self):\n",
        "    print(self.hello)\n",
        "\n",
        "james=Person()\n",
        "james.greeting()"
      ],
      "metadata": {
        "colab": {
          "base_uri": "https://localhost:8080/"
        },
        "id": "kyhAuZp2M3SP",
        "outputId": "f2cb05a8-92a6-4f18-dbaa-faf121dbcf70"
      },
      "execution_count": 44,
      "outputs": [
        {
          "output_type": "stream",
          "name": "stdout",
          "text": [
            "안녕하세요\n"
          ]
        }
      ]
    },
    {
      "cell_type": "code",
      "source": [
        "james = Person()\n",
        "james.greeting()    # 안녕하세요."
      ],
      "metadata": {
        "colab": {
          "base_uri": "https://localhost:8080/"
        },
        "id": "r_Ktux9kODxK",
        "outputId": "eb90b541-d993-4b47-e06c-910c7c6fb63f"
      },
      "execution_count": 45,
      "outputs": [
        {
          "output_type": "stream",
          "name": "stdout",
          "text": [
            "안녕하세요\n"
          ]
        }
      ]
    },
    {
      "cell_type": "markdown",
      "source": [
        "## 인스턴스를 만들 때 값 받기\n",
        "\n",
        "\n",
        "```\n",
        "class 클래스이름:\n",
        "    def __init__(self, 매개변수1, 매개변수2):\n",
        "        self.속성1 = 매개변수1\n",
        "        self.속성2 = 매개변수2\n",
        "```\n",
        "\n"
      ],
      "metadata": {
        "id": "BWR_JNn9Q6Lx"
      }
    },
    {
      "cell_type": "code",
      "source": [
        "class Person:\n",
        "    def __init__(self, name, age, address):\n",
        "        self.hello = '안녕하세요.'\n",
        "        self.name = name\n",
        "        self.age = age\n",
        "        self.address = address\n",
        " \n",
        "    def greeting(self):\n",
        "        print('{0} 저는 {1}입니다.'.format(self.hello, self.name))\n",
        " \n",
        "maria = Person('마리아', 20, '서울시 서초구 반포동')\n",
        "maria.greeting()    # 안녕하세요. 저는 마리아입니다.\n",
        " \n",
        "print('이름:', maria.name)       # 마리아\n",
        "print('나이:', maria.age)        # 20\n",
        "print('주소:', maria.address)    # 서울시 서초구 반포동\n",
        "\n",
        "# 인스턴스 속성: 인스턴스를 통해 접근하는 속성"
      ],
      "metadata": {
        "colab": {
          "base_uri": "https://localhost:8080/"
        },
        "id": "MDRR166XO90w",
        "outputId": "ef0479ed-1e2f-48da-db77-89a0a6e22d7e"
      },
      "execution_count": 49,
      "outputs": [
        {
          "output_type": "stream",
          "name": "stdout",
          "text": [
            "안녕하세요. 저는 마리아입니다.\n",
            "이름: 마리아\n",
            "나이: 20\n",
            "주소: 서울시 서초구 반포동\n"
          ]
        }
      ]
    },
    {
      "cell_type": "code",
      "source": [
        "#클래스의 위치 인수, 키워드 인수\n",
        "#클래스로 인스턴스를 만들 때 위치 인수와 키워드 인수를 사용\n",
        "#인수와 리스트 언패킹을 사용하려면 다음과 같이 *args를 사용\n",
        "\n",
        "#매개변수에서 값을 가져오려면 args[0]처럼 사용\n",
        "\n",
        "class Person:\n",
        "    def __init__(self, *args):\n",
        "        self.name = args[0]\n",
        "        self.age = args[1]\n",
        "        self.address = args[2]\n",
        " \n",
        "maria = Person(*['마리아', 20, '서울시 서초구 반포동'])"
      ],
      "metadata": {
        "id": "Tllc4lvCRr5J"
      },
      "execution_count": 48,
      "outputs": []
    },
    {
      "cell_type": "code",
      "source": [
        "#키워드 인수와 딕셔너리 언패킹을 사용-> **kwargs를 사용\n",
        "#이때 매개변수에서 값을 가져오려면 kwargs['name']처럼 사용해야 합니다.\n",
        "\n",
        "class Person:\n",
        "    def __init__(self, **kwargs):    # 키워드 인수\n",
        "        self.name = kwargs['name']\n",
        "        self.age = kwargs['age']\n",
        "        self.address = kwargs['address']\n",
        " \n",
        "maria1 = Person(name='마리아', age=20, address='서울시 서초구 반포동')\n",
        "maria2 = Person(**{'name': '마리아', 'age': 20, 'address': '서울시 서초구 반포동'})"
      ],
      "metadata": {
        "id": "3mOrWr6xSZy2"
      },
      "execution_count": 50,
      "outputs": []
    },
    {
      "cell_type": "code",
      "source": [
        "# 인스턴스를 생성한 뒤에 속성 추가하기, 특정 속성만 허용하기\n",
        "# 지금까지 클래스의 인스턴스 속성은 __init__ 메서드에서 추가한 뒤 사용\n",
        "# 인스턴스.속성 = 값 형식으로 속성을 계속 추가"
      ],
      "metadata": {
        "id": "WmyfDke9SvZh"
      },
      "execution_count": 52,
      "outputs": []
    },
    {
      "cell_type": "code",
      "source": [
        "class Person:\n",
        "  pass\n",
        "\n",
        "maria=Person()\n",
        "maria.name=\"마리아\"\n",
        "maria.name\n"
      ],
      "metadata": {
        "colab": {
          "base_uri": "https://localhost:8080/",
          "height": 36
        },
        "id": "y78Nlx-CTFmK",
        "outputId": "219a81f3-22b2-43df-d35f-a354cccc50ee"
      },
      "execution_count": 55,
      "outputs": [
        {
          "output_type": "execute_result",
          "data": {
            "text/plain": [
              "'마리아'"
            ],
            "application/vnd.google.colaboratory.intrinsic+json": {
              "type": "string"
            }
          },
          "metadata": {},
          "execution_count": 55
        }
      ]
    },
    {
      "cell_type": "markdown",
      "source": [
        "\n",
        "- 인스턴스는 생성한 뒤에 속성을 추가\n",
        "```\n",
        ">>> class Person:\n",
        "...     def greeting(self):\n",
        "...         self.hello = '안녕하세요'    # greeting 메서드에서 hello 속성 추가\n",
        "...\n",
        ">>> maria = Person()\n",
        ">>> maria.hello    # 아직 hello 속성이 없음\n",
        "Traceback (most recent call last):\n",
        "  File \"<pyshell#22>\", line 1, in <module>\n",
        "    maria.hello\n",
        "AttributeError: 'Person' object has no attribute 'hello'\n",
        ">>> maria.greeting()    # greeting 메서드를 호출해야\n",
        ">>> maria.hello         # hello 속성이 생성됨\n",
        "'안녕하세요'\n",
        "```\n",
        "\n"
      ],
      "metadata": {
        "id": "EG6fMOrLUsjH"
      }
    },
    {
      "cell_type": "markdown",
      "source": [
        "- 인스턴스는 자유롭게 속성을 추가할 수 있지만 특정 속성만 허용하고 다른 속성은 제한하고 싶을 수도 있습니다.\n",
        "- __slots__에 허용할 속성 이름을 리스트로 넣어주면 됩니다. \n",
        "\n",
        "\n",
        "```\n",
        ">>> class Person:\n",
        "...     __slots__ = ['name', 'age']    # name, age만 허용(다른 속성은 생성 제한)\n",
        "...\n",
        ">>> maria = Person()\n",
        ">>> maria.name = '마리아'                     # 허용된 속성\n",
        ">>> maria.age = 20                            # 허용된 속성\n",
        ">>> maria.address = '서울시 서초구 반포동'    # 허용되지 않은 속성은 추가할 때 에러가 발생함\n",
        "Traceback (most recent call last):\n",
        "  File \"<pyshell#32>\", line 1, in <module>\n",
        "    maria.address = '서울시 서초구 반포동'\n",
        "AttributeError: 'Person' object has no attribute 'address'\n",
        "```\n",
        "\n"
      ],
      "metadata": {
        "id": "Q6n0mqY5Uzrn"
      }
    },
    {
      "cell_type": "code",
      "source": [
        "class Person:\n",
        "    def __init__(self, name, age, address):\n",
        "        self.hello = '안녕하세요.'\n",
        "        self.name = name\n",
        "        self.age = age\n",
        "        self.address = address"
      ],
      "metadata": {
        "id": "vMzD6PxWUsYO"
      },
      "execution_count": 56,
      "outputs": []
    },
    {
      "cell_type": "code",
      "source": [
        "maria = Person('마리아', 20, '서울시 서초구 반포동')\n",
        "maria.name"
      ],
      "metadata": {
        "colab": {
          "base_uri": "https://localhost:8080/",
          "height": 36
        },
        "id": "cdjgZ75FU8lj",
        "outputId": "64edf12f-0bc9-4c75-9029-c0e9bcb83b9a"
      },
      "execution_count": 57,
      "outputs": [
        {
          "output_type": "execute_result",
          "data": {
            "text/plain": [
              "'마리아'"
            ],
            "application/vnd.google.colaboratory.intrinsic+json": {
              "type": "string"
            }
          },
          "metadata": {},
          "execution_count": 57
        }
      ]
    },
    {
      "cell_type": "markdown",
      "source": [
        "- 클래스 바깥에서는 접근할 수 없고 클래스 안에서만 사용할 수 있는 비공개 속성(private attribute)\n",
        "\n",
        "- 비공개 속성은 __속성과 같이 이름이 __(밑줄 두 개)로 시작"
      ],
      "metadata": {
        "id": "4W_5ic2vVIKz"
      }
    },
    {
      "cell_type": "code",
      "source": [
        "class Person:\n",
        "    def __init__(self, name, age, address, wallet):\n",
        "        self.name = name\n",
        "        self.age = age\n",
        "        self.address = address\n",
        "        self.__wallet = wallet    # 변수 앞에 __를 붙여서 비공개 속성으로 만듦\n",
        " \n",
        "maria = Person('마리아', 20, '서울시 서초구 반포동', 10000)\n",
        "# maria.__wallet -= 10000    # 클래스 바깥에서 비공개 속성에 접근하면 에러가 발생함"
      ],
      "metadata": {
        "id": "lucsbD0HVAe1"
      },
      "execution_count": 59,
      "outputs": []
    },
    {
      "cell_type": "code",
      "source": [
        "class Person:\n",
        "    def __init__(self, name, age, address, wallet):\n",
        "        self.name = name\n",
        "        self.age = age\n",
        "        self.address = address\n",
        "        self.__wallet = wallet    # 변수 앞에 __를 붙여서 비공개 속성으로 만듦\n",
        " \n",
        "    def pay(self, amount):\n",
        "        self.__wallet -= amount   # 비공개 속성은 클래스 안의 메서드에서만 접근할 수 있음\n",
        "        print('이제 {0}원 남았네요.'.format(self.__wallet))\n",
        " \n",
        "maria = Person('마리아', 20, '서울시 서초구 반포동', 10000)\n",
        "maria.pay(3000)"
      ],
      "metadata": {
        "colab": {
          "base_uri": "https://localhost:8080/"
        },
        "id": "3441RILkVStw",
        "outputId": "d611e152-2b55-4c65-a7d2-18100eb7393f"
      },
      "execution_count": 60,
      "outputs": [
        {
          "output_type": "stream",
          "name": "stdout",
          "text": [
            "이제 7000원 남았네요.\n"
          ]
        }
      ]
    },
    {
      "cell_type": "code",
      "source": [
        "def pay(self, amount):\n",
        "    if amount > self.__wallet:    # 사용하려고 하는 금액보다 지갑에 든 돈이 적을 때\n",
        "        print('돈이 모자라네...')\n",
        "        return\n",
        "    self.__wallet -= amount # 즉, 중요한 값인데 바깥에서 함부로 바꾸면 안될 때 비공개 속성을 주로 사용\n",
        "\n",
        "# 클래스는 특정 개념을 표현(정의)만 할 뿐 사용을 하려면 인스턴스로 만들어야 한다는 점이 중요\n",
        "# 속성, 메서드를 사용할 때는 self와 인스턴스를 통해 사용해야 한다는 점"
      ],
      "metadata": {
        "id": "A5rWo9gfVcEv"
      },
      "execution_count": 64,
      "outputs": []
    },
    {
      "cell_type": "markdown",
      "source": [
        "##### 공개 속성과 비공개 속성\n",
        "- 클래스 바깥에서 접근할 수 있는 속성을 공개 속성(public attribute)이라 부르고, 클래스 안에서만 접근할 수 있는 속성을 비공개 속성(private attribute)\n"
      ],
      "metadata": {
        "id": "SN7dUq_qYmuy"
      }
    },
    {
      "cell_type": "code",
      "source": [
        "# __(밑줄 두 개)로 시작하면 클래스 안에서만 호출할 수 있는 비공개 메서드 사용하기\n",
        "\n",
        "class Person:\n",
        "    def __greeting(self):\n",
        "        print('Hello')\n",
        " \n",
        "    def hello(self):\n",
        "        self.__greeting()    # 클래스 안에서는 비공개 메서드를 호출할 수 있음\n",
        " \n",
        "james = Person()\n",
        "# james.__greeting()    # 에러: 클래스 바깥에서는 비공개 메서드를 호출할 수 없음"
      ],
      "metadata": {
        "id": "xFsZ9g6XYFDG"
      },
      "execution_count": 66,
      "outputs": []
    },
    {
      "cell_type": "code",
      "source": [
        "class Knight:\n",
        "  def __init__(self,health,mana,armor):\n",
        "    self.health=health\n",
        "    self.mana=mana\n",
        "    self.armor=armor\n",
        "  \n",
        "  def slash(self):\n",
        "    print(\"베기\")\n",
        "    \n",
        " \n",
        "x = Knight(health=542.4, mana=210.3, armor=38)\n",
        "print(x.health, x.mana, x.armor)\n",
        "x.slash()"
      ],
      "metadata": {
        "colab": {
          "base_uri": "https://localhost:8080/"
        },
        "id": "4RhkqAdmY5bY",
        "outputId": "b96f18ce-0502-497b-aa91-76afae34b896"
      },
      "execution_count": 69,
      "outputs": [
        {
          "output_type": "stream",
          "name": "stdout",
          "text": [
            "542.4 210.3 38\n",
            "베기\n"
          ]
        }
      ]
    },
    {
      "cell_type": "code",
      "source": [
        "class Annie:\n",
        "  def __init__(self,health,mana,ability_power):\n",
        "    self.health=health\n",
        "    self.mana=mana\n",
        "    self.ability_power=ability_power\n",
        "  \n",
        "  def tibbers(self):\n",
        "    print(\"티버: 피해량 \",self.ability_power * 0.65 + 400)\n",
        "    \n",
        "\n",
        "health, mana, ability_power = map(float, input().split())\n",
        " \n",
        "x = Annie(health=health, mana=mana, ability_power=ability_power)\n",
        "x.tibbers()"
      ],
      "metadata": {
        "colab": {
          "base_uri": "https://localhost:8080/"
        },
        "id": "YGeEuhuqafEG",
        "outputId": "806a4aa6-9830-4987-e363-e2c623259055"
      },
      "execution_count": 71,
      "outputs": [
        {
          "output_type": "stream",
          "name": "stdout",
          "text": [
            "511.68 334.0 298\n",
            "티버: 피해량  593.7\n"
          ]
        }
      ]
    },
    {
      "cell_type": "markdown",
      "source": [
        "### 클래스 속성 사용하기\n",
        "\n",
        "\n",
        "\n",
        "```\n",
        "class 클래스이름:\n",
        "    속성 = 값\n",
        "```\n",
        "\n",
        "\n"
      ],
      "metadata": {
        "id": "npFA9fOQccR6"
      }
    },
    {
      "cell_type": "code",
      "source": [
        "class Person:\n",
        "    bag = []\n",
        " \n",
        "    def put_bag(self, stuff):\n",
        "        self.bag.append(stuff)\n",
        " \n",
        "james = Person()\n",
        "james.put_bag('책')\n",
        " \n",
        "maria = Person()\n",
        "maria.put_bag('열쇠')\n",
        " \n",
        "print(james.bag)\n",
        "print(maria.bag)\n",
        "\n",
        "\n",
        "#즉, 클래스 속성은 클래스에 속해 있으며 모든 인스턴스에서 공유합니다."
      ],
      "metadata": {
        "colab": {
          "base_uri": "https://localhost:8080/"
        },
        "id": "U8StdHcScjjA",
        "outputId": "390d8622-fc12-4fda-80f8-295e8658ca30"
      },
      "execution_count": 73,
      "outputs": [
        {
          "output_type": "stream",
          "name": "stdout",
          "text": [
            "['책', '열쇠']\n",
            "['책', '열쇠']\n"
          ]
        }
      ]
    },
    {
      "cell_type": "code",
      "source": [
        "#클래스.속성\n",
        "\n",
        "class Person:\n",
        "    bag = []\n",
        " \n",
        "    def put_bag(self, stuff):\n",
        "        Person.bag.append(stuff)    # 클래스 이름으로 클래스 속성에 접근"
      ],
      "metadata": {
        "id": "jRLaYr89drHt"
      },
      "execution_count": 74,
      "outputs": []
    },
    {
      "cell_type": "code",
      "source": [
        "print(Person.bag)\n",
        "#파이썬에서는 속성, 메서드 이름을 찾을 때 인스턴스, 클래스 순으로 찾습니다.\n",
        "#인스턴스와 클래스에서 __dict__ 속성을 출력해보면 현재 인스턴스와 클래스의 속성을 딕셔너리로 확인"
      ],
      "metadata": {
        "colab": {
          "base_uri": "https://localhost:8080/"
        },
        "id": "g_xvozJXebSD",
        "outputId": "1a077084-6642-4dc0-cd8e-85c283f4d927"
      },
      "execution_count": 77,
      "outputs": [
        {
          "output_type": "stream",
          "name": "stdout",
          "text": [
            "[]\n"
          ]
        }
      ]
    },
    {
      "cell_type": "code",
      "source": [
        "james.__dict__"
      ],
      "metadata": {
        "colab": {
          "base_uri": "https://localhost:8080/"
        },
        "id": "WeecIVgaed5k",
        "outputId": "209aaa7c-d6b8-4866-99b0-e4b00e9732c7"
      },
      "execution_count": 78,
      "outputs": [
        {
          "output_type": "execute_result",
          "data": {
            "text/plain": [
              "{}"
            ]
          },
          "metadata": {},
          "execution_count": 78
        }
      ]
    },
    {
      "cell_type": "code",
      "source": [
        "Person.__dict__"
      ],
      "metadata": {
        "colab": {
          "base_uri": "https://localhost:8080/"
        },
        "id": "xA0mvUiCeuDr",
        "outputId": "93bbb30e-735e-4ffd-85c5-c0473525972b"
      },
      "execution_count": 79,
      "outputs": [
        {
          "output_type": "execute_result",
          "data": {
            "text/plain": [
              "mappingproxy({'__module__': '__main__',\n",
              "              'bag': [],\n",
              "              'put_bag': <function __main__.Person.put_bag(self, stuff)>,\n",
              "              '__dict__': <attribute '__dict__' of 'Person' objects>,\n",
              "              '__weakref__': <attribute '__weakref__' of 'Person' objects>,\n",
              "              '__doc__': None})"
            ]
          },
          "metadata": {},
          "execution_count": 79
        }
      ]
    },
    {
      "cell_type": "code",
      "source": [
        "#bag을 인스턴스 속성\n",
        "\n",
        "class Person:\n",
        "    def __init__(self): #인스턴스 속성\n",
        "        self.bag = []\n",
        " \n",
        "    def put_bag(self, stuff):\n",
        "        self.bag.append(stuff)\n",
        " \n",
        "james = Person()\n",
        "james.put_bag('책')\n",
        " \n",
        "maria = Person()\n",
        "maria.put_bag('열쇠')\n",
        " \n",
        "print(james.bag)\n",
        "print(maria.bag)\n",
        "\n",
        "#인스턴스 속성은 인스턴스별로 독립되어 있으며 서로 영향을 주지 않습니다."
      ],
      "metadata": {
        "colab": {
          "base_uri": "https://localhost:8080/"
        },
        "id": "v4JcOIc_ev7o",
        "outputId": "b0187563-4be9-4ac8-db97-0b0fdd7d844c"
      },
      "execution_count": 84,
      "outputs": [
        {
          "output_type": "stream",
          "name": "stdout",
          "text": [
            "['책']\n",
            "['열쇠']\n"
          ]
        }
      ]
    },
    {
      "cell_type": "markdown",
      "source": [
        "- 클래스 속성: 모든 인스턴스가 공유. 인스턴스 전체가 사용해야 하는 값을 저장할 때 사용\n",
        "- 인스턴스 속성: 인스턴스별로 독립되어 있음. 각 인스턴스가 값을 따로 저장해야 할 때 사용"
      ],
      "metadata": {
        "id": "RCHaMrWXf1pL"
      }
    },
    {
      "cell_type": "markdown",
      "source": [
        "\n",
        "\n",
        "```\n",
        "class 클래스이름:\n",
        "    __속성 = 값    # 비공개 클래스 속성\n",
        "```\n",
        "\n"
      ],
      "metadata": {
        "id": "vaVAXKBHgTvA"
      }
    },
    {
      "cell_type": "code",
      "source": [
        "class Knight:\n",
        "    __item_limit = 10    # 비공개 클래스 속성\n",
        " \n",
        "    def print_item_limit(self):\n",
        "        print(Knight.__item_limit)    # 클래스 안에서만 접근할 수 있음\n",
        " \n",
        " \n",
        "x = Knight()\n",
        "x.print_item_limit()    # 10\n",
        " \n",
        "# print(Knight.__item_limit)    # 클래스 바깥에서는 접근할 수 없음\n",
        "###공개 클래스 속성은 클래스 바깥으로 드러내고 싶지 않은 값에 사용"
      ],
      "metadata": {
        "colab": {
          "base_uri": "https://localhost:8080/"
        },
        "id": "HUr_qCKIfp9x",
        "outputId": "2afa3fec-992d-4081-b293-0e582f26cbfa"
      },
      "execution_count": 87,
      "outputs": [
        {
          "output_type": "stream",
          "name": "stdout",
          "text": [
            "10\n"
          ]
        }
      ]
    },
    {
      "cell_type": "code",
      "source": [
        "#클래스와 메서드의 독스트링 사용\n",
        "\n",
        "class Person:\n",
        "    '''사람 클래스입니다.'''\n",
        "    \n",
        "    def greeting(self):\n",
        "        '''인사 메서드입니다.'''\n",
        "        print('Hello')\n",
        " \n",
        "print(Person.__doc__)             # 사람 클래스입니다.\n",
        "print(Person.greeting.__doc__)    # 인사 메서드입니다.\n",
        " \n",
        "maria = Person()\n",
        "print(maria.greeting.__doc__)     # 인사 메서드입니다."
      ],
      "metadata": {
        "colab": {
          "base_uri": "https://localhost:8080/"
        },
        "id": "T_sdM962ghUw",
        "outputId": "5f01c986-70ff-431a-fa38-90b8445cf836"
      },
      "execution_count": 88,
      "outputs": [
        {
          "output_type": "stream",
          "name": "stdout",
          "text": [
            "사람 클래스입니다.\n",
            "인사 메서드입니다.\n",
            "인사 메서드입니다.\n"
          ]
        }
      ]
    },
    {
      "cell_type": "markdown",
      "source": [
        "####인스턴스를 통하지 않고 클래스에서 바로 호출할 수 있는 정적 메서드와 클래스 메서드\n",
        "\n",
        "###정적 메서드\n",
        "\n",
        "```\n",
        "class 클래스이름:\n",
        "    @staticmethod\n",
        "    def 메서드(매개변수1, 매개변수2):\n",
        "        코드\n",
        "```\n",
        "\n",
        "@staticmethod처럼 앞에 @이 붙은 것을 데코레이터라고 하며 메서드(함수)에 추가 기능을 구현할 때 사용"
      ],
      "metadata": {
        "id": "x-5Z8_FdhA6g"
      }
    },
    {
      "cell_type": "code",
      "source": [
        "class Calc:\n",
        "    @staticmethod\n",
        "    def add(a, b):\n",
        "        print(a + b)\n",
        " \n",
        "    @staticmethod\n",
        "    def mul(a, b):\n",
        "        print(a * b)\n",
        " \n",
        "Calc.add(10, 20)    # 클래스에서 바로 메서드 호출\n",
        "Calc.mul(10, 20)    # 클래스에서 바로 메서드 호출"
      ],
      "metadata": {
        "colab": {
          "base_uri": "https://localhost:8080/"
        },
        "id": "nf0liZ9nhPI2",
        "outputId": "08d2329d-18d0-4309-9d0a-b386765fde26"
      },
      "execution_count": 89,
      "outputs": [
        {
          "output_type": "stream",
          "name": "stdout",
          "text": [
            "30\n",
            "200\n"
          ]
        }
      ]
    },
    {
      "cell_type": "markdown",
      "source": [
        "###Calc 클래스에서 @staticmethod를 붙여서 add 메서드와 mul 메서드를 만듬\n",
        "\n",
        "### 클래스.메서드()\n",
        "\n",
        "\n",
        "```\n",
        "Calc.add(10, 20)    # 클래스에서 바로 메서드 호출\n",
        "Calc.mul(10, 20)    # 클래스에서 바로 메서드 호출\n",
        "```\n",
        "\n",
        "\n",
        "###정적 메서드는 self를 받지 않으므로 인스턴스 속성에는 접근할 수 없음\n",
        "###그래서 보통 정적 메서드는 인스턴스 속성, 인스턴스 메서드가 필요 없을 때 사용\n",
        "###정적 메서드는 인스턴스의 상태를 변화시키지 않는 메서드를 만들 때 사용"
      ],
      "metadata": {
        "id": "9F6qPr61hzDC"
      }
    },
    {
      "cell_type": "code",
      "source": [
        "# 파이썬 자료형의 인스턴스 메서드와 정적 메서드\n",
        "\n",
        "#세트에 요소를 더할 때는 인스턴스 메서드를 사용하고, 합집합을 구할 때는 정적 메서드를 사용하도록 만들어져 있음\n",
        "a = {1, 2, 3, 4}\n",
        "a.update({5})    # 인스턴스 메서드\n",
        "a\n",
        "\n",
        "set.union({1, 2, 3, 4}, {5})    # 정적(클래스) 메서드\n",
        "\n",
        "##인스턴스의 내용을 변경해야 할 때는 update와 같이 인스턴스 메서드로 작성하면 되고, 인스턴스 내용과는 상관없이 결과만 구하면 될 때는 set.union과 같이 정적 메서드로 작성하면 됩니다."
      ],
      "metadata": {
        "colab": {
          "base_uri": "https://localhost:8080/"
        },
        "id": "B6sQXMqMhksd",
        "outputId": "d814ce84-b22c-45ab-d909-c581b1a05472"
      },
      "execution_count": 92,
      "outputs": [
        {
          "output_type": "execute_result",
          "data": {
            "text/plain": [
              "{1, 2, 3, 4, 5}"
            ]
          },
          "metadata": {},
          "execution_count": 92
        }
      ]
    },
    {
      "cell_type": "markdown",
      "source": [
        "######클래스 메서드\n",
        "######  @classmethod\n",
        "###### 클래스 메서드는 첫 번째 매개변수에 cls를 지정해야 합니다(cls는 class에서 따왔습니다).\n",
        "\n",
        "\n",
        "\n",
        "```\n",
        "lass 클래스이름:\n",
        "    @classmethod\n",
        "    def 메서드(cls, 매개변수1, 매개변수2):\n",
        "        코드\n",
        "```\n",
        "\n"
      ],
      "metadata": {
        "id": "SPZu6LMCiiCC"
      }
    },
    {
      "cell_type": "code",
      "source": [
        "class Person:\n",
        "    count = 0    # 클래스 속성\n",
        " \n",
        "    def __init__(self):\n",
        "        Person.count += 1    # 인스턴스가 만들어질 때\n",
        "                             # 클래스 속성 count에 1을 더함\n",
        " \n",
        "    @classmethod\n",
        "    def print_count(cls):\n",
        "        print('{0}명 생성되었습니다.'.format(cls.count))    # cls로 클래스 속성에 접근\n",
        " \n",
        "james = Person()\n",
        "maria = Person()\n",
        " \n",
        "Person.print_count()    # 2명 생성되었습니다."
      ],
      "metadata": {
        "colab": {
          "base_uri": "https://localhost:8080/"
        },
        "id": "KRBgcRu6iffG",
        "outputId": "8f603db9-cb26-497f-e2ef-a86dfc02f4e8"
      },
      "execution_count": 94,
      "outputs": [
        {
          "output_type": "stream",
          "name": "stdout",
          "text": [
            "2명 생성되었습니다.\n"
          ]
        }
      ]
    },
    {
      "cell_type": "markdown",
      "source": [
        "######클래스 메서드는 정적 메서드처럼 인스턴스 없이 호출할 수 있음\n",
        "######하지만 클래스 메서드는 메서드 안에서 클래스 속성,\n",
        "###### 클래스 메서드에 접근해야 할 때 사용\n",
        "\n",
        "\n",
        "\n",
        "```\n",
        "@classmethod\n",
        "    def create(cls):\n",
        "        p = cls()    # cls()로 인스턴스 생성\n",
        "        return p\n",
        "```\n",
        "\n"
      ],
      "metadata": {
        "id": "qIB2dfWxjH6N"
      }
    },
    {
      "cell_type": "code",
      "source": [
        "class Date:\n",
        "                                                                \n",
        "  @staticmethod\n",
        "  def is_date_valid(date_string):\n",
        "    year,month,day=map(int,date_string.split(\"-\"))\n",
        "    return month <=12 and day <=31                                                                \n",
        " \n",
        "if Date.is_date_valid('2000-10-31'):\n",
        "    print('올바른 날짜 형식입니다.')\n",
        "else:\n",
        "    print('잘못된 날짜 형식입니다.')"
      ],
      "metadata": {
        "colab": {
          "base_uri": "https://localhost:8080/"
        },
        "id": "9u_TUeZVjUa4",
        "outputId": "05a27840-49d4-4974-d476-0e81a8ebc2f9"
      },
      "execution_count": 95,
      "outputs": [
        {
          "output_type": "stream",
          "name": "stdout",
          "text": [
            "올바른 날짜 형식입니다.\n"
          ]
        }
      ]
    },
    {
      "cell_type": "code",
      "source": [
        "class Time:\n",
        "    def __init__(self, hour, minute, second):\n",
        "        self.hour = hour\n",
        "        self.minute = minute\n",
        "        self.second = second\n",
        " \n",
        "    @staticmethod\n",
        "    def is_time_valid(time_string):\n",
        "      return int(time_string.split(\":\")[0])<=24 and int(time_string.split(\":\")[1])<=59 and int(time_string.split(':')[2])<=60\n",
        "\n",
        "\n",
        "    @classmethod\n",
        "    def from_string(cls,time_string):\n",
        "      hour,minute,second=map(int,time_string.split(\":\"))\n",
        "      time=cls(hour,minute,second)\n",
        "      return time\n",
        "\n",
        "time_string = input()\n",
        " \n",
        "if Time.is_time_valid(time_string):\n",
        "    t = Time.from_string(time_string)\n",
        "    print(t.hour, t.minute, t.second)\n",
        "else:\n",
        "    print('잘못된 시간 형식입니다.')"
      ],
      "metadata": {
        "colab": {
          "base_uri": "https://localhost:8080/"
        },
        "id": "GkmzxHaYmDUI",
        "outputId": "4b8f42dc-a575-43ba-f0a0-e3c088fb6f9c"
      },
      "execution_count": 101,
      "outputs": [
        {
          "output_type": "stream",
          "name": "stdout",
          "text": [
            "12:52:45\n",
            "12 52 45\n"
          ]
        }
      ]
    },
    {
      "cell_type": "markdown",
      "source": [
        "#######클래스 상속 사용하기\n",
        "######클래스 상속(inheritance)을 사용 \n",
        "\n",
        "#####클래스 상속은 다음과 같이 클래스를 만들 때 ( )(괄호)를 붙이고 안에 기반 클래스 이름을 넣습니다\n",
        "\n",
        "\n",
        "\n",
        "```\n",
        "class 기반클래스이름:\n",
        "    코드\n",
        " \n",
        "class 파생클래스이름(기반클래스이름):\n",
        "    코드\n",
        "```\n",
        "\n"
      ],
      "metadata": {
        "id": "xQhQMcNvwuby"
      }
    },
    {
      "cell_type": "code",
      "source": [
        "class Person:\n",
        "    def greeting(self):\n",
        "        print('안녕하세요.')\n",
        " \n",
        "class Student(Person):  #파생 클래스\n",
        "    def study(self):\n",
        "        print('공부하기')\n",
        " \n",
        "james = Student()\n",
        "james.greeting()    # 안녕하세요.: 기반 클래스 Person의 메서드 호출\n",
        "james.study()       # 공부하기: 파생 클래스 Student에 추가한 study 메서드\n",
        "\n"
      ],
      "metadata": {
        "colab": {
          "base_uri": "https://localhost:8080/"
        },
        "id": "mEXyJWT6ulai",
        "outputId": "0d9d9aae-a978-4032-8e38-177df24ff2ba"
      },
      "execution_count": 102,
      "outputs": [
        {
          "output_type": "stream",
          "name": "stdout",
          "text": [
            "안녕하세요.\n",
            "공부하기\n"
          ]
        }
      ]
    },
    {
      "cell_type": "markdown",
      "source": [
        "#상속 관계 확인하기\n",
        "- 클래스의 상속 관계를 확인하고 싶을 때는 issubclass 함수를 사용\n",
        "- 클래스가 기반 클래스의 파생 클래스인지 확인\n",
        "- 기반 클래스의 파생 클래스가 맞으면 True, 아니면 False를 반환\n",
        "\n",
        "\n",
        "\n",
        "```\n",
        "issubclass(파생클래스, 기반클래스)\n",
        "```\n",
        "\n"
      ],
      "metadata": {
        "id": "XIH_X258xk12"
      }
    },
    {
      "cell_type": "code",
      "source": [
        "issubclass(Student,Person)"
      ],
      "metadata": {
        "colab": {
          "base_uri": "https://localhost:8080/"
        },
        "id": "72syx8Dbx3Zb",
        "outputId": "7b8b041a-0849-412f-d5dd-5a8896d2aee3"
      },
      "execution_count": 104,
      "outputs": [
        {
          "output_type": "execute_result",
          "data": {
            "text/plain": [
              "True"
            ]
          },
          "metadata": {},
          "execution_count": 104
        }
      ]
    },
    {
      "cell_type": "code",
      "source": [
        "class Person:\n",
        "    def greeting(self):\n",
        "        print('안녕하세요.')\n",
        " \n",
        "class Student(Person):\n",
        "    def study(self):\n",
        "        print('공부하기')"
      ],
      "metadata": {
        "id": "7XnakkPQxV64"
      },
      "execution_count": 105,
      "outputs": []
    },
    {
      "cell_type": "code",
      "source": [
        "#포함관계\n",
        "##학생 클래스가 아니라 사람목록을 관리하는 클래스를 만든다는데, 같이 리스트 속성에 Person 인스턴스를 넣어서 관리\n",
        "\n",
        "class Person:\n",
        "    def greeting(self):\n",
        "        print('안녕하세요.')\n",
        " \n",
        "class PersonList:\n",
        "    def __init__(self):\n",
        "        self.person_list = []    # 리스트 속성에 Person 인스턴스를 넣어서 관리\n",
        " \n",
        "    def append_person(self, person):    # 리스트 속성에 Person 인스턴스를 추가하는 함수\n",
        "        self.person_list.append(person)"
      ],
      "metadata": {
        "id": "SypRcrrdyFGg"
      },
      "execution_count": 106,
      "outputs": []
    },
    {
      "cell_type": "code",
      "source": [
        "class Person:\n",
        "    def __init__(self):\n",
        "        print('Person __init__')\n",
        "        self.hello = '안녕하세요.'\n",
        " \n",
        "class Student(Person):\n",
        "    def __init__(self):\n",
        "        print('Student __init__')\n",
        "        self.school = '파이썬 코딩 도장'\n",
        " \n",
        "james = Student()\n",
        "print(james.school)\n",
        "# print(james.hello)    # 기반 클래스의 속성을 출력하려고 하면 에러가 발생함"
      ],
      "metadata": {
        "colab": {
          "base_uri": "https://localhost:8080/"
        },
        "id": "lvAch1hV0QJo",
        "outputId": "3650cd61-4bad-4dff-f19e-1258eae90a3e"
      },
      "execution_count": 108,
      "outputs": [
        {
          "output_type": "stream",
          "name": "stdout",
          "text": [
            "Student __init__\n",
            "파이썬 코딩 도장\n"
          ]
        }
      ]
    },
    {
      "cell_type": "code",
      "source": [
        "#super()로 기반 클래스 초기화 하기\n",
        "# super().메서드\n",
        "\n",
        "class Person:\n",
        "  def __init__(self):\n",
        "    print(\"Person__init__\")\n",
        "    self.hello=\"안녕하세요\"\n",
        "\n",
        "class Student(Person):\n",
        "    def __init__(self):\n",
        "        print('Student __init__')\n",
        "        super().__init__()                # super()로 기반 클래스의 __init__ 메서드 호출\n",
        "        self.school = '파이썬 코딩 도장'\n",
        " \n",
        "james = Student()\n",
        "print(james.school)\n",
        "print(james.hello)"
      ],
      "metadata": {
        "colab": {
          "base_uri": "https://localhost:8080/"
        },
        "id": "VDCIADeM1GDe",
        "outputId": "a06bda02-d964-46e9-d1ce-2090919f5f3d"
      },
      "execution_count": 109,
      "outputs": [
        {
          "output_type": "stream",
          "name": "stdout",
          "text": [
            "Student __init__\n",
            "Person__init__\n",
            "파이썬 코딩 도장\n",
            "안녕하세요\n"
          ]
        }
      ]
    },
    {
      "cell_type": "code",
      "source": [
        "#기반 클래스를 초기화하지 않아도 되는 경우\n",
        "### 만약 파생 클래스에서 __init__ 메서드를 생략한다면 기반 클래스의 __init__이 자동으로 호출되므로 super()는 사용하지 않음\n",
        "\n",
        "class Person:\n",
        "    def __init__(self):\n",
        "        print('Person __init__')\n",
        "        self.hello = '안녕하세요.'\n",
        " \n",
        "class Student(Person):\n",
        "    pass\n",
        " \n",
        "james = Student()\n",
        "print(james.hello)"
      ],
      "metadata": {
        "colab": {
          "base_uri": "https://localhost:8080/"
        },
        "id": "IW_vlYFI3dU1",
        "outputId": "f3fb4ccb-3f6e-42ba-f12c-785a3d01b6da"
      },
      "execution_count": 112,
      "outputs": [
        {
          "output_type": "stream",
          "name": "stdout",
          "text": [
            "Person __init__\n",
            "안녕하세요.\n"
          ]
        }
      ]
    },
    {
      "cell_type": "code",
      "source": [
        "#명확하게 super 사용하기\n",
        "#super는 다음과 같이 파생 클래스와 self를 넣어서 현재 클래스가 어떤 클래스인지 명확하게 표시하는 방법도 있습니다. \n",
        "#물론 super()와 기능은 같음\n",
        "\n",
        "##super(파생클래스, self).메서드##\n",
        "\n",
        "class Student(Person):\n",
        "    def __init__(self):\n",
        "        print('Student __init__')\n",
        "        super(Student, self).__init__()     # super(파생클래스, self)로 기반 클래스의 메서드 호출\n",
        "        self.school = '파이썬 코딩 도장'"
      ],
      "metadata": {
        "id": "j1sS6fBQ3h1t"
      },
      "execution_count": 113,
      "outputs": []
    },
    {
      "cell_type": "markdown",
      "source": [
        "### 36.3 까지 했음 (곧 update 예정)"
      ],
      "metadata": {
        "id": "M6pAI0RE4NfB"
      }
    }
  ]
}