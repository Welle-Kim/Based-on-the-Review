{
  "nbformat": 4,
  "nbformat_minor": 0,
  "metadata": {
    "colab": {
      "provenance": [],
      "authorship_tag": "ABX9TyNt+Y+hFf7PmmCDRswA/9UN",
      "include_colab_link": true
    },
    "kernelspec": {
      "name": "python3",
      "display_name": "Python 3"
    },
    "language_info": {
      "name": "python"
    }
  },
  "cells": [
    {
      "cell_type": "markdown",
      "metadata": {
        "id": "view-in-github",
        "colab_type": "text"
      },
      "source": [
        "<a href=\"https://colab.research.google.com/github/Welle-Kim/Based-on-the-Review/blob/master/For_query_with_Sprinkler.ipynb\" target=\"_parent\"><img src=\"https://colab.research.google.com/assets/colab-badge.svg\" alt=\"Open In Colab\"/></a>"
      ]
    },
    {
      "cell_type": "code",
      "execution_count": 96,
      "metadata": {
        "colab": {
          "base_uri": "https://localhost:8080/"
        },
        "id": "eqyar04XZlVI",
        "outputId": "7c7059eb-1f43-49b1-b607-ddd3395a8552"
      },
      "outputs": [
        {
          "output_type": "stream",
          "name": "stdout",
          "text": [
            "модель rb30j3200ss / 22с ширина r18 / диваны 8\n",
            " \"модельrb30j3200ss\" OR  \"22сширинаr18\" OR  \"диваны8\" OR "
          ]
        }
      ],
      "source": [
        "a=input().split(\"/\")\n",
        "\n",
        "for s in a:\n",
        "  sddd=s.strip()\n",
        "  d=sddd.replace(\"/\",\"\")\n",
        "  sss=d.replace(\" \",\"\")\n",
        "  \n",
        "  print(f' \\\"{sss}\" OR',end=\" \")\n",
        "\n",
        "  \n",
        "\n",
        "\n"
      ]
    },
    {
      "cell_type": "code",
      "source": [
        "#модель rb30j3200ss / 22с ширина r18 / диваны 8"
      ],
      "metadata": {
        "id": "NUbUFvifaJbj"
      },
      "execution_count": 29,
      "outputs": []
    }
  ]
}