{
  "nbformat": 4,
  "nbformat_minor": 0,
  "metadata": {
    "colab": {
      "name": "pandas 함수 모듈 클래스.ipynb",
      "provenance": [],
      "collapsed_sections": [],
      "authorship_tag": "ABX9TyP7pVjyTebFlLzM0ty13KOd",
      "include_colab_link": true
    },
    "kernelspec": {
      "name": "python3",
      "display_name": "Python 3"
    },
    "language_info": {
      "name": "python"
    }
  },
  "cells": [
    {
      "cell_type": "markdown",
      "metadata": {
        "id": "view-in-github",
        "colab_type": "text"
      },
      "source": [
        "<a href=\"https://colab.research.google.com/github/Welle-Kim/Based-on-the-Review/blob/master/pandas_%ED%95%A8%EC%88%98_%EB%AA%A8%EB%93%88_%ED%81%B4%EB%9E%98%EC%8A%A4.ipynb\" target=\"_parent\"><img src=\"https://colab.research.google.com/assets/colab-badge.svg\" alt=\"Open In Colab\"/></a>"
      ]
    },
    {
      "cell_type": "code",
      "execution_count": 1,
      "metadata": {
        "colab": {
          "base_uri": "https://localhost:8080/"
        },
        "id": "BspVMRJ9gs6w",
        "outputId": "3da4c240-9e3a-419d-bafc-afca263a066d"
      },
      "outputs": [
        {
          "output_type": "stream",
          "name": "stdout",
          "text": [
            "30\n"
          ]
        }
      ],
      "source": [
        "def add(a,b):\n",
        "  tot=a+b\n",
        "  return tot\n",
        "\n",
        "\n",
        "total = add(10,20)\n",
        "print(total)"
      ]
    },
    {
      "cell_type": "code",
      "source": [
        "#immutable 객체: int,float,str,tuple\n",
        "#Mutable 객체: list,dict"
      ],
      "metadata": {
        "id": "0sUnkk6shEJE"
      },
      "execution_count": 2,
      "outputs": []
    },
    {
      "cell_type": "code",
      "source": [
        "##함수 생성##\n",
        "\n",
        "def f(i,mylist):\n",
        "  i+=1\n",
        "  mylist.append(0)\n",
        "\n",
        "##########################\n",
        "# 함수 활용을 위한 정의 및 호출 #\n",
        "##########################\n",
        "\n",
        "k=10\n",
        "lst=[1,2,5]\n",
        "\n",
        "f(k,lst) #f함수의 i에 k값, mylist에 lst값 적용\n",
        "print(f\"k={k}\\nlst={lst}\")"
      ],
      "metadata": {
        "colab": {
          "base_uri": "https://localhost:8080/"
        },
        "id": "2L11PJ05hRt0",
        "outputId": "addf61af-0ebb-4436-b6ed-4b87fd1b3074"
      },
      "execution_count": 3,
      "outputs": [
        {
          "output_type": "stream",
          "name": "stdout",
          "text": [
            "k=10\n",
            "lst=[1, 2, 5, 0]\n"
          ]
        }
      ]
    },
    {
      "cell_type": "code",
      "source": [
        "## 입력파라미터에 기본값 지정\n",
        "def cal(a,b,c=1):\n",
        "  return a*b*c\n",
        "\n",
        "result=cal(3,4)\n",
        "print(result)"
      ],
      "metadata": {
        "colab": {
          "base_uri": "https://localhost:8080/"
        },
        "id": "j46TU3cyiOMh",
        "outputId": "96d93e8c-dd39-4ebd-af63-4da1b545ca49"
      },
      "execution_count": 4,
      "outputs": [
        {
          "output_type": "stream",
          "name": "stdout",
          "text": [
            "12\n"
          ]
        }
      ]
    },
    {
      "cell_type": "code",
      "source": [
        "# Named Parameter, 함수 호출시 \"파라미터명 = 파라미터값\"과 같이 정의\n",
        "\n",
        "def report(age,name,score):\n",
        "  print(f\"이름:{name},나이:{age},점수:{score}\")\n",
        "\n",
        "report(\"서정동\",50,85)\n",
        "report(name=\"서정동\",age=50,score=85)"
      ],
      "metadata": {
        "colab": {
          "base_uri": "https://localhost:8080/"
        },
        "id": "_vZz9RtPjUBw",
        "outputId": "ff0bcbbc-4fdb-43eb-f57a-689a8e177d97"
      },
      "execution_count": 5,
      "outputs": [
        {
          "output_type": "stream",
          "name": "stdout",
          "text": [
            "이름:50,나이:서정동,점수:85\n",
            "이름:서정동,나이:50,점수:85\n"
          ]
        }
      ]
    },
    {
      "cell_type": "code",
      "source": [
        "#가변길이 파라미터(0~N개만큼 닫을 수 있음)\n",
        "#파라미터명: *파라미터명\n",
        "\n",
        "def total(*nums):\n",
        "  tot=0\n",
        "  for n in nums:\n",
        "    tot+=n\n",
        "  return tot\n",
        "\n",
        "tot=total(1,2)\n",
        "print(tot)\n",
        "\n",
        "t=total(1,2,3,4,5,7,10,9)\n",
        "print(t)"
      ],
      "metadata": {
        "colab": {
          "base_uri": "https://localhost:8080/"
        },
        "id": "SKacGJWEkArD",
        "outputId": "3c4ed644-1a73-40ae-fba6-5d4f40256915"
      },
      "execution_count": 6,
      "outputs": [
        {
          "output_type": "stream",
          "name": "stdout",
          "text": [
            "3\n",
            "41\n"
          ]
        }
      ]
    }
  ]
}