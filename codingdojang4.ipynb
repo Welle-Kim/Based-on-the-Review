{
  "nbformat": 4,
  "nbformat_minor": 0,
  "metadata": {
    "colab": {
      "provenance": [],
      "authorship_tag": "ABX9TyM6WThp5UUu2u3lmCpsweVF",
      "include_colab_link": true
    },
    "kernelspec": {
      "name": "python3",
      "display_name": "Python 3"
    },
    "language_info": {
      "name": "python"
    }
  },
  "cells": [
    {
      "cell_type": "markdown",
      "metadata": {
        "id": "view-in-github",
        "colab_type": "text"
      },
      "source": [
        "<a href=\"https://colab.research.google.com/github/Welle-Kim/Based-on-the-Review/blob/master/codingdojang4.ipynb\" target=\"_parent\"><img src=\"https://colab.research.google.com/assets/colab-badge.svg\" alt=\"Open In Colab\"/></a>"
      ]
    },
    {
      "cell_type": "code",
      "source": [
        "for i in range(3): #0,1,2\n",
        "  for j in range(2): #0,1\n",
        "    print(i*j,end=\"\")\n",
        "  print()"
      ],
      "metadata": {
        "colab": {
          "base_uri": "https://localhost:8080/"
        },
        "id": "gmFKVvameLyt",
        "outputId": "a0764875-a3ba-4d14-8b42-a619fcdb613f"
      },
      "execution_count": 10,
      "outputs": [
        {
          "output_type": "stream",
          "name": "stdout",
          "text": [
            "00\n",
            "01\n",
            "02\n"
          ]
        }
      ]
    },
    {
      "cell_type": "markdown",
      "source": [
        "참조: https://codermun-log.tistory.com/19"
      ],
      "metadata": {
        "id": "7eHqo8Fms_Cv"
      }
    },
    {
      "cell_type": "markdown",
      "source": [
        "[1][1] = \" * \" 일경우\n",
        "\n",
        "11 Line if 조건문에 False 이므로 20, 21 Line으로 넘어가 \" *\" 을 출력하고 9 Line for 반복문으로 올라가\n",
        "\n",
        "[1][2] 를 검증한다.\n",
        "\n",
        "인전합 8개의 요소를 전부 다 검증한 경우 a, b 의 range 범위에 있는 모든 수를 꺼내 사용한 후\n",
        "\n",
        "11 Line의 코드블럭을 모두 실행 완료 하여 빠져나오고\n",
        "\n",
        "17 Line의 코드를 실행 이제까지 count 해왔던 수를 matrix[i][j] 변수에 할당해준다.\n",
        "\n",
        "할당 후 pirnt 함수로 matrix[i][j] 즉, count = 00(갯수) 를 출력하고 pirint 출력의 끝을 지정해주는 end 함수로 자동 줄바꿈이 되지 않고\n",
        "\n",
        "바로 우측에 뒤이에 출력되도록 걸어준다.\n",
        "\n",
        "출력을 완료 한 후 다시 9 Line for 반복문으로 올라가 위와 같이 코드를 다시 반복한다.\n",
        "\n",
        "언제까지?? -->range (5) 0 ~ 4 열까지 모두 출력할때까지\n",
        "\n",
        "01001 과 같이 0행을 모두 출력하였다면 더 이상 range(5) 의 범위에서 j 가 더 사용할 요소가 없으므로\n",
        "\n",
        "부모(?) 가장 상위에 걸려있는 8 Line for 반복문의 print() 로 내려가 아무것도 출력하지 않고 단순 줄바꿈해준다.\n",
        "\n",
        "그 후,\n",
        "\n",
        "8 Line의 for 반복문으로 올라간다 for i inr range(5):\n",
        "\n",
        "여지껏 range(5) : 0 1 2 3 4 중\n",
        "\n",
        "i == 0 일때를 반복한 것으로 i == 1로 동일하게 반복해주고 i == 4 를 모두 사용했다면 함수는 종료된다.\n"
      ],
      "metadata": {
        "id": "EEySnxf7RVjy"
      }
    },
    {
      "cell_type": "code",
      "source": [
        "col,row=map(int,input().split())\n",
        "\n",
        "matrix=[]\n",
        "for i in range(row):\n",
        "  matrix.append(list(input()))\n",
        "\n",
        "for i in range(row):\n",
        "  for j in range(col):\n",
        "    count=0\n",
        "    if matrix[i][j]==\".\":\n",
        "      for a in range(i-1,i+2):\n",
        "        for b in range(j-1,j+2):\n",
        "          if not (a<0 or b<0 or a >= row or b>=col):\n",
        "            if matrix[a][b]==\"*\":\n",
        "              count+=1\n",
        "      matrix[i][j]=count\n",
        "      print(matrix[i][j],end=\"\")\n",
        "    else:\n",
        "      print(matrix[i][j],end=\"\")\n",
        "  print()\n",
        "\n"
      ],
      "metadata": {
        "colab": {
          "base_uri": "https://localhost:8080/"
        },
        "id": "O6SEpkjrTiPP",
        "outputId": "de7d8f9d-d6a8-4669-be24-25ae8c237ec0"
      },
      "execution_count": 20,
      "outputs": [
        {
          "output_type": "stream",
          "name": "stdout",
          "text": [
            "1 3\n",
            "*\n",
            ".\n",
            ".\n",
            "*\n",
            "1\n",
            "0\n"
          ]
        }
      ]
    }
  ]
}