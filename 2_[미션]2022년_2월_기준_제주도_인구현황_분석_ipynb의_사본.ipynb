{
  "nbformat": 4,
  "nbformat_minor": 0,
  "metadata": {
    "colab": {
      "name": "2. [미션]2022년 2월 기준 제주도 인구현황 분석.ipynb의 사본",
      "private_outputs": true,
      "provenance": [],
      "collapsed_sections": [],
      "include_colab_link": true
    },
    "kernelspec": {
      "name": "python3",
      "display_name": "Python 3"
    },
    "language_info": {
      "name": "python"
    }
  },
  "cells": [
    {
      "cell_type": "markdown",
      "metadata": {
        "id": "view-in-github",
        "colab_type": "text"
      },
      "source": [
        "<a href=\"https://colab.research.google.com/github/Welle-Kim/Based-on-the-Review/blob/master/2_%5B%EB%AF%B8%EC%85%98%5D2022%EB%85%84_2%EC%9B%94_%EA%B8%B0%EC%A4%80_%EC%A0%9C%EC%A3%BC%EB%8F%84_%EC%9D%B8%EA%B5%AC%ED%98%84%ED%99%A9_%EB%B6%84%EC%84%9D_ipynb%EC%9D%98_%EC%82%AC%EB%B3%B8.ipynb\" target=\"_parent\"><img src=\"https://colab.research.google.com/assets/colab-badge.svg\" alt=\"Open In Colab\"/></a>"
      ]
    },
    {
      "cell_type": "markdown",
      "source": [
        "# [미션] 202202_age.csv 파일에서 제주도 인구현황을 분석하시오"
      ],
      "metadata": {
        "id": "-o8w22iJoSUz"
      }
    },
    {
      "cell_type": "markdown",
      "source": [
        "#### 1. 데이터에서 제주도 지역 데이터 추출하기\n",
        "- 제주도 '행정기관' 내용을 이용해 '읍면동' 필드 생성   \n",
        "  읍면동이 없는 데이터는 상위 구분(제주특별자치도/서귀포시)으로 입력\n",
        "- 제주시와 서귀포시의 인구 현황 분석(어디가 더 많이 거주하는지 확인)-그래프로도 표현\n",
        "- 제주시의 지역(읍면동 단위) 인구현황을 계산하고 막대 차트로 출력하시오"
      ],
      "metadata": {
        "id": "mnB7RSsSqg9b"
      }
    },
    {
      "cell_type": "code",
      "source": [
        "%matplotlib inline  \n",
        "\n",
        "import matplotlib as mpl \n",
        "import matplotlib.pyplot as plt \n",
        "import matplotlib.font_manager as fm  \n",
        "\n",
        "!apt-get update -qq\n",
        "!apt-get install fonts-nanum* -qq\n",
        "\n",
        "path = '/usr/share/fonts/truetype/nanum/NanumBarunGothic.ttf' \n",
        "font_name = fm.FontProperties(fname=path, size=10).get_name()\n",
        "print(font_name)\n",
        "plt.rc('font', family=font_name)\n",
        "\n",
        "fm._rebuild()\n",
        "mpl.rcParams['axes.unicode_minus'] = False"
      ],
      "metadata": {
        "id": "VVjvlxD_FFPO"
      },
      "execution_count": null,
      "outputs": []
    },
    {
      "cell_type": "code",
      "source": [
        "!sudo apt-get install -y fonts-nanum\n",
        "!sudo fc-cache -fv\n",
        "!rm ~/.cache/matplotlib -rf"
      ],
      "metadata": {
        "id": "goDtRPRgF0hW"
      },
      "execution_count": null,
      "outputs": []
    },
    {
      "cell_type": "code",
      "source": [
        "import pandas as pd"
      ],
      "metadata": {
        "id": "IC6mXP6gtel9"
      },
      "execution_count": null,
      "outputs": []
    },
    {
      "cell_type": "code",
      "source": [
        "# 파일 읽어오기\n",
        "df_jeju=pd.read_csv(\"202202_age.csv\",encoding=\"cp949\",on_bad_lines='skip',header=3)\n",
        "df_jeju"
      ],
      "metadata": {
        "id": "hFeIX9J40CRI"
      },
      "execution_count": null,
      "outputs": []
    },
    {
      "cell_type": "code",
      "source": [
        "df_jeju[\"행정기관\"]"
      ],
      "metadata": {
        "id": "qQAMn2F9vKJC"
      },
      "execution_count": null,
      "outputs": []
    },
    {
      "cell_type": "code",
      "source": [
        "import numpy as np"
      ],
      "metadata": {
        "id": "CcJ76GGG1TGl"
      },
      "execution_count": null,
      "outputs": []
    },
    {
      "cell_type": "code",
      "source": [
        "# 제주도 '행정기관' 내용을 이용해 '읍면동' 필드 생성\n",
        "# 읍면동이 없는 데이터는 상위 구분(제주특별자치도/서귀포시)으로 입력\n",
        "df_Some=df_jeju[df_jeju[\"행정기관\"].str.contains(\"제주\")]\n",
        "df_jeju[\"읍면동\"]=np.nan"
      ],
      "metadata": {
        "id": "RkGsl7_IwYT9"
      },
      "execution_count": null,
      "outputs": []
    },
    {
      "cell_type": "code",
      "source": [
        "df_up=df_Some[df_Some[\"행정기관\"].str.contains(\"읍\")]\n",
        "df_up=df_up.fillna(\"읍\")\n",
        "df_up"
      ],
      "metadata": {
        "id": "WTXhWETUUOoK"
      },
      "execution_count": null,
      "outputs": []
    },
    {
      "cell_type": "code",
      "source": [
        "df_myeon=df_Some[df_Some[\"행정기관\"].str.contains(\"면\")]\n",
        "df_myeon=df_myeon.fillna(\"면\")\n",
        "df_myeon"
      ],
      "metadata": {
        "id": "uAwmPIIbXOPI"
      },
      "execution_count": null,
      "outputs": []
    },
    {
      "cell_type": "code",
      "source": [
        "df_dong=df_Some[df_Some[\"행정기관\"].str.contains(\"동\")]\n",
        "df_dong=df_dong.fillna(\"동\")\n",
        "df_dong"
      ],
      "metadata": {
        "id": "vvdplPOePhru"
      },
      "execution_count": null,
      "outputs": []
    },
    {
      "cell_type": "code",
      "source": [
        "df_jeju_total=pd.concat([df_up,df_myeon,df_dong])\n",
        "df_jeju_total"
      ],
      "metadata": {
        "id": "DRocJsTWapTX"
      },
      "execution_count": null,
      "outputs": []
    },
    {
      "cell_type": "code",
      "source": [
        "df_jeju_total.columns"
      ],
      "metadata": {
        "id": "7iXYlEWKDXV-"
      },
      "execution_count": null,
      "outputs": []
    },
    {
      "cell_type": "code",
      "source": [
        "df=pd.read_csv(\"202202_mf.csv\",encoding=\"cp949\",header=2)\n",
        "df"
      ],
      "metadata": {
        "id": "pG2VwS6k0mHQ"
      },
      "execution_count": null,
      "outputs": []
    },
    {
      "cell_type": "code",
      "source": [
        "# 전체인구현황 = tot_df\n",
        "# 남자인구현황 = male_df\n",
        "# 여자인구현황 = female_df"
      ],
      "metadata": {
        "id": "4e3bC1uavxqy"
      },
      "execution_count": null,
      "outputs": []
    },
    {
      "cell_type": "code",
      "source": [
        "male_df=df[\"남자 인구수\"]\n",
        "female_df=df[\"여자 인구수\"]\n",
        "tt_df=pd.concat([male_df,female_df],axis=1)\n",
        "tt_df[\"전체인구현황\"]=tt_df.sum(axis=1)\n",
        "tt_df"
      ],
      "metadata": {
        "id": "u6jGXTHo034L"
      },
      "execution_count": null,
      "outputs": []
    },
    {
      "cell_type": "code",
      "source": [
        "tot_df=pd.DataFrame(tt_df[\"전체인구현황\"])\n",
        "tot_df"
      ],
      "metadata": {
        "id": "YPph_HBiAvwn"
      },
      "execution_count": null,
      "outputs": []
    },
    {
      "cell_type": "code",
      "source": [
        "oi_df=pd.concat([df,tt_df],axis=1)\n",
        "oi_df"
      ],
      "metadata": {
        "id": "5u3aZMYtA_Fn"
      },
      "execution_count": null,
      "outputs": []
    },
    {
      "cell_type": "code",
      "source": [
        "# 전체인구현황 데이터의 index 값을 \"행정기관\" 으로 변경\n",
        "oi_df.set_index(\"행정기관\")"
      ],
      "metadata": {
        "id": "jL8Rmh7gsb0i"
      },
      "execution_count": null,
      "outputs": []
    },
    {
      "cell_type": "code",
      "source": [
        "tt_df"
      ],
      "metadata": {
        "id": "qoD-fHiVB6Tg"
      },
      "execution_count": null,
      "outputs": []
    },
    {
      "cell_type": "code",
      "source": [
        "# 0세부터 100세이상 데이터만 출력(전체, 남자, 여자)\n",
        "t_df=df_jeju_total.iloc[:,4:311]\n",
        "t_df"
      ],
      "metadata": {
        "id": "bS-cSCwYw1Mm"
      },
      "execution_count": null,
      "outputs": []
    },
    {
      "cell_type": "code",
      "source": [
        "# !sudo apt-get install -y fonts-nanum\n",
        "# !sudo fc-cache -fv\n",
        "# !rm ~/.cache/matplotlib -rf"
      ],
      "metadata": {
        "id": "E4jK3QiBEsb9"
      },
      "execution_count": null,
      "outputs": []
    },
    {
      "cell_type": "code",
      "source": [
        "# 차트 출력(개인적으로 선택)\n",
        "import matplotlib.pyplot as plt  #같이놔야함\n",
        "%matplotlib inline\n",
        "\n",
        "t_df.plot(kind='bar', rot=0)\n",
        "plt.title(\"나이별\")\n",
        "plt.xlabel(\"AGE\")\n",
        "plt.rc('font', family='NanumBarunGothic') \n",
        "plt.show()"
      ],
      "metadata": {
        "id": "6eBUv5rHsb36"
      },
      "execution_count": null,
      "outputs": []
    },
    {
      "cell_type": "markdown",
      "source": [
        "#### 지역별 분석\n",
        "- 제주시와 서귀포시 인구현황 비교\n"
      ],
      "metadata": {
        "id": "c9gawIRFxSGl"
      }
    },
    {
      "cell_type": "code",
      "source": [
        "oi_df"
      ],
      "metadata": {
        "id": "ZmVslIbFHrGD"
      },
      "execution_count": null,
      "outputs": []
    },
    {
      "cell_type": "code",
      "source": [
        "# 제주시/서귀포시 총인구 계산\n",
        "jeju_si_df=oi_df[oi_df[\"행정기관\"].str.contains(\"제주시\")]\n",
        "jeju_si_df=jeju_si_df.iloc[:,-1].sum()"
      ],
      "metadata": {
        "id": "-GvjHD3Uxbq6"
      },
      "execution_count": null,
      "outputs": []
    },
    {
      "cell_type": "code",
      "source": [
        "jeju_seo_df=oi_df[oi_df[\"행정기관\"].str.contains(\"서귀포시\")]\n",
        "jeju_seo_df=jeju_seo_df.iloc[:,-1].sum()"
      ],
      "metadata": {
        "id": "EeVv4LM2Kmfs"
      },
      "execution_count": null,
      "outputs": []
    }
  ]
}