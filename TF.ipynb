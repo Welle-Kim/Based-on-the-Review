{
  "nbformat": 4,
  "nbformat_minor": 0,
  "metadata": {
    "colab": {
      "provenance": [],
      "authorship_tag": "ABX9TyNCTlzbmHzft53x1yErSlWS",
      "include_colab_link": true
    },
    "kernelspec": {
      "name": "python3",
      "display_name": "Python 3"
    },
    "language_info": {
      "name": "python"
    }
  },
  "cells": [
    {
      "cell_type": "markdown",
      "metadata": {
        "id": "view-in-github",
        "colab_type": "text"
      },
      "source": [
        "<a href=\"https://colab.research.google.com/github/Welle-Kim/Based-on-the-Review/blob/master/TF.ipynb\" target=\"_parent\"><img src=\"https://colab.research.google.com/assets/colab-badge.svg\" alt=\"Open In Colab\"/></a>"
      ]
    },
    {
      "cell_type": "code",
      "execution_count": null,
      "metadata": {
        "colab": {
          "base_uri": "https://localhost:8080/"
        },
        "id": "QCx7v_Wx9dzX",
        "outputId": "cda47130-3e53-41a7-a858-2d8cfe0f0759"
      },
      "outputs": [
        {
          "output_type": "stream",
          "name": "stdout",
          "text": [
            "*******1. 스칼라(0D 텐서)*******\n",
            "차원        :  0\n",
            "크기        :  ()\n",
            "데이터 타입 :  int64\n",
            "\n",
            "*******2. 벡터(1D 텐서)*******\n",
            "차원        :  1\n",
            "크기        :  (3,)\n",
            "데이터 타입 :  float64\n",
            "\n",
            "*******3. 행렬(2D 텐서)*******\n",
            "차원        :  2\n",
            "크기        :  (2, 3)\n",
            "데이터 타입 :  int64\n",
            "\n",
            "*******4. 3D 텐서*******\n",
            "차원        :  3\n",
            "크기        :  (2, 3, 1)\n",
            "데이터 타입 :  int64\n"
          ]
        }
      ],
      "source": [
        "'''\n",
        "강의를 수강하시면서 하단 빈칸(_____)에 코드를 채워보세요.\n",
        "주석에 추가 가이드 정보를 기재하였습니다.\n",
        "각 문항별로 요구하는 결과값을 출력하시고, \n",
        "제출버튼을 눌러 제출하시면 됩니다.\n",
        "'''\n",
        "\n",
        "import numpy as np\n",
        "\n",
        "\"\"\"\n",
        "1. numpy 라이브러리를 이용하여 아래 속성 정보를 가지는 스칼라 텐서 객체 생성\n",
        "-------- [출력 결과] --------\n",
        "*******1. 스칼라(0D 텐서)*******\n",
        "차원        :  0\n",
        "크기        :  ()\n",
        "데이터 타입 :  int64\n",
        "--------------------------\n",
        "\"\"\"\n",
        "d0_tensor = np.array(3)\n",
        "\n",
        "# 생성한 스칼라 텐서 객체 속성 정보 출력\n",
        "print('*******1. 스칼라(0D 텐서)*******')\n",
        "print('차원        : ', d0_tensor.ndim)\n",
        "print('크기        : ', d0_tensor.shape)\n",
        "print('데이터 타입 : ', d0_tensor.dtype)\n",
        "\n",
        "\n",
        "\"\"\"\n",
        "2. numpy 라이브러리를 이용하여 아래 속성 정보를 가지는 백터 텐서 객체 생성\n",
        "-------- [출력 결과] --------\n",
        "*******2. 벡터(1D 텐서)*******\n",
        "차원        :  1\n",
        "크기        :  (5,)\n",
        "데이터 타입 :  float64\n",
        "--------------------------\n",
        "\"\"\"\n",
        "d1_tensor = np.array([1.,2.,3.])\n",
        "\n",
        "# 생성한 벡터 텐서 객체 속성 정보 출력\n",
        "print('\\n*******2. 벡터(1D 텐서)*******')\n",
        "print('차원        : ', d1_tensor.ndim)\n",
        "print('크기        : ', d1_tensor.shape)\n",
        "print('데이터 타입 : ', d1_tensor.dtype)\n",
        "\n",
        "\n",
        "\"\"\"\n",
        "3. numpy 라이브러리를 이용하여 아래 속성 정보를 가지는 행렬 텐서 객체 생성\n",
        "-------- [출력 결과] --------\n",
        "*******3. 행렬(2D 텐서)*******\n",
        "차원        :  2\n",
        "크기        :  (3, 2)\n",
        "데이터 타입 :  int64\n",
        "--------------------------\n",
        "\"\"\"\n",
        "d2_tensor =np.array([[1,2,3],\n",
        "                     [4,5,6]])\n",
        "# 생성한 행렬 텐서 객체 속성 정보 출력\n",
        "print('\\n*******3. 행렬(2D 텐서)*******')\n",
        "print('차원        : ', d2_tensor.ndim)\n",
        "print('크기        : ', d2_tensor.shape)\n",
        "print('데이터 타입 : ', d2_tensor.dtype)\n",
        "\n",
        "\n",
        "\n",
        "\"\"\"\n",
        "4. numpy 라이브러리를 이용하여 아래 속성 정보를 가지는 3D 텐서 객체 생성\n",
        "-------- [출력 결과] --------\n",
        "*******4. 3D 텐서*******\n",
        "차원        :  3\n",
        "크기        :  (2, 3, 1)\n",
        "데이터 타입 :  int64\n",
        "--------------------------\n",
        "\"\"\"\n",
        "d3_tensor =np.array([[[1],[1],[1]],[[1],[1],[1]]])\n",
        "# 생성한 3D 텐서 객체 속성 정보 출력\n",
        "print('\\n*******4. 3D 텐서*******')\n",
        "print('차원        : ', d3_tensor.ndim)\n",
        "print('크기        : ', d3_tensor.shape)\n",
        "print('데이터 타입 : ', d3_tensor.dtype)\n"
      ]
    },
    {
      "cell_type": "code",
      "source": [
        "import tensorflow as tf\n",
        "d3_tensor = tf.constant([\n",
        "    [[1,2]],[[1,2]],[[1,2]]])"
      ],
      "metadata": {
        "id": "aStvLv8hAITg"
      },
      "execution_count": null,
      "outputs": []
    },
    {
      "cell_type": "code",
      "source": [
        "d3_tensor"
      ],
      "metadata": {
        "colab": {
          "base_uri": "https://localhost:8080/"
        },
        "id": "rqH-NNs7azIZ",
        "outputId": "e605a448-69be-41c5-9912-f72cd2aa95c9"
      },
      "execution_count": null,
      "outputs": [
        {
          "output_type": "execute_result",
          "data": {
            "text/plain": [
              "<tf.Tensor: shape=(3, 1, 2), dtype=int32, numpy=\n",
              "array([[[1, 2]],\n",
              "\n",
              "       [[1, 2]],\n",
              "\n",
              "       [[1, 2]]], dtype=int32)>"
            ]
          },
          "metadata": {},
          "execution_count": 27
        }
      ]
    },
    {
      "cell_type": "code",
      "source": [
        "'''\n",
        "강의를 수강하시면서 하단 빈칸(_____)에 코드를 채워보세요.\n",
        "주석에 추가 가이드 정보를 기재하였습니다.\n",
        "각 문항별로 요구하는 결과값을 출력하시고, \n",
        "제출버튼을 눌러 제출하시면 됩니다.\n",
        "'''\n",
        "\n",
        "import tensorflow as tf\n",
        "\n",
        "\"\"\"\n",
        "1. tensorflow 라이브러리를 이용하여 아래 속성 정보를 가지는 상수 텐서 객체 생성 및 속성 정보 출력\n",
        "-------- [출력 결과] --------\n",
        "*******1. 상수 텐서 객체*******\n",
        "차원        :  3\n",
        "크기        :  (3, 1, 2)\n",
        "데이터 타입 :  <dtype: 'int32'>\n",
        "--------------------------\n",
        "\"\"\"\n",
        "\n",
        "# 상수 텐서 객체 생성\n",
        "d3_tensor = tf.constant([\n",
        "    [[1,2]],[[1,2]],[[1,2]]])\n",
        "\n",
        "# 생성한 상수 텐서 객체 속성 정보 출력\n",
        "print('*******1. 상수 텐서 객체*******')\n",
        "print('차원        : ',d3_tensor.ndim)\n",
        "print('크기        : ', d3_tensor.shape)\n",
        "print('데이터 타입 : ', d3_tensor.dtype)\n",
        "\n",
        "\"\"\"\n",
        "2. 상수 텐서 객체의 값(ndarray) 복사하여 속성 정보 출력\n",
        "-------- [출력 결과] --------\n",
        "*******2. ndarray 객체*******\n",
        "차원        :  3\n",
        "크기        :  (3, 1, 2)\n",
        "데이터 타입 :  int32\n",
        "--------------------------\n",
        "\"\"\"\n",
        "\n",
        "# 상수 텐서에서 .numpy() 메서드 이용하여 numpy ndarray 객체 복사\n",
        "np_d3_tensor = d3_tensor.numpy()\n",
        "\n",
        "# 복사한 ndarray 객체의 속성 정보 출력\n",
        "print('\\n*******2. ndarray 객체*******')\n",
        "print('차원        : ',np_d3_tensor.ndim)\n",
        "print('크기        : ', np_d3_tensor.shape)\n",
        "print('데이터 타입 : ', np_d3_tensor.dtype)\n",
        "\n",
        "\"\"\"\n",
        "3. tensorflow 라이브러리를 이용하여 아래 속성 정보를 가지는 변수 텐서 객체 생성 및 속성 정보 출력\n",
        "-------- [출력 결과] --------\n",
        "*******3. 변수 텐서 객체*******\n",
        "크기        :  (2, 3, 1)\n",
        "데이터 타입 :  <dtype: 'int32'>\n",
        "--------------------------\n",
        "\"\"\"\n",
        "\n",
        "# 형태의 변수 텐서 객체 생성\n",
        "d3_var_tensor = tf.Variable(np_d3_tensor)\n",
        "\n",
        "print('\\n*******3. 변수 텐서 객체*******')\n",
        "print('크기        : ', d3_var_tensor.shape)\n",
        "print('데이터 타입 : ', d3_var_tensor.dtype)"
      ],
      "metadata": {
        "colab": {
          "base_uri": "https://localhost:8080/"
        },
        "id": "0BGX1-ata2dv",
        "outputId": "667d69f2-31e2-4451-a503-b3c9be671dc9"
      },
      "execution_count": null,
      "outputs": [
        {
          "output_type": "stream",
          "name": "stdout",
          "text": [
            "*******1. 상수 텐서 객체*******\n",
            "차원        :  3\n",
            "크기        :  (3, 1, 2)\n",
            "데이터 타입 :  <dtype: 'int32'>\n",
            "\n",
            "*******2. ndarray 객체*******\n",
            "차원        :  3\n",
            "크기        :  (3, 1, 2)\n",
            "데이터 타입 :  int32\n",
            "\n",
            "*******3. 변수 텐서 객체*******\n",
            "크기        :  (3, 1, 2)\n",
            "데이터 타입 :  <dtype: 'int32'>\n"
          ]
        }
      ]
    }
  ]
}