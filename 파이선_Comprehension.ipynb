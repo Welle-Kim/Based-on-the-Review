{
  "nbformat": 4,
  "nbformat_minor": 0,
  "metadata": {
    "colab": {
      "name": "파이선 Comprehension.ipynb",
      "provenance": [],
      "collapsed_sections": [],
      "authorship_tag": "ABX9TyPW4zlE+orUMYRNF2JLed8w",
      "include_colab_link": true
    },
    "kernelspec": {
      "name": "python3",
      "display_name": "Python 3"
    },
    "language_info": {
      "name": "python"
    }
  },
  "cells": [
    {
      "cell_type": "markdown",
      "metadata": {
        "id": "view-in-github",
        "colab_type": "text"
      },
      "source": [
        "<a href=\"https://colab.research.google.com/github/Welle-Kim/Based-on-the-Review/blob/master/%ED%8C%8C%EC%9D%B4%EC%84%A0_Comprehension.ipynb\" target=\"_parent\"><img src=\"https://colab.research.google.com/assets/colab-badge.svg\" alt=\"Open In Colab\"/></a>"
      ]
    },
    {
      "cell_type": "code",
      "execution_count": null,
      "metadata": {
        "colab": {
          "base_uri": "https://localhost:8080/"
        },
        "id": "moPx1pBWoB2X",
        "outputId": "e00440a1-aa26-4634-b1f8-04b46e53bd37"
      },
      "outputs": [
        {
          "output_type": "stream",
          "name": "stdout",
          "text": [
            "[0, 1, 2, 3, 4, 5, 6, 7, 8, 9, 10]\n"
          ]
        }
      ],
      "source": [
        "#### List comprehension\n",
        "#### 0~10까지의 숫자를 리스트에 넣기\n",
        "tmp=[i for i in range(11)]\n",
        "print(tmp)\n"
      ]
    },
    {
      "cell_type": "code",
      "source": [
        "tmp=[]\n",
        "for x in range(11):\n",
        "  tmp.append(x)\n",
        "print(tmp)"
      ],
      "metadata": {
        "colab": {
          "base_uri": "https://localhost:8080/"
        },
        "id": "3XYoi1Cgop1V",
        "outputId": "b5394566-5351-4ca6-b911-9f60fa33cf25"
      },
      "execution_count": null,
      "outputs": [
        {
          "output_type": "stream",
          "name": "stdout",
          "text": [
            "[0, 1, 2, 3, 4, 5, 6, 7, 8, 9, 10]\n"
          ]
        }
      ]
    },
    {
      "cell_type": "code",
      "source": [
        "#### List comprehension\n",
        "#### 0~10까지의 숫자중 짝수값(x%2 는 2로 나누었을때 나머지값 구하는 계산식) 만 리스트에 넣기\n",
        "tmp=[i for i in range(11) if i%2==0]\n",
        "print(tmp)"
      ],
      "metadata": {
        "colab": {
          "base_uri": "https://localhost:8080/"
        },
        "id": "RiXu_6axowpD",
        "outputId": "58cfae17-a089-44e4-d6bf-1a50af8c85dd"
      },
      "execution_count": null,
      "outputs": [
        {
          "output_type": "stream",
          "name": "stdout",
          "text": [
            "[0, 2, 4, 6, 8, 10]\n"
          ]
        }
      ]
    },
    {
      "cell_type": "code",
      "source": [
        "tmp=[]\n",
        "for x in range(11):\n",
        "  if x%2==0:\n",
        "    tmp.append(x)\n",
        "\n",
        "print(tmp)"
      ],
      "metadata": {
        "colab": {
          "base_uri": "https://localhost:8080/"
        },
        "id": "DVkIOQWzpeXf",
        "outputId": "e4689ced-a7bb-447c-b4be-5408be7d299e"
      },
      "execution_count": null,
      "outputs": [
        {
          "output_type": "stream",
          "name": "stdout",
          "text": [
            "[0, 2, 4, 6, 8, 10]\n"
          ]
        }
      ]
    },
    {
      "cell_type": "code",
      "source": [
        "a=['리스트1 나눌자료','이 자료를 빈칸 단위로 나누어 보는 작업을 합니다.']\n",
        "tmp=[i.split(\" \")for i in a]\n",
        "tmp"
      ],
      "metadata": {
        "colab": {
          "base_uri": "https://localhost:8080/"
        },
        "id": "L5Ev58KVp5PS",
        "outputId": "a0f34b85-b1fe-4af9-88ae-d39c828fb18e"
      },
      "execution_count": null,
      "outputs": [
        {
          "output_type": "execute_result",
          "data": {
            "text/plain": [
              "[['리스트1', '나눌자료'], ['이', '자료를', '빈칸', '단위로', '나누어', '보는', '작업을', '합니다.']]"
            ]
          },
          "metadata": {},
          "execution_count": 10
        }
      ]
    },
    {
      "cell_type": "code",
      "source": [
        "tmp=[]\n",
        "for i in a:\n",
        "  tmp.append(i.split(\" \"))\n",
        "print(tmp)"
      ],
      "metadata": {
        "colab": {
          "base_uri": "https://localhost:8080/"
        },
        "id": "U_5Xw_fCqLth",
        "outputId": "894330f9-d910-40fb-8770-7d0f9faf3aa1"
      },
      "execution_count": null,
      "outputs": [
        {
          "output_type": "stream",
          "name": "stdout",
          "text": [
            "[['리스트1', '나눌자료'], ['이', '자료를', '빈칸', '단위로', '나누어', '보는', '작업을', '합니다.']]\n"
          ]
        }
      ]
    },
    {
      "cell_type": "code",
      "source": [
        "### 2차원리스트 for ###\n",
        "자료=[['리스트1 나눌자료','이 자료를'],['빈칸 단위로','나누어 보는 작업을 합니다.']]\n",
        "\n",
        "tmp1=[[문장단위로나눔.split(\" \") for 문장단위로나눔 in 리스트단위로나눔] for 리스트단위로나눔 in 자료]\n",
        "tmp1"
      ],
      "metadata": {
        "colab": {
          "base_uri": "https://localhost:8080/"
        },
        "id": "rhT7b7vdrTsK",
        "outputId": "c3438253-6d23-4878-ec7a-cc92c5f773fc"
      },
      "execution_count": null,
      "outputs": [
        {
          "output_type": "execute_result",
          "data": {
            "text/plain": [
              "[[['리스트1', '나눌자료'], ['이', '자료를']],\n",
              " [['빈칸', '단위로'], ['나누어', '보는', '작업을', '합니다.']]]"
            ]
          },
          "metadata": {},
          "execution_count": 2
        }
      ]
    },
    {
      "cell_type": "code",
      "source": [
        "tmp1=[]\n",
        "for 리스트단위로나눔 in 자료:\n",
        "  for 문장단위로나눔 in 리스트단위로나눔:\n",
        "    tmp1.append(문장단위로나눔.split(\" \"))\n",
        "tmp1"
      ],
      "metadata": {
        "id": "XjjfZIzsvLI-",
        "colab": {
          "base_uri": "https://localhost:8080/"
        },
        "outputId": "eb67adfd-cd15-45a8-85d3-34376b26a2cc"
      },
      "execution_count": null,
      "outputs": [
        {
          "output_type": "execute_result",
          "data": {
            "text/plain": [
              "[['리스트1', '나눌자료'], ['이', '자료를'], ['빈칸', '단위로'], ['나누어', '보는', '작업을', '합니다.']]"
            ]
          },
          "metadata": {},
          "execution_count": 4
        }
      ]
    },
    {
      "cell_type": "code",
      "source": [
        "##################\n",
        "# 문자열 자료\n",
        "###################\n",
        "tmp=\"a\"\n",
        "list=\"eake\"\n",
        "print(\"문자열의길이는 %d입니다.\"%len(list))\n",
        "print(list[1])"
      ],
      "metadata": {
        "colab": {
          "base_uri": "https://localhost:8080/"
        },
        "id": "nBWhKzUQolw3",
        "outputId": "70c14b99-6bb1-4a67-a739-4b81cc0a7270"
      },
      "execution_count": null,
      "outputs": [
        {
          "output_type": "stream",
          "name": "stdout",
          "text": [
            "문자열의길이는 4입니다.\n",
            "a\n"
          ]
        }
      ]
    },
    {
      "cell_type": "code",
      "source": [
        "if tmp in list:\n",
        "  print(\"*****\")\n",
        "else:\n",
        "  print(\"not fo\")"
      ],
      "metadata": {
        "colab": {
          "base_uri": "https://localhost:8080/"
        },
        "id": "SMTwUGpD0cb2",
        "outputId": "7b5af888-5e8a-4316-a7c1-2dc1ed6e38b1"
      },
      "execution_count": null,
      "outputs": [
        {
          "output_type": "stream",
          "name": "stdout",
          "text": [
            "*****\n"
          ]
        }
      ]
    },
    {
      "cell_type": "code",
      "source": [
        "##################\n",
        "# 1차원 리스트자료\n",
        "###################\n",
        "\n",
        "list=['a','cba','ce']\n",
        "print('리스트내의 원소 갯수는 %d 입니다.'%len(list))\n",
        "print(list[1])"
      ],
      "metadata": {
        "colab": {
          "base_uri": "https://localhost:8080/"
        },
        "id": "lWyA6hUZ0uTX",
        "outputId": "24f87dca-415a-42c9-8eff-0b8c0bb4a237"
      },
      "execution_count": null,
      "outputs": [
        {
          "output_type": "stream",
          "name": "stdout",
          "text": [
            "리스트내의 원소 갯수는 3 입니다.\n",
            "cba\n"
          ]
        }
      ]
    },
    {
      "cell_type": "code",
      "source": [
        "tmp=\"c\"\n",
        "\n",
        "for i in list:\n",
        "  if tmp in i:\n",
        "    print(i+\"***\")\n",
        "\n",
        "  else:\n",
        "    print(i+\"xxxx\")\n"
      ],
      "metadata": {
        "colab": {
          "base_uri": "https://localhost:8080/"
        },
        "id": "abjCukHY06UW",
        "outputId": "f92c4d8e-d950-423e-a761-5f776ae8fefc"
      },
      "execution_count": null,
      "outputs": [
        {
          "output_type": "stream",
          "name": "stdout",
          "text": [
            "axxxx\n",
            "cba***\n",
            "ce***\n"
          ]
        }
      ]
    },
    {
      "cell_type": "code",
      "source": [
        "list_=['a','cba','ce']\n",
        "print('리스트내의 원소 갯수는 %d 입니다.'%len(list_))\n",
        "print(list_[1])\n",
        "\n",
        "tmp=\"C\"\n",
        "set([\"****\" for tmp in list_ if tmp in list_])"
      ],
      "metadata": {
        "colab": {
          "base_uri": "https://localhost:8080/"
        },
        "id": "SVbffANW2B4H",
        "outputId": "d001d31d-e5e9-408f-f502-aa7363c43ed4"
      },
      "execution_count": null,
      "outputs": [
        {
          "output_type": "stream",
          "name": "stdout",
          "text": [
            "리스트내의 원소 갯수는 3 입니다.\n",
            "cba\n"
          ]
        },
        {
          "output_type": "execute_result",
          "data": {
            "text/plain": [
              "{'****'}"
            ]
          },
          "metadata": {},
          "execution_count": 11
        }
      ]
    },
    {
      "cell_type": "code",
      "source": [
        "##################\n",
        "# 2차원 리스트자료\n",
        "##################\n",
        "\n",
        "list_=[['a','cba','ce'],[1,3]]\n",
        "print('리스트내의 리스트 갯수는 %d 입니다.'%len(list_))\n",
        "print( list_[1])\n"
      ],
      "metadata": {
        "colab": {
          "base_uri": "https://localhost:8080/"
        },
        "id": "8fVes-KA55TL",
        "outputId": "e26a5ea1-b072-4c59-a19c-87b7ff79caa0"
      },
      "execution_count": null,
      "outputs": [
        {
          "output_type": "stream",
          "name": "stdout",
          "text": [
            "리스트내의 리스트 갯수는 2 입니다.\n",
            "[1, 3]\n"
          ]
        }
      ]
    },
    {
      "cell_type": "code",
      "source": [
        "list_"
      ],
      "metadata": {
        "colab": {
          "base_uri": "https://localhost:8080/"
        },
        "id": "k9mbhjN2FVf1",
        "outputId": "2d8a0cae-09b9-49c6-e53a-285f60023a0a"
      },
      "execution_count": 20,
      "outputs": [
        {
          "output_type": "execute_result",
          "data": {
            "text/plain": [
              "[['a', 'cba', 'ce'], [1, 3]]"
            ]
          },
          "metadata": {},
          "execution_count": 20
        }
      ]
    },
    {
      "cell_type": "code",
      "source": [
        "tmp='re'\n",
        "for i in list_:\n",
        "  #읽어들인 i값리스트를 그 리스트안의 원소단위로 나눔\n",
        "    for j in i:  \n",
        "        print(j)"
      ],
      "metadata": {
        "colab": {
          "base_uri": "https://localhost:8080/"
        },
        "id": "AElxrHD56f9f",
        "outputId": "ccdc7ebd-18c9-4afc-a1dc-bb6fbccd4285"
      },
      "execution_count": 22,
      "outputs": [
        {
          "output_type": "stream",
          "name": "stdout",
          "text": [
            "a\n",
            "cba\n",
            "ce\n",
            "1\n",
            "3\n"
          ]
        }
      ]
    },
    {
      "cell_type": "code",
      "source": [
        "### 문자열에서 자료 찾기\n",
        "### 찾는글자가 2글자이면 문장을 2글자씩 나눔\n",
        "### 그래서 찾는글자의 갯수먼저 파악\n",
        "### 마지막글자가 문제가됨. 만약에 str 문자열만큼 찾는다고 하면\n",
        "### 마지막의 짜증, 증 , 찾으면서 범위에러 생김\n",
        "### 찾는글자의 갯수만큼 마지막글자는 작업하지 않음.\n",
        "\n",
        "## 오늘,늘날,날씨,씨추,추버,버정,정말,말추,추바,바짜,짜증\n",
        "\n",
        "str='오늘날씨추버정말추버짜증'\n",
        "find='추버' ; 찾는글자갯수=len(find)\n",
        "확인용글자갯수=len(str)-찾는글자갯수\n",
        "cnt=0\n",
        "\n",
        "# print(확인용글자갯수)\n",
        "for i in range(확인용글자갯수):\n",
        "  새로만든글자=str[i:i+찾는글자갯수]\n",
        "  if find==새로만든글자:\n",
        "    cnt+=1\n",
        "print(\"찾는글자는 %d번 나옴\"%cnt)"
      ],
      "metadata": {
        "id": "GxfG-QXq6mHN",
        "colab": {
          "base_uri": "https://localhost:8080/"
        },
        "outputId": "9cee327b-ce00-465e-a4c6-72ed8347bfa4"
      },
      "execution_count": 46,
      "outputs": [
        {
          "output_type": "stream",
          "name": "stdout",
          "text": [
            "찾는글자는 2번 나옴\n"
          ]
        }
      ]
    },
    {
      "cell_type": "code",
      "source": [
        "#################################\n",
        "#####1차원리스트에서 자료 찾기\n",
        "### 1차원리스트를 먼저 문장으로 나누어서 읽어야함.\n",
        "### list_[ '1번째문장', '2번째문장'] 있으면\n",
        "### 1번째문장을 읽으면 리스트에서 str만 읽어냄.위의 코드로 작업\n",
        "\n",
        "\n",
        "## 오늘,늘날,날씨,씨추,추버,버정,정말,말추,추바,바짜,짜증\n",
        "\n",
        "list_=['오늘날씨추버정말추버짜증','겨울추버날씨']\n",
        "find='추버' ; 찾는글자갯수=len(find)\n",
        "\n",
        "cnt=0\n",
        "\n",
        "for str in list_:  \n",
        "  확인용글자갯수=len(str)-찾는글자갯수  \n",
        "  for i in range(확인용글자갯수):\n",
        "    새로만든글자=str[i:i+찾는글자갯수]\n",
        "    if find==새로만든글자:\n",
        "      cnt=cnt+1\n",
        "\n",
        "            \n",
        "print('찾는글자는 %d 번 나옴' %cnt)   "
      ],
      "metadata": {
        "colab": {
          "base_uri": "https://localhost:8080/"
        },
        "id": "rzvx0CxMIf9v",
        "outputId": "57e0e8e3-4c0f-41a5-cf0c-0499c14c4846"
      },
      "execution_count": 54,
      "outputs": [
        {
          "output_type": "stream",
          "name": "stdout",
          "text": [
            "찾는글자는 3 번 나옴\n"
          ]
        }
      ]
    },
    {
      "cell_type": "code",
      "source": [
        "#################################\n",
        "#####2차원리스트에서 자료 찾기\n",
        "### 2원리스트를 먼저 1 차원 리스트로 만들고\n",
        "#### list_[[첫번째 리스트],[두번째 리스트]]\n",
        "### 그 1차원 리스트를 문장으로 나누어서 읽어야함.\n",
        "###  list_[첫번째리스트]  ==> list['오늘날씨추버정말추버짜증','겨울추버날씨']\n",
        "\n",
        "## list_[ '1번째문장', '2번째문장'] 있으면\n",
        "### 1번째문장을 읽으면 리스트에서 str만 읽어냄.위의 코드로 작업\n",
        "\n",
        "\n",
        "## 오늘,늘날,날씨,씨추,추버,버정,정말,말추,추바,바짜,짜증\n",
        "\n",
        "list_=[['오늘날씨추버정말추버짜증','겨울추버날씨'],['작년날씨추버','내년추버날씨']]\n",
        "find='추버' ; 찾는글자갯수=len(find)\n",
        "\n",
        "cnt=0\n",
        "\n",
        "for 리스트별로나눔 in list_:\n",
        "    for str in 리스트별로나눔:\n",
        "        \n",
        "        확인용글자갯수=len(str)-찾는글자갯수\n",
        "\n",
        "        for i in range(확인용글자갯수):\n",
        "            새로만든글자=str[i:i+찾는글자갯수]\n",
        "\n",
        "            if find==새로만든글자:\n",
        "                cnt=cnt+1      \n",
        "    \n",
        "print('찾는글자는 %d 번 나옴' %cnt)  "
      ],
      "metadata": {
        "colab": {
          "base_uri": "https://localhost:8080/"
        },
        "id": "P-87QpIwNgeg",
        "outputId": "503a19bf-47f4-4d45-dbe7-eb09673df71a"
      },
      "execution_count": 59,
      "outputs": [
        {
          "output_type": "stream",
          "name": "stdout",
          "text": [
            "찾는글자는 4 번 나옴\n"
          ]
        }
      ]
    },
    {
      "cell_type": "code",
      "source": [
        "###########################################\n",
        "# 아래의 두줄로도 가능합니다.\n",
        "# list_='\\n오늘 강의\\n 오늘 팀뷰어\\n'\n",
        "# list_.split('\\n')\n",
        "###########################################\n",
        "\n",
        "list_='\\n오늘 강의\\n 오늘 팀뷰어\\n'\n",
        "loc=[0]\n",
        "find='\\n'\n",
        "\n",
        "for i in range(len(list_)):\n",
        "    if list_[i]==find:\n",
        "        loc.append(i)\n",
        "    \n",
        "print(loc)    # find할 자료의 인덱싱을 기억함.\n",
        "start=0 ; end=0\n",
        "\n",
        "re=[]\n",
        "for j in range(len(loc)-1):\n",
        "    start=loc[j];   end=loc[j+1]\n",
        "    re.append(list_[start:end])\n",
        "\n",
        "re"
      ],
      "metadata": {
        "colab": {
          "base_uri": "https://localhost:8080/"
        },
        "id": "aodZrMYxQgqE",
        "outputId": "1d227303-8d6f-492e-c369-d3a2e0a03e43"
      },
      "execution_count": 65,
      "outputs": [
        {
          "output_type": "stream",
          "name": "stdout",
          "text": [
            "[0, 0, 6, 14]\n"
          ]
        },
        {
          "output_type": "execute_result",
          "data": {
            "text/plain": [
              "['', '\\n오늘 강의', '\\n 오늘 팀뷰어']"
            ]
          },
          "metadata": {},
          "execution_count": 65
        }
      ]
    },
    {
      "cell_type": "code",
      "source": [
        "str='오늘 날씨 추버 정말 추버 짜증'        \n",
        "find='추버'\n",
        "\n",
        "찾는글자갯수=len(find)\n",
        "문장글자갯수=len(str)\n",
        "cnt=0\n",
        "re=[]\n",
        "\n",
        "for i in range(문장글자갯수-찾는글자갯수):\n",
        "    새로만드는글자=str[i:(i+찾는글자갯수)]\n",
        "    # print(새로만드는글자)\n",
        "    re.append(새로만드는글자)\n",
        "\n",
        "    \n",
        "print(re)\n",
        "\n",
        "### find 하는 글자의 앞뒤 글자를 확인\n",
        "    \n",
        "pre=[] ; pos=[]\n",
        "for i in range(len(re)):\n",
        "    if re[i]==find:\n",
        "        print('--------------전글자---------------')\n",
        "        \n",
        "        for j in range(1,5):\n",
        "            pre.append(re[i-j])\n",
        "            #pos.append(re[i+j])\n",
        "print(pre)\n",
        "#print(pos)"
      ],
      "metadata": {
        "colab": {
          "base_uri": "https://localhost:8080/"
        },
        "id": "nCk-tqjUQ2qt",
        "outputId": "7d151d05-55d7-43e0-de22-4eca7a07e58b"
      },
      "execution_count": 73,
      "outputs": [
        {
          "output_type": "stream",
          "name": "stdout",
          "text": [
            "['오늘', '늘 ', ' 날', '날씨', '씨 ', ' 추', '추버', '버 ', ' 정', '정말', '말 ', ' 추', '추버', '버 ', ' 짜']\n",
            "--------------전글자---------------\n",
            "--------------전글자---------------\n",
            "[' 추', '씨 ', '날씨', ' 날', ' 추', '말 ', '정말', ' 정']\n"
          ]
        }
      ]
    },
    {
      "cell_type": "code",
      "source": [
        ""
      ],
      "metadata": {
        "id": "4D46wVveTLBM"
      },
      "execution_count": null,
      "outputs": []
    }
  ]
}