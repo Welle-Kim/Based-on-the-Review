{
  "nbformat": 4,
  "nbformat_minor": 0,
  "metadata": {
    "colab": {
      "name": "(1).ipynb",
      "provenance": [],
      "mount_file_id": "1wRxIitcSLXqfiStFUD2rZPft6ajxjZIS",
      "authorship_tag": "ABX9TyPBnu652DetAu6L6zm7vYOi",
      "include_colab_link": true
    },
    "kernelspec": {
      "name": "python3",
      "display_name": "Python 3"
    },
    "language_info": {
      "name": "python"
    }
  },
  "cells": [
    {
      "cell_type": "markdown",
      "metadata": {
        "id": "view-in-github",
        "colab_type": "text"
      },
      "source": [
        "<a href=\"https://colab.research.google.com/github/Welle-Kim/Based-on-the-Review/blob/master/(1).ipynb\" target=\"_parent\"><img src=\"https://colab.research.google.com/assets/colab-badge.svg\" alt=\"Open In Colab\"/></a>"
      ]
    },
    {
      "cell_type": "code",
      "execution_count": null,
      "metadata": {
        "colab": {
          "base_uri": "https://localhost:8080/"
        },
        "id": "eKSKpcPhBMzZ",
        "outputId": "99934f06-12ed-4f36-c00b-a05a82a51e04"
      },
      "outputs": [
        {
          "output_type": "stream",
          "name": "stdout",
          "text": [
            "2\n",
            "0\n",
            "10\n"
          ]
        }
      ],
      "source": [
        "str1=\"문자 숫자 리스트 문자열 텍스트 정수형\"\n",
        "# count('단어'): 문자열에서 단가가 몇개 있는지 확인\n",
        "print(str1.count(\"문자\"))\n",
        "\n",
        "# find(\"문자\"): 문자열에서 찾는 문자의 위치 출력\n",
        "print(str1.find(\"문자\"))\n",
        "\n",
        "print(str1.find(\"문자\", 3))"
      ]
    },
    {
      "cell_type": "code",
      "source": [
        "# split(): 문자열 나누기\n",
        "spstr1=str1.split(\" \")\n",
        "print(spstr1)\n",
        "\n",
        "# join(): 문자열 삽입, 문자사이에 특정 기호등을 삽입할때 사용\n",
        "str2=\"12345\"\n",
        "\n",
        "print(\"-\".join(spstr1))\n",
        "print(\"-\".join(str2))\n",
        "\n",
        "# len(): 데이터 길이\n",
        "print(len(str1))\n",
        "\n",
        "# replace(\"대상문자\",\"변경문자\" ):문자열 바꾸기\n",
        "print(str1.replace(\"문자\", \"숫자\"))\n",
        "print(str1)"
      ],
      "metadata": {
        "colab": {
          "base_uri": "https://localhost:8080/"
        },
        "id": "JHRCCuq9Bhnq",
        "outputId": "61806206-1460-4aac-f5b2-28acdeb06e4e"
      },
      "execution_count": null,
      "outputs": [
        {
          "output_type": "stream",
          "name": "stdout",
          "text": [
            "['문자', '숫자', '리스트', '문자열', '텍스트', '정수형']\n",
            "문자-숫자-리스트-문자열-텍스트-정수형\n",
            "1-2-3-4-5\n",
            "21\n",
            "숫자 숫자 리스트 숫자열 텍스트 정수형\n",
            "문자 숫자 리스트 문자열 텍스트 정수형\n"
          ]
        }
      ]
    },
    {
      "cell_type": "code",
      "source": [
        "lst1=[1,4,3,2,5]\n",
        "lst2=[10, 20, \"멀티캠퍼스\", \"파이썬\", [100, 200, 300]]\n",
        "lst3=[\"이순신\", \"홍길동\", \"서정동\", \"김보연\", \"민창기\"]\n",
        "\n",
        "print(type(lst1))\n",
        "print(type(lst2))\n",
        "\n",
        "# 인덱싱/슬라이싱\n",
        "print(lst2[2])\n",
        "print(lst2[0:2])  #print(lst2[:2])\n",
        "print(lst2[-1])\n",
        "print(lst2[-1][1])  # 2차원 구조의 데이터 출력\n",
        "\n",
        "# 리스트형 데이터 수정\n",
        "lst2[3]=\"python\"\n",
        "print(lst2)\n",
        "\n",
        "# append(): 리스트의 끝에 값 추가\n",
        "lst2.append(\"서정동\")\n",
        "print(lst2)\n",
        "\n",
        "lst1.sort()  # 오름차순 정렬\n",
        "print(lst1)\n",
        "\n",
        "lst3.sort()  # 오름차순 정렬\n",
        "print(lst3)\n",
        "\n",
        "print(\"------------\")\n",
        "\n",
        "# 객체.insert(위치, 값): 중간 삽입\n",
        "lst1.insert(0, 6)\n",
        "lst1\n",
        "\n",
        "# 개체 삭제\n",
        "del lst2\n",
        "del lst3[2]  # lst3 변수의 3번째[2] 인수 삭제\n",
        "\n",
        "lst3"
      ],
      "metadata": {
        "colab": {
          "base_uri": "https://localhost:8080/"
        },
        "id": "e39dNeqADltF",
        "outputId": "760c6671-6e39-4215-afab-109b784b3516"
      },
      "execution_count": null,
      "outputs": [
        {
          "output_type": "stream",
          "name": "stdout",
          "text": [
            "<class 'list'>\n",
            "<class 'list'>\n",
            "멀티캠퍼스\n",
            "[10, 20]\n",
            "[100, 200, 300]\n",
            "200\n",
            "[10, 20, '멀티캠퍼스', 'python', [100, 200, 300]]\n",
            "[10, 20, '멀티캠퍼스', 'python', [100, 200, 300], '서정동']\n",
            "[1, 2, 3, 4, 5]\n",
            "['김보연', '민창기', '서정동', '이순신', '홍길동']\n",
            "------------\n"
          ]
        },
        {
          "output_type": "execute_result",
          "data": {
            "text/plain": [
              "['김보연', '민창기', '이순신', '홍길동']"
            ]
          },
          "metadata": {},
          "execution_count": 17
        }
      ]
    },
    {
      "cell_type": "code",
      "source": [
        "lst1"
      ],
      "metadata": {
        "colab": {
          "base_uri": "https://localhost:8080/"
        },
        "id": "c-1mvIJ2Fnk0",
        "outputId": "84ba7817-6979-4075-82d4-743b69fcfc5d"
      },
      "execution_count": null,
      "outputs": [
        {
          "output_type": "execute_result",
          "data": {
            "text/plain": [
              "[6, 6, 1, 2, 3, 4, 5]"
            ]
          },
          "metadata": {},
          "execution_count": 19
        }
      ]
    },
    {
      "cell_type": "code",
      "source": [
        "# 객체.insert(위치, 값): 중간 삽입\n",
        "lst1.insert(0, 6)\n",
        "lst1"
      ],
      "metadata": {
        "colab": {
          "base_uri": "https://localhost:8080/"
        },
        "id": "Wxa70osQFazl",
        "outputId": "cda8df7c-6c36-49ce-9f46-53a1d2e06d8d"
      },
      "execution_count": null,
      "outputs": [
        {
          "output_type": "execute_result",
          "data": {
            "text/plain": [
              "[6, 6, 1, 2, 3, 4, 5]"
            ]
          },
          "metadata": {},
          "execution_count": 18
        }
      ]
    },
    {
      "cell_type": "code",
      "source": [
        "# 2차원 구조 리스트\n",
        "lst=[[1, \"홍길동\", \"남\"], [2, \"이순신\", \"남\"], [3, \"심순이\", \"여\"]]\n",
        "\n",
        "print(lst)\n",
        "print(lst[0][1])"
      ],
      "metadata": {
        "colab": {
          "base_uri": "https://localhost:8080/"
        },
        "id": "uOGngg-ZFw-7",
        "outputId": "04a3624f-e165-46ff-da2b-adf308a46e28"
      },
      "execution_count": null,
      "outputs": [
        {
          "output_type": "stream",
          "name": "stdout",
          "text": [
            "[[1, '홍길동', '남'], [2, '이순신', '남'], [3, '심순이', '여']]\n",
            "홍길동\n"
          ]
        }
      ]
    },
    {
      "cell_type": "code",
      "source": [
        "import pandas as pd\n",
        "\n",
        "df1=pd.DataFrame(lst, columns=[\"번호\", \"이름\", \"성별\"])\n",
        "df1"
      ],
      "metadata": {
        "colab": {
          "base_uri": "https://localhost:8080/",
          "height": 143
        },
        "id": "fnKsUGcVFxSN",
        "outputId": "97c0953d-b4be-4423-b899-5add37981663"
      },
      "execution_count": null,
      "outputs": [
        {
          "output_type": "execute_result",
          "data": {
            "text/plain": [
              "   번호   이름 성별\n",
              "0   1  홍길동  남\n",
              "1   2  이순신  남\n",
              "2   3  심순이  여"
            ],
            "text/html": [
              "\n",
              "  <div id=\"df-7c5ccf91-d28c-4910-98eb-6bea95ef28e8\">\n",
              "    <div class=\"colab-df-container\">\n",
              "      <div>\n",
              "<style scoped>\n",
              "    .dataframe tbody tr th:only-of-type {\n",
              "        vertical-align: middle;\n",
              "    }\n",
              "\n",
              "    .dataframe tbody tr th {\n",
              "        vertical-align: top;\n",
              "    }\n",
              "\n",
              "    .dataframe thead th {\n",
              "        text-align: right;\n",
              "    }\n",
              "</style>\n",
              "<table border=\"1\" class=\"dataframe\">\n",
              "  <thead>\n",
              "    <tr style=\"text-align: right;\">\n",
              "      <th></th>\n",
              "      <th>번호</th>\n",
              "      <th>이름</th>\n",
              "      <th>성별</th>\n",
              "    </tr>\n",
              "  </thead>\n",
              "  <tbody>\n",
              "    <tr>\n",
              "      <th>0</th>\n",
              "      <td>1</td>\n",
              "      <td>홍길동</td>\n",
              "      <td>남</td>\n",
              "    </tr>\n",
              "    <tr>\n",
              "      <th>1</th>\n",
              "      <td>2</td>\n",
              "      <td>이순신</td>\n",
              "      <td>남</td>\n",
              "    </tr>\n",
              "    <tr>\n",
              "      <th>2</th>\n",
              "      <td>3</td>\n",
              "      <td>심순이</td>\n",
              "      <td>여</td>\n",
              "    </tr>\n",
              "  </tbody>\n",
              "</table>\n",
              "</div>\n",
              "      <button class=\"colab-df-convert\" onclick=\"convertToInteractive('df-7c5ccf91-d28c-4910-98eb-6bea95ef28e8')\"\n",
              "              title=\"Convert this dataframe to an interactive table.\"\n",
              "              style=\"display:none;\">\n",
              "        \n",
              "  <svg xmlns=\"http://www.w3.org/2000/svg\" height=\"24px\"viewBox=\"0 0 24 24\"\n",
              "       width=\"24px\">\n",
              "    <path d=\"M0 0h24v24H0V0z\" fill=\"none\"/>\n",
              "    <path d=\"M18.56 5.44l.94 2.06.94-2.06 2.06-.94-2.06-.94-.94-2.06-.94 2.06-2.06.94zm-11 1L8.5 8.5l.94-2.06 2.06-.94-2.06-.94L8.5 2.5l-.94 2.06-2.06.94zm10 10l.94 2.06.94-2.06 2.06-.94-2.06-.94-.94-2.06-.94 2.06-2.06.94z\"/><path d=\"M17.41 7.96l-1.37-1.37c-.4-.4-.92-.59-1.43-.59-.52 0-1.04.2-1.43.59L10.3 9.45l-7.72 7.72c-.78.78-.78 2.05 0 2.83L4 21.41c.39.39.9.59 1.41.59.51 0 1.02-.2 1.41-.59l7.78-7.78 2.81-2.81c.8-.78.8-2.07 0-2.86zM5.41 20L4 18.59l7.72-7.72 1.47 1.35L5.41 20z\"/>\n",
              "  </svg>\n",
              "      </button>\n",
              "      \n",
              "  <style>\n",
              "    .colab-df-container {\n",
              "      display:flex;\n",
              "      flex-wrap:wrap;\n",
              "      gap: 12px;\n",
              "    }\n",
              "\n",
              "    .colab-df-convert {\n",
              "      background-color: #E8F0FE;\n",
              "      border: none;\n",
              "      border-radius: 50%;\n",
              "      cursor: pointer;\n",
              "      display: none;\n",
              "      fill: #1967D2;\n",
              "      height: 32px;\n",
              "      padding: 0 0 0 0;\n",
              "      width: 32px;\n",
              "    }\n",
              "\n",
              "    .colab-df-convert:hover {\n",
              "      background-color: #E2EBFA;\n",
              "      box-shadow: 0px 1px 2px rgba(60, 64, 67, 0.3), 0px 1px 3px 1px rgba(60, 64, 67, 0.15);\n",
              "      fill: #174EA6;\n",
              "    }\n",
              "\n",
              "    [theme=dark] .colab-df-convert {\n",
              "      background-color: #3B4455;\n",
              "      fill: #D2E3FC;\n",
              "    }\n",
              "\n",
              "    [theme=dark] .colab-df-convert:hover {\n",
              "      background-color: #434B5C;\n",
              "      box-shadow: 0px 1px 3px 1px rgba(0, 0, 0, 0.15);\n",
              "      filter: drop-shadow(0px 1px 2px rgba(0, 0, 0, 0.3));\n",
              "      fill: #FFFFFF;\n",
              "    }\n",
              "  </style>\n",
              "\n",
              "      <script>\n",
              "        const buttonEl =\n",
              "          document.querySelector('#df-7c5ccf91-d28c-4910-98eb-6bea95ef28e8 button.colab-df-convert');\n",
              "        buttonEl.style.display =\n",
              "          google.colab.kernel.accessAllowed ? 'block' : 'none';\n",
              "\n",
              "        async function convertToInteractive(key) {\n",
              "          const element = document.querySelector('#df-7c5ccf91-d28c-4910-98eb-6bea95ef28e8');\n",
              "          const dataTable =\n",
              "            await google.colab.kernel.invokeFunction('convertToInteractive',\n",
              "                                                     [key], {});\n",
              "          if (!dataTable) return;\n",
              "\n",
              "          const docLinkHtml = 'Like what you see? Visit the ' +\n",
              "            '<a target=\"_blank\" href=https://colab.research.google.com/notebooks/data_table.ipynb>data table notebook</a>'\n",
              "            + ' to learn more about interactive tables.';\n",
              "          element.innerHTML = '';\n",
              "          dataTable['output_type'] = 'display_data';\n",
              "          await google.colab.output.renderOutput(dataTable, element);\n",
              "          const docLink = document.createElement('div');\n",
              "          docLink.innerHTML = docLinkHtml;\n",
              "          element.appendChild(docLink);\n",
              "        }\n",
              "      </script>\n",
              "    </div>\n",
              "  </div>\n",
              "  "
            ]
          },
          "metadata": {},
          "execution_count": 21
        }
      ]
    },
    {
      "cell_type": "code",
      "source": [
        "aa=(10, 20, 30)\n",
        "print(aa[0])\n",
        "# aa[1]=25  # 에러/수정 불가능-> Tuple"
      ],
      "metadata": {
        "colab": {
          "base_uri": "https://localhost:8080/"
        },
        "id": "wXGdQBxEGum1",
        "outputId": "cb4df0c1-9062-4b52-8714-84c96778c132"
      },
      "execution_count": null,
      "outputs": [
        {
          "output_type": "stream",
          "name": "stdout",
          "text": [
            "10\n"
          ]
        }
      ]
    },
    {
      "cell_type": "code",
      "source": [
        "dict1={\"번호\":1, \"이름\":\"홍길동\", \"성별\":\"남\", \"국어\":100}\n",
        "dict2={\"번호\":[1,2,3,4,5], \n",
        "       \"이름\":[\"AAA\", \"BBB\", \"CCC\", \"DDD\", \"EEE\"], \n",
        "       \"성별\":[\"남\",\"여\",\"남\",\"여\",\"남\"], \n",
        "       \"국어\":[100, 95, 85, 75, 80]}\n",
        "\n",
        "print(dict1.keys())     # key 이름 출력\n",
        "print(dict1.values())   # 값 전체 출력\n",
        "print()\n",
        "print(dict2.keys())    \n",
        "print(dict2.values())\n",
        "\n",
        "print(dict2[\"이름\"])   # 특정 키에 해당하는 값만 출력"
      ],
      "metadata": {
        "colab": {
          "base_uri": "https://localhost:8080/"
        },
        "id": "qClTbho6GyUc",
        "outputId": "52a3b415-a14d-4320-ab76-74d0e5910665"
      },
      "execution_count": null,
      "outputs": [
        {
          "output_type": "stream",
          "name": "stdout",
          "text": [
            "dict_keys(['번호', '이름', '성별', '국어'])\n",
            "dict_values([1, '홍길동', '남', 100])\n",
            "\n",
            "dict_keys(['번호', '이름', '성별', '국어'])\n",
            "dict_values([[1, 2, 3, 4, 5], ['AAA', 'BBB', 'CCC', 'DDD', 'EEE'], ['남', '여', '남', '여', '남'], [100, 95, 85, 75, 80]])\n",
            "['AAA', 'BBB', 'CCC', 'DDD', 'EEE']\n"
          ]
        }
      ]
    },
    {
      "cell_type": "code",
      "source": [
        "# pandas를 이용한 데이터프레임 구조 변경\n",
        "\n",
        "df1=pd.DataFrame(dict2)\n",
        "df1"
      ],
      "metadata": {
        "colab": {
          "base_uri": "https://localhost:8080/",
          "height": 206
        },
        "id": "vrel_Y0gG7i6",
        "outputId": "edfa285f-21c5-407f-b8e5-775c7dc6e99d"
      },
      "execution_count": null,
      "outputs": [
        {
          "output_type": "execute_result",
          "data": {
            "text/plain": [
              "   번호   이름 성별   국어\n",
              "0   1  AAA  남  100\n",
              "1   2  BBB  여   95\n",
              "2   3  CCC  남   85\n",
              "3   4  DDD  여   75\n",
              "4   5  EEE  남   80"
            ],
            "text/html": [
              "\n",
              "  <div id=\"df-a5ae2644-f53e-4cac-8cc3-c1ae7e310db3\">\n",
              "    <div class=\"colab-df-container\">\n",
              "      <div>\n",
              "<style scoped>\n",
              "    .dataframe tbody tr th:only-of-type {\n",
              "        vertical-align: middle;\n",
              "    }\n",
              "\n",
              "    .dataframe tbody tr th {\n",
              "        vertical-align: top;\n",
              "    }\n",
              "\n",
              "    .dataframe thead th {\n",
              "        text-align: right;\n",
              "    }\n",
              "</style>\n",
              "<table border=\"1\" class=\"dataframe\">\n",
              "  <thead>\n",
              "    <tr style=\"text-align: right;\">\n",
              "      <th></th>\n",
              "      <th>번호</th>\n",
              "      <th>이름</th>\n",
              "      <th>성별</th>\n",
              "      <th>국어</th>\n",
              "    </tr>\n",
              "  </thead>\n",
              "  <tbody>\n",
              "    <tr>\n",
              "      <th>0</th>\n",
              "      <td>1</td>\n",
              "      <td>AAA</td>\n",
              "      <td>남</td>\n",
              "      <td>100</td>\n",
              "    </tr>\n",
              "    <tr>\n",
              "      <th>1</th>\n",
              "      <td>2</td>\n",
              "      <td>BBB</td>\n",
              "      <td>여</td>\n",
              "      <td>95</td>\n",
              "    </tr>\n",
              "    <tr>\n",
              "      <th>2</th>\n",
              "      <td>3</td>\n",
              "      <td>CCC</td>\n",
              "      <td>남</td>\n",
              "      <td>85</td>\n",
              "    </tr>\n",
              "    <tr>\n",
              "      <th>3</th>\n",
              "      <td>4</td>\n",
              "      <td>DDD</td>\n",
              "      <td>여</td>\n",
              "      <td>75</td>\n",
              "    </tr>\n",
              "    <tr>\n",
              "      <th>4</th>\n",
              "      <td>5</td>\n",
              "      <td>EEE</td>\n",
              "      <td>남</td>\n",
              "      <td>80</td>\n",
              "    </tr>\n",
              "  </tbody>\n",
              "</table>\n",
              "</div>\n",
              "      <button class=\"colab-df-convert\" onclick=\"convertToInteractive('df-a5ae2644-f53e-4cac-8cc3-c1ae7e310db3')\"\n",
              "              title=\"Convert this dataframe to an interactive table.\"\n",
              "              style=\"display:none;\">\n",
              "        \n",
              "  <svg xmlns=\"http://www.w3.org/2000/svg\" height=\"24px\"viewBox=\"0 0 24 24\"\n",
              "       width=\"24px\">\n",
              "    <path d=\"M0 0h24v24H0V0z\" fill=\"none\"/>\n",
              "    <path d=\"M18.56 5.44l.94 2.06.94-2.06 2.06-.94-2.06-.94-.94-2.06-.94 2.06-2.06.94zm-11 1L8.5 8.5l.94-2.06 2.06-.94-2.06-.94L8.5 2.5l-.94 2.06-2.06.94zm10 10l.94 2.06.94-2.06 2.06-.94-2.06-.94-.94-2.06-.94 2.06-2.06.94z\"/><path d=\"M17.41 7.96l-1.37-1.37c-.4-.4-.92-.59-1.43-.59-.52 0-1.04.2-1.43.59L10.3 9.45l-7.72 7.72c-.78.78-.78 2.05 0 2.83L4 21.41c.39.39.9.59 1.41.59.51 0 1.02-.2 1.41-.59l7.78-7.78 2.81-2.81c.8-.78.8-2.07 0-2.86zM5.41 20L4 18.59l7.72-7.72 1.47 1.35L5.41 20z\"/>\n",
              "  </svg>\n",
              "      </button>\n",
              "      \n",
              "  <style>\n",
              "    .colab-df-container {\n",
              "      display:flex;\n",
              "      flex-wrap:wrap;\n",
              "      gap: 12px;\n",
              "    }\n",
              "\n",
              "    .colab-df-convert {\n",
              "      background-color: #E8F0FE;\n",
              "      border: none;\n",
              "      border-radius: 50%;\n",
              "      cursor: pointer;\n",
              "      display: none;\n",
              "      fill: #1967D2;\n",
              "      height: 32px;\n",
              "      padding: 0 0 0 0;\n",
              "      width: 32px;\n",
              "    }\n",
              "\n",
              "    .colab-df-convert:hover {\n",
              "      background-color: #E2EBFA;\n",
              "      box-shadow: 0px 1px 2px rgba(60, 64, 67, 0.3), 0px 1px 3px 1px rgba(60, 64, 67, 0.15);\n",
              "      fill: #174EA6;\n",
              "    }\n",
              "\n",
              "    [theme=dark] .colab-df-convert {\n",
              "      background-color: #3B4455;\n",
              "      fill: #D2E3FC;\n",
              "    }\n",
              "\n",
              "    [theme=dark] .colab-df-convert:hover {\n",
              "      background-color: #434B5C;\n",
              "      box-shadow: 0px 1px 3px 1px rgba(0, 0, 0, 0.15);\n",
              "      filter: drop-shadow(0px 1px 2px rgba(0, 0, 0, 0.3));\n",
              "      fill: #FFFFFF;\n",
              "    }\n",
              "  </style>\n",
              "\n",
              "      <script>\n",
              "        const buttonEl =\n",
              "          document.querySelector('#df-a5ae2644-f53e-4cac-8cc3-c1ae7e310db3 button.colab-df-convert');\n",
              "        buttonEl.style.display =\n",
              "          google.colab.kernel.accessAllowed ? 'block' : 'none';\n",
              "\n",
              "        async function convertToInteractive(key) {\n",
              "          const element = document.querySelector('#df-a5ae2644-f53e-4cac-8cc3-c1ae7e310db3');\n",
              "          const dataTable =\n",
              "            await google.colab.kernel.invokeFunction('convertToInteractive',\n",
              "                                                     [key], {});\n",
              "          if (!dataTable) return;\n",
              "\n",
              "          const docLinkHtml = 'Like what you see? Visit the ' +\n",
              "            '<a target=\"_blank\" href=https://colab.research.google.com/notebooks/data_table.ipynb>data table notebook</a>'\n",
              "            + ' to learn more about interactive tables.';\n",
              "          element.innerHTML = '';\n",
              "          dataTable['output_type'] = 'display_data';\n",
              "          await google.colab.output.renderOutput(dataTable, element);\n",
              "          const docLink = document.createElement('div');\n",
              "          docLink.innerHTML = docLinkHtml;\n",
              "          element.appendChild(docLink);\n",
              "        }\n",
              "      </script>\n",
              "    </div>\n",
              "  </div>\n",
              "  "
            ]
          },
          "metadata": {},
          "execution_count": 25
        }
      ]
    },
    {
      "cell_type": "code",
      "source": [
        "name=[\"서정동\", \"김이프\", \"심순이\", \"박찬식\", \"홍순준\"]\n",
        "Age=[50,40,30,20,10]"
      ],
      "metadata": {
        "id": "3uscGIIJHDns"
      },
      "execution_count": null,
      "outputs": []
    },
    {
      "cell_type": "code",
      "source": [
        "# name 객체를 이용한 출력\n",
        "# format()를 이용한 출력\n",
        "print(name[0],\"님! 안녕하세요.\")\n",
        "print(name[1],\"님! 안녕하세요.\")\n",
        "print(name[2],\"님! 안녕하세요.\")\n",
        "print(name[3],\"님! 안녕하세요.\")\n",
        "print(name[4],\"님! 안녕하세요.\")"
      ],
      "metadata": {
        "colab": {
          "base_uri": "https://localhost:8080/"
        },
        "id": "yAbgAKAcHHjc",
        "outputId": "1718a770-e8a6-426c-e23e-5ce6974eb14d"
      },
      "execution_count": null,
      "outputs": [
        {
          "output_type": "stream",
          "name": "stdout",
          "text": [
            "서정동 님! 안녕하세요.\n",
            "김이프 님! 안녕하세요.\n",
            "심순이 님! 안녕하세요.\n",
            "박찬식 님! 안녕하세요.\n",
            "홍순준 님! 안녕하세요.\n"
          ]
        }
      ]
    },
    {
      "cell_type": "code",
      "source": [
        "for nm in name:\n",
        "  print(f\"{nm}님! 안녕하세요.\")"
      ],
      "metadata": {
        "colab": {
          "base_uri": "https://localhost:8080/"
        },
        "id": "5CHCu-KjHJmL",
        "outputId": "5257eab6-94b5-425c-f642-ba1c4059148d"
      },
      "execution_count": null,
      "outputs": [
        {
          "output_type": "stream",
          "name": "stdout",
          "text": [
            "서정동님! 안녕하세요.\n",
            "김이프님! 안녕하세요.\n",
            "심순이님! 안녕하세요.\n",
            "박찬식님! 안녕하세요.\n",
            "홍순준님! 안녕하세요.\n"
          ]
        }
      ]
    },
    {
      "cell_type": "code",
      "source": [
        "print(name[0],\"님의 나이는 \", Age[0], \"입니다.\")\n",
        "print(\"{1}님의 나이는 {0}세입니다.\".format(Age[0], name[0]))\n",
        "print(f\"{name[0]}님의 나이는 {Age[0]}세입니다.\")\n",
        "print(f\"{name[1]}님의 나이는 {Age[1]}세입니다.\")\n",
        "print(f\"{name[2]}님의 나이는 {Age[2]}세입니다.\")\n",
        "print(f\"{name[3]}님의 나이는 {Age[3]}세입니다.\")\n",
        "print(f\"{name[4]}님의 나이는 {Age[4]}세입니다.\")"
      ],
      "metadata": {
        "colab": {
          "base_uri": "https://localhost:8080/"
        },
        "id": "XxzEwHldHTVq",
        "outputId": "93efe23e-2c8f-4fd8-d5ff-2180f20d7967"
      },
      "execution_count": null,
      "outputs": [
        {
          "output_type": "stream",
          "name": "stdout",
          "text": [
            "서정동 님의 나이는  50 입니다.\n",
            "서정동님의 나이는 50세입니다.\n",
            "서정동님의 나이는 50세입니다.\n",
            "김이프님의 나이는 40세입니다.\n",
            "심순이님의 나이는 30세입니다.\n",
            "박찬식님의 나이는 20세입니다.\n",
            "홍순준님의 나이는 10세입니다.\n"
          ]
        }
      ]
    },
    {
      "cell_type": "code",
      "source": [
        "# range() 함수 활용\n",
        "# list() : 입력된 데이터를 리스트 구조로 변경\n",
        "\n",
        "print(list(range(10)))    # 0부터 10개의 정수 생성/숫자-1 한 값에서 종료\n",
        "print(list(range(5, 10))) # 0부터 10개의 정수를 생성하고 5부터 출력\n",
        "print(list(range(1, 10, 2)))  # 0부터 10개의 정수를 생성하고 1부터 2씩 증가하면서 출력"
      ],
      "metadata": {
        "colab": {
          "base_uri": "https://localhost:8080/"
        },
        "id": "yw_18FOjHYWv",
        "outputId": "1fd3201e-d305-47a3-a92b-c1e133031076"
      },
      "execution_count": null,
      "outputs": [
        {
          "output_type": "stream",
          "name": "stdout",
          "text": [
            "[0, 1, 2, 3, 4, 5, 6, 7, 8, 9]\n",
            "[5, 6, 7, 8, 9]\n",
            "[1, 3, 5, 7, 9]\n"
          ]
        }
      ]
    },
    {
      "cell_type": "code",
      "source": [
        "for i in range(5):\n",
        "    print(f\"{name[i]}님의 나이는 {Age[i]}세입니다.\")\n",
        "\n",
        "print(\"=== END ===\")"
      ],
      "metadata": {
        "colab": {
          "base_uri": "https://localhost:8080/"
        },
        "id": "wEvuZl-VHy8g",
        "outputId": "7d4eb070-9b83-4c92-c2a6-a5621becd53e"
      },
      "execution_count": null,
      "outputs": [
        {
          "output_type": "stream",
          "name": "stdout",
          "text": [
            "서정동님의 나이는 50세입니다.\n",
            "김이프님의 나이는 40세입니다.\n",
            "심순이님의 나이는 30세입니다.\n",
            "박찬식님의 나이는 20세입니다.\n",
            "홍순준님의 나이는 10세입니다.\n",
            "=== END ===\n"
          ]
        }
      ]
    },
    {
      "cell_type": "code",
      "source": [
        "print(len(name))   # name 변수에 입력된 데이터 개수 출력\n",
        "for i in range(len(name)):\n",
        "    print(f\"{name[i]}님의 나이는 {Age[i]}세입니다.\")\n",
        "\n",
        "print(\"=== END ===\")"
      ],
      "metadata": {
        "colab": {
          "base_uri": "https://localhost:8080/"
        },
        "id": "Ka9Y6K6KH2vo",
        "outputId": "902356d8-7aa8-4e64-f547-3f02ecb9a7c2"
      },
      "execution_count": null,
      "outputs": [
        {
          "output_type": "stream",
          "name": "stdout",
          "text": [
            "5\n",
            "서정동님의 나이는 50세입니다.\n",
            "김이프님의 나이는 40세입니다.\n",
            "심순이님의 나이는 30세입니다.\n",
            "박찬식님의 나이는 20세입니다.\n",
            "홍순준님의 나이는 10세입니다.\n",
            "=== END ===\n"
          ]
        }
      ]
    },
    {
      "cell_type": "code",
      "source": [
        "# 구글 드라이브 마운트(드라이브 연결)\n",
        "from google.colab import drive\n",
        "drive.mount('/content/drive')"
      ],
      "metadata": {
        "colab": {
          "base_uri": "https://localhost:8080/"
        },
        "id": "kiakIHMxJA--",
        "outputId": "68f34ebb-30fb-4162-dc86-2d898c225258"
      },
      "execution_count": null,
      "outputs": [
        {
          "output_type": "stream",
          "name": "stdout",
          "text": [
            "Mounted at /content/drive\n"
          ]
        }
      ]
    },
    {
      "cell_type": "code",
      "source": [
        "%cd /content/drive/MyDrive/review"
      ],
      "metadata": {
        "colab": {
          "base_uri": "https://localhost:8080/"
        },
        "id": "iXvUoTV_JGTz",
        "outputId": "6e37687b-cde1-4bca-ac9a-21a60629cfe4"
      },
      "execution_count": null,
      "outputs": [
        {
          "output_type": "stream",
          "name": "stdout",
          "text": [
            "/content/drive/MyDrive/review\n"
          ]
        }
      ]
    },
    {
      "cell_type": "code",
      "source": [
        "#!pip install Pillow   # Pillow 모듈 설치\n",
        "\n",
        "from PIL import Image   # 모듈 연결\n",
        "\n",
        "# 이미지 열기\n",
        "#tmp=Image.open('/content/drive/MyDrive/multi/0307/data/pic1.jpg')  # 절대경로\n",
        "tmp=Image.open('./dog.jpg')   # 상대경로, cd로 이동한 디렉토리 하위 경로\n",
        "\n",
        "# 이미지를 잘 열었는지 이미지 크기(속성) 출력\n",
        "print(tmp.size)"
      ],
      "metadata": {
        "colab": {
          "base_uri": "https://localhost:8080/"
        },
        "id": "d0rTv5sOIDR6",
        "outputId": "51555d37-f3da-494a-a6cb-6eeb42aeb8c0"
      },
      "execution_count": null,
      "outputs": [
        {
          "output_type": "stream",
          "name": "stdout",
          "text": [
            "(3072, 1728)\n"
          ]
        }
      ]
    },
    {
      "cell_type": "code",
      "source": [
        "tmp1=Image.open('./dog.jpg')\n",
        "print(tmp1.size)\n",
        "tmp2=Image.open('./01027643527.jpeg')\n",
        "print(tmp2.size)\n",
        "tmp3=Image.open('./weiss.jpeg')\n",
        "print(tmp3.size)"
      ],
      "metadata": {
        "colab": {
          "base_uri": "https://localhost:8080/"
        },
        "id": "WkCQavegI_2p",
        "outputId": "64487616-7953-4f80-9ad6-d95982f73774"
      },
      "execution_count": null,
      "outputs": [
        {
          "output_type": "stream",
          "name": "stdout",
          "text": [
            "(3072, 1728)\n",
            "(1440, 1080)\n",
            "(512, 512)\n"
          ]
        }
      ]
    },
    {
      "cell_type": "code",
      "source": [
        "fnames=[\"pic1\", \"pic2\", \"pic3\"]\n",
        "print(\"./0307/data/\"+ fnames[0]+\".jpg\")\n",
        "\n",
        "for fname in fnames:\n",
        "    print(\"./0307/data/\"+ fname+\".jpg\")\n",
        "\n",
        "print(\"=== END ===\")"
      ],
      "metadata": {
        "colab": {
          "base_uri": "https://localhost:8080/"
        },
        "id": "vwQhsURNJgqN",
        "outputId": "e0f97766-ee05-446b-b475-c03da3ba63dd"
      },
      "execution_count": null,
      "outputs": [
        {
          "output_type": "stream",
          "name": "stdout",
          "text": [
            "./0307/data/pic1.jpg\n",
            "./0307/data/pic1.jpg\n",
            "./0307/data/pic2.jpg\n",
            "./0307/data/pic3.jpg\n",
            "=== END ===\n"
          ]
        }
      ]
    },
    {
      "cell_type": "code",
      "source": [
        "# for문을 이용한 이미지 출력\n",
        "from PIL import Image\n",
        "\n",
        "fnames=[\"jpg1\", \"jpg2\", \"jpg3\"]\n",
        "\n",
        "for fname in fnames:\n",
        "    tmp=Image.open(\"./\"+ fname+\".jpg\")\n",
        "    print(tmp.size)\n",
        "\n",
        "print(\"=== END ===\")"
      ],
      "metadata": {
        "colab": {
          "base_uri": "https://localhost:8080/"
        },
        "id": "PcPOynxMJlGf",
        "outputId": "8d988ec2-7160-4784-84a7-cd1ebe870d95"
      },
      "execution_count": null,
      "outputs": [
        {
          "output_type": "stream",
          "name": "stdout",
          "text": [
            "(1440, 1080)\n",
            "(3072, 1728)\n",
            "(512, 512)\n",
            "=== END ===\n"
          ]
        }
      ]
    },
    {
      "cell_type": "code",
      "source": [
        "# 기존 이미지 사이즈를 200*200 으로 수정후 저장(pic1_200.jpg)\n",
        "fnames=[\"jpg1\", \"jpg2\", \"jpg3\"]\n",
        "\n",
        "tmp=Image.open(\"./\"+ fnames[0]+\".jpg\")  # 첫번째 파일 읽어오기\n",
        "print(tmp.size)\n",
        "\n",
        "tmpResize=tmp.resize((200, 200))   # 이미지 사이즈 변경\n",
        "tmpResize.save(\"./\"+fnames[0]+\"_200.jpg\")\n",
        "print(tmpResize.size)\n",
        "\n",
        "print(\"=== END ===\")"
      ],
      "metadata": {
        "colab": {
          "base_uri": "https://localhost:8080/"
        },
        "id": "wIBRkVB8Jvau",
        "outputId": "35b3c8b5-0cfc-404a-e23a-44f17c20d57e"
      },
      "execution_count": null,
      "outputs": [
        {
          "output_type": "stream",
          "name": "stdout",
          "text": [
            "(1440, 1080)\n",
            "(200, 200)\n",
            "=== END ===\n"
          ]
        }
      ]
    },
    {
      "cell_type": "code",
      "source": [
        "# 원본 이미지 사이즈 리스트 변수에 저장\n",
        "# 전체 이미지 사이즈를 200*200 으로 수정후 저장\n",
        "\n",
        "fnames=[\"jpg1\", \"jpg2\", \"jpg3\"]  # 데이터가 있는 리스트 변수\n",
        "imgsize=[]   # 리스트 형식의 변수 생성\n",
        "\n",
        "for fname in fnames:\n",
        "    tmp=Image.open(\"./\"+ fname+\".jpg\")\n",
        "    imgsize.append(tmp.size) # imgsize 변수 끝에 데이터 추가\n",
        "\n",
        "    tmpResize=tmp.resize((200, 200))   # 이미지 사이즈 변경\n",
        "    tmpResize.save(\"./\"+fname+\"_200.jpg\") # 변경된 이미지 저장\n",
        "\n",
        "print(\"=== END ===\")\n",
        "\n",
        "print(imgsize)"
      ],
      "metadata": {
        "colab": {
          "base_uri": "https://localhost:8080/"
        },
        "id": "BxbmVfUzKNYH",
        "outputId": "d5fc06e9-6187-48be-d7e4-119374e82b3e"
      },
      "execution_count": null,
      "outputs": [
        {
          "output_type": "stream",
          "name": "stdout",
          "text": [
            "=== END ===\n",
            "[(1440, 1080), (3072, 1728), (512, 512)]\n"
          ]
        }
      ]
    },
    {
      "cell_type": "code",
      "source": [
        "import pandas as pd\n",
        "\n",
        "df1=pd.DataFrame(imgsize, columns=[\"가로\", \"세로\"])\n",
        "df1"
      ],
      "metadata": {
        "colab": {
          "base_uri": "https://localhost:8080/",
          "height": 143
        },
        "id": "7HKXMUGRKu-x",
        "outputId": "cb297221-de6c-4ec1-cc9a-191fb33c3f41"
      },
      "execution_count": null,
      "outputs": [
        {
          "output_type": "execute_result",
          "data": {
            "text/plain": [
              "     가로    세로\n",
              "0  1440  1080\n",
              "1  3072  1728\n",
              "2   512   512"
            ],
            "text/html": [
              "\n",
              "  <div id=\"df-a1e82897-ad43-4133-b2f5-837ff8dcde26\">\n",
              "    <div class=\"colab-df-container\">\n",
              "      <div>\n",
              "<style scoped>\n",
              "    .dataframe tbody tr th:only-of-type {\n",
              "        vertical-align: middle;\n",
              "    }\n",
              "\n",
              "    .dataframe tbody tr th {\n",
              "        vertical-align: top;\n",
              "    }\n",
              "\n",
              "    .dataframe thead th {\n",
              "        text-align: right;\n",
              "    }\n",
              "</style>\n",
              "<table border=\"1\" class=\"dataframe\">\n",
              "  <thead>\n",
              "    <tr style=\"text-align: right;\">\n",
              "      <th></th>\n",
              "      <th>가로</th>\n",
              "      <th>세로</th>\n",
              "    </tr>\n",
              "  </thead>\n",
              "  <tbody>\n",
              "    <tr>\n",
              "      <th>0</th>\n",
              "      <td>1440</td>\n",
              "      <td>1080</td>\n",
              "    </tr>\n",
              "    <tr>\n",
              "      <th>1</th>\n",
              "      <td>3072</td>\n",
              "      <td>1728</td>\n",
              "    </tr>\n",
              "    <tr>\n",
              "      <th>2</th>\n",
              "      <td>512</td>\n",
              "      <td>512</td>\n",
              "    </tr>\n",
              "  </tbody>\n",
              "</table>\n",
              "</div>\n",
              "      <button class=\"colab-df-convert\" onclick=\"convertToInteractive('df-a1e82897-ad43-4133-b2f5-837ff8dcde26')\"\n",
              "              title=\"Convert this dataframe to an interactive table.\"\n",
              "              style=\"display:none;\">\n",
              "        \n",
              "  <svg xmlns=\"http://www.w3.org/2000/svg\" height=\"24px\"viewBox=\"0 0 24 24\"\n",
              "       width=\"24px\">\n",
              "    <path d=\"M0 0h24v24H0V0z\" fill=\"none\"/>\n",
              "    <path d=\"M18.56 5.44l.94 2.06.94-2.06 2.06-.94-2.06-.94-.94-2.06-.94 2.06-2.06.94zm-11 1L8.5 8.5l.94-2.06 2.06-.94-2.06-.94L8.5 2.5l-.94 2.06-2.06.94zm10 10l.94 2.06.94-2.06 2.06-.94-2.06-.94-.94-2.06-.94 2.06-2.06.94z\"/><path d=\"M17.41 7.96l-1.37-1.37c-.4-.4-.92-.59-1.43-.59-.52 0-1.04.2-1.43.59L10.3 9.45l-7.72 7.72c-.78.78-.78 2.05 0 2.83L4 21.41c.39.39.9.59 1.41.59.51 0 1.02-.2 1.41-.59l7.78-7.78 2.81-2.81c.8-.78.8-2.07 0-2.86zM5.41 20L4 18.59l7.72-7.72 1.47 1.35L5.41 20z\"/>\n",
              "  </svg>\n",
              "      </button>\n",
              "      \n",
              "  <style>\n",
              "    .colab-df-container {\n",
              "      display:flex;\n",
              "      flex-wrap:wrap;\n",
              "      gap: 12px;\n",
              "    }\n",
              "\n",
              "    .colab-df-convert {\n",
              "      background-color: #E8F0FE;\n",
              "      border: none;\n",
              "      border-radius: 50%;\n",
              "      cursor: pointer;\n",
              "      display: none;\n",
              "      fill: #1967D2;\n",
              "      height: 32px;\n",
              "      padding: 0 0 0 0;\n",
              "      width: 32px;\n",
              "    }\n",
              "\n",
              "    .colab-df-convert:hover {\n",
              "      background-color: #E2EBFA;\n",
              "      box-shadow: 0px 1px 2px rgba(60, 64, 67, 0.3), 0px 1px 3px 1px rgba(60, 64, 67, 0.15);\n",
              "      fill: #174EA6;\n",
              "    }\n",
              "\n",
              "    [theme=dark] .colab-df-convert {\n",
              "      background-color: #3B4455;\n",
              "      fill: #D2E3FC;\n",
              "    }\n",
              "\n",
              "    [theme=dark] .colab-df-convert:hover {\n",
              "      background-color: #434B5C;\n",
              "      box-shadow: 0px 1px 3px 1px rgba(0, 0, 0, 0.15);\n",
              "      filter: drop-shadow(0px 1px 2px rgba(0, 0, 0, 0.3));\n",
              "      fill: #FFFFFF;\n",
              "    }\n",
              "  </style>\n",
              "\n",
              "      <script>\n",
              "        const buttonEl =\n",
              "          document.querySelector('#df-a1e82897-ad43-4133-b2f5-837ff8dcde26 button.colab-df-convert');\n",
              "        buttonEl.style.display =\n",
              "          google.colab.kernel.accessAllowed ? 'block' : 'none';\n",
              "\n",
              "        async function convertToInteractive(key) {\n",
              "          const element = document.querySelector('#df-a1e82897-ad43-4133-b2f5-837ff8dcde26');\n",
              "          const dataTable =\n",
              "            await google.colab.kernel.invokeFunction('convertToInteractive',\n",
              "                                                     [key], {});\n",
              "          if (!dataTable) return;\n",
              "\n",
              "          const docLinkHtml = 'Like what you see? Visit the ' +\n",
              "            '<a target=\"_blank\" href=https://colab.research.google.com/notebooks/data_table.ipynb>data table notebook</a>'\n",
              "            + ' to learn more about interactive tables.';\n",
              "          element.innerHTML = '';\n",
              "          dataTable['output_type'] = 'display_data';\n",
              "          await google.colab.output.renderOutput(dataTable, element);\n",
              "          const docLink = document.createElement('div');\n",
              "          docLink.innerHTML = docLinkHtml;\n",
              "          element.appendChild(docLink);\n",
              "        }\n",
              "      </script>\n",
              "    </div>\n",
              "  </div>\n",
              "  "
            ]
          },
          "metadata": {},
          "execution_count": 49
        }
      ]
    },
    {
      "cell_type": "code",
      "source": [
        "!ls"
      ],
      "metadata": {
        "id": "s9w409i0NRBT",
        "outputId": "279a5020-b0f7-4471-d0cb-654ff9fa1c06",
        "colab": {
          "base_uri": "https://localhost:8080/"
        }
      },
      "execution_count": null,
      "outputs": [
        {
          "output_type": "stream",
          "name": "stdout",
          "text": [
            "'(1).ipynb'   jpg1_200.jpg   jpg2_200.jpg   jpg3_200.jpg\n",
            " images       jpg1.jpg\t     jpg2.jpg\t    jpg3.jpg\n"
          ]
        }
      ]
    },
    {
      "cell_type": "markdown",
      "source": [
        "###[미션]\n",
        "1. \"/data/image/\" 폴더의 강아지 데이터만 읽어오기(range() 이용)\n",
        "2. 가져온 이미지의 size정보 리스트 변수에 저장하기\n",
        "3. 해당 이미지를 300*300으로 변경후 \"/data/\" 폴더에 저장하기\n",
        "4. 이미지 정보 변수와 pandas 모듈의 DataFrame()을 이용해 DataFrame 구조로 저장 후 출력하기"
      ],
      "metadata": {
        "id": "uENj-m6eLJkl"
      }
    },
    {
      "cell_type": "code",
      "source": [
        "cd /content/drive/MyDrive/review"
      ],
      "metadata": {
        "colab": {
          "base_uri": "https://localhost:8080/"
        },
        "id": "JC63ieTLbXc6",
        "outputId": "efa21a52-fc46-4777-c4ff-c72c14cd2d42"
      },
      "execution_count": 13,
      "outputs": [
        {
          "output_type": "stream",
          "name": "stdout",
          "text": [
            "/content/drive/MyDrive/review\n"
          ]
        }
      ]
    },
    {
      "cell_type": "code",
      "source": [
        "!ls"
      ],
      "metadata": {
        "colab": {
          "base_uri": "https://localhost:8080/"
        },
        "id": "AmLJhrSIbdz8",
        "outputId": "3b6819c9-daf0-4c92-bbd7-032a5b951f74"
      },
      "execution_count": 14,
      "outputs": [
        {
          "output_type": "stream",
          "name": "stdout",
          "text": [
            "'(1).ipynb'   jpg1_200.jpg   jpg2_200.jpg   jpg3_200.jpg\n",
            " images       jpg1.jpg\t     jpg2.jpg\t    jpg3.jpg\n"
          ]
        }
      ]
    },
    {
      "cell_type": "code",
      "source": [
        "cd images"
      ],
      "metadata": {
        "colab": {
          "base_uri": "https://localhost:8080/"
        },
        "id": "5tWB_6mub4TD",
        "outputId": "238811ad-5255-46d6-d703-b0df5e149b50"
      },
      "execution_count": 18,
      "outputs": [
        {
          "output_type": "stream",
          "name": "stdout",
          "text": [
            "/content/drive/MyDrive/review/images\n"
          ]
        }
      ]
    },
    {
      "cell_type": "code",
      "source": [
        "from PIL import Image\n",
        "import pandas as pd\n",
        "\n",
        "fname=\"강아지\"\n",
        "imgsize=[]\n",
        "\n",
        "for fn in range(1,11):\n",
        "  tmp=Image.open(\"./\"+fname+str(fn)+\".jpg\")\n",
        "  imgsize.append(tmp.size)\n",
        "\n",
        "  tmpResize=tmp.resize((300,300))\n",
        "  tmpResize.save(\"./\"+fname+str(fn)+\".jpg\")\n",
        "\n",
        "\n",
        "print(\"======\")\n",
        "\n",
        "print(imgsize)\n",
        "df1=pd.DataFrame(imgsize,columns=[\"가로\",\"세로\"])\n",
        "df1"
      ],
      "metadata": {
        "colab": {
          "base_uri": "https://localhost:8080/",
          "height": 399
        },
        "id": "N1PQotLoK3Zi",
        "outputId": "ca5407a8-f957-490e-e469-240a8d32ecae"
      },
      "execution_count": 19,
      "outputs": [
        {
          "output_type": "stream",
          "name": "stdout",
          "text": [
            "======\n",
            "[(377, 400), (584, 400), (433, 400), (356, 400), (564, 400), (533, 400), (537, 400), (533, 400), (510, 400), (599, 400)]\n"
          ]
        },
        {
          "output_type": "execute_result",
          "data": {
            "text/plain": [
              "    가로   세로\n",
              "0  377  400\n",
              "1  584  400\n",
              "2  433  400\n",
              "3  356  400\n",
              "4  564  400\n",
              "5  533  400\n",
              "6  537  400\n",
              "7  533  400\n",
              "8  510  400\n",
              "9  599  400"
            ],
            "text/html": [
              "\n",
              "  <div id=\"df-c3e0316b-6d88-4a68-9408-59b06299535e\">\n",
              "    <div class=\"colab-df-container\">\n",
              "      <div>\n",
              "<style scoped>\n",
              "    .dataframe tbody tr th:only-of-type {\n",
              "        vertical-align: middle;\n",
              "    }\n",
              "\n",
              "    .dataframe tbody tr th {\n",
              "        vertical-align: top;\n",
              "    }\n",
              "\n",
              "    .dataframe thead th {\n",
              "        text-align: right;\n",
              "    }\n",
              "</style>\n",
              "<table border=\"1\" class=\"dataframe\">\n",
              "  <thead>\n",
              "    <tr style=\"text-align: right;\">\n",
              "      <th></th>\n",
              "      <th>가로</th>\n",
              "      <th>세로</th>\n",
              "    </tr>\n",
              "  </thead>\n",
              "  <tbody>\n",
              "    <tr>\n",
              "      <th>0</th>\n",
              "      <td>377</td>\n",
              "      <td>400</td>\n",
              "    </tr>\n",
              "    <tr>\n",
              "      <th>1</th>\n",
              "      <td>584</td>\n",
              "      <td>400</td>\n",
              "    </tr>\n",
              "    <tr>\n",
              "      <th>2</th>\n",
              "      <td>433</td>\n",
              "      <td>400</td>\n",
              "    </tr>\n",
              "    <tr>\n",
              "      <th>3</th>\n",
              "      <td>356</td>\n",
              "      <td>400</td>\n",
              "    </tr>\n",
              "    <tr>\n",
              "      <th>4</th>\n",
              "      <td>564</td>\n",
              "      <td>400</td>\n",
              "    </tr>\n",
              "    <tr>\n",
              "      <th>5</th>\n",
              "      <td>533</td>\n",
              "      <td>400</td>\n",
              "    </tr>\n",
              "    <tr>\n",
              "      <th>6</th>\n",
              "      <td>537</td>\n",
              "      <td>400</td>\n",
              "    </tr>\n",
              "    <tr>\n",
              "      <th>7</th>\n",
              "      <td>533</td>\n",
              "      <td>400</td>\n",
              "    </tr>\n",
              "    <tr>\n",
              "      <th>8</th>\n",
              "      <td>510</td>\n",
              "      <td>400</td>\n",
              "    </tr>\n",
              "    <tr>\n",
              "      <th>9</th>\n",
              "      <td>599</td>\n",
              "      <td>400</td>\n",
              "    </tr>\n",
              "  </tbody>\n",
              "</table>\n",
              "</div>\n",
              "      <button class=\"colab-df-convert\" onclick=\"convertToInteractive('df-c3e0316b-6d88-4a68-9408-59b06299535e')\"\n",
              "              title=\"Convert this dataframe to an interactive table.\"\n",
              "              style=\"display:none;\">\n",
              "        \n",
              "  <svg xmlns=\"http://www.w3.org/2000/svg\" height=\"24px\"viewBox=\"0 0 24 24\"\n",
              "       width=\"24px\">\n",
              "    <path d=\"M0 0h24v24H0V0z\" fill=\"none\"/>\n",
              "    <path d=\"M18.56 5.44l.94 2.06.94-2.06 2.06-.94-2.06-.94-.94-2.06-.94 2.06-2.06.94zm-11 1L8.5 8.5l.94-2.06 2.06-.94-2.06-.94L8.5 2.5l-.94 2.06-2.06.94zm10 10l.94 2.06.94-2.06 2.06-.94-2.06-.94-.94-2.06-.94 2.06-2.06.94z\"/><path d=\"M17.41 7.96l-1.37-1.37c-.4-.4-.92-.59-1.43-.59-.52 0-1.04.2-1.43.59L10.3 9.45l-7.72 7.72c-.78.78-.78 2.05 0 2.83L4 21.41c.39.39.9.59 1.41.59.51 0 1.02-.2 1.41-.59l7.78-7.78 2.81-2.81c.8-.78.8-2.07 0-2.86zM5.41 20L4 18.59l7.72-7.72 1.47 1.35L5.41 20z\"/>\n",
              "  </svg>\n",
              "      </button>\n",
              "      \n",
              "  <style>\n",
              "    .colab-df-container {\n",
              "      display:flex;\n",
              "      flex-wrap:wrap;\n",
              "      gap: 12px;\n",
              "    }\n",
              "\n",
              "    .colab-df-convert {\n",
              "      background-color: #E8F0FE;\n",
              "      border: none;\n",
              "      border-radius: 50%;\n",
              "      cursor: pointer;\n",
              "      display: none;\n",
              "      fill: #1967D2;\n",
              "      height: 32px;\n",
              "      padding: 0 0 0 0;\n",
              "      width: 32px;\n",
              "    }\n",
              "\n",
              "    .colab-df-convert:hover {\n",
              "      background-color: #E2EBFA;\n",
              "      box-shadow: 0px 1px 2px rgba(60, 64, 67, 0.3), 0px 1px 3px 1px rgba(60, 64, 67, 0.15);\n",
              "      fill: #174EA6;\n",
              "    }\n",
              "\n",
              "    [theme=dark] .colab-df-convert {\n",
              "      background-color: #3B4455;\n",
              "      fill: #D2E3FC;\n",
              "    }\n",
              "\n",
              "    [theme=dark] .colab-df-convert:hover {\n",
              "      background-color: #434B5C;\n",
              "      box-shadow: 0px 1px 3px 1px rgba(0, 0, 0, 0.15);\n",
              "      filter: drop-shadow(0px 1px 2px rgba(0, 0, 0, 0.3));\n",
              "      fill: #FFFFFF;\n",
              "    }\n",
              "  </style>\n",
              "\n",
              "      <script>\n",
              "        const buttonEl =\n",
              "          document.querySelector('#df-c3e0316b-6d88-4a68-9408-59b06299535e button.colab-df-convert');\n",
              "        buttonEl.style.display =\n",
              "          google.colab.kernel.accessAllowed ? 'block' : 'none';\n",
              "\n",
              "        async function convertToInteractive(key) {\n",
              "          const element = document.querySelector('#df-c3e0316b-6d88-4a68-9408-59b06299535e');\n",
              "          const dataTable =\n",
              "            await google.colab.kernel.invokeFunction('convertToInteractive',\n",
              "                                                     [key], {});\n",
              "          if (!dataTable) return;\n",
              "\n",
              "          const docLinkHtml = 'Like what you see? Visit the ' +\n",
              "            '<a target=\"_blank\" href=https://colab.research.google.com/notebooks/data_table.ipynb>data table notebook</a>'\n",
              "            + ' to learn more about interactive tables.';\n",
              "          element.innerHTML = '';\n",
              "          dataTable['output_type'] = 'display_data';\n",
              "          await google.colab.output.renderOutput(dataTable, element);\n",
              "          const docLink = document.createElement('div');\n",
              "          docLink.innerHTML = docLinkHtml;\n",
              "          element.appendChild(docLink);\n",
              "        }\n",
              "      </script>\n",
              "    </div>\n",
              "  </div>\n",
              "  "
            ]
          },
          "metadata": {},
          "execution_count": 19
        }
      ]
    },
    {
      "cell_type": "code",
      "source": [
        ""
      ],
      "metadata": {
        "id": "SEFDC5QcNJ3X"
      },
      "execution_count": null,
      "outputs": []
    }
  ]
}