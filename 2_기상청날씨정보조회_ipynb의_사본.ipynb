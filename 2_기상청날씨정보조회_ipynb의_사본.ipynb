{
  "cells": [
    {
      "cell_type": "markdown",
      "metadata": {
        "id": "view-in-github",
        "colab_type": "text"
      },
      "source": [
        "<a href=\"https://colab.research.google.com/github/Welle-Kim/Based-on-the-Review/blob/master/2_%EA%B8%B0%EC%83%81%EC%B2%AD%EB%82%A0%EC%94%A8%EC%A0%95%EB%B3%B4%EC%A1%B0%ED%9A%8C_ipynb%EC%9D%98_%EC%82%AC%EB%B3%B8.ipynb\" target=\"_parent\"><img src=\"https://colab.research.google.com/assets/colab-badge.svg\" alt=\"Open In Colab\"/></a>"
      ]
    },
    {
      "cell_type": "markdown",
      "id": "3aef3096",
      "metadata": {
        "id": "3aef3096"
      },
      "source": [
        "## 기상청 날씨 조회 \n",
        "- 참조:https://data.kma.go.kr/data/grnd/selectAsosRltmList.do?pgmNo=36&tabNo=2"
      ]
    },
    {
      "cell_type": "code",
      "execution_count": 33,
      "id": "4d683a1e",
      "metadata": {
        "id": "4d683a1e"
      },
      "outputs": [],
      "source": [
        "#필요한 모듈 연결하기\n",
        "\n",
        "from datetime import datetime, timedelta\n",
        "import pandas as pd\n",
        "import requests\n",
        "import json"
      ]
    },
    {
      "cell_type": "markdown",
      "id": "43563ffc",
      "metadata": {
        "id": "43563ffc"
      },
      "source": [
        "### 1. 날짜 입력 확인\n",
        "[조건]\n",
        "- 시작일/종료일 입력받기(예: 2022-01-01)\n",
        "- 입력값이 10자리가 아닌경우 다시 입력 받기\n",
        "- \"-\"를 뺀 나머지 입력 데이터가 모두 숫자인지 아닌지 확인"
      ]
    },
    {
      "cell_type": "code",
      "execution_count": 34,
      "id": "a4ff0692",
      "metadata": {
        "id": "a4ff0692"
      },
      "outputs": [],
      "source": [
        "# 시작일 입력 함수\n",
        "def startDate():\n",
        "    # while문을 이용해 조건이 만족될때까지 계속 실행\n",
        "    while True:\n",
        "        # 데이터 입력\n",
        "        sDate = input(\"조회 시작일 입력(예:2022-01-01)\")\n",
        "        \n",
        "        # 입력값이 10자리가 아닌경우 다시 입력 받기\n",
        "        if len(sDate) != 10:\n",
        "            print('\"2022-01-01\"와 같이 \"-\"를 포함해 10자리로 입력하세요.')\n",
        "            continue\n",
        "            \n",
        "        # \"-\"를 뺀 나머지 입력 데이터가 모두 숫자인지 아닌지 확인\n",
        "        # 문자 포함시 다시 입력받기\n",
        "        try:\n",
        "            sdt=int(sDate.replace(\"-\",\"\"))\n",
        "            break\n",
        "        except:\n",
        "            print(\"년, 월, 일 자리에 문자가 포함되어 있습니다.\\n다시 입력하세요\")\n",
        "            continue\n",
        "            \n",
        "    return sDate"
      ]
    },
    {
      "cell_type": "markdown",
      "id": "9aa97408",
      "metadata": {
        "id": "9aa97408"
      },
      "source": [
        "### 2. 종료일 입력\n",
        "- 시작일과 동일한 형식으로 입력\n",
        "- 종료일은 시작일 이전의 데이터 입력 불가\n",
        "- 종료일이 오늘 날짜라면 -1일 진행"
      ]
    },
    {
      "cell_type": "code",
      "execution_count": 35,
      "id": "70013c4c",
      "metadata": {
        "id": "70013c4c"
      },
      "outputs": [],
      "source": [
        "# 종료일 입력\n",
        "def endDate():\n",
        "    sDate=startDate() # 시작일 입력 받기\n",
        "    \n",
        "    # while문을 이용해 조건이 만족될때까지 계속 실행\n",
        "    while True:\n",
        "        # 데이터 입력\n",
        "        eDate = input(\"종료일 입력:(예:2022-01-01)\")\n",
        "        \n",
        "        # 입력값이 10자리가 아닌경우 다시 입력 받기\n",
        "        if len(eDate) != 10:\n",
        "            print('\"2022-01-01\"와 같이 \"-\"를 포함해 10자리로 입력하세요.')\n",
        "            continue\n",
        "            \n",
        "        # \"-\"를 뺀 나머지 입력 데이터가 모두 숫자인지 아닌지 확인\n",
        "        # 문자 포함시 다시 입력받기\n",
        "        # 입력한 종료일이 오늘 날짜인지 확인 => 오늘날짜-1 한 날짜로 세팅\n",
        "        # 입력한 종료일이 시작일보다 큰거나 같은 값인지 확인 => 재입력\n",
        "        try:\n",
        "            edt = int(eDate.replace(\"-\",\"\"))\n",
        "            today = datetime.today()  # 현재 시스템 날짜 가져오기\n",
        "            newDate=today.strftime('%Y%m%d') # 날짜형 => 문자형으로 변경\n",
        "\n",
        "            # 입력데이터가 현재일보다 크거나 같은 데이터인지 확인\n",
        "            if edt >= int(newDate):\n",
        "                # 크거나 같다면 실행 전날로 종료일 변경\n",
        "                eDate=(datetime.today()-timedelta(days=1)).strftime(\"%Y-%m-%d\")\n",
        "                print('데이터는 당일 이전 자료까지만 제공합니다.')\n",
        "\n",
        "            if int(sDate.replace(\"-\", \"\")) > edt:\n",
        "                print('종료일이 시작일 보다 이전 날짜입니다.\\n다시 입력해주세요:')\n",
        "                continue\n",
        "\n",
        "            break\n",
        "            \n",
        "        except:\n",
        "            print(\"년, 월, 일 자리에 문자가 포함되어 있습니다.\\n다시 입력하세요\")\n",
        "            continue\n",
        "            \n",
        "    return sDate, eDate"
      ]
    },
    {
      "cell_type": "markdown",
      "id": "b14144a8",
      "metadata": {
        "id": "b14144a8"
      },
      "source": [
        "### 3. 측정 지점 코드 확인\n",
        "- 측정 지점의 이름을 입력하면 해당 지점 코드 출력"
      ]
    },
    {
      "cell_type": "code",
      "execution_count": 36,
      "id": "b43a3628",
      "metadata": {
        "id": "b43a3628"
      },
      "outputs": [],
      "source": [
        "def getRegCode(inRegName=\"서울\"):\n",
        "    df_regCode = pd.read_csv(\"./기상청_지역코드.csv\", encoding=\"cp949\")\n",
        "    regCode = df_regCode[df_regCode['지점명']==inRegName]  # 원하는 지점명 검색\n",
        "    #display(regCode)\n",
        "    if len(regCode) == 1:  # 지점명 검색 여부 확인\n",
        "        # 검색 되면 코드 전달\n",
        "        return int(regCode['지점'].values)\n",
        "    else:\n",
        "        # 검색 자료가 없으면 사용자가 강제 에러 발생\n",
        "        raise Exception(f\"해당 지역명은 없습니다.\\n지역명 확인후 입력하세요.\\n\\n{inRegName}\")"
      ]
    },
    {
      "cell_type": "markdown",
      "id": "8ee133f5",
      "metadata": {
        "id": "8ee133f5"
      },
      "source": [
        "### 4. 날씨데이터 조회 url 만들기\n",
        "- 시작일/종료일을 기준으로 지점명에 해당하는 날씨정보 조회 url 생성"
      ]
    },
    {
      "cell_type": "code",
      "execution_count": 37,
      "id": "2f95105f",
      "metadata": {
        "id": "2f95105f"
      },
      "outputs": [],
      "source": [
        "# url 생성\n",
        "def getWturl(sDate, eDate, pointID, numRows=10):\n",
        "    Key = \"VFYXI%2F3A5kIk7QVsO1epAlZSb6ZtCO9N5VC%2FMF3pW6oZ7%2BsFrvH1Y9y0UfmVzTnA0k2FasoNM6t6JsY7%2BEwNEw%3D%3D\"\n",
        "    url = \"http://apis.data.go.kr/1360000/AsosDalyInfoService/getWthrDataList?serviceKey=\" + Key\n",
        "    url = url + \"&pageNo=1&dataCd=ASOS&dateCd=DAY&numOfRows=\" + str(numRows)\n",
        "    url = url + \"&dataType=JSON\" \n",
        "    url = url + \"&startDt=\" + str(sDate)\n",
        "    url = url + \"&endDt=\" + str(eDate)\n",
        "    url = url + \"&stnIds=\" + str(pointID)\n",
        "    #print(url)\n",
        "    \n",
        "    return url"
      ]
    },
    {
      "cell_type": "markdown",
      "id": "35c01ddf",
      "metadata": {
        "id": "35c01ddf"
      },
      "source": [
        "### 5. url을 이용해 실제 데이터 조회 및 DataFrame으로 저장\n",
        "- 1차 조회후 전체 데이터 개수 확인\n",
        "- 전체 데이터 개수를 이용한 1페이지에 조회 데이터 전체 가져오기\n",
        "- 가져온 데이터에서 필요한 데이터만 DataFrame로 최종 출력하기"
      ]
    },
    {
      "cell_type": "code",
      "execution_count": 38,
      "id": "4a03baf7",
      "metadata": {
        "id": "4a03baf7"
      },
      "outputs": [],
      "source": [
        "def getJsonData(url):\n",
        "    soup_json=requests.get(url)\n",
        "    if soup_json.status_code != 200:\n",
        "        exit(f\"데이터를 받지 못했습니다. 에러코드:{soup_json.status_code}\" )\n",
        "    json_obj=json.loads(soup_json.text)  # json 코드 읽어오기/딕셔너리 구조\n",
        "\n",
        "    return json_obj"
      ]
    },
    {
      "cell_type": "code",
      "execution_count": 39,
      "id": "3ef544de",
      "metadata": {
        "id": "3ef544de"
      },
      "outputs": [],
      "source": [
        "def getDataFrame(sDate, eDate, pointID):\n",
        "    url=getWturl(sDate.replace(\"-\",\"\"), eDate.replace(\"-\",\"\"), pointID) # 1차 url 생성\n",
        "    json_obj=getJsonData(url)  # 1차 데이터 추출\n",
        "\n",
        "    numRows=json_obj[\"response\"][\"body\"][\"totalCount\"] # 조회데이터 건수\n",
        "\n",
        "    url=getWturl(sDate.replace(\"-\",\"\"), eDate.replace(\"-\",\"\"), pointID, numRows) # url 생성\n",
        "    json_obj=getJsonData(url)   # 최종 데이터 추출\n",
        "    items=json_obj[\"response\"][\"body\"][\"items\"]['item'] # 필요한 item 값만 가져오기\n",
        "    df1=pd.DataFrame(items)  # items(딕셔너리 구조)를 DataFrame으로 변경\n",
        "    \n",
        "    df1=df1[['stnNm', \"tm\", \"avgTa\", \"minTa\", \"maxTa\", 'sumRn']] # 원하는 열만 추출\n",
        "    \n",
        "    return df1"
      ]
    },
    {
      "cell_type": "code",
      "execution_count": 40,
      "id": "69b92786",
      "metadata": {
        "id": "69b92786",
        "outputId": "904bf4df-c6d2-4340-c602-2cc64b750d9f",
        "colab": {
          "base_uri": "https://localhost:8080/"
        }
      },
      "outputs": [
        {
          "output_type": "stream",
          "name": "stdout",
          "text": [
            "조회 시작일 입력(예:2022-01-01)2022-01-01\n",
            "종료일 입력:(예:2022-01-01)2022-05-05\n",
            "지점명 입력:속초\n",
            "<class 'pandas.core.frame.DataFrame'>\n",
            "RangeIndex: 125 entries, 0 to 124\n",
            "Data columns (total 6 columns):\n",
            " #   Column  Non-Null Count  Dtype \n",
            "---  ------  --------------  ----- \n",
            " 0   stnNm   125 non-null    object\n",
            " 1   tm      125 non-null    object\n",
            " 2   avgTa   125 non-null    object\n",
            " 3   minTa   125 non-null    object\n",
            " 4   maxTa   125 non-null    object\n",
            " 5   sumRn   125 non-null    object\n",
            "dtypes: object(6)\n",
            "memory usage: 6.0+ KB\n"
          ]
        }
      ],
      "source": [
        "sDate, eDate = endDate() # 시작일/종료일 사용자 입력 입력\n",
        "pointName=input(\"지점명 입력:\") # 지점명 입력\n",
        "pointID=getRegCode(pointName)   # 지점명에 의한 지점 코드 추출\n",
        "\n",
        "df1=getDataFrame(sDate, eDate, pointID)\n",
        "df1.info()\n"
      ]
    },
    {
      "cell_type": "code",
      "execution_count": 41,
      "id": "ca13c060",
      "metadata": {
        "id": "ca13c060",
        "outputId": "794ba7c2-9d6b-4f3c-ab62-b2f30ff09c2f",
        "colab": {
          "base_uri": "https://localhost:8080/"
        }
      },
      "outputs": [
        {
          "output_type": "stream",
          "name": "stdout",
          "text": [
            "20220706 <class 'str'>\n",
            "2022-07-06 00:00:00 <class 'datetime.datetime'>\n",
            "2022-07-05 15:59:40.547261\n"
          ]
        }
      ],
      "source": [
        "dt=datetime.today().strftime(\"%Y%m%d\")\n",
        "print(dt, type(dt))\n",
        "newdt=datetime.strptime(dt[2:], \"%y%m%d\")\n",
        "print(newdt, type(newdt))\n",
        "print(datetime.today()-timedelta(days=1)) "
      ]
    },
    {
      "cell_type": "code",
      "execution_count": 42,
      "id": "3ffb8e0c",
      "metadata": {
        "id": "3ffb8e0c",
        "outputId": "71cbb5f3-044b-4473-ae31-632bf65b7e2f",
        "colab": {
          "base_uri": "https://localhost:8080/"
        }
      },
      "outputs": [
        {
          "output_type": "execute_result",
          "data": {
            "text/plain": [
              "101"
            ]
          },
          "metadata": {},
          "execution_count": 42
        }
      ],
      "source": [
        "getRegCode(\"춘천\")"
      ]
    },
    {
      "cell_type": "code",
      "execution_count": 43,
      "id": "f12c2395",
      "metadata": {
        "id": "f12c2395",
        "outputId": "93425fab-129e-45a6-d559-a9cba30bd642",
        "colab": {
          "base_uri": "https://localhost:8080/"
        }
      },
      "outputs": [
        {
          "output_type": "execute_result",
          "data": {
            "text/plain": [
              "datetime.datetime(2022, 7, 13, 15, 59, 40, 578799)"
            ]
          },
          "metadata": {},
          "execution_count": 43
        }
      ],
      "source": [
        "# 마이크로초, 밀리초, 초, 분, 시, 일, 주\n",
        "datetime.today()+timedelta(weeks=1)  # 1주 증가"
      ]
    },
    {
      "cell_type": "markdown",
      "id": "1ad96fb2",
      "metadata": {
        "id": "1ad96fb2"
      },
      "source": [
        "### 6. 시작일을 입력하면 해당 일부터 오늘까지 데이터 전체를 조회하기\n",
        "- 기준일 입력 => 해당 일을 기준으로 1월부터 12월까지 데이터 조회"
      ]
    },
    {
      "cell_type": "code",
      "execution_count": 44,
      "id": "30171bfd",
      "metadata": {
        "id": "30171bfd",
        "outputId": "9d256909-ff18-4ee1-f009-afd3558cb674",
        "colab": {
          "base_uri": "https://localhost:8080/"
        }
      },
      "outputs": [
        {
          "output_type": "stream",
          "name": "stdout",
          "text": [
            "2023-07-06 15:59:40.607196\n",
            "2023-07-06 15:59:40.608784\n",
            "DatetimeIndex(['2000-04-01', '2000-05-01', '2000-06-01', '2000-07-01',\n",
            "               '2000-08-01', '2000-09-01', '2000-10-01', '2000-11-01',\n",
            "               '2000-12-01', '2001-01-01',\n",
            "               ...\n",
            "               '2021-10-01', '2021-11-01', '2021-12-01', '2022-01-01',\n",
            "               '2022-02-01', '2022-03-01', '2022-04-01', '2022-05-01',\n",
            "               '2022-06-01', '2022-07-01'],\n",
            "              dtype='datetime64[ns]', length=268, freq='MS')\n",
            "DatetimeIndex(['2000-03-31', '2000-04-30', '2000-05-31', '2000-06-30',\n",
            "               '2000-07-31', '2000-08-31', '2000-09-30', '2000-10-31',\n",
            "               '2000-11-30', '2000-12-31',\n",
            "               ...\n",
            "               '2021-09-30', '2021-10-31', '2021-11-30', '2021-12-31',\n",
            "               '2022-01-31', '2022-02-28', '2022-03-31', '2022-04-30',\n",
            "               '2022-05-31', '2022-06-30'],\n",
            "              dtype='datetime64[ns]', length=268, freq='M')\n",
            "DatetimeIndex(['2000-03-23', '2000-03-24', '2000-03-25', '2000-03-26',\n",
            "               '2000-03-27', '2000-03-28', '2000-03-29', '2000-03-30',\n",
            "               '2000-03-31', '2000-04-01',\n",
            "               ...\n",
            "               '2022-06-27', '2022-06-28', '2022-06-29', '2022-06-30',\n",
            "               '2022-07-01', '2022-07-02', '2022-07-03', '2022-07-04',\n",
            "               '2022-07-05', '2022-07-06'],\n",
            "              dtype='datetime64[ns]', length=8141, freq='D')\n"
          ]
        }
      ],
      "source": [
        "from dateutil.relativedelta import relativedelta\n",
        "\n",
        "print(datetime.today()+relativedelta(months=12)) # 월단위 증감\n",
        "print(datetime.today()+relativedelta(years=1))  # 년단위 증감\n",
        "\n",
        "sDate = \"2000-03-01\"\n",
        "#year=2000/month=03/day=01\n",
        "sdt=pd.date_range(\"2000-03-23\", datetime.today(), freq=\"MS\")\n",
        "print(sdt)\n",
        "sdt=pd.date_range(\"2000-03-23\", datetime.today(), freq=\"M\")\n",
        "print(sdt)\n",
        "sdt=pd.date_range(\"2000-03-23\", datetime.today(), freq=\"D\")\n",
        "print(sdt)"
      ]
    },
    {
      "cell_type": "code",
      "execution_count": 45,
      "id": "376ac7dc",
      "metadata": {
        "id": "376ac7dc",
        "outputId": "a0129f1e-d062-4e0a-96c1-995efc00c09b",
        "colab": {
          "base_uri": "https://localhost:8080/"
        }
      },
      "outputs": [
        {
          "output_type": "stream",
          "name": "stdout",
          "text": [
            "2000 2022\n",
            "[['2000-03-30', '2000-12-31'], ['2001-01-01', '2001-12-31'], ['2002-01-01', '2002-12-31'], ['2003-01-01', '2003-12-31'], ['2004-01-01', '2004-12-31'], ['2005-01-01', '2005-12-31'], ['2006-01-01', '2006-12-31'], ['2007-01-01', '2007-12-31'], ['2008-01-01', '2008-12-31'], ['2009-01-01', '2009-12-31'], ['2010-01-01', '2010-12-31'], ['2011-01-01', '2011-12-31'], ['2012-01-01', '2012-12-31'], ['2013-01-01', '2013-12-31'], ['2014-01-01', '2014-12-31'], ['2015-01-01', '2015-12-31'], ['2016-01-01', '2016-12-31'], ['2017-01-01', '2017-12-31'], ['2018-01-01', '2018-12-31'], ['2019-01-01', '2019-12-31'], ['2020-01-01', '2020-12-31'], ['2021-01-01', '2021-12-31'], ['2022-01-01', '2022-12-31']]\n"
          ]
        }
      ],
      "source": [
        "sDate=\"2000-03-30\"\n",
        "\n",
        "date_list=[]\n",
        "sdt=int(sDate[:4])  # 입력 데이터에서 4개 출력\n",
        "edt=datetime.today().year  # 오늘날짜에서 년도만 빼오기\n",
        "print(sdt, edt)\n",
        "\n",
        "date_list=[]\n",
        "cnt=0\n",
        "for i in range(sdt, edt+1):\n",
        "    if cnt == 0:\n",
        "        #print(sDate)\n",
        "        #print(str(i)+\"-12-31\")\n",
        "        date_list.append([sDate, str(i)+\"-12-31\"])\n",
        "        cnt=1\n",
        "    else:\n",
        "        #print(str(i)+\"-01-01\")\n",
        "        #print(str(i)+\"-12-31\")\n",
        "        date_list.append([str(i)+\"-01-01\", str(i)+\"-12-31\"])\n",
        "        \n",
        "print(date_list)  \n"
      ]
    },
    {
      "cell_type": "markdown",
      "id": "ef953cb5",
      "metadata": {
        "id": "ef953cb5"
      },
      "source": [
        "[미션] 위 코드의 결과를 이용해 날짜를 추출해 하나의 DF로 출력 "
      ]
    },
    {
      "cell_type": "code",
      "execution_count": 46,
      "id": "9f305e4b",
      "metadata": {
        "id": "9f305e4b",
        "outputId": "8994cbae-6039-4e92-f914-11e77e71e275",
        "colab": {
          "base_uri": "https://localhost:8080/"
        }
      },
      "outputs": [
        {
          "output_type": "stream",
          "name": "stdout",
          "text": [
            "지점명 입력:속초\n",
            "2022-07-05\n",
            "<class 'pandas.core.frame.DataFrame'>\n",
            "RangeIndex: 8133 entries, 0 to 8132\n",
            "Data columns (total 6 columns):\n",
            " #   Column  Non-Null Count  Dtype \n",
            "---  ------  --------------  ----- \n",
            " 0   stnNm   8133 non-null   object\n",
            " 1   tm      8133 non-null   object\n",
            " 2   avgTa   8133 non-null   object\n",
            " 3   minTa   8133 non-null   object\n",
            " 4   maxTa   8133 non-null   object\n",
            " 5   sumRn   8133 non-null   object\n",
            "dtypes: object(6)\n",
            "memory usage: 381.4+ KB\n"
          ]
        }
      ],
      "source": [
        "pointName=input(\"지점명 입력:\") # 지점명 입력\n",
        "df=pd.DataFrame()\n",
        "for dt in date_list:\n",
        "    pointID=getRegCode(pointName)   # 지점명에 의한 지점 코드 추출\n",
        "    if int(dt[1].replace(\"-\",\"\")) >= int(datetime.today().strftime(\"%Y%m%d\")):\n",
        "        edt=(datetime.today()-timedelta(days=1)).strftime(\"%Y-%m-%d\")\n",
        "        print(edt)\n",
        "        df1=getDataFrame(dt[0], edt, pointID)\n",
        "    else:\n",
        "        df1=getDataFrame(dt[0], dt[1], pointID)\n",
        "    df=pd.concat([df, df1], ignore_index=True)\n",
        "df.info()    "
      ]
    }
  ],
  "metadata": {
    "kernelspec": {
      "display_name": "Python 3 (ipykernel)",
      "language": "python",
      "name": "python3"
    },
    "language_info": {
      "codemirror_mode": {
        "name": "ipython",
        "version": 3
      },
      "file_extension": ".py",
      "mimetype": "text/x-python",
      "name": "python",
      "nbconvert_exporter": "python",
      "pygments_lexer": "ipython3",
      "version": "3.9.7"
    },
    "colab": {
      "name": "2. 기상청날씨정보조회.ipynb의 사본",
      "provenance": [],
      "include_colab_link": true
    }
  },
  "nbformat": 4,
  "nbformat_minor": 5
}