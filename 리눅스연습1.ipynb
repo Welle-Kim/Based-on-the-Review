{
  "nbformat": 4,
  "nbformat_minor": 0,
  "metadata": {
    "colab": {
      "provenance": [],
      "authorship_tag": "ABX9TyMogkWnxTZX3YC95bJw6ijo",
      "include_colab_link": true
    },
    "kernelspec": {
      "name": "python3",
      "display_name": "Python 3"
    },
    "language_info": {
      "name": "python"
    }
  },
  "cells": [
    {
      "cell_type": "markdown",
      "metadata": {
        "id": "view-in-github",
        "colab_type": "text"
      },
      "source": [
        "<a href=\"https://colab.research.google.com/github/Welle-Kim/Based-on-the-Review/blob/master/%EB%A6%AC%EB%88%85%EC%8A%A4%EC%97%B0%EC%8A%B51.ipynb\" target=\"_parent\"><img src=\"https://colab.research.google.com/assets/colab-badge.svg\" alt=\"Open In Colab\"/></a>"
      ]
    },
    {
      "cell_type": "code",
      "execution_count": 1,
      "metadata": {
        "colab": {
          "base_uri": "https://localhost:8080/"
        },
        "id": "HqafwmaPiuxL",
        "outputId": "1a11300e-d794-4d10-ada5-e69710d026e1"
      },
      "outputs": [
        {
          "output_type": "stream",
          "name": "stdout",
          "text": [
            "/content\n"
          ]
        }
      ],
      "source": [
        "!pwd"
      ]
    },
    {
      "cell_type": "code",
      "source": [
        "mkdir linux"
      ],
      "metadata": {
        "id": "ytLO9dxji0KL"
      },
      "execution_count": 3,
      "outputs": []
    },
    {
      "cell_type": "code",
      "source": [
        "ls"
      ],
      "metadata": {
        "colab": {
          "base_uri": "https://localhost:8080/"
        },
        "id": "ibmaS17KjJlW",
        "outputId": "0ad9f190-aa66-4dd4-bbda-1c7035c5a508"
      },
      "execution_count": 6,
      "outputs": [
        {
          "output_type": "stream",
          "name": "stdout",
          "text": [
            "\u001b[0m\u001b[01;34mlinux\u001b[0m/  \u001b[01;34msample_data\u001b[0m/\n"
          ]
        }
      ]
    },
    {
      "cell_type": "code",
      "source": [
        "cd linux"
      ],
      "metadata": {
        "colab": {
          "base_uri": "https://localhost:8080/"
        },
        "id": "hp1SjDO9jM8k",
        "outputId": "dd98b4a5-e425-4549-c62b-80437983f4f1"
      },
      "execution_count": 7,
      "outputs": [
        {
          "output_type": "stream",
          "name": "stdout",
          "text": [
            "/content/linux\n"
          ]
        }
      ]
    },
    {
      "cell_type": "code",
      "source": [
        "pwd"
      ],
      "metadata": {
        "colab": {
          "base_uri": "https://localhost:8080/",
          "height": 35
        },
        "id": "TtzG_-B_jWHu",
        "outputId": "0806b8f7-2fd5-4f93-db0e-9bf58ae9106a"
      },
      "execution_count": 8,
      "outputs": [
        {
          "output_type": "execute_result",
          "data": {
            "text/plain": [
              "'/content/linux'"
            ],
            "application/vnd.google.colaboratory.intrinsic+json": {
              "type": "string"
            }
          },
          "metadata": {},
          "execution_count": 8
        }
      ]
    },
    {
      "cell_type": "code",
      "source": [
        "mkdir blue"
      ],
      "metadata": {
        "id": "PUyLfD16jYD3"
      },
      "execution_count": 9,
      "outputs": []
    },
    {
      "cell_type": "code",
      "source": [
        "mkdir green"
      ],
      "metadata": {
        "id": "NbCix4IhjdWU"
      },
      "execution_count": 10,
      "outputs": []
    },
    {
      "cell_type": "code",
      "source": [
        "mkdir red"
      ],
      "metadata": {
        "id": "nXjprDOsjhJb"
      },
      "execution_count": 11,
      "outputs": []
    },
    {
      "cell_type": "code",
      "source": [
        "ls -a"
      ],
      "metadata": {
        "colab": {
          "base_uri": "https://localhost:8080/"
        },
        "id": "2j9DY-ZVjibh",
        "outputId": "1434a105-c34b-4c9e-885e-86b5290d07e6"
      },
      "execution_count": 12,
      "outputs": [
        {
          "output_type": "stream",
          "name": "stdout",
          "text": [
            "\u001b[0m\u001b[01;34m.\u001b[0m/  \u001b[01;34m..\u001b[0m/  \u001b[01;34mblue\u001b[0m/  \u001b[01;34mgreen\u001b[0m/  \u001b[01;34mred\u001b[0m/\n"
          ]
        }
      ]
    },
    {
      "cell_type": "code",
      "source": [
        "cd red"
      ],
      "metadata": {
        "colab": {
          "base_uri": "https://localhost:8080/"
        },
        "id": "GBVT64zqjk6Z",
        "outputId": "83cd9f19-23ae-4786-bfb3-0c0c80c8ee42"
      },
      "execution_count": 13,
      "outputs": [
        {
          "output_type": "stream",
          "name": "stdout",
          "text": [
            "/content/linux/red\n"
          ]
        }
      ]
    },
    {
      "cell_type": "code",
      "source": [
        "mkdir white"
      ],
      "metadata": {
        "id": "ANBAw2Dqjrkk"
      },
      "execution_count": 14,
      "outputs": []
    },
    {
      "cell_type": "code",
      "source": [
        "cd white"
      ],
      "metadata": {
        "colab": {
          "base_uri": "https://localhost:8080/"
        },
        "id": "1oRpQDX5jthY",
        "outputId": "17fa7e9b-fb1b-4827-e1d8-4a8cc1451563"
      },
      "execution_count": 15,
      "outputs": [
        {
          "output_type": "stream",
          "name": "stdout",
          "text": [
            "/content/linux/red/white\n"
          ]
        }
      ]
    },
    {
      "cell_type": "code",
      "source": [
        "ls"
      ],
      "metadata": {
        "id": "Ov9DLlPnjvJ0"
      },
      "execution_count": 16,
      "outputs": []
    },
    {
      "cell_type": "code",
      "source": [
        "!touch my.txt #파일이 있을 때: 수정날짜가 현재날짜로 #파일이 없을때: 파일생성"
      ],
      "metadata": {
        "id": "f4nQ37EnjxIY"
      },
      "execution_count": 19,
      "outputs": []
    },
    {
      "cell_type": "code",
      "source": [
        "ls -al #white는 0이다 -> 아무 내용이 없기 때문"
      ],
      "metadata": {
        "colab": {
          "base_uri": "https://localhost:8080/"
        },
        "id": "Vf0Mbjrjjzp8",
        "outputId": "0e3dfb54-2d18-46d0-a53a-8f1b712b54b5"
      },
      "execution_count": 20,
      "outputs": [
        {
          "output_type": "stream",
          "name": "stdout",
          "text": [
            "total 8\n",
            "drwxr-xr-x 2 root root 4096 Oct  5 06:38 \u001b[0m\u001b[01;34m.\u001b[0m/\n",
            "drwxr-xr-x 3 root root 4096 Oct  5 06:38 \u001b[01;34m..\u001b[0m/\n",
            "-rw-r--r-- 1 root root    0 Oct  5 06:40 my.txt\n"
          ]
        }
      ]
    },
    {
      "cell_type": "code",
      "source": [
        "pwd"
      ],
      "metadata": {
        "colab": {
          "base_uri": "https://localhost:8080/",
          "height": 35
        },
        "id": "meVCg6i6kVeJ",
        "outputId": "af289c53-28be-48c7-a02a-3d611caaaf46"
      },
      "execution_count": 21,
      "outputs": [
        {
          "output_type": "execute_result",
          "data": {
            "text/plain": [
              "'/content/linux/red/white'"
            ],
            "application/vnd.google.colaboratory.intrinsic+json": {
              "type": "string"
            }
          },
          "metadata": {},
          "execution_count": 21
        }
      ]
    },
    {
      "cell_type": "code",
      "source": [
        "cd .."
      ],
      "metadata": {
        "colab": {
          "base_uri": "https://localhost:8080/"
        },
        "id": "Up11aPEHkrtm",
        "outputId": "900c2887-75c2-43c8-8c6d-bf41614dbc7f"
      },
      "execution_count": 22,
      "outputs": [
        {
          "output_type": "stream",
          "name": "stdout",
          "text": [
            "/content/linux/red\n"
          ]
        }
      ]
    },
    {
      "cell_type": "code",
      "source": [
        "ls -al"
      ],
      "metadata": {
        "colab": {
          "base_uri": "https://localhost:8080/"
        },
        "id": "WVGz4bSJkt72",
        "outputId": "da5f4f13-e378-4a73-f3c4-035bf50dceda"
      },
      "execution_count": 23,
      "outputs": [
        {
          "output_type": "stream",
          "name": "stdout",
          "text": [
            "total 12\n",
            "drwxr-xr-x 3 root root 4096 Oct  5 06:38 \u001b[0m\u001b[01;34m.\u001b[0m/\n",
            "drwxr-xr-x 5 root root 4096 Oct  5 06:37 \u001b[01;34m..\u001b[0m/\n",
            "drwxr-xr-x 2 root root 4096 Oct  5 06:38 \u001b[01;34mwhite\u001b[0m/\n"
          ]
        }
      ]
    },
    {
      "cell_type": "code",
      "source": [
        "pwd"
      ],
      "metadata": {
        "colab": {
          "base_uri": "https://localhost:8080/",
          "height": 35
        },
        "id": "VQcGQaIikxsg",
        "outputId": "ad595364-3e9d-4b15-de9e-e9b9aded48c5"
      },
      "execution_count": 24,
      "outputs": [
        {
          "output_type": "execute_result",
          "data": {
            "text/plain": [
              "'/content/linux/red'"
            ],
            "application/vnd.google.colaboratory.intrinsic+json": {
              "type": "string"
            }
          },
          "metadata": {},
          "execution_count": 24
        }
      ]
    },
    {
      "cell_type": "code",
      "source": [
        "rmdir white"
      ],
      "metadata": {
        "colab": {
          "base_uri": "https://localhost:8080/"
        },
        "id": "QZCzpSeVk3vw",
        "outputId": "000b631c-8d80-4272-97f9-8e6ee048d8a4"
      },
      "execution_count": 25,
      "outputs": [
        {
          "output_type": "stream",
          "name": "stdout",
          "text": [
            "rmdir: failed to remove 'white': Directory not empty\n"
          ]
        }
      ]
    },
    {
      "cell_type": "code",
      "source": [
        "cd white"
      ],
      "metadata": {
        "colab": {
          "base_uri": "https://localhost:8080/"
        },
        "id": "E0MfT7DUk75x",
        "outputId": "2b79bbd3-b265-4e2b-e7fa-795f7fa32fbd"
      },
      "execution_count": 26,
      "outputs": [
        {
          "output_type": "stream",
          "name": "stdout",
          "text": [
            "/content/linux/red/white\n"
          ]
        }
      ]
    },
    {
      "cell_type": "code",
      "source": [
        "rm my.txt"
      ],
      "metadata": {
        "id": "8ZmUwRcNk_WO"
      },
      "execution_count": 27,
      "outputs": []
    },
    {
      "cell_type": "code",
      "source": [
        "ls #white 디렉토리 사라짐"
      ],
      "metadata": {
        "id": "3VXIi5_1lCiA"
      },
      "execution_count": 28,
      "outputs": []
    },
    {
      "cell_type": "code",
      "source": [
        "mkdir white"
      ],
      "metadata": {
        "id": "6IRf9tjAlPM2"
      },
      "execution_count": 29,
      "outputs": []
    },
    {
      "cell_type": "code",
      "source": [
        "pwd"
      ],
      "metadata": {
        "colab": {
          "base_uri": "https://localhost:8080/",
          "height": 35
        },
        "id": "VrEspeefllGt",
        "outputId": "eb2948ac-3028-419c-f98d-24db80fafe58"
      },
      "execution_count": 32,
      "outputs": [
        {
          "output_type": "execute_result",
          "data": {
            "text/plain": [
              "'/content/linux/red/white/white'"
            ],
            "application/vnd.google.colaboratory.intrinsic+json": {
              "type": "string"
            }
          },
          "metadata": {},
          "execution_count": 32
        }
      ]
    },
    {
      "cell_type": "code",
      "source": [
        "cd /content/linux/red/white/white"
      ],
      "metadata": {
        "colab": {
          "base_uri": "https://localhost:8080/"
        },
        "id": "8QO-mBETlaZs",
        "outputId": "df7b242d-ffe3-4ddf-e387-a6629e2756c4"
      },
      "execution_count": 39,
      "outputs": [
        {
          "output_type": "stream",
          "name": "stdout",
          "text": [
            "/content/linux/red/white/white\n"
          ]
        }
      ]
    },
    {
      "cell_type": "code",
      "source": [
        "!touch my.txt"
      ],
      "metadata": {
        "id": "n07WkDgWldpB"
      },
      "execution_count": 42,
      "outputs": []
    },
    {
      "cell_type": "code",
      "source": [
        "ls -al"
      ],
      "metadata": {
        "colab": {
          "base_uri": "https://localhost:8080/"
        },
        "id": "FjUhzA3mmPNl",
        "outputId": "a23eed88-425d-4ba3-b5af-4d203f4cebb9"
      },
      "execution_count": 43,
      "outputs": [
        {
          "output_type": "stream",
          "name": "stdout",
          "text": [
            "total 8\n",
            "drwxr-xr-x 2 root root 4096 Oct  5 06:49 \u001b[0m\u001b[01;34m.\u001b[0m/\n",
            "drwxr-xr-x 3 root root 4096 Oct  5 06:45 \u001b[01;34m..\u001b[0m/\n",
            "-rw-r--r-- 1 root root    0 Oct  5 06:49 my.txt\n"
          ]
        }
      ]
    },
    {
      "cell_type": "code",
      "source": [
        "cd .."
      ],
      "metadata": {
        "colab": {
          "base_uri": "https://localhost:8080/"
        },
        "id": "LFzXed0ImTfh",
        "outputId": "3f329814-319f-4ca9-f445-d4c2dab73c81"
      },
      "execution_count": 44,
      "outputs": [
        {
          "output_type": "stream",
          "name": "stdout",
          "text": [
            "/content/linux/red/white\n"
          ]
        }
      ]
    },
    {
      "cell_type": "code",
      "source": [
        "ls"
      ],
      "metadata": {
        "colab": {
          "base_uri": "https://localhost:8080/"
        },
        "id": "0nr2Mk4gmWpP",
        "outputId": "c98ab1e6-61f8-45da-b146-5665433c3b57"
      },
      "execution_count": 45,
      "outputs": [
        {
          "output_type": "stream",
          "name": "stdout",
          "text": [
            "\u001b[0m\u001b[01;34mwhite\u001b[0m/\n"
          ]
        }
      ]
    },
    {
      "cell_type": "code",
      "source": [
        "rm -rf white #디렉토리랑 안에 텍스트파일 다 사라짐"
      ],
      "metadata": {
        "id": "NoeKyXbimXph"
      },
      "execution_count": 46,
      "outputs": []
    },
    {
      "cell_type": "code",
      "source": [
        "ls"
      ],
      "metadata": {
        "id": "OYBqVlLAmr81"
      },
      "execution_count": 47,
      "outputs": []
    },
    {
      "cell_type": "code",
      "source": [
        "pwd"
      ],
      "metadata": {
        "colab": {
          "base_uri": "https://localhost:8080/",
          "height": 35
        },
        "id": "xHYoCdlVms1y",
        "outputId": "35d27a97-0b27-4d10-a892-097b6bb79ba1"
      },
      "execution_count": 48,
      "outputs": [
        {
          "output_type": "execute_result",
          "data": {
            "text/plain": [
              "'/content/linux/red/white'"
            ],
            "application/vnd.google.colaboratory.intrinsic+json": {
              "type": "string"
            }
          },
          "metadata": {},
          "execution_count": 48
        }
      ]
    },
    {
      "cell_type": "code",
      "source": [
        "clear #화면정리"
      ],
      "metadata": {
        "colab": {
          "base_uri": "https://localhost:8080/"
        },
        "id": "CnQVVra1mt7Z",
        "outputId": "d9eee890-44b8-4d4d-ac55-0ce04c98a91d"
      },
      "execution_count": 49,
      "outputs": [
        {
          "output_type": "stream",
          "name": "stdout",
          "text": [
            "\u001b[H\u001b[2J"
          ]
        }
      ]
    },
    {
      "cell_type": "code",
      "source": [
        "cd .."
      ],
      "metadata": {
        "colab": {
          "base_uri": "https://localhost:8080/"
        },
        "id": "hfv9xHvWm5CZ",
        "outputId": "4f22e7d8-43a8-448c-b6a1-222661a9ae40"
      },
      "execution_count": 51,
      "outputs": [
        {
          "output_type": "stream",
          "name": "stdout",
          "text": [
            "/content/linux/red\n"
          ]
        }
      ]
    },
    {
      "cell_type": "code",
      "source": [
        "cd .."
      ],
      "metadata": {
        "colab": {
          "base_uri": "https://localhost:8080/"
        },
        "id": "o2bA92uInHZ3",
        "outputId": "4f6ea1ed-cc91-4331-a4ed-34efe8164444"
      },
      "execution_count": 52,
      "outputs": [
        {
          "output_type": "stream",
          "name": "stdout",
          "text": [
            "/content/linux\n"
          ]
        }
      ]
    },
    {
      "cell_type": "code",
      "source": [
        "mkdir white"
      ],
      "metadata": {
        "id": "16QKjAavnJyU"
      },
      "execution_count": 53,
      "outputs": []
    },
    {
      "cell_type": "code",
      "source": [
        "!touch /content/linux/white/my.txt"
      ],
      "metadata": {
        "id": "z8RBExiwoWGg"
      },
      "execution_count": 56,
      "outputs": []
    },
    {
      "cell_type": "code",
      "source": [
        "pwd"
      ],
      "metadata": {
        "colab": {
          "base_uri": "https://localhost:8080/",
          "height": 35
        },
        "id": "2Tm0BeN5ot4K",
        "outputId": "d3109789-e774-47e7-b566-4abd2cbe37a8"
      },
      "execution_count": 59,
      "outputs": [
        {
          "output_type": "execute_result",
          "data": {
            "text/plain": [
              "'/content/linux'"
            ],
            "application/vnd.google.colaboratory.intrinsic+json": {
              "type": "string"
            }
          },
          "metadata": {},
          "execution_count": 59
        }
      ]
    },
    {
      "cell_type": "code",
      "source": [
        "ls"
      ],
      "metadata": {
        "colab": {
          "base_uri": "https://localhost:8080/"
        },
        "id": "dPztWljfoZTJ",
        "outputId": "8a6d5c2b-7c11-41d2-e6a3-508283938791"
      },
      "execution_count": 57,
      "outputs": [
        {
          "output_type": "stream",
          "name": "stdout",
          "text": [
            "\u001b[0m\u001b[01;34mblue\u001b[0m/  \u001b[01;34mgreen\u001b[0m/  \u001b[01;34mred\u001b[0m/  \u001b[01;34mwhite\u001b[0m/\n"
          ]
        }
      ]
    },
    {
      "cell_type": "code",
      "source": [
        "cd white"
      ],
      "metadata": {
        "colab": {
          "base_uri": "https://localhost:8080/"
        },
        "id": "Rl5Fo_l0oxW_",
        "outputId": "f0135a4e-0579-4d24-a505-a0742fd53656"
      },
      "execution_count": 60,
      "outputs": [
        {
          "output_type": "stream",
          "name": "stdout",
          "text": [
            "/content/linux/white\n"
          ]
        }
      ]
    },
    {
      "cell_type": "code",
      "source": [
        "ls"
      ],
      "metadata": {
        "colab": {
          "base_uri": "https://localhost:8080/"
        },
        "id": "xUhTRVbBoy74",
        "outputId": "d8ec7c32-4a07-4fc3-b7ab-3f22c10e85ed"
      },
      "execution_count": 61,
      "outputs": [
        {
          "output_type": "stream",
          "name": "stdout",
          "text": [
            "my.txt\n"
          ]
        }
      ]
    },
    {
      "cell_type": "code",
      "source": [
        "cp my.txt /content/linux/green/"
      ],
      "metadata": {
        "id": "23gNHr1Tog0-"
      },
      "execution_count": 62,
      "outputs": []
    },
    {
      "cell_type": "code",
      "source": [
        "ls -al /content/linux/green/"
      ],
      "metadata": {
        "colab": {
          "base_uri": "https://localhost:8080/"
        },
        "id": "-St2YYUlorTz",
        "outputId": "5b61ec23-7458-4cf0-8496-3cbfb95ecbe3"
      },
      "execution_count": 63,
      "outputs": [
        {
          "output_type": "stream",
          "name": "stdout",
          "text": [
            "total 8\n",
            "drwxr-xr-x 2 root root 4096 Oct  5 07:00 \u001b[0m\u001b[01;34m.\u001b[0m/\n",
            "drwxr-xr-x 6 root root 4096 Oct  5 06:58 \u001b[01;34m..\u001b[0m/\n",
            "-rw-r--r-- 1 root root    0 Oct  5 07:00 my.txt\n"
          ]
        }
      ]
    },
    {
      "cell_type": "code",
      "source": [
        "ls"
      ],
      "metadata": {
        "colab": {
          "base_uri": "https://localhost:8080/"
        },
        "id": "hTN-Snaio5w0",
        "outputId": "0f645876-cdfd-4ce4-fdc7-d2ce21c35f7f"
      },
      "execution_count": 64,
      "outputs": [
        {
          "output_type": "stream",
          "name": "stdout",
          "text": [
            "my.txt\n"
          ]
        }
      ]
    },
    {
      "cell_type": "code",
      "source": [
        "cat > date.x"
      ],
      "metadata": {
        "colab": {
          "base_uri": "https://localhost:8080/"
        },
        "id": "3p5mYcCPpisL",
        "outputId": "6dec9a09-81ab-4a87-c22f-84e96050ae5d"
      },
      "execution_count": 65,
      "outputs": [
        {
          "output_type": "stream",
          "name": "stdout",
          "text": [
            "^C\n"
          ]
        }
      ]
    },
    {
      "cell_type": "code",
      "source": [
        "ls -al #date.x가 실행권한만 가능"
      ],
      "metadata": {
        "colab": {
          "base_uri": "https://localhost:8080/"
        },
        "id": "9GMqJnb4p0VN",
        "outputId": "7750d3bf-22bd-4f4f-fdc7-07774c14d705"
      },
      "execution_count": 68,
      "outputs": [
        {
          "output_type": "stream",
          "name": "stdout",
          "text": [
            "total 8\n",
            "drwxr-xr-x 2 root root 4096 Oct  5 07:04 \u001b[0m\u001b[01;34m.\u001b[0m/\n",
            "drwxr-xr-x 6 root root 4096 Oct  5 06:58 \u001b[01;34m..\u001b[0m/\n",
            "-rw-r--r-- 1 root root    0 Oct  5 07:04 date.x\n",
            "-rw-r--r-- 1 root root    0 Oct  5 06:59 my.txt\n"
          ]
        }
      ]
    },
    {
      "cell_type": "code",
      "source": [
        "cat date.x"
      ],
      "metadata": {
        "id": "RjmVMsAgqm-2"
      },
      "execution_count": 69,
      "outputs": []
    },
    {
      "cell_type": "code",
      "source": [
        "!chmod u+x date.x"
      ],
      "metadata": {
        "id": "W6gJCa93qsMX"
      },
      "execution_count": 73,
      "outputs": []
    },
    {
      "cell_type": "code",
      "source": [
        "ls -al #xr이생겨 실행도 이제 가능"
      ],
      "metadata": {
        "colab": {
          "base_uri": "https://localhost:8080/"
        },
        "id": "ptXICzqnqt1r",
        "outputId": "9a2b6bc2-0446-4b3f-8fe3-2f3ea235aa1c"
      },
      "execution_count": 74,
      "outputs": [
        {
          "output_type": "stream",
          "name": "stdout",
          "text": [
            "total 8\n",
            "drwxr-xr-x 2 root root 4096 Oct  5 07:04 \u001b[0m\u001b[01;34m.\u001b[0m/\n",
            "drwxr-xr-x 6 root root 4096 Oct  5 06:58 \u001b[01;34m..\u001b[0m/\n",
            "-rwxr--r-- 1 root root    0 Oct  5 07:04 \u001b[01;32mdate.x\u001b[0m*\n",
            "-rw-r--r-- 1 root root    0 Oct  5 06:59 my.txt\n"
          ]
        }
      ]
    },
    {
      "cell_type": "code",
      "source": [
        "! ./date.x -#실행되서 시간이 나옴"
      ],
      "metadata": {
        "id": "pjif4ZuWsFVe"
      },
      "execution_count": 77,
      "outputs": []
    }
  ]
}